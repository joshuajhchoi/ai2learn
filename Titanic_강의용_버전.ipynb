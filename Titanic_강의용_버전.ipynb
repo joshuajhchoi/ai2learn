{
  "nbformat": 4,
  "nbformat_minor": 0,
  "metadata": {
    "colab": {
      "name": "Titanic 강의용 버전",
      "provenance": [],
      "collapsed_sections": [],
      "include_colab_link": true
    },
    "kernelspec": {
      "name": "python3",
      "display_name": "Python 3"
    }
  },
  "cells": [
    {
      "cell_type": "markdown",
      "metadata": {
        "id": "view-in-github",
        "colab_type": "text"
      },
      "source": [
        "<a href=\"https://colab.research.google.com/github/joshuajhchoi/ai2learn/blob/master/Titanic_%EA%B0%95%EC%9D%98%EC%9A%A9_%EB%B2%84%EC%A0%84.ipynb\" target=\"_parent\"><img src=\"https://colab.research.google.com/assets/colab-badge.svg\" alt=\"Open In Colab\"/></a>"
      ]
    },
    {
      "cell_type": "markdown",
      "metadata": {
        "id": "ByYqGs_gTwFs",
        "colab_type": "text"
      },
      "source": [
        "# Kaggle Titanic 입문 (머신러닝 입문)"
      ]
    },
    {
      "cell_type": "markdown",
      "metadata": {
        "id": "tIFPntCfT3Es",
        "colab_type": "text"
      },
      "source": [
        "타이타닉 EDA to Prediction\n",
        "\n",
        "* 타이타닉 챌린지는 나이, 성별 또는 승객 클래스와 같은 변수를 기반으로 주어진 승객의 생존 또는 사망을 예측하는 경쟁입니다.\n",
        "* 앞에서 사이킷런을 공부하기 위해 같은 샘플을 해보았습니다.\n",
        "* 사이킷 런 기반으로 분석을 해보겠습니다.\n",
        "\n"
      ]
    },
    {
      "cell_type": "markdown",
      "metadata": {
        "id": "VqmvJPQVmn4N",
        "colab_type": "text"
      },
      "source": [
        "사이킷런 (sklearn이라고도 부름) 은 무료 소프트웨어로 파이썬 프로그래밍 언어를 위한 머신러닝 라이브러리이다.\n",
        "Classification, Regression, Clustering, Descision Tree 등의 다양한 알고리즘을 적용할 수 있는 함수들을 제공하며 현재도 수 많은 알고리즘이 추가적으로 제공되고 있습니다.\n",
        "사이킷런 자체 샘플 데이터도 있고, UC Irvine 에서 제공하는 데이터도 있습니다. 우리는 캐글대회의 기본인 타이타닉으로 작업을 하며 이해를 하겠습니다."
      ]
    },
    {
      "cell_type": "markdown",
      "metadata": {
        "id": "KS9nhWJikWO3",
        "colab_type": "text"
      },
      "source": [
        "##목차\n",
        "\n",
        "#### Part1: Exploratory Data Analysis(EDA):\n",
        "* 내용 분석​\n",
        "* 여러 기능을 고려한 관계 또는 경향 찾기\n",
        "\n",
        "#### Part2: Feature Engineering and Data Cleaning:\n",
        "* 몇 가지 항목 추가\n",
        "* 중복 항목 제거\n",
        "* 모델링에 적합한 형상으로 항목 변환\n",
        "\n",
        "#### Part3: Predictive Modeling\n",
        "* 기본 알고리즘 실행\n",
        "* 교차 검증\n",
        "* 앙상블\n",
        "* 중요 항목 추출\n"
      ]
    },
    {
      "cell_type": "markdown",
      "metadata": {
        "id": "mWXkBUVgkdgr",
        "colab_type": "text"
      },
      "source": [
        "# Part1: Exploratory Data Analysis(EDA)\n",
        "\n",
        "## Task 1 - 시작하기\n",
        "\n",
        "* 자료 다운로드하기\n",
        "[자료 다운로드](https://www.kaggle.com/c/3136/download-all)\n",
        "\n",
        "으로 가서 파일을 다운로드 한다. (Kaggle note에서 할 때는 불러 오는 것이 좀 더 단순하나 주피터 노트북에서 할 때는 다운로드 및 임포트를 해야한다.)\n",
        "\n",
        "* 필요한 것들을 임포트 좀 해야겠죠.\n",
        "\n",
        "* math, time, random, datetime 등의 모듈을 임포트합니다.\n"
      ]
    },
    {
      "cell_type": "code",
      "metadata": {
        "id": "K1l3G1LNkoW0",
        "colab_type": "code",
        "colab": {}
      },
      "source": [
        "import math, time, random, datetime"
      ],
      "execution_count": 0,
      "outputs": []
    },
    {
      "cell_type": "markdown",
      "metadata": {
        "id": "HinuUv0rktYr",
        "colab_type": "text"
      },
      "source": [
        "* 다음에는 데이터를 처리할 라이브러리를 임포트합니다."
      ]
    },
    {
      "cell_type": "code",
      "metadata": {
        "id": "vddhno9KkwCY",
        "colab_type": "code",
        "colab": {}
      },
      "source": [
        "import numpy as np\n",
        "import pandas as pd"
      ],
      "execution_count": 0,
      "outputs": []
    },
    {
      "cell_type": "markdown",
      "metadata": {
        "id": "FhEKl3Nykzjn",
        "colab_type": "text"
      },
      "source": [
        "* 그 다음은 비쥬얼라이제이션을 할 것을 import 합니다."
      ]
    },
    {
      "cell_type": "code",
      "metadata": {
        "id": "ZlmXa56xk23h",
        "colab_type": "code",
        "colab": {}
      },
      "source": [
        "import matplotlib.pyplot as plt\n",
        "import missingno\n",
        "import seaborn as sns\n",
        "plt.style.use('seaborn-whitegrid')"
      ],
      "execution_count": 0,
      "outputs": []
    },
    {
      "cell_type": "markdown",
      "metadata": {
        "id": "bJ2o8oyfk8UA",
        "colab_type": "text"
      },
      "source": [
        "* matplolib의 pyplot은 이미 익숙하실 것이다.\n",
        "* missingno 패키지는 누락데이터에 대한 시각화를 쉽게 할 수 있다. matrix()명령은 매트리스 형태로 누락데이터를 시각화하는 명령이다. 즉, 몽땅 까맣게 나오면 해당 열의 데이터가 다 있다는 이야기이고, 중간에 흰 것들이 나오면 이는 빈칸이 많다는 것을 보여준다.\n",
        "* plt.style.use('seaborn-whitegrid')은 matplotlib에서 seaborn whitegrid 모양의 플롯을 쓰겠다는 것이다. 자체적 뿐만 아니라 R에서 널리 사용되는 ggplot 같은 것도 사용할 수 있다.\n",
        "* 아래 %matplotlib inline의 역할은 주피터 노트북을 실행한 브라우저에서 바로 그림을 볼 수 있게 해주는 역할을 합니다. 이 라인을 넣지 않으면 그래프 등을 못 보실 수 도 있습니다."
      ]
    },
    {
      "cell_type": "code",
      "metadata": {
        "id": "-ICXbQttlBpE",
        "colab_type": "code",
        "colab": {}
      },
      "source": [
        "%matplotlib inline"
      ],
      "execution_count": 0,
      "outputs": []
    },
    {
      "cell_type": "markdown",
      "metadata": {
        "id": "Ue5p2jpLlHlH",
        "colab_type": "text"
      },
      "source": [
        "* 자 이제는 프리 프로세싱을 하는 모듈 들을 sklearn에서 불러온다"
      ]
    },
    {
      "cell_type": "code",
      "metadata": {
        "id": "4F8cmzaBlEb6",
        "colab_type": "code",
        "colab": {}
      },
      "source": [
        "from sklearn.preprocessing import OneHotEncoder, LabelEncoder, label_binarize"
      ],
      "execution_count": 0,
      "outputs": []
    },
    {
      "cell_type": "markdown",
      "metadata": {
        "id": "I9qYrmjKlPFe",
        "colab_type": "text"
      },
      "source": [
        "* OneHotEncoder는 범주형 변수를 바이너리화 하는 모듈이다.\n",
        "* Label Encoder는 문자형 라벨을 정수형으로 바꾸어 주는 모듈이다.\n",
        "* labelbinarize는 라벨을 바이너리로 바꾸어 주는 모듈이다."
      ]
    },
    {
      "cell_type": "markdown",
      "metadata": {
        "id": "AzwmIDM5lLHV",
        "colab_type": "text"
      },
      "source": [
        "* 이어서 머신러닝하는 알고리즘을 불러온다.\n",
        "* 하나만 사용하는 것이 아니라 아주 여러 가지를 경험해 본다."
      ]
    },
    {
      "cell_type": "code",
      "metadata": {
        "id": "BlCQAXV7lS2y",
        "colab_type": "code",
        "colab": {}
      },
      "source": [
        "from sklearn.model_selection import train_test_split\n",
        "from sklearn import model_selection, tree, preprocessing, metrics, linear_model\n",
        "from sklearn.svm import LinearSVC\n",
        "from sklearn.ensemble import GradientBoostingClassifier\n",
        "from sklearn.neighbors import KNeighborsClassifier\n",
        "from sklearn.naive_bayes import GaussianNB\n",
        "from sklearn.linear_model import LinearRegression, LogisticRegression, SGDClassifier\n",
        "from sklearn.tree import DecisionTreeClassifier"
      ],
      "execution_count": 0,
      "outputs": []
    },
    {
      "cell_type": "markdown",
      "metadata": {
        "id": "UAfzgRuaxGzJ",
        "colab_type": "text"
      },
      "source": [
        "* sklearn의 model_selection에서 데이터 분할을 위한 train_test_split 함수를 불러온다. 데이터 집합을 train과 test용으로 나누어 train을 사용하여 회귀분석 모형을 만들고 test 데이터로 성능을 계산하는 방법이다. \n",
        "* model_slection은 에스티메이터 및 매개 변수 선택, tree는 트리구조 생성, metricspreprocessing은 전처리, metric는 측정, linear_model은 선형모델을 만듭니다.\n",
        "* LinearSVC는 Linear Support Vector Classification으로 고밀도 및 희소 입력을 모두 지원하며 멀티 클래스 지원은 일대일 구성표에 따라 처리한다.\n",
        "* Gradient Boosting for classifier는 단계별로 추가적 모델을 만듭니다. 임의의 차별화 가능한 손실 함수를 최적화 할 수 있습니다.\n",
        "* KNeighborsClassifier는 앙상블에 사용되며 임의의 서브셋의 50% 샘플과 50% 항목을 합하여 평가하는 일을 합니다.\n",
        "* GaussianNB는 확률을 보정해주는 일을 합니다.\n",
        "* LinearRegression 선형 회귀분석, LogisticRegression은 논리 회귀 분석, SGDClassifier는 정확성을 높여주는 것에 쓰입니다.\n",
        "* DecisionTreeClassifier는 멀티플 평가에 쓰입니다. "
      ]
    },
    {
      "cell_type": "markdown",
      "metadata": {
        "id": "hCf_xAHYlU_F",
        "colab_type": "text"
      },
      "source": [
        "* 마지막으로 warning 안 나오게 (Pandas가 경고를 수시로 던지기도 합니다.)"
      ]
    },
    {
      "cell_type": "code",
      "metadata": {
        "id": "yqPr8Z1mlcfc",
        "colab_type": "code",
        "colab": {}
      },
      "source": [
        "import warnings\n",
        "warnings.filterwarnings('ignore')"
      ],
      "execution_count": 0,
      "outputs": []
    },
    {
      "cell_type": "markdown",
      "metadata": {
        "id": "gDtpthBilkP_",
        "colab_type": "text"
      },
      "source": [
        "## Task 2 - 파일보기\n",
        "\n",
        "* 파일을 보겠습니다.\n",
        "\n",
        "* Kaggle에서는 우측의 Data에 가셔서 input 에서 원하는 파일을 보세요"
      ]
    },
    {
      "cell_type": "markdown",
      "metadata": {
        "id": "uzAJhxdlxb4g",
        "colab_type": "text"
      },
      "source": [
        "* 다운로드한 파일을 업로드하여 임포트 합니다."
      ]
    },
    {
      "cell_type": "code",
      "metadata": {
        "id": "SW_m6L4Hxf9o",
        "colab_type": "code",
        "colab": {
          "resources": {
            "http://localhost:8080/nbextensions/google.colab/files.js": {
              "data": "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",
              "ok": true,
              "headers": [
                [
                  "content-type",
                  "application/javascript"
                ]
              ],
              "status": 200,
              "status_text": ""
            }
          },
          "base_uri": "https://localhost:8080/",
          "height": 145
        },
        "outputId": "0f173199-62d6-4d5f-e41f-e85ebef54ad7"
      },
      "source": [
        "from google.colab import files\n",
        "uploaded = files.upload()"
      ],
      "execution_count": 10,
      "outputs": [
        {
          "output_type": "display_data",
          "data": {
            "text/html": [
              "\n",
              "     <input type=\"file\" id=\"files-052854b9-afe0-408a-af12-e5020a5d0b71\" name=\"files[]\" multiple disabled />\n",
              "     <output id=\"result-052854b9-afe0-408a-af12-e5020a5d0b71\">\n",
              "      Upload widget is only available when the cell has been executed in the\n",
              "      current browser session. Please rerun this cell to enable.\n",
              "      </output>\n",
              "      <script src=\"/nbextensions/google.colab/files.js\"></script> "
            ],
            "text/plain": [
              "<IPython.core.display.HTML object>"
            ]
          },
          "metadata": {
            "tags": []
          }
        },
        {
          "output_type": "stream",
          "text": [
            "Saving gender_submission.csv to gender_submission.csv\n",
            "Saving test.csv to test.csv\n",
            "Saving train.csv to train.csv\n"
          ],
          "name": "stdout"
        }
      ]
    },
    {
      "cell_type": "markdown",
      "metadata": {
        "id": "lnQM6Gf4xoF4",
        "colab_type": "text"
      },
      "source": [
        "* 이어서 이를 데이터프레임에 임포트하여 데이터셋이 판다스 데이터프레임에 임포트 되도록 합니다."
      ]
    },
    {
      "cell_type": "code",
      "metadata": {
        "id": "TzMRV0osxsXY",
        "colab_type": "code",
        "colab": {}
      },
      "source": [
        "import io\n",
        "test = pd.read_csv(io.BytesIO(uploaded['test.csv']))\n",
        "train = pd.read_csv(io.BytesIO(uploaded['train.csv']))\n",
        "gender_submission = pd.read_csv(io.BytesIO(uploaded['gender_submission.csv']))"
      ],
      "execution_count": 0,
      "outputs": []
    },
    {
      "cell_type": "markdown",
      "metadata": {
        "id": "9QItGc_1xx5W",
        "colab_type": "text"
      },
      "source": [
        "우리가 기계를 훈련시킬 트레인 파일을 한 번 보도록 하겠습니다."
      ]
    },
    {
      "cell_type": "code",
      "metadata": {
        "id": "8barQrl8x1HR",
        "colab_type": "code",
        "colab": {
          "base_uri": "https://localhost:8080/",
          "height": 197
        },
        "outputId": "989ac430-8988-43c2-b558-552ce8079626"
      },
      "source": [
        "train.head()"
      ],
      "execution_count": 12,
      "outputs": [
        {
          "output_type": "execute_result",
          "data": {
            "text/html": [
              "<div>\n",
              "<style scoped>\n",
              "    .dataframe tbody tr th:only-of-type {\n",
              "        vertical-align: middle;\n",
              "    }\n",
              "\n",
              "    .dataframe tbody tr th {\n",
              "        vertical-align: top;\n",
              "    }\n",
              "\n",
              "    .dataframe thead th {\n",
              "        text-align: right;\n",
              "    }\n",
              "</style>\n",
              "<table border=\"1\" class=\"dataframe\">\n",
              "  <thead>\n",
              "    <tr style=\"text-align: right;\">\n",
              "      <th></th>\n",
              "      <th>PassengerId</th>\n",
              "      <th>Survived</th>\n",
              "      <th>Pclass</th>\n",
              "      <th>Name</th>\n",
              "      <th>Sex</th>\n",
              "      <th>Age</th>\n",
              "      <th>SibSp</th>\n",
              "      <th>Parch</th>\n",
              "      <th>Ticket</th>\n",
              "      <th>Fare</th>\n",
              "      <th>Cabin</th>\n",
              "      <th>Embarked</th>\n",
              "    </tr>\n",
              "  </thead>\n",
              "  <tbody>\n",
              "    <tr>\n",
              "      <th>0</th>\n",
              "      <td>1</td>\n",
              "      <td>0</td>\n",
              "      <td>3</td>\n",
              "      <td>Braund, Mr. Owen Harris</td>\n",
              "      <td>male</td>\n",
              "      <td>22.0</td>\n",
              "      <td>1</td>\n",
              "      <td>0</td>\n",
              "      <td>A/5 21171</td>\n",
              "      <td>7.2500</td>\n",
              "      <td>NaN</td>\n",
              "      <td>S</td>\n",
              "    </tr>\n",
              "    <tr>\n",
              "      <th>1</th>\n",
              "      <td>2</td>\n",
              "      <td>1</td>\n",
              "      <td>1</td>\n",
              "      <td>Cumings, Mrs. John Bradley (Florence Briggs Th...</td>\n",
              "      <td>female</td>\n",
              "      <td>38.0</td>\n",
              "      <td>1</td>\n",
              "      <td>0</td>\n",
              "      <td>PC 17599</td>\n",
              "      <td>71.2833</td>\n",
              "      <td>C85</td>\n",
              "      <td>C</td>\n",
              "    </tr>\n",
              "    <tr>\n",
              "      <th>2</th>\n",
              "      <td>3</td>\n",
              "      <td>1</td>\n",
              "      <td>3</td>\n",
              "      <td>Heikkinen, Miss. Laina</td>\n",
              "      <td>female</td>\n",
              "      <td>26.0</td>\n",
              "      <td>0</td>\n",
              "      <td>0</td>\n",
              "      <td>STON/O2. 3101282</td>\n",
              "      <td>7.9250</td>\n",
              "      <td>NaN</td>\n",
              "      <td>S</td>\n",
              "    </tr>\n",
              "    <tr>\n",
              "      <th>3</th>\n",
              "      <td>4</td>\n",
              "      <td>1</td>\n",
              "      <td>1</td>\n",
              "      <td>Futrelle, Mrs. Jacques Heath (Lily May Peel)</td>\n",
              "      <td>female</td>\n",
              "      <td>35.0</td>\n",
              "      <td>1</td>\n",
              "      <td>0</td>\n",
              "      <td>113803</td>\n",
              "      <td>53.1000</td>\n",
              "      <td>C123</td>\n",
              "      <td>S</td>\n",
              "    </tr>\n",
              "    <tr>\n",
              "      <th>4</th>\n",
              "      <td>5</td>\n",
              "      <td>0</td>\n",
              "      <td>3</td>\n",
              "      <td>Allen, Mr. William Henry</td>\n",
              "      <td>male</td>\n",
              "      <td>35.0</td>\n",
              "      <td>0</td>\n",
              "      <td>0</td>\n",
              "      <td>373450</td>\n",
              "      <td>8.0500</td>\n",
              "      <td>NaN</td>\n",
              "      <td>S</td>\n",
              "    </tr>\n",
              "  </tbody>\n",
              "</table>\n",
              "</div>"
            ],
            "text/plain": [
              "   PassengerId  Survived  Pclass  ...     Fare Cabin  Embarked\n",
              "0            1         0       3  ...   7.2500   NaN         S\n",
              "1            2         1       1  ...  71.2833   C85         C\n",
              "2            3         1       3  ...   7.9250   NaN         S\n",
              "3            4         1       1  ...  53.1000  C123         S\n",
              "4            5         0       3  ...   8.0500   NaN         S\n",
              "\n",
              "[5 rows x 12 columns]"
            ]
          },
          "metadata": {
            "tags": []
          },
          "execution_count": 12
        }
      ]
    },
    {
      "cell_type": "markdown",
      "metadata": {
        "id": "AzT6qP3fx70g",
        "colab_type": "text"
      },
      "source": [
        "* 우리가 나중에 최종 시험 볼 대상인 test 파일을 보겠습니다."
      ]
    },
    {
      "cell_type": "code",
      "metadata": {
        "id": "w3aFkDPbx-OD",
        "colab_type": "code",
        "colab": {
          "base_uri": "https://localhost:8080/",
          "height": 197
        },
        "outputId": "14023f9b-2745-42f5-b37d-d43bcba71b55"
      },
      "source": [
        "test.head()"
      ],
      "execution_count": 13,
      "outputs": [
        {
          "output_type": "execute_result",
          "data": {
            "text/html": [
              "<div>\n",
              "<style scoped>\n",
              "    .dataframe tbody tr th:only-of-type {\n",
              "        vertical-align: middle;\n",
              "    }\n",
              "\n",
              "    .dataframe tbody tr th {\n",
              "        vertical-align: top;\n",
              "    }\n",
              "\n",
              "    .dataframe thead th {\n",
              "        text-align: right;\n",
              "    }\n",
              "</style>\n",
              "<table border=\"1\" class=\"dataframe\">\n",
              "  <thead>\n",
              "    <tr style=\"text-align: right;\">\n",
              "      <th></th>\n",
              "      <th>PassengerId</th>\n",
              "      <th>Pclass</th>\n",
              "      <th>Name</th>\n",
              "      <th>Sex</th>\n",
              "      <th>Age</th>\n",
              "      <th>SibSp</th>\n",
              "      <th>Parch</th>\n",
              "      <th>Ticket</th>\n",
              "      <th>Fare</th>\n",
              "      <th>Cabin</th>\n",
              "      <th>Embarked</th>\n",
              "    </tr>\n",
              "  </thead>\n",
              "  <tbody>\n",
              "    <tr>\n",
              "      <th>0</th>\n",
              "      <td>892</td>\n",
              "      <td>3</td>\n",
              "      <td>Kelly, Mr. James</td>\n",
              "      <td>male</td>\n",
              "      <td>34.5</td>\n",
              "      <td>0</td>\n",
              "      <td>0</td>\n",
              "      <td>330911</td>\n",
              "      <td>7.8292</td>\n",
              "      <td>NaN</td>\n",
              "      <td>Q</td>\n",
              "    </tr>\n",
              "    <tr>\n",
              "      <th>1</th>\n",
              "      <td>893</td>\n",
              "      <td>3</td>\n",
              "      <td>Wilkes, Mrs. James (Ellen Needs)</td>\n",
              "      <td>female</td>\n",
              "      <td>47.0</td>\n",
              "      <td>1</td>\n",
              "      <td>0</td>\n",
              "      <td>363272</td>\n",
              "      <td>7.0000</td>\n",
              "      <td>NaN</td>\n",
              "      <td>S</td>\n",
              "    </tr>\n",
              "    <tr>\n",
              "      <th>2</th>\n",
              "      <td>894</td>\n",
              "      <td>2</td>\n",
              "      <td>Myles, Mr. Thomas Francis</td>\n",
              "      <td>male</td>\n",
              "      <td>62.0</td>\n",
              "      <td>0</td>\n",
              "      <td>0</td>\n",
              "      <td>240276</td>\n",
              "      <td>9.6875</td>\n",
              "      <td>NaN</td>\n",
              "      <td>Q</td>\n",
              "    </tr>\n",
              "    <tr>\n",
              "      <th>3</th>\n",
              "      <td>895</td>\n",
              "      <td>3</td>\n",
              "      <td>Wirz, Mr. Albert</td>\n",
              "      <td>male</td>\n",
              "      <td>27.0</td>\n",
              "      <td>0</td>\n",
              "      <td>0</td>\n",
              "      <td>315154</td>\n",
              "      <td>8.6625</td>\n",
              "      <td>NaN</td>\n",
              "      <td>S</td>\n",
              "    </tr>\n",
              "    <tr>\n",
              "      <th>4</th>\n",
              "      <td>896</td>\n",
              "      <td>3</td>\n",
              "      <td>Hirvonen, Mrs. Alexander (Helga E Lindqvist)</td>\n",
              "      <td>female</td>\n",
              "      <td>22.0</td>\n",
              "      <td>1</td>\n",
              "      <td>1</td>\n",
              "      <td>3101298</td>\n",
              "      <td>12.2875</td>\n",
              "      <td>NaN</td>\n",
              "      <td>S</td>\n",
              "    </tr>\n",
              "  </tbody>\n",
              "</table>\n",
              "</div>"
            ],
            "text/plain": [
              "   PassengerId  Pclass  ... Cabin Embarked\n",
              "0          892       3  ...   NaN        Q\n",
              "1          893       3  ...   NaN        S\n",
              "2          894       2  ...   NaN        Q\n",
              "3          895       3  ...   NaN        S\n",
              "4          896       3  ...   NaN        S\n",
              "\n",
              "[5 rows x 11 columns]"
            ]
          },
          "metadata": {
            "tags": []
          },
          "execution_count": 13
        }
      ]
    },
    {
      "cell_type": "markdown",
      "metadata": {
        "id": "mhvHvMfKyGcM",
        "colab_type": "text"
      },
      "source": [
        "* 마지막으로 우리가 제출할 포맷이 될 gender submission 파일을 보겠습니다."
      ]
    },
    {
      "cell_type": "code",
      "metadata": {
        "id": "WsCSMhgUyI4c",
        "colab_type": "code",
        "colab": {
          "base_uri": "https://localhost:8080/",
          "height": 197
        },
        "outputId": "9d42eeb6-33de-42c3-840c-c64e63117362"
      },
      "source": [
        "gender_submission.head()"
      ],
      "execution_count": 14,
      "outputs": [
        {
          "output_type": "execute_result",
          "data": {
            "text/html": [
              "<div>\n",
              "<style scoped>\n",
              "    .dataframe tbody tr th:only-of-type {\n",
              "        vertical-align: middle;\n",
              "    }\n",
              "\n",
              "    .dataframe tbody tr th {\n",
              "        vertical-align: top;\n",
              "    }\n",
              "\n",
              "    .dataframe thead th {\n",
              "        text-align: right;\n",
              "    }\n",
              "</style>\n",
              "<table border=\"1\" class=\"dataframe\">\n",
              "  <thead>\n",
              "    <tr style=\"text-align: right;\">\n",
              "      <th></th>\n",
              "      <th>PassengerId</th>\n",
              "      <th>Survived</th>\n",
              "    </tr>\n",
              "  </thead>\n",
              "  <tbody>\n",
              "    <tr>\n",
              "      <th>0</th>\n",
              "      <td>892</td>\n",
              "      <td>0</td>\n",
              "    </tr>\n",
              "    <tr>\n",
              "      <th>1</th>\n",
              "      <td>893</td>\n",
              "      <td>1</td>\n",
              "    </tr>\n",
              "    <tr>\n",
              "      <th>2</th>\n",
              "      <td>894</td>\n",
              "      <td>0</td>\n",
              "    </tr>\n",
              "    <tr>\n",
              "      <th>3</th>\n",
              "      <td>895</td>\n",
              "      <td>0</td>\n",
              "    </tr>\n",
              "    <tr>\n",
              "      <th>4</th>\n",
              "      <td>896</td>\n",
              "      <td>1</td>\n",
              "    </tr>\n",
              "  </tbody>\n",
              "</table>\n",
              "</div>"
            ],
            "text/plain": [
              "   PassengerId  Survived\n",
              "0          892         0\n",
              "1          893         1\n",
              "2          894         0\n",
              "3          895         0\n",
              "4          896         1"
            ]
          },
          "metadata": {
            "tags": []
          },
          "execution_count": 14
        }
      ]
    },
    {
      "cell_type": "markdown",
      "metadata": {
        "id": "DD18tnXkyQJ4",
        "colab_type": "text"
      },
      "source": [
        "* 보시다시피 Passenger id 는 단지 누구가 누구이다 라는 것을 밝히는 identifier인 것 같고\n",
        "* Survived 는 0이면 사망이고 1이면 살아 남은 사람인 것 같습니다.\n",
        "* 그럼 일단 훈련시킬 train 파일에 집중하도록 하겠습니다.\n",
        "* 파일의 길이를 보지요"
      ]
    },
    {
      "cell_type": "code",
      "metadata": {
        "id": "u0f2svqryYQg",
        "colab_type": "code",
        "colab": {
          "base_uri": "https://localhost:8080/",
          "height": 34
        },
        "outputId": "a901b177-86d2-4fca-dd05-37814fe10b1d"
      },
      "source": [
        "len(train)"
      ],
      "execution_count": 15,
      "outputs": [
        {
          "output_type": "execute_result",
          "data": {
            "text/plain": [
              "891"
            ]
          },
          "metadata": {
            "tags": []
          },
          "execution_count": 15
        }
      ]
    },
    {
      "cell_type": "markdown",
      "metadata": {
        "id": "SWoZNszpyeS7",
        "colab_type": "text"
      },
      "source": [
        "* 891명에 대한 데이터 입니다."
      ]
    },
    {
      "cell_type": "markdown",
      "metadata": {
        "id": "9j9XiRe6yf1b",
        "colab_type": "text"
      },
      "source": [
        "#### Iniital (Wild) Guess\n",
        " \n",
        "* 항목을 보면 PClass 는 객실의 레벨인 것 같습니다. 1이 제일 좋은 곳이고 3이 제일 낮은 곳인 것 같습니다.\n",
        "* 이름은 별 의미가 없을 수도 있으나 중간에 Mr. Miss, Mrs 등이 아닌 master, rev, capt 등이 나오는데 이는 의미가 있습니다.\n",
        "* Sex는 중요합니다. 보나마나 여성과 아이들을 우선적으로 구명 보트에 타게 했을 것이므로 남성이면 사망 확률이 훨씬 높지요\n",
        "* Age도 중요합니다. 어릴 수록 구명 보트에 탔을 가능성이 크니까요\n",
        "* SibSp는 배우자나 형제들과 같이 탄 즉, 가족의 숫자를 나타내므로 가족이 있는 사람의 생존 확률은 컸을 것이라 사료 됩니다.\n",
        "* Parch 는 부모, 아이들이 같이 탄 경우니까, 역시 생존 확률이 좀 더 높을 것이라 생각됩니다.\n",
        "* Ticket은 어떻게 의미를 두어야 할지 아직 파악이 안 됩니다. Fare나 Cabin과 연관이 있을 것입니다.\n",
        "* Fare는 비쌀 수록 생존 확률이 높을 가능성이 클 것으로 생각됩니다.\n",
        "* Cabin도 정해진 캐빈에서의 생존률이 더 높을 수 있습니다. NaN은 Not a number란 뜻인데 아마도 크루이었거나 정확한 방 배정이 안 된 단체로 자는 사람들이 아니었나는 생각이 들기도 합니다.\n",
        "* Embarked는 어디서 탔냐는 이야기인데, 큰 요인은 아닐 것이라는 것이 최초 추측이나 현대와 달리 부자 사는 동네부터 노동자 사는 동네까지 그 당시에는 확연히 달랐을 경우 영향이 있을 것이라 생각 됩니다."
      ]
    },
    {
      "cell_type": "markdown",
      "metadata": {
        "id": "dQfqunkuy-zp",
        "colab_type": "text"
      },
      "source": [
        "* 이제 하나씩 훓어 보며 작업을 해보겠습니다.\n",
        "* 우리의 목표는 train에서 모델을 뽑아서 test에서 누가 살아 남았을 확률이 큰가를 뽑아 내는 것입니다."
      ]
    },
    {
      "cell_type": "markdown",
      "metadata": {
        "id": "a7oIUgnHzdCx",
        "colab_type": "text"
      },
      "source": [
        "#### describe 보기"
      ]
    },
    {
      "cell_type": "code",
      "metadata": {
        "id": "xjccV25uy-Um",
        "colab_type": "code",
        "colab": {
          "base_uri": "https://localhost:8080/",
          "height": 287
        },
        "outputId": "2135fb14-2b07-4214-e75d-9480db5c2e78"
      },
      "source": [
        "train.describe()"
      ],
      "execution_count": 16,
      "outputs": [
        {
          "output_type": "execute_result",
          "data": {
            "text/html": [
              "<div>\n",
              "<style scoped>\n",
              "    .dataframe tbody tr th:only-of-type {\n",
              "        vertical-align: middle;\n",
              "    }\n",
              "\n",
              "    .dataframe tbody tr th {\n",
              "        vertical-align: top;\n",
              "    }\n",
              "\n",
              "    .dataframe thead th {\n",
              "        text-align: right;\n",
              "    }\n",
              "</style>\n",
              "<table border=\"1\" class=\"dataframe\">\n",
              "  <thead>\n",
              "    <tr style=\"text-align: right;\">\n",
              "      <th></th>\n",
              "      <th>PassengerId</th>\n",
              "      <th>Survived</th>\n",
              "      <th>Pclass</th>\n",
              "      <th>Age</th>\n",
              "      <th>SibSp</th>\n",
              "      <th>Parch</th>\n",
              "      <th>Fare</th>\n",
              "    </tr>\n",
              "  </thead>\n",
              "  <tbody>\n",
              "    <tr>\n",
              "      <th>count</th>\n",
              "      <td>891.000000</td>\n",
              "      <td>891.000000</td>\n",
              "      <td>891.000000</td>\n",
              "      <td>714.000000</td>\n",
              "      <td>891.000000</td>\n",
              "      <td>891.000000</td>\n",
              "      <td>891.000000</td>\n",
              "    </tr>\n",
              "    <tr>\n",
              "      <th>mean</th>\n",
              "      <td>446.000000</td>\n",
              "      <td>0.383838</td>\n",
              "      <td>2.308642</td>\n",
              "      <td>29.699118</td>\n",
              "      <td>0.523008</td>\n",
              "      <td>0.381594</td>\n",
              "      <td>32.204208</td>\n",
              "    </tr>\n",
              "    <tr>\n",
              "      <th>std</th>\n",
              "      <td>257.353842</td>\n",
              "      <td>0.486592</td>\n",
              "      <td>0.836071</td>\n",
              "      <td>14.526497</td>\n",
              "      <td>1.102743</td>\n",
              "      <td>0.806057</td>\n",
              "      <td>49.693429</td>\n",
              "    </tr>\n",
              "    <tr>\n",
              "      <th>min</th>\n",
              "      <td>1.000000</td>\n",
              "      <td>0.000000</td>\n",
              "      <td>1.000000</td>\n",
              "      <td>0.420000</td>\n",
              "      <td>0.000000</td>\n",
              "      <td>0.000000</td>\n",
              "      <td>0.000000</td>\n",
              "    </tr>\n",
              "    <tr>\n",
              "      <th>25%</th>\n",
              "      <td>223.500000</td>\n",
              "      <td>0.000000</td>\n",
              "      <td>2.000000</td>\n",
              "      <td>20.125000</td>\n",
              "      <td>0.000000</td>\n",
              "      <td>0.000000</td>\n",
              "      <td>7.910400</td>\n",
              "    </tr>\n",
              "    <tr>\n",
              "      <th>50%</th>\n",
              "      <td>446.000000</td>\n",
              "      <td>0.000000</td>\n",
              "      <td>3.000000</td>\n",
              "      <td>28.000000</td>\n",
              "      <td>0.000000</td>\n",
              "      <td>0.000000</td>\n",
              "      <td>14.454200</td>\n",
              "    </tr>\n",
              "    <tr>\n",
              "      <th>75%</th>\n",
              "      <td>668.500000</td>\n",
              "      <td>1.000000</td>\n",
              "      <td>3.000000</td>\n",
              "      <td>38.000000</td>\n",
              "      <td>1.000000</td>\n",
              "      <td>0.000000</td>\n",
              "      <td>31.000000</td>\n",
              "    </tr>\n",
              "    <tr>\n",
              "      <th>max</th>\n",
              "      <td>891.000000</td>\n",
              "      <td>1.000000</td>\n",
              "      <td>3.000000</td>\n",
              "      <td>80.000000</td>\n",
              "      <td>8.000000</td>\n",
              "      <td>6.000000</td>\n",
              "      <td>512.329200</td>\n",
              "    </tr>\n",
              "  </tbody>\n",
              "</table>\n",
              "</div>"
            ],
            "text/plain": [
              "       PassengerId    Survived      Pclass  ...       SibSp       Parch        Fare\n",
              "count   891.000000  891.000000  891.000000  ...  891.000000  891.000000  891.000000\n",
              "mean    446.000000    0.383838    2.308642  ...    0.523008    0.381594   32.204208\n",
              "std     257.353842    0.486592    0.836071  ...    1.102743    0.806057   49.693429\n",
              "min       1.000000    0.000000    1.000000  ...    0.000000    0.000000    0.000000\n",
              "25%     223.500000    0.000000    2.000000  ...    0.000000    0.000000    7.910400\n",
              "50%     446.000000    0.000000    3.000000  ...    0.000000    0.000000   14.454200\n",
              "75%     668.500000    1.000000    3.000000  ...    1.000000    0.000000   31.000000\n",
              "max     891.000000    1.000000    3.000000  ...    8.000000    6.000000  512.329200\n",
              "\n",
              "[8 rows x 7 columns]"
            ]
          },
          "metadata": {
            "tags": []
          },
          "execution_count": 16
        }
      ]
    },
    {
      "cell_type": "markdown",
      "metadata": {
        "id": "6t6b_g7VzkUg",
        "colab_type": "text"
      },
      "source": [
        "* 위를 보시면 트레인의 숫자, 중간 값, 표준편차 등이 나와 있습니다. "
      ]
    },
    {
      "cell_type": "markdown",
      "metadata": {
        "id": "m9aEiaGiz9b0",
        "colab_type": "text"
      },
      "source": [
        "#### 열 헤드 보기"
      ]
    },
    {
      "cell_type": "markdown",
      "metadata": {
        "id": "66ZQ-r_n0Chk",
        "colab_type": "text"
      },
      "source": [
        "* 열 이름을 보겠습니다."
      ]
    },
    {
      "cell_type": "code",
      "metadata": {
        "id": "9zGU_Dbf0LOb",
        "colab_type": "code",
        "colab": {
          "base_uri": "https://localhost:8080/",
          "height": 70
        },
        "outputId": "efffaac7-ad12-4f15-9e61-c4c1cbeab202"
      },
      "source": [
        "train.columns"
      ],
      "execution_count": 17,
      "outputs": [
        {
          "output_type": "execute_result",
          "data": {
            "text/plain": [
              "Index(['PassengerId', 'Survived', 'Pclass', 'Name', 'Sex', 'Age', 'SibSp',\n",
              "       'Parch', 'Ticket', 'Fare', 'Cabin', 'Embarked'],\n",
              "      dtype='object')"
            ]
          },
          "metadata": {
            "tags": []
          },
          "execution_count": 17
        }
      ]
    },
    {
      "cell_type": "markdown",
      "metadata": {
        "id": "VKJ2BO5g0ReT",
        "colab_type": "text"
      },
      "source": [
        "* 우리 여기서 인덱싱 같은 것도 가능합니다. (지금 필요한 것은 아니지만 연습 삼아, 파이썬 기초 반 때 기억을 되살리며)"
      ]
    },
    {
      "cell_type": "code",
      "metadata": {
        "id": "xXXjNBCC0XUV",
        "colab_type": "code",
        "colab": {
          "base_uri": "https://localhost:8080/",
          "height": 34
        },
        "outputId": "092e64af-8112-4d3e-bee0-d1984d2147b5"
      },
      "source": [
        "train.columns[3]"
      ],
      "execution_count": 18,
      "outputs": [
        {
          "output_type": "execute_result",
          "data": {
            "text/plain": [
              "'Name'"
            ]
          },
          "metadata": {
            "tags": []
          },
          "execution_count": 18
        }
      ]
    },
    {
      "cell_type": "markdown",
      "metadata": {
        "id": "pbBy32s5zm85",
        "colab_type": "text"
      },
      "source": [
        "#### missing data 보기\n",
        "\n",
        "##### 빠진 데이터를 보겠습니다.\n",
        "\n",
        "* 이는 중요합니다.\n",
        "* 예를 들어 나이가 빠져 있으면 사망자일 확률이 높을 수도 있고 등 등\n",
        "* 무엇보다 데이터가 없으면 분석을 할 수가 없겠지요?\n"
      ]
    },
    {
      "cell_type": "code",
      "metadata": {
        "id": "Vv_yvGlxzlYy",
        "colab_type": "code",
        "colab": {
          "base_uri": "https://localhost:8080/",
          "height": 410
        },
        "outputId": "1b3258e6-fae2-44f6-ccd2-e2eabcedd629"
      },
      "source": [
        "missingno.matrix(train, figsize = (10,5))"
      ],
      "execution_count": 19,
      "outputs": [
        {
          "output_type": "execute_result",
          "data": {
            "text/plain": [
              "<matplotlib.axes._subplots.AxesSubplot at 0x7f8f5e48d588>"
            ]
          },
          "metadata": {
            "tags": []
          },
          "execution_count": 19
        },
        {
          "output_type": "display_data",
          "data": {
            "image/png": "[encoded data removed]",
            "text/plain": [
              "<Figure size 720x360 with 2 Axes>"
            ]
          },
          "metadata": {
            "tags": []
          }
        }
      ]
    },
    {
      "cell_type": "markdown",
      "metadata": {
        "id": "46ggnir50qMH",
        "colab_type": "text"
      },
      "source": [
        "* 보시다시피 '나이'와 '캐빈' 번호에서 구멍이 많습니다.\n",
        "* 빈칸의 숫자를 보겠습니다."
      ]
    },
    {
      "cell_type": "code",
      "metadata": {
        "id": "3atjPrwL0zfQ",
        "colab_type": "code",
        "colab": {
          "base_uri": "https://localhost:8080/",
          "height": 247
        },
        "outputId": "fbb41a53-5447-4140-a1c2-2f9b7d2818bb"
      },
      "source": [
        "train.isnull().sum() #비어 있는 값들을 체크해 본다."
      ],
      "execution_count": 20,
      "outputs": [
        {
          "output_type": "execute_result",
          "data": {
            "text/plain": [
              "PassengerId      0\n",
              "Survived         0\n",
              "Pclass           0\n",
              "Name             0\n",
              "Sex              0\n",
              "Age            177\n",
              "SibSp            0\n",
              "Parch            0\n",
              "Ticket           0\n",
              "Fare             0\n",
              "Cabin          687\n",
              "Embarked         2\n",
              "dtype: int64"
            ]
          },
          "metadata": {
            "tags": []
          },
          "execution_count": 20
        }
      ]
    },
    {
      "cell_type": "markdown",
      "metadata": {
        "id": "0FGZcz_801d2",
        "colab_type": "text"
      },
      "source": [
        "* sum 말고 any를 쓰면 특정 행에 비어 있는 것이 True(=빈 것 있음) False(= 빈 것 없음)를 알 수 있습니다. "
      ]
    },
    {
      "cell_type": "code",
      "metadata": {
        "id": "Oq_fBGF51Si-",
        "colab_type": "code",
        "colab": {
          "base_uri": "https://localhost:8080/",
          "height": 34
        },
        "outputId": "4d0220e5-a635-4730-cdfd-5105bd1ffce1"
      },
      "source": [
        "train.Age.isnull().any()"
      ],
      "execution_count": 21,
      "outputs": [
        {
          "output_type": "execute_result",
          "data": {
            "text/plain": [
              "True"
            ]
          },
          "metadata": {
            "tags": []
          },
          "execution_count": 21
        }
      ]
    },
    {
      "cell_type": "markdown",
      "metadata": {
        "id": "_Pm0ycj11g1f",
        "colab_type": "text"
      },
      "source": [
        "* Age는 177개가 없고, Cabin 687개가 없습니다. 그리고 Embarked에도 2개의 빈 데이터가 있습니다.\n",
        "* 머신러닝 툴은 빈칸을 아주 싫어 합니다.\n",
        "* 나중에 이를 어떻게 할 것인지 좀 생각해 보겠습니다."
      ]
    },
    {
      "cell_type": "markdown",
      "metadata": {
        "id": "N_jbC_R41paV",
        "colab_type": "text"
      },
      "source": [
        "* 각 열의 데이터 타입을 보겠습니다."
      ]
    },
    {
      "cell_type": "code",
      "metadata": {
        "id": "6U6XqvUJ1yW9",
        "colab_type": "code",
        "colab": {
          "base_uri": "https://localhost:8080/",
          "height": 247
        },
        "outputId": "bbe8c6bd-e47c-4a29-b426-e68280371e01"
      },
      "source": [
        "train.dtypes"
      ],
      "execution_count": 22,
      "outputs": [
        {
          "output_type": "execute_result",
          "data": {
            "text/plain": [
              "PassengerId      int64\n",
              "Survived         int64\n",
              "Pclass           int64\n",
              "Name            object\n",
              "Sex             object\n",
              "Age            float64\n",
              "SibSp            int64\n",
              "Parch            int64\n",
              "Ticket          object\n",
              "Fare           float64\n",
              "Cabin           object\n",
              "Embarked        object\n",
              "dtype: object"
            ]
          },
          "metadata": {
            "tags": []
          },
          "execution_count": 22
        }
      ]
    },
    {
      "cell_type": "markdown",
      "metadata": {
        "id": "BM3np6hg110R",
        "colab_type": "text"
      },
      "source": [
        "* 나중에 오브젝트로 된 것은 컴퓨터가 분석하기 좋게 숫자로 바꾸어 주어야 할 것입니다."
      ]
    },
    {
      "cell_type": "markdown",
      "metadata": {
        "id": "CrS60_n63BF7",
        "colab_type": "text"
      },
      "source": [
        "#### 항목의 종류\n",
        "\n",
        "#### 범주형 항목 (Categorical Features)\n",
        "범주형 변수는 둘 이상의 결과 요소가 있는 변수이며 해당 기능의 각 값을 범주별로 분류 할 수 있습니다. 예를 들어 성별은 두 가지 범주 (남성과 여성)의 범주 형 변수입니다. ** 이산형 변수(discrete variable) = 범주형 변수 (categorical variable) 의 하나로 명목 변수 norminal variable **라고도합니다.\n",
        "\n",
        "** 데이터 셋에서 명목 항목 : Sex, Embark ** 이며 우리는 Name, Ticket 등을 이로 변환해야 할 것 같습니다.\n",
        "\n",
        "Ordinal Variable :\n",
        "순위 변수는 범주 형의 하나지만 그 차이점은 값 사이의 상대 순서(=서열) 또는 정렬이 가능하다는 것입니다. 예를 들어 값이 ** Tall, Medium, Short ** 인 ** Height **와 같은 피처가있는 경우 Height는 서수 변수입니다. 여기서 변수에 상대적인 정렬을 할 수 있습니다.\n",
        "\n",
        "** 데이터 셋에서 순위 항목 : PClass ** 이며 우리는 Cabin을 이 범주로 변환해서 사용해야 할 것 같습니다.\n",
        "\n",
        "#### 연속형 항목 (Continuous Features):\n",
        "서로 연속된 값을 가진 변수를 가진 항목이며 여기에서 우리는 연령을 대표적인 것으로 볼 수 있습니다. \n",
        "\n",
        "** 데이터 셋에서 순위 항목 : Age ** 이며, Age, SipSp, Parch, Fare는 interval variable로 만들어 이에 적용해야 할 것 같습니다.\n",
        "\n",
        "\n",
        "####항목 정보\n",
        "\n",
        "https://www.kaggle.com/c/titanic/data\n",
        "* 위의 링크에 가면 데이터 항목의 딕쇼너리를 보실 수 있습니다.\n",
        "\n",
        "      Variable       Definition                Key\n",
        "\n",
        "      survival\t    Survival\t             0 = No, 1 = Yes\n",
        "\n",
        "      pclass\t      Ticket class\t         1 = 1st, 2 = 2nd, 3 = 3rd\n",
        "\n",
        "      sex\t          Sex\t\n",
        "\n",
        "      Age\t          Age in years\t\n",
        "\n",
        "      sibsp\t        # of siblings / spouses aboard the Titanic\t\n",
        "\n",
        "      parch\t        # of parents / children aboard the Titanic\t\n",
        "\n",
        "      ticket\t      Ticket number\t\n",
        "\n",
        "      fare\t        Passenger fare\t\n",
        "\n",
        "      cabin\t        Cabin number\t\n",
        "\n",
        "      embarked\t    Port of Embarkation\t     C = Cherbourg, Q = Queenstown, S = Southampton"
      ]
    },
    {
      "cell_type": "markdown",
      "metadata": {
        "id": "xXYjq_nW4c0m",
        "colab_type": "text"
      },
      "source": [
        "* 이제 데이터 분석을 위해 새로운 데이터프레임 2개를 만들어 봅니다.\n",
        "\n",
        "* 하나는 continous data 또 하나는 디스크릿 데이터로 분류 합니다.\n",
        "\n",
        "* 나중에 둘 사이에 차이가 나오는지 보겠습니다. "
      ]
    },
    {
      "cell_type": "code",
      "metadata": {
        "id": "omIuwwvo5HQz",
        "colab_type": "code",
        "colab": {}
      },
      "source": [
        "df_bin = pd.DataFrame()\n",
        "df_con = pd.DataFrame()"
      ],
      "execution_count": 0,
      "outputs": []
    },
    {
      "cell_type": "markdown",
      "metadata": {
        "id": "7z9uM5gh2L1B",
        "colab_type": "text"
      },
      "source": [
        "## Task 3 - \"Surived\" 분석\n",
        "\n",
        "* 한 열씩 검토해 보겠습니다.\n",
        "\n",
        "1. Survived -  ** Key: (0 - Not Survived, 1- Survived) **"
      ]
    },
    {
      "cell_type": "markdown",
      "metadata": {
        "id": "_R7fOgHR3Zl1",
        "colab_type": "text"
      },
      "source": [
        "* Survived는 수자로 값을 주지만 Categorical Variable인 셈입니다.\n",
        "* 죽던지 살던지 둘 중 하나의 값을 줍니다.\n",
        "\n",
        "* countplot을 그려 봅니다.\n",
        "* 사이즈는 가로 10인치 세로 2인치\n",
        "* 생존 여부 0과 1의 숫자를 세어 본 후 그림을 그리도록 명령을 하는 것입니다."
      ]
    },
    {
      "cell_type": "code",
      "metadata": {
        "id": "-zWBjJhd2pFY",
        "colab_type": "code",
        "colab": {
          "base_uri": "https://localhost:8080/",
          "height": 220
        },
        "outputId": "3398ae8d-fd65-4949-e13c-179a37294670"
      },
      "source": [
        "fig = plt.figure(figsize=(10,2))\n",
        "sns.countplot(y='Survived', data=train)\n",
        "print(train.Survived.value_counts())"
      ],
      "execution_count": 24,
      "outputs": [
        {
          "output_type": "stream",
          "text": [
            "0    549\n",
            "1    342\n",
            "Name: Survived, dtype: int64\n"
          ],
          "name": "stdout"
        },
        {
          "output_type": "display_data",
          "data": {
            "image/png": "[encoded data removed]",
            "text/plain": [
              "<Figure size 720x144 with 1 Axes>"
            ]
          },
          "metadata": {
            "tags": []
          }
        }
      ]
    },
    {
      "cell_type": "markdown",
      "metadata": {
        "id": "6SZJILZd5-by",
        "colab_type": "text"
      },
      "source": [
        "* 불행히도 사망자가 훨씬 많아 보입니다.\n",
        "* 전체 사망자 비율을 좀 보겠습니다. "
      ]
    },
    {
      "cell_type": "markdown",
      "metadata": {
        "id": "QjeCmzqk6F0q",
        "colab_type": "text"
      },
      "source": [
        "* 파이그래프랑 카운트 플롯을 서브플롯으로 그립니다.\n",
        "* 행은 하나 열은 2개의 서브 플롯입니다. 사이즈는 가로 15인치 세로 6인치\n",
        "* 'Survived'의 값을 카운트해서 파이플롯을 만듭니다. \n",
        "* explode는 폭발하는 것이니까 1이면 튀어 나가는 것인데 0을 주면 분리만 되고 돌출은 되지 않습니다. 이어서 0, 1인 것은 첫 번째 것은 아니고 두번 째 것은 분리된다는 의미로 생각하시면 됩니다.\n",
        "* autopercent는 1.1이 표현하는 부분은 소수점 한 자리까지 보여 주라는 의미입니다. 뒤에 점 이하가 4면 둘 다 소수점 4자리수 까지 보여 줍니다.\n",
        "* ax[0]은 첫번째 칸입니다.\n",
        "* set_title 메소드는 서브 플롯의 제목을 보여 줍니다.   "
      ]
    },
    {
      "cell_type": "code",
      "metadata": {
        "id": "0kT4uiEJ6CUY",
        "colab_type": "code",
        "colab": {
          "base_uri": "https://localhost:8080/",
          "height": 400
        },
        "outputId": "638f58f0-1319-4ddd-fccd-14748ba13c53"
      },
      "source": [
        "f,ax=plt.subplots(1,2,figsize=(15,6))\n",
        "train['Survived'].value_counts().plot.pie(explode=[0,0.1],autopct='%1.1f%%',ax=ax[0],shadow=True)\n",
        "ax[0].set_title('Survived')\n",
        "ax[0].set_ylabel('')\n",
        "sns.countplot('Survived',data=train,ax=ax[1])\n",
        "ax[1].set_title('Survived')\n",
        "plt.show()"
      ],
      "execution_count": 25,
      "outputs": [
        {
          "output_type": "display_data",
          "data": {
            "image/png": "[encoded data removed]",
            "text/plain": [
              "<Figure size 1080x432 with 2 Axes>"
            ]
          },
          "metadata": {
            "tags": []
          }
        }
      ]
    },
    {
      "cell_type": "markdown",
      "metadata": {
        "id": "4XbUoMDq-LUH",
        "colab_type": "text"
      },
      "source": [
        "* 위의 것을 아래와 같이 함수로 만들겠습니다. (물론 자주 쓰이지는 않겠지만 연습이니)"
      ]
    },
    {
      "cell_type": "code",
      "metadata": {
        "id": "W2Un6eLq-gNe",
        "colab_type": "code",
        "colab": {
          "base_uri": "https://localhost:8080/",
          "height": 400
        },
        "outputId": "3c8f3cc0-f7fa-4602-97d3-ca583d7c8c2e"
      },
      "source": [
        "def piecount(a):\n",
        "    f,ax=plt.subplots(1,2,figsize=(15,6))\n",
        "    train[a].value_counts().plot.pie(explode=[0,0.1],autopct='%1.1f%%',ax=ax[0],shadow=True)\n",
        "    ax[0].set_title(a)\n",
        "    ax[0].set_ylabel('')\n",
        "    sns.countplot(a,data=train,ax=ax[1])\n",
        "    ax[1].set_title(a)\n",
        "    plt.show()\n",
        "\n",
        "piecount('Survived')"
      ],
      "execution_count": 26,
      "outputs": [
        {
          "output_type": "display_data",
          "data": {
            "image/png": "[encoded data removed]",
            "text/plain": [
              "<Figure size 1080x432 with 2 Axes>"
            ]
          },
          "metadata": {
            "tags": []
          }
        }
      ]
    },
    {
      "cell_type": "markdown",
      "metadata": {
        "id": "UgG8yybl_5HX",
        "colab_type": "text"
      },
      "source": [
        "* 문제는 위의 함수가 달랑 두개의 값만 가진 것에 통한다는 사실입니다.\n",
        "* 그럼 저 함수를 Pclass에 쓰면 3개 값이라 에러가 날 것입니다.\n",
        "* 이 때는 위를 클래스를 만들고 파이썬 수업에서 배운 오버라이딩을 해줘야죠. 하지만 용도에 대비해서 너무 과도 한 일이라 3개 짜리를 다시 한 번 만들어 봅니다. 살짝만 바꾸어 봅니다. "
      ]
    },
    {
      "cell_type": "code",
      "metadata": {
        "id": "EwIyeNICAWHS",
        "colab_type": "code",
        "colab": {
          "base_uri": "https://localhost:8080/",
          "height": 400
        },
        "outputId": "6a437208-0384-4b64-a11c-f34ecef25db4"
      },
      "source": [
        "def piecount3(a):\n",
        "      f,ax=plt.subplots(1,2,figsize=(15,6))\n",
        "      train[a].value_counts().plot.pie(explode=[0,0.0,0],autopct='%0.4f%%',ax=ax[1],shadow=True)\n",
        "      ax[1].set_title(a)\n",
        "      ax[1].set_ylabel('')\n",
        "      sns.countplot(a,data=train,ax=ax[0])\n",
        "      ax[0].set_title(a)\n",
        "      plt.show()\n",
        "\n",
        "piecount3(\"Pclass\")"
      ],
      "execution_count": 27,
      "outputs": [
        {
          "output_type": "display_data",
          "data": {
            "image/png": "[encoded data removed]",
            "text/plain": [
              "<Figure size 1080x432 with 2 Axes>"
            ]
          },
          "metadata": {
            "tags": []
          }
        }
      ]
    },
    {
      "cell_type": "markdown",
      "metadata": {
        "id": "60ymnKrOGNz0",
        "colab_type": "text"
      },
      "source": [
        "* 이제 생존한 사람들의 데이터를 우리가 만든 새로운 데이터 프레임에 옮겨 놓습니다."
      ]
    },
    {
      "cell_type": "code",
      "metadata": {
        "id": "KhatD6anGR6O",
        "colab_type": "code",
        "colab": {}
      },
      "source": [
        "df_bin['Survived'] = train['Survived']\n",
        "df_con['Survived'] = train['Survived']"
      ],
      "execution_count": 0,
      "outputs": []
    },
    {
      "cell_type": "markdown",
      "metadata": {
        "id": "_SUa2TREGV_g",
        "colab_type": "text"
      },
      "source": [
        "* 잘 들어 갔나 확인해 봅니다."
      ]
    },
    {
      "cell_type": "code",
      "metadata": {
        "id": "T8BN82SZGZIo",
        "colab_type": "code",
        "colab": {
          "base_uri": "https://localhost:8080/",
          "height": 197
        },
        "outputId": "a13711b7-f133-4184-dffe-df6d9fdbb0b4"
      },
      "source": [
        "df_bin.head()"
      ],
      "execution_count": 29,
      "outputs": [
        {
          "output_type": "execute_result",
          "data": {
            "text/html": [
              "<div>\n",
              "<style scoped>\n",
              "    .dataframe tbody tr th:only-of-type {\n",
              "        vertical-align: middle;\n",
              "    }\n",
              "\n",
              "    .dataframe tbody tr th {\n",
              "        vertical-align: top;\n",
              "    }\n",
              "\n",
              "    .dataframe thead th {\n",
              "        text-align: right;\n",
              "    }\n",
              "</style>\n",
              "<table border=\"1\" class=\"dataframe\">\n",
              "  <thead>\n",
              "    <tr style=\"text-align: right;\">\n",
              "      <th></th>\n",
              "      <th>Survived</th>\n",
              "    </tr>\n",
              "  </thead>\n",
              "  <tbody>\n",
              "    <tr>\n",
              "      <th>0</th>\n",
              "      <td>0</td>\n",
              "    </tr>\n",
              "    <tr>\n",
              "      <th>1</th>\n",
              "      <td>1</td>\n",
              "    </tr>\n",
              "    <tr>\n",
              "      <th>2</th>\n",
              "      <td>1</td>\n",
              "    </tr>\n",
              "    <tr>\n",
              "      <th>3</th>\n",
              "      <td>1</td>\n",
              "    </tr>\n",
              "    <tr>\n",
              "      <th>4</th>\n",
              "      <td>0</td>\n",
              "    </tr>\n",
              "  </tbody>\n",
              "</table>\n",
              "</div>"
            ],
            "text/plain": [
              "   Survived\n",
              "0         0\n",
              "1         1\n",
              "2         1\n",
              "3         1\n",
              "4         0"
            ]
          },
          "metadata": {
            "tags": []
          },
          "execution_count": 29
        }
      ]
    },
    {
      "cell_type": "code",
      "metadata": {
        "id": "M5AG1A1FGfqM",
        "colab_type": "code",
        "colab": {
          "base_uri": "https://localhost:8080/",
          "height": 197
        },
        "outputId": "bf69189a-7495-45f8-a373-fba387aad423"
      },
      "source": [
        "df_con.head()"
      ],
      "execution_count": 30,
      "outputs": [
        {
          "output_type": "execute_result",
          "data": {
            "text/html": [
              "<div>\n",
              "<style scoped>\n",
              "    .dataframe tbody tr th:only-of-type {\n",
              "        vertical-align: middle;\n",
              "    }\n",
              "\n",
              "    .dataframe tbody tr th {\n",
              "        vertical-align: top;\n",
              "    }\n",
              "\n",
              "    .dataframe thead th {\n",
              "        text-align: right;\n",
              "    }\n",
              "</style>\n",
              "<table border=\"1\" class=\"dataframe\">\n",
              "  <thead>\n",
              "    <tr style=\"text-align: right;\">\n",
              "      <th></th>\n",
              "      <th>Survived</th>\n",
              "    </tr>\n",
              "  </thead>\n",
              "  <tbody>\n",
              "    <tr>\n",
              "      <th>0</th>\n",
              "      <td>0</td>\n",
              "    </tr>\n",
              "    <tr>\n",
              "      <th>1</th>\n",
              "      <td>1</td>\n",
              "    </tr>\n",
              "    <tr>\n",
              "      <th>2</th>\n",
              "      <td>1</td>\n",
              "    </tr>\n",
              "    <tr>\n",
              "      <th>3</th>\n",
              "      <td>1</td>\n",
              "    </tr>\n",
              "    <tr>\n",
              "      <th>4</th>\n",
              "      <td>0</td>\n",
              "    </tr>\n",
              "  </tbody>\n",
              "</table>\n",
              "</div>"
            ],
            "text/plain": [
              "   Survived\n",
              "0         0\n",
              "1         1\n",
              "2         1\n",
              "3         1\n",
              "4         0"
            ]
          },
          "metadata": {
            "tags": []
          },
          "execution_count": 30
        }
      ]
    },
    {
      "cell_type": "markdown",
      "metadata": {
        "id": "Fk_Dt8XsGkOg",
        "colab_type": "text"
      },
      "source": [
        "* 여기서 우리가 함수를 하나 만들어 쓰겠습니다. 앞으로도 위 두 파일을 계속 보게 될 것이 뻔하니 한 줄에 보도록 만들죠\n",
        "* 둘로 나누어서 해보지요"
      ]
    },
    {
      "cell_type": "code",
      "metadata": {
        "id": "VN1HWTk3GpS_",
        "colab_type": "code",
        "colab": {
          "base_uri": "https://localhost:8080/",
          "height": 197
        },
        "outputId": "2dfb14fd-d161-43f4-b5bb-5e0029af39ba"
      },
      "source": [
        "def bin(a,b):\n",
        "\tdf_bin[a] = train[b]\n",
        "\treturn df_bin.head()\n",
        "\n",
        "bin('Survived', 'Survived')"
      ],
      "execution_count": 94,
      "outputs": [
        {
          "output_type": "execute_result",
          "data": {
            "text/html": [
              "<div>\n",
              "<style scoped>\n",
              "    .dataframe tbody tr th:only-of-type {\n",
              "        vertical-align: middle;\n",
              "    }\n",
              "\n",
              "    .dataframe tbody tr th {\n",
              "        vertical-align: top;\n",
              "    }\n",
              "\n",
              "    .dataframe thead th {\n",
              "        text-align: right;\n",
              "    }\n",
              "</style>\n",
              "<table border=\"1\" class=\"dataframe\">\n",
              "  <thead>\n",
              "    <tr style=\"text-align: right;\">\n",
              "      <th></th>\n",
              "      <th>Survived</th>\n",
              "      <th>Pclass</th>\n",
              "    </tr>\n",
              "  </thead>\n",
              "  <tbody>\n",
              "    <tr>\n",
              "      <th>0</th>\n",
              "      <td>0</td>\n",
              "      <td>3</td>\n",
              "    </tr>\n",
              "    <tr>\n",
              "      <th>1</th>\n",
              "      <td>1</td>\n",
              "      <td>1</td>\n",
              "    </tr>\n",
              "    <tr>\n",
              "      <th>2</th>\n",
              "      <td>1</td>\n",
              "      <td>3</td>\n",
              "    </tr>\n",
              "    <tr>\n",
              "      <th>3</th>\n",
              "      <td>1</td>\n",
              "      <td>1</td>\n",
              "    </tr>\n",
              "    <tr>\n",
              "      <th>4</th>\n",
              "      <td>0</td>\n",
              "      <td>3</td>\n",
              "    </tr>\n",
              "  </tbody>\n",
              "</table>\n",
              "</div>"
            ],
            "text/plain": [
              "   Survived  Pclass\n",
              "0         0       3\n",
              "1         1       1\n",
              "2         1       3\n",
              "3         1       1\n",
              "4         0       3"
            ]
          },
          "metadata": {
            "tags": []
          },
          "execution_count": 94
        }
      ]
    },
    {
      "cell_type": "code",
      "metadata": {
        "id": "85e55IMdGuFe",
        "colab_type": "code",
        "colab": {
          "base_uri": "https://localhost:8080/",
          "height": 197
        },
        "outputId": "64cd28a3-c3a1-43c3-8c1a-f48ee3872667"
      },
      "source": [
        "def con(a,b):\n",
        "\tdf_con[a] = train[b]\n",
        "\treturn df_con.head()\n",
        "\n",
        "con('Survived', 'Survived')"
      ],
      "execution_count": 95,
      "outputs": [
        {
          "output_type": "execute_result",
          "data": {
            "text/html": [
              "<div>\n",
              "<style scoped>\n",
              "    .dataframe tbody tr th:only-of-type {\n",
              "        vertical-align: middle;\n",
              "    }\n",
              "\n",
              "    .dataframe tbody tr th {\n",
              "        vertical-align: top;\n",
              "    }\n",
              "\n",
              "    .dataframe thead th {\n",
              "        text-align: right;\n",
              "    }\n",
              "</style>\n",
              "<table border=\"1\" class=\"dataframe\">\n",
              "  <thead>\n",
              "    <tr style=\"text-align: right;\">\n",
              "      <th></th>\n",
              "      <th>Survived</th>\n",
              "      <th>Pclass</th>\n",
              "    </tr>\n",
              "  </thead>\n",
              "  <tbody>\n",
              "    <tr>\n",
              "      <th>0</th>\n",
              "      <td>0</td>\n",
              "      <td>3</td>\n",
              "    </tr>\n",
              "    <tr>\n",
              "      <th>1</th>\n",
              "      <td>1</td>\n",
              "      <td>1</td>\n",
              "    </tr>\n",
              "    <tr>\n",
              "      <th>2</th>\n",
              "      <td>1</td>\n",
              "      <td>3</td>\n",
              "    </tr>\n",
              "    <tr>\n",
              "      <th>3</th>\n",
              "      <td>1</td>\n",
              "      <td>1</td>\n",
              "    </tr>\n",
              "    <tr>\n",
              "      <th>4</th>\n",
              "      <td>0</td>\n",
              "      <td>3</td>\n",
              "    </tr>\n",
              "  </tbody>\n",
              "</table>\n",
              "</div>"
            ],
            "text/plain": [
              "   Survived  Pclass\n",
              "0         0       3\n",
              "1         1       1\n",
              "2         1       3\n",
              "3         1       1\n",
              "4         0       3"
            ]
          },
          "metadata": {
            "tags": []
          },
          "execution_count": 95
        }
      ]
    },
    {
      "cell_type": "markdown",
      "metadata": {
        "id": "Gv-nw8qlG0uJ",
        "colab_type": "text"
      },
      "source": [
        "* 이젠 bin(). con()만 아규먼트랑 같이 호출하면 됩니다. 이 것은 자주 쓰일 것 같습니다."
      ]
    },
    {
      "cell_type": "markdown",
      "metadata": {
        "id": "LbEMFkZfHBqr",
        "colab_type": "text"
      },
      "source": [
        "## Task 4 - \"Pclass\" 분석"
      ]
    },
    {
      "cell_type": "markdown",
      "metadata": {
        "id": "DYZCJxLQHOCj",
        "colab_type": "text"
      },
      "source": [
        "* Pclass는 값이 숫자이나 서열이 정해진 Ordinal Feature이다. \n",
        "\n",
        "Key:1 = 1st, 2= 2nd, 3 = 3rd\n",
        "\n",
        "* 각 클래스 당 생존자를 보겠습니다."
      ]
    },
    {
      "cell_type": "code",
      "metadata": {
        "id": "atZHwXbjPUV0",
        "colab_type": "code",
        "colab": {
          "base_uri": "https://localhost:8080/",
          "height": 158
        },
        "outputId": "003153de-65a9-450f-8b18-e6894a201a89"
      },
      "source": [
        "train.groupby(['Pclass','Survived'])['Survived'].count()"
      ],
      "execution_count": 33,
      "outputs": [
        {
          "output_type": "execute_result",
          "data": {
            "text/plain": [
              "Pclass  Survived\n",
              "1       0            80\n",
              "        1           136\n",
              "2       0            97\n",
              "        1            87\n",
              "3       0           372\n",
              "        1           119\n",
              "Name: Survived, dtype: int64"
            ]
          },
          "metadata": {
            "tags": []
          },
          "execution_count": 33
        }
      ]
    },
    {
      "cell_type": "code",
      "metadata": {
        "id": "1q_koyEFPYAp",
        "colab_type": "code",
        "colab": {
          "base_uri": "https://localhost:8080/",
          "height": 124
        },
        "outputId": "dd6c270c-8e9a-4b14-8ae7-2f352d3a54fc"
      },
      "source": [
        "pd.crosstab(train.Pclass,train.Survived,margins=True).style.background_gradient(cmap='summer_r')"
      ],
      "execution_count": 34,
      "outputs": [
        {
          "output_type": "execute_result",
          "data": {
            "text/html": [
              "<style  type=\"text/css\" >\n",
              "    #T_2f6c42cc_238c_11ea_acb2_0242ac1c0002row0_col0 {\n",
              "            background-color:  #ffff66;\n",
              "            color:  #000000;\n",
              "        }    #T_2f6c42cc_238c_11ea_acb2_0242ac1c0002row0_col1 {\n",
              "            background-color:  #cee666;\n",
              "            color:  #000000;\n",
              "        }    #T_2f6c42cc_238c_11ea_acb2_0242ac1c0002row0_col2 {\n",
              "            background-color:  #f4fa66;\n",
              "            color:  #000000;\n",
              "        }    #T_2f6c42cc_238c_11ea_acb2_0242ac1c0002row1_col0 {\n",
              "            background-color:  #f6fa66;\n",
              "            color:  #000000;\n",
              "        }    #T_2f6c42cc_238c_11ea_acb2_0242ac1c0002row1_col1 {\n",
              "            background-color:  #ffff66;\n",
              "            color:  #000000;\n",
              "        }    #T_2f6c42cc_238c_11ea_acb2_0242ac1c0002row1_col2 {\n",
              "            background-color:  #ffff66;\n",
              "            color:  #000000;\n",
              "        }    #T_2f6c42cc_238c_11ea_acb2_0242ac1c0002row2_col0 {\n",
              "            background-color:  #60b066;\n",
              "            color:  #000000;\n",
              "        }    #T_2f6c42cc_238c_11ea_acb2_0242ac1c0002row2_col1 {\n",
              "            background-color:  #dfef66;\n",
              "            color:  #000000;\n",
              "        }    #T_2f6c42cc_238c_11ea_acb2_0242ac1c0002row2_col2 {\n",
              "            background-color:  #90c866;\n",
              "            color:  #000000;\n",
              "        }    #T_2f6c42cc_238c_11ea_acb2_0242ac1c0002row3_col0 {\n",
              "            background-color:  #008066;\n",
              "            color:  #f1f1f1;\n",
              "        }    #T_2f6c42cc_238c_11ea_acb2_0242ac1c0002row3_col1 {\n",
              "            background-color:  #008066;\n",
              "            color:  #f1f1f1;\n",
              "        }    #T_2f6c42cc_238c_11ea_acb2_0242ac1c0002row3_col2 {\n",
              "            background-color:  #008066;\n",
              "            color:  #f1f1f1;\n",
              "        }</style><table id=\"T_2f6c42cc_238c_11ea_acb2_0242ac1c0002\" ><thead>    <tr>        <th class=\"index_name level0\" >Survived</th>        <th class=\"col_heading level0 col0\" >0</th>        <th class=\"col_heading level0 col1\" >1</th>        <th class=\"col_heading level0 col2\" >All</th>    </tr>    <tr>        <th class=\"index_name level0\" >Pclass</th>        <th class=\"blank\" ></th>        <th class=\"blank\" ></th>        <th class=\"blank\" ></th>    </tr></thead><tbody>\n",
              "                <tr>\n",
              "                        <th id=\"T_2f6c42cc_238c_11ea_acb2_0242ac1c0002level0_row0\" class=\"row_heading level0 row0\" >1</th>\n",
              "                        <td id=\"T_2f6c42cc_238c_11ea_acb2_0242ac1c0002row0_col0\" class=\"data row0 col0\" >80</td>\n",
              "                        <td id=\"T_2f6c42cc_238c_11ea_acb2_0242ac1c0002row0_col1\" class=\"data row0 col1\" >136</td>\n",
              "                        <td id=\"T_2f6c42cc_238c_11ea_acb2_0242ac1c0002row0_col2\" class=\"data row0 col2\" >216</td>\n",
              "            </tr>\n",
              "            <tr>\n",
              "                        <th id=\"T_2f6c42cc_238c_11ea_acb2_0242ac1c0002level0_row1\" class=\"row_heading level0 row1\" >2</th>\n",
              "                        <td id=\"T_2f6c42cc_238c_11ea_acb2_0242ac1c0002row1_col0\" class=\"data row1 col0\" >97</td>\n",
              "                        <td id=\"T_2f6c42cc_238c_11ea_acb2_0242ac1c0002row1_col1\" class=\"data row1 col1\" >87</td>\n",
              "                        <td id=\"T_2f6c42cc_238c_11ea_acb2_0242ac1c0002row1_col2\" class=\"data row1 col2\" >184</td>\n",
              "            </tr>\n",
              "            <tr>\n",
              "                        <th id=\"T_2f6c42cc_238c_11ea_acb2_0242ac1c0002level0_row2\" class=\"row_heading level0 row2\" >3</th>\n",
              "                        <td id=\"T_2f6c42cc_238c_11ea_acb2_0242ac1c0002row2_col0\" class=\"data row2 col0\" >372</td>\n",
              "                        <td id=\"T_2f6c42cc_238c_11ea_acb2_0242ac1c0002row2_col1\" class=\"data row2 col1\" >119</td>\n",
              "                        <td id=\"T_2f6c42cc_238c_11ea_acb2_0242ac1c0002row2_col2\" class=\"data row2 col2\" >491</td>\n",
              "            </tr>\n",
              "            <tr>\n",
              "                        <th id=\"T_2f6c42cc_238c_11ea_acb2_0242ac1c0002level0_row3\" class=\"row_heading level0 row3\" >All</th>\n",
              "                        <td id=\"T_2f6c42cc_238c_11ea_acb2_0242ac1c0002row3_col0\" class=\"data row3 col0\" >549</td>\n",
              "                        <td id=\"T_2f6c42cc_238c_11ea_acb2_0242ac1c0002row3_col1\" class=\"data row3 col1\" >342</td>\n",
              "                        <td id=\"T_2f6c42cc_238c_11ea_acb2_0242ac1c0002row3_col2\" class=\"data row3 col2\" >891</td>\n",
              "            </tr>\n",
              "    </tbody></table>"
            ],
            "text/plain": [
              "<pandas.io.formats.style.Styler at 0x7f8f5b59aac8>"
            ]
          },
          "metadata": {
            "tags": []
          },
          "execution_count": 34
        }
      ]
    },
    {
      "cell_type": "markdown",
      "metadata": {
        "id": "z_Wpf4GMQd70",
        "colab_type": "text"
      },
      "source": [
        "*1등급 객실의 사람들은 생존자가 더 많고, 2등급은 생존자에 비해 사망자가 조금 더 많으나, 3등급은 사망자가 3배 이상 많다는 것을 알 수 있습니다."
      ]
    },
    {
      "cell_type": "code",
      "metadata": {
        "id": "FKbPVXVGQggl",
        "colab_type": "code",
        "colab": {
          "base_uri": "https://localhost:8080/",
          "height": 400
        },
        "outputId": "6550cdad-8e97-42b5-936f-385ce79a38a1"
      },
      "source": [
        "f,ax=plt.subplots(1,2,figsize=(12,6))\n",
        "train[['Pclass','Survived']].groupby(['Pclass']).mean().plot.bar(ax=ax[0])\n",
        "ax[0].set_title('Survived per Pcalss')\n",
        "sns.countplot('Pclass',hue='Survived',data=train,ax=ax[1])\n",
        "ax[1].set_title('Pcalss Survived vs Not Survived')\n",
        "plt.show()"
      ],
      "execution_count": 35,
      "outputs": [
        {
          "output_type": "display_data",
          "data": {
            "image/png": "[encoded data removed]",
            "text/plain": [
              "<Figure size 864x432 with 2 Axes>"
            ]
          },
          "metadata": {
            "tags": []
          }
        }
      ]
    },
    {
      "cell_type": "markdown",
      "metadata": {
        "id": "2HLPtYGOQpZU",
        "colab_type": "text"
      },
      "source": [
        "* 위에 만든 함수를 한 번 써 먹어 볼까요?"
      ]
    },
    {
      "cell_type": "code",
      "metadata": {
        "id": "POhIwZyQQuRz",
        "colab_type": "code",
        "colab": {
          "base_uri": "https://localhost:8080/",
          "height": 400
        },
        "outputId": "6defc78c-f4a7-466d-a2aa-c43062418e8d"
      },
      "source": [
        "piecount3(\"Pclass\")"
      ],
      "execution_count": 36,
      "outputs": [
        {
          "output_type": "display_data",
          "data": {
            "image/png": "[encoded data removed]",
            "text/plain": [
              "<Figure size 1080x432 with 2 Axes>"
            ]
          },
          "metadata": {
            "tags": []
          }
        }
      ]
    },
    {
      "cell_type": "markdown",
      "metadata": {
        "id": "gObji-KPQ49K",
        "colab_type": "text"
      },
      "source": [
        "* %는 3등칸이 반이 넘으나 위의 그래프에서 생존자는 1등석이 가장 많다는 것을 알 수 있습니다.\n",
        "* 각 클래스 당 생존률을 볼까요?"
      ]
    },
    {
      "cell_type": "code",
      "metadata": {
        "id": "6MrCcXpfT-na",
        "colab_type": "code",
        "colab": {
          "base_uri": "https://localhost:8080/",
          "height": 105
        },
        "outputId": "9133cb5c-ce54-4f1f-d683-18d7608de625"
      },
      "source": [
        "train.groupby('Pclass').Survived.mean()"
      ],
      "execution_count": 37,
      "outputs": [
        {
          "output_type": "execute_result",
          "data": {
            "text/plain": [
              "Pclass\n",
              "1    0.629630\n",
              "2    0.472826\n",
              "3    0.242363\n",
              "Name: Survived, dtype: float64"
            ]
          },
          "metadata": {
            "tags": []
          },
          "execution_count": 37
        }
      ]
    },
    {
      "cell_type": "markdown",
      "metadata": {
        "id": "mLccWPjAUY8S",
        "colab_type": "text"
      },
      "source": [
        "*위에 것도 함수로 만들죠"
      ]
    },
    {
      "cell_type": "code",
      "metadata": {
        "id": "aU_Gc5YhUfDg",
        "colab_type": "code",
        "colab": {
          "base_uri": "https://localhost:8080/",
          "height": 105
        },
        "outputId": "08f0e839-1cb5-4d1e-e3e7-da141eb9c5f1"
      },
      "source": [
        "def survpct(a):\n",
        "  return train.groupby(a).Survived.mean()\n",
        "\n",
        "survpct('Pclass')"
      ],
      "execution_count": 38,
      "outputs": [
        {
          "output_type": "execute_result",
          "data": {
            "text/plain": [
              "Pclass\n",
              "1    0.629630\n",
              "2    0.472826\n",
              "3    0.242363\n",
              "Name: Survived, dtype: float64"
            ]
          },
          "metadata": {
            "tags": []
          },
          "execution_count": 38
        }
      ]
    },
    {
      "cell_type": "markdown",
      "metadata": {
        "id": "FQxXlu06WsoT",
        "colab_type": "text"
      },
      "source": [
        "* 값을 옮깁니다."
      ]
    },
    {
      "cell_type": "code",
      "metadata": {
        "id": "9G5RQR-nWxza",
        "colab_type": "code",
        "colab": {
          "base_uri": "https://localhost:8080/",
          "height": 197
        },
        "outputId": "746c7160-55ff-4532-c577-8d5c2075cbc1"
      },
      "source": [
        "bin('Pclass', 'Pclass')"
      ],
      "execution_count": 39,
      "outputs": [
        {
          "output_type": "execute_result",
          "data": {
            "text/html": [
              "<div>\n",
              "<style scoped>\n",
              "    .dataframe tbody tr th:only-of-type {\n",
              "        vertical-align: middle;\n",
              "    }\n",
              "\n",
              "    .dataframe tbody tr th {\n",
              "        vertical-align: top;\n",
              "    }\n",
              "\n",
              "    .dataframe thead th {\n",
              "        text-align: right;\n",
              "    }\n",
              "</style>\n",
              "<table border=\"1\" class=\"dataframe\">\n",
              "  <thead>\n",
              "    <tr style=\"text-align: right;\">\n",
              "      <th></th>\n",
              "      <th>Survived</th>\n",
              "      <th>Pclass</th>\n",
              "    </tr>\n",
              "  </thead>\n",
              "  <tbody>\n",
              "    <tr>\n",
              "      <th>0</th>\n",
              "      <td>0</td>\n",
              "      <td>3</td>\n",
              "    </tr>\n",
              "    <tr>\n",
              "      <th>1</th>\n",
              "      <td>1</td>\n",
              "      <td>1</td>\n",
              "    </tr>\n",
              "    <tr>\n",
              "      <th>2</th>\n",
              "      <td>1</td>\n",
              "      <td>3</td>\n",
              "    </tr>\n",
              "    <tr>\n",
              "      <th>3</th>\n",
              "      <td>1</td>\n",
              "      <td>1</td>\n",
              "    </tr>\n",
              "    <tr>\n",
              "      <th>4</th>\n",
              "      <td>0</td>\n",
              "      <td>3</td>\n",
              "    </tr>\n",
              "  </tbody>\n",
              "</table>\n",
              "</div>"
            ],
            "text/plain": [
              "   Survived  Pclass\n",
              "0         0       3\n",
              "1         1       1\n",
              "2         1       3\n",
              "3         1       1\n",
              "4         0       3"
            ]
          },
          "metadata": {
            "tags": []
          },
          "execution_count": 39
        }
      ]
    },
    {
      "cell_type": "code",
      "metadata": {
        "id": "1hV44SxeXAIL",
        "colab_type": "code",
        "colab": {
          "base_uri": "https://localhost:8080/",
          "height": 197
        },
        "outputId": "5f66a349-bc85-4114-e0f1-51c9104f631b"
      },
      "source": [
        "con('Pclass', 'Pclass')"
      ],
      "execution_count": 40,
      "outputs": [
        {
          "output_type": "execute_result",
          "data": {
            "text/html": [
              "<div>\n",
              "<style scoped>\n",
              "    .dataframe tbody tr th:only-of-type {\n",
              "        vertical-align: middle;\n",
              "    }\n",
              "\n",
              "    .dataframe tbody tr th {\n",
              "        vertical-align: top;\n",
              "    }\n",
              "\n",
              "    .dataframe thead th {\n",
              "        text-align: right;\n",
              "    }\n",
              "</style>\n",
              "<table border=\"1\" class=\"dataframe\">\n",
              "  <thead>\n",
              "    <tr style=\"text-align: right;\">\n",
              "      <th></th>\n",
              "      <th>Survived</th>\n",
              "      <th>Pclass</th>\n",
              "    </tr>\n",
              "  </thead>\n",
              "  <tbody>\n",
              "    <tr>\n",
              "      <th>0</th>\n",
              "      <td>0</td>\n",
              "      <td>3</td>\n",
              "    </tr>\n",
              "    <tr>\n",
              "      <th>1</th>\n",
              "      <td>1</td>\n",
              "      <td>1</td>\n",
              "    </tr>\n",
              "    <tr>\n",
              "      <th>2</th>\n",
              "      <td>1</td>\n",
              "      <td>3</td>\n",
              "    </tr>\n",
              "    <tr>\n",
              "      <th>3</th>\n",
              "      <td>1</td>\n",
              "      <td>1</td>\n",
              "    </tr>\n",
              "    <tr>\n",
              "      <th>4</th>\n",
              "      <td>0</td>\n",
              "      <td>3</td>\n",
              "    </tr>\n",
              "  </tbody>\n",
              "</table>\n",
              "</div>"
            ],
            "text/plain": [
              "   Survived  Pclass\n",
              "0         0       3\n",
              "1         1       1\n",
              "2         1       3\n",
              "3         1       1\n",
              "4         0       3"
            ]
          },
          "metadata": {
            "tags": []
          },
          "execution_count": 40
        }
      ]
    },
    {
      "cell_type": "markdown",
      "metadata": {
        "id": "jRC2N-nYXYBC",
        "colab_type": "text"
      },
      "source": [
        "## Task 5 - \"Name\" 분석"
      ]
    },
    {
      "cell_type": "markdown",
      "metadata": {
        "id": "2JW6ElAUXW2k",
        "colab_type": "text"
      },
      "source": [
        "* 이름은 거의 모두 다를 가능성이 큽니다. Family Name, First Name, Middle Name and even Dr. Capt, master and so on 모두 감안하면...\n",
        "* 분류를 한 번 해 봅니다.\n",
        "* 리스트를 한 번 주 욱 보겠습니다."
      ]
    },
    {
      "cell_type": "code",
      "metadata": {
        "id": "THWY1wonXyLK",
        "colab_type": "code",
        "colab": {
          "base_uri": "https://localhost:8080/",
          "height": 230
        },
        "outputId": "d57026d4-fdea-4533-c8f9-6d18958f8279"
      },
      "source": [
        "train.Name.value_counts()"
      ],
      "execution_count": 41,
      "outputs": [
        {
          "output_type": "execute_result",
          "data": {
            "text/plain": [
              "Green, Mr. George Henry                        1\n",
              "Isham, Miss. Ann Elizabeth                     1\n",
              "Sundman, Mr. Johan Julian                      1\n",
              "Devaney, Miss. Margaret Delia                  1\n",
              "Ayoub, Miss. Banoura                           1\n",
              "                                              ..\n",
              "Peter, Miss. Anna                              1\n",
              "Clarke, Mrs. Charles V (Ada Maria Winfield)    1\n",
              "Lefebre, Miss. Jeannie                         1\n",
              "Pettersson, Miss. Ellen Natalia                1\n",
              "Meyer, Mrs. Edgar Joseph (Leila Saks)          1\n",
              "Name: Name, Length: 891, dtype: int64"
            ]
          },
          "metadata": {
            "tags": []
          },
          "execution_count": 41
        }
      ]
    },
    {
      "cell_type": "markdown",
      "metadata": {
        "id": "BLNj0Z2EYA4W",
        "colab_type": "text"
      },
      "source": [
        "* 감이 안 옵니다. 중간에 있는 Mr. 호칭을 볼까요. \n",
        "* ['Initial']이란 열을 새로 만들어서 여기에 Name에서 추출한 Regular Expression을 넣습니다.\n",
        "* 아래에서 str.extract('([A-Za-z]+)\\.')부분은 str에서 대문자 A~Z, 소문자 a~z 중에 \\. 명령을 통해 .으로 끝나는 부분을 추출해 내는 것입니다.  \n",
        "* ('^([A-Za-z]+)')으로 하면 처음에 나오는 문자 덩어리가 될 것이고 +를 빼면 첫 스펠링 한캐릭터만 추출합니다. \n",
        "\n"
      ]
    },
    {
      "cell_type": "code",
      "metadata": {
        "id": "hy0tPxvTY0DZ",
        "colab_type": "code",
        "colab": {}
      },
      "source": [
        "train['Initial']=0\n",
        "for i in train:\n",
        "    train['Initial']=train.Name.str.extract('([A-Za-z]+)\\.')"
      ],
      "execution_count": 0,
      "outputs": []
    },
    {
      "cell_type": "code",
      "metadata": {
        "id": "JSghNr4JaCeD",
        "colab_type": "code",
        "colab": {
          "base_uri": "https://localhost:8080/",
          "height": 197
        },
        "outputId": "ffbefe69-a02b-445a-adbe-0621b721cca2"
      },
      "source": [
        "train.head()"
      ],
      "execution_count": 43,
      "outputs": [
        {
          "output_type": "execute_result",
          "data": {
            "text/html": [
              "<div>\n",
              "<style scoped>\n",
              "    .dataframe tbody tr th:only-of-type {\n",
              "        vertical-align: middle;\n",
              "    }\n",
              "\n",
              "    .dataframe tbody tr th {\n",
              "        vertical-align: top;\n",
              "    }\n",
              "\n",
              "    .dataframe thead th {\n",
              "        text-align: right;\n",
              "    }\n",
              "</style>\n",
              "<table border=\"1\" class=\"dataframe\">\n",
              "  <thead>\n",
              "    <tr style=\"text-align: right;\">\n",
              "      <th></th>\n",
              "      <th>PassengerId</th>\n",
              "      <th>Survived</th>\n",
              "      <th>Pclass</th>\n",
              "      <th>Name</th>\n",
              "      <th>Sex</th>\n",
              "      <th>Age</th>\n",
              "      <th>SibSp</th>\n",
              "      <th>Parch</th>\n",
              "      <th>Ticket</th>\n",
              "      <th>Fare</th>\n",
              "      <th>Cabin</th>\n",
              "      <th>Embarked</th>\n",
              "      <th>Initial</th>\n",
              "    </tr>\n",
              "  </thead>\n",
              "  <tbody>\n",
              "    <tr>\n",
              "      <th>0</th>\n",
              "      <td>1</td>\n",
              "      <td>0</td>\n",
              "      <td>3</td>\n",
              "      <td>Braund, Mr. Owen Harris</td>\n",
              "      <td>male</td>\n",
              "      <td>22.0</td>\n",
              "      <td>1</td>\n",
              "      <td>0</td>\n",
              "      <td>A/5 21171</td>\n",
              "      <td>7.2500</td>\n",
              "      <td>NaN</td>\n",
              "      <td>S</td>\n",
              "      <td>Mr</td>\n",
              "    </tr>\n",
              "    <tr>\n",
              "      <th>1</th>\n",
              "      <td>2</td>\n",
              "      <td>1</td>\n",
              "      <td>1</td>\n",
              "      <td>Cumings, Mrs. John Bradley (Florence Briggs Th...</td>\n",
              "      <td>female</td>\n",
              "      <td>38.0</td>\n",
              "      <td>1</td>\n",
              "      <td>0</td>\n",
              "      <td>PC 17599</td>\n",
              "      <td>71.2833</td>\n",
              "      <td>C85</td>\n",
              "      <td>C</td>\n",
              "      <td>Mrs</td>\n",
              "    </tr>\n",
              "    <tr>\n",
              "      <th>2</th>\n",
              "      <td>3</td>\n",
              "      <td>1</td>\n",
              "      <td>3</td>\n",
              "      <td>Heikkinen, Miss. Laina</td>\n",
              "      <td>female</td>\n",
              "      <td>26.0</td>\n",
              "      <td>0</td>\n",
              "      <td>0</td>\n",
              "      <td>STON/O2. 3101282</td>\n",
              "      <td>7.9250</td>\n",
              "      <td>NaN</td>\n",
              "      <td>S</td>\n",
              "      <td>Miss</td>\n",
              "    </tr>\n",
              "    <tr>\n",
              "      <th>3</th>\n",
              "      <td>4</td>\n",
              "      <td>1</td>\n",
              "      <td>1</td>\n",
              "      <td>Futrelle, Mrs. Jacques Heath (Lily May Peel)</td>\n",
              "      <td>female</td>\n",
              "      <td>35.0</td>\n",
              "      <td>1</td>\n",
              "      <td>0</td>\n",
              "      <td>113803</td>\n",
              "      <td>53.1000</td>\n",
              "      <td>C123</td>\n",
              "      <td>S</td>\n",
              "      <td>Mrs</td>\n",
              "    </tr>\n",
              "    <tr>\n",
              "      <th>4</th>\n",
              "      <td>5</td>\n",
              "      <td>0</td>\n",
              "      <td>3</td>\n",
              "      <td>Allen, Mr. William Henry</td>\n",
              "      <td>male</td>\n",
              "      <td>35.0</td>\n",
              "      <td>0</td>\n",
              "      <td>0</td>\n",
              "      <td>373450</td>\n",
              "      <td>8.0500</td>\n",
              "      <td>NaN</td>\n",
              "      <td>S</td>\n",
              "      <td>Mr</td>\n",
              "    </tr>\n",
              "  </tbody>\n",
              "</table>\n",
              "</div>"
            ],
            "text/plain": [
              "   PassengerId  Survived  Pclass  ... Cabin Embarked  Initial\n",
              "0            1         0       3  ...   NaN        S       Mr\n",
              "1            2         1       1  ...   C85        C      Mrs\n",
              "2            3         1       3  ...   NaN        S     Miss\n",
              "3            4         1       1  ...  C123        S      Mrs\n",
              "4            5         0       3  ...   NaN        S       Mr\n",
              "\n",
              "[5 rows x 13 columns]"
            ]
          },
          "metadata": {
            "tags": []
          },
          "execution_count": 43
        }
      ]
    },
    {
      "cell_type": "markdown",
      "metadata": {
        "id": "6XRm3esmaAvb",
        "colab_type": "text"
      },
      "source": [
        "* 이를 성별로 봅니다."
      ]
    },
    {
      "cell_type": "code",
      "metadata": {
        "id": "QiCjaFseaX_a",
        "colab_type": "code",
        "colab": {
          "base_uri": "https://localhost:8080/",
          "height": 88
        },
        "outputId": "ec7e3ec3-bef7-4ff8-9e01-29f3f8fe78b8"
      },
      "source": [
        "pd.crosstab(train.Initial,train.Sex).T.style.background_gradient(cmap='summer_r')"
      ],
      "execution_count": 44,
      "outputs": [
        {
          "output_type": "execute_result",
          "data": {
            "text/html": [
              "<style  type=\"text/css\" >\n",
              "    #T_5f8ed578_238c_11ea_acb2_0242ac1c0002row0_col0 {\n",
              "            background-color:  #ffff66;\n",
              "            color:  #000000;\n",
              "        }    #T_5f8ed578_238c_11ea_acb2_0242ac1c0002row0_col1 {\n",
              "            background-color:  #ffff66;\n",
              "            color:  #000000;\n",
              "        }    #T_5f8ed578_238c_11ea_acb2_0242ac1c0002row0_col2 {\n",
              "            background-color:  #008066;\n",
              "            color:  #f1f1f1;\n",
              "        }    #T_5f8ed578_238c_11ea_acb2_0242ac1c0002row0_col3 {\n",
              "            background-color:  #ffff66;\n",
              "            color:  #000000;\n",
              "        }    #T_5f8ed578_238c_11ea_acb2_0242ac1c0002row0_col4 {\n",
              "            background-color:  #ffff66;\n",
              "            color:  #000000;\n",
              "        }    #T_5f8ed578_238c_11ea_acb2_0242ac1c0002row0_col5 {\n",
              "            background-color:  #ffff66;\n",
              "            color:  #000000;\n",
              "        }    #T_5f8ed578_238c_11ea_acb2_0242ac1c0002row0_col6 {\n",
              "            background-color:  #008066;\n",
              "            color:  #f1f1f1;\n",
              "        }    #T_5f8ed578_238c_11ea_acb2_0242ac1c0002row0_col7 {\n",
              "            background-color:  #ffff66;\n",
              "            color:  #000000;\n",
              "        }    #T_5f8ed578_238c_11ea_acb2_0242ac1c0002row0_col8 {\n",
              "            background-color:  #ffff66;\n",
              "            color:  #000000;\n",
              "        }    #T_5f8ed578_238c_11ea_acb2_0242ac1c0002row0_col9 {\n",
              "            background-color:  #008066;\n",
              "            color:  #f1f1f1;\n",
              "        }    #T_5f8ed578_238c_11ea_acb2_0242ac1c0002row0_col10 {\n",
              "            background-color:  #008066;\n",
              "            color:  #f1f1f1;\n",
              "        }    #T_5f8ed578_238c_11ea_acb2_0242ac1c0002row0_col11 {\n",
              "            background-color:  #008066;\n",
              "            color:  #f1f1f1;\n",
              "        }    #T_5f8ed578_238c_11ea_acb2_0242ac1c0002row0_col12 {\n",
              "            background-color:  #ffff66;\n",
              "            color:  #000000;\n",
              "        }    #T_5f8ed578_238c_11ea_acb2_0242ac1c0002row0_col13 {\n",
              "            background-color:  #008066;\n",
              "            color:  #f1f1f1;\n",
              "        }    #T_5f8ed578_238c_11ea_acb2_0242ac1c0002row0_col14 {\n",
              "            background-color:  #008066;\n",
              "            color:  #f1f1f1;\n",
              "        }    #T_5f8ed578_238c_11ea_acb2_0242ac1c0002row0_col15 {\n",
              "            background-color:  #ffff66;\n",
              "            color:  #000000;\n",
              "        }    #T_5f8ed578_238c_11ea_acb2_0242ac1c0002row0_col16 {\n",
              "            background-color:  #ffff66;\n",
              "            color:  #000000;\n",
              "        }    #T_5f8ed578_238c_11ea_acb2_0242ac1c0002row1_col0 {\n",
              "            background-color:  #008066;\n",
              "            color:  #f1f1f1;\n",
              "        }    #T_5f8ed578_238c_11ea_acb2_0242ac1c0002row1_col1 {\n",
              "            background-color:  #008066;\n",
              "            color:  #f1f1f1;\n",
              "        }    #T_5f8ed578_238c_11ea_acb2_0242ac1c0002row1_col2 {\n",
              "            background-color:  #ffff66;\n",
              "            color:  #000000;\n",
              "        }    #T_5f8ed578_238c_11ea_acb2_0242ac1c0002row1_col3 {\n",
              "            background-color:  #008066;\n",
              "            color:  #f1f1f1;\n",
              "        }    #T_5f8ed578_238c_11ea_acb2_0242ac1c0002row1_col4 {\n",
              "            background-color:  #008066;\n",
              "            color:  #f1f1f1;\n",
              "        }    #T_5f8ed578_238c_11ea_acb2_0242ac1c0002row1_col5 {\n",
              "            background-color:  #008066;\n",
              "            color:  #f1f1f1;\n",
              "        }    #T_5f8ed578_238c_11ea_acb2_0242ac1c0002row1_col6 {\n",
              "            background-color:  #ffff66;\n",
              "            color:  #000000;\n",
              "        }    #T_5f8ed578_238c_11ea_acb2_0242ac1c0002row1_col7 {\n",
              "            background-color:  #008066;\n",
              "            color:  #f1f1f1;\n",
              "        }    #T_5f8ed578_238c_11ea_acb2_0242ac1c0002row1_col8 {\n",
              "            background-color:  #008066;\n",
              "            color:  #f1f1f1;\n",
              "        }    #T_5f8ed578_238c_11ea_acb2_0242ac1c0002row1_col9 {\n",
              "            background-color:  #ffff66;\n",
              "            color:  #000000;\n",
              "        }    #T_5f8ed578_238c_11ea_acb2_0242ac1c0002row1_col10 {\n",
              "            background-color:  #ffff66;\n",
              "            color:  #000000;\n",
              "        }    #T_5f8ed578_238c_11ea_acb2_0242ac1c0002row1_col11 {\n",
              "            background-color:  #ffff66;\n",
              "            color:  #000000;\n",
              "        }    #T_5f8ed578_238c_11ea_acb2_0242ac1c0002row1_col12 {\n",
              "            background-color:  #008066;\n",
              "            color:  #f1f1f1;\n",
              "        }    #T_5f8ed578_238c_11ea_acb2_0242ac1c0002row1_col13 {\n",
              "            background-color:  #ffff66;\n",
              "            color:  #000000;\n",
              "        }    #T_5f8ed578_238c_11ea_acb2_0242ac1c0002row1_col14 {\n",
              "            background-color:  #ffff66;\n",
              "            color:  #000000;\n",
              "        }    #T_5f8ed578_238c_11ea_acb2_0242ac1c0002row1_col15 {\n",
              "            background-color:  #008066;\n",
              "            color:  #f1f1f1;\n",
              "        }    #T_5f8ed578_238c_11ea_acb2_0242ac1c0002row1_col16 {\n",
              "            background-color:  #008066;\n",
              "            color:  #f1f1f1;\n",
              "        }</style><table id=\"T_5f8ed578_238c_11ea_acb2_0242ac1c0002\" ><thead>    <tr>        <th class=\"index_name level0\" >Initial</th>        <th class=\"col_heading level0 col0\" >Capt</th>        <th class=\"col_heading level0 col1\" >Col</th>        <th class=\"col_heading level0 col2\" >Countess</th>        <th class=\"col_heading level0 col3\" >Don</th>        <th class=\"col_heading level0 col4\" >Dr</th>        <th class=\"col_heading level0 col5\" >Jonkheer</th>        <th class=\"col_heading level0 col6\" >Lady</th>        <th class=\"col_heading level0 col7\" >Major</th>        <th class=\"col_heading level0 col8\" >Master</th>        <th class=\"col_heading level0 col9\" >Miss</th>        <th class=\"col_heading level0 col10\" >Mlle</th>        <th class=\"col_heading level0 col11\" >Mme</th>        <th class=\"col_heading level0 col12\" >Mr</th>        <th class=\"col_heading level0 col13\" >Mrs</th>        <th class=\"col_heading level0 col14\" >Ms</th>        <th class=\"col_heading level0 col15\" >Rev</th>        <th class=\"col_heading level0 col16\" >Sir</th>    </tr>    <tr>        <th class=\"index_name level0\" >Sex</th>        <th class=\"blank\" ></th>        <th class=\"blank\" ></th>        <th class=\"blank\" ></th>        <th class=\"blank\" ></th>        <th class=\"blank\" ></th>        <th class=\"blank\" ></th>        <th class=\"blank\" ></th>        <th class=\"blank\" ></th>        <th class=\"blank\" ></th>        <th class=\"blank\" ></th>        <th class=\"blank\" ></th>        <th class=\"blank\" ></th>        <th class=\"blank\" ></th>        <th class=\"blank\" ></th>        <th class=\"blank\" ></th>        <th class=\"blank\" ></th>        <th class=\"blank\" ></th>    </tr></thead><tbody>\n",
              "                <tr>\n",
              "                        <th id=\"T_5f8ed578_238c_11ea_acb2_0242ac1c0002level0_row0\" class=\"row_heading level0 row0\" >female</th>\n",
              "                        <td id=\"T_5f8ed578_238c_11ea_acb2_0242ac1c0002row0_col0\" class=\"data row0 col0\" >0</td>\n",
              "                        <td id=\"T_5f8ed578_238c_11ea_acb2_0242ac1c0002row0_col1\" class=\"data row0 col1\" >0</td>\n",
              "                        <td id=\"T_5f8ed578_238c_11ea_acb2_0242ac1c0002row0_col2\" class=\"data row0 col2\" >1</td>\n",
              "                        <td id=\"T_5f8ed578_238c_11ea_acb2_0242ac1c0002row0_col3\" class=\"data row0 col3\" >0</td>\n",
              "                        <td id=\"T_5f8ed578_238c_11ea_acb2_0242ac1c0002row0_col4\" class=\"data row0 col4\" >1</td>\n",
              "                        <td id=\"T_5f8ed578_238c_11ea_acb2_0242ac1c0002row0_col5\" class=\"data row0 col5\" >0</td>\n",
              "                        <td id=\"T_5f8ed578_238c_11ea_acb2_0242ac1c0002row0_col6\" class=\"data row0 col6\" >1</td>\n",
              "                        <td id=\"T_5f8ed578_238c_11ea_acb2_0242ac1c0002row0_col7\" class=\"data row0 col7\" >0</td>\n",
              "                        <td id=\"T_5f8ed578_238c_11ea_acb2_0242ac1c0002row0_col8\" class=\"data row0 col8\" >0</td>\n",
              "                        <td id=\"T_5f8ed578_238c_11ea_acb2_0242ac1c0002row0_col9\" class=\"data row0 col9\" >182</td>\n",
              "                        <td id=\"T_5f8ed578_238c_11ea_acb2_0242ac1c0002row0_col10\" class=\"data row0 col10\" >2</td>\n",
              "                        <td id=\"T_5f8ed578_238c_11ea_acb2_0242ac1c0002row0_col11\" class=\"data row0 col11\" >1</td>\n",
              "                        <td id=\"T_5f8ed578_238c_11ea_acb2_0242ac1c0002row0_col12\" class=\"data row0 col12\" >0</td>\n",
              "                        <td id=\"T_5f8ed578_238c_11ea_acb2_0242ac1c0002row0_col13\" class=\"data row0 col13\" >125</td>\n",
              "                        <td id=\"T_5f8ed578_238c_11ea_acb2_0242ac1c0002row0_col14\" class=\"data row0 col14\" >1</td>\n",
              "                        <td id=\"T_5f8ed578_238c_11ea_acb2_0242ac1c0002row0_col15\" class=\"data row0 col15\" >0</td>\n",
              "                        <td id=\"T_5f8ed578_238c_11ea_acb2_0242ac1c0002row0_col16\" class=\"data row0 col16\" >0</td>\n",
              "            </tr>\n",
              "            <tr>\n",
              "                        <th id=\"T_5f8ed578_238c_11ea_acb2_0242ac1c0002level0_row1\" class=\"row_heading level0 row1\" >male</th>\n",
              "                        <td id=\"T_5f8ed578_238c_11ea_acb2_0242ac1c0002row1_col0\" class=\"data row1 col0\" >1</td>\n",
              "                        <td id=\"T_5f8ed578_238c_11ea_acb2_0242ac1c0002row1_col1\" class=\"data row1 col1\" >2</td>\n",
              "                        <td id=\"T_5f8ed578_238c_11ea_acb2_0242ac1c0002row1_col2\" class=\"data row1 col2\" >0</td>\n",
              "                        <td id=\"T_5f8ed578_238c_11ea_acb2_0242ac1c0002row1_col3\" class=\"data row1 col3\" >1</td>\n",
              "                        <td id=\"T_5f8ed578_238c_11ea_acb2_0242ac1c0002row1_col4\" class=\"data row1 col4\" >6</td>\n",
              "                        <td id=\"T_5f8ed578_238c_11ea_acb2_0242ac1c0002row1_col5\" class=\"data row1 col5\" >1</td>\n",
              "                        <td id=\"T_5f8ed578_238c_11ea_acb2_0242ac1c0002row1_col6\" class=\"data row1 col6\" >0</td>\n",
              "                        <td id=\"T_5f8ed578_238c_11ea_acb2_0242ac1c0002row1_col7\" class=\"data row1 col7\" >2</td>\n",
              "                        <td id=\"T_5f8ed578_238c_11ea_acb2_0242ac1c0002row1_col8\" class=\"data row1 col8\" >40</td>\n",
              "                        <td id=\"T_5f8ed578_238c_11ea_acb2_0242ac1c0002row1_col9\" class=\"data row1 col9\" >0</td>\n",
              "                        <td id=\"T_5f8ed578_238c_11ea_acb2_0242ac1c0002row1_col10\" class=\"data row1 col10\" >0</td>\n",
              "                        <td id=\"T_5f8ed578_238c_11ea_acb2_0242ac1c0002row1_col11\" class=\"data row1 col11\" >0</td>\n",
              "                        <td id=\"T_5f8ed578_238c_11ea_acb2_0242ac1c0002row1_col12\" class=\"data row1 col12\" >517</td>\n",
              "                        <td id=\"T_5f8ed578_238c_11ea_acb2_0242ac1c0002row1_col13\" class=\"data row1 col13\" >0</td>\n",
              "                        <td id=\"T_5f8ed578_238c_11ea_acb2_0242ac1c0002row1_col14\" class=\"data row1 col14\" >0</td>\n",
              "                        <td id=\"T_5f8ed578_238c_11ea_acb2_0242ac1c0002row1_col15\" class=\"data row1 col15\" >6</td>\n",
              "                        <td id=\"T_5f8ed578_238c_11ea_acb2_0242ac1c0002row1_col16\" class=\"data row1 col16\" >1</td>\n",
              "            </tr>\n",
              "    </tbody></table>"
            ],
            "text/plain": [
              "<pandas.io.formats.style.Styler at 0x7f8f5aebec88>"
            ]
          },
          "metadata": {
            "tags": []
          },
          "execution_count": 44
        }
      ]
    },
    {
      "cell_type": "markdown",
      "metadata": {
        "id": "Q3A5ZrILaf-i",
        "colab_type": "text"
      },
      "source": [
        "* 생존률로 봅니다."
      ]
    },
    {
      "cell_type": "code",
      "metadata": {
        "id": "2X7UvLsDaljt",
        "colab_type": "code",
        "colab": {
          "base_uri": "https://localhost:8080/",
          "height": 354
        },
        "outputId": "a590c3de-f6c3-44cf-8da6-7c4a275901ca"
      },
      "source": [
        "survpct('Initial')"
      ],
      "execution_count": 45,
      "outputs": [
        {
          "output_type": "execute_result",
          "data": {
            "text/plain": [
              "Initial\n",
              "Capt        0.000000\n",
              "Col         0.500000\n",
              "Countess    1.000000\n",
              "Don         0.000000\n",
              "Dr          0.428571\n",
              "Jonkheer    0.000000\n",
              "Lady        1.000000\n",
              "Major       0.500000\n",
              "Master      0.575000\n",
              "Miss        0.697802\n",
              "Mlle        1.000000\n",
              "Mme         1.000000\n",
              "Mr          0.156673\n",
              "Mrs         0.792000\n",
              "Ms          1.000000\n",
              "Rev         0.000000\n",
              "Sir         1.000000\n",
              "Name: Survived, dtype: float64"
            ]
          },
          "metadata": {
            "tags": []
          },
          "execution_count": 45
        }
      ]
    },
    {
      "cell_type": "markdown",
      "metadata": {
        "id": "sITdYZ68bARJ",
        "colab_type": "text"
      },
      "source": [
        "* 생존 숫자로 봅니다."
      ]
    },
    {
      "cell_type": "code",
      "metadata": {
        "id": "Np-F0toEbNsF",
        "colab_type": "code",
        "colab": {
          "base_uri": "https://localhost:8080/",
          "height": 88
        },
        "outputId": "4c78f255-3cc5-4231-b089-affd2a3be623"
      },
      "source": [
        "pd.crosstab(train.Initial,train.Survived).T.style.background_gradient(cmap='summer_r')"
      ],
      "execution_count": 46,
      "outputs": [
        {
          "output_type": "execute_result",
          "data": {
            "text/html": [
              "<style  type=\"text/css\" >\n",
              "    #T_64a2f012_238c_11ea_acb2_0242ac1c0002row0_col0 {\n",
              "            background-color:  #008066;\n",
              "            color:  #f1f1f1;\n",
              "        }    #T_64a2f012_238c_11ea_acb2_0242ac1c0002row0_col1 {\n",
              "            background-color:  #ffff66;\n",
              "            color:  #000000;\n",
              "        }    #T_64a2f012_238c_11ea_acb2_0242ac1c0002row0_col2 {\n",
              "            background-color:  #ffff66;\n",
              "            color:  #000000;\n",
              "        }    #T_64a2f012_238c_11ea_acb2_0242ac1c0002row0_col3 {\n",
              "            background-color:  #008066;\n",
              "            color:  #f1f1f1;\n",
              "        }    #T_64a2f012_238c_11ea_acb2_0242ac1c0002row0_col4 {\n",
              "            background-color:  #008066;\n",
              "            color:  #f1f1f1;\n",
              "        }    #T_64a2f012_238c_11ea_acb2_0242ac1c0002row0_col5 {\n",
              "            background-color:  #008066;\n",
              "            color:  #f1f1f1;\n",
              "        }    #T_64a2f012_238c_11ea_acb2_0242ac1c0002row0_col6 {\n",
              "            background-color:  #ffff66;\n",
              "            color:  #000000;\n",
              "        }    #T_64a2f012_238c_11ea_acb2_0242ac1c0002row0_col7 {\n",
              "            background-color:  #ffff66;\n",
              "            color:  #000000;\n",
              "        }    #T_64a2f012_238c_11ea_acb2_0242ac1c0002row0_col8 {\n",
              "            background-color:  #ffff66;\n",
              "            color:  #000000;\n",
              "        }    #T_64a2f012_238c_11ea_acb2_0242ac1c0002row0_col9 {\n",
              "            background-color:  #ffff66;\n",
              "            color:  #000000;\n",
              "        }    #T_64a2f012_238c_11ea_acb2_0242ac1c0002row0_col10 {\n",
              "            background-color:  #ffff66;\n",
              "            color:  #000000;\n",
              "        }    #T_64a2f012_238c_11ea_acb2_0242ac1c0002row0_col11 {\n",
              "            background-color:  #ffff66;\n",
              "            color:  #000000;\n",
              "        }    #T_64a2f012_238c_11ea_acb2_0242ac1c0002row0_col12 {\n",
              "            background-color:  #008066;\n",
              "            color:  #f1f1f1;\n",
              "        }    #T_64a2f012_238c_11ea_acb2_0242ac1c0002row0_col13 {\n",
              "            background-color:  #ffff66;\n",
              "            color:  #000000;\n",
              "        }    #T_64a2f012_238c_11ea_acb2_0242ac1c0002row0_col14 {\n",
              "            background-color:  #ffff66;\n",
              "            color:  #000000;\n",
              "        }    #T_64a2f012_238c_11ea_acb2_0242ac1c0002row0_col15 {\n",
              "            background-color:  #008066;\n",
              "            color:  #f1f1f1;\n",
              "        }    #T_64a2f012_238c_11ea_acb2_0242ac1c0002row0_col16 {\n",
              "            background-color:  #ffff66;\n",
              "            color:  #000000;\n",
              "        }    #T_64a2f012_238c_11ea_acb2_0242ac1c0002row1_col0 {\n",
              "            background-color:  #ffff66;\n",
              "            color:  #000000;\n",
              "        }    #T_64a2f012_238c_11ea_acb2_0242ac1c0002row1_col1 {\n",
              "            background-color:  #ffff66;\n",
              "            color:  #000000;\n",
              "        }    #T_64a2f012_238c_11ea_acb2_0242ac1c0002row1_col2 {\n",
              "            background-color:  #008066;\n",
              "            color:  #f1f1f1;\n",
              "        }    #T_64a2f012_238c_11ea_acb2_0242ac1c0002row1_col3 {\n",
              "            background-color:  #ffff66;\n",
              "            color:  #000000;\n",
              "        }    #T_64a2f012_238c_11ea_acb2_0242ac1c0002row1_col4 {\n",
              "            background-color:  #ffff66;\n",
              "            color:  #000000;\n",
              "        }    #T_64a2f012_238c_11ea_acb2_0242ac1c0002row1_col5 {\n",
              "            background-color:  #ffff66;\n",
              "            color:  #000000;\n",
              "        }    #T_64a2f012_238c_11ea_acb2_0242ac1c0002row1_col6 {\n",
              "            background-color:  #008066;\n",
              "            color:  #f1f1f1;\n",
              "        }    #T_64a2f012_238c_11ea_acb2_0242ac1c0002row1_col7 {\n",
              "            background-color:  #ffff66;\n",
              "            color:  #000000;\n",
              "        }    #T_64a2f012_238c_11ea_acb2_0242ac1c0002row1_col8 {\n",
              "            background-color:  #008066;\n",
              "            color:  #f1f1f1;\n",
              "        }    #T_64a2f012_238c_11ea_acb2_0242ac1c0002row1_col9 {\n",
              "            background-color:  #008066;\n",
              "            color:  #f1f1f1;\n",
              "        }    #T_64a2f012_238c_11ea_acb2_0242ac1c0002row1_col10 {\n",
              "            background-color:  #008066;\n",
              "            color:  #f1f1f1;\n",
              "        }    #T_64a2f012_238c_11ea_acb2_0242ac1c0002row1_col11 {\n",
              "            background-color:  #008066;\n",
              "            color:  #f1f1f1;\n",
              "        }    #T_64a2f012_238c_11ea_acb2_0242ac1c0002row1_col12 {\n",
              "            background-color:  #ffff66;\n",
              "            color:  #000000;\n",
              "        }    #T_64a2f012_238c_11ea_acb2_0242ac1c0002row1_col13 {\n",
              "            background-color:  #008066;\n",
              "            color:  #f1f1f1;\n",
              "        }    #T_64a2f012_238c_11ea_acb2_0242ac1c0002row1_col14 {\n",
              "            background-color:  #008066;\n",
              "            color:  #f1f1f1;\n",
              "        }    #T_64a2f012_238c_11ea_acb2_0242ac1c0002row1_col15 {\n",
              "            background-color:  #ffff66;\n",
              "            color:  #000000;\n",
              "        }    #T_64a2f012_238c_11ea_acb2_0242ac1c0002row1_col16 {\n",
              "            background-color:  #008066;\n",
              "            color:  #f1f1f1;\n",
              "        }</style><table id=\"T_64a2f012_238c_11ea_acb2_0242ac1c0002\" ><thead>    <tr>        <th class=\"index_name level0\" >Initial</th>        <th class=\"col_heading level0 col0\" >Capt</th>        <th class=\"col_heading level0 col1\" >Col</th>        <th class=\"col_heading level0 col2\" >Countess</th>        <th class=\"col_heading level0 col3\" >Don</th>        <th class=\"col_heading level0 col4\" >Dr</th>        <th class=\"col_heading level0 col5\" >Jonkheer</th>        <th class=\"col_heading level0 col6\" >Lady</th>        <th class=\"col_heading level0 col7\" >Major</th>        <th class=\"col_heading level0 col8\" >Master</th>        <th class=\"col_heading level0 col9\" >Miss</th>        <th class=\"col_heading level0 col10\" >Mlle</th>        <th class=\"col_heading level0 col11\" >Mme</th>        <th class=\"col_heading level0 col12\" >Mr</th>        <th class=\"col_heading level0 col13\" >Mrs</th>        <th class=\"col_heading level0 col14\" >Ms</th>        <th class=\"col_heading level0 col15\" >Rev</th>        <th class=\"col_heading level0 col16\" >Sir</th>    </tr>    <tr>        <th class=\"index_name level0\" >Survived</th>        <th class=\"blank\" ></th>        <th class=\"blank\" ></th>        <th class=\"blank\" ></th>        <th class=\"blank\" ></th>        <th class=\"blank\" ></th>        <th class=\"blank\" ></th>        <th class=\"blank\" ></th>        <th class=\"blank\" ></th>        <th class=\"blank\" ></th>        <th class=\"blank\" ></th>        <th class=\"blank\" ></th>        <th class=\"blank\" ></th>        <th class=\"blank\" ></th>        <th class=\"blank\" ></th>        <th class=\"blank\" ></th>        <th class=\"blank\" ></th>        <th class=\"blank\" ></th>    </tr></thead><tbody>\n",
              "                <tr>\n",
              "                        <th id=\"T_64a2f012_238c_11ea_acb2_0242ac1c0002level0_row0\" class=\"row_heading level0 row0\" >0</th>\n",
              "                        <td id=\"T_64a2f012_238c_11ea_acb2_0242ac1c0002row0_col0\" class=\"data row0 col0\" >1</td>\n",
              "                        <td id=\"T_64a2f012_238c_11ea_acb2_0242ac1c0002row0_col1\" class=\"data row0 col1\" >1</td>\n",
              "                        <td id=\"T_64a2f012_238c_11ea_acb2_0242ac1c0002row0_col2\" class=\"data row0 col2\" >0</td>\n",
              "                        <td id=\"T_64a2f012_238c_11ea_acb2_0242ac1c0002row0_col3\" class=\"data row0 col3\" >1</td>\n",
              "                        <td id=\"T_64a2f012_238c_11ea_acb2_0242ac1c0002row0_col4\" class=\"data row0 col4\" >4</td>\n",
              "                        <td id=\"T_64a2f012_238c_11ea_acb2_0242ac1c0002row0_col5\" class=\"data row0 col5\" >1</td>\n",
              "                        <td id=\"T_64a2f012_238c_11ea_acb2_0242ac1c0002row0_col6\" class=\"data row0 col6\" >0</td>\n",
              "                        <td id=\"T_64a2f012_238c_11ea_acb2_0242ac1c0002row0_col7\" class=\"data row0 col7\" >1</td>\n",
              "                        <td id=\"T_64a2f012_238c_11ea_acb2_0242ac1c0002row0_col8\" class=\"data row0 col8\" >17</td>\n",
              "                        <td id=\"T_64a2f012_238c_11ea_acb2_0242ac1c0002row0_col9\" class=\"data row0 col9\" >55</td>\n",
              "                        <td id=\"T_64a2f012_238c_11ea_acb2_0242ac1c0002row0_col10\" class=\"data row0 col10\" >0</td>\n",
              "                        <td id=\"T_64a2f012_238c_11ea_acb2_0242ac1c0002row0_col11\" class=\"data row0 col11\" >0</td>\n",
              "                        <td id=\"T_64a2f012_238c_11ea_acb2_0242ac1c0002row0_col12\" class=\"data row0 col12\" >436</td>\n",
              "                        <td id=\"T_64a2f012_238c_11ea_acb2_0242ac1c0002row0_col13\" class=\"data row0 col13\" >26</td>\n",
              "                        <td id=\"T_64a2f012_238c_11ea_acb2_0242ac1c0002row0_col14\" class=\"data row0 col14\" >0</td>\n",
              "                        <td id=\"T_64a2f012_238c_11ea_acb2_0242ac1c0002row0_col15\" class=\"data row0 col15\" >6</td>\n",
              "                        <td id=\"T_64a2f012_238c_11ea_acb2_0242ac1c0002row0_col16\" class=\"data row0 col16\" >0</td>\n",
              "            </tr>\n",
              "            <tr>\n",
              "                        <th id=\"T_64a2f012_238c_11ea_acb2_0242ac1c0002level0_row1\" class=\"row_heading level0 row1\" >1</th>\n",
              "                        <td id=\"T_64a2f012_238c_11ea_acb2_0242ac1c0002row1_col0\" class=\"data row1 col0\" >0</td>\n",
              "                        <td id=\"T_64a2f012_238c_11ea_acb2_0242ac1c0002row1_col1\" class=\"data row1 col1\" >1</td>\n",
              "                        <td id=\"T_64a2f012_238c_11ea_acb2_0242ac1c0002row1_col2\" class=\"data row1 col2\" >1</td>\n",
              "                        <td id=\"T_64a2f012_238c_11ea_acb2_0242ac1c0002row1_col3\" class=\"data row1 col3\" >0</td>\n",
              "                        <td id=\"T_64a2f012_238c_11ea_acb2_0242ac1c0002row1_col4\" class=\"data row1 col4\" >3</td>\n",
              "                        <td id=\"T_64a2f012_238c_11ea_acb2_0242ac1c0002row1_col5\" class=\"data row1 col5\" >0</td>\n",
              "                        <td id=\"T_64a2f012_238c_11ea_acb2_0242ac1c0002row1_col6\" class=\"data row1 col6\" >1</td>\n",
              "                        <td id=\"T_64a2f012_238c_11ea_acb2_0242ac1c0002row1_col7\" class=\"data row1 col7\" >1</td>\n",
              "                        <td id=\"T_64a2f012_238c_11ea_acb2_0242ac1c0002row1_col8\" class=\"data row1 col8\" >23</td>\n",
              "                        <td id=\"T_64a2f012_238c_11ea_acb2_0242ac1c0002row1_col9\" class=\"data row1 col9\" >127</td>\n",
              "                        <td id=\"T_64a2f012_238c_11ea_acb2_0242ac1c0002row1_col10\" class=\"data row1 col10\" >2</td>\n",
              "                        <td id=\"T_64a2f012_238c_11ea_acb2_0242ac1c0002row1_col11\" class=\"data row1 col11\" >1</td>\n",
              "                        <td id=\"T_64a2f012_238c_11ea_acb2_0242ac1c0002row1_col12\" class=\"data row1 col12\" >81</td>\n",
              "                        <td id=\"T_64a2f012_238c_11ea_acb2_0242ac1c0002row1_col13\" class=\"data row1 col13\" >99</td>\n",
              "                        <td id=\"T_64a2f012_238c_11ea_acb2_0242ac1c0002row1_col14\" class=\"data row1 col14\" >1</td>\n",
              "                        <td id=\"T_64a2f012_238c_11ea_acb2_0242ac1c0002row1_col15\" class=\"data row1 col15\" >0</td>\n",
              "                        <td id=\"T_64a2f012_238c_11ea_acb2_0242ac1c0002row1_col16\" class=\"data row1 col16\" >1</td>\n",
              "            </tr>\n",
              "    </tbody></table>"
            ],
            "text/plain": [
              "<pandas.io.formats.style.Styler at 0x7f8f5af08630>"
            ]
          },
          "metadata": {
            "tags": []
          },
          "execution_count": 46
        }
      ]
    },
    {
      "cell_type": "markdown",
      "metadata": {
        "id": "woAIuoNa81Tq",
        "colab_type": "text"
      },
      "source": [
        "####하나씩 봅니다.\n",
        "\n",
        "* Capt: 대위이니 젊은 군인으로 희생을 자처했을 가능성이 크다. Young Soldier --> ys\n",
        "* Col: 대령이니 중년 군인. Old Soldier --> os\n",
        "* Countess: 여성 귀족 --> Female Noble --> fn\n",
        "* Don: Donald의 약자 ?  -> mr\n",
        "* Dr: 의사 선생님 --> dr\n",
        "* Johnkheer: 남자 이름인듯 --> mr\n",
        "* Lady: 여성 귀족 --> fn\n",
        "* Major: 역시 영관급이니 --> os\n",
        "* Master: 아이들 --> ma\n",
        "* Miss: 젊은 여성 --> ms\n",
        "* Mlle: 마드모아젤 이니 나이 많으신 여성 귀족일 가능성이 크다 - fn \n",
        "* Mme: 마담의 프랑스어 준말로 역시 나이 많으신 프랑스 여성 귀족일 가능성이 크다. - fn\n",
        "* Mr: mr\n",
        "* Mrs: mrs\n",
        "* Ms: 요즘은 miss+mrs의 뜻이나 당시 영국에서는 한번 결혼한 여성을 ms라 불렀다. 굳이 따로 부른 것을 보면 귀족 widow가 아니었을까? - fn \n",
        "* Rev: 목사님이시니 스스로 희생했을 가능성이 크다. rv\n",
        "* Sir: 남자 귀족 - mn\n",
        "\n",
        "* 참고로 항목이 너무 많아도 문제지만 너무 병합하면 확률이 확 떨어진다.\n",
        "\n",
        "* 이들을 위에 약자로 바꾼다."
      ]
    },
    {
      "cell_type": "code",
      "metadata": {
        "id": "Q4YmRpvzB1_W",
        "colab_type": "code",
        "colab": {}
      },
      "source": [
        "train['Initial'].replace(['Mlle','Mme','Ms','Dr','Major','Lady','Countess','Jonkheer','Col','Rev','Capt','Sir','Don', 'Master', 'Miss', 'Mr', 'Mrs'],['fn','fn','fn','dr','os','fn','fn','mr','os','rv','ys','mn','mr', 'ma', 'ms', 'mr','mrs' ],inplace=True)"
      ],
      "execution_count": 0,
      "outputs": []
    },
    {
      "cell_type": "code",
      "metadata": {
        "id": "6CejCutkCoLn",
        "colab_type": "code",
        "colab": {
          "base_uri": "https://localhost:8080/",
          "height": 88
        },
        "outputId": "2aca311d-aabf-4b47-ba50-abfc546952ae"
      },
      "source": [
        "pd.crosstab(train.Initial,train.Survived).T.style.background_gradient(cmap='summer_r')"
      ],
      "execution_count": 51,
      "outputs": [
        {
          "output_type": "execute_result",
          "data": {
            "text/html": [
              "<style  type=\"text/css\" >\n",
              "    #T_9967f74e_2390_11ea_acb2_0242ac1c0002row0_col0 {\n",
              "            background-color:  #008066;\n",
              "            color:  #f1f1f1;\n",
              "        }    #T_9967f74e_2390_11ea_acb2_0242ac1c0002row0_col1 {\n",
              "            background-color:  #ffff66;\n",
              "            color:  #000000;\n",
              "        }    #T_9967f74e_2390_11ea_acb2_0242ac1c0002row0_col2 {\n",
              "            background-color:  #ffff66;\n",
              "            color:  #000000;\n",
              "        }    #T_9967f74e_2390_11ea_acb2_0242ac1c0002row0_col3 {\n",
              "            background-color:  #ffff66;\n",
              "            color:  #000000;\n",
              "        }    #T_9967f74e_2390_11ea_acb2_0242ac1c0002row0_col4 {\n",
              "            background-color:  #008066;\n",
              "            color:  #f1f1f1;\n",
              "        }    #T_9967f74e_2390_11ea_acb2_0242ac1c0002row0_col5 {\n",
              "            background-color:  #ffff66;\n",
              "            color:  #000000;\n",
              "        }    #T_9967f74e_2390_11ea_acb2_0242ac1c0002row0_col6 {\n",
              "            background-color:  #ffff66;\n",
              "            color:  #000000;\n",
              "        }    #T_9967f74e_2390_11ea_acb2_0242ac1c0002row0_col7 {\n",
              "            background-color:  #ffff66;\n",
              "            color:  #000000;\n",
              "        }    #T_9967f74e_2390_11ea_acb2_0242ac1c0002row0_col8 {\n",
              "            background-color:  #008066;\n",
              "            color:  #f1f1f1;\n",
              "        }    #T_9967f74e_2390_11ea_acb2_0242ac1c0002row0_col9 {\n",
              "            background-color:  #008066;\n",
              "            color:  #f1f1f1;\n",
              "        }    #T_9967f74e_2390_11ea_acb2_0242ac1c0002row1_col0 {\n",
              "            background-color:  #ffff66;\n",
              "            color:  #000000;\n",
              "        }    #T_9967f74e_2390_11ea_acb2_0242ac1c0002row1_col1 {\n",
              "            background-color:  #008066;\n",
              "            color:  #f1f1f1;\n",
              "        }    #T_9967f74e_2390_11ea_acb2_0242ac1c0002row1_col2 {\n",
              "            background-color:  #008066;\n",
              "            color:  #f1f1f1;\n",
              "        }    #T_9967f74e_2390_11ea_acb2_0242ac1c0002row1_col3 {\n",
              "            background-color:  #008066;\n",
              "            color:  #f1f1f1;\n",
              "        }    #T_9967f74e_2390_11ea_acb2_0242ac1c0002row1_col4 {\n",
              "            background-color:  #ffff66;\n",
              "            color:  #000000;\n",
              "        }    #T_9967f74e_2390_11ea_acb2_0242ac1c0002row1_col5 {\n",
              "            background-color:  #008066;\n",
              "            color:  #f1f1f1;\n",
              "        }    #T_9967f74e_2390_11ea_acb2_0242ac1c0002row1_col6 {\n",
              "            background-color:  #008066;\n",
              "            color:  #f1f1f1;\n",
              "        }    #T_9967f74e_2390_11ea_acb2_0242ac1c0002row1_col7 {\n",
              "            background-color:  #ffff66;\n",
              "            color:  #000000;\n",
              "        }    #T_9967f74e_2390_11ea_acb2_0242ac1c0002row1_col8 {\n",
              "            background-color:  #ffff66;\n",
              "            color:  #000000;\n",
              "        }    #T_9967f74e_2390_11ea_acb2_0242ac1c0002row1_col9 {\n",
              "            background-color:  #ffff66;\n",
              "            color:  #000000;\n",
              "        }</style><table id=\"T_9967f74e_2390_11ea_acb2_0242ac1c0002\" ><thead>    <tr>        <th class=\"index_name level0\" >Initial</th>        <th class=\"col_heading level0 col0\" >dr</th>        <th class=\"col_heading level0 col1\" >fn</th>        <th class=\"col_heading level0 col2\" >ma</th>        <th class=\"col_heading level0 col3\" >mn</th>        <th class=\"col_heading level0 col4\" >mr</th>        <th class=\"col_heading level0 col5\" >mrs</th>        <th class=\"col_heading level0 col6\" >ms</th>        <th class=\"col_heading level0 col7\" >os</th>        <th class=\"col_heading level0 col8\" >rv</th>        <th class=\"col_heading level0 col9\" >ys</th>    </tr>    <tr>        <th class=\"index_name level0\" >Survived</th>        <th class=\"blank\" ></th>        <th class=\"blank\" ></th>        <th class=\"blank\" ></th>        <th class=\"blank\" ></th>        <th class=\"blank\" ></th>        <th class=\"blank\" ></th>        <th class=\"blank\" ></th>        <th class=\"blank\" ></th>        <th class=\"blank\" ></th>        <th class=\"blank\" ></th>    </tr></thead><tbody>\n",
              "                <tr>\n",
              "                        <th id=\"T_9967f74e_2390_11ea_acb2_0242ac1c0002level0_row0\" class=\"row_heading level0 row0\" >0</th>\n",
              "                        <td id=\"T_9967f74e_2390_11ea_acb2_0242ac1c0002row0_col0\" class=\"data row0 col0\" >4</td>\n",
              "                        <td id=\"T_9967f74e_2390_11ea_acb2_0242ac1c0002row0_col1\" class=\"data row0 col1\" >0</td>\n",
              "                        <td id=\"T_9967f74e_2390_11ea_acb2_0242ac1c0002row0_col2\" class=\"data row0 col2\" >17</td>\n",
              "                        <td id=\"T_9967f74e_2390_11ea_acb2_0242ac1c0002row0_col3\" class=\"data row0 col3\" >0</td>\n",
              "                        <td id=\"T_9967f74e_2390_11ea_acb2_0242ac1c0002row0_col4\" class=\"data row0 col4\" >438</td>\n",
              "                        <td id=\"T_9967f74e_2390_11ea_acb2_0242ac1c0002row0_col5\" class=\"data row0 col5\" >26</td>\n",
              "                        <td id=\"T_9967f74e_2390_11ea_acb2_0242ac1c0002row0_col6\" class=\"data row0 col6\" >55</td>\n",
              "                        <td id=\"T_9967f74e_2390_11ea_acb2_0242ac1c0002row0_col7\" class=\"data row0 col7\" >2</td>\n",
              "                        <td id=\"T_9967f74e_2390_11ea_acb2_0242ac1c0002row0_col8\" class=\"data row0 col8\" >6</td>\n",
              "                        <td id=\"T_9967f74e_2390_11ea_acb2_0242ac1c0002row0_col9\" class=\"data row0 col9\" >1</td>\n",
              "            </tr>\n",
              "            <tr>\n",
              "                        <th id=\"T_9967f74e_2390_11ea_acb2_0242ac1c0002level0_row1\" class=\"row_heading level0 row1\" >1</th>\n",
              "                        <td id=\"T_9967f74e_2390_11ea_acb2_0242ac1c0002row1_col0\" class=\"data row1 col0\" >3</td>\n",
              "                        <td id=\"T_9967f74e_2390_11ea_acb2_0242ac1c0002row1_col1\" class=\"data row1 col1\" >6</td>\n",
              "                        <td id=\"T_9967f74e_2390_11ea_acb2_0242ac1c0002row1_col2\" class=\"data row1 col2\" >23</td>\n",
              "                        <td id=\"T_9967f74e_2390_11ea_acb2_0242ac1c0002row1_col3\" class=\"data row1 col3\" >1</td>\n",
              "                        <td id=\"T_9967f74e_2390_11ea_acb2_0242ac1c0002row1_col4\" class=\"data row1 col4\" >81</td>\n",
              "                        <td id=\"T_9967f74e_2390_11ea_acb2_0242ac1c0002row1_col5\" class=\"data row1 col5\" >99</td>\n",
              "                        <td id=\"T_9967f74e_2390_11ea_acb2_0242ac1c0002row1_col6\" class=\"data row1 col6\" >127</td>\n",
              "                        <td id=\"T_9967f74e_2390_11ea_acb2_0242ac1c0002row1_col7\" class=\"data row1 col7\" >2</td>\n",
              "                        <td id=\"T_9967f74e_2390_11ea_acb2_0242ac1c0002row1_col8\" class=\"data row1 col8\" >0</td>\n",
              "                        <td id=\"T_9967f74e_2390_11ea_acb2_0242ac1c0002row1_col9\" class=\"data row1 col9\" >0</td>\n",
              "            </tr>\n",
              "    </tbody></table>"
            ],
            "text/plain": [
              "<pandas.io.formats.style.Styler at 0x7f8f5aee66a0>"
            ]
          },
          "metadata": {
            "tags": []
          },
          "execution_count": 51
        }
      ]
    },
    {
      "cell_type": "code",
      "metadata": {
        "id": "3QQ7M3YrDtLz",
        "colab_type": "code",
        "colab": {
          "base_uri": "https://localhost:8080/",
          "height": 230
        },
        "outputId": "f4161fd7-202f-46c0-9d2b-149a6977e9af"
      },
      "source": [
        "survpct('Initial')"
      ],
      "execution_count": 53,
      "outputs": [
        {
          "output_type": "execute_result",
          "data": {
            "text/plain": [
              "Initial\n",
              "dr     0.428571\n",
              "fn     1.000000\n",
              "ma     0.575000\n",
              "mn     1.000000\n",
              "mr     0.156069\n",
              "mrs    0.792000\n",
              "ms     0.697802\n",
              "os     0.500000\n",
              "rv     0.000000\n",
              "ys     0.000000\n",
              "Name: Survived, dtype: float64"
            ]
          },
          "metadata": {
            "tags": []
          },
          "execution_count": 53
        }
      ]
    },
    {
      "cell_type": "markdown",
      "metadata": {
        "id": "E_mtDvqGEbfq",
        "colab_type": "text"
      },
      "source": [
        "* 여기서 잠시 블공평한 세상을 경험하면....Initial을 Pclass별로 나누어 보자"
      ]
    },
    {
      "cell_type": "code",
      "metadata": {
        "id": "h2F8rE2RE8ln",
        "colab_type": "code",
        "colab": {
          "base_uri": "https://localhost:8080/",
          "height": 106
        },
        "outputId": "b2292f31-83b1-4c3e-d813-94f300b143b5"
      },
      "source": [
        "pd.crosstab(train.Initial,train.Pclass).T.style.background_gradient(cmap='summer_r')"
      ],
      "execution_count": 54,
      "outputs": [
        {
          "output_type": "execute_result",
          "data": {
            "text/html": [
              "<style  type=\"text/css\" >\n",
              "    #T_8a7b8362_2391_11ea_acb2_0242ac1c0002row0_col0 {\n",
              "            background-color:  #008066;\n",
              "            color:  #f1f1f1;\n",
              "        }    #T_8a7b8362_2391_11ea_acb2_0242ac1c0002row0_col1 {\n",
              "            background-color:  #008066;\n",
              "            color:  #f1f1f1;\n",
              "        }    #T_8a7b8362_2391_11ea_acb2_0242ac1c0002row0_col2 {\n",
              "            background-color:  #ffff66;\n",
              "            color:  #000000;\n",
              "        }    #T_8a7b8362_2391_11ea_acb2_0242ac1c0002row0_col3 {\n",
              "            background-color:  #008066;\n",
              "            color:  #f1f1f1;\n",
              "        }    #T_8a7b8362_2391_11ea_acb2_0242ac1c0002row0_col4 {\n",
              "            background-color:  #ebf566;\n",
              "            color:  #000000;\n",
              "        }    #T_8a7b8362_2391_11ea_acb2_0242ac1c0002row0_col5 {\n",
              "            background-color:  #008066;\n",
              "            color:  #f1f1f1;\n",
              "        }    #T_8a7b8362_2391_11ea_acb2_0242ac1c0002row0_col6 {\n",
              "            background-color:  #d2e866;\n",
              "            color:  #000000;\n",
              "        }    #T_8a7b8362_2391_11ea_acb2_0242ac1c0002row0_col7 {\n",
              "            background-color:  #008066;\n",
              "            color:  #f1f1f1;\n",
              "        }    #T_8a7b8362_2391_11ea_acb2_0242ac1c0002row0_col8 {\n",
              "            background-color:  #ffff66;\n",
              "            color:  #000000;\n",
              "        }    #T_8a7b8362_2391_11ea_acb2_0242ac1c0002row0_col9 {\n",
              "            background-color:  #008066;\n",
              "            color:  #f1f1f1;\n",
              "        }    #T_8a7b8362_2391_11ea_acb2_0242ac1c0002row1_col0 {\n",
              "            background-color:  #99cc66;\n",
              "            color:  #000000;\n",
              "        }    #T_8a7b8362_2391_11ea_acb2_0242ac1c0002row1_col1 {\n",
              "            background-color:  #cce666;\n",
              "            color:  #000000;\n",
              "        }    #T_8a7b8362_2391_11ea_acb2_0242ac1c0002row1_col2 {\n",
              "            background-color:  #c2e066;\n",
              "            color:  #000000;\n",
              "        }    #T_8a7b8362_2391_11ea_acb2_0242ac1c0002row1_col3 {\n",
              "            background-color:  #ffff66;\n",
              "            color:  #000000;\n",
              "        }    #T_8a7b8362_2391_11ea_acb2_0242ac1c0002row1_col4 {\n",
              "            background-color:  #ffff66;\n",
              "            color:  #000000;\n",
              "        }    #T_8a7b8362_2391_11ea_acb2_0242ac1c0002row1_col5 {\n",
              "            background-color:  #ffff66;\n",
              "            color:  #000000;\n",
              "        }    #T_8a7b8362_2391_11ea_acb2_0242ac1c0002row1_col6 {\n",
              "            background-color:  #ffff66;\n",
              "            color:  #000000;\n",
              "        }    #T_8a7b8362_2391_11ea_acb2_0242ac1c0002row1_col7 {\n",
              "            background-color:  #ffff66;\n",
              "            color:  #000000;\n",
              "        }    #T_8a7b8362_2391_11ea_acb2_0242ac1c0002row1_col8 {\n",
              "            background-color:  #008066;\n",
              "            color:  #f1f1f1;\n",
              "        }    #T_8a7b8362_2391_11ea_acb2_0242ac1c0002row1_col9 {\n",
              "            background-color:  #ffff66;\n",
              "            color:  #000000;\n",
              "        }    #T_8a7b8362_2391_11ea_acb2_0242ac1c0002row2_col0 {\n",
              "            background-color:  #ffff66;\n",
              "            color:  #000000;\n",
              "        }    #T_8a7b8362_2391_11ea_acb2_0242ac1c0002row2_col1 {\n",
              "            background-color:  #ffff66;\n",
              "            color:  #000000;\n",
              "        }    #T_8a7b8362_2391_11ea_acb2_0242ac1c0002row2_col2 {\n",
              "            background-color:  #008066;\n",
              "            color:  #f1f1f1;\n",
              "        }    #T_8a7b8362_2391_11ea_acb2_0242ac1c0002row2_col3 {\n",
              "            background-color:  #ffff66;\n",
              "            color:  #000000;\n",
              "        }    #T_8a7b8362_2391_11ea_acb2_0242ac1c0002row2_col4 {\n",
              "            background-color:  #008066;\n",
              "            color:  #f1f1f1;\n",
              "        }    #T_8a7b8362_2391_11ea_acb2_0242ac1c0002row2_col5 {\n",
              "            background-color:  #008066;\n",
              "            color:  #f1f1f1;\n",
              "        }    #T_8a7b8362_2391_11ea_acb2_0242ac1c0002row2_col6 {\n",
              "            background-color:  #008066;\n",
              "            color:  #f1f1f1;\n",
              "        }    #T_8a7b8362_2391_11ea_acb2_0242ac1c0002row2_col7 {\n",
              "            background-color:  #ffff66;\n",
              "            color:  #000000;\n",
              "        }    #T_8a7b8362_2391_11ea_acb2_0242ac1c0002row2_col8 {\n",
              "            background-color:  #ffff66;\n",
              "            color:  #000000;\n",
              "        }    #T_8a7b8362_2391_11ea_acb2_0242ac1c0002row2_col9 {\n",
              "            background-color:  #ffff66;\n",
              "            color:  #000000;\n",
              "        }</style><table id=\"T_8a7b8362_2391_11ea_acb2_0242ac1c0002\" ><thead>    <tr>        <th class=\"index_name level0\" >Initial</th>        <th class=\"col_heading level0 col0\" >dr</th>        <th class=\"col_heading level0 col1\" >fn</th>        <th class=\"col_heading level0 col2\" >ma</th>        <th class=\"col_heading level0 col3\" >mn</th>        <th class=\"col_heading level0 col4\" >mr</th>        <th class=\"col_heading level0 col5\" >mrs</th>        <th class=\"col_heading level0 col6\" >ms</th>        <th class=\"col_heading level0 col7\" >os</th>        <th class=\"col_heading level0 col8\" >rv</th>        <th class=\"col_heading level0 col9\" >ys</th>    </tr>    <tr>        <th class=\"index_name level0\" >Pclass</th>        <th class=\"blank\" ></th>        <th class=\"blank\" ></th>        <th class=\"blank\" ></th>        <th class=\"blank\" ></th>        <th class=\"blank\" ></th>        <th class=\"blank\" ></th>        <th class=\"blank\" ></th>        <th class=\"blank\" ></th>        <th class=\"blank\" ></th>        <th class=\"blank\" ></th>    </tr></thead><tbody>\n",
              "                <tr>\n",
              "                        <th id=\"T_8a7b8362_2391_11ea_acb2_0242ac1c0002level0_row0\" class=\"row_heading level0 row0\" >1</th>\n",
              "                        <td id=\"T_8a7b8362_2391_11ea_acb2_0242ac1c0002row0_col0\" class=\"data row0 col0\" >5</td>\n",
              "                        <td id=\"T_8a7b8362_2391_11ea_acb2_0242ac1c0002row0_col1\" class=\"data row0 col1\" >5</td>\n",
              "                        <td id=\"T_8a7b8362_2391_11ea_acb2_0242ac1c0002row0_col2\" class=\"data row0 col2\" >3</td>\n",
              "                        <td id=\"T_8a7b8362_2391_11ea_acb2_0242ac1c0002row0_col3\" class=\"data row0 col3\" >1</td>\n",
              "                        <td id=\"T_8a7b8362_2391_11ea_acb2_0242ac1c0002row0_col4\" class=\"data row0 col4\" >109</td>\n",
              "                        <td id=\"T_8a7b8362_2391_11ea_acb2_0242ac1c0002row0_col5\" class=\"data row0 col5\" >42</td>\n",
              "                        <td id=\"T_8a7b8362_2391_11ea_acb2_0242ac1c0002row0_col6\" class=\"data row0 col6\" >46</td>\n",
              "                        <td id=\"T_8a7b8362_2391_11ea_acb2_0242ac1c0002row0_col7\" class=\"data row0 col7\" >4</td>\n",
              "                        <td id=\"T_8a7b8362_2391_11ea_acb2_0242ac1c0002row0_col8\" class=\"data row0 col8\" >0</td>\n",
              "                        <td id=\"T_8a7b8362_2391_11ea_acb2_0242ac1c0002row0_col9\" class=\"data row0 col9\" >1</td>\n",
              "            </tr>\n",
              "            <tr>\n",
              "                        <th id=\"T_8a7b8362_2391_11ea_acb2_0242ac1c0002level0_row1\" class=\"row_heading level0 row1\" >2</th>\n",
              "                        <td id=\"T_8a7b8362_2391_11ea_acb2_0242ac1c0002row1_col0\" class=\"data row1 col0\" >2</td>\n",
              "                        <td id=\"T_8a7b8362_2391_11ea_acb2_0242ac1c0002row1_col1\" class=\"data row1 col1\" >1</td>\n",
              "                        <td id=\"T_8a7b8362_2391_11ea_acb2_0242ac1c0002row1_col2\" class=\"data row1 col2\" >9</td>\n",
              "                        <td id=\"T_8a7b8362_2391_11ea_acb2_0242ac1c0002row1_col3\" class=\"data row1 col3\" >0</td>\n",
              "                        <td id=\"T_8a7b8362_2391_11ea_acb2_0242ac1c0002row1_col4\" class=\"data row1 col4\" >91</td>\n",
              "                        <td id=\"T_8a7b8362_2391_11ea_acb2_0242ac1c0002row1_col5\" class=\"data row1 col5\" >41</td>\n",
              "                        <td id=\"T_8a7b8362_2391_11ea_acb2_0242ac1c0002row1_col6\" class=\"data row1 col6\" >34</td>\n",
              "                        <td id=\"T_8a7b8362_2391_11ea_acb2_0242ac1c0002row1_col7\" class=\"data row1 col7\" >0</td>\n",
              "                        <td id=\"T_8a7b8362_2391_11ea_acb2_0242ac1c0002row1_col8\" class=\"data row1 col8\" >6</td>\n",
              "                        <td id=\"T_8a7b8362_2391_11ea_acb2_0242ac1c0002row1_col9\" class=\"data row1 col9\" >0</td>\n",
              "            </tr>\n",
              "            <tr>\n",
              "                        <th id=\"T_8a7b8362_2391_11ea_acb2_0242ac1c0002level0_row2\" class=\"row_heading level0 row2\" >3</th>\n",
              "                        <td id=\"T_8a7b8362_2391_11ea_acb2_0242ac1c0002row2_col0\" class=\"data row2 col0\" >0</td>\n",
              "                        <td id=\"T_8a7b8362_2391_11ea_acb2_0242ac1c0002row2_col1\" class=\"data row2 col1\" >0</td>\n",
              "                        <td id=\"T_8a7b8362_2391_11ea_acb2_0242ac1c0002row2_col2\" class=\"data row2 col2\" >28</td>\n",
              "                        <td id=\"T_8a7b8362_2391_11ea_acb2_0242ac1c0002row2_col3\" class=\"data row2 col3\" >0</td>\n",
              "                        <td id=\"T_8a7b8362_2391_11ea_acb2_0242ac1c0002row2_col4\" class=\"data row2 col4\" >319</td>\n",
              "                        <td id=\"T_8a7b8362_2391_11ea_acb2_0242ac1c0002row2_col5\" class=\"data row2 col5\" >42</td>\n",
              "                        <td id=\"T_8a7b8362_2391_11ea_acb2_0242ac1c0002row2_col6\" class=\"data row2 col6\" >102</td>\n",
              "                        <td id=\"T_8a7b8362_2391_11ea_acb2_0242ac1c0002row2_col7\" class=\"data row2 col7\" >0</td>\n",
              "                        <td id=\"T_8a7b8362_2391_11ea_acb2_0242ac1c0002row2_col8\" class=\"data row2 col8\" >0</td>\n",
              "                        <td id=\"T_8a7b8362_2391_11ea_acb2_0242ac1c0002row2_col9\" class=\"data row2 col9\" >0</td>\n",
              "            </tr>\n",
              "    </tbody></table>"
            ],
            "text/plain": [
              "<pandas.io.formats.style.Styler at 0x7f8f5ae88f28>"
            ]
          },
          "metadata": {
            "tags": []
          },
          "execution_count": 54
        }
      ]
    },
    {
      "cell_type": "markdown",
      "metadata": {
        "id": "UrC40NqfFam9",
        "colab_type": "text"
      },
      "source": [
        "* Pclass별 생존 별로 보자"
      ]
    },
    {
      "cell_type": "code",
      "metadata": {
        "id": "4dCeB7FvFg1k",
        "colab_type": "code",
        "colab": {
          "base_uri": "https://localhost:8080/",
          "height": 355
        },
        "outputId": "cfdb70a7-6031-42d0-8e35-8b57cd94dbf0"
      },
      "source": [
        "pd.crosstab([train.Initial,train.Survived],train.Pclass,margins=True).style.background_gradient(cmap='summer_r')"
      ],
      "execution_count": 57,
      "outputs": [
        {
          "output_type": "execute_result",
          "data": {
            "text/html": [
              "<style  type=\"text/css\" >\n",
              "    #T_5b836952_2392_11ea_acb2_0242ac1c0002row0_col0 {\n",
              "            background-color:  #fdfe66;\n",
              "            color:  #000000;\n",
              "        }    #T_5b836952_2392_11ea_acb2_0242ac1c0002row0_col1 {\n",
              "            background-color:  #fdfe66;\n",
              "            color:  #000000;\n",
              "        }    #T_5b836952_2392_11ea_acb2_0242ac1c0002row0_col2 {\n",
              "            background-color:  #ffff66;\n",
              "            color:  #000000;\n",
              "        }    #T_5b836952_2392_11ea_acb2_0242ac1c0002row0_col3 {\n",
              "            background-color:  #ffff66;\n",
              "            color:  #000000;\n",
              "        }    #T_5b836952_2392_11ea_acb2_0242ac1c0002row1_col0 {\n",
              "            background-color:  #fcfe66;\n",
              "            color:  #000000;\n",
              "        }    #T_5b836952_2392_11ea_acb2_0242ac1c0002row1_col1 {\n",
              "            background-color:  #ffff66;\n",
              "            color:  #000000;\n",
              "        }    #T_5b836952_2392_11ea_acb2_0242ac1c0002row1_col2 {\n",
              "            background-color:  #ffff66;\n",
              "            color:  #000000;\n",
              "        }    #T_5b836952_2392_11ea_acb2_0242ac1c0002row1_col3 {\n",
              "            background-color:  #ffff66;\n",
              "            color:  #000000;\n",
              "        }    #T_5b836952_2392_11ea_acb2_0242ac1c0002row2_col0 {\n",
              "            background-color:  #fafc66;\n",
              "            color:  #000000;\n",
              "        }    #T_5b836952_2392_11ea_acb2_0242ac1c0002row2_col1 {\n",
              "            background-color:  #fefe66;\n",
              "            color:  #000000;\n",
              "        }    #T_5b836952_2392_11ea_acb2_0242ac1c0002row2_col2 {\n",
              "            background-color:  #ffff66;\n",
              "            color:  #000000;\n",
              "        }    #T_5b836952_2392_11ea_acb2_0242ac1c0002row2_col3 {\n",
              "            background-color:  #fefe66;\n",
              "            color:  #000000;\n",
              "        }    #T_5b836952_2392_11ea_acb2_0242ac1c0002row3_col0 {\n",
              "            background-color:  #ffff66;\n",
              "            color:  #000000;\n",
              "        }    #T_5b836952_2392_11ea_acb2_0242ac1c0002row3_col1 {\n",
              "            background-color:  #ffff66;\n",
              "            color:  #000000;\n",
              "        }    #T_5b836952_2392_11ea_acb2_0242ac1c0002row3_col2 {\n",
              "            background-color:  #f7fb66;\n",
              "            color:  #000000;\n",
              "        }    #T_5b836952_2392_11ea_acb2_0242ac1c0002row3_col3 {\n",
              "            background-color:  #fbfd66;\n",
              "            color:  #000000;\n",
              "        }    #T_5b836952_2392_11ea_acb2_0242ac1c0002row4_col0 {\n",
              "            background-color:  #fcfe66;\n",
              "            color:  #000000;\n",
              "        }    #T_5b836952_2392_11ea_acb2_0242ac1c0002row4_col1 {\n",
              "            background-color:  #f3f966;\n",
              "            color:  #000000;\n",
              "        }    #T_5b836952_2392_11ea_acb2_0242ac1c0002row4_col2 {\n",
              "            background-color:  #fafc66;\n",
              "            color:  #000000;\n",
              "        }    #T_5b836952_2392_11ea_acb2_0242ac1c0002row4_col3 {\n",
              "            background-color:  #f9fc66;\n",
              "            color:  #000000;\n",
              "        }    #T_5b836952_2392_11ea_acb2_0242ac1c0002row5_col0 {\n",
              "            background-color:  #fefe66;\n",
              "            color:  #000000;\n",
              "        }    #T_5b836952_2392_11ea_acb2_0242ac1c0002row5_col1 {\n",
              "            background-color:  #ffff66;\n",
              "            color:  #000000;\n",
              "        }    #T_5b836952_2392_11ea_acb2_0242ac1c0002row5_col2 {\n",
              "            background-color:  #ffff66;\n",
              "            color:  #000000;\n",
              "        }    #T_5b836952_2392_11ea_acb2_0242ac1c0002row5_col3 {\n",
              "            background-color:  #ffff66;\n",
              "            color:  #000000;\n",
              "        }    #T_5b836952_2392_11ea_acb2_0242ac1c0002row6_col0 {\n",
              "            background-color:  #aad466;\n",
              "            color:  #000000;\n",
              "        }    #T_5b836952_2392_11ea_acb2_0242ac1c0002row6_col1 {\n",
              "            background-color:  #8cc666;\n",
              "            color:  #000000;\n",
              "        }    #T_5b836952_2392_11ea_acb2_0242ac1c0002row6_col2 {\n",
              "            background-color:  #6cb666;\n",
              "            color:  #000000;\n",
              "        }    #T_5b836952_2392_11ea_acb2_0242ac1c0002row6_col3 {\n",
              "            background-color:  #82c066;\n",
              "            color:  #000000;\n",
              "        }    #T_5b836952_2392_11ea_acb2_0242ac1c0002row7_col0 {\n",
              "            background-color:  #d4ea66;\n",
              "            color:  #000000;\n",
              "        }    #T_5b836952_2392_11ea_acb2_0242ac1c0002row7_col1 {\n",
              "            background-color:  #f4fa66;\n",
              "            color:  #000000;\n",
              "        }    #T_5b836952_2392_11ea_acb2_0242ac1c0002row7_col2 {\n",
              "            background-color:  #edf666;\n",
              "            color:  #000000;\n",
              "        }    #T_5b836952_2392_11ea_acb2_0242ac1c0002row7_col3 {\n",
              "            background-color:  #e8f466;\n",
              "            color:  #000000;\n",
              "        }    #T_5b836952_2392_11ea_acb2_0242ac1c0002row8_col0 {\n",
              "            background-color:  #fefe66;\n",
              "            color:  #000000;\n",
              "        }    #T_5b836952_2392_11ea_acb2_0242ac1c0002row8_col1 {\n",
              "            background-color:  #fafc66;\n",
              "            color:  #000000;\n",
              "        }    #T_5b836952_2392_11ea_acb2_0242ac1c0002row8_col2 {\n",
              "            background-color:  #f5fa66;\n",
              "            color:  #000000;\n",
              "        }    #T_5b836952_2392_11ea_acb2_0242ac1c0002row8_col3 {\n",
              "            background-color:  #f8fc66;\n",
              "            color:  #000000;\n",
              "        }    #T_5b836952_2392_11ea_acb2_0242ac1c0002row9_col0 {\n",
              "            background-color:  #cfe766;\n",
              "            color:  #000000;\n",
              "        }    #T_5b836952_2392_11ea_acb2_0242ac1c0002row9_col1 {\n",
              "            background-color:  #cce666;\n",
              "            color:  #000000;\n",
              "        }    #T_5b836952_2392_11ea_acb2_0242ac1c0002row9_col2 {\n",
              "            background-color:  #f5fa66;\n",
              "            color:  #000000;\n",
              "        }    #T_5b836952_2392_11ea_acb2_0242ac1c0002row9_col3 {\n",
              "            background-color:  #e3f166;\n",
              "            color:  #000000;\n",
              "        }    #T_5b836952_2392_11ea_acb2_0242ac1c0002row10_col0 {\n",
              "            background-color:  #fdfe66;\n",
              "            color:  #000000;\n",
              "        }    #T_5b836952_2392_11ea_acb2_0242ac1c0002row10_col1 {\n",
              "            background-color:  #fdfe66;\n",
              "            color:  #000000;\n",
              "        }    #T_5b836952_2392_11ea_acb2_0242ac1c0002row10_col2 {\n",
              "            background-color:  #e5f266;\n",
              "            color:  #000000;\n",
              "        }    #T_5b836952_2392_11ea_acb2_0242ac1c0002row10_col3 {\n",
              "            background-color:  #f0f866;\n",
              "            color:  #000000;\n",
              "        }    #T_5b836952_2392_11ea_acb2_0242ac1c0002row11_col0 {\n",
              "            background-color:  #cbe566;\n",
              "            color:  #000000;\n",
              "        }    #T_5b836952_2392_11ea_acb2_0242ac1c0002row11_col1 {\n",
              "            background-color:  #d3e966;\n",
              "            color:  #000000;\n",
              "        }    #T_5b836952_2392_11ea_acb2_0242ac1c0002row11_col2 {\n",
              "            background-color:  #e5f266;\n",
              "            color:  #000000;\n",
              "        }    #T_5b836952_2392_11ea_acb2_0242ac1c0002row11_col3 {\n",
              "            background-color:  #dbed66;\n",
              "            color:  #000000;\n",
              "        }    #T_5b836952_2392_11ea_acb2_0242ac1c0002row12_col0 {\n",
              "            background-color:  #fdfe66;\n",
              "            color:  #000000;\n",
              "        }    #T_5b836952_2392_11ea_acb2_0242ac1c0002row12_col1 {\n",
              "            background-color:  #ffff66;\n",
              "            color:  #000000;\n",
              "        }    #T_5b836952_2392_11ea_acb2_0242ac1c0002row12_col2 {\n",
              "            background-color:  #ffff66;\n",
              "            color:  #000000;\n",
              "        }    #T_5b836952_2392_11ea_acb2_0242ac1c0002row12_col3 {\n",
              "            background-color:  #ffff66;\n",
              "            color:  #000000;\n",
              "        }    #T_5b836952_2392_11ea_acb2_0242ac1c0002row13_col0 {\n",
              "            background-color:  #fdfe66;\n",
              "            color:  #000000;\n",
              "        }    #T_5b836952_2392_11ea_acb2_0242ac1c0002row13_col1 {\n",
              "            background-color:  #ffff66;\n",
              "            color:  #000000;\n",
              "        }    #T_5b836952_2392_11ea_acb2_0242ac1c0002row13_col2 {\n",
              "            background-color:  #ffff66;\n",
              "            color:  #000000;\n",
              "        }    #T_5b836952_2392_11ea_acb2_0242ac1c0002row13_col3 {\n",
              "            background-color:  #ffff66;\n",
              "            color:  #000000;\n",
              "        }    #T_5b836952_2392_11ea_acb2_0242ac1c0002row14_col0 {\n",
              "            background-color:  #ffff66;\n",
              "            color:  #000000;\n",
              "        }    #T_5b836952_2392_11ea_acb2_0242ac1c0002row14_col1 {\n",
              "            background-color:  #f7fb66;\n",
              "            color:  #000000;\n",
              "        }    #T_5b836952_2392_11ea_acb2_0242ac1c0002row14_col2 {\n",
              "            background-color:  #ffff66;\n",
              "            color:  #000000;\n",
              "        }    #T_5b836952_2392_11ea_acb2_0242ac1c0002row14_col3 {\n",
              "            background-color:  #fefe66;\n",
              "            color:  #000000;\n",
              "        }    #T_5b836952_2392_11ea_acb2_0242ac1c0002row15_col0 {\n",
              "            background-color:  #fefe66;\n",
              "            color:  #000000;\n",
              "        }    #T_5b836952_2392_11ea_acb2_0242ac1c0002row15_col1 {\n",
              "            background-color:  #ffff66;\n",
              "            color:  #000000;\n",
              "        }    #T_5b836952_2392_11ea_acb2_0242ac1c0002row15_col2 {\n",
              "            background-color:  #ffff66;\n",
              "            color:  #000000;\n",
              "        }    #T_5b836952_2392_11ea_acb2_0242ac1c0002row15_col3 {\n",
              "            background-color:  #ffff66;\n",
              "            color:  #000000;\n",
              "        }    #T_5b836952_2392_11ea_acb2_0242ac1c0002row16_col0 {\n",
              "            background-color:  #008066;\n",
              "            color:  #f1f1f1;\n",
              "        }    #T_5b836952_2392_11ea_acb2_0242ac1c0002row16_col1 {\n",
              "            background-color:  #008066;\n",
              "            color:  #f1f1f1;\n",
              "        }    #T_5b836952_2392_11ea_acb2_0242ac1c0002row16_col2 {\n",
              "            background-color:  #008066;\n",
              "            color:  #f1f1f1;\n",
              "        }    #T_5b836952_2392_11ea_acb2_0242ac1c0002row16_col3 {\n",
              "            background-color:  #008066;\n",
              "            color:  #f1f1f1;\n",
              "        }</style><table id=\"T_5b836952_2392_11ea_acb2_0242ac1c0002\" ><thead>    <tr>        <th class=\"blank\" ></th>        <th class=\"index_name level0\" >Pclass</th>        <th class=\"col_heading level0 col0\" >1</th>        <th class=\"col_heading level0 col1\" >2</th>        <th class=\"col_heading level0 col2\" >3</th>        <th class=\"col_heading level0 col3\" >All</th>    </tr>    <tr>        <th class=\"index_name level0\" >Initial</th>        <th class=\"index_name level1\" >Survived</th>        <th class=\"blank\" ></th>        <th class=\"blank\" ></th>        <th class=\"blank\" ></th>        <th class=\"blank\" ></th>    </tr></thead><tbody>\n",
              "                <tr>\n",
              "                        <th id=\"T_5b836952_2392_11ea_acb2_0242ac1c0002level0_row0\" class=\"row_heading level0 row0\" rowspan=2>dr</th>\n",
              "                        <th id=\"T_5b836952_2392_11ea_acb2_0242ac1c0002level1_row0\" class=\"row_heading level1 row0\" >0</th>\n",
              "                        <td id=\"T_5b836952_2392_11ea_acb2_0242ac1c0002row0_col0\" class=\"data row0 col0\" >2</td>\n",
              "                        <td id=\"T_5b836952_2392_11ea_acb2_0242ac1c0002row0_col1\" class=\"data row0 col1\" >2</td>\n",
              "                        <td id=\"T_5b836952_2392_11ea_acb2_0242ac1c0002row0_col2\" class=\"data row0 col2\" >0</td>\n",
              "                        <td id=\"T_5b836952_2392_11ea_acb2_0242ac1c0002row0_col3\" class=\"data row0 col3\" >4</td>\n",
              "            </tr>\n",
              "            <tr>\n",
              "                                <th id=\"T_5b836952_2392_11ea_acb2_0242ac1c0002level1_row1\" class=\"row_heading level1 row1\" >1</th>\n",
              "                        <td id=\"T_5b836952_2392_11ea_acb2_0242ac1c0002row1_col0\" class=\"data row1 col0\" >3</td>\n",
              "                        <td id=\"T_5b836952_2392_11ea_acb2_0242ac1c0002row1_col1\" class=\"data row1 col1\" >0</td>\n",
              "                        <td id=\"T_5b836952_2392_11ea_acb2_0242ac1c0002row1_col2\" class=\"data row1 col2\" >0</td>\n",
              "                        <td id=\"T_5b836952_2392_11ea_acb2_0242ac1c0002row1_col3\" class=\"data row1 col3\" >3</td>\n",
              "            </tr>\n",
              "            <tr>\n",
              "                        <th id=\"T_5b836952_2392_11ea_acb2_0242ac1c0002level0_row2\" class=\"row_heading level0 row2\" >fn</th>\n",
              "                        <th id=\"T_5b836952_2392_11ea_acb2_0242ac1c0002level1_row2\" class=\"row_heading level1 row2\" >1</th>\n",
              "                        <td id=\"T_5b836952_2392_11ea_acb2_0242ac1c0002row2_col0\" class=\"data row2 col0\" >5</td>\n",
              "                        <td id=\"T_5b836952_2392_11ea_acb2_0242ac1c0002row2_col1\" class=\"data row2 col1\" >1</td>\n",
              "                        <td id=\"T_5b836952_2392_11ea_acb2_0242ac1c0002row2_col2\" class=\"data row2 col2\" >0</td>\n",
              "                        <td id=\"T_5b836952_2392_11ea_acb2_0242ac1c0002row2_col3\" class=\"data row2 col3\" >6</td>\n",
              "            </tr>\n",
              "            <tr>\n",
              "                        <th id=\"T_5b836952_2392_11ea_acb2_0242ac1c0002level0_row3\" class=\"row_heading level0 row3\" rowspan=2>ma</th>\n",
              "                        <th id=\"T_5b836952_2392_11ea_acb2_0242ac1c0002level1_row3\" class=\"row_heading level1 row3\" >0</th>\n",
              "                        <td id=\"T_5b836952_2392_11ea_acb2_0242ac1c0002row3_col0\" class=\"data row3 col0\" >0</td>\n",
              "                        <td id=\"T_5b836952_2392_11ea_acb2_0242ac1c0002row3_col1\" class=\"data row3 col1\" >0</td>\n",
              "                        <td id=\"T_5b836952_2392_11ea_acb2_0242ac1c0002row3_col2\" class=\"data row3 col2\" >17</td>\n",
              "                        <td id=\"T_5b836952_2392_11ea_acb2_0242ac1c0002row3_col3\" class=\"data row3 col3\" >17</td>\n",
              "            </tr>\n",
              "            <tr>\n",
              "                                <th id=\"T_5b836952_2392_11ea_acb2_0242ac1c0002level1_row4\" class=\"row_heading level1 row4\" >1</th>\n",
              "                        <td id=\"T_5b836952_2392_11ea_acb2_0242ac1c0002row4_col0\" class=\"data row4 col0\" >3</td>\n",
              "                        <td id=\"T_5b836952_2392_11ea_acb2_0242ac1c0002row4_col1\" class=\"data row4 col1\" >9</td>\n",
              "                        <td id=\"T_5b836952_2392_11ea_acb2_0242ac1c0002row4_col2\" class=\"data row4 col2\" >11</td>\n",
              "                        <td id=\"T_5b836952_2392_11ea_acb2_0242ac1c0002row4_col3\" class=\"data row4 col3\" >23</td>\n",
              "            </tr>\n",
              "            <tr>\n",
              "                        <th id=\"T_5b836952_2392_11ea_acb2_0242ac1c0002level0_row5\" class=\"row_heading level0 row5\" >mn</th>\n",
              "                        <th id=\"T_5b836952_2392_11ea_acb2_0242ac1c0002level1_row5\" class=\"row_heading level1 row5\" >1</th>\n",
              "                        <td id=\"T_5b836952_2392_11ea_acb2_0242ac1c0002row5_col0\" class=\"data row5 col0\" >1</td>\n",
              "                        <td id=\"T_5b836952_2392_11ea_acb2_0242ac1c0002row5_col1\" class=\"data row5 col1\" >0</td>\n",
              "                        <td id=\"T_5b836952_2392_11ea_acb2_0242ac1c0002row5_col2\" class=\"data row5 col2\" >0</td>\n",
              "                        <td id=\"T_5b836952_2392_11ea_acb2_0242ac1c0002row5_col3\" class=\"data row5 col3\" >1</td>\n",
              "            </tr>\n",
              "            <tr>\n",
              "                        <th id=\"T_5b836952_2392_11ea_acb2_0242ac1c0002level0_row6\" class=\"row_heading level0 row6\" rowspan=2>mr</th>\n",
              "                        <th id=\"T_5b836952_2392_11ea_acb2_0242ac1c0002level1_row6\" class=\"row_heading level1 row6\" >0</th>\n",
              "                        <td id=\"T_5b836952_2392_11ea_acb2_0242ac1c0002row6_col0\" class=\"data row6 col0\" >72</td>\n",
              "                        <td id=\"T_5b836952_2392_11ea_acb2_0242ac1c0002row6_col1\" class=\"data row6 col1\" >83</td>\n",
              "                        <td id=\"T_5b836952_2392_11ea_acb2_0242ac1c0002row6_col2\" class=\"data row6 col2\" >283</td>\n",
              "                        <td id=\"T_5b836952_2392_11ea_acb2_0242ac1c0002row6_col3\" class=\"data row6 col3\" >438</td>\n",
              "            </tr>\n",
              "            <tr>\n",
              "                                <th id=\"T_5b836952_2392_11ea_acb2_0242ac1c0002level1_row7\" class=\"row_heading level1 row7\" >1</th>\n",
              "                        <td id=\"T_5b836952_2392_11ea_acb2_0242ac1c0002row7_col0\" class=\"data row7 col0\" >37</td>\n",
              "                        <td id=\"T_5b836952_2392_11ea_acb2_0242ac1c0002row7_col1\" class=\"data row7 col1\" >8</td>\n",
              "                        <td id=\"T_5b836952_2392_11ea_acb2_0242ac1c0002row7_col2\" class=\"data row7 col2\" >36</td>\n",
              "                        <td id=\"T_5b836952_2392_11ea_acb2_0242ac1c0002row7_col3\" class=\"data row7 col3\" >81</td>\n",
              "            </tr>\n",
              "            <tr>\n",
              "                        <th id=\"T_5b836952_2392_11ea_acb2_0242ac1c0002level0_row8\" class=\"row_heading level0 row8\" rowspan=2>mrs</th>\n",
              "                        <th id=\"T_5b836952_2392_11ea_acb2_0242ac1c0002level1_row8\" class=\"row_heading level1 row8\" >0</th>\n",
              "                        <td id=\"T_5b836952_2392_11ea_acb2_0242ac1c0002row8_col0\" class=\"data row8 col0\" >1</td>\n",
              "                        <td id=\"T_5b836952_2392_11ea_acb2_0242ac1c0002row8_col1\" class=\"data row8 col1\" >4</td>\n",
              "                        <td id=\"T_5b836952_2392_11ea_acb2_0242ac1c0002row8_col2\" class=\"data row8 col2\" >21</td>\n",
              "                        <td id=\"T_5b836952_2392_11ea_acb2_0242ac1c0002row8_col3\" class=\"data row8 col3\" >26</td>\n",
              "            </tr>\n",
              "            <tr>\n",
              "                                <th id=\"T_5b836952_2392_11ea_acb2_0242ac1c0002level1_row9\" class=\"row_heading level1 row9\" >1</th>\n",
              "                        <td id=\"T_5b836952_2392_11ea_acb2_0242ac1c0002row9_col0\" class=\"data row9 col0\" >41</td>\n",
              "                        <td id=\"T_5b836952_2392_11ea_acb2_0242ac1c0002row9_col1\" class=\"data row9 col1\" >37</td>\n",
              "                        <td id=\"T_5b836952_2392_11ea_acb2_0242ac1c0002row9_col2\" class=\"data row9 col2\" >21</td>\n",
              "                        <td id=\"T_5b836952_2392_11ea_acb2_0242ac1c0002row9_col3\" class=\"data row9 col3\" >99</td>\n",
              "            </tr>\n",
              "            <tr>\n",
              "                        <th id=\"T_5b836952_2392_11ea_acb2_0242ac1c0002level0_row10\" class=\"row_heading level0 row10\" rowspan=2>ms</th>\n",
              "                        <th id=\"T_5b836952_2392_11ea_acb2_0242ac1c0002level1_row10\" class=\"row_heading level1 row10\" >0</th>\n",
              "                        <td id=\"T_5b836952_2392_11ea_acb2_0242ac1c0002row10_col0\" class=\"data row10 col0\" >2</td>\n",
              "                        <td id=\"T_5b836952_2392_11ea_acb2_0242ac1c0002row10_col1\" class=\"data row10 col1\" >2</td>\n",
              "                        <td id=\"T_5b836952_2392_11ea_acb2_0242ac1c0002row10_col2\" class=\"data row10 col2\" >51</td>\n",
              "                        <td id=\"T_5b836952_2392_11ea_acb2_0242ac1c0002row10_col3\" class=\"data row10 col3\" >55</td>\n",
              "            </tr>\n",
              "            <tr>\n",
              "                                <th id=\"T_5b836952_2392_11ea_acb2_0242ac1c0002level1_row11\" class=\"row_heading level1 row11\" >1</th>\n",
              "                        <td id=\"T_5b836952_2392_11ea_acb2_0242ac1c0002row11_col0\" class=\"data row11 col0\" >44</td>\n",
              "                        <td id=\"T_5b836952_2392_11ea_acb2_0242ac1c0002row11_col1\" class=\"data row11 col1\" >32</td>\n",
              "                        <td id=\"T_5b836952_2392_11ea_acb2_0242ac1c0002row11_col2\" class=\"data row11 col2\" >51</td>\n",
              "                        <td id=\"T_5b836952_2392_11ea_acb2_0242ac1c0002row11_col3\" class=\"data row11 col3\" >127</td>\n",
              "            </tr>\n",
              "            <tr>\n",
              "                        <th id=\"T_5b836952_2392_11ea_acb2_0242ac1c0002level0_row12\" class=\"row_heading level0 row12\" rowspan=2>os</th>\n",
              "                        <th id=\"T_5b836952_2392_11ea_acb2_0242ac1c0002level1_row12\" class=\"row_heading level1 row12\" >0</th>\n",
              "                        <td id=\"T_5b836952_2392_11ea_acb2_0242ac1c0002row12_col0\" class=\"data row12 col0\" >2</td>\n",
              "                        <td id=\"T_5b836952_2392_11ea_acb2_0242ac1c0002row12_col1\" class=\"data row12 col1\" >0</td>\n",
              "                        <td id=\"T_5b836952_2392_11ea_acb2_0242ac1c0002row12_col2\" class=\"data row12 col2\" >0</td>\n",
              "                        <td id=\"T_5b836952_2392_11ea_acb2_0242ac1c0002row12_col3\" class=\"data row12 col3\" >2</td>\n",
              "            </tr>\n",
              "            <tr>\n",
              "                                <th id=\"T_5b836952_2392_11ea_acb2_0242ac1c0002level1_row13\" class=\"row_heading level1 row13\" >1</th>\n",
              "                        <td id=\"T_5b836952_2392_11ea_acb2_0242ac1c0002row13_col0\" class=\"data row13 col0\" >2</td>\n",
              "                        <td id=\"T_5b836952_2392_11ea_acb2_0242ac1c0002row13_col1\" class=\"data row13 col1\" >0</td>\n",
              "                        <td id=\"T_5b836952_2392_11ea_acb2_0242ac1c0002row13_col2\" class=\"data row13 col2\" >0</td>\n",
              "                        <td id=\"T_5b836952_2392_11ea_acb2_0242ac1c0002row13_col3\" class=\"data row13 col3\" >2</td>\n",
              "            </tr>\n",
              "            <tr>\n",
              "                        <th id=\"T_5b836952_2392_11ea_acb2_0242ac1c0002level0_row14\" class=\"row_heading level0 row14\" >rv</th>\n",
              "                        <th id=\"T_5b836952_2392_11ea_acb2_0242ac1c0002level1_row14\" class=\"row_heading level1 row14\" >0</th>\n",
              "                        <td id=\"T_5b836952_2392_11ea_acb2_0242ac1c0002row14_col0\" class=\"data row14 col0\" >0</td>\n",
              "                        <td id=\"T_5b836952_2392_11ea_acb2_0242ac1c0002row14_col1\" class=\"data row14 col1\" >6</td>\n",
              "                        <td id=\"T_5b836952_2392_11ea_acb2_0242ac1c0002row14_col2\" class=\"data row14 col2\" >0</td>\n",
              "                        <td id=\"T_5b836952_2392_11ea_acb2_0242ac1c0002row14_col3\" class=\"data row14 col3\" >6</td>\n",
              "            </tr>\n",
              "            <tr>\n",
              "                        <th id=\"T_5b836952_2392_11ea_acb2_0242ac1c0002level0_row15\" class=\"row_heading level0 row15\" >ys</th>\n",
              "                        <th id=\"T_5b836952_2392_11ea_acb2_0242ac1c0002level1_row15\" class=\"row_heading level1 row15\" >0</th>\n",
              "                        <td id=\"T_5b836952_2392_11ea_acb2_0242ac1c0002row15_col0\" class=\"data row15 col0\" >1</td>\n",
              "                        <td id=\"T_5b836952_2392_11ea_acb2_0242ac1c0002row15_col1\" class=\"data row15 col1\" >0</td>\n",
              "                        <td id=\"T_5b836952_2392_11ea_acb2_0242ac1c0002row15_col2\" class=\"data row15 col2\" >0</td>\n",
              "                        <td id=\"T_5b836952_2392_11ea_acb2_0242ac1c0002row15_col3\" class=\"data row15 col3\" >1</td>\n",
              "            </tr>\n",
              "            <tr>\n",
              "                        <th id=\"T_5b836952_2392_11ea_acb2_0242ac1c0002level0_row16\" class=\"row_heading level0 row16\" >All</th>\n",
              "                        <th id=\"T_5b836952_2392_11ea_acb2_0242ac1c0002level1_row16\" class=\"row_heading level1 row16\" ></th>\n",
              "                        <td id=\"T_5b836952_2392_11ea_acb2_0242ac1c0002row16_col0\" class=\"data row16 col0\" >216</td>\n",
              "                        <td id=\"T_5b836952_2392_11ea_acb2_0242ac1c0002row16_col1\" class=\"data row16 col1\" >184</td>\n",
              "                        <td id=\"T_5b836952_2392_11ea_acb2_0242ac1c0002row16_col2\" class=\"data row16 col2\" >491</td>\n",
              "                        <td id=\"T_5b836952_2392_11ea_acb2_0242ac1c0002row16_col3\" class=\"data row16 col3\" >891</td>\n",
              "            </tr>\n",
              "    </tbody></table>"
            ],
            "text/plain": [
              "<pandas.io.formats.style.Styler at 0x7f8f5aecef28>"
            ]
          },
          "metadata": {
            "tags": []
          },
          "execution_count": 57
        }
      ]
    },
    {
      "cell_type": "markdown",
      "metadata": {
        "id": "qwd1RbKfHQzY",
        "colab_type": "text"
      },
      "source": [
        "* 이를 Class Name('CN')으로 바꾸어 새로운 열로 입력하자"
      ]
    },
    {
      "cell_type": "code",
      "metadata": {
        "id": "HOccztXdHk4j",
        "colab_type": "code",
        "colab": {}
      },
      "source": [
        "train['CN']=0\n",
        "\n",
        "def cn(k):\n",
        "  for n in range(1,4):\n",
        "    train.loc[(train['Initial'] == k) & (train['Pclass'] == n),'CN']= k+str(n)\n",
        "\n",
        "cn('dr')\n",
        "cn('ma')\n",
        "cn('mr')\n",
        "cn('ms')\n",
        "cn('mrs')\n",
        "\n",
        "\n",
        "def cn1(k):\n",
        "   train.loc[(train['Initial'] == 'k'),'CN']= k\n",
        "\n",
        "cn1('fn')\n",
        "cn1('mn')\n",
        "cn1('os')\n",
        "cn1('rv')\n",
        "cn1('ys')\n",
        "\n",
        "\n",
        "\n",
        "\n",
        "\n"
      ],
      "execution_count": 0,
      "outputs": []
    },
    {
      "cell_type": "code",
      "metadata": {
        "id": "CgJ7Jzi1Wslx",
        "colab_type": "code",
        "colab": {
          "base_uri": "https://localhost:8080/",
          "height": 551
        },
        "outputId": "df9a398b-98ae-4115-cdd8-ae7815d3d4a6"
      },
      "source": [
        "pd.crosstab([train.CN,train.Survived],train.Pclass,margins=True).style.background_gradient(cmap='summer_r')"
      ],
      "execution_count": 85,
      "outputs": [
        {
          "output_type": "execute_result",
          "data": {
            "text/html": [
              "<style  type=\"text/css\" >\n",
              "    #T_61f4904a_239c_11ea_acb2_0242ac1c0002row0_col0 {\n",
              "            background-color:  #fcfe66;\n",
              "            color:  #000000;\n",
              "        }    #T_61f4904a_239c_11ea_acb2_0242ac1c0002row0_col1 {\n",
              "            background-color:  #f7fb66;\n",
              "            color:  #000000;\n",
              "        }    #T_61f4904a_239c_11ea_acb2_0242ac1c0002row0_col2 {\n",
              "            background-color:  #ffff66;\n",
              "            color:  #000000;\n",
              "        }    #T_61f4904a_239c_11ea_acb2_0242ac1c0002row0_col3 {\n",
              "            background-color:  #fdfe66;\n",
              "            color:  #000000;\n",
              "        }    #T_61f4904a_239c_11ea_acb2_0242ac1c0002row1_col0 {\n",
              "            background-color:  #f6fa66;\n",
              "            color:  #000000;\n",
              "        }    #T_61f4904a_239c_11ea_acb2_0242ac1c0002row1_col1 {\n",
              "            background-color:  #fefe66;\n",
              "            color:  #000000;\n",
              "        }    #T_61f4904a_239c_11ea_acb2_0242ac1c0002row1_col2 {\n",
              "            background-color:  #ffff66;\n",
              "            color:  #000000;\n",
              "        }    #T_61f4904a_239c_11ea_acb2_0242ac1c0002row1_col3 {\n",
              "            background-color:  #fdfe66;\n",
              "            color:  #000000;\n",
              "        }    #T_61f4904a_239c_11ea_acb2_0242ac1c0002row2_col0 {\n",
              "            background-color:  #fdfe66;\n",
              "            color:  #000000;\n",
              "        }    #T_61f4904a_239c_11ea_acb2_0242ac1c0002row2_col1 {\n",
              "            background-color:  #ffff66;\n",
              "            color:  #000000;\n",
              "        }    #T_61f4904a_239c_11ea_acb2_0242ac1c0002row2_col2 {\n",
              "            background-color:  #ffff66;\n",
              "            color:  #000000;\n",
              "        }    #T_61f4904a_239c_11ea_acb2_0242ac1c0002row2_col3 {\n",
              "            background-color:  #ffff66;\n",
              "            color:  #000000;\n",
              "        }    #T_61f4904a_239c_11ea_acb2_0242ac1c0002row3_col0 {\n",
              "            background-color:  #fcfe66;\n",
              "            color:  #000000;\n",
              "        }    #T_61f4904a_239c_11ea_acb2_0242ac1c0002row3_col1 {\n",
              "            background-color:  #ffff66;\n",
              "            color:  #000000;\n",
              "        }    #T_61f4904a_239c_11ea_acb2_0242ac1c0002row3_col2 {\n",
              "            background-color:  #ffff66;\n",
              "            color:  #000000;\n",
              "        }    #T_61f4904a_239c_11ea_acb2_0242ac1c0002row3_col3 {\n",
              "            background-color:  #ffff66;\n",
              "            color:  #000000;\n",
              "        }    #T_61f4904a_239c_11ea_acb2_0242ac1c0002row4_col0 {\n",
              "            background-color:  #ffff66;\n",
              "            color:  #000000;\n",
              "        }    #T_61f4904a_239c_11ea_acb2_0242ac1c0002row4_col1 {\n",
              "            background-color:  #fdfe66;\n",
              "            color:  #000000;\n",
              "        }    #T_61f4904a_239c_11ea_acb2_0242ac1c0002row4_col2 {\n",
              "            background-color:  #ffff66;\n",
              "            color:  #000000;\n",
              "        }    #T_61f4904a_239c_11ea_acb2_0242ac1c0002row4_col3 {\n",
              "            background-color:  #ffff66;\n",
              "            color:  #000000;\n",
              "        }    #T_61f4904a_239c_11ea_acb2_0242ac1c0002row5_col0 {\n",
              "            background-color:  #fcfe66;\n",
              "            color:  #000000;\n",
              "        }    #T_61f4904a_239c_11ea_acb2_0242ac1c0002row5_col1 {\n",
              "            background-color:  #ffff66;\n",
              "            color:  #000000;\n",
              "        }    #T_61f4904a_239c_11ea_acb2_0242ac1c0002row5_col2 {\n",
              "            background-color:  #ffff66;\n",
              "            color:  #000000;\n",
              "        }    #T_61f4904a_239c_11ea_acb2_0242ac1c0002row5_col3 {\n",
              "            background-color:  #ffff66;\n",
              "            color:  #000000;\n",
              "        }    #T_61f4904a_239c_11ea_acb2_0242ac1c0002row6_col0 {\n",
              "            background-color:  #ffff66;\n",
              "            color:  #000000;\n",
              "        }    #T_61f4904a_239c_11ea_acb2_0242ac1c0002row6_col1 {\n",
              "            background-color:  #f3f966;\n",
              "            color:  #000000;\n",
              "        }    #T_61f4904a_239c_11ea_acb2_0242ac1c0002row6_col2 {\n",
              "            background-color:  #ffff66;\n",
              "            color:  #000000;\n",
              "        }    #T_61f4904a_239c_11ea_acb2_0242ac1c0002row6_col3 {\n",
              "            background-color:  #fdfe66;\n",
              "            color:  #000000;\n",
              "        }    #T_61f4904a_239c_11ea_acb2_0242ac1c0002row7_col0 {\n",
              "            background-color:  #ffff66;\n",
              "            color:  #000000;\n",
              "        }    #T_61f4904a_239c_11ea_acb2_0242ac1c0002row7_col1 {\n",
              "            background-color:  #ffff66;\n",
              "            color:  #000000;\n",
              "        }    #T_61f4904a_239c_11ea_acb2_0242ac1c0002row7_col2 {\n",
              "            background-color:  #f7fb66;\n",
              "            color:  #000000;\n",
              "        }    #T_61f4904a_239c_11ea_acb2_0242ac1c0002row7_col3 {\n",
              "            background-color:  #fbfd66;\n",
              "            color:  #000000;\n",
              "        }    #T_61f4904a_239c_11ea_acb2_0242ac1c0002row8_col0 {\n",
              "            background-color:  #ffff66;\n",
              "            color:  #000000;\n",
              "        }    #T_61f4904a_239c_11ea_acb2_0242ac1c0002row8_col1 {\n",
              "            background-color:  #ffff66;\n",
              "            color:  #000000;\n",
              "        }    #T_61f4904a_239c_11ea_acb2_0242ac1c0002row8_col2 {\n",
              "            background-color:  #fafc66;\n",
              "            color:  #000000;\n",
              "        }    #T_61f4904a_239c_11ea_acb2_0242ac1c0002row8_col3 {\n",
              "            background-color:  #fdfe66;\n",
              "            color:  #000000;\n",
              "        }    #T_61f4904a_239c_11ea_acb2_0242ac1c0002row9_col0 {\n",
              "            background-color:  #aad466;\n",
              "            color:  #000000;\n",
              "        }    #T_61f4904a_239c_11ea_acb2_0242ac1c0002row9_col1 {\n",
              "            background-color:  #ffff66;\n",
              "            color:  #000000;\n",
              "        }    #T_61f4904a_239c_11ea_acb2_0242ac1c0002row9_col2 {\n",
              "            background-color:  #ffff66;\n",
              "            color:  #000000;\n",
              "        }    #T_61f4904a_239c_11ea_acb2_0242ac1c0002row9_col3 {\n",
              "            background-color:  #ebf566;\n",
              "            color:  #000000;\n",
              "        }    #T_61f4904a_239c_11ea_acb2_0242ac1c0002row10_col0 {\n",
              "            background-color:  #d4ea66;\n",
              "            color:  #000000;\n",
              "        }    #T_61f4904a_239c_11ea_acb2_0242ac1c0002row10_col1 {\n",
              "            background-color:  #ffff66;\n",
              "            color:  #000000;\n",
              "        }    #T_61f4904a_239c_11ea_acb2_0242ac1c0002row10_col2 {\n",
              "            background-color:  #ffff66;\n",
              "            color:  #000000;\n",
              "        }    #T_61f4904a_239c_11ea_acb2_0242ac1c0002row10_col3 {\n",
              "            background-color:  #f5fa66;\n",
              "            color:  #000000;\n",
              "        }    #T_61f4904a_239c_11ea_acb2_0242ac1c0002row11_col0 {\n",
              "            background-color:  #ffff66;\n",
              "            color:  #000000;\n",
              "        }    #T_61f4904a_239c_11ea_acb2_0242ac1c0002row11_col1 {\n",
              "            background-color:  #8cc666;\n",
              "            color:  #000000;\n",
              "        }    #T_61f4904a_239c_11ea_acb2_0242ac1c0002row11_col2 {\n",
              "            background-color:  #ffff66;\n",
              "            color:  #000000;\n",
              "        }    #T_61f4904a_239c_11ea_acb2_0242ac1c0002row11_col3 {\n",
              "            background-color:  #e8f466;\n",
              "            color:  #000000;\n",
              "        }    #T_61f4904a_239c_11ea_acb2_0242ac1c0002row12_col0 {\n",
              "            background-color:  #ffff66;\n",
              "            color:  #000000;\n",
              "        }    #T_61f4904a_239c_11ea_acb2_0242ac1c0002row12_col1 {\n",
              "            background-color:  #f4fa66;\n",
              "            color:  #000000;\n",
              "        }    #T_61f4904a_239c_11ea_acb2_0242ac1c0002row12_col2 {\n",
              "            background-color:  #ffff66;\n",
              "            color:  #000000;\n",
              "        }    #T_61f4904a_239c_11ea_acb2_0242ac1c0002row12_col3 {\n",
              "            background-color:  #fdfe66;\n",
              "            color:  #000000;\n",
              "        }    #T_61f4904a_239c_11ea_acb2_0242ac1c0002row13_col0 {\n",
              "            background-color:  #ffff66;\n",
              "            color:  #000000;\n",
              "        }    #T_61f4904a_239c_11ea_acb2_0242ac1c0002row13_col1 {\n",
              "            background-color:  #ffff66;\n",
              "            color:  #000000;\n",
              "        }    #T_61f4904a_239c_11ea_acb2_0242ac1c0002row13_col2 {\n",
              "            background-color:  #6cb666;\n",
              "            color:  #000000;\n",
              "        }    #T_61f4904a_239c_11ea_acb2_0242ac1c0002row13_col3 {\n",
              "            background-color:  #aed666;\n",
              "            color:  #000000;\n",
              "        }    #T_61f4904a_239c_11ea_acb2_0242ac1c0002row14_col0 {\n",
              "            background-color:  #ffff66;\n",
              "            color:  #000000;\n",
              "        }    #T_61f4904a_239c_11ea_acb2_0242ac1c0002row14_col1 {\n",
              "            background-color:  #ffff66;\n",
              "            color:  #000000;\n",
              "        }    #T_61f4904a_239c_11ea_acb2_0242ac1c0002row14_col2 {\n",
              "            background-color:  #edf666;\n",
              "            color:  #000000;\n",
              "        }    #T_61f4904a_239c_11ea_acb2_0242ac1c0002row14_col3 {\n",
              "            background-color:  #f5fa66;\n",
              "            color:  #000000;\n",
              "        }    #T_61f4904a_239c_11ea_acb2_0242ac1c0002row15_col0 {\n",
              "            background-color:  #fefe66;\n",
              "            color:  #000000;\n",
              "        }    #T_61f4904a_239c_11ea_acb2_0242ac1c0002row15_col1 {\n",
              "            background-color:  #ffff66;\n",
              "            color:  #000000;\n",
              "        }    #T_61f4904a_239c_11ea_acb2_0242ac1c0002row15_col2 {\n",
              "            background-color:  #ffff66;\n",
              "            color:  #000000;\n",
              "        }    #T_61f4904a_239c_11ea_acb2_0242ac1c0002row15_col3 {\n",
              "            background-color:  #ffff66;\n",
              "            color:  #000000;\n",
              "        }    #T_61f4904a_239c_11ea_acb2_0242ac1c0002row16_col0 {\n",
              "            background-color:  #cfe766;\n",
              "            color:  #000000;\n",
              "        }    #T_61f4904a_239c_11ea_acb2_0242ac1c0002row16_col1 {\n",
              "            background-color:  #ffff66;\n",
              "            color:  #000000;\n",
              "        }    #T_61f4904a_239c_11ea_acb2_0242ac1c0002row16_col2 {\n",
              "            background-color:  #ffff66;\n",
              "            color:  #000000;\n",
              "        }    #T_61f4904a_239c_11ea_acb2_0242ac1c0002row16_col3 {\n",
              "            background-color:  #f4fa66;\n",
              "            color:  #000000;\n",
              "        }    #T_61f4904a_239c_11ea_acb2_0242ac1c0002row17_col0 {\n",
              "            background-color:  #ffff66;\n",
              "            color:  #000000;\n",
              "        }    #T_61f4904a_239c_11ea_acb2_0242ac1c0002row17_col1 {\n",
              "            background-color:  #fafc66;\n",
              "            color:  #000000;\n",
              "        }    #T_61f4904a_239c_11ea_acb2_0242ac1c0002row17_col2 {\n",
              "            background-color:  #ffff66;\n",
              "            color:  #000000;\n",
              "        }    #T_61f4904a_239c_11ea_acb2_0242ac1c0002row17_col3 {\n",
              "            background-color:  #ffff66;\n",
              "            color:  #000000;\n",
              "        }    #T_61f4904a_239c_11ea_acb2_0242ac1c0002row18_col0 {\n",
              "            background-color:  #ffff66;\n",
              "            color:  #000000;\n",
              "        }    #T_61f4904a_239c_11ea_acb2_0242ac1c0002row18_col1 {\n",
              "            background-color:  #cce666;\n",
              "            color:  #000000;\n",
              "        }    #T_61f4904a_239c_11ea_acb2_0242ac1c0002row18_col2 {\n",
              "            background-color:  #ffff66;\n",
              "            color:  #000000;\n",
              "        }    #T_61f4904a_239c_11ea_acb2_0242ac1c0002row18_col3 {\n",
              "            background-color:  #f5fa66;\n",
              "            color:  #000000;\n",
              "        }    #T_61f4904a_239c_11ea_acb2_0242ac1c0002row19_col0 {\n",
              "            background-color:  #ffff66;\n",
              "            color:  #000000;\n",
              "        }    #T_61f4904a_239c_11ea_acb2_0242ac1c0002row19_col1 {\n",
              "            background-color:  #ffff66;\n",
              "            color:  #000000;\n",
              "        }    #T_61f4904a_239c_11ea_acb2_0242ac1c0002row19_col2 {\n",
              "            background-color:  #f5fa66;\n",
              "            color:  #000000;\n",
              "        }    #T_61f4904a_239c_11ea_acb2_0242ac1c0002row19_col3 {\n",
              "            background-color:  #fafc66;\n",
              "            color:  #000000;\n",
              "        }    #T_61f4904a_239c_11ea_acb2_0242ac1c0002row20_col0 {\n",
              "            background-color:  #ffff66;\n",
              "            color:  #000000;\n",
              "        }    #T_61f4904a_239c_11ea_acb2_0242ac1c0002row20_col1 {\n",
              "            background-color:  #ffff66;\n",
              "            color:  #000000;\n",
              "        }    #T_61f4904a_239c_11ea_acb2_0242ac1c0002row20_col2 {\n",
              "            background-color:  #f5fa66;\n",
              "            color:  #000000;\n",
              "        }    #T_61f4904a_239c_11ea_acb2_0242ac1c0002row20_col3 {\n",
              "            background-color:  #fafc66;\n",
              "            color:  #000000;\n",
              "        }    #T_61f4904a_239c_11ea_acb2_0242ac1c0002row21_col0 {\n",
              "            background-color:  #fdfe66;\n",
              "            color:  #000000;\n",
              "        }    #T_61f4904a_239c_11ea_acb2_0242ac1c0002row21_col1 {\n",
              "            background-color:  #ffff66;\n",
              "            color:  #000000;\n",
              "        }    #T_61f4904a_239c_11ea_acb2_0242ac1c0002row21_col2 {\n",
              "            background-color:  #ffff66;\n",
              "            color:  #000000;\n",
              "        }    #T_61f4904a_239c_11ea_acb2_0242ac1c0002row21_col3 {\n",
              "            background-color:  #ffff66;\n",
              "            color:  #000000;\n",
              "        }    #T_61f4904a_239c_11ea_acb2_0242ac1c0002row22_col0 {\n",
              "            background-color:  #cbe566;\n",
              "            color:  #000000;\n",
              "        }    #T_61f4904a_239c_11ea_acb2_0242ac1c0002row22_col1 {\n",
              "            background-color:  #ffff66;\n",
              "            color:  #000000;\n",
              "        }    #T_61f4904a_239c_11ea_acb2_0242ac1c0002row22_col2 {\n",
              "            background-color:  #ffff66;\n",
              "            color:  #000000;\n",
              "        }    #T_61f4904a_239c_11ea_acb2_0242ac1c0002row22_col3 {\n",
              "            background-color:  #f3f966;\n",
              "            color:  #000000;\n",
              "        }    #T_61f4904a_239c_11ea_acb2_0242ac1c0002row23_col0 {\n",
              "            background-color:  #ffff66;\n",
              "            color:  #000000;\n",
              "        }    #T_61f4904a_239c_11ea_acb2_0242ac1c0002row23_col1 {\n",
              "            background-color:  #fdfe66;\n",
              "            color:  #000000;\n",
              "        }    #T_61f4904a_239c_11ea_acb2_0242ac1c0002row23_col2 {\n",
              "            background-color:  #ffff66;\n",
              "            color:  #000000;\n",
              "        }    #T_61f4904a_239c_11ea_acb2_0242ac1c0002row23_col3 {\n",
              "            background-color:  #ffff66;\n",
              "            color:  #000000;\n",
              "        }    #T_61f4904a_239c_11ea_acb2_0242ac1c0002row24_col0 {\n",
              "            background-color:  #ffff66;\n",
              "            color:  #000000;\n",
              "        }    #T_61f4904a_239c_11ea_acb2_0242ac1c0002row24_col1 {\n",
              "            background-color:  #d3e966;\n",
              "            color:  #000000;\n",
              "        }    #T_61f4904a_239c_11ea_acb2_0242ac1c0002row24_col2 {\n",
              "            background-color:  #ffff66;\n",
              "            color:  #000000;\n",
              "        }    #T_61f4904a_239c_11ea_acb2_0242ac1c0002row24_col3 {\n",
              "            background-color:  #f7fb66;\n",
              "            color:  #000000;\n",
              "        }    #T_61f4904a_239c_11ea_acb2_0242ac1c0002row25_col0 {\n",
              "            background-color:  #ffff66;\n",
              "            color:  #000000;\n",
              "        }    #T_61f4904a_239c_11ea_acb2_0242ac1c0002row25_col1 {\n",
              "            background-color:  #ffff66;\n",
              "            color:  #000000;\n",
              "        }    #T_61f4904a_239c_11ea_acb2_0242ac1c0002row25_col2 {\n",
              "            background-color:  #e5f266;\n",
              "            color:  #000000;\n",
              "        }    #T_61f4904a_239c_11ea_acb2_0242ac1c0002row25_col3 {\n",
              "            background-color:  #f1f866;\n",
              "            color:  #000000;\n",
              "        }    #T_61f4904a_239c_11ea_acb2_0242ac1c0002row26_col0 {\n",
              "            background-color:  #ffff66;\n",
              "            color:  #000000;\n",
              "        }    #T_61f4904a_239c_11ea_acb2_0242ac1c0002row26_col1 {\n",
              "            background-color:  #ffff66;\n",
              "            color:  #000000;\n",
              "        }    #T_61f4904a_239c_11ea_acb2_0242ac1c0002row26_col2 {\n",
              "            background-color:  #e5f266;\n",
              "            color:  #000000;\n",
              "        }    #T_61f4904a_239c_11ea_acb2_0242ac1c0002row26_col3 {\n",
              "            background-color:  #f1f866;\n",
              "            color:  #000000;\n",
              "        }    #T_61f4904a_239c_11ea_acb2_0242ac1c0002row27_col0 {\n",
              "            background-color:  #008066;\n",
              "            color:  #f1f1f1;\n",
              "        }    #T_61f4904a_239c_11ea_acb2_0242ac1c0002row27_col1 {\n",
              "            background-color:  #008066;\n",
              "            color:  #f1f1f1;\n",
              "        }    #T_61f4904a_239c_11ea_acb2_0242ac1c0002row27_col2 {\n",
              "            background-color:  #008066;\n",
              "            color:  #f1f1f1;\n",
              "        }    #T_61f4904a_239c_11ea_acb2_0242ac1c0002row27_col3 {\n",
              "            background-color:  #008066;\n",
              "            color:  #f1f1f1;\n",
              "        }</style><table id=\"T_61f4904a_239c_11ea_acb2_0242ac1c0002\" ><thead>    <tr>        <th class=\"blank\" ></th>        <th class=\"index_name level0\" >Pclass</th>        <th class=\"col_heading level0 col0\" >1</th>        <th class=\"col_heading level0 col1\" >2</th>        <th class=\"col_heading level0 col2\" >3</th>        <th class=\"col_heading level0 col3\" >All</th>    </tr>    <tr>        <th class=\"index_name level0\" >CN</th>        <th class=\"index_name level1\" >Survived</th>        <th class=\"blank\" ></th>        <th class=\"blank\" ></th>        <th class=\"blank\" ></th>        <th class=\"blank\" ></th>    </tr></thead><tbody>\n",
              "                <tr>\n",
              "                        <th id=\"T_61f4904a_239c_11ea_acb2_0242ac1c0002level0_row0\" class=\"row_heading level0 row0\" rowspan=2>0</th>\n",
              "                        <th id=\"T_61f4904a_239c_11ea_acb2_0242ac1c0002level1_row0\" class=\"row_heading level1 row0\" >0</th>\n",
              "                        <td id=\"T_61f4904a_239c_11ea_acb2_0242ac1c0002row0_col0\" class=\"data row0 col0\" >3</td>\n",
              "                        <td id=\"T_61f4904a_239c_11ea_acb2_0242ac1c0002row0_col1\" class=\"data row0 col1\" >6</td>\n",
              "                        <td id=\"T_61f4904a_239c_11ea_acb2_0242ac1c0002row0_col2\" class=\"data row0 col2\" >0</td>\n",
              "                        <td id=\"T_61f4904a_239c_11ea_acb2_0242ac1c0002row0_col3\" class=\"data row0 col3\" >9</td>\n",
              "            </tr>\n",
              "            <tr>\n",
              "                                <th id=\"T_61f4904a_239c_11ea_acb2_0242ac1c0002level1_row1\" class=\"row_heading level1 row1\" >1</th>\n",
              "                        <td id=\"T_61f4904a_239c_11ea_acb2_0242ac1c0002row1_col0\" class=\"data row1 col0\" >8</td>\n",
              "                        <td id=\"T_61f4904a_239c_11ea_acb2_0242ac1c0002row1_col1\" class=\"data row1 col1\" >1</td>\n",
              "                        <td id=\"T_61f4904a_239c_11ea_acb2_0242ac1c0002row1_col2\" class=\"data row1 col2\" >0</td>\n",
              "                        <td id=\"T_61f4904a_239c_11ea_acb2_0242ac1c0002row1_col3\" class=\"data row1 col3\" >9</td>\n",
              "            </tr>\n",
              "            <tr>\n",
              "                        <th id=\"T_61f4904a_239c_11ea_acb2_0242ac1c0002level0_row2\" class=\"row_heading level0 row2\" rowspan=2>dr1</th>\n",
              "                        <th id=\"T_61f4904a_239c_11ea_acb2_0242ac1c0002level1_row2\" class=\"row_heading level1 row2\" >0</th>\n",
              "                        <td id=\"T_61f4904a_239c_11ea_acb2_0242ac1c0002row2_col0\" class=\"data row2 col0\" >2</td>\n",
              "                        <td id=\"T_61f4904a_239c_11ea_acb2_0242ac1c0002row2_col1\" class=\"data row2 col1\" >0</td>\n",
              "                        <td id=\"T_61f4904a_239c_11ea_acb2_0242ac1c0002row2_col2\" class=\"data row2 col2\" >0</td>\n",
              "                        <td id=\"T_61f4904a_239c_11ea_acb2_0242ac1c0002row2_col3\" class=\"data row2 col3\" >2</td>\n",
              "            </tr>\n",
              "            <tr>\n",
              "                                <th id=\"T_61f4904a_239c_11ea_acb2_0242ac1c0002level1_row3\" class=\"row_heading level1 row3\" >1</th>\n",
              "                        <td id=\"T_61f4904a_239c_11ea_acb2_0242ac1c0002row3_col0\" class=\"data row3 col0\" >3</td>\n",
              "                        <td id=\"T_61f4904a_239c_11ea_acb2_0242ac1c0002row3_col1\" class=\"data row3 col1\" >0</td>\n",
              "                        <td id=\"T_61f4904a_239c_11ea_acb2_0242ac1c0002row3_col2\" class=\"data row3 col2\" >0</td>\n",
              "                        <td id=\"T_61f4904a_239c_11ea_acb2_0242ac1c0002row3_col3\" class=\"data row3 col3\" >3</td>\n",
              "            </tr>\n",
              "            <tr>\n",
              "                        <th id=\"T_61f4904a_239c_11ea_acb2_0242ac1c0002level0_row4\" class=\"row_heading level0 row4\" >dr2</th>\n",
              "                        <th id=\"T_61f4904a_239c_11ea_acb2_0242ac1c0002level1_row4\" class=\"row_heading level1 row4\" >0</th>\n",
              "                        <td id=\"T_61f4904a_239c_11ea_acb2_0242ac1c0002row4_col0\" class=\"data row4 col0\" >0</td>\n",
              "                        <td id=\"T_61f4904a_239c_11ea_acb2_0242ac1c0002row4_col1\" class=\"data row4 col1\" >2</td>\n",
              "                        <td id=\"T_61f4904a_239c_11ea_acb2_0242ac1c0002row4_col2\" class=\"data row4 col2\" >0</td>\n",
              "                        <td id=\"T_61f4904a_239c_11ea_acb2_0242ac1c0002row4_col3\" class=\"data row4 col3\" >2</td>\n",
              "            </tr>\n",
              "            <tr>\n",
              "                        <th id=\"T_61f4904a_239c_11ea_acb2_0242ac1c0002level0_row5\" class=\"row_heading level0 row5\" >ma1</th>\n",
              "                        <th id=\"T_61f4904a_239c_11ea_acb2_0242ac1c0002level1_row5\" class=\"row_heading level1 row5\" >1</th>\n",
              "                        <td id=\"T_61f4904a_239c_11ea_acb2_0242ac1c0002row5_col0\" class=\"data row5 col0\" >3</td>\n",
              "                        <td id=\"T_61f4904a_239c_11ea_acb2_0242ac1c0002row5_col1\" class=\"data row5 col1\" >0</td>\n",
              "                        <td id=\"T_61f4904a_239c_11ea_acb2_0242ac1c0002row5_col2\" class=\"data row5 col2\" >0</td>\n",
              "                        <td id=\"T_61f4904a_239c_11ea_acb2_0242ac1c0002row5_col3\" class=\"data row5 col3\" >3</td>\n",
              "            </tr>\n",
              "            <tr>\n",
              "                        <th id=\"T_61f4904a_239c_11ea_acb2_0242ac1c0002level0_row6\" class=\"row_heading level0 row6\" >ma2</th>\n",
              "                        <th id=\"T_61f4904a_239c_11ea_acb2_0242ac1c0002level1_row6\" class=\"row_heading level1 row6\" >1</th>\n",
              "                        <td id=\"T_61f4904a_239c_11ea_acb2_0242ac1c0002row6_col0\" class=\"data row6 col0\" >0</td>\n",
              "                        <td id=\"T_61f4904a_239c_11ea_acb2_0242ac1c0002row6_col1\" class=\"data row6 col1\" >9</td>\n",
              "                        <td id=\"T_61f4904a_239c_11ea_acb2_0242ac1c0002row6_col2\" class=\"data row6 col2\" >0</td>\n",
              "                        <td id=\"T_61f4904a_239c_11ea_acb2_0242ac1c0002row6_col3\" class=\"data row6 col3\" >9</td>\n",
              "            </tr>\n",
              "            <tr>\n",
              "                        <th id=\"T_61f4904a_239c_11ea_acb2_0242ac1c0002level0_row7\" class=\"row_heading level0 row7\" rowspan=2>ma3</th>\n",
              "                        <th id=\"T_61f4904a_239c_11ea_acb2_0242ac1c0002level1_row7\" class=\"row_heading level1 row7\" >0</th>\n",
              "                        <td id=\"T_61f4904a_239c_11ea_acb2_0242ac1c0002row7_col0\" class=\"data row7 col0\" >0</td>\n",
              "                        <td id=\"T_61f4904a_239c_11ea_acb2_0242ac1c0002row7_col1\" class=\"data row7 col1\" >0</td>\n",
              "                        <td id=\"T_61f4904a_239c_11ea_acb2_0242ac1c0002row7_col2\" class=\"data row7 col2\" >17</td>\n",
              "                        <td id=\"T_61f4904a_239c_11ea_acb2_0242ac1c0002row7_col3\" class=\"data row7 col3\" >17</td>\n",
              "            </tr>\n",
              "            <tr>\n",
              "                                <th id=\"T_61f4904a_239c_11ea_acb2_0242ac1c0002level1_row8\" class=\"row_heading level1 row8\" >1</th>\n",
              "                        <td id=\"T_61f4904a_239c_11ea_acb2_0242ac1c0002row8_col0\" class=\"data row8 col0\" >0</td>\n",
              "                        <td id=\"T_61f4904a_239c_11ea_acb2_0242ac1c0002row8_col1\" class=\"data row8 col1\" >0</td>\n",
              "                        <td id=\"T_61f4904a_239c_11ea_acb2_0242ac1c0002row8_col2\" class=\"data row8 col2\" >11</td>\n",
              "                        <td id=\"T_61f4904a_239c_11ea_acb2_0242ac1c0002row8_col3\" class=\"data row8 col3\" >11</td>\n",
              "            </tr>\n",
              "            <tr>\n",
              "                        <th id=\"T_61f4904a_239c_11ea_acb2_0242ac1c0002level0_row9\" class=\"row_heading level0 row9\" rowspan=2>mr1</th>\n",
              "                        <th id=\"T_61f4904a_239c_11ea_acb2_0242ac1c0002level1_row9\" class=\"row_heading level1 row9\" >0</th>\n",
              "                        <td id=\"T_61f4904a_239c_11ea_acb2_0242ac1c0002row9_col0\" class=\"data row9 col0\" >72</td>\n",
              "                        <td id=\"T_61f4904a_239c_11ea_acb2_0242ac1c0002row9_col1\" class=\"data row9 col1\" >0</td>\n",
              "                        <td id=\"T_61f4904a_239c_11ea_acb2_0242ac1c0002row9_col2\" class=\"data row9 col2\" >0</td>\n",
              "                        <td id=\"T_61f4904a_239c_11ea_acb2_0242ac1c0002row9_col3\" class=\"data row9 col3\" >72</td>\n",
              "            </tr>\n",
              "            <tr>\n",
              "                                <th id=\"T_61f4904a_239c_11ea_acb2_0242ac1c0002level1_row10\" class=\"row_heading level1 row10\" >1</th>\n",
              "                        <td id=\"T_61f4904a_239c_11ea_acb2_0242ac1c0002row10_col0\" class=\"data row10 col0\" >37</td>\n",
              "                        <td id=\"T_61f4904a_239c_11ea_acb2_0242ac1c0002row10_col1\" class=\"data row10 col1\" >0</td>\n",
              "                        <td id=\"T_61f4904a_239c_11ea_acb2_0242ac1c0002row10_col2\" class=\"data row10 col2\" >0</td>\n",
              "                        <td id=\"T_61f4904a_239c_11ea_acb2_0242ac1c0002row10_col3\" class=\"data row10 col3\" >37</td>\n",
              "            </tr>\n",
              "            <tr>\n",
              "                        <th id=\"T_61f4904a_239c_11ea_acb2_0242ac1c0002level0_row11\" class=\"row_heading level0 row11\" rowspan=2>mr2</th>\n",
              "                        <th id=\"T_61f4904a_239c_11ea_acb2_0242ac1c0002level1_row11\" class=\"row_heading level1 row11\" >0</th>\n",
              "                        <td id=\"T_61f4904a_239c_11ea_acb2_0242ac1c0002row11_col0\" class=\"data row11 col0\" >0</td>\n",
              "                        <td id=\"T_61f4904a_239c_11ea_acb2_0242ac1c0002row11_col1\" class=\"data row11 col1\" >83</td>\n",
              "                        <td id=\"T_61f4904a_239c_11ea_acb2_0242ac1c0002row11_col2\" class=\"data row11 col2\" >0</td>\n",
              "                        <td id=\"T_61f4904a_239c_11ea_acb2_0242ac1c0002row11_col3\" class=\"data row11 col3\" >83</td>\n",
              "            </tr>\n",
              "            <tr>\n",
              "                                <th id=\"T_61f4904a_239c_11ea_acb2_0242ac1c0002level1_row12\" class=\"row_heading level1 row12\" >1</th>\n",
              "                        <td id=\"T_61f4904a_239c_11ea_acb2_0242ac1c0002row12_col0\" class=\"data row12 col0\" >0</td>\n",
              "                        <td id=\"T_61f4904a_239c_11ea_acb2_0242ac1c0002row12_col1\" class=\"data row12 col1\" >8</td>\n",
              "                        <td id=\"T_61f4904a_239c_11ea_acb2_0242ac1c0002row12_col2\" class=\"data row12 col2\" >0</td>\n",
              "                        <td id=\"T_61f4904a_239c_11ea_acb2_0242ac1c0002row12_col3\" class=\"data row12 col3\" >8</td>\n",
              "            </tr>\n",
              "            <tr>\n",
              "                        <th id=\"T_61f4904a_239c_11ea_acb2_0242ac1c0002level0_row13\" class=\"row_heading level0 row13\" rowspan=2>mr3</th>\n",
              "                        <th id=\"T_61f4904a_239c_11ea_acb2_0242ac1c0002level1_row13\" class=\"row_heading level1 row13\" >0</th>\n",
              "                        <td id=\"T_61f4904a_239c_11ea_acb2_0242ac1c0002row13_col0\" class=\"data row13 col0\" >0</td>\n",
              "                        <td id=\"T_61f4904a_239c_11ea_acb2_0242ac1c0002row13_col1\" class=\"data row13 col1\" >0</td>\n",
              "                        <td id=\"T_61f4904a_239c_11ea_acb2_0242ac1c0002row13_col2\" class=\"data row13 col2\" >283</td>\n",
              "                        <td id=\"T_61f4904a_239c_11ea_acb2_0242ac1c0002row13_col3\" class=\"data row13 col3\" >283</td>\n",
              "            </tr>\n",
              "            <tr>\n",
              "                                <th id=\"T_61f4904a_239c_11ea_acb2_0242ac1c0002level1_row14\" class=\"row_heading level1 row14\" >1</th>\n",
              "                        <td id=\"T_61f4904a_239c_11ea_acb2_0242ac1c0002row14_col0\" class=\"data row14 col0\" >0</td>\n",
              "                        <td id=\"T_61f4904a_239c_11ea_acb2_0242ac1c0002row14_col1\" class=\"data row14 col1\" >0</td>\n",
              "                        <td id=\"T_61f4904a_239c_11ea_acb2_0242ac1c0002row14_col2\" class=\"data row14 col2\" >36</td>\n",
              "                        <td id=\"T_61f4904a_239c_11ea_acb2_0242ac1c0002row14_col3\" class=\"data row14 col3\" >36</td>\n",
              "            </tr>\n",
              "            <tr>\n",
              "                        <th id=\"T_61f4904a_239c_11ea_acb2_0242ac1c0002level0_row15\" class=\"row_heading level0 row15\" rowspan=2>mrs1</th>\n",
              "                        <th id=\"T_61f4904a_239c_11ea_acb2_0242ac1c0002level1_row15\" class=\"row_heading level1 row15\" >0</th>\n",
              "                        <td id=\"T_61f4904a_239c_11ea_acb2_0242ac1c0002row15_col0\" class=\"data row15 col0\" >1</td>\n",
              "                        <td id=\"T_61f4904a_239c_11ea_acb2_0242ac1c0002row15_col1\" class=\"data row15 col1\" >0</td>\n",
              "                        <td id=\"T_61f4904a_239c_11ea_acb2_0242ac1c0002row15_col2\" class=\"data row15 col2\" >0</td>\n",
              "                        <td id=\"T_61f4904a_239c_11ea_acb2_0242ac1c0002row15_col3\" class=\"data row15 col3\" >1</td>\n",
              "            </tr>\n",
              "            <tr>\n",
              "                                <th id=\"T_61f4904a_239c_11ea_acb2_0242ac1c0002level1_row16\" class=\"row_heading level1 row16\" >1</th>\n",
              "                        <td id=\"T_61f4904a_239c_11ea_acb2_0242ac1c0002row16_col0\" class=\"data row16 col0\" >41</td>\n",
              "                        <td id=\"T_61f4904a_239c_11ea_acb2_0242ac1c0002row16_col1\" class=\"data row16 col1\" >0</td>\n",
              "                        <td id=\"T_61f4904a_239c_11ea_acb2_0242ac1c0002row16_col2\" class=\"data row16 col2\" >0</td>\n",
              "                        <td id=\"T_61f4904a_239c_11ea_acb2_0242ac1c0002row16_col3\" class=\"data row16 col3\" >41</td>\n",
              "            </tr>\n",
              "            <tr>\n",
              "                        <th id=\"T_61f4904a_239c_11ea_acb2_0242ac1c0002level0_row17\" class=\"row_heading level0 row17\" rowspan=2>mrs2</th>\n",
              "                        <th id=\"T_61f4904a_239c_11ea_acb2_0242ac1c0002level1_row17\" class=\"row_heading level1 row17\" >0</th>\n",
              "                        <td id=\"T_61f4904a_239c_11ea_acb2_0242ac1c0002row17_col0\" class=\"data row17 col0\" >0</td>\n",
              "                        <td id=\"T_61f4904a_239c_11ea_acb2_0242ac1c0002row17_col1\" class=\"data row17 col1\" >4</td>\n",
              "                        <td id=\"T_61f4904a_239c_11ea_acb2_0242ac1c0002row17_col2\" class=\"data row17 col2\" >0</td>\n",
              "                        <td id=\"T_61f4904a_239c_11ea_acb2_0242ac1c0002row17_col3\" class=\"data row17 col3\" >4</td>\n",
              "            </tr>\n",
              "            <tr>\n",
              "                                <th id=\"T_61f4904a_239c_11ea_acb2_0242ac1c0002level1_row18\" class=\"row_heading level1 row18\" >1</th>\n",
              "                        <td id=\"T_61f4904a_239c_11ea_acb2_0242ac1c0002row18_col0\" class=\"data row18 col0\" >0</td>\n",
              "                        <td id=\"T_61f4904a_239c_11ea_acb2_0242ac1c0002row18_col1\" class=\"data row18 col1\" >37</td>\n",
              "                        <td id=\"T_61f4904a_239c_11ea_acb2_0242ac1c0002row18_col2\" class=\"data row18 col2\" >0</td>\n",
              "                        <td id=\"T_61f4904a_239c_11ea_acb2_0242ac1c0002row18_col3\" class=\"data row18 col3\" >37</td>\n",
              "            </tr>\n",
              "            <tr>\n",
              "                        <th id=\"T_61f4904a_239c_11ea_acb2_0242ac1c0002level0_row19\" class=\"row_heading level0 row19\" rowspan=2>mrs3</th>\n",
              "                        <th id=\"T_61f4904a_239c_11ea_acb2_0242ac1c0002level1_row19\" class=\"row_heading level1 row19\" >0</th>\n",
              "                        <td id=\"T_61f4904a_239c_11ea_acb2_0242ac1c0002row19_col0\" class=\"data row19 col0\" >0</td>\n",
              "                        <td id=\"T_61f4904a_239c_11ea_acb2_0242ac1c0002row19_col1\" class=\"data row19 col1\" >0</td>\n",
              "                        <td id=\"T_61f4904a_239c_11ea_acb2_0242ac1c0002row19_col2\" class=\"data row19 col2\" >21</td>\n",
              "                        <td id=\"T_61f4904a_239c_11ea_acb2_0242ac1c0002row19_col3\" class=\"data row19 col3\" >21</td>\n",
              "            </tr>\n",
              "            <tr>\n",
              "                                <th id=\"T_61f4904a_239c_11ea_acb2_0242ac1c0002level1_row20\" class=\"row_heading level1 row20\" >1</th>\n",
              "                        <td id=\"T_61f4904a_239c_11ea_acb2_0242ac1c0002row20_col0\" class=\"data row20 col0\" >0</td>\n",
              "                        <td id=\"T_61f4904a_239c_11ea_acb2_0242ac1c0002row20_col1\" class=\"data row20 col1\" >0</td>\n",
              "                        <td id=\"T_61f4904a_239c_11ea_acb2_0242ac1c0002row20_col2\" class=\"data row20 col2\" >21</td>\n",
              "                        <td id=\"T_61f4904a_239c_11ea_acb2_0242ac1c0002row20_col3\" class=\"data row20 col3\" >21</td>\n",
              "            </tr>\n",
              "            <tr>\n",
              "                        <th id=\"T_61f4904a_239c_11ea_acb2_0242ac1c0002level0_row21\" class=\"row_heading level0 row21\" rowspan=2>ms1</th>\n",
              "                        <th id=\"T_61f4904a_239c_11ea_acb2_0242ac1c0002level1_row21\" class=\"row_heading level1 row21\" >0</th>\n",
              "                        <td id=\"T_61f4904a_239c_11ea_acb2_0242ac1c0002row21_col0\" class=\"data row21 col0\" >2</td>\n",
              "                        <td id=\"T_61f4904a_239c_11ea_acb2_0242ac1c0002row21_col1\" class=\"data row21 col1\" >0</td>\n",
              "                        <td id=\"T_61f4904a_239c_11ea_acb2_0242ac1c0002row21_col2\" class=\"data row21 col2\" >0</td>\n",
              "                        <td id=\"T_61f4904a_239c_11ea_acb2_0242ac1c0002row21_col3\" class=\"data row21 col3\" >2</td>\n",
              "            </tr>\n",
              "            <tr>\n",
              "                                <th id=\"T_61f4904a_239c_11ea_acb2_0242ac1c0002level1_row22\" class=\"row_heading level1 row22\" >1</th>\n",
              "                        <td id=\"T_61f4904a_239c_11ea_acb2_0242ac1c0002row22_col0\" class=\"data row22 col0\" >44</td>\n",
              "                        <td id=\"T_61f4904a_239c_11ea_acb2_0242ac1c0002row22_col1\" class=\"data row22 col1\" >0</td>\n",
              "                        <td id=\"T_61f4904a_239c_11ea_acb2_0242ac1c0002row22_col2\" class=\"data row22 col2\" >0</td>\n",
              "                        <td id=\"T_61f4904a_239c_11ea_acb2_0242ac1c0002row22_col3\" class=\"data row22 col3\" >44</td>\n",
              "            </tr>\n",
              "            <tr>\n",
              "                        <th id=\"T_61f4904a_239c_11ea_acb2_0242ac1c0002level0_row23\" class=\"row_heading level0 row23\" rowspan=2>ms2</th>\n",
              "                        <th id=\"T_61f4904a_239c_11ea_acb2_0242ac1c0002level1_row23\" class=\"row_heading level1 row23\" >0</th>\n",
              "                        <td id=\"T_61f4904a_239c_11ea_acb2_0242ac1c0002row23_col0\" class=\"data row23 col0\" >0</td>\n",
              "                        <td id=\"T_61f4904a_239c_11ea_acb2_0242ac1c0002row23_col1\" class=\"data row23 col1\" >2</td>\n",
              "                        <td id=\"T_61f4904a_239c_11ea_acb2_0242ac1c0002row23_col2\" class=\"data row23 col2\" >0</td>\n",
              "                        <td id=\"T_61f4904a_239c_11ea_acb2_0242ac1c0002row23_col3\" class=\"data row23 col3\" >2</td>\n",
              "            </tr>\n",
              "            <tr>\n",
              "                                <th id=\"T_61f4904a_239c_11ea_acb2_0242ac1c0002level1_row24\" class=\"row_heading level1 row24\" >1</th>\n",
              "                        <td id=\"T_61f4904a_239c_11ea_acb2_0242ac1c0002row24_col0\" class=\"data row24 col0\" >0</td>\n",
              "                        <td id=\"T_61f4904a_239c_11ea_acb2_0242ac1c0002row24_col1\" class=\"data row24 col1\" >32</td>\n",
              "                        <td id=\"T_61f4904a_239c_11ea_acb2_0242ac1c0002row24_col2\" class=\"data row24 col2\" >0</td>\n",
              "                        <td id=\"T_61f4904a_239c_11ea_acb2_0242ac1c0002row24_col3\" class=\"data row24 col3\" >32</td>\n",
              "            </tr>\n",
              "            <tr>\n",
              "                        <th id=\"T_61f4904a_239c_11ea_acb2_0242ac1c0002level0_row25\" class=\"row_heading level0 row25\" rowspan=2>ms3</th>\n",
              "                        <th id=\"T_61f4904a_239c_11ea_acb2_0242ac1c0002level1_row25\" class=\"row_heading level1 row25\" >0</th>\n",
              "                        <td id=\"T_61f4904a_239c_11ea_acb2_0242ac1c0002row25_col0\" class=\"data row25 col0\" >0</td>\n",
              "                        <td id=\"T_61f4904a_239c_11ea_acb2_0242ac1c0002row25_col1\" class=\"data row25 col1\" >0</td>\n",
              "                        <td id=\"T_61f4904a_239c_11ea_acb2_0242ac1c0002row25_col2\" class=\"data row25 col2\" >51</td>\n",
              "                        <td id=\"T_61f4904a_239c_11ea_acb2_0242ac1c0002row25_col3\" class=\"data row25 col3\" >51</td>\n",
              "            </tr>\n",
              "            <tr>\n",
              "                                <th id=\"T_61f4904a_239c_11ea_acb2_0242ac1c0002level1_row26\" class=\"row_heading level1 row26\" >1</th>\n",
              "                        <td id=\"T_61f4904a_239c_11ea_acb2_0242ac1c0002row26_col0\" class=\"data row26 col0\" >0</td>\n",
              "                        <td id=\"T_61f4904a_239c_11ea_acb2_0242ac1c0002row26_col1\" class=\"data row26 col1\" >0</td>\n",
              "                        <td id=\"T_61f4904a_239c_11ea_acb2_0242ac1c0002row26_col2\" class=\"data row26 col2\" >51</td>\n",
              "                        <td id=\"T_61f4904a_239c_11ea_acb2_0242ac1c0002row26_col3\" class=\"data row26 col3\" >51</td>\n",
              "            </tr>\n",
              "            <tr>\n",
              "                        <th id=\"T_61f4904a_239c_11ea_acb2_0242ac1c0002level0_row27\" class=\"row_heading level0 row27\" >All</th>\n",
              "                        <th id=\"T_61f4904a_239c_11ea_acb2_0242ac1c0002level1_row27\" class=\"row_heading level1 row27\" ></th>\n",
              "                        <td id=\"T_61f4904a_239c_11ea_acb2_0242ac1c0002row27_col0\" class=\"data row27 col0\" >216</td>\n",
              "                        <td id=\"T_61f4904a_239c_11ea_acb2_0242ac1c0002row27_col1\" class=\"data row27 col1\" >184</td>\n",
              "                        <td id=\"T_61f4904a_239c_11ea_acb2_0242ac1c0002row27_col2\" class=\"data row27 col2\" >491</td>\n",
              "                        <td id=\"T_61f4904a_239c_11ea_acb2_0242ac1c0002row27_col3\" class=\"data row27 col3\" >891</td>\n",
              "            </tr>\n",
              "    </tbody></table>"
            ],
            "text/plain": [
              "<pandas.io.formats.style.Styler at 0x7f8f5e595160>"
            ]
          },
          "metadata": {
            "tags": []
          },
          "execution_count": 85
        }
      ]
    },
    {
      "cell_type": "markdown",
      "metadata": {
        "id": "GBNvKiQoXKfY",
        "colab_type": "text"
      },
      "source": [
        "* 어?? CN에 없는 value가 있습니다. 봅니다."
      ]
    },
    {
      "cell_type": "code",
      "metadata": {
        "id": "FM3jV3-MXWYo",
        "colab_type": "code",
        "colab": {
          "base_uri": "https://localhost:8080/",
          "height": 34
        },
        "outputId": "03168bf8-14af-4b71-8521-0eea39f22a21"
      },
      "source": [
        "train.CN.isnull().sum()"
      ],
      "execution_count": 86,
      "outputs": [
        {
          "output_type": "execute_result",
          "data": {
            "text/plain": [
              "0"
            ]
          },
          "metadata": {
            "tags": []
          },
          "execution_count": 86
        }
      ]
    },
    {
      "cell_type": "markdown",
      "metadata": {
        "id": "bQYaUXU8Xk5F",
        "colab_type": "text"
      },
      "source": [
        "* null 이 아니라 0 이 군요. 위에 cn1이 작동 안 했을 가능성이 큽니다."
      ]
    },
    {
      "cell_type": "code",
      "metadata": {
        "id": "xvPbF0O8XqjB",
        "colab_type": "code",
        "colab": {
          "base_uri": "https://localhost:8080/",
          "height": 587
        },
        "outputId": "cd715f51-2810-4cb0-b46f-88e8c13ee553"
      },
      "source": [
        "train.loc[(train['CN'] == 0)]"
      ],
      "execution_count": 89,
      "outputs": [
        {
          "output_type": "execute_result",
          "data": {
            "text/html": [
              "<div>\n",
              "<style scoped>\n",
              "    .dataframe tbody tr th:only-of-type {\n",
              "        vertical-align: middle;\n",
              "    }\n",
              "\n",
              "    .dataframe tbody tr th {\n",
              "        vertical-align: top;\n",
              "    }\n",
              "\n",
              "    .dataframe thead th {\n",
              "        text-align: right;\n",
              "    }\n",
              "</style>\n",
              "<table border=\"1\" class=\"dataframe\">\n",
              "  <thead>\n",
              "    <tr style=\"text-align: right;\">\n",
              "      <th></th>\n",
              "      <th>PassengerId</th>\n",
              "      <th>Survived</th>\n",
              "      <th>Pclass</th>\n",
              "      <th>Name</th>\n",
              "      <th>Sex</th>\n",
              "      <th>Age</th>\n",
              "      <th>SibSp</th>\n",
              "      <th>Parch</th>\n",
              "      <th>Ticket</th>\n",
              "      <th>Fare</th>\n",
              "      <th>Cabin</th>\n",
              "      <th>Embarked</th>\n",
              "      <th>Initial</th>\n",
              "      <th>CN</th>\n",
              "    </tr>\n",
              "  </thead>\n",
              "  <tbody>\n",
              "    <tr>\n",
              "      <th>149</th>\n",
              "      <td>150</td>\n",
              "      <td>0</td>\n",
              "      <td>2</td>\n",
              "      <td>Byles, Rev. Thomas Roussel Davids</td>\n",
              "      <td>male</td>\n",
              "      <td>42.0</td>\n",
              "      <td>0</td>\n",
              "      <td>0</td>\n",
              "      <td>244310</td>\n",
              "      <td>13.0000</td>\n",
              "      <td>NaN</td>\n",
              "      <td>S</td>\n",
              "      <td>rv</td>\n",
              "      <td>0</td>\n",
              "    </tr>\n",
              "    <tr>\n",
              "      <th>150</th>\n",
              "      <td>151</td>\n",
              "      <td>0</td>\n",
              "      <td>2</td>\n",
              "      <td>Bateman, Rev. Robert James</td>\n",
              "      <td>male</td>\n",
              "      <td>51.0</td>\n",
              "      <td>0</td>\n",
              "      <td>0</td>\n",
              "      <td>S.O.P. 1166</td>\n",
              "      <td>12.5250</td>\n",
              "      <td>NaN</td>\n",
              "      <td>S</td>\n",
              "      <td>rv</td>\n",
              "      <td>0</td>\n",
              "    </tr>\n",
              "    <tr>\n",
              "      <th>249</th>\n",
              "      <td>250</td>\n",
              "      <td>0</td>\n",
              "      <td>2</td>\n",
              "      <td>Carter, Rev. Ernest Courtenay</td>\n",
              "      <td>male</td>\n",
              "      <td>54.0</td>\n",
              "      <td>1</td>\n",
              "      <td>0</td>\n",
              "      <td>244252</td>\n",
              "      <td>26.0000</td>\n",
              "      <td>NaN</td>\n",
              "      <td>S</td>\n",
              "      <td>rv</td>\n",
              "      <td>0</td>\n",
              "    </tr>\n",
              "    <tr>\n",
              "      <th>369</th>\n",
              "      <td>370</td>\n",
              "      <td>1</td>\n",
              "      <td>1</td>\n",
              "      <td>Aubart, Mme. Leontine Pauline</td>\n",
              "      <td>female</td>\n",
              "      <td>24.0</td>\n",
              "      <td>0</td>\n",
              "      <td>0</td>\n",
              "      <td>PC 17477</td>\n",
              "      <td>69.3000</td>\n",
              "      <td>B35</td>\n",
              "      <td>C</td>\n",
              "      <td>fn</td>\n",
              "      <td>0</td>\n",
              "    </tr>\n",
              "    <tr>\n",
              "      <th>443</th>\n",
              "      <td>444</td>\n",
              "      <td>1</td>\n",
              "      <td>2</td>\n",
              "      <td>Reynaldo, Ms. Encarnacion</td>\n",
              "      <td>female</td>\n",
              "      <td>28.0</td>\n",
              "      <td>0</td>\n",
              "      <td>0</td>\n",
              "      <td>230434</td>\n",
              "      <td>13.0000</td>\n",
              "      <td>NaN</td>\n",
              "      <td>S</td>\n",
              "      <td>fn</td>\n",
              "      <td>0</td>\n",
              "    </tr>\n",
              "    <tr>\n",
              "      <th>449</th>\n",
              "      <td>450</td>\n",
              "      <td>1</td>\n",
              "      <td>1</td>\n",
              "      <td>Peuchen, Major. Arthur Godfrey</td>\n",
              "      <td>male</td>\n",
              "      <td>52.0</td>\n",
              "      <td>0</td>\n",
              "      <td>0</td>\n",
              "      <td>113786</td>\n",
              "      <td>30.5000</td>\n",
              "      <td>C104</td>\n",
              "      <td>S</td>\n",
              "      <td>os</td>\n",
              "      <td>0</td>\n",
              "    </tr>\n",
              "    <tr>\n",
              "      <th>536</th>\n",
              "      <td>537</td>\n",
              "      <td>0</td>\n",
              "      <td>1</td>\n",
              "      <td>Butt, Major. Archibald Willingham</td>\n",
              "      <td>male</td>\n",
              "      <td>45.0</td>\n",
              "      <td>0</td>\n",
              "      <td>0</td>\n",
              "      <td>113050</td>\n",
              "      <td>26.5500</td>\n",
              "      <td>B38</td>\n",
              "      <td>S</td>\n",
              "      <td>os</td>\n",
              "      <td>0</td>\n",
              "    </tr>\n",
              "    <tr>\n",
              "      <th>556</th>\n",
              "      <td>557</td>\n",
              "      <td>1</td>\n",
              "      <td>1</td>\n",
              "      <td>Duff Gordon, Lady. (Lucille Christiana Sutherl...</td>\n",
              "      <td>female</td>\n",
              "      <td>48.0</td>\n",
              "      <td>1</td>\n",
              "      <td>0</td>\n",
              "      <td>11755</td>\n",
              "      <td>39.6000</td>\n",
              "      <td>A16</td>\n",
              "      <td>C</td>\n",
              "      <td>fn</td>\n",
              "      <td>0</td>\n",
              "    </tr>\n",
              "    <tr>\n",
              "      <th>599</th>\n",
              "      <td>600</td>\n",
              "      <td>1</td>\n",
              "      <td>1</td>\n",
              "      <td>Duff Gordon, Sir. Cosmo Edmund (\"Mr Morgan\")</td>\n",
              "      <td>male</td>\n",
              "      <td>49.0</td>\n",
              "      <td>1</td>\n",
              "      <td>0</td>\n",
              "      <td>PC 17485</td>\n",
              "      <td>56.9292</td>\n",
              "      <td>A20</td>\n",
              "      <td>C</td>\n",
              "      <td>mn</td>\n",
              "      <td>0</td>\n",
              "    </tr>\n",
              "    <tr>\n",
              "      <th>626</th>\n",
              "      <td>627</td>\n",
              "      <td>0</td>\n",
              "      <td>2</td>\n",
              "      <td>Kirkland, Rev. Charles Leonard</td>\n",
              "      <td>male</td>\n",
              "      <td>57.0</td>\n",
              "      <td>0</td>\n",
              "      <td>0</td>\n",
              "      <td>219533</td>\n",
              "      <td>12.3500</td>\n",
              "      <td>NaN</td>\n",
              "      <td>Q</td>\n",
              "      <td>rv</td>\n",
              "      <td>0</td>\n",
              "    </tr>\n",
              "    <tr>\n",
              "      <th>641</th>\n",
              "      <td>642</td>\n",
              "      <td>1</td>\n",
              "      <td>1</td>\n",
              "      <td>Sagesser, Mlle. Emma</td>\n",
              "      <td>female</td>\n",
              "      <td>24.0</td>\n",
              "      <td>0</td>\n",
              "      <td>0</td>\n",
              "      <td>PC 17477</td>\n",
              "      <td>69.3000</td>\n",
              "      <td>B35</td>\n",
              "      <td>C</td>\n",
              "      <td>fn</td>\n",
              "      <td>0</td>\n",
              "    </tr>\n",
              "    <tr>\n",
              "      <th>647</th>\n",
              "      <td>648</td>\n",
              "      <td>1</td>\n",
              "      <td>1</td>\n",
              "      <td>Simonius-Blumer, Col. Oberst Alfons</td>\n",
              "      <td>male</td>\n",
              "      <td>56.0</td>\n",
              "      <td>0</td>\n",
              "      <td>0</td>\n",
              "      <td>13213</td>\n",
              "      <td>35.5000</td>\n",
              "      <td>A26</td>\n",
              "      <td>C</td>\n",
              "      <td>os</td>\n",
              "      <td>0</td>\n",
              "    </tr>\n",
              "    <tr>\n",
              "      <th>694</th>\n",
              "      <td>695</td>\n",
              "      <td>0</td>\n",
              "      <td>1</td>\n",
              "      <td>Weir, Col. John</td>\n",
              "      <td>male</td>\n",
              "      <td>60.0</td>\n",
              "      <td>0</td>\n",
              "      <td>0</td>\n",
              "      <td>113800</td>\n",
              "      <td>26.5500</td>\n",
              "      <td>NaN</td>\n",
              "      <td>S</td>\n",
              "      <td>os</td>\n",
              "      <td>0</td>\n",
              "    </tr>\n",
              "    <tr>\n",
              "      <th>710</th>\n",
              "      <td>711</td>\n",
              "      <td>1</td>\n",
              "      <td>1</td>\n",
              "      <td>Mayne, Mlle. Berthe Antonine (\"Mrs de Villiers\")</td>\n",
              "      <td>female</td>\n",
              "      <td>24.0</td>\n",
              "      <td>0</td>\n",
              "      <td>0</td>\n",
              "      <td>PC 17482</td>\n",
              "      <td>49.5042</td>\n",
              "      <td>C90</td>\n",
              "      <td>C</td>\n",
              "      <td>fn</td>\n",
              "      <td>0</td>\n",
              "    </tr>\n",
              "    <tr>\n",
              "      <th>745</th>\n",
              "      <td>746</td>\n",
              "      <td>0</td>\n",
              "      <td>1</td>\n",
              "      <td>Crosby, Capt. Edward Gifford</td>\n",
              "      <td>male</td>\n",
              "      <td>70.0</td>\n",
              "      <td>1</td>\n",
              "      <td>1</td>\n",
              "      <td>WE/P 5735</td>\n",
              "      <td>71.0000</td>\n",
              "      <td>B22</td>\n",
              "      <td>S</td>\n",
              "      <td>ys</td>\n",
              "      <td>0</td>\n",
              "    </tr>\n",
              "    <tr>\n",
              "      <th>759</th>\n",
              "      <td>760</td>\n",
              "      <td>1</td>\n",
              "      <td>1</td>\n",
              "      <td>Rothes, the Countess. of (Lucy Noel Martha Dye...</td>\n",
              "      <td>female</td>\n",
              "      <td>33.0</td>\n",
              "      <td>0</td>\n",
              "      <td>0</td>\n",
              "      <td>110152</td>\n",
              "      <td>86.5000</td>\n",
              "      <td>B77</td>\n",
              "      <td>S</td>\n",
              "      <td>fn</td>\n",
              "      <td>0</td>\n",
              "    </tr>\n",
              "    <tr>\n",
              "      <th>848</th>\n",
              "      <td>849</td>\n",
              "      <td>0</td>\n",
              "      <td>2</td>\n",
              "      <td>Harper, Rev. John</td>\n",
              "      <td>male</td>\n",
              "      <td>28.0</td>\n",
              "      <td>0</td>\n",
              "      <td>1</td>\n",
              "      <td>248727</td>\n",
              "      <td>33.0000</td>\n",
              "      <td>NaN</td>\n",
              "      <td>S</td>\n",
              "      <td>rv</td>\n",
              "      <td>0</td>\n",
              "    </tr>\n",
              "    <tr>\n",
              "      <th>886</th>\n",
              "      <td>887</td>\n",
              "      <td>0</td>\n",
              "      <td>2</td>\n",
              "      <td>Montvila, Rev. Juozas</td>\n",
              "      <td>male</td>\n",
              "      <td>27.0</td>\n",
              "      <td>0</td>\n",
              "      <td>0</td>\n",
              "      <td>211536</td>\n",
              "      <td>13.0000</td>\n",
              "      <td>NaN</td>\n",
              "      <td>S</td>\n",
              "      <td>rv</td>\n",
              "      <td>0</td>\n",
              "    </tr>\n",
              "  </tbody>\n",
              "</table>\n",
              "</div>"
            ],
            "text/plain": [
              "     PassengerId  Survived  Pclass  ... Embarked Initial  CN\n",
              "149          150         0       2  ...        S      rv   0\n",
              "150          151         0       2  ...        S      rv   0\n",
              "249          250         0       2  ...        S      rv   0\n",
              "369          370         1       1  ...        C      fn   0\n",
              "443          444         1       2  ...        S      fn   0\n",
              "449          450         1       1  ...        S      os   0\n",
              "536          537         0       1  ...        S      os   0\n",
              "556          557         1       1  ...        C      fn   0\n",
              "599          600         1       1  ...        C      mn   0\n",
              "626          627         0       2  ...        Q      rv   0\n",
              "641          642         1       1  ...        C      fn   0\n",
              "647          648         1       1  ...        C      os   0\n",
              "694          695         0       1  ...        S      os   0\n",
              "710          711         1       1  ...        C      fn   0\n",
              "745          746         0       1  ...        S      ys   0\n",
              "759          760         1       1  ...        S      fn   0\n",
              "848          849         0       2  ...        S      rv   0\n",
              "886          887         0       2  ...        S      rv   0\n",
              "\n",
              "[18 rows x 14 columns]"
            ]
          },
          "metadata": {
            "tags": []
          },
          "execution_count": 89
        }
      ]
    },
    {
      "cell_type": "markdown",
      "metadata": {
        "id": "NrWNEes7ZA9N",
        "colab_type": "text"
      },
      "source": [
        "* 다시 넣겠습니다."
      ]
    },
    {
      "cell_type": "code",
      "metadata": {
        "id": "hOLN8gObZRWi",
        "colab_type": "code",
        "colab": {}
      },
      "source": [
        "train.loc[(train['CN'] == 0),'CN']= train['Initial']"
      ],
      "execution_count": 0,
      "outputs": []
    },
    {
      "cell_type": "markdown",
      "metadata": {
        "id": "ivQMPpMQZy-u",
        "colab_type": "text"
      },
      "source": [
        "* 다시 봅니다."
      ]
    },
    {
      "cell_type": "code",
      "metadata": {
        "id": "8PRc-3DRZ6AU",
        "colab_type": "code",
        "colab": {
          "base_uri": "https://localhost:8080/",
          "height": 622
        },
        "outputId": "6d957aa6-cfe3-4606-c800-0dcb69524747"
      },
      "source": [
        "pd.crosstab([train.CN,train.Survived],train.Pclass,margins=True).style.background_gradient(cmap='summer_r')\n"
      ],
      "execution_count": 91,
      "outputs": [
        {
          "output_type": "execute_result",
          "data": {
            "text/html": [
              "<style  type=\"text/css\" >\n",
              "    #T_45db7a3e_239e_11ea_acb2_0242ac1c0002row0_col0 {\n",
              "            background-color:  #fdfe66;\n",
              "            color:  #000000;\n",
              "        }    #T_45db7a3e_239e_11ea_acb2_0242ac1c0002row0_col1 {\n",
              "            background-color:  #ffff66;\n",
              "            color:  #000000;\n",
              "        }    #T_45db7a3e_239e_11ea_acb2_0242ac1c0002row0_col2 {\n",
              "            background-color:  #ffff66;\n",
              "            color:  #000000;\n",
              "        }    #T_45db7a3e_239e_11ea_acb2_0242ac1c0002row0_col3 {\n",
              "            background-color:  #ffff66;\n",
              "            color:  #000000;\n",
              "        }    #T_45db7a3e_239e_11ea_acb2_0242ac1c0002row1_col0 {\n",
              "            background-color:  #fcfe66;\n",
              "            color:  #000000;\n",
              "        }    #T_45db7a3e_239e_11ea_acb2_0242ac1c0002row1_col1 {\n",
              "            background-color:  #ffff66;\n",
              "            color:  #000000;\n",
              "        }    #T_45db7a3e_239e_11ea_acb2_0242ac1c0002row1_col2 {\n",
              "            background-color:  #ffff66;\n",
              "            color:  #000000;\n",
              "        }    #T_45db7a3e_239e_11ea_acb2_0242ac1c0002row1_col3 {\n",
              "            background-color:  #ffff66;\n",
              "            color:  #000000;\n",
              "        }    #T_45db7a3e_239e_11ea_acb2_0242ac1c0002row2_col0 {\n",
              "            background-color:  #ffff66;\n",
              "            color:  #000000;\n",
              "        }    #T_45db7a3e_239e_11ea_acb2_0242ac1c0002row2_col1 {\n",
              "            background-color:  #fdfe66;\n",
              "            color:  #000000;\n",
              "        }    #T_45db7a3e_239e_11ea_acb2_0242ac1c0002row2_col2 {\n",
              "            background-color:  #ffff66;\n",
              "            color:  #000000;\n",
              "        }    #T_45db7a3e_239e_11ea_acb2_0242ac1c0002row2_col3 {\n",
              "            background-color:  #ffff66;\n",
              "            color:  #000000;\n",
              "        }    #T_45db7a3e_239e_11ea_acb2_0242ac1c0002row3_col0 {\n",
              "            background-color:  #fafc66;\n",
              "            color:  #000000;\n",
              "        }    #T_45db7a3e_239e_11ea_acb2_0242ac1c0002row3_col1 {\n",
              "            background-color:  #fefe66;\n",
              "            color:  #000000;\n",
              "        }    #T_45db7a3e_239e_11ea_acb2_0242ac1c0002row3_col2 {\n",
              "            background-color:  #ffff66;\n",
              "            color:  #000000;\n",
              "        }    #T_45db7a3e_239e_11ea_acb2_0242ac1c0002row3_col3 {\n",
              "            background-color:  #fefe66;\n",
              "            color:  #000000;\n",
              "        }    #T_45db7a3e_239e_11ea_acb2_0242ac1c0002row4_col0 {\n",
              "            background-color:  #fcfe66;\n",
              "            color:  #000000;\n",
              "        }    #T_45db7a3e_239e_11ea_acb2_0242ac1c0002row4_col1 {\n",
              "            background-color:  #ffff66;\n",
              "            color:  #000000;\n",
              "        }    #T_45db7a3e_239e_11ea_acb2_0242ac1c0002row4_col2 {\n",
              "            background-color:  #ffff66;\n",
              "            color:  #000000;\n",
              "        }    #T_45db7a3e_239e_11ea_acb2_0242ac1c0002row4_col3 {\n",
              "            background-color:  #ffff66;\n",
              "            color:  #000000;\n",
              "        }    #T_45db7a3e_239e_11ea_acb2_0242ac1c0002row5_col0 {\n",
              "            background-color:  #ffff66;\n",
              "            color:  #000000;\n",
              "        }    #T_45db7a3e_239e_11ea_acb2_0242ac1c0002row5_col1 {\n",
              "            background-color:  #f3f966;\n",
              "            color:  #000000;\n",
              "        }    #T_45db7a3e_239e_11ea_acb2_0242ac1c0002row5_col2 {\n",
              "            background-color:  #ffff66;\n",
              "            color:  #000000;\n",
              "        }    #T_45db7a3e_239e_11ea_acb2_0242ac1c0002row5_col3 {\n",
              "            background-color:  #fdfe66;\n",
              "            color:  #000000;\n",
              "        }    #T_45db7a3e_239e_11ea_acb2_0242ac1c0002row6_col0 {\n",
              "            background-color:  #ffff66;\n",
              "            color:  #000000;\n",
              "        }    #T_45db7a3e_239e_11ea_acb2_0242ac1c0002row6_col1 {\n",
              "            background-color:  #ffff66;\n",
              "            color:  #000000;\n",
              "        }    #T_45db7a3e_239e_11ea_acb2_0242ac1c0002row6_col2 {\n",
              "            background-color:  #f7fb66;\n",
              "            color:  #000000;\n",
              "        }    #T_45db7a3e_239e_11ea_acb2_0242ac1c0002row6_col3 {\n",
              "            background-color:  #fbfd66;\n",
              "            color:  #000000;\n",
              "        }    #T_45db7a3e_239e_11ea_acb2_0242ac1c0002row7_col0 {\n",
              "            background-color:  #ffff66;\n",
              "            color:  #000000;\n",
              "        }    #T_45db7a3e_239e_11ea_acb2_0242ac1c0002row7_col1 {\n",
              "            background-color:  #ffff66;\n",
              "            color:  #000000;\n",
              "        }    #T_45db7a3e_239e_11ea_acb2_0242ac1c0002row7_col2 {\n",
              "            background-color:  #fafc66;\n",
              "            color:  #000000;\n",
              "        }    #T_45db7a3e_239e_11ea_acb2_0242ac1c0002row7_col3 {\n",
              "            background-color:  #fdfe66;\n",
              "            color:  #000000;\n",
              "        }    #T_45db7a3e_239e_11ea_acb2_0242ac1c0002row8_col0 {\n",
              "            background-color:  #fefe66;\n",
              "            color:  #000000;\n",
              "        }    #T_45db7a3e_239e_11ea_acb2_0242ac1c0002row8_col1 {\n",
              "            background-color:  #ffff66;\n",
              "            color:  #000000;\n",
              "        }    #T_45db7a3e_239e_11ea_acb2_0242ac1c0002row8_col2 {\n",
              "            background-color:  #ffff66;\n",
              "            color:  #000000;\n",
              "        }    #T_45db7a3e_239e_11ea_acb2_0242ac1c0002row8_col3 {\n",
              "            background-color:  #ffff66;\n",
              "            color:  #000000;\n",
              "        }    #T_45db7a3e_239e_11ea_acb2_0242ac1c0002row9_col0 {\n",
              "            background-color:  #aad466;\n",
              "            color:  #000000;\n",
              "        }    #T_45db7a3e_239e_11ea_acb2_0242ac1c0002row9_col1 {\n",
              "            background-color:  #ffff66;\n",
              "            color:  #000000;\n",
              "        }    #T_45db7a3e_239e_11ea_acb2_0242ac1c0002row9_col2 {\n",
              "            background-color:  #ffff66;\n",
              "            color:  #000000;\n",
              "        }    #T_45db7a3e_239e_11ea_acb2_0242ac1c0002row9_col3 {\n",
              "            background-color:  #ebf566;\n",
              "            color:  #000000;\n",
              "        }    #T_45db7a3e_239e_11ea_acb2_0242ac1c0002row10_col0 {\n",
              "            background-color:  #d4ea66;\n",
              "            color:  #000000;\n",
              "        }    #T_45db7a3e_239e_11ea_acb2_0242ac1c0002row10_col1 {\n",
              "            background-color:  #ffff66;\n",
              "            color:  #000000;\n",
              "        }    #T_45db7a3e_239e_11ea_acb2_0242ac1c0002row10_col2 {\n",
              "            background-color:  #ffff66;\n",
              "            color:  #000000;\n",
              "        }    #T_45db7a3e_239e_11ea_acb2_0242ac1c0002row10_col3 {\n",
              "            background-color:  #f5fa66;\n",
              "            color:  #000000;\n",
              "        }    #T_45db7a3e_239e_11ea_acb2_0242ac1c0002row11_col0 {\n",
              "            background-color:  #ffff66;\n",
              "            color:  #000000;\n",
              "        }    #T_45db7a3e_239e_11ea_acb2_0242ac1c0002row11_col1 {\n",
              "            background-color:  #8cc666;\n",
              "            color:  #000000;\n",
              "        }    #T_45db7a3e_239e_11ea_acb2_0242ac1c0002row11_col2 {\n",
              "            background-color:  #ffff66;\n",
              "            color:  #000000;\n",
              "        }    #T_45db7a3e_239e_11ea_acb2_0242ac1c0002row11_col3 {\n",
              "            background-color:  #e8f466;\n",
              "            color:  #000000;\n",
              "        }    #T_45db7a3e_239e_11ea_acb2_0242ac1c0002row12_col0 {\n",
              "            background-color:  #ffff66;\n",
              "            color:  #000000;\n",
              "        }    #T_45db7a3e_239e_11ea_acb2_0242ac1c0002row12_col1 {\n",
              "            background-color:  #f4fa66;\n",
              "            color:  #000000;\n",
              "        }    #T_45db7a3e_239e_11ea_acb2_0242ac1c0002row12_col2 {\n",
              "            background-color:  #ffff66;\n",
              "            color:  #000000;\n",
              "        }    #T_45db7a3e_239e_11ea_acb2_0242ac1c0002row12_col3 {\n",
              "            background-color:  #fdfe66;\n",
              "            color:  #000000;\n",
              "        }    #T_45db7a3e_239e_11ea_acb2_0242ac1c0002row13_col0 {\n",
              "            background-color:  #ffff66;\n",
              "            color:  #000000;\n",
              "        }    #T_45db7a3e_239e_11ea_acb2_0242ac1c0002row13_col1 {\n",
              "            background-color:  #ffff66;\n",
              "            color:  #000000;\n",
              "        }    #T_45db7a3e_239e_11ea_acb2_0242ac1c0002row13_col2 {\n",
              "            background-color:  #6cb666;\n",
              "            color:  #000000;\n",
              "        }    #T_45db7a3e_239e_11ea_acb2_0242ac1c0002row13_col3 {\n",
              "            background-color:  #aed666;\n",
              "            color:  #000000;\n",
              "        }    #T_45db7a3e_239e_11ea_acb2_0242ac1c0002row14_col0 {\n",
              "            background-color:  #ffff66;\n",
              "            color:  #000000;\n",
              "        }    #T_45db7a3e_239e_11ea_acb2_0242ac1c0002row14_col1 {\n",
              "            background-color:  #ffff66;\n",
              "            color:  #000000;\n",
              "        }    #T_45db7a3e_239e_11ea_acb2_0242ac1c0002row14_col2 {\n",
              "            background-color:  #edf666;\n",
              "            color:  #000000;\n",
              "        }    #T_45db7a3e_239e_11ea_acb2_0242ac1c0002row14_col3 {\n",
              "            background-color:  #f5fa66;\n",
              "            color:  #000000;\n",
              "        }    #T_45db7a3e_239e_11ea_acb2_0242ac1c0002row15_col0 {\n",
              "            background-color:  #fefe66;\n",
              "            color:  #000000;\n",
              "        }    #T_45db7a3e_239e_11ea_acb2_0242ac1c0002row15_col1 {\n",
              "            background-color:  #ffff66;\n",
              "            color:  #000000;\n",
              "        }    #T_45db7a3e_239e_11ea_acb2_0242ac1c0002row15_col2 {\n",
              "            background-color:  #ffff66;\n",
              "            color:  #000000;\n",
              "        }    #T_45db7a3e_239e_11ea_acb2_0242ac1c0002row15_col3 {\n",
              "            background-color:  #ffff66;\n",
              "            color:  #000000;\n",
              "        }    #T_45db7a3e_239e_11ea_acb2_0242ac1c0002row16_col0 {\n",
              "            background-color:  #cfe766;\n",
              "            color:  #000000;\n",
              "        }    #T_45db7a3e_239e_11ea_acb2_0242ac1c0002row16_col1 {\n",
              "            background-color:  #ffff66;\n",
              "            color:  #000000;\n",
              "        }    #T_45db7a3e_239e_11ea_acb2_0242ac1c0002row16_col2 {\n",
              "            background-color:  #ffff66;\n",
              "            color:  #000000;\n",
              "        }    #T_45db7a3e_239e_11ea_acb2_0242ac1c0002row16_col3 {\n",
              "            background-color:  #f4fa66;\n",
              "            color:  #000000;\n",
              "        }    #T_45db7a3e_239e_11ea_acb2_0242ac1c0002row17_col0 {\n",
              "            background-color:  #ffff66;\n",
              "            color:  #000000;\n",
              "        }    #T_45db7a3e_239e_11ea_acb2_0242ac1c0002row17_col1 {\n",
              "            background-color:  #fafc66;\n",
              "            color:  #000000;\n",
              "        }    #T_45db7a3e_239e_11ea_acb2_0242ac1c0002row17_col2 {\n",
              "            background-color:  #ffff66;\n",
              "            color:  #000000;\n",
              "        }    #T_45db7a3e_239e_11ea_acb2_0242ac1c0002row17_col3 {\n",
              "            background-color:  #ffff66;\n",
              "            color:  #000000;\n",
              "        }    #T_45db7a3e_239e_11ea_acb2_0242ac1c0002row18_col0 {\n",
              "            background-color:  #ffff66;\n",
              "            color:  #000000;\n",
              "        }    #T_45db7a3e_239e_11ea_acb2_0242ac1c0002row18_col1 {\n",
              "            background-color:  #cce666;\n",
              "            color:  #000000;\n",
              "        }    #T_45db7a3e_239e_11ea_acb2_0242ac1c0002row18_col2 {\n",
              "            background-color:  #ffff66;\n",
              "            color:  #000000;\n",
              "        }    #T_45db7a3e_239e_11ea_acb2_0242ac1c0002row18_col3 {\n",
              "            background-color:  #f5fa66;\n",
              "            color:  #000000;\n",
              "        }    #T_45db7a3e_239e_11ea_acb2_0242ac1c0002row19_col0 {\n",
              "            background-color:  #ffff66;\n",
              "            color:  #000000;\n",
              "        }    #T_45db7a3e_239e_11ea_acb2_0242ac1c0002row19_col1 {\n",
              "            background-color:  #ffff66;\n",
              "            color:  #000000;\n",
              "        }    #T_45db7a3e_239e_11ea_acb2_0242ac1c0002row19_col2 {\n",
              "            background-color:  #f5fa66;\n",
              "            color:  #000000;\n",
              "        }    #T_45db7a3e_239e_11ea_acb2_0242ac1c0002row19_col3 {\n",
              "            background-color:  #fafc66;\n",
              "            color:  #000000;\n",
              "        }    #T_45db7a3e_239e_11ea_acb2_0242ac1c0002row20_col0 {\n",
              "            background-color:  #ffff66;\n",
              "            color:  #000000;\n",
              "        }    #T_45db7a3e_239e_11ea_acb2_0242ac1c0002row20_col1 {\n",
              "            background-color:  #ffff66;\n",
              "            color:  #000000;\n",
              "        }    #T_45db7a3e_239e_11ea_acb2_0242ac1c0002row20_col2 {\n",
              "            background-color:  #f5fa66;\n",
              "            color:  #000000;\n",
              "        }    #T_45db7a3e_239e_11ea_acb2_0242ac1c0002row20_col3 {\n",
              "            background-color:  #fafc66;\n",
              "            color:  #000000;\n",
              "        }    #T_45db7a3e_239e_11ea_acb2_0242ac1c0002row21_col0 {\n",
              "            background-color:  #fdfe66;\n",
              "            color:  #000000;\n",
              "        }    #T_45db7a3e_239e_11ea_acb2_0242ac1c0002row21_col1 {\n",
              "            background-color:  #ffff66;\n",
              "            color:  #000000;\n",
              "        }    #T_45db7a3e_239e_11ea_acb2_0242ac1c0002row21_col2 {\n",
              "            background-color:  #ffff66;\n",
              "            color:  #000000;\n",
              "        }    #T_45db7a3e_239e_11ea_acb2_0242ac1c0002row21_col3 {\n",
              "            background-color:  #ffff66;\n",
              "            color:  #000000;\n",
              "        }    #T_45db7a3e_239e_11ea_acb2_0242ac1c0002row22_col0 {\n",
              "            background-color:  #cbe566;\n",
              "            color:  #000000;\n",
              "        }    #T_45db7a3e_239e_11ea_acb2_0242ac1c0002row22_col1 {\n",
              "            background-color:  #ffff66;\n",
              "            color:  #000000;\n",
              "        }    #T_45db7a3e_239e_11ea_acb2_0242ac1c0002row22_col2 {\n",
              "            background-color:  #ffff66;\n",
              "            color:  #000000;\n",
              "        }    #T_45db7a3e_239e_11ea_acb2_0242ac1c0002row22_col3 {\n",
              "            background-color:  #f3f966;\n",
              "            color:  #000000;\n",
              "        }    #T_45db7a3e_239e_11ea_acb2_0242ac1c0002row23_col0 {\n",
              "            background-color:  #ffff66;\n",
              "            color:  #000000;\n",
              "        }    #T_45db7a3e_239e_11ea_acb2_0242ac1c0002row23_col1 {\n",
              "            background-color:  #fdfe66;\n",
              "            color:  #000000;\n",
              "        }    #T_45db7a3e_239e_11ea_acb2_0242ac1c0002row23_col2 {\n",
              "            background-color:  #ffff66;\n",
              "            color:  #000000;\n",
              "        }    #T_45db7a3e_239e_11ea_acb2_0242ac1c0002row23_col3 {\n",
              "            background-color:  #ffff66;\n",
              "            color:  #000000;\n",
              "        }    #T_45db7a3e_239e_11ea_acb2_0242ac1c0002row24_col0 {\n",
              "            background-color:  #ffff66;\n",
              "            color:  #000000;\n",
              "        }    #T_45db7a3e_239e_11ea_acb2_0242ac1c0002row24_col1 {\n",
              "            background-color:  #d3e966;\n",
              "            color:  #000000;\n",
              "        }    #T_45db7a3e_239e_11ea_acb2_0242ac1c0002row24_col2 {\n",
              "            background-color:  #ffff66;\n",
              "            color:  #000000;\n",
              "        }    #T_45db7a3e_239e_11ea_acb2_0242ac1c0002row24_col3 {\n",
              "            background-color:  #f7fb66;\n",
              "            color:  #000000;\n",
              "        }    #T_45db7a3e_239e_11ea_acb2_0242ac1c0002row25_col0 {\n",
              "            background-color:  #ffff66;\n",
              "            color:  #000000;\n",
              "        }    #T_45db7a3e_239e_11ea_acb2_0242ac1c0002row25_col1 {\n",
              "            background-color:  #ffff66;\n",
              "            color:  #000000;\n",
              "        }    #T_45db7a3e_239e_11ea_acb2_0242ac1c0002row25_col2 {\n",
              "            background-color:  #e5f266;\n",
              "            color:  #000000;\n",
              "        }    #T_45db7a3e_239e_11ea_acb2_0242ac1c0002row25_col3 {\n",
              "            background-color:  #f1f866;\n",
              "            color:  #000000;\n",
              "        }    #T_45db7a3e_239e_11ea_acb2_0242ac1c0002row26_col0 {\n",
              "            background-color:  #ffff66;\n",
              "            color:  #000000;\n",
              "        }    #T_45db7a3e_239e_11ea_acb2_0242ac1c0002row26_col1 {\n",
              "            background-color:  #ffff66;\n",
              "            color:  #000000;\n",
              "        }    #T_45db7a3e_239e_11ea_acb2_0242ac1c0002row26_col2 {\n",
              "            background-color:  #e5f266;\n",
              "            color:  #000000;\n",
              "        }    #T_45db7a3e_239e_11ea_acb2_0242ac1c0002row26_col3 {\n",
              "            background-color:  #f1f866;\n",
              "            color:  #000000;\n",
              "        }    #T_45db7a3e_239e_11ea_acb2_0242ac1c0002row27_col0 {\n",
              "            background-color:  #fdfe66;\n",
              "            color:  #000000;\n",
              "        }    #T_45db7a3e_239e_11ea_acb2_0242ac1c0002row27_col1 {\n",
              "            background-color:  #ffff66;\n",
              "            color:  #000000;\n",
              "        }    #T_45db7a3e_239e_11ea_acb2_0242ac1c0002row27_col2 {\n",
              "            background-color:  #ffff66;\n",
              "            color:  #000000;\n",
              "        }    #T_45db7a3e_239e_11ea_acb2_0242ac1c0002row27_col3 {\n",
              "            background-color:  #ffff66;\n",
              "            color:  #000000;\n",
              "        }    #T_45db7a3e_239e_11ea_acb2_0242ac1c0002row28_col0 {\n",
              "            background-color:  #fdfe66;\n",
              "            color:  #000000;\n",
              "        }    #T_45db7a3e_239e_11ea_acb2_0242ac1c0002row28_col1 {\n",
              "            background-color:  #ffff66;\n",
              "            color:  #000000;\n",
              "        }    #T_45db7a3e_239e_11ea_acb2_0242ac1c0002row28_col2 {\n",
              "            background-color:  #ffff66;\n",
              "            color:  #000000;\n",
              "        }    #T_45db7a3e_239e_11ea_acb2_0242ac1c0002row28_col3 {\n",
              "            background-color:  #ffff66;\n",
              "            color:  #000000;\n",
              "        }    #T_45db7a3e_239e_11ea_acb2_0242ac1c0002row29_col0 {\n",
              "            background-color:  #ffff66;\n",
              "            color:  #000000;\n",
              "        }    #T_45db7a3e_239e_11ea_acb2_0242ac1c0002row29_col1 {\n",
              "            background-color:  #f7fb66;\n",
              "            color:  #000000;\n",
              "        }    #T_45db7a3e_239e_11ea_acb2_0242ac1c0002row29_col2 {\n",
              "            background-color:  #ffff66;\n",
              "            color:  #000000;\n",
              "        }    #T_45db7a3e_239e_11ea_acb2_0242ac1c0002row29_col3 {\n",
              "            background-color:  #fefe66;\n",
              "            color:  #000000;\n",
              "        }    #T_45db7a3e_239e_11ea_acb2_0242ac1c0002row30_col0 {\n",
              "            background-color:  #fefe66;\n",
              "            color:  #000000;\n",
              "        }    #T_45db7a3e_239e_11ea_acb2_0242ac1c0002row30_col1 {\n",
              "            background-color:  #ffff66;\n",
              "            color:  #000000;\n",
              "        }    #T_45db7a3e_239e_11ea_acb2_0242ac1c0002row30_col2 {\n",
              "            background-color:  #ffff66;\n",
              "            color:  #000000;\n",
              "        }    #T_45db7a3e_239e_11ea_acb2_0242ac1c0002row30_col3 {\n",
              "            background-color:  #ffff66;\n",
              "            color:  #000000;\n",
              "        }    #T_45db7a3e_239e_11ea_acb2_0242ac1c0002row31_col0 {\n",
              "            background-color:  #008066;\n",
              "            color:  #f1f1f1;\n",
              "        }    #T_45db7a3e_239e_11ea_acb2_0242ac1c0002row31_col1 {\n",
              "            background-color:  #008066;\n",
              "            color:  #f1f1f1;\n",
              "        }    #T_45db7a3e_239e_11ea_acb2_0242ac1c0002row31_col2 {\n",
              "            background-color:  #008066;\n",
              "            color:  #f1f1f1;\n",
              "        }    #T_45db7a3e_239e_11ea_acb2_0242ac1c0002row31_col3 {\n",
              "            background-color:  #008066;\n",
              "            color:  #f1f1f1;\n",
              "        }</style><table id=\"T_45db7a3e_239e_11ea_acb2_0242ac1c0002\" ><thead>    <tr>        <th class=\"blank\" ></th>        <th class=\"index_name level0\" >Pclass</th>        <th class=\"col_heading level0 col0\" >1</th>        <th class=\"col_heading level0 col1\" >2</th>        <th class=\"col_heading level0 col2\" >3</th>        <th class=\"col_heading level0 col3\" >All</th>    </tr>    <tr>        <th class=\"index_name level0\" >CN</th>        <th class=\"index_name level1\" >Survived</th>        <th class=\"blank\" ></th>        <th class=\"blank\" ></th>        <th class=\"blank\" ></th>        <th class=\"blank\" ></th>    </tr></thead><tbody>\n",
              "                <tr>\n",
              "                        <th id=\"T_45db7a3e_239e_11ea_acb2_0242ac1c0002level0_row0\" class=\"row_heading level0 row0\" rowspan=2>dr1</th>\n",
              "                        <th id=\"T_45db7a3e_239e_11ea_acb2_0242ac1c0002level1_row0\" class=\"row_heading level1 row0\" >0</th>\n",
              "                        <td id=\"T_45db7a3e_239e_11ea_acb2_0242ac1c0002row0_col0\" class=\"data row0 col0\" >2</td>\n",
              "                        <td id=\"T_45db7a3e_239e_11ea_acb2_0242ac1c0002row0_col1\" class=\"data row0 col1\" >0</td>\n",
              "                        <td id=\"T_45db7a3e_239e_11ea_acb2_0242ac1c0002row0_col2\" class=\"data row0 col2\" >0</td>\n",
              "                        <td id=\"T_45db7a3e_239e_11ea_acb2_0242ac1c0002row0_col3\" class=\"data row0 col3\" >2</td>\n",
              "            </tr>\n",
              "            <tr>\n",
              "                                <th id=\"T_45db7a3e_239e_11ea_acb2_0242ac1c0002level1_row1\" class=\"row_heading level1 row1\" >1</th>\n",
              "                        <td id=\"T_45db7a3e_239e_11ea_acb2_0242ac1c0002row1_col0\" class=\"data row1 col0\" >3</td>\n",
              "                        <td id=\"T_45db7a3e_239e_11ea_acb2_0242ac1c0002row1_col1\" class=\"data row1 col1\" >0</td>\n",
              "                        <td id=\"T_45db7a3e_239e_11ea_acb2_0242ac1c0002row1_col2\" class=\"data row1 col2\" >0</td>\n",
              "                        <td id=\"T_45db7a3e_239e_11ea_acb2_0242ac1c0002row1_col3\" class=\"data row1 col3\" >3</td>\n",
              "            </tr>\n",
              "            <tr>\n",
              "                        <th id=\"T_45db7a3e_239e_11ea_acb2_0242ac1c0002level0_row2\" class=\"row_heading level0 row2\" >dr2</th>\n",
              "                        <th id=\"T_45db7a3e_239e_11ea_acb2_0242ac1c0002level1_row2\" class=\"row_heading level1 row2\" >0</th>\n",
              "                        <td id=\"T_45db7a3e_239e_11ea_acb2_0242ac1c0002row2_col0\" class=\"data row2 col0\" >0</td>\n",
              "                        <td id=\"T_45db7a3e_239e_11ea_acb2_0242ac1c0002row2_col1\" class=\"data row2 col1\" >2</td>\n",
              "                        <td id=\"T_45db7a3e_239e_11ea_acb2_0242ac1c0002row2_col2\" class=\"data row2 col2\" >0</td>\n",
              "                        <td id=\"T_45db7a3e_239e_11ea_acb2_0242ac1c0002row2_col3\" class=\"data row2 col3\" >2</td>\n",
              "            </tr>\n",
              "            <tr>\n",
              "                        <th id=\"T_45db7a3e_239e_11ea_acb2_0242ac1c0002level0_row3\" class=\"row_heading level0 row3\" >fn</th>\n",
              "                        <th id=\"T_45db7a3e_239e_11ea_acb2_0242ac1c0002level1_row3\" class=\"row_heading level1 row3\" >1</th>\n",
              "                        <td id=\"T_45db7a3e_239e_11ea_acb2_0242ac1c0002row3_col0\" class=\"data row3 col0\" >5</td>\n",
              "                        <td id=\"T_45db7a3e_239e_11ea_acb2_0242ac1c0002row3_col1\" class=\"data row3 col1\" >1</td>\n",
              "                        <td id=\"T_45db7a3e_239e_11ea_acb2_0242ac1c0002row3_col2\" class=\"data row3 col2\" >0</td>\n",
              "                        <td id=\"T_45db7a3e_239e_11ea_acb2_0242ac1c0002row3_col3\" class=\"data row3 col3\" >6</td>\n",
              "            </tr>\n",
              "            <tr>\n",
              "                        <th id=\"T_45db7a3e_239e_11ea_acb2_0242ac1c0002level0_row4\" class=\"row_heading level0 row4\" >ma1</th>\n",
              "                        <th id=\"T_45db7a3e_239e_11ea_acb2_0242ac1c0002level1_row4\" class=\"row_heading level1 row4\" >1</th>\n",
              "                        <td id=\"T_45db7a3e_239e_11ea_acb2_0242ac1c0002row4_col0\" class=\"data row4 col0\" >3</td>\n",
              "                        <td id=\"T_45db7a3e_239e_11ea_acb2_0242ac1c0002row4_col1\" class=\"data row4 col1\" >0</td>\n",
              "                        <td id=\"T_45db7a3e_239e_11ea_acb2_0242ac1c0002row4_col2\" class=\"data row4 col2\" >0</td>\n",
              "                        <td id=\"T_45db7a3e_239e_11ea_acb2_0242ac1c0002row4_col3\" class=\"data row4 col3\" >3</td>\n",
              "            </tr>\n",
              "            <tr>\n",
              "                        <th id=\"T_45db7a3e_239e_11ea_acb2_0242ac1c0002level0_row5\" class=\"row_heading level0 row5\" >ma2</th>\n",
              "                        <th id=\"T_45db7a3e_239e_11ea_acb2_0242ac1c0002level1_row5\" class=\"row_heading level1 row5\" >1</th>\n",
              "                        <td id=\"T_45db7a3e_239e_11ea_acb2_0242ac1c0002row5_col0\" class=\"data row5 col0\" >0</td>\n",
              "                        <td id=\"T_45db7a3e_239e_11ea_acb2_0242ac1c0002row5_col1\" class=\"data row5 col1\" >9</td>\n",
              "                        <td id=\"T_45db7a3e_239e_11ea_acb2_0242ac1c0002row5_col2\" class=\"data row5 col2\" >0</td>\n",
              "                        <td id=\"T_45db7a3e_239e_11ea_acb2_0242ac1c0002row5_col3\" class=\"data row5 col3\" >9</td>\n",
              "            </tr>\n",
              "            <tr>\n",
              "                        <th id=\"T_45db7a3e_239e_11ea_acb2_0242ac1c0002level0_row6\" class=\"row_heading level0 row6\" rowspan=2>ma3</th>\n",
              "                        <th id=\"T_45db7a3e_239e_11ea_acb2_0242ac1c0002level1_row6\" class=\"row_heading level1 row6\" >0</th>\n",
              "                        <td id=\"T_45db7a3e_239e_11ea_acb2_0242ac1c0002row6_col0\" class=\"data row6 col0\" >0</td>\n",
              "                        <td id=\"T_45db7a3e_239e_11ea_acb2_0242ac1c0002row6_col1\" class=\"data row6 col1\" >0</td>\n",
              "                        <td id=\"T_45db7a3e_239e_11ea_acb2_0242ac1c0002row6_col2\" class=\"data row6 col2\" >17</td>\n",
              "                        <td id=\"T_45db7a3e_239e_11ea_acb2_0242ac1c0002row6_col3\" class=\"data row6 col3\" >17</td>\n",
              "            </tr>\n",
              "            <tr>\n",
              "                                <th id=\"T_45db7a3e_239e_11ea_acb2_0242ac1c0002level1_row7\" class=\"row_heading level1 row7\" >1</th>\n",
              "                        <td id=\"T_45db7a3e_239e_11ea_acb2_0242ac1c0002row7_col0\" class=\"data row7 col0\" >0</td>\n",
              "                        <td id=\"T_45db7a3e_239e_11ea_acb2_0242ac1c0002row7_col1\" class=\"data row7 col1\" >0</td>\n",
              "                        <td id=\"T_45db7a3e_239e_11ea_acb2_0242ac1c0002row7_col2\" class=\"data row7 col2\" >11</td>\n",
              "                        <td id=\"T_45db7a3e_239e_11ea_acb2_0242ac1c0002row7_col3\" class=\"data row7 col3\" >11</td>\n",
              "            </tr>\n",
              "            <tr>\n",
              "                        <th id=\"T_45db7a3e_239e_11ea_acb2_0242ac1c0002level0_row8\" class=\"row_heading level0 row8\" >mn</th>\n",
              "                        <th id=\"T_45db7a3e_239e_11ea_acb2_0242ac1c0002level1_row8\" class=\"row_heading level1 row8\" >1</th>\n",
              "                        <td id=\"T_45db7a3e_239e_11ea_acb2_0242ac1c0002row8_col0\" class=\"data row8 col0\" >1</td>\n",
              "                        <td id=\"T_45db7a3e_239e_11ea_acb2_0242ac1c0002row8_col1\" class=\"data row8 col1\" >0</td>\n",
              "                        <td id=\"T_45db7a3e_239e_11ea_acb2_0242ac1c0002row8_col2\" class=\"data row8 col2\" >0</td>\n",
              "                        <td id=\"T_45db7a3e_239e_11ea_acb2_0242ac1c0002row8_col3\" class=\"data row8 col3\" >1</td>\n",
              "            </tr>\n",
              "            <tr>\n",
              "                        <th id=\"T_45db7a3e_239e_11ea_acb2_0242ac1c0002level0_row9\" class=\"row_heading level0 row9\" rowspan=2>mr1</th>\n",
              "                        <th id=\"T_45db7a3e_239e_11ea_acb2_0242ac1c0002level1_row9\" class=\"row_heading level1 row9\" >0</th>\n",
              "                        <td id=\"T_45db7a3e_239e_11ea_acb2_0242ac1c0002row9_col0\" class=\"data row9 col0\" >72</td>\n",
              "                        <td id=\"T_45db7a3e_239e_11ea_acb2_0242ac1c0002row9_col1\" class=\"data row9 col1\" >0</td>\n",
              "                        <td id=\"T_45db7a3e_239e_11ea_acb2_0242ac1c0002row9_col2\" class=\"data row9 col2\" >0</td>\n",
              "                        <td id=\"T_45db7a3e_239e_11ea_acb2_0242ac1c0002row9_col3\" class=\"data row9 col3\" >72</td>\n",
              "            </tr>\n",
              "            <tr>\n",
              "                                <th id=\"T_45db7a3e_239e_11ea_acb2_0242ac1c0002level1_row10\" class=\"row_heading level1 row10\" >1</th>\n",
              "                        <td id=\"T_45db7a3e_239e_11ea_acb2_0242ac1c0002row10_col0\" class=\"data row10 col0\" >37</td>\n",
              "                        <td id=\"T_45db7a3e_239e_11ea_acb2_0242ac1c0002row10_col1\" class=\"data row10 col1\" >0</td>\n",
              "                        <td id=\"T_45db7a3e_239e_11ea_acb2_0242ac1c0002row10_col2\" class=\"data row10 col2\" >0</td>\n",
              "                        <td id=\"T_45db7a3e_239e_11ea_acb2_0242ac1c0002row10_col3\" class=\"data row10 col3\" >37</td>\n",
              "            </tr>\n",
              "            <tr>\n",
              "                        <th id=\"T_45db7a3e_239e_11ea_acb2_0242ac1c0002level0_row11\" class=\"row_heading level0 row11\" rowspan=2>mr2</th>\n",
              "                        <th id=\"T_45db7a3e_239e_11ea_acb2_0242ac1c0002level1_row11\" class=\"row_heading level1 row11\" >0</th>\n",
              "                        <td id=\"T_45db7a3e_239e_11ea_acb2_0242ac1c0002row11_col0\" class=\"data row11 col0\" >0</td>\n",
              "                        <td id=\"T_45db7a3e_239e_11ea_acb2_0242ac1c0002row11_col1\" class=\"data row11 col1\" >83</td>\n",
              "                        <td id=\"T_45db7a3e_239e_11ea_acb2_0242ac1c0002row11_col2\" class=\"data row11 col2\" >0</td>\n",
              "                        <td id=\"T_45db7a3e_239e_11ea_acb2_0242ac1c0002row11_col3\" class=\"data row11 col3\" >83</td>\n",
              "            </tr>\n",
              "            <tr>\n",
              "                                <th id=\"T_45db7a3e_239e_11ea_acb2_0242ac1c0002level1_row12\" class=\"row_heading level1 row12\" >1</th>\n",
              "                        <td id=\"T_45db7a3e_239e_11ea_acb2_0242ac1c0002row12_col0\" class=\"data row12 col0\" >0</td>\n",
              "                        <td id=\"T_45db7a3e_239e_11ea_acb2_0242ac1c0002row12_col1\" class=\"data row12 col1\" >8</td>\n",
              "                        <td id=\"T_45db7a3e_239e_11ea_acb2_0242ac1c0002row12_col2\" class=\"data row12 col2\" >0</td>\n",
              "                        <td id=\"T_45db7a3e_239e_11ea_acb2_0242ac1c0002row12_col3\" class=\"data row12 col3\" >8</td>\n",
              "            </tr>\n",
              "            <tr>\n",
              "                        <th id=\"T_45db7a3e_239e_11ea_acb2_0242ac1c0002level0_row13\" class=\"row_heading level0 row13\" rowspan=2>mr3</th>\n",
              "                        <th id=\"T_45db7a3e_239e_11ea_acb2_0242ac1c0002level1_row13\" class=\"row_heading level1 row13\" >0</th>\n",
              "                        <td id=\"T_45db7a3e_239e_11ea_acb2_0242ac1c0002row13_col0\" class=\"data row13 col0\" >0</td>\n",
              "                        <td id=\"T_45db7a3e_239e_11ea_acb2_0242ac1c0002row13_col1\" class=\"data row13 col1\" >0</td>\n",
              "                        <td id=\"T_45db7a3e_239e_11ea_acb2_0242ac1c0002row13_col2\" class=\"data row13 col2\" >283</td>\n",
              "                        <td id=\"T_45db7a3e_239e_11ea_acb2_0242ac1c0002row13_col3\" class=\"data row13 col3\" >283</td>\n",
              "            </tr>\n",
              "            <tr>\n",
              "                                <th id=\"T_45db7a3e_239e_11ea_acb2_0242ac1c0002level1_row14\" class=\"row_heading level1 row14\" >1</th>\n",
              "                        <td id=\"T_45db7a3e_239e_11ea_acb2_0242ac1c0002row14_col0\" class=\"data row14 col0\" >0</td>\n",
              "                        <td id=\"T_45db7a3e_239e_11ea_acb2_0242ac1c0002row14_col1\" class=\"data row14 col1\" >0</td>\n",
              "                        <td id=\"T_45db7a3e_239e_11ea_acb2_0242ac1c0002row14_col2\" class=\"data row14 col2\" >36</td>\n",
              "                        <td id=\"T_45db7a3e_239e_11ea_acb2_0242ac1c0002row14_col3\" class=\"data row14 col3\" >36</td>\n",
              "            </tr>\n",
              "            <tr>\n",
              "                        <th id=\"T_45db7a3e_239e_11ea_acb2_0242ac1c0002level0_row15\" class=\"row_heading level0 row15\" rowspan=2>mrs1</th>\n",
              "                        <th id=\"T_45db7a3e_239e_11ea_acb2_0242ac1c0002level1_row15\" class=\"row_heading level1 row15\" >0</th>\n",
              "                        <td id=\"T_45db7a3e_239e_11ea_acb2_0242ac1c0002row15_col0\" class=\"data row15 col0\" >1</td>\n",
              "                        <td id=\"T_45db7a3e_239e_11ea_acb2_0242ac1c0002row15_col1\" class=\"data row15 col1\" >0</td>\n",
              "                        <td id=\"T_45db7a3e_239e_11ea_acb2_0242ac1c0002row15_col2\" class=\"data row15 col2\" >0</td>\n",
              "                        <td id=\"T_45db7a3e_239e_11ea_acb2_0242ac1c0002row15_col3\" class=\"data row15 col3\" >1</td>\n",
              "            </tr>\n",
              "            <tr>\n",
              "                                <th id=\"T_45db7a3e_239e_11ea_acb2_0242ac1c0002level1_row16\" class=\"row_heading level1 row16\" >1</th>\n",
              "                        <td id=\"T_45db7a3e_239e_11ea_acb2_0242ac1c0002row16_col0\" class=\"data row16 col0\" >41</td>\n",
              "                        <td id=\"T_45db7a3e_239e_11ea_acb2_0242ac1c0002row16_col1\" class=\"data row16 col1\" >0</td>\n",
              "                        <td id=\"T_45db7a3e_239e_11ea_acb2_0242ac1c0002row16_col2\" class=\"data row16 col2\" >0</td>\n",
              "                        <td id=\"T_45db7a3e_239e_11ea_acb2_0242ac1c0002row16_col3\" class=\"data row16 col3\" >41</td>\n",
              "            </tr>\n",
              "            <tr>\n",
              "                        <th id=\"T_45db7a3e_239e_11ea_acb2_0242ac1c0002level0_row17\" class=\"row_heading level0 row17\" rowspan=2>mrs2</th>\n",
              "                        <th id=\"T_45db7a3e_239e_11ea_acb2_0242ac1c0002level1_row17\" class=\"row_heading level1 row17\" >0</th>\n",
              "                        <td id=\"T_45db7a3e_239e_11ea_acb2_0242ac1c0002row17_col0\" class=\"data row17 col0\" >0</td>\n",
              "                        <td id=\"T_45db7a3e_239e_11ea_acb2_0242ac1c0002row17_col1\" class=\"data row17 col1\" >4</td>\n",
              "                        <td id=\"T_45db7a3e_239e_11ea_acb2_0242ac1c0002row17_col2\" class=\"data row17 col2\" >0</td>\n",
              "                        <td id=\"T_45db7a3e_239e_11ea_acb2_0242ac1c0002row17_col3\" class=\"data row17 col3\" >4</td>\n",
              "            </tr>\n",
              "            <tr>\n",
              "                                <th id=\"T_45db7a3e_239e_11ea_acb2_0242ac1c0002level1_row18\" class=\"row_heading level1 row18\" >1</th>\n",
              "                        <td id=\"T_45db7a3e_239e_11ea_acb2_0242ac1c0002row18_col0\" class=\"data row18 col0\" >0</td>\n",
              "                        <td id=\"T_45db7a3e_239e_11ea_acb2_0242ac1c0002row18_col1\" class=\"data row18 col1\" >37</td>\n",
              "                        <td id=\"T_45db7a3e_239e_11ea_acb2_0242ac1c0002row18_col2\" class=\"data row18 col2\" >0</td>\n",
              "                        <td id=\"T_45db7a3e_239e_11ea_acb2_0242ac1c0002row18_col3\" class=\"data row18 col3\" >37</td>\n",
              "            </tr>\n",
              "            <tr>\n",
              "                        <th id=\"T_45db7a3e_239e_11ea_acb2_0242ac1c0002level0_row19\" class=\"row_heading level0 row19\" rowspan=2>mrs3</th>\n",
              "                        <th id=\"T_45db7a3e_239e_11ea_acb2_0242ac1c0002level1_row19\" class=\"row_heading level1 row19\" >0</th>\n",
              "                        <td id=\"T_45db7a3e_239e_11ea_acb2_0242ac1c0002row19_col0\" class=\"data row19 col0\" >0</td>\n",
              "                        <td id=\"T_45db7a3e_239e_11ea_acb2_0242ac1c0002row19_col1\" class=\"data row19 col1\" >0</td>\n",
              "                        <td id=\"T_45db7a3e_239e_11ea_acb2_0242ac1c0002row19_col2\" class=\"data row19 col2\" >21</td>\n",
              "                        <td id=\"T_45db7a3e_239e_11ea_acb2_0242ac1c0002row19_col3\" class=\"data row19 col3\" >21</td>\n",
              "            </tr>\n",
              "            <tr>\n",
              "                                <th id=\"T_45db7a3e_239e_11ea_acb2_0242ac1c0002level1_row20\" class=\"row_heading level1 row20\" >1</th>\n",
              "                        <td id=\"T_45db7a3e_239e_11ea_acb2_0242ac1c0002row20_col0\" class=\"data row20 col0\" >0</td>\n",
              "                        <td id=\"T_45db7a3e_239e_11ea_acb2_0242ac1c0002row20_col1\" class=\"data row20 col1\" >0</td>\n",
              "                        <td id=\"T_45db7a3e_239e_11ea_acb2_0242ac1c0002row20_col2\" class=\"data row20 col2\" >21</td>\n",
              "                        <td id=\"T_45db7a3e_239e_11ea_acb2_0242ac1c0002row20_col3\" class=\"data row20 col3\" >21</td>\n",
              "            </tr>\n",
              "            <tr>\n",
              "                        <th id=\"T_45db7a3e_239e_11ea_acb2_0242ac1c0002level0_row21\" class=\"row_heading level0 row21\" rowspan=2>ms1</th>\n",
              "                        <th id=\"T_45db7a3e_239e_11ea_acb2_0242ac1c0002level1_row21\" class=\"row_heading level1 row21\" >0</th>\n",
              "                        <td id=\"T_45db7a3e_239e_11ea_acb2_0242ac1c0002row21_col0\" class=\"data row21 col0\" >2</td>\n",
              "                        <td id=\"T_45db7a3e_239e_11ea_acb2_0242ac1c0002row21_col1\" class=\"data row21 col1\" >0</td>\n",
              "                        <td id=\"T_45db7a3e_239e_11ea_acb2_0242ac1c0002row21_col2\" class=\"data row21 col2\" >0</td>\n",
              "                        <td id=\"T_45db7a3e_239e_11ea_acb2_0242ac1c0002row21_col3\" class=\"data row21 col3\" >2</td>\n",
              "            </tr>\n",
              "            <tr>\n",
              "                                <th id=\"T_45db7a3e_239e_11ea_acb2_0242ac1c0002level1_row22\" class=\"row_heading level1 row22\" >1</th>\n",
              "                        <td id=\"T_45db7a3e_239e_11ea_acb2_0242ac1c0002row22_col0\" class=\"data row22 col0\" >44</td>\n",
              "                        <td id=\"T_45db7a3e_239e_11ea_acb2_0242ac1c0002row22_col1\" class=\"data row22 col1\" >0</td>\n",
              "                        <td id=\"T_45db7a3e_239e_11ea_acb2_0242ac1c0002row22_col2\" class=\"data row22 col2\" >0</td>\n",
              "                        <td id=\"T_45db7a3e_239e_11ea_acb2_0242ac1c0002row22_col3\" class=\"data row22 col3\" >44</td>\n",
              "            </tr>\n",
              "            <tr>\n",
              "                        <th id=\"T_45db7a3e_239e_11ea_acb2_0242ac1c0002level0_row23\" class=\"row_heading level0 row23\" rowspan=2>ms2</th>\n",
              "                        <th id=\"T_45db7a3e_239e_11ea_acb2_0242ac1c0002level1_row23\" class=\"row_heading level1 row23\" >0</th>\n",
              "                        <td id=\"T_45db7a3e_239e_11ea_acb2_0242ac1c0002row23_col0\" class=\"data row23 col0\" >0</td>\n",
              "                        <td id=\"T_45db7a3e_239e_11ea_acb2_0242ac1c0002row23_col1\" class=\"data row23 col1\" >2</td>\n",
              "                        <td id=\"T_45db7a3e_239e_11ea_acb2_0242ac1c0002row23_col2\" class=\"data row23 col2\" >0</td>\n",
              "                        <td id=\"T_45db7a3e_239e_11ea_acb2_0242ac1c0002row23_col3\" class=\"data row23 col3\" >2</td>\n",
              "            </tr>\n",
              "            <tr>\n",
              "                                <th id=\"T_45db7a3e_239e_11ea_acb2_0242ac1c0002level1_row24\" class=\"row_heading level1 row24\" >1</th>\n",
              "                        <td id=\"T_45db7a3e_239e_11ea_acb2_0242ac1c0002row24_col0\" class=\"data row24 col0\" >0</td>\n",
              "                        <td id=\"T_45db7a3e_239e_11ea_acb2_0242ac1c0002row24_col1\" class=\"data row24 col1\" >32</td>\n",
              "                        <td id=\"T_45db7a3e_239e_11ea_acb2_0242ac1c0002row24_col2\" class=\"data row24 col2\" >0</td>\n",
              "                        <td id=\"T_45db7a3e_239e_11ea_acb2_0242ac1c0002row24_col3\" class=\"data row24 col3\" >32</td>\n",
              "            </tr>\n",
              "            <tr>\n",
              "                        <th id=\"T_45db7a3e_239e_11ea_acb2_0242ac1c0002level0_row25\" class=\"row_heading level0 row25\" rowspan=2>ms3</th>\n",
              "                        <th id=\"T_45db7a3e_239e_11ea_acb2_0242ac1c0002level1_row25\" class=\"row_heading level1 row25\" >0</th>\n",
              "                        <td id=\"T_45db7a3e_239e_11ea_acb2_0242ac1c0002row25_col0\" class=\"data row25 col0\" >0</td>\n",
              "                        <td id=\"T_45db7a3e_239e_11ea_acb2_0242ac1c0002row25_col1\" class=\"data row25 col1\" >0</td>\n",
              "                        <td id=\"T_45db7a3e_239e_11ea_acb2_0242ac1c0002row25_col2\" class=\"data row25 col2\" >51</td>\n",
              "                        <td id=\"T_45db7a3e_239e_11ea_acb2_0242ac1c0002row25_col3\" class=\"data row25 col3\" >51</td>\n",
              "            </tr>\n",
              "            <tr>\n",
              "                                <th id=\"T_45db7a3e_239e_11ea_acb2_0242ac1c0002level1_row26\" class=\"row_heading level1 row26\" >1</th>\n",
              "                        <td id=\"T_45db7a3e_239e_11ea_acb2_0242ac1c0002row26_col0\" class=\"data row26 col0\" >0</td>\n",
              "                        <td id=\"T_45db7a3e_239e_11ea_acb2_0242ac1c0002row26_col1\" class=\"data row26 col1\" >0</td>\n",
              "                        <td id=\"T_45db7a3e_239e_11ea_acb2_0242ac1c0002row26_col2\" class=\"data row26 col2\" >51</td>\n",
              "                        <td id=\"T_45db7a3e_239e_11ea_acb2_0242ac1c0002row26_col3\" class=\"data row26 col3\" >51</td>\n",
              "            </tr>\n",
              "            <tr>\n",
              "                        <th id=\"T_45db7a3e_239e_11ea_acb2_0242ac1c0002level0_row27\" class=\"row_heading level0 row27\" rowspan=2>os</th>\n",
              "                        <th id=\"T_45db7a3e_239e_11ea_acb2_0242ac1c0002level1_row27\" class=\"row_heading level1 row27\" >0</th>\n",
              "                        <td id=\"T_45db7a3e_239e_11ea_acb2_0242ac1c0002row27_col0\" class=\"data row27 col0\" >2</td>\n",
              "                        <td id=\"T_45db7a3e_239e_11ea_acb2_0242ac1c0002row27_col1\" class=\"data row27 col1\" >0</td>\n",
              "                        <td id=\"T_45db7a3e_239e_11ea_acb2_0242ac1c0002row27_col2\" class=\"data row27 col2\" >0</td>\n",
              "                        <td id=\"T_45db7a3e_239e_11ea_acb2_0242ac1c0002row27_col3\" class=\"data row27 col3\" >2</td>\n",
              "            </tr>\n",
              "            <tr>\n",
              "                                <th id=\"T_45db7a3e_239e_11ea_acb2_0242ac1c0002level1_row28\" class=\"row_heading level1 row28\" >1</th>\n",
              "                        <td id=\"T_45db7a3e_239e_11ea_acb2_0242ac1c0002row28_col0\" class=\"data row28 col0\" >2</td>\n",
              "                        <td id=\"T_45db7a3e_239e_11ea_acb2_0242ac1c0002row28_col1\" class=\"data row28 col1\" >0</td>\n",
              "                        <td id=\"T_45db7a3e_239e_11ea_acb2_0242ac1c0002row28_col2\" class=\"data row28 col2\" >0</td>\n",
              "                        <td id=\"T_45db7a3e_239e_11ea_acb2_0242ac1c0002row28_col3\" class=\"data row28 col3\" >2</td>\n",
              "            </tr>\n",
              "            <tr>\n",
              "                        <th id=\"T_45db7a3e_239e_11ea_acb2_0242ac1c0002level0_row29\" class=\"row_heading level0 row29\" >rv</th>\n",
              "                        <th id=\"T_45db7a3e_239e_11ea_acb2_0242ac1c0002level1_row29\" class=\"row_heading level1 row29\" >0</th>\n",
              "                        <td id=\"T_45db7a3e_239e_11ea_acb2_0242ac1c0002row29_col0\" class=\"data row29 col0\" >0</td>\n",
              "                        <td id=\"T_45db7a3e_239e_11ea_acb2_0242ac1c0002row29_col1\" class=\"data row29 col1\" >6</td>\n",
              "                        <td id=\"T_45db7a3e_239e_11ea_acb2_0242ac1c0002row29_col2\" class=\"data row29 col2\" >0</td>\n",
              "                        <td id=\"T_45db7a3e_239e_11ea_acb2_0242ac1c0002row29_col3\" class=\"data row29 col3\" >6</td>\n",
              "            </tr>\n",
              "            <tr>\n",
              "                        <th id=\"T_45db7a3e_239e_11ea_acb2_0242ac1c0002level0_row30\" class=\"row_heading level0 row30\" >ys</th>\n",
              "                        <th id=\"T_45db7a3e_239e_11ea_acb2_0242ac1c0002level1_row30\" class=\"row_heading level1 row30\" >0</th>\n",
              "                        <td id=\"T_45db7a3e_239e_11ea_acb2_0242ac1c0002row30_col0\" class=\"data row30 col0\" >1</td>\n",
              "                        <td id=\"T_45db7a3e_239e_11ea_acb2_0242ac1c0002row30_col1\" class=\"data row30 col1\" >0</td>\n",
              "                        <td id=\"T_45db7a3e_239e_11ea_acb2_0242ac1c0002row30_col2\" class=\"data row30 col2\" >0</td>\n",
              "                        <td id=\"T_45db7a3e_239e_11ea_acb2_0242ac1c0002row30_col3\" class=\"data row30 col3\" >1</td>\n",
              "            </tr>\n",
              "            <tr>\n",
              "                        <th id=\"T_45db7a3e_239e_11ea_acb2_0242ac1c0002level0_row31\" class=\"row_heading level0 row31\" >All</th>\n",
              "                        <th id=\"T_45db7a3e_239e_11ea_acb2_0242ac1c0002level1_row31\" class=\"row_heading level1 row31\" ></th>\n",
              "                        <td id=\"T_45db7a3e_239e_11ea_acb2_0242ac1c0002row31_col0\" class=\"data row31 col0\" >216</td>\n",
              "                        <td id=\"T_45db7a3e_239e_11ea_acb2_0242ac1c0002row31_col1\" class=\"data row31 col1\" >184</td>\n",
              "                        <td id=\"T_45db7a3e_239e_11ea_acb2_0242ac1c0002row31_col2\" class=\"data row31 col2\" >491</td>\n",
              "                        <td id=\"T_45db7a3e_239e_11ea_acb2_0242ac1c0002row31_col3\" class=\"data row31 col3\" >891</td>\n",
              "            </tr>\n",
              "    </tbody></table>"
            ],
            "text/plain": [
              "<pandas.io.formats.style.Styler at 0x7f8f5b77d048>"
            ]
          },
          "metadata": {
            "tags": []
          },
          "execution_count": 91
        }
      ]
    },
    {
      "cell_type": "markdown",
      "metadata": {
        "id": "M7liJGPRaKT3",
        "colab_type": "text"
      },
      "source": [
        "* 이 값을 새로운 데이터 프레임 이름칸에 넣습니다."
      ]
    },
    {
      "cell_type": "code",
      "metadata": {
        "id": "5kHxX0yKaUor",
        "colab_type": "code",
        "colab": {
          "base_uri": "https://localhost:8080/",
          "height": 197
        },
        "outputId": "6c86f1f7-9f4e-4eed-b334-548cc82cbfad"
      },
      "source": [
        "bin('Name','CN')"
      ],
      "execution_count": 97,
      "outputs": [
        {
          "output_type": "execute_result",
          "data": {
            "text/html": [
              "<div>\n",
              "<style scoped>\n",
              "    .dataframe tbody tr th:only-of-type {\n",
              "        vertical-align: middle;\n",
              "    }\n",
              "\n",
              "    .dataframe tbody tr th {\n",
              "        vertical-align: top;\n",
              "    }\n",
              "\n",
              "    .dataframe thead th {\n",
              "        text-align: right;\n",
              "    }\n",
              "</style>\n",
              "<table border=\"1\" class=\"dataframe\">\n",
              "  <thead>\n",
              "    <tr style=\"text-align: right;\">\n",
              "      <th></th>\n",
              "      <th>Survived</th>\n",
              "      <th>Pclass</th>\n",
              "      <th>Name</th>\n",
              "    </tr>\n",
              "  </thead>\n",
              "  <tbody>\n",
              "    <tr>\n",
              "      <th>0</th>\n",
              "      <td>0</td>\n",
              "      <td>3</td>\n",
              "      <td>mr3</td>\n",
              "    </tr>\n",
              "    <tr>\n",
              "      <th>1</th>\n",
              "      <td>1</td>\n",
              "      <td>1</td>\n",
              "      <td>mrs1</td>\n",
              "    </tr>\n",
              "    <tr>\n",
              "      <th>2</th>\n",
              "      <td>1</td>\n",
              "      <td>3</td>\n",
              "      <td>ms3</td>\n",
              "    </tr>\n",
              "    <tr>\n",
              "      <th>3</th>\n",
              "      <td>1</td>\n",
              "      <td>1</td>\n",
              "      <td>mrs1</td>\n",
              "    </tr>\n",
              "    <tr>\n",
              "      <th>4</th>\n",
              "      <td>0</td>\n",
              "      <td>3</td>\n",
              "      <td>mr3</td>\n",
              "    </tr>\n",
              "  </tbody>\n",
              "</table>\n",
              "</div>"
            ],
            "text/plain": [
              "   Survived  Pclass  Name\n",
              "0         0       3   mr3\n",
              "1         1       1  mrs1\n",
              "2         1       3   ms3\n",
              "3         1       1  mrs1\n",
              "4         0       3   mr3"
            ]
          },
          "metadata": {
            "tags": []
          },
          "execution_count": 97
        }
      ]
    },
    {
      "cell_type": "code",
      "metadata": {
        "id": "ije0L_YZbISo",
        "colab_type": "code",
        "colab": {
          "base_uri": "https://localhost:8080/",
          "height": 197
        },
        "outputId": "fbd63b46-b375-4f23-e443-df72c0c6a61a"
      },
      "source": [
        "con('Name','CN')"
      ],
      "execution_count": 98,
      "outputs": [
        {
          "output_type": "execute_result",
          "data": {
            "text/html": [
              "<div>\n",
              "<style scoped>\n",
              "    .dataframe tbody tr th:only-of-type {\n",
              "        vertical-align: middle;\n",
              "    }\n",
              "\n",
              "    .dataframe tbody tr th {\n",
              "        vertical-align: top;\n",
              "    }\n",
              "\n",
              "    .dataframe thead th {\n",
              "        text-align: right;\n",
              "    }\n",
              "</style>\n",
              "<table border=\"1\" class=\"dataframe\">\n",
              "  <thead>\n",
              "    <tr style=\"text-align: right;\">\n",
              "      <th></th>\n",
              "      <th>Survived</th>\n",
              "      <th>Pclass</th>\n",
              "      <th>Name</th>\n",
              "    </tr>\n",
              "  </thead>\n",
              "  <tbody>\n",
              "    <tr>\n",
              "      <th>0</th>\n",
              "      <td>0</td>\n",
              "      <td>3</td>\n",
              "      <td>mr3</td>\n",
              "    </tr>\n",
              "    <tr>\n",
              "      <th>1</th>\n",
              "      <td>1</td>\n",
              "      <td>1</td>\n",
              "      <td>mrs1</td>\n",
              "    </tr>\n",
              "    <tr>\n",
              "      <th>2</th>\n",
              "      <td>1</td>\n",
              "      <td>3</td>\n",
              "      <td>ms3</td>\n",
              "    </tr>\n",
              "    <tr>\n",
              "      <th>3</th>\n",
              "      <td>1</td>\n",
              "      <td>1</td>\n",
              "      <td>mrs1</td>\n",
              "    </tr>\n",
              "    <tr>\n",
              "      <th>4</th>\n",
              "      <td>0</td>\n",
              "      <td>3</td>\n",
              "      <td>mr3</td>\n",
              "    </tr>\n",
              "  </tbody>\n",
              "</table>\n",
              "</div>"
            ],
            "text/plain": [
              "   Survived  Pclass  Name\n",
              "0         0       3   mr3\n",
              "1         1       1  mrs1\n",
              "2         1       3   ms3\n",
              "3         1       1  mrs1\n",
              "4         0       3   mr3"
            ]
          },
          "metadata": {
            "tags": []
          },
          "execution_count": 98
        }
      ]
    }
  ]
}