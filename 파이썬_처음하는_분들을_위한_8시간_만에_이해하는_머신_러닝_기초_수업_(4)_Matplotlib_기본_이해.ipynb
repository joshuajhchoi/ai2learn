{
  "nbformat": 4,
  "nbformat_minor": 0,
  "metadata": {
    "colab": {
      "name": "파이썬 처음하는 분들을 위한 8시간 만에 이해하는 머신 러닝 기초 수업 (4) Matplotlib 기본 이해",
      "provenance": [],
      "collapsed_sections": [],
      "include_colab_link": true
    },
    "kernelspec": {
      "name": "python3",
      "display_name": "Python 3"
    }
  },
  "cells": [
    {
      "cell_type": "markdown",
      "metadata": {
        "id": "view-in-github",
        "colab_type": "text"
      },
      "source": [
        "<a href=\"https://colab.research.google.com/github/joshuajhchoi/ai2learn/blob/master/%ED%8C%8C%EC%9D%B4%EC%8D%AC_%EC%B2%98%EC%9D%8C%ED%95%98%EB%8A%94_%EB%B6%84%EB%93%A4%EC%9D%84_%EC%9C%84%ED%95%9C_8%EC%8B%9C%EA%B0%84_%EB%A7%8C%EC%97%90_%EC%9D%B4%ED%95%B4%ED%95%98%EB%8A%94_%EB%A8%B8%EC%8B%A0_%EB%9F%AC%EB%8B%9D_%EA%B8%B0%EC%B4%88_%EC%88%98%EC%97%85_(4)_Matplotlib_%EA%B8%B0%EB%B3%B8_%EC%9D%B4%ED%95%B4.ipynb\" target=\"_parent\"><img src=\"https://colab.research.google.com/assets/colab-badge.svg\" alt=\"Open In Colab\"/></a>"
      ]
    },
    {
      "cell_type": "markdown",
      "metadata": {
        "id": "xLy7xh2HkH_N",
        "colab_type": "text"
      },
      "source": [
        "목차\n",
        "\n",
        "1. 파이썬 기초 문법 이해하기 (2시간 15분)\n",
        "2. 주피터노트북 및 Colab 이해 (15분)\n",
        "3. NumPy 기본 (30분)\n",
        "\n",
        "###4. Matplotlib 기본 이해 (30분)\n",
        "5. Seaborn 기본 이해 (30분)\n",
        "6. 통계 필요사항 기본 이해 (30분)\n",
        "7. Pandas 기본 이해 (30분)\n",
        "8. ScikitLearn 기본 이해 (30분)\n",
        "9. 머신러닝 알고리즘 개요 이해 (30분)\n",
        "10. Kaggle Titanic 입문하기 (2시간)"
      ]
    },
    {
      "cell_type": "markdown",
      "metadata": {
        "id": "_62bKJo4kNVk",
        "colab_type": "text"
      },
      "source": [
        "##Matplotlib\n",
        "Matplotlib는 Python 2D 플로팅 라이브러리입니다. Matplotlib은 Python 스크립트, Python 및 IPython 쉘, Jupyter 노트북 등에서 사용할 수 있습니다.\n"
      ]
    },
    {
      "cell_type": "markdown",
      "metadata": {
        "id": "4WgaNfhHlD1x",
        "colab_type": "text"
      },
      "source": [
        "## 개요\n",
        "이 강의는 비프로그래머 출신이 파이썬 기초를 배운 후 Matplotlib을 처음 접했을 때 가장 기본적으로 알아야 할 것을 1시간에 간단히 설명하는 과정으로\n",
        "전문 프로그래머이시거나 또는 좀 더 심화 학습을 하시고 싶으신 분들은 이 과정보다는 좀 더 advanced한 것을 들으셔야 합니다.\n",
        "\n",
        "하지만, 머신러닝을 배우기 위해 파이썬 기초를 배우시고 NumPy 한번 훓어보고, 이제 최소한의 Matplotlib만 알고 지나가시려는 분들에게는 \n",
        "최소한으로 알아야 하는 수준을 제공하므로 빠르고 유용한 강좌가 될 수도 있습니다."
      ]
    },
    {
      "cell_type": "markdown",
      "metadata": {
        "id": "EVU8jYPPlUyW",
        "colab_type": "text"
      },
      "source": [
        "## 시작 & 설치\n",
        "\n",
        "####무엇이든지 시작이 반입니다.\n",
        "\n",
        "일단 시작하고 봅니다.\n",
        "\n",
        "####아시다시피 Python 이 설치 되어 있어야 하며, 당연히 주피터 노트북이 설치 되어 있어야 합니다.\n",
        "\n",
        "여기서는 특별한 설치 없이 연습할 수 있습니다."
      ]
    },
    {
      "cell_type": "markdown",
      "metadata": {
        "id": "YboBKJP_lXEc",
        "colab_type": "text"
      },
      "source": [
        "## import하기\n",
        "\n",
        "####matplotlib.pyplotlib을 plt로써 임포트 합니다"
      ]
    },
    {
      "cell_type": "code",
      "metadata": {
        "id": "YBwOmBvulb2n",
        "colab_type": "code",
        "colab": {}
      },
      "source": [
        "import matplotlib.pyplot as plt"
      ],
      "execution_count": 0,
      "outputs": []
    },
    {
      "cell_type": "markdown",
      "metadata": {
        "id": "ISw1CD20llor",
        "colab_type": "text"
      },
      "source": [
        "## 데이터 넣기\n",
        "\n",
        "\n",
        "####여기서는 대단한 것을 할 것이 아니라 원리만 배우니까 간단한 것으로 해 보겠습니다.\n",
        "\n",
        "* 기간을 2015, 2016, 2017, 2018, 2019로 하고\n",
        "* 배추 값이  4000, 4200, 3800, 3700, 4100 이었다고 가정해서 넣습니다.\n",
        "* 무우 값이  같은 기간에 2300, 2400, 2200, 2300, 2400 이었다고 하고 만들어 보겠습니다.\n",
        "* 이를 리스트로 만들어 보죠"
      ]
    },
    {
      "cell_type": "code",
      "metadata": {
        "id": "nAZ93ftPlvdZ",
        "colab_type": "code",
        "colab": {}
      },
      "source": [
        "baechu = [4000, 4200, 3800, 3700, 4100]\n",
        "moo = [2300, 2400, 2200, 2300, 2400]\n",
        "year = [2015, 2016, 2017, 2018, 2019]"
      ],
      "execution_count": 0,
      "outputs": []
    },
    {
      "cell_type": "markdown",
      "metadata": {
        "id": "ywJDL6dMl3oH",
        "colab_type": "text"
      },
      "source": [
        "## 간단한 그래프로 만들어 봅니다.\n",
        "\n",
        "####우선 양 축을 만들어 보죠"
      ]
    },
    {
      "cell_type": "code",
      "metadata": {
        "id": "jV1jz6j6l5ZE",
        "colab_type": "code",
        "colab": {
          "base_uri": "https://localhost:8080/",
          "height": 301
        },
        "outputId": "883ce6c2-d7a2-4970-e37b-0944b52748f1"
      },
      "source": [
        "plt.xlabel('Year')\n",
        "plt.ylabel('Price')\n",
        "plt.show"
      ],
      "execution_count": 4,
      "outputs": [
        {
          "output_type": "execute_result",
          "data": {
            "text/plain": [
              "<function matplotlib.pyplot.show>"
            ]
          },
          "metadata": {
            "tags": []
          },
          "execution_count": 4
        },
        {
          "output_type": "display_data",
          "data": {
            "image/png": "[encoded data removed]",
            "text/plain": [
              "<Figure size 432x288 with 1 Axes>"
            ]
          },
          "metadata": {
            "tags": []
          }
        }
      ]
    },
    {
      "cell_type": "markdown",
      "metadata": {
        "id": "KmNv_0s2mI2H",
        "colab_type": "text"
      },
      "source": [
        "####축이 0부터 1까지네요. 확장해 보도록 하겠습니다.\n",
        "* x축은 2014부터 2020까지\n",
        "* y축은 0원부터 5천원까지로 만들어 보겠습니다."
      ]
    },
    {
      "cell_type": "code",
      "metadata": {
        "id": "bEfwYblVmKXJ",
        "colab_type": "code",
        "colab": {
          "base_uri": "https://localhost:8080/",
          "height": 301
        },
        "outputId": "a1f26da3-8a99-4b46-8bc7-3acd883cd12a"
      },
      "source": [
        "plt.xlabel('Year')\n",
        "plt.ylabel('Price')\n",
        "plt.xlim(2014,2020)\n",
        "plt.ylim(0,5000)\n",
        "plt.show"
      ],
      "execution_count": 5,
      "outputs": [
        {
          "output_type": "execute_result",
          "data": {
            "text/plain": [
              "<function matplotlib.pyplot.show>"
            ]
          },
          "metadata": {
            "tags": []
          },
          "execution_count": 5
        },
        {
          "output_type": "display_data",
          "data": {
            "image/png": "[encoded data removed]",
            "text/plain": [
              "<Figure size 432x288 with 1 Axes>"
            ]
          },
          "metadata": {
            "tags": []
          }
        }
      ]
    },
    {
      "cell_type": "markdown",
      "metadata": {
        "id": "QTb9je2mmXpX",
        "colab_type": "text"
      },
      "source": [
        "## 배추 무우 값을 넣어서 출력해 봅니다.\n",
        "\n",
        "####플롯 출력"
      ]
    },
    {
      "cell_type": "code",
      "metadata": {
        "id": "v78IIDHKmY73",
        "colab_type": "code",
        "colab": {
          "base_uri": "https://localhost:8080/",
          "height": 301
        },
        "outputId": "69e5d976-8c25-4519-9963-a3cad9ef583a"
      },
      "source": [
        "plt.xlabel('Year')\n",
        "plt.ylabel('Price')\n",
        "plt.xlim(2014,2020)\n",
        "plt.ylim(0,5000)\n",
        "baechu = [4000, 4200, 3800, 3700, 4100]\n",
        "moo = [2300, 2400, 2200, 2300, 2400]\n",
        "year = [2015, 2016, 2017, 2018, 2019]\n",
        "plt.plot(year,baechu)\n",
        "plt.plot(year,moo)\n",
        "plt.show"
      ],
      "execution_count": 6,
      "outputs": [
        {
          "output_type": "execute_result",
          "data": {
            "text/plain": [
              "<function matplotlib.pyplot.show>"
            ]
          },
          "metadata": {
            "tags": []
          },
          "execution_count": 6
        },
        {
          "output_type": "display_data",
          "data": {
            "image/png": "[encoded data removed]",
            "text/plain": [
              "<Figure size 432x288 with 1 Axes>"
            ]
          },
          "metadata": {
            "tags": []
          }
        }
      ]
    },
    {
      "cell_type": "markdown",
      "metadata": {
        "id": "LGDQcrFWmqv-",
        "colab_type": "text"
      },
      "source": [
        "## Scattered Chart\n",
        "\n",
        "#### 라인차트를 해보았으니 scattered chart로 만들어 보겠습니다.\n",
        "\n",
        "* plot 대신에 scatter를 넣습니다.\n",
        "\n",
        "\t\tplt.scatter(year,baechu)\n",
        "\t\tplt.scatter(year,moo)\n",
        "\t\tplt.show"
      ]
    },
    {
      "cell_type": "code",
      "metadata": {
        "id": "t1ZKo49kmye-",
        "colab_type": "code",
        "colab": {
          "base_uri": "https://localhost:8080/",
          "height": 301
        },
        "outputId": "e9535984-f2f7-49e5-e0e2-2fb255ec475c"
      },
      "source": [
        "import matplotlib.pyplot as plt\n",
        "\n",
        "plt.xlabel('Year')\n",
        "plt.ylabel('Price')\n",
        "plt.xlim(2014,2020)\n",
        "plt.ylim(0,5000)\n",
        "baechu = [4000, 4200, 3800, 3700, 4100]\n",
        "moo = [2300, 2400, 2200, 2300, 2400]\n",
        "year = [2015, 2016, 2017, 2018, 2019]\n",
        "plt.scatter(year,baechu)\n",
        "plt.scatter(year,moo)\n",
        "plt.show"
      ],
      "execution_count": 7,
      "outputs": [
        {
          "output_type": "execute_result",
          "data": {
            "text/plain": [
              "<function matplotlib.pyplot.show>"
            ]
          },
          "metadata": {
            "tags": []
          },
          "execution_count": 7
        },
        {
          "output_type": "display_data",
          "data": {
            "image/png": "[encoded data removed]",
            "text/plain": [
              "<Figure size 432x288 with 1 Axes>"
            ]
          },
          "metadata": {
            "tags": []
          }
        }
      ]
    },
    {
      "cell_type": "markdown",
      "metadata": {
        "id": "-vE1Sqj4m9ew",
        "colab_type": "text"
      },
      "source": [
        "## 라인색깔 바꾸기\n",
        "\n",
        "####plot인 상태에서 색깔을 바꾸어 봅니다.\n",
        "\n",
        "* 'b', 'g', 'r', 'c', 'm', 'y', 'k', 'w'으로 컬러를 바꾸어 봅니다.\n",
        "* 이 이외에도 숫자로 지정할 수도 있으나 여기서는 간단히 위에 목록에 있는 것으로만 해봅니다.\n",
        "* 플롯을 하나로 뭉친 후 컬러를 줍니다.\n",
        "\n",
        "\t\tplt.plot(year,baechu, 'r', year, moo, 'g')\n",
        "\n",
        "* 배추는 red, 무우는 green으로 plot color가 변합니다.\n",
        "* 추가적인 컬러 정보는 여기서 확인하세요 \n",
        "[컬러정보](https://matplotlib.org/3.1.1/tutorials/colors/colors.html)\n",
        "\n",
        "        plt.xlabel('Year')\n",
        "        plt.ylabel('Price')\n",
        "        plt.xlim(2014,2020)\n",
        "        plt.ylim(0,5000)\n",
        "        baechu = [4000, 4200, 3800, 3700, 4100]\n",
        "        moo = [2300, 2400, 2200, 2300, 2400]\n",
        "        year = [2015, 2016, 2017, 2018, 2019]\n",
        "        plt.plot(year,baechu, 'r', year, moo, 'g')\n",
        "        plt.show"
      ]
    },
    {
      "cell_type": "code",
      "metadata": {
        "id": "Io_XKW0LnDma",
        "colab_type": "code",
        "colab": {
          "base_uri": "https://localhost:8080/",
          "height": 301
        },
        "outputId": "b5e3b5dc-b2d3-4f82-a5d3-5ce51e517090"
      },
      "source": [
        "import matplotlib.pyplot as plt\n",
        "\n",
        "plt.xlabel('Year')\n",
        "plt.ylabel('Price')\n",
        "plt.xlim(2014,2020)\n",
        "plt.ylim(0,5000)\n",
        "baechu = [4000, 4200, 3800, 3700, 4100]\n",
        "moo = [2300, 2400, 2200, 2300, 2400]\n",
        "year = [2015, 2016, 2017, 2018, 2019]\n",
        "plt.plot(year,baechu, 'r', year, moo, 'g')\n",
        "plt.show"
      ],
      "execution_count": 8,
      "outputs": [
        {
          "output_type": "execute_result",
          "data": {
            "text/plain": [
              "<function matplotlib.pyplot.show>"
            ]
          },
          "metadata": {
            "tags": []
          },
          "execution_count": 8
        },
        {
          "output_type": "display_data",
          "data": {
            "image/png": "[encoded data removed]",
            "text/plain": [
              "<Figure size 432x288 with 1 Axes>"
            ]
          },
          "metadata": {
            "tags": []
          }
        }
      ]
    },
    {
      "cell_type": "markdown",
      "metadata": {
        "id": "MsP6iVmQnO1P",
        "colab_type": "text"
      },
      "source": [
        "## 라인 두께\n",
        "\n",
        "####이제 그래프의 라인의 두께를 설정해 줍니다\n",
        "\n",
        "* linewidth = 5.0 이런 식을 우측에 넣어 봅니다.\n",
        "\n",
        "\t\tplt.plot(year,baechu, 'r', year, moo, 'g', linewidth = 5.0)\n",
        "\n",
        "\n",
        "\n",
        "\n",
        "        plt.xlabel('Year')\n",
        "        plt.ylabel('Price')\n",
        "        plt.xlim(2014,2020)\n",
        "        plt.ylim(0,5000)\n",
        "        baechu = [4000, 4200, 3800, 3700, 4100]\n",
        "        moo = [2300, 2400, 2200, 2300, 2400]\n",
        "        year = [2015, 2016, 2017, 2018, 2019]\n",
        "        plt.plot(year,baechu, 'r', year, moo, 'g', linewidth = 5.0)\n",
        "        plt.show\n"
      ]
    },
    {
      "cell_type": "code",
      "metadata": {
        "id": "n1m5C4DjnS_o",
        "colab_type": "code",
        "colab": {
          "base_uri": "https://localhost:8080/",
          "height": 301
        },
        "outputId": "c81cf545-40b7-454a-a13b-bc76ce23eba0"
      },
      "source": [
        "import matplotlib.pyplot as plt\n",
        "\n",
        "plt.xlabel('Year')\n",
        "plt.ylabel('Price')\n",
        "plt.xlim(2014,2020)\n",
        "plt.ylim(0,5000)\n",
        "baechu = [4000, 4200, 3800, 3700, 4100]\n",
        "moo = [2300, 2400, 2200, 2300, 2400]\n",
        "year = [2015, 2016, 2017, 2018, 2019]\n",
        "plt.plot(year,baechu, 'r', year, moo, 'g', linewidth = 5.0)\n",
        "plt.show"
      ],
      "execution_count": 9,
      "outputs": [
        {
          "output_type": "execute_result",
          "data": {
            "text/plain": [
              "<function matplotlib.pyplot.show>"
            ]
          },
          "metadata": {
            "tags": []
          },
          "execution_count": 9
        },
        {
          "output_type": "display_data",
          "data": {
            "image/png": "[encoded data removed]",
            "text/plain": [
              "<Figure size 432x288 with 1 Axes>"
            ]
          },
          "metadata": {
            "tags": []
          }
        }
      ]
    },
    {
      "cell_type": "markdown",
      "metadata": {
        "id": "SQ_8teLBnhC-",
        "colab_type": "text"
      },
      "source": [
        "## 라인 스타일 바꾸기\n",
        "\n",
        "####이제 그래프의 라인의 스타일을 설정해 줍니다\n",
        "\n",
        "* linestyles = ['-', '--', '-.', ':']\n",
        "\n",
        "\t\tplt.plot(year,baechu, 'r', year, moo, 'g', linewidth = 5.0, linestyle = '--')\n",
        "\n",
        "* 추가적인 스타일 정보는 여기서 확인하세요  \n",
        "[Line Style](https://matplotlib.org/gallery/lines_bars_and_markers/line_styles_reference.html)\n",
        "\n",
        "\n",
        "\n",
        "\n",
        "        plt.xlabel('Year')\n",
        "        plt.ylabel('Price')\n",
        "        plt.xlim(2014,2020)\n",
        "        plt.ylim(0,5000)\n",
        "        baechu = [4000, 4200, 3800, 3700, 4100]\n",
        "        moo = [2300, 2400, 2200, 2300, 2400]\n",
        "        year = [2015, 2016, 2017, 2018, 2019]\n",
        "        plt.plot(year,baechu, 'r', year, moo, 'g', linewidth = 5.0, linestyle = '--')\n",
        "        plt.show\n"
      ]
    },
    {
      "cell_type": "code",
      "metadata": {
        "id": "zOQfTOQxnlvB",
        "colab_type": "code",
        "colab": {
          "base_uri": "https://localhost:8080/",
          "height": 301
        },
        "outputId": "9a4afb7d-00f7-49a8-b345-f8e01376d50f"
      },
      "source": [
        "import matplotlib.pyplot as plt\n",
        "\n",
        "plt.xlabel('Year')\n",
        "plt.ylabel('Price')\n",
        "plt.xlim(2014,2020)\n",
        "plt.ylim(0,5000)\n",
        "baechu = [4000, 4200, 3800, 3700, 4100]\n",
        "moo = [2300, 2400, 2200, 2300, 2400]\n",
        "year = [2015, 2016, 2017, 2018, 2019]\n",
        "plt.plot(year,baechu, 'r', year, moo, 'g', linewidth = 5.0, linestyle = '--')\n",
        "plt.show"
      ],
      "execution_count": 10,
      "outputs": [
        {
          "output_type": "execute_result",
          "data": {
            "text/plain": [
              "<function matplotlib.pyplot.show>"
            ]
          },
          "metadata": {
            "tags": []
          },
          "execution_count": 10
        },
        {
          "output_type": "display_data",
          "data": {
            "image/png": "[encoded data removed]",
            "text/plain": [
              "<Figure size 432x288 with 1 Axes>"
            ]
          },
          "metadata": {
            "tags": []
          }
        }
      ]
    }
  ]
}