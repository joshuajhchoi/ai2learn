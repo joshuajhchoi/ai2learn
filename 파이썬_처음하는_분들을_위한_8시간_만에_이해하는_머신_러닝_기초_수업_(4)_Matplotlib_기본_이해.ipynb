{
  "nbformat": 4,
  "nbformat_minor": 0,
  "metadata": {
    "colab": {
      "name": "파이썬 처음하는 분들을 위한 8시간 만에 이해하는 머신 러닝 기초 수업 (4) Matplotlib 기본 이해",
      "provenance": [],
      "collapsed_sections": [],
      "include_colab_link": true
    },
    "kernelspec": {
      "name": "python3",
      "display_name": "Python 3"
    }
  },
  "cells": [
    {
      "cell_type": "markdown",
      "metadata": {
        "id": "view-in-github",
        "colab_type": "text"
      },
      "source": [
        "<a href=\"https://colab.research.google.com/github/joshuajhchoi/ai2learn/blob/master/%ED%8C%8C%EC%9D%B4%EC%8D%AC_%EC%B2%98%EC%9D%8C%ED%95%98%EB%8A%94_%EB%B6%84%EB%93%A4%EC%9D%84_%EC%9C%84%ED%95%9C_8%EC%8B%9C%EA%B0%84_%EB%A7%8C%EC%97%90_%EC%9D%B4%ED%95%B4%ED%95%98%EB%8A%94_%EB%A8%B8%EC%8B%A0_%EB%9F%AC%EB%8B%9D_%EA%B8%B0%EC%B4%88_%EC%88%98%EC%97%85_(4)_Matplotlib_%EA%B8%B0%EB%B3%B8_%EC%9D%B4%ED%95%B4.ipynb\" target=\"_parent\"><img src=\"https://colab.research.google.com/assets/colab-badge.svg\" alt=\"Open In Colab\"/></a>"
      ]
    },
    {
      "cell_type": "markdown",
      "metadata": {
        "id": "xLy7xh2HkH_N",
        "colab_type": "text"
      },
      "source": [
        "목차\n",
        "\n",
        "1. 파이썬 기초 문법 이해하기 (2시간 15분)     # 6시간 버전 - 1.5 시간\n",
        "2. 주피터노트북 및 Colab 이해 (15분)          # 6시간 버전에서는 생략\n",
        "3. NumPy 기본 (30분)\n",
        "\n",
        "###4. Matplotlib 기본 이해 (30분)\n",
        "5. Seaborn 기본 이해 (30분)\n",
        "6. 통계 필요사항 기본 이해 (30분)             # 6시간 버전에서는 생략\n",
        "7. Pandas 기본 이해 (30분)\n",
        "8. ScikitLearn 기본 이해 (30분)\n",
        "9. 머신러닝 알고리즘 개요 이해 (30분)         # 6시간 버전에서는 생략\n",
        "10. Kaggle Titanic 입문하기 (2시간)"
      ]
    },
    {
      "cell_type": "markdown",
      "metadata": {
        "id": "_62bKJo4kNVk",
        "colab_type": "text"
      },
      "source": [
        "##Matplotlib\n",
        "Matplotlib는 Python 2D 플로팅 라이브러리입니다. Matplotlib은 Python 스크립트, Python 및 IPython 쉘, Jupyter 노트북 등에서 사용할 수 있습니다.\n"
      ]
    },
    {
      "cell_type": "markdown",
      "metadata": {
        "id": "4WgaNfhHlD1x",
        "colab_type": "text"
      },
      "source": [
        "## 개요\n",
        "이 강의는 비프로그래머 출신이 파이썬 기초를 배운 후 Matplotlib을 처음 접했을 때 가장 기본적으로 알아야 할 것을 20분  - 1시간에 간단히 설명하는 과정으로\n",
        "전문 프로그래머이시거나 또는 좀 더 심화 학습을 하시고 싶으신 분들은 이 과정보다는 좀 더 advanced한 것을 들으셔야 합니다.\n",
        "\n",
        "하지만, 머신러닝을 배우기 위해 파이썬 기초를 배우시고 NumPy 한번 훓어보고, 이제 최소한의 Matplotlib만 알고 지나가시려는 분들에게는 \n",
        "최소한으로 알아야 하는 수준을 제공하므로 빠르고 유용한 강좌가 될 수도 있습니다."
      ]
    },
    {
      "cell_type": "markdown",
      "metadata": {
        "id": "EVU8jYPPlUyW",
        "colab_type": "text"
      },
      "source": [
        "## 시작 & 설치\n",
        "\n",
        "####무엇이든지 시작이 반입니다.\n",
        "\n",
        "일단 시작하고 봅니다.\n",
        "\n",
        "####아시다시피 Python 이 설치 되어 있어야 하며, 당연히 주피터 노트북이 설치 되어 있어야 합니다.\n",
        "\n",
        "여기서는 특별한 설치 없이 연습할 수 있습니다."
      ]
    },
    {
      "cell_type": "markdown",
      "metadata": {
        "id": "YboBKJP_lXEc",
        "colab_type": "text"
      },
      "source": [
        "## Task 1 - import하기\n",
        "\n",
        "####matplotlib.pyplotlib을 plt로써 임포트 합니다\n",
        "\n",
        "* %matplotlib inline은 그래프를 보기 위한 명령어라 생각하시면 됩니다. "
      ]
    },
    {
      "cell_type": "code",
      "metadata": {
        "id": "YBwOmBvulb2n",
        "colab_type": "code",
        "colab": {}
      },
      "source": [
        "import numpy as np\n",
        "import matplotlib.pyplot as plt\n",
        "%matplotlib inline"
      ],
      "execution_count": 0,
      "outputs": []
    },
    {
      "cell_type": "markdown",
      "metadata": {
        "id": "ISw1CD20llor",
        "colab_type": "text"
      },
      "source": [
        "## Task 2 - 데이터 넣기\n",
        "\n",
        "\n",
        "####여기서는 대단한 것을 할 것이 아니라 원리만 배우니까 간단한 것으로 해 보겠습니다.\n",
        "\n",
        "* 기간을 2015, 2016, 2017, 2018, 2019로 하고\n",
        "* 배추 값이  4000, 4200, 3800, 3700, 4100 이었다고 가정해서 넣습니다.\n",
        "* 무우 값이  같은 기간에 2300, 2400, 2200, 2300, 2400 이었다고 하고 만들어 보겠습니다.\n",
        "* 이를 리스트로 만들어 보죠"
      ]
    },
    {
      "cell_type": "code",
      "metadata": {
        "id": "nAZ93ftPlvdZ",
        "colab_type": "code",
        "colab": {}
      },
      "source": [
        "baechu = [4000, 4200, 3800, 3700, 4100]\n",
        "moo = [2300, 2400, 2200, 2300, 2400]\n",
        "year = [2015, 2016, 2017, 2018, 2019]"
      ],
      "execution_count": 0,
      "outputs": []
    },
    {
      "cell_type": "markdown",
      "metadata": {
        "id": "ywJDL6dMl3oH",
        "colab_type": "text"
      },
      "source": [
        "## Task 3 - 축 만들고 라벨 넣기\n",
        "\n",
        "####우선 양 축을 만들어 보죠"
      ]
    },
    {
      "cell_type": "code",
      "metadata": {
        "id": "jV1jz6j6l5ZE",
        "colab_type": "code",
        "outputId": "cf5234f9-30b9-474c-8cde-0eb1d014dcf0",
        "colab": {
          "base_uri": "https://localhost:8080/",
          "height": 301
        }
      },
      "source": [
        "plt.xlabel('Year')\n",
        "plt.ylabel('Price')\n",
        "plt.show"
      ],
      "execution_count": 22,
      "outputs": [
        {
          "output_type": "execute_result",
          "data": {
            "text/plain": [
              "<function matplotlib.pyplot.show>"
            ]
          },
          "metadata": {
            "tags": []
          },
          "execution_count": 22
        },
        {
          "output_type": "display_data",
          "data": {
            "image/png": "[encoded data removed]",
            "text/plain": [
              "<Figure size 432x288 with 1 Axes>"
            ]
          },
          "metadata": {
            "tags": []
          }
        }
      ]
    },
    {
      "cell_type": "markdown",
      "metadata": {
        "id": "KmNv_0s2mI2H",
        "colab_type": "text"
      },
      "source": [
        "####축이 0부터 1까지네요. 확장해 보도록 하겠습니다.\n",
        "* x축은 2014부터 2020까지\n",
        "* y축은 0원부터 5천원까지로 만들어 보겠습니다."
      ]
    },
    {
      "cell_type": "code",
      "metadata": {
        "id": "bEfwYblVmKXJ",
        "colab_type": "code",
        "outputId": "c53b96fc-b0c8-456d-f74e-099074f79aaa",
        "colab": {
          "base_uri": "https://localhost:8080/",
          "height": 301
        }
      },
      "source": [
        "plt.xlabel('Year')\n",
        "plt.ylabel('Price')\n",
        "plt.xlim(2014,2020)\n",
        "plt.ylim(0,5000)\n",
        "plt.show"
      ],
      "execution_count": 23,
      "outputs": [
        {
          "output_type": "execute_result",
          "data": {
            "text/plain": [
              "<function matplotlib.pyplot.show>"
            ]
          },
          "metadata": {
            "tags": []
          },
          "execution_count": 23
        },
        {
          "output_type": "display_data",
          "data": {
            "image/png": "[encoded data removed]",
            "text/plain": [
              "<Figure size 432x288 with 1 Axes>"
            ]
          },
          "metadata": {
            "tags": []
          }
        }
      ]
    },
    {
      "cell_type": "markdown",
      "metadata": {
        "id": "QTb9je2mmXpX",
        "colab_type": "text"
      },
      "source": [
        "## Task - Line Plot 만들기\n",
        "\n",
        "*배추 무우 값을 넣어서 출력해 봅니다.\n",
        "\n",
        "####플롯 출력"
      ]
    },
    {
      "cell_type": "code",
      "metadata": {
        "id": "v78IIDHKmY73",
        "colab_type": "code",
        "outputId": "a3bb942f-570a-40ce-f0a4-2f2b11984c55",
        "colab": {
          "base_uri": "https://localhost:8080/",
          "height": 301
        }
      },
      "source": [
        "plt.xlabel('Year')\n",
        "plt.ylabel('Price')\n",
        "plt.xlim(2014,2020)\n",
        "plt.ylim(0,5000)\n",
        "baechu = [4000, 4200, 3800, 3700, 4100]\n",
        "moo = [2300, 2400, 2200, 2300, 2400]\n",
        "year = [2015, 2016, 2017, 2018, 2019]\n",
        "plt.plot(year,baechu)\n",
        "plt.plot(year,moo)\n",
        "plt.show"
      ],
      "execution_count": 5,
      "outputs": [
        {
          "output_type": "execute_result",
          "data": {
            "text/plain": [
              "<function matplotlib.pyplot.show>"
            ]
          },
          "metadata": {
            "tags": []
          },
          "execution_count": 5
        },
        {
          "output_type": "display_data",
          "data": {
            "image/png": "[encoded data removed]",
            "text/plain": [
              "<Figure size 432x288 with 1 Axes>"
            ]
          },
          "metadata": {
            "tags": []
          }
        }
      ]
    },
    {
      "cell_type": "markdown",
      "metadata": {
        "id": "LGDQcrFWmqv-",
        "colab_type": "text"
      },
      "source": [
        "## Task 5 - Scattered Chart 만들기\n",
        "\n",
        "#### 라인차트를 해보았으니 scattered chart로 만들어 보겠습니다.\n",
        "\n",
        "* plot 대신에 scatter를 넣습니다.\n",
        "\n",
        "\t\tplt.scatter(year,baechu)\n",
        "\t\tplt.scatter(year,moo)\n",
        "\t\tplt.show"
      ]
    },
    {
      "cell_type": "code",
      "metadata": {
        "id": "t1ZKo49kmye-",
        "colab_type": "code",
        "outputId": "796a4f03-5987-449e-e6f9-e861ffdafa0d",
        "colab": {
          "base_uri": "https://localhost:8080/",
          "height": 301
        }
      },
      "source": [
        "import matplotlib.pyplot as plt\n",
        "\n",
        "plt.xlabel('Year')\n",
        "plt.ylabel('Price')\n",
        "plt.xlim(2014,2020)\n",
        "plt.ylim(0,5000)\n",
        "baechu = [4000, 4200, 3800, 3700, 4100]\n",
        "moo = [2300, 2400, 2200, 2300, 2400]\n",
        "year = [2015, 2016, 2017, 2018, 2019]\n",
        "plt.scatter(year,baechu)\n",
        "plt.scatter(year,moo)\n",
        "plt.show"
      ],
      "execution_count": 6,
      "outputs": [
        {
          "output_type": "execute_result",
          "data": {
            "text/plain": [
              "<function matplotlib.pyplot.show>"
            ]
          },
          "metadata": {
            "tags": []
          },
          "execution_count": 6
        },
        {
          "output_type": "display_data",
          "data": {
            "image/png": "[encoded data removed]",
            "text/plain": [
              "<Figure size 432x288 with 1 Axes>"
            ]
          },
          "metadata": {
            "tags": []
          }
        }
      ]
    },
    {
      "cell_type": "markdown",
      "metadata": {
        "id": "-vE1Sqj4m9ew",
        "colab_type": "text"
      },
      "source": [
        "## Task 6 - 색깔 바꾸기\n",
        "\n",
        "####plot인 상태에서 색깔을 바꾸어 봅니다.\n",
        "\n",
        "* 'b', 'g', 'r', 'c', 'm', 'y', 'k', 'w'으로 컬러를 바꾸어 봅니다.\n",
        "* 이 이외에도 숫자로 지정할 수도 있으나 여기서는 간단히 위에 목록에 있는 것으로만 해봅니다.\n",
        "* 플롯을 하나로 뭉친 후 컬러를 줍니다.\n",
        "\n",
        "\t\tplt.plot(year,baechu, 'r', year, moo, 'g')\n",
        "\n",
        "* 배추는 red, 무우는 green으로 plot color가 변합니다.\n",
        "* 추가적인 컬러 정보는 여기서 확인하세요 \n",
        "[컬러정보](https://matplotlib.org/3.1.1/tutorials/colors/colors.html)\n",
        "\n",
        "        plt.xlabel('Year')\n",
        "        plt.ylabel('Price')\n",
        "        plt.xlim(2014,2020)\n",
        "        plt.ylim(0,5000)\n",
        "        baechu = [4000, 4200, 3800, 3700, 4100]\n",
        "        moo = [2300, 2400, 2200, 2300, 2400]\n",
        "        year = [2015, 2016, 2017, 2018, 2019]\n",
        "        plt.plot(year,baechu, 'r', year, moo, 'g')\n",
        "        plt.show"
      ]
    },
    {
      "cell_type": "code",
      "metadata": {
        "id": "Io_XKW0LnDma",
        "colab_type": "code",
        "outputId": "dba32afd-2c26-4112-bf14-5d76a8aa257d",
        "colab": {
          "base_uri": "https://localhost:8080/",
          "height": 301
        }
      },
      "source": [
        "import matplotlib.pyplot as plt\n",
        "\n",
        "plt.xlabel('Year')\n",
        "plt.ylabel('Price')\n",
        "plt.xlim(2014,2020)\n",
        "plt.ylim(0,5000)\n",
        "baechu = [4000, 4200, 3800, 3700, 4100]\n",
        "moo = [2300, 2400, 2200, 2300, 2400]\n",
        "year = [2015, 2016, 2017, 2018, 2019]\n",
        "plt.plot(year,baechu, 'r', year, moo, 'g')\n",
        "plt.show"
      ],
      "execution_count": 7,
      "outputs": [
        {
          "output_type": "execute_result",
          "data": {
            "text/plain": [
              "<function matplotlib.pyplot.show>"
            ]
          },
          "metadata": {
            "tags": []
          },
          "execution_count": 7
        },
        {
          "output_type": "display_data",
          "data": {
            "image/png": "[encoded data removed]",
            "text/plain": [
              "<Figure size 432x288 with 1 Axes>"
            ]
          },
          "metadata": {
            "tags": []
          }
        }
      ]
    },
    {
      "cell_type": "markdown",
      "metadata": {
        "id": "MsP6iVmQnO1P",
        "colab_type": "text"
      },
      "source": [
        "## Task 7 - 라인 두께 바꾸기\n",
        "\n",
        "####이제 그래프의 라인의 두께를 설정해 줍니다\n",
        "\n",
        "* linewidth = 5.0 이런 식을 우측에 넣어 봅니다.\n",
        "\n",
        "\t\tplt.plot(year,baechu, 'r', year, moo, 'g', linewidth = 5.0)\n",
        "\n",
        "\n",
        "\n",
        "\n",
        "        plt.xlabel('Year')\n",
        "        plt.ylabel('Price')\n",
        "        plt.xlim(2014,2020)\n",
        "        plt.ylim(0,5000)\n",
        "        baechu = [4000, 4200, 3800, 3700, 4100]\n",
        "        moo = [2300, 2400, 2200, 2300, 2400]\n",
        "        year = [2015, 2016, 2017, 2018, 2019]\n",
        "        plt.plot(year,baechu, 'r', year, moo, 'g', linewidth = 5.0)\n",
        "        plt.show\n"
      ]
    },
    {
      "cell_type": "code",
      "metadata": {
        "id": "n1m5C4DjnS_o",
        "colab_type": "code",
        "outputId": "38df244d-40a2-4dd3-8f12-d88c2cc74323",
        "colab": {
          "base_uri": "https://localhost:8080/",
          "height": 301
        }
      },
      "source": [
        "import matplotlib.pyplot as plt\n",
        "\n",
        "plt.xlabel('Year')\n",
        "plt.ylabel('Price')\n",
        "plt.xlim(2014,2020)\n",
        "plt.ylim(0,5000)\n",
        "baechu = [4000, 4200, 3800, 3700, 4100]\n",
        "moo = [2300, 2400, 2200, 2300, 2400]\n",
        "year = [2015, 2016, 2017, 2018, 2019]\n",
        "plt.plot(year,baechu, 'r', year, moo, 'g', linewidth = 5.0)\n",
        "plt.show"
      ],
      "execution_count": 8,
      "outputs": [
        {
          "output_type": "execute_result",
          "data": {
            "text/plain": [
              "<function matplotlib.pyplot.show>"
            ]
          },
          "metadata": {
            "tags": []
          },
          "execution_count": 8
        },
        {
          "output_type": "display_data",
          "data": {
            "image/png": "[encoded data removed]",
            "text/plain": [
              "<Figure size 432x288 with 1 Axes>"
            ]
          },
          "metadata": {
            "tags": []
          }
        }
      ]
    },
    {
      "cell_type": "markdown",
      "metadata": {
        "id": "SQ_8teLBnhC-",
        "colab_type": "text"
      },
      "source": [
        "## Task 8 - 라인 스타일 바꾸기\n",
        "\n",
        "####이제 그래프의 라인의 스타일을 설정해 줍니다\n",
        "\n",
        "* linestyles = ['-', '--', '-.', ':']\n",
        "\n",
        "\t\tplt.plot(year,baechu, 'r', year, moo, 'g', linewidth = 5.0, linestyle = '--')\n",
        "\n",
        "* 추가적인 스타일 정보는 여기서 확인하세요  \n",
        "[Line Style](https://matplotlib.org/gallery/lines_bars_and_markers/line_styles_reference.html)\n",
        "\n",
        "\n",
        "\n",
        "\n",
        "        plt.xlabel('Year')\n",
        "        plt.ylabel('Price')\n",
        "        plt.xlim(2014,2020)\n",
        "        plt.ylim(0,5000)\n",
        "        baechu = [4000, 4200, 3800, 3700, 4100]\n",
        "        moo = [2300, 2400, 2200, 2300, 2400]\n",
        "        year = [2015, 2016, 2017, 2018, 2019]\n",
        "        plt.plot(year,baechu, 'r', year, moo, 'g', linewidth = 5.0, linestyle = '--')\n",
        "        plt.show\n"
      ]
    },
    {
      "cell_type": "code",
      "metadata": {
        "id": "zOQfTOQxnlvB",
        "colab_type": "code",
        "outputId": "dff82133-b111-4370-e599-9aec8967e195",
        "colab": {
          "base_uri": "https://localhost:8080/",
          "height": 301
        }
      },
      "source": [
        "import matplotlib.pyplot as plt\n",
        "\n",
        "plt.xlabel('Year')\n",
        "plt.ylabel('Price')\n",
        "plt.xlim(2014,2020)\n",
        "plt.ylim(0,5000)\n",
        "baechu = [4000, 4200, 3800, 3700, 4100]\n",
        "moo = [2300, 2400, 2200, 2300, 2400]\n",
        "year = [2015, 2016, 2017, 2018, 2019]\n",
        "plt.plot(year,baechu, 'r', year, moo, 'g', linewidth = 5.0, linestyle = '--')\n",
        "plt.show"
      ],
      "execution_count": 9,
      "outputs": [
        {
          "output_type": "execute_result",
          "data": {
            "text/plain": [
              "<function matplotlib.pyplot.show>"
            ]
          },
          "metadata": {
            "tags": []
          },
          "execution_count": 9
        },
        {
          "output_type": "display_data",
          "data": {
            "image/png": "[encoded data removed]",
            "text/plain": [
              "<Figure size 432x288 with 1 Axes>"
            ]
          },
          "metadata": {
            "tags": []
          }
        }
      ]
    },
    {
      "cell_type": "markdown",
      "metadata": {
        "id": "iYMhkhouecSg",
        "colab_type": "text"
      },
      "source": [
        "## Task 9 -  Subplot 만들어 보기"
      ]
    },
    {
      "cell_type": "markdown",
      "metadata": {
        "id": "nzKRgR9penOP",
        "colab_type": "text"
      },
      "source": [
        "* Matplotlib에서 \n",
        "figure는 그림을 그리는 캔바스라 생각하시고 \n",
        "plt.subplot은 이를 구분해서 나누는 것이라 생각하시면 됩니다.\n",
        "plt.subplots(1,2,figsize=(12,6))이라고 되어 있다면\n",
        "아래 서브 플롯을 1행 2열, 즉 2개 그리는 것이고 전체 사이즈는 12인치 * 6인치라고 생각하시면 됩니다. \n",
        "3X3으로 9개를 그린다면 위의 1,2 대신 3,3,을 넣으면 되겠지요\n",
        "\n",
        "* figure안에 axes로 그림 그리는 공간을 만들고 \n",
        "axix (축)에 y와 x축을 넣으면 됩니다."
      ]
    },
    {
      "cell_type": "markdown",
      "metadata": {
        "id": "UGdZpu-dIa7X",
        "colab_type": "text"
      },
      "source": [
        "* subplot의 문법을 보겠습니다.\n",
        "\n",
        "      axes = plt.subplots(행수, 열수, figsize=(너비인치, 높이인치))\n",
        "     "
      ]
    },
    {
      "cell_type": "code",
      "metadata": {
        "id": "GQuiWLCIIZoK",
        "colab_type": "code",
        "colab": {
          "base_uri": "https://localhost:8080/",
          "height": 378
        },
        "outputId": "142cce57-b34c-435c-9464-465f0a028357"
      },
      "source": [
        "axes = plt.subplots(1,2, figsize=(12,6))"
      ],
      "execution_count": 15,
      "outputs": [
        {
          "output_type": "display_data",
          "data": {
            "image/png": "[encoded data removed]",
            "text/plain": [
              "<Figure size 864x432 with 2 Axes>"
            ]
          },
          "metadata": {
            "tags": []
          }
        }
      ]
    },
    {
      "cell_type": "markdown",
      "metadata": {
        "id": "8-Sga_iMKjxw",
        "colab_type": "text"
      },
      "source": [
        "* 위와 같이 가로 2열, 세로 1행인 서브 플롯이 만들어졌다.\n",
        "* 2 X 2 로 만들어 보자"
      ]
    },
    {
      "cell_type": "code",
      "metadata": {
        "id": "va_Z5izOK2HL",
        "colab_type": "code",
        "colab": {
          "base_uri": "https://localhost:8080/",
          "height": 378
        },
        "outputId": "d2313774-6de1-4800-e436-148653b3b677"
      },
      "source": [
        "ax = plt.subplots(2,2, figsize=(12,6))"
      ],
      "execution_count": 17,
      "outputs": [
        {
          "output_type": "display_data",
          "data": {
            "image/png": "[encoded data removed]",
            "text/plain": [
              "<Figure size 864x432 with 4 Axes>"
            ]
          },
          "metadata": {
            "tags": []
          }
        }
      ]
    },
    {
      "cell_type": "markdown",
      "metadata": {
        "id": "hse0z3PlLECX",
        "colab_type": "text"
      },
      "source": [
        "* 위와 같이 4개가 생성되어 있음을 볼 수 있습니다.\n",
        "\n",
        "*인덱싱 위치는\n",
        "\n",
        "      0,0      0,1\n",
        "      \n",
        "      1,0      1,1 \n",
        "\n",
        "라는 것을 아실 수 있을 것입니다.\n",
        "\n",
        "*아래와 같이 subplot을 생성할 수도 있습니다."
      ]
    },
    {
      "cell_type": "code",
      "metadata": {
        "id": "AjTOE-zpRObB",
        "colab_type": "code",
        "colab": {
          "base_uri": "https://localhost:8080/",
          "height": 378
        },
        "outputId": "a7c43a41-a9e3-4fb6-8478-6c42e07ec7f7"
      },
      "source": [
        "fig1 = plt.figure(1, figsize=(12,6))\n",
        "sub1 = fig1.add_subplot(121)    # 121은 1행 2열의 1번째를 나타내며\n",
        "sub2 = fig1.add_subplot(122)    # 122는 1행 2열의 2번째를 나타낸다."
      ],
      "execution_count": 28,
      "outputs": [
        {
          "output_type": "display_data",
          "data": {
            "image/png": "[encoded data removed]",
            "text/plain": [
              "<Figure size 864x432 with 2 Axes>"
            ]
          },
          "metadata": {
            "tags": []
          }
        }
      ]
    },
    {
      "cell_type": "markdown",
      "metadata": {
        "id": "WIMRtb1gS2Wa",
        "colab_type": "text"
      },
      "source": [
        "* 여기에 내용을 넣어 본다."
      ]
    },
    {
      "cell_type": "code",
      "metadata": {
        "id": "Vgt4SuZaS5_j",
        "colab_type": "code",
        "colab": {
          "base_uri": "https://localhost:8080/",
          "height": 392
        },
        "outputId": "bd1f43b7-918a-4d8b-cb60-98a74657dcbb"
      },
      "source": [
        "fig1 = plt.figure(1, figsize=(12,6))\n",
        "sub1 = fig1.add_subplot(121)    \n",
        "sub2 = fig1.add_subplot(122)   \n",
        "\n",
        "sub1.plot(year, baechu)\n",
        "sub2.plot(year,moo)"
      ],
      "execution_count": 30,
      "outputs": [
        {
          "output_type": "execute_result",
          "data": {
            "text/plain": [
              "[<matplotlib.lines.Line2D at 0x7f8989b19748>]"
            ]
          },
          "metadata": {
            "tags": []
          },
          "execution_count": 30
        },
        {
          "output_type": "display_data",
          "data": {
            "image/png": "[encoded data removed]",
            "text/plain": [
              "<Figure size 864x432 with 2 Axes>"
            ]
          },
          "metadata": {
            "tags": []
          }
        }
      ]
    },
    {
      "cell_type": "markdown",
      "metadata": {
        "id": "wNoTdS-VUP3_",
        "colab_type": "text"
      },
      "source": [
        "* x축 연도 모양이 다르니 다시 손을 보겠습니다.\n",
        "* Tick 을 찾고 포맷하는데 필요 모듈을 임포트 합니다."
      ]
    },
    {
      "cell_type": "code",
      "metadata": {
        "id": "Z60_p6FeUYt1",
        "colab_type": "code",
        "colab": {}
      },
      "source": [
        "from matplotlib.ticker import MaxNLocator"
      ],
      "execution_count": 0,
      "outputs": []
    },
    {
      "cell_type": "code",
      "metadata": {
        "id": "H_enIJKIVH0Q",
        "colab_type": "code",
        "colab": {
          "base_uri": "https://localhost:8080/",
          "height": 374
        },
        "outputId": "62d25c3d-c987-4491-e373-7c7f1e75ae5d"
      },
      "source": [
        "fig1 = plt.figure(1, figsize=(12,6))\n",
        "\n",
        "\n",
        "sub1 = fig1.add_subplot(121)    \n",
        "sub2 = fig1.add_subplot(122)   \n",
        "\n",
        "sub1.plot(year, baechu)\n",
        "sub1.xaxis.set_major_locator(MaxNLocator(integer=True))\n",
        "\n",
        "\n",
        "sub2.plot(year,moo)\n",
        "sub2.xaxis.set_major_locator(MaxNLocator(integer=True))\n"
      ],
      "execution_count": 43,
      "outputs": [
        {
          "output_type": "display_data",
          "data": {
            "image/png": "[encoded data removed]",
            "text/plain": [
              "<Figure size 864x432 with 2 Axes>"
            ]
          },
          "metadata": {
            "tags": []
          }
        }
      ]
    },
    {
      "cell_type": "markdown",
      "metadata": {
        "id": "fGkSNzmcXmPS",
        "colab_type": "text"
      },
      "source": [
        "* 그래도 가장 많이 쓰이는 방법은 다음과 같습니다.\n",
        "\n",
        "figure이름 (일반적으로 f 정도만 씀), axes(일반적으로 ax 정도만 씀) = plt.subplots(행수, 열수, figsize = (가로인치, 세로인치)\n",
        "\n",
        "* 아래 예를 보시지요\n",
        "\n"
      ]
    },
    {
      "cell_type": "code",
      "metadata": {
        "id": "oHiw3RbcZB1h",
        "colab_type": "code",
        "colab": {
          "base_uri": "https://localhost:8080/",
          "height": 378
        },
        "outputId": "37099a52-acb3-4b37-d07d-6a92220bfca8"
      },
      "source": [
        "f,ax=plt.subplots(1,2,figsize=(12,6)) "
      ],
      "execution_count": 47,
      "outputs": [
        {
          "output_type": "display_data",
          "data": {
            "image/png": "[encoded data removed]",
            "text/plain": [
              "<Figure size 864x432 with 2 Axes>"
            ]
          },
          "metadata": {
            "tags": []
          }
        }
      ]
    },
    {
      "cell_type": "markdown",
      "metadata": {
        "id": "TydW3PZ_Z7qi",
        "colab_type": "text"
      },
      "source": [
        "## Task 10 - Subplot에 Title 넣기 등"
      ]
    },
    {
      "cell_type": "markdown",
      "metadata": {
        "id": "OioMKpxibBfG",
        "colab_type": "text"
      },
      "source": [
        "* 아래와 같이 서브플롯에 타이틀, x,y라벨, x,y 수치를 넣고 본 수치를 넣는다."
      ]
    },
    {
      "cell_type": "code",
      "metadata": {
        "id": "v_sNSn7haLps",
        "colab_type": "code",
        "colab": {
          "base_uri": "https://localhost:8080/",
          "height": 422
        },
        "outputId": "331c89ca-836f-41b5-d8df-c19cb898ce90"
      },
      "source": [
        "f,ax=plt.subplots(1,2,figsize=(12,6)) \n",
        "ax[0].set_title('Baechu Price')\n",
        "ax[1].set_title('Moo Price')\n",
        "\n",
        "ax[0].set_ylabel('Price') \n",
        "ax[0].set_xlabel('Year') \n",
        "\n",
        "ax[1].set_ylabel('Price') \n",
        "ax[1].set_xlabel('Year')\n",
        "\n",
        "ax[0].set_xlim(2014,2020) \n",
        "ax[0].set_ylim(0,5000) \n",
        "\n",
        "ax[1].set_xlim(2014,2020) \n",
        "ax[1].set_ylim(0,5000) \n",
        "\n",
        "ax[0].scatter(year, baechu) \n",
        "ax[1].scatter(year, moo) "
      ],
      "execution_count": 50,
      "outputs": [
        {
          "output_type": "execute_result",
          "data": {
            "text/plain": [
              "<matplotlib.collections.PathCollection at 0x7f898921cba8>"
            ]
          },
          "metadata": {
            "tags": []
          },
          "execution_count": 50
        },
        {
          "output_type": "display_data",
          "data": {
            "image/png": "[encoded data removed]",
            "text/plain": [
              "<Figure size 864x432 with 2 Axes>"
            ]
          },
          "metadata": {
            "tags": []
          }
        }
      ]
    },
    {
      "cell_type": "markdown",
      "metadata": {
        "id": "OFQYeOFpb6QC",
        "colab_type": "text"
      },
      "source": [
        "* 이와 같이 여러 종류의 플롯을 matplotlib을 통해서 만들 수 있으며, 더 많은 것이 있으나 실제로 더 좋은 차트들을 seaborn을 통해서 할 수 있으므로 여기서 기본적인 교육으로 끝내고 seaborn으로 가는 것이 나을 듯 하다.  "
      ]
    }
  ]
}