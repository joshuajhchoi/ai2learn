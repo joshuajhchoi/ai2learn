{
  "nbformat": 4,
  "nbformat_minor": 0,
  "metadata": {
    "colab": {
      "name": "Python Basics 2021.ipynb",
      "provenance": [],
      "collapsed_sections": [
        "xL4bMyzdNDZG",
        "GrP2nyduTf00",
        "WcTTQhn2YnvR",
        "al943m_uCHBj",
        "v2tKS_WYaXUf",
        "2uHilWfNqUV8"
      ],
      "authorship_tag": "ABX9TyPU8g3przJddUlUyGtBOZNQ",
      "include_colab_link": true
    },
    "kernelspec": {
      "name": "python3",
      "display_name": "Python 3"
    }
  },
  "cells": [
    {
      "cell_type": "markdown",
      "metadata": {
        "id": "view-in-github",
        "colab_type": "text"
      },
      "source": [
        "<a href=\"https://colab.research.google.com/github/joshuajhchoi/ai2learn/blob/master/Python_Basics_2021.ipynb\" target=\"_parent\"><img src=\"https://colab.research.google.com/assets/colab-badge.svg\" alt=\"Open In Colab\"/></a>"
      ]
    },
    {
      "cell_type": "markdown",
      "metadata": {
        "id": "UH6ZwBMIiN-x"
      },
      "source": [
        "##Lesson 1. Print Statement"
      ]
    },
    {
      "cell_type": "markdown",
      "metadata": {
        "id": "EKp_NyO8inyK"
      },
      "source": [
        "### Syntax"
      ]
    },
    {
      "cell_type": "code",
      "metadata": {
        "colab": {
          "base_uri": "https://localhost:8080/",
          "height": 35
        },
        "id": "L8L9KOu0iCf5",
        "outputId": "2cba0e0d-394c-4622-f577-2fcc676c5931"
      },
      "source": [
        "\"Hello World\""
      ],
      "execution_count": null,
      "outputs": [
        {
          "output_type": "execute_result",
          "data": {
            "application/vnd.google.colaboratory.intrinsic+json": {
              "type": "string"
            },
            "text/plain": [
              "'Hello World'"
            ]
          },
          "metadata": {
            "tags": []
          },
          "execution_count": 15
        }
      ]
    },
    {
      "cell_type": "code",
      "metadata": {
        "colab": {
          "base_uri": "https://localhost:8080/"
        },
        "id": "4kLAY-uE7yl6",
        "outputId": "d483431f-b6ff-47a1-aced-e40089470daf"
      },
      "source": [
        "# Syntax\n",
        "print  (\"Hello Python!\")"
      ],
      "execution_count": null,
      "outputs": [
        {
          "output_type": "stream",
          "text": [
            "Hello Python!\n"
          ],
          "name": "stdout"
        }
      ]
    },
    {
      "cell_type": "code",
      "metadata": {
        "colab": {
          "base_uri": "https://localhost:8080/"
        },
        "id": "qhQ4cQcRcEZc",
        "outputId": "3ee48eeb-4c8e-4b26-eef4-58ce57f278ce"
      },
      "source": [
        "# \"#\" -> This line is not a code line\n",
        "print(\"Hello Python!\")"
      ],
      "execution_count": null,
      "outputs": [
        {
          "output_type": "stream",
          "text": [
            "Hello Python!\n"
          ],
          "name": "stdout"
        }
      ]
    },
    {
      "cell_type": "code",
      "metadata": {
        "id": "M4Llx5X1dE-1"
      },
      "source": [
        "# Printing numbers "
      ],
      "execution_count": null,
      "outputs": []
    },
    {
      "cell_type": "code",
      "metadata": {
        "colab": {
          "base_uri": "https://localhost:8080/"
        },
        "id": "XwfX1a6-dU9X",
        "outputId": "b99c3797-30fb-426c-f0bc-27a343d357dc"
      },
      "source": [
        "print(3)"
      ],
      "execution_count": null,
      "outputs": [
        {
          "output_type": "stream",
          "text": [
            "3\n"
          ],
          "name": "stdout"
        }
      ]
    },
    {
      "cell_type": "code",
      "metadata": {
        "colab": {
          "base_uri": "https://localhost:8080/"
        },
        "id": "qO0iNmhPdsCW",
        "outputId": "431c07f5-c05f-4c94-e9d4-76520fa09d4b"
      },
      "source": [
        "print(\"3\")"
      ],
      "execution_count": null,
      "outputs": [
        {
          "output_type": "stream",
          "text": [
            "3\n"
          ],
          "name": "stdout"
        }
      ]
    },
    {
      "cell_type": "code",
      "metadata": {
        "colab": {
          "base_uri": "https://localhost:8080/"
        },
        "id": "ZiaUB52xeRrG",
        "outputId": "b17cde52-5dd5-4150-e208-4b00f244711a"
      },
      "source": [
        "print (3+3)\n",
        "print ('3'+'3')"
      ],
      "execution_count": null,
      "outputs": [
        {
          "output_type": "stream",
          "text": [
            "6\n",
            "33\n"
          ],
          "name": "stdout"
        }
      ]
    },
    {
      "cell_type": "code",
      "metadata": {
        "colab": {
          "base_uri": "https://localhost:8080/"
        },
        "id": "qIlynPFxXSUQ",
        "outputId": "dc962596-c4ce-4239-ae35-114f050c2faf"
      },
      "source": [
        "# Printing multiple lines\n",
        "\n",
        "# These do not look efficient\n",
        "print('James Johnson')\n",
        "print('1915 Main Street')\n",
        "print('Houston, Texas 77785')"
      ],
      "execution_count": null,
      "outputs": [
        {
          "output_type": "stream",
          "text": [
            "James Johnson\n",
            "1915 Main Street\n",
            "Houston, Texas 77785\n"
          ],
          "name": "stdout"
        }
      ]
    },
    {
      "cell_type": "code",
      "metadata": {
        "colab": {
          "base_uri": "https://localhost:8080/"
        },
        "id": "N7kr197iYRbM",
        "outputId": "641e7454-485e-4c67-80f9-6ceb444b9801"
      },
      "source": [
        "print(\n",
        "    '''\n",
        "    James Johnson\n",
        "    1915 Main Street\n",
        "    'Houston, Texas 77785'\n",
        "    '''\n",
        ")"
      ],
      "execution_count": null,
      "outputs": [
        {
          "output_type": "stream",
          "text": [
            "\n",
            "    James Johnson\n",
            "    1915 Main Street\n",
            "    'Houston, Texas 77785'\n",
            "    \n"
          ],
          "name": "stdout"
        }
      ]
    },
    {
      "cell_type": "markdown",
      "metadata": {
        "id": "vQHjx8dtYsMP"
      },
      "source": [
        "### Quiz Time\n",
        "\n",
        "\n",
        "\n",
        "\n",
        "\n",
        "\n",
        "\n",
        "\n"
      ]
    },
    {
      "cell_type": "markdown",
      "metadata": {
        "id": "zqIMa8k5bXHj"
      },
      "source": [
        "#### Quiz\n",
        "\n",
        "* Please print out your name and address in three or four lines using the print statement\n"
      ]
    },
    {
      "cell_type": "code",
      "metadata": {
        "id": "tjQxGygBbv79"
      },
      "source": [
        "\n",
        "\n",
        "\n",
        "\n",
        "\n",
        "\n"
      ],
      "execution_count": null,
      "outputs": []
    },
    {
      "cell_type": "code",
      "metadata": {
        "colab": {
          "base_uri": "https://localhost:8080/"
        },
        "id": "1l8zq0YXgxr5",
        "outputId": "755a4d8c-9c46-40ef-b8e1-99970eaf49a8"
      },
      "source": [
        "# Sample answer\n",
        "print('''\n",
        "MyName\n",
        "Street Address\n",
        "City, State\n",
        "''')"
      ],
      "execution_count": null,
      "outputs": [
        {
          "output_type": "stream",
          "text": [
            "\n",
            "MyName\n",
            "Street Address\n",
            "City, State\n",
            "\n"
          ],
          "name": "stdout"
        }
      ]
    },
    {
      "cell_type": "markdown",
      "metadata": {
        "id": "gWhen1zjK_it"
      },
      "source": [
        "## Lesson 2 Methods"
      ]
    },
    {
      "cell_type": "markdown",
      "metadata": {
        "id": "4F9SJgxFLG7C"
      },
      "source": [
        "### What are Methods? \n",
        "\n",
        "* Similar to functions - They are actually functions\n",
        "* Difference -  implicitly used for an object for which it is called, like built-in functions"
      ]
    },
    {
      "cell_type": "markdown",
      "metadata": {
        "id": "xL4bMyzdNDZG"
      },
      "source": [
        "#### Input Method"
      ]
    },
    {
      "cell_type": "markdown",
      "metadata": {
        "id": "0YwE1pmkPaj1"
      },
      "source": [
        "#### Syantax\n",
        "variable = input()"
      ]
    },
    {
      "cell_type": "code",
      "metadata": {
        "id": "YER2DFZ8NCbc",
        "colab": {
          "base_uri": "https://localhost:8080/"
        },
        "outputId": "a1c6739b-3a72-4c47-8058-8aea3d10f007"
      },
      "source": [
        "your_name = input(\"Your Name?\")"
      ],
      "execution_count": null,
      "outputs": [
        {
          "output_type": "stream",
          "text": [
            "Your Name?john\n"
          ],
          "name": "stdout"
        }
      ]
    },
    {
      "cell_type": "code",
      "metadata": {
        "id": "6SrbyxC6K-lY",
        "colab": {
          "base_uri": "https://localhost:8080/"
        },
        "outputId": "eca83108-fcf7-47f8-e90b-ba095e01d431"
      },
      "source": [
        "#Let's make a longer version\n",
        "your_name = input(\"Your Name?\")\n",
        "print(\"Welcome\")\n",
        "your_code = input(\"Please enter your 4 digit ID\")\n",
        "print(\"Thank you!\")"
      ],
      "execution_count": null,
      "outputs": [
        {
          "output_type": "stream",
          "text": [
            "Your Name?john\n",
            "Welcome\n",
            "Please enter your 4 digit ID1234\n",
            "Thank you!\n"
          ],
          "name": "stdout"
        }
      ]
    },
    {
      "cell_type": "markdown",
      "metadata": {
        "id": "AnvbC4zfSZnM"
      },
      "source": [
        "* Note - The numbers you entered are not taken as \"numbers\" but taken as \"strings\" "
      ]
    },
    {
      "cell_type": "markdown",
      "metadata": {
        "id": "GrP2nyduTf00"
      },
      "source": [
        "#### Other Methods\n",
        "\n",
        "* So the methods are functions you did not make or import, but they are already there for you.\n",
        "* Let's try some others  "
      ]
    },
    {
      "cell_type": "markdown",
      "metadata": {
        "id": "J3ISF10JW5SN"
      },
      "source": [
        "#### bin "
      ]
    },
    {
      "cell_type": "code",
      "metadata": {
        "id": "tEf-meRfW3kO",
        "colab": {
          "base_uri": "https://localhost:8080/",
          "height": 35
        },
        "outputId": "6c3ef7dc-b4ff-4f3e-e25c-38ea4e634014"
      },
      "source": [
        "a = bin(3)\n",
        "a"
      ],
      "execution_count": null,
      "outputs": [
        {
          "output_type": "execute_result",
          "data": {
            "application/vnd.google.colaboratory.intrinsic+json": {
              "type": "string"
            },
            "text/plain": [
              "'0b11'"
            ]
          },
          "metadata": {
            "tags": []
          },
          "execution_count": 27
        }
      ]
    },
    {
      "cell_type": "markdown",
      "metadata": {
        "id": "TkNexhetXilX"
      },
      "source": [
        "#### str"
      ]
    },
    {
      "cell_type": "code",
      "metadata": {
        "id": "M9z_p3JRXut5",
        "colab": {
          "base_uri": "https://localhost:8080/",
          "height": 35
        },
        "outputId": "b9964cdb-d8ea-43cc-9b0e-34a8f8dca3b8"
      },
      "source": [
        "a = str(3)\n",
        "b = str(4)\n",
        "a+b"
      ],
      "execution_count": null,
      "outputs": [
        {
          "output_type": "execute_result",
          "data": {
            "application/vnd.google.colaboratory.intrinsic+json": {
              "type": "string"
            },
            "text/plain": [
              "'34'"
            ]
          },
          "metadata": {
            "tags": []
          },
          "execution_count": 28
        }
      ]
    },
    {
      "cell_type": "markdown",
      "metadata": {
        "id": "hen-F7WoYG7V"
      },
      "source": [
        "#### int"
      ]
    },
    {
      "cell_type": "code",
      "metadata": {
        "id": "InPAxkJDYKG7",
        "colab": {
          "base_uri": "https://localhost:8080/"
        },
        "outputId": "b65245c9-ff63-46fa-d903-0b8b3517e6ca"
      },
      "source": [
        "c = int(a)\n",
        "d = int(b)\n",
        "c+d"
      ],
      "execution_count": null,
      "outputs": [
        {
          "output_type": "execute_result",
          "data": {
            "text/plain": [
              "7"
            ]
          },
          "metadata": {
            "tags": []
          },
          "execution_count": 29
        }
      ]
    },
    {
      "cell_type": "markdown",
      "metadata": {
        "id": "WcTTQhn2YnvR"
      },
      "source": [
        "### Quiz Time"
      ]
    },
    {
      "cell_type": "markdown",
      "metadata": {
        "id": "QxhtfIfyce5J"
      },
      "source": [
        "## Quiz - Methods"
      ]
    },
    {
      "cell_type": "markdown",
      "metadata": {
        "id": "c74WnMnscuAS"
      },
      "source": [
        "* 1st line - Ask to type \"Your Name\" (And then you enter your own name)\n",
        "* 2nd line - Print \"Welcome, Your Name\"\n",
        "* 3rd line - Ask to type your age \"Please enter your age\" (And then enter your age)\n",
        "* 4th line - Convert your age to an integer number, since your input is considered as a \"str\" \n",
        "* 5th line - Add 3 to your age \n",
        "* 6th line - And then print \"You will be a data scientist when you become (your gae +3) years old.\""
      ]
    },
    {
      "cell_type": "markdown",
      "metadata": {
        "id": "zo9iIDCkeeei"
      },
      "source": [
        "* So out answer should look like the following sample\n",
        "\n",
        "Your Name?Tom\n",
        "\n",
        "Welcome, Tom\n",
        "\n",
        "Please enter your age 30\n",
        "\n",
        "You will be a data scientist when you become 33 years old."
      ]
    },
    {
      "cell_type": "code",
      "metadata": {
        "id": "IWZaavZGgQ1u"
      },
      "source": [
        "# Your Version\n",
        "\n",
        "\n",
        "\n"
      ],
      "execution_count": null,
      "outputs": []
    },
    {
      "cell_type": "markdown",
      "metadata": {
        "id": "hrohTHFegWby"
      },
      "source": [
        "#### A sample Answer"
      ]
    },
    {
      "cell_type": "code",
      "metadata": {
        "id": "7_thXaI3cq1k",
        "colab": {
          "base_uri": "https://localhost:8080/"
        },
        "outputId": "9a4a18b5-6dde-4268-d11b-f56363ce605a"
      },
      "source": [
        "your_name= input(\"Your Name?\")\n",
        "print (\"Welcome, \" + your_name)\n",
        "your_age = input(\"Please enter your age\")\n",
        "int_age = int(your_age)\n",
        "future_age = int_age + 3\n",
        "print(\"You will be a data scientist when you become \" + str(future_age) + \" years old.\")"
      ],
      "execution_count": null,
      "outputs": [
        {
          "output_type": "stream",
          "text": [
            "Your Name?John\n",
            "Welcome, John\n",
            "Please enter your age1234\n",
            "You will be a data scientist when you become 1237 years old.\n"
          ],
          "name": "stdout"
        }
      ]
    },
    {
      "cell_type": "markdown",
      "metadata": {
        "id": "mbVzFXq59LrV"
      },
      "source": [
        "## Lesson 3 Strings and Numbers\n",
        "\n",
        "\n",
        "### Syntax\n",
        "\n",
        "\"string\"\n",
        "\n",
        "3\n",
        "\n",
        "\n",
        "\n",
        "\n",
        "\n",
        "\n",
        "\n",
        "\n",
        "\n"
      ]
    },
    {
      "cell_type": "code",
      "metadata": {
        "id": "OVROhzYp-aqg",
        "colab": {
          "base_uri": "https://localhost:8080/",
          "height": 35
        },
        "outputId": "47fc7d1a-7c70-43e9-b107-3e7bbe232505"
      },
      "source": [
        "string1 = \"abc\"\n",
        "string2 = \" \"\n",
        "string3 = \"$@&\"\n",
        "string1\n",
        "string2\n",
        "string3"
      ],
      "execution_count": null,
      "outputs": [
        {
          "output_type": "execute_result",
          "data": {
            "application/vnd.google.colaboratory.intrinsic+json": {
              "type": "string"
            },
            "text/plain": [
              "'$@&'"
            ]
          },
          "metadata": {
            "tags": []
          },
          "execution_count": 31
        }
      ]
    },
    {
      "cell_type": "code",
      "metadata": {
        "id": "2JZs0Fi6APqD",
        "colab": {
          "base_uri": "https://localhost:8080/"
        },
        "outputId": "eb8163ed-b86d-4dd7-8d6f-e85bf9791c1f"
      },
      "source": [
        "number1 = 3\n",
        "number1"
      ],
      "execution_count": null,
      "outputs": [
        {
          "output_type": "execute_result",
          "data": {
            "text/plain": [
              "3"
            ]
          },
          "metadata": {
            "tags": []
          },
          "execution_count": 32
        }
      ]
    },
    {
      "cell_type": "code",
      "metadata": {
        "id": "Kptzy8miAjJf",
        "colab": {
          "base_uri": "https://localhost:8080/"
        },
        "outputId": "cd51319e-23c1-43f2-b34f-21da79ebab0c"
      },
      "source": [
        "# I have 2 cars\n",
        "print (\"I have \" + \"2\" + \" cars\")"
      ],
      "execution_count": null,
      "outputs": [
        {
          "output_type": "stream",
          "text": [
            "I have 2 cars\n"
          ],
          "name": "stdout"
        }
      ]
    },
    {
      "cell_type": "code",
      "metadata": {
        "id": "mPkiOUi_A4P1",
        "colab": {
          "base_uri": "https://localhost:8080/"
        },
        "outputId": "5747967e-d49a-4445-a217-e24136946abe"
      },
      "source": [
        "a= 2\n",
        "print (\"I have \" + str(a) + \" cars\")"
      ],
      "execution_count": null,
      "outputs": [
        {
          "output_type": "stream",
          "text": [
            "I have 2 cars\n"
          ],
          "name": "stdout"
        }
      ]
    },
    {
      "cell_type": "code",
      "metadata": {
        "id": "JXEKWQbfBZXf",
        "colab": {
          "base_uri": "https://localhost:8080/"
        },
        "outputId": "b44573da-bafc-44c0-8f06-95f75023ab57"
      },
      "source": [
        "a = \"I was born in\"\n",
        "b = \" \"\n",
        "c = str(1999)\n",
        "print(a+b+c)"
      ],
      "execution_count": null,
      "outputs": [
        {
          "output_type": "stream",
          "text": [
            "I was born in 1999\n"
          ],
          "name": "stdout"
        }
      ]
    },
    {
      "cell_type": "markdown",
      "metadata": {
        "id": "al943m_uCHBj"
      },
      "source": [
        "### Quiz Time"
      ]
    },
    {
      "cell_type": "markdown",
      "metadata": {
        "id": "KbeOtLfaI9TX"
      },
      "source": [
        "## Quiz"
      ]
    },
    {
      "cell_type": "markdown",
      "metadata": {
        "id": "e_SMogbgJGaE"
      },
      "source": [
        "* Mixing some strings and numbers, print the below sentence. You have to have at least 5 components and make the sentence by adding them all together.\n",
        "\n",
        "\"I bought my 1999 GT with 65k miles in 2005 and sold it for $7,500 in 2009.\""
      ]
    },
    {
      "cell_type": "code",
      "metadata": {
        "id": "D1_QMdmTJCUf"
      },
      "source": [
        "\n",
        "\n",
        "\n",
        "\n",
        "\n",
        "\n",
        "\n"
      ],
      "execution_count": null,
      "outputs": []
    },
    {
      "cell_type": "markdown",
      "metadata": {
        "id": "v-kLaJ-aPkR7"
      },
      "source": [
        "#### A sample answer"
      ]
    },
    {
      "cell_type": "code",
      "metadata": {
        "id": "CQnvEa0WPgsB",
        "colab": {
          "base_uri": "https://localhost:8080/"
        },
        "outputId": "ae22f077-62d4-499e-a68c-f9d9379d5611"
      },
      "source": [
        "a = \"I bought my\"\n",
        "b = \" \"\n",
        "c = 1999\n",
        "d = c+5\n",
        "e = d+5\n",
        "f = \"GT with 65K miles in\"\n",
        "g = \"and sold it for $7500 in\"\n",
        "h = \".\"\n",
        " \n",
        "print (a+b+str(c)+b+f+b+str(d)+b+g+b+str(e)+h)"
      ],
      "execution_count": null,
      "outputs": [
        {
          "output_type": "stream",
          "text": [
            "I bought my 1999 GT with 65K miles in 2004 and sold it for $7500 in 2009.\n"
          ],
          "name": "stdout"
        }
      ]
    },
    {
      "cell_type": "markdown",
      "metadata": {
        "id": "AGiDTILOTGWo"
      },
      "source": [
        "* This looks very inefficient, so that's why we need something called formatting.\n",
        "* We will learn it in Lesson 11"
      ]
    },
    {
      "cell_type": "markdown",
      "metadata": {
        "id": "UK-Q-0CTT3SL"
      },
      "source": [
        "## Lesson 4. String Indexing\n",
        "\n",
        "\n",
        "\n",
        "\n",
        "\n",
        "\n",
        "\n",
        "\n",
        "\n",
        "\n",
        "\n",
        "\n",
        "\n",
        "\n",
        "\n",
        "\n"
      ]
    },
    {
      "cell_type": "markdown",
      "metadata": {
        "id": "v2jMoGkvVy6n"
      },
      "source": [
        "C H E V R O L E T\n",
        "\n",
        "0 1 2 3 4 5 6 7 8\n",
        "\n",
        "* The first one is not 1 but 0.\n"
      ]
    },
    {
      "cell_type": "markdown",
      "metadata": {
        "id": "-0jqoz4dWYwW"
      },
      "source": [
        "### Syntax\n",
        "\n",
        "variable [indexing position]"
      ]
    },
    {
      "cell_type": "code",
      "metadata": {
        "id": "9cHYv_zXUDBi",
        "colab": {
          "base_uri": "https://localhost:8080/",
          "height": 35
        },
        "outputId": "b7fc1d91-e45f-4188-cdab-2c9e74812691"
      },
      "source": [
        "my_car = \"ford\"\n",
        "my_car[3]\n"
      ],
      "execution_count": null,
      "outputs": [
        {
          "output_type": "execute_result",
          "data": {
            "application/vnd.google.colaboratory.intrinsic+json": {
              "type": "string"
            },
            "text/plain": [
              "'d'"
            ]
          },
          "metadata": {
            "tags": []
          },
          "execution_count": 37
        }
      ]
    },
    {
      "cell_type": "code",
      "metadata": {
        "id": "hPBdyZjqXUoe",
        "colab": {
          "base_uri": "https://localhost:8080/",
          "height": 35
        },
        "outputId": "a0f81c7b-073c-43a4-b094-f5dc31bf4436"
      },
      "source": [
        "maker = 'chevrolet'\n",
        "maker[2]"
      ],
      "execution_count": null,
      "outputs": [
        {
          "output_type": "execute_result",
          "data": {
            "application/vnd.google.colaboratory.intrinsic+json": {
              "type": "string"
            },
            "text/plain": [
              "'e'"
            ]
          },
          "metadata": {
            "tags": []
          },
          "execution_count": 38
        }
      ]
    },
    {
      "cell_type": "code",
      "metadata": {
        "id": "GieE2EsJXs3K",
        "colab": {
          "base_uri": "https://localhost:8080/",
          "height": 35
        },
        "outputId": "805e0cf1-2801-4c18-e2f7-14172d6f448e"
      },
      "source": [
        "happy = \"I am happy\"\n",
        "happy[1]"
      ],
      "execution_count": null,
      "outputs": [
        {
          "output_type": "execute_result",
          "data": {
            "application/vnd.google.colaboratory.intrinsic+json": {
              "type": "string"
            },
            "text/plain": [
              "' '"
            ]
          },
          "metadata": {
            "tags": []
          },
          "execution_count": 39
        }
      ]
    },
    {
      "cell_type": "markdown",
      "metadata": {
        "id": "V-8-tz4yYS9X"
      },
      "source": [
        "* How about numbers?"
      ]
    },
    {
      "cell_type": "code",
      "metadata": {
        "id": "XRd-JyUgYXg5",
        "colab": {
          "base_uri": "https://localhost:8080/",
          "height": 35
        },
        "outputId": "d7967378-f0e7-442e-b5f0-0b56ef307bc8"
      },
      "source": [
        "a=\"1234\"\n",
        "a[1]"
      ],
      "execution_count": null,
      "outputs": [
        {
          "output_type": "execute_result",
          "data": {
            "application/vnd.google.colaboratory.intrinsic+json": {
              "type": "string"
            },
            "text/plain": [
              "'2'"
            ]
          },
          "metadata": {
            "tags": []
          },
          "execution_count": 40
        }
      ]
    },
    {
      "cell_type": "code",
      "metadata": {
        "id": "_0xa-Q_zZvpN",
        "colab": {
          "base_uri": "https://localhost:8080/",
          "height": 35
        },
        "outputId": "436d6275-c9de-4023-9155-777772dbae0b"
      },
      "source": [
        "a = \"things2do\"\n",
        "a[6]"
      ],
      "execution_count": null,
      "outputs": [
        {
          "output_type": "execute_result",
          "data": {
            "application/vnd.google.colaboratory.intrinsic+json": {
              "type": "string"
            },
            "text/plain": [
              "'2'"
            ]
          },
          "metadata": {
            "tags": []
          },
          "execution_count": 41
        }
      ]
    },
    {
      "cell_type": "markdown",
      "metadata": {
        "id": "-M0H_jJpswdQ"
      },
      "source": [
        "* What if you want the 2nd and 3rd alphabets?"
      ]
    },
    {
      "cell_type": "code",
      "metadata": {
        "id": "QQPFd0v1su87",
        "colab": {
          "base_uri": "https://localhost:8080/",
          "height": 35
        },
        "outputId": "6d999895-3339-456b-f14b-4a56bab3aff2"
      },
      "source": [
        "a = \"things2do\"\n",
        "# And you want the 2nd and the 3rd alphabets which will be 1 & 2 (h & i) \n",
        "a[1:3]"
      ],
      "execution_count": null,
      "outputs": [
        {
          "output_type": "execute_result",
          "data": {
            "application/vnd.google.colaboratory.intrinsic+json": {
              "type": "string"
            },
            "text/plain": [
              "'hi'"
            ]
          },
          "metadata": {
            "tags": []
          },
          "execution_count": 42
        }
      ]
    },
    {
      "cell_type": "code",
      "metadata": {
        "id": "LxpHdtTxsu5O",
        "colab": {
          "base_uri": "https://localhost:8080/",
          "height": 35
        },
        "outputId": "2c0d1774-fd96-4a54-cd10-4e81adbf3b9a"
      },
      "source": [
        "# how about from 1 to the end\n",
        "a[1:]"
      ],
      "execution_count": null,
      "outputs": [
        {
          "output_type": "execute_result",
          "data": {
            "application/vnd.google.colaboratory.intrinsic+json": {
              "type": "string"
            },
            "text/plain": [
              "'hings2do'"
            ]
          },
          "metadata": {
            "tags": []
          },
          "execution_count": 43
        }
      ]
    },
    {
      "cell_type": "code",
      "metadata": {
        "id": "F4yUQTVCsu0L",
        "colab": {
          "base_uri": "https://localhost:8080/",
          "height": 35
        },
        "outputId": "4d3156f5-72e8-4501-de25-6f83663925f9"
      },
      "source": [
        "# from the beginning to 4?\n",
        "a[:5]"
      ],
      "execution_count": null,
      "outputs": [
        {
          "output_type": "execute_result",
          "data": {
            "application/vnd.google.colaboratory.intrinsic+json": {
              "type": "string"
            },
            "text/plain": [
              "'thing'"
            ]
          },
          "metadata": {
            "tags": []
          },
          "execution_count": 44
        }
      ]
    },
    {
      "cell_type": "markdown",
      "metadata": {
        "id": "v2tKS_WYaXUf"
      },
      "source": [
        "### Quiz Time\n",
        "\n",
        "\n",
        "\n",
        "\n",
        "\n",
        "\n",
        "\n",
        "\n",
        "\n",
        "\n",
        "\n",
        "\n",
        "\n",
        "\n",
        "\n",
        "\n",
        "\n",
        "\n",
        "\n"
      ]
    },
    {
      "cell_type": "markdown",
      "metadata": {
        "id": "ZIzyn4Tac_6T"
      },
      "source": [
        "## Quiz"
      ]
    },
    {
      "cell_type": "markdown",
      "metadata": {
        "id": "oDt1gcPHgP-O"
      },
      "source": [
        "* From the sentence \"Python is wonderful\"\n",
        "\n",
        "* Index the 3rd string\n",
        "* Index the 5th through 8th string\n",
        "* Index the first to 4th string\n",
        "* Index the 12th string to the end "
      ]
    },
    {
      "cell_type": "code",
      "metadata": {
        "id": "K3DfS1Irag12"
      },
      "source": [
        "\n",
        "\n",
        "\n",
        "\n",
        "\n"
      ],
      "execution_count": null,
      "outputs": []
    },
    {
      "cell_type": "markdown",
      "metadata": {
        "id": "jHbEzRSiwUte"
      },
      "source": [
        "#### A sample answer"
      ]
    },
    {
      "cell_type": "code",
      "metadata": {
        "id": "B5Bz29IrahcS",
        "colab": {
          "base_uri": "https://localhost:8080/",
          "height": 35
        },
        "outputId": "c480a26d-727d-48ca-f0b4-161be84f3f2a"
      },
      "source": [
        "my_sentence = \"Python is wonderful\"\n",
        "\n",
        "# Index the 3rd string\n",
        "my_sentence[2]\n",
        "# Index the 5th through 8th string\n",
        "my_sentence[4:8]\n",
        "# Index the first to 4th string\n",
        "my_sentence[:4]\n",
        "# Index the 12th string to the end\n",
        "my_sentence[11:]"
      ],
      "execution_count": null,
      "outputs": [
        {
          "output_type": "execute_result",
          "data": {
            "application/vnd.google.colaboratory.intrinsic+json": {
              "type": "string"
            },
            "text/plain": [
              "'onderful'"
            ]
          },
          "metadata": {
            "tags": []
          },
          "execution_count": 45
        }
      ]
    },
    {
      "cell_type": "markdown",
      "metadata": {
        "id": "XixFZ_QwZJ-4"
      },
      "source": [
        "## Lesson 5 String Methods"
      ]
    },
    {
      "cell_type": "markdown",
      "metadata": {
        "id": "ZN7dO8axZY8l"
      },
      "source": [
        "* Let's learn 3 methods that we can use a lot.\n",
        "\n",
        "len()\n",
        "\n",
        "lower()\n",
        "\n",
        "upper()\n"
      ]
    },
    {
      "cell_type": "code",
      "metadata": {
        "id": "4bOLeko4ZgyA",
        "colab": {
          "base_uri": "https://localhost:8080/"
        },
        "outputId": "405b346f-00e0-43a0-de08-25060b180880"
      },
      "source": [
        "maker = \"Chevrolet\"\n",
        "len(maker)\n",
        "len(\"Ford\")"
      ],
      "execution_count": null,
      "outputs": [
        {
          "output_type": "execute_result",
          "data": {
            "text/plain": [
              "4"
            ]
          },
          "metadata": {
            "tags": []
          },
          "execution_count": 46
        }
      ]
    },
    {
      "cell_type": "code",
      "metadata": {
        "id": "KgbsA2DGdocZ",
        "colab": {
          "base_uri": "https://localhost:8080/"
        },
        "outputId": "388685ac-998a-4313-9cf1-a8a8e499157c"
      },
      "source": [
        "# Again, how about numbers? \n",
        "len(\"1234\")"
      ],
      "execution_count": null,
      "outputs": [
        {
          "output_type": "execute_result",
          "data": {
            "text/plain": [
              "4"
            ]
          },
          "metadata": {
            "tags": []
          },
          "execution_count": 47
        }
      ]
    },
    {
      "cell_type": "code",
      "metadata": {
        "id": "SQ0aWKrJefo2",
        "colab": {
          "base_uri": "https://localhost:8080/"
        },
        "outputId": "ec87e9a4-e2a5-4af7-f700-f70248869561"
      },
      "source": [
        "a = \"I am so happy\"\n",
        "len(a)"
      ],
      "execution_count": null,
      "outputs": [
        {
          "output_type": "execute_result",
          "data": {
            "text/plain": [
              "13"
            ]
          },
          "metadata": {
            "tags": []
          },
          "execution_count": 48
        }
      ]
    },
    {
      "cell_type": "code",
      "metadata": {
        "id": "aWW8f_pTo3Uc",
        "colab": {
          "base_uri": "https://localhost:8080/",
          "height": 35
        },
        "outputId": "5bcea97f-36dc-4a7a-d770-7862eaba3dda"
      },
      "source": [
        "maker.lower()"
      ],
      "execution_count": null,
      "outputs": [
        {
          "output_type": "execute_result",
          "data": {
            "application/vnd.google.colaboratory.intrinsic+json": {
              "type": "string"
            },
            "text/plain": [
              "'chevrolet'"
            ]
          },
          "metadata": {
            "tags": []
          },
          "execution_count": 49
        }
      ]
    },
    {
      "cell_type": "code",
      "metadata": {
        "id": "_uox-Ar2p7ZK",
        "colab": {
          "base_uri": "https://localhost:8080/",
          "height": 35
        },
        "outputId": "7d4e9e52-3d48-4d27-f2c7-b2b6b2aabad7"
      },
      "source": [
        "maker.upper()"
      ],
      "execution_count": null,
      "outputs": [
        {
          "output_type": "execute_result",
          "data": {
            "application/vnd.google.colaboratory.intrinsic+json": {
              "type": "string"
            },
            "text/plain": [
              "'CHEVROLET'"
            ]
          },
          "metadata": {
            "tags": []
          },
          "execution_count": 50
        }
      ]
    },
    {
      "cell_type": "markdown",
      "metadata": {
        "id": "2uHilWfNqUV8"
      },
      "source": [
        "### Quiz Time"
      ]
    },
    {
      "cell_type": "markdown",
      "metadata": {
        "id": "VTFcjNseIdd-"
      },
      "source": [
        "## Quiz"
      ]
    },
    {
      "cell_type": "markdown",
      "metadata": {
        "id": "qAAvo0U-M27J"
      },
      "source": [
        "* Please make a statement with the following information\n",
        "\n",
        "maker = \"Mercedes\" \n",
        "\n",
        "year is str(2020)\n",
        "\n",
        "month is \"June\"\n",
        "\n",
        "1) Print the length of your statement\n",
        "\n",
        "1) Use lower method to print out a lowercase version of your statement\n",
        "\n",
        "2) and an uppercase version"
      ]
    },
    {
      "cell_type": "code",
      "metadata": {
        "id": "Y8O7tlPkIcpr",
        "colab": {
          "base_uri": "https://localhost:8080/",
          "height": 53
        },
        "outputId": "c7af130b-9137-4907-df3b-ff76329e93bf"
      },
      "source": [
        "# A sample answer\n",
        "maker = \"Mercedes\"\n",
        "year = str(2020)\n",
        "month = \"June\"\n",
        "\n",
        "len(maker)\n",
        "maker.lower()\n",
        "maker.upper()\n",
        "print (month + \" \" + year)\n",
        "\n",
        "statement1 = \"I bought my \"+ maker + \" in \" + month + \" ,\" + year\n",
        "\n",
        "len(statement1)\n",
        "statement1.lower()\n",
        "statement1.upper()"
      ],
      "execution_count": null,
      "outputs": [
        {
          "output_type": "stream",
          "text": [
            "June 2020\n"
          ],
          "name": "stdout"
        },
        {
          "output_type": "execute_result",
          "data": {
            "application/vnd.google.colaboratory.intrinsic+json": {
              "type": "string"
            },
            "text/plain": [
              "'I BOUGHT MY MERCEDES IN JUNE ,2020'"
            ]
          },
          "metadata": {
            "tags": []
          },
          "execution_count": 51
        }
      ]
    },
    {
      "cell_type": "markdown",
      "metadata": {
        "id": "ushWkBdTcknq"
      },
      "source": [
        "## Lesson 6 Arithmetic Operators"
      ]
    },
    {
      "cell_type": "code",
      "metadata": {
        "id": "CuWkDGwscz-R"
      },
      "source": [
        "first_add = 12345 + 56789\n",
        "first_sub = 543-321\n",
        "first_multi = 12 * 34\n",
        "first_div = 520/24"
      ],
      "execution_count": null,
      "outputs": []
    },
    {
      "cell_type": "code",
      "metadata": {
        "id": "ERhv5M-hc6DB",
        "colab": {
          "base_uri": "https://localhost:8080/"
        },
        "outputId": "9696a42f-6d9a-4f5a-b08a-e84c77f1f5ee"
      },
      "source": [
        "print(first_add)\n",
        "print(first_sub)\n",
        "print(first_multi)\n",
        "print(first_div)"
      ],
      "execution_count": null,
      "outputs": [
        {
          "output_type": "stream",
          "text": [
            "69134\n",
            "222\n",
            "408\n",
            "21.666666666666668\n"
          ],
          "name": "stdout"
        }
      ]
    },
    {
      "cell_type": "code",
      "metadata": {
        "id": "7eO4S4v3dkkr",
        "colab": {
          "base_uri": "https://localhost:8080/"
        },
        "outputId": "adc501e9-5652-4582-b295-2229295429db"
      },
      "source": [
        "comb = (first_add * first_sub)/first_multi\n",
        "comb"
      ],
      "execution_count": null,
      "outputs": [
        {
          "output_type": "execute_result",
          "data": {
            "text/plain": [
              "37617.029411764706"
            ]
          },
          "metadata": {
            "tags": []
          },
          "execution_count": 54
        }
      ]
    },
    {
      "cell_type": "code",
      "metadata": {
        "id": "rZs7j59tiXSy",
        "colab": {
          "base_uri": "https://localhost:8080/"
        },
        "outputId": "582efcea-161d-4c31-a9ce-b74a51ee3de4"
      },
      "source": [
        "15 % 2 \n"
      ],
      "execution_count": null,
      "outputs": [
        {
          "output_type": "execute_result",
          "data": {
            "text/plain": [
              "1"
            ]
          },
          "metadata": {
            "tags": []
          },
          "execution_count": 55
        }
      ]
    },
    {
      "cell_type": "markdown",
      "metadata": {
        "id": "J0P9zunsioAQ"
      },
      "source": [
        "* 15 = 7*2 + 1"
      ]
    },
    {
      "cell_type": "code",
      "metadata": {
        "id": "f2UsvFI5iu17",
        "colab": {
          "base_uri": "https://localhost:8080/"
        },
        "outputId": "828b64d9-6642-4cab-c126-cfad2ca8f5f2"
      },
      "source": [
        "a= 25\n",
        "b = 7\n",
        "\n",
        "a%b"
      ],
      "execution_count": null,
      "outputs": [
        {
          "output_type": "execute_result",
          "data": {
            "text/plain": [
              "4"
            ]
          },
          "metadata": {
            "tags": []
          },
          "execution_count": 56
        }
      ]
    },
    {
      "cell_type": "markdown",
      "metadata": {
        "id": "X_7dlyeDjC20"
      },
      "source": [
        "* 25 = 7*3 + 4"
      ]
    },
    {
      "cell_type": "code",
      "metadata": {
        "id": "_m9H-UmKjJNx",
        "colab": {
          "base_uri": "https://localhost:8080/"
        },
        "outputId": "b45929d8-7527-474c-d567-18e4823400f7"
      },
      "source": [
        "a = 19 \n",
        "b = 5\n",
        "c = 7\n",
        "\n",
        "result = (a+b)/c + (a-c)/b\n",
        "result"
      ],
      "execution_count": null,
      "outputs": [
        {
          "output_type": "execute_result",
          "data": {
            "text/plain": [
              "5.828571428571428"
            ]
          },
          "metadata": {
            "tags": []
          },
          "execution_count": 57
        }
      ]
    },
    {
      "cell_type": "code",
      "metadata": {
        "id": "XLE8__gtkAfz",
        "colab": {
          "base_uri": "https://localhost:8080/"
        },
        "outputId": "56058d44-08ec-4761-c1e6-4675d5afd7a0"
      },
      "source": [
        "print (a%b + c)"
      ],
      "execution_count": null,
      "outputs": [
        {
          "output_type": "stream",
          "text": [
            "11\n"
          ],
          "name": "stdout"
        }
      ]
    },
    {
      "cell_type": "markdown",
      "metadata": {
        "id": "vt3jfKojTEc_"
      },
      "source": [
        "### Quiz Time"
      ]
    },
    {
      "cell_type": "markdown",
      "metadata": {
        "id": "fFPHxfoaTEK_"
      },
      "source": [
        "## Quiz"
      ]
    },
    {
      "cell_type": "markdown",
      "metadata": {
        "id": "BMICmdpumRDu"
      },
      "source": [
        "a = 19\r\n",
        "\r\n",
        "b = 5      \r\n",
        "\r\n",
        "c = 7\r\n",
        "\r\n",
        "Get the remainder of a+b for c\r\n",
        "\r\n",
        "d = (a+b) % c\r\n"
      ]
    },
    {
      "cell_type": "code",
      "metadata": {
        "id": "57M6K5JUTF8_"
      },
      "source": [
        "# Your Version\r\n",
        "\r\n",
        "\r\n",
        "\r\n",
        "\r\n",
        "\r\n",
        "\r\n",
        "\r\n"
      ],
      "execution_count": null,
      "outputs": []
    },
    {
      "cell_type": "code",
      "metadata": {
        "id": "zcU6whvNTGlz",
        "colab": {
          "base_uri": "https://localhost:8080/"
        },
        "outputId": "edddf2bd-4766-4aa5-8fcf-06c0730a671d"
      },
      "source": [
        "# answer \r\n",
        "d = (a+b) % c\r\n",
        "d\r\n",
        "\r\n",
        "\r\n",
        "\r\n",
        "\r\n"
      ],
      "execution_count": null,
      "outputs": [
        {
          "output_type": "execute_result",
          "data": {
            "text/plain": [
              "3"
            ]
          },
          "metadata": {
            "tags": []
          },
          "execution_count": 60
        }
      ]
    },
    {
      "cell_type": "markdown",
      "metadata": {
        "id": "FQpnhnBjLwh_"
      },
      "source": [
        "## Lesson 7 Number Methods"
      ]
    },
    {
      "cell_type": "markdown",
      "metadata": {
        "id": "rflLCrGsLwdF"
      },
      "source": [
        "* Let's take a look at integers and floats and their related methods."
      ]
    },
    {
      "cell_type": "code",
      "metadata": {
        "id": "KnBWtUqaL4O8",
        "colab": {
          "base_uri": "https://localhost:8080/"
        },
        "outputId": "6d1534fd-5211-4fb4-a5cd-59143e95fcef"
      },
      "source": [
        "# integers = 1, 3, 5, 100\r\n",
        "# floats = 1.0, 1.05, 123,45555\r\n",
        "\r\n",
        "# int(number) # converting the number as an integer      int(1.0) = 1\r\n",
        "# float(number) # converting the number as a float       float (10) = 10.0\r\n",
        "# str(number) # converting the number as a string        str(5) = \"5\"\r\n",
        "\r\n",
        "print(int(1.0))\r\n",
        "print(float(1.0)) \r\n",
        "print(str(1.0))\r\n"
      ],
      "execution_count": null,
      "outputs": [
        {
          "output_type": "stream",
          "text": [
            "1\n",
            "1.0\n",
            "1.0\n"
          ],
          "name": "stdout"
        }
      ]
    },
    {
      "cell_type": "code",
      "metadata": {
        "id": "3lqYw-UBOXlq",
        "colab": {
          "base_uri": "https://localhost:8080/"
        },
        "outputId": "83ebdfb9-3122-43cf-a5c2-05032bb97a98"
      },
      "source": [
        "int_sample = 1\r\n",
        "int_test = 2\r\n",
        "int_minus = -3\r\n",
        "float_sample = 1.0\r\n",
        "float_test = 2.\r\n",
        "float_minus = -3.5\r\n",
        "\r\n",
        "int_sample\r\n",
        "float(int_test)\r\n",
        "float(int_minus)\r\n",
        "float_sample\r\n",
        "float_test\r\n",
        "float_minus"
      ],
      "execution_count": null,
      "outputs": [
        {
          "output_type": "execute_result",
          "data": {
            "text/plain": [
              "-3.5"
            ]
          },
          "metadata": {
            "tags": []
          },
          "execution_count": 62
        }
      ]
    },
    {
      "cell_type": "markdown",
      "metadata": {
        "id": "VI3cSEDiP9-X"
      },
      "source": [
        "* float_e = 3.5e3 means 3.5 X 1,000"
      ]
    },
    {
      "cell_type": "code",
      "metadata": {
        "id": "QX8NzrRaOrBA",
        "colab": {
          "base_uri": "https://localhost:8080/"
        },
        "outputId": "f16d16ad-c3a7-499f-928e-d44bbbb88114"
      },
      "source": [
        "test1 = int(3.5)\r\n",
        "test2 = float(3)\r\n",
        "test3 = test1 + test2\r\n",
        "test4 = str(3) +str(3.5)\r\n",
        "\r\n",
        "print (test1)\r\n",
        "print (test2)\r\n",
        "print (test3)\r\n",
        "print (test4)\r\n",
        "\r\n",
        "\r\n",
        "\r\n"
      ],
      "execution_count": null,
      "outputs": [
        {
          "output_type": "stream",
          "text": [
            "3\n",
            "3.0\n",
            "6.0\n",
            "33.5\n"
          ],
          "name": "stdout"
        }
      ]
    },
    {
      "cell_type": "markdown",
      "metadata": {
        "id": "7mK7DU5iQ2c8"
      },
      "source": [
        "### Quiz Time"
      ]
    },
    {
      "cell_type": "markdown",
      "metadata": {
        "id": "5iQ8s-3uOUNc"
      },
      "source": [
        "## QUIZ\r\n",
        "\r\n",
        "* Give the value of integer 5.5 to the variable gas_g. \r\n",
        "\r\n",
        "(Gallons of gasoline to buy)\r\n",
        "* Create a variable price_per_g and give it a value of 3. \r\n",
        "\r\n",
        "($3 per gallon)\r\n",
        "\r\n",
        "* Create a variable sum_price and calculate and assign the total price of gas to be purchased. \r\n",
        "\r\n",
        "(Total_purchased amount)\r\n",
        "\r\n",
        "* Print the integer value of the sum_price variable using the print statement.\r\n",
        "\r\n",
        "* Print the same value as a float value.\r\n",
        "\r\n",
        "\r\n"
      ]
    },
    {
      "cell_type": "code",
      "metadata": {
        "id": "n446uM1sSI3P",
        "colab": {
          "base_uri": "https://localhost:8080/"
        },
        "outputId": "75c5709a-431e-4148-cfc6-9abc0dba25b8"
      },
      "source": [
        "gas_g = 5.5\r\n",
        "price_per_g = 3\r\n",
        "sum_price = gas_g * price_per_g\r\n",
        "\r\n",
        "\r\n",
        "print (int(sum_price))\r\n",
        "\r\n",
        "print (float(sum_price))\r\n"
      ],
      "execution_count": null,
      "outputs": [
        {
          "output_type": "stream",
          "text": [
            "16\n",
            "16.5\n"
          ],
          "name": "stdout"
        }
      ]
    },
    {
      "cell_type": "code",
      "metadata": {
        "id": "vsFJeVpQUcKd",
        "colab": {
          "base_uri": "https://localhost:8080/"
        },
        "outputId": "bd740496-9848-48cc-8897-47a874b861bd"
      },
      "source": [
        "# What if you want to buy 10 apples for $1 each\r\n",
        "\r\n",
        "apple_count=10\r\n",
        "price_apple = 1\r\n",
        "sum_price = apple_count * price_apple\r\n",
        "print (sum_price)\r\n",
        "\r\n",
        "\r\n"
      ],
      "execution_count": null,
      "outputs": [
        {
          "output_type": "stream",
          "text": [
            "10\n"
          ],
          "name": "stdout"
        }
      ]
    },
    {
      "cell_type": "markdown",
      "metadata": {
        "id": "cAz8A7_cSfCi"
      },
      "source": [
        "* We will learn more with math module later\r\n",
        "\r\n"
      ]
    },
    {
      "cell_type": "markdown",
      "metadata": {
        "id": "KvDWqMJuOUId"
      },
      "source": [
        "## Lesson 08 - Boolean Operators"
      ]
    },
    {
      "cell_type": "markdown",
      "metadata": {
        "id": "Osk2HPQ1OUEj"
      },
      "source": [
        "a> b a is greater than b\r\n",
        "\r\n",
        "a <b a is less than b\r\n",
        "\r\n",
        "a == b a and b are the same\r\n",
        "      \r\n",
        "a != b a and b are not equal\r\n",
        "\r\n",
        "a <= b a is less than or equal to b\r\n",
        "      \r\n",
        "a >= b a is greater than or equal to b\r\n",
        "\r\n",
        "\r\n",
        "\r\n",
        "\r\n",
        "\r\n",
        "\r\n",
        "\r\n",
        "\r\n",
        "\r\n",
        "\r\n",
        "\r\n",
        "\r\n",
        "\r\n",
        "\r\n",
        "\r\n",
        "\r\n",
        "\r\n",
        "\r\n",
        "\r\n",
        "\r\n",
        "\r\n",
        "\r\n"
      ]
    },
    {
      "cell_type": "code",
      "metadata": {
        "id": "H-9yu9jDXlwe",
        "colab": {
          "base_uri": "https://localhost:8080/"
        },
        "outputId": "4201fd39-49c8-49a4-bc86-edb375c8527f"
      },
      "source": [
        "testnumber1 = 1\r\n",
        "testnumber2 = 2\r\n",
        "testnumber3 = 3\r\n",
        " \r\n",
        "a = testnumber3 > 2\r\n",
        "b = testnumber1< 2 \r\n",
        "c = testnumber1 == 1 \r\n",
        "d = testnumber1 != 2\r\n",
        "e = testnumber2 <= 2 \r\n",
        "f = testnumber2 >= 2\r\n",
        "\r\n",
        "print (a)\r\n",
        "print (b)\r\n",
        "print (c)\r\n",
        "print (d)\r\n",
        "print (e)\r\n",
        "print (f)\r\n"
      ],
      "execution_count": null,
      "outputs": [
        {
          "output_type": "stream",
          "text": [
            "True\n",
            "True\n",
            "True\n",
            "True\n",
            "True\n",
            "True\n"
          ],
          "name": "stdout"
        }
      ]
    },
    {
      "cell_type": "code",
      "metadata": {
        "id": "cI9Pzjo5YDGk",
        "colab": {
          "base_uri": "https://localhost:8080/"
        },
        "outputId": "f4f5b907-95ab-4ef6-fbd2-05cc2b3f3af7"
      },
      "source": [
        "# We are going to learn \"if statement later\" , but let's use it here\r\n",
        "x = 5 \r\n",
        "if x > 5:\r\n",
        "    print ( \"It is over the limit.\" )\r\n",
        "else:\r\n",
        "    print ( \"It is under the limit.\" )\r\n"
      ],
      "execution_count": null,
      "outputs": [
        {
          "output_type": "stream",
          "text": [
            "It is under the limit.\n"
          ],
          "name": "stdout"
        }
      ]
    },
    {
      "cell_type": "code",
      "metadata": {
        "id": "nr7eKjDhYcxc",
        "colab": {
          "base_uri": "https://localhost:8080/"
        },
        "outputId": "cbbbf5d3-a152-4bef-8947-efaafa49f922"
      },
      "source": [
        "x = 5 \r\n",
        "if x == 5:\r\n",
        "   print (\"It is over the limit.\")\r\n",
        "else:\r\n",
        "   print (\"It is under the limit.\")\r\n",
        "\r\n",
        "\r\n"
      ],
      "execution_count": null,
      "outputs": [
        {
          "output_type": "stream",
          "text": [
            "It is over the limit.\n"
          ],
          "name": "stdout"
        }
      ]
    },
    {
      "cell_type": "code",
      "metadata": {
        "id": "pcQTxcL1Ybx_",
        "colab": {
          "base_uri": "https://localhost:8080/"
        },
        "outputId": "913e14b7-fe3b-4bd8-bcf1-3d1155b61443"
      },
      "source": [
        "# We are going to learn \"if statement later\" , but let's use it here\r\n",
        "x = 5 \r\n",
        "if x > 5:\r\n",
        "   print (\"It is over the limit.\")\r\n",
        "else:\r\n",
        "   print (\"It is under the limit.\")\r\n",
        "\r\n",
        "\r\n"
      ],
      "execution_count": null,
      "outputs": [
        {
          "output_type": "stream",
          "text": [
            "It is under the limit.\n"
          ],
          "name": "stdout"
        }
      ]
    },
    {
      "cell_type": "markdown",
      "metadata": {
        "id": "oywVXJ-kl7Dd"
      },
      "source": [
        "### Quiz Time"
      ]
    },
    {
      "cell_type": "markdown",
      "metadata": {
        "id": "qfBa_UZivq00"
      },
      "source": [
        "## Quiz"
      ]
    },
    {
      "cell_type": "markdown",
      "metadata": {
        "id": "ZVfvxUeImnL6"
      },
      "source": [
        "Let's practice the boolean operators\r\n",
        "\r\n",
        "testnumber1 is 1\r\n",
        "\r\n",
        "testnumber2 is 2\r\n",
        "\r\n",
        "testnumber3 is 3\r\n",
        "\r\n",
        "Create 5 false statements with the above 3 \r\n"
      ]
    },
    {
      "cell_type": "code",
      "metadata": {
        "id": "Eq3ZUe1Blwjo"
      },
      "source": [
        "# Your Version\r\n",
        "\r\n",
        "\r\n",
        "\r\n",
        "\r\n",
        "\r\n",
        "\r\n",
        "\r\n",
        "\r\n",
        "\r\n",
        "\r\n",
        "\r\n",
        "\r\n",
        "\r\n",
        "\r\n",
        "\r\n"
      ],
      "execution_count": null,
      "outputs": []
    },
    {
      "cell_type": "code",
      "metadata": {
        "id": "2zznejmBYbNC",
        "colab": {
          "base_uri": "https://localhost:8080/"
        },
        "outputId": "24bea190-1a25-483f-e715-49dd8dfa9574"
      },
      "source": [
        "# A sample answer\r\n",
        "\r\n",
        "testnumber1 = 1\r\n",
        "testnumber2 = 2\r\n",
        "testnumber3 = 3\r\n",
        "\r\n",
        "a = testnumber1 > 10\r\n",
        "b = (testnumber1 + testnumber2) > testnumber3 \r\n",
        "c = testnumber1 == testnumber3\r\n",
        "d = testnumber2 % testnumber1 == 3\r\n",
        "e = testnumber3 * 5 >100\r\n",
        "\r\n",
        "print(a)\r\n",
        "print(b)\r\n",
        "print(c)\r\n",
        "print(d)\r\n",
        "print(e)\r\n",
        "\r\n",
        "\r\n",
        "\r\n",
        "\r\n"
      ],
      "execution_count": null,
      "outputs": [
        {
          "output_type": "stream",
          "text": [
            "False\n",
            "False\n",
            "False\n",
            "False\n",
            "False\n"
          ],
          "name": "stdout"
        }
      ]
    },
    {
      "cell_type": "markdown",
      "metadata": {
        "id": "0755t1OS2b8J"
      },
      "source": [
        "## Lesson 09 - Variables"
      ]
    },
    {
      "cell_type": "markdown",
      "metadata": {
        "id": "-YEwi6je2psj"
      },
      "source": [
        "variable = \"string\" # a variable assigned to a string\r\n",
        "\r\n",
        "variable = 5 # a variable assigned to a number\r\n",
        "\r\n",
        "variable = input() # a variable assigned to a function (or method)"
      ]
    },
    {
      "cell_type": "markdown",
      "metadata": {
        "id": "eD2I6Qb23RIy"
      },
      "source": [
        "Y = X + 2\r\n",
        "\r\n",
        "his_name =  \"Tom\"\r\n",
        "\r\n",
        "the_number = 42\r\n",
        "\r\n",
        "b =  len(his_number)"
      ]
    },
    {
      "cell_type": "code",
      "metadata": {
        "id": "VOePwTec3QsR",
        "colab": {
          "base_uri": "https://localhost:8080/"
        },
        "outputId": "577add7b-d3fb-4198-c871-f58a4d413f84"
      },
      "source": [
        "s1 = \"It is a new car!\"   \r\n",
        "s2 = \"It is a used car.\"\r\n",
        "c1 = \"Too expensive!!\"\r\n",
        "c2 = \"It is a good deal!\"\r\n",
        "c3 = \"It can give you headaches!\"\r\n",
        "\r\n",
        "print (s1) \r\n",
        "print (c1)\r\n",
        "\r\n",
        "print (s2)\r\n",
        "print (c2)\r\n",
        "\r\n",
        "\r\n",
        "\r\n",
        "\r\n"
      ],
      "execution_count": null,
      "outputs": [
        {
          "output_type": "stream",
          "text": [
            "It is a new car!\n",
            "Too expensive!!\n",
            "It is a used car.\n",
            "It is a good deal!\n"
          ],
          "name": "stdout"
        }
      ]
    },
    {
      "cell_type": "code",
      "metadata": {
        "id": "hI70w8NrEBsw",
        "colab": {
          "base_uri": "https://localhost:8080/"
        },
        "outputId": "790f743a-fd93-4381-fa18-f315889eb2f1"
      },
      "source": [
        "situation1 = \"It is a new car!\"   \r\n",
        "situation2 = \"It is a used car.\"\r\n",
        "comment1 = \"Too expensive!!\"\r\n",
        "comment2 = \"It is a good deal!\"\r\n",
        "comment3 = \"It can give you headaches!\"\r\n",
        " \r\n",
        " \r\n",
        "answer1 = situation1 + \" \" + comment1\r\n",
        "answer2 = situation1 + \" \" + comment2\r\n",
        "answer3 = situation2 + \" \" + comment3\r\n",
        "answer4 = situation2 + \" \" + comment2\r\n",
        "\r\n",
        "print (answer1)\r\n",
        "print (answer2)\r\n",
        "print (answer3) \r\n",
        "print (answer4)"
      ],
      "execution_count": null,
      "outputs": [
        {
          "output_type": "stream",
          "text": [
            "It is a new car! Too expensive!!\n",
            "It is a new car! It is a good deal!\n",
            "It is a used car. It can give you headaches!\n",
            "It is a used car. It is a good deal!\n"
          ],
          "name": "stdout"
        }
      ]
    },
    {
      "cell_type": "code",
      "metadata": {
        "id": "GK5wCfrGFRcx",
        "colab": {
          "base_uri": "https://localhost:8080/"
        },
        "outputId": "16ec2fb5-acae-4bd0-b265-f5ecda235daf"
      },
      "source": [
        "my_dog_name = \"Coco\"\r\n",
        "walk_per_week = 4\r\n",
        "point_visit = 5\r\n",
        "points_to_visit = 130\r\n",
        "weeks_to_take = float(points_to_visit) / (walk_per_week * point_visit )\r\n",
        "statement = my_dog_name + \" needs \" + str(weeks_to_take) + \" weeks to visit those \" + str(points_to_visit) + \" places.\"\r\n",
        "\r\n",
        "print (statement)\r\n",
        "\r\n"
      ],
      "execution_count": null,
      "outputs": [
        {
          "output_type": "stream",
          "text": [
            "Coco needs 6.5 weeks to visit those 130 places.\n"
          ],
          "name": "stdout"
        }
      ]
    },
    {
      "cell_type": "markdown",
      "metadata": {
        "id": "-8y7YXekDiIT"
      },
      "source": [
        "### Quiz Time"
      ]
    },
    {
      "cell_type": "markdown",
      "metadata": {
        "id": "UBTlw9KoOs7v"
      },
      "source": [
        "## Quiz"
      ]
    },
    {
      "cell_type": "markdown",
      "metadata": {
        "id": "8KuEHN_3OUAh"
      },
      "source": [
        "There are 200 pages to study\r\n",
        "\r\n",
        "Pages that you can cover is 15 pages per day\r\n",
        "\r\n",
        "How many days it will take to finish studying?\r\n",
        " \r\n",
        "Please use combinations of variables to make a\r\n",
        "sentence that describes the outcome of the above\r\n",
        "\r\n",
        "\r\n",
        "\r\n",
        "\r\n",
        "\r\n"
      ]
    },
    {
      "cell_type": "code",
      "metadata": {
        "id": "ivbPpCADDYtq"
      },
      "source": [
        "# Your answer here\r\n",
        "\r\n",
        "\r\n",
        "\r\n",
        "\r\n",
        "\r\n",
        "\r\n"
      ],
      "execution_count": null,
      "outputs": []
    },
    {
      "cell_type": "code",
      "metadata": {
        "colab": {
          "base_uri": "https://localhost:8080/"
        },
        "id": "3dKSF5DZDRmX",
        "outputId": "5b0cbc8f-491d-42dd-99b8-6eff50e230e3"
      },
      "source": [
        "\r\n",
        "\r\n",
        "pages_to_study = 200\r\n",
        "pages_per_day = 15\r\n",
        "\r\n",
        "days_to_take = pages_to_study/pages_per_day\r\n",
        "\r\n",
        "\r\n",
        "days = int(days_to_take) +1\r\n",
        "\r\n",
        "\r\n",
        "statement = \"It takes \" + str((days)) + \" days to finish studying my book\" \r\n",
        "print (statement)\r\n",
        "\r\n"
      ],
      "execution_count": null,
      "outputs": [
        {
          "output_type": "stream",
          "text": [
            "It takes 14 days to finish studying my book\n"
          ],
          "name": "stdout"
        }
      ]
    },
    {
      "cell_type": "code",
      "metadata": {
        "id": "oVRpLI6IOvPp"
      },
      "source": [
        "\r\n",
        " \r\n",
        "\r\n",
        "\r\n",
        "\r\n",
        "\r\n",
        "\r\n",
        "\r\n",
        "\r\n"
      ],
      "execution_count": null,
      "outputs": []
    },
    {
      "cell_type": "markdown",
      "metadata": {
        "id": "ismk8KXAUIta"
      },
      "source": [
        "## Lesson 10 - Updating Variables"
      ]
    },
    {
      "cell_type": "code",
      "metadata": {
        "id": "-5COd5GOULS0",
        "colab": {
          "base_uri": "https://localhost:8080/"
        },
        "outputId": "aaf7c9a2-15b1-4272-f53a-f1dd2ff63322"
      },
      "source": [
        " x = 1\r\n",
        "    \r\n",
        "x = x + 1 \r\n",
        "        \r\n",
        "print (x)  # x is updated to 2\r\n"
      ],
      "execution_count": null,
      "outputs": [
        {
          "output_type": "stream",
          "text": [
            "2\n"
          ],
          "name": "stdout"
        }
      ]
    },
    {
      "cell_type": "code",
      "metadata": {
        "colab": {
          "base_uri": "https://localhost:8080/"
        },
        "id": "D2lZRouvUY5S",
        "outputId": "0f822473-ff0c-4ebc-b2b2-861de3b9923a"
      },
      "source": [
        "gas_tank = 10\r\n",
        " \r\n",
        "print ( \"remaining gasoline\" )\r\n",
        " \r\n",
        "gas_used = 5\r\n",
        " \r\n",
        "gas_tank = gas_tank - gas_used\r\n",
        " \r\n",
        "print (gas_tank)\r\n",
        " \r\n",
        "\r\n",
        "\r\n"
      ],
      "execution_count": null,
      "outputs": [
        {
          "output_type": "stream",
          "text": [
            "remaining gasoline\n",
            "5\n"
          ],
          "name": "stdout"
        }
      ]
    },
    {
      "cell_type": "code",
      "metadata": {
        "colab": {
          "base_uri": "https://localhost:8080/"
        },
        "id": "ABrzmv0SVO76",
        "outputId": "a634aa5e-d108-48fd-ba96-5fdc5b93d684"
      },
      "source": [
        "my_var = 1\r\n",
        "print (my_var)\r\n",
        "\r\n",
        "my_var = \"Hello\"\r\n",
        "print (my_var)\r\n"
      ],
      "execution_count": null,
      "outputs": [
        {
          "output_type": "stream",
          "text": [
            "1\n",
            "Hello\n"
          ],
          "name": "stdout"
        }
      ]
    },
    {
      "cell_type": "code",
      "metadata": {
        "id": "KVTgou1wVOpw"
      },
      "source": [
        "# We usually use a loop, but for the purpose of this lesson, we will go through steps "
      ],
      "execution_count": null,
      "outputs": []
    },
    {
      "cell_type": "code",
      "metadata": {
        "colab": {
          "base_uri": "https://localhost:8080/"
        },
        "id": "TJYt74dTsp8P",
        "outputId": "733b5174-a006-48c3-ab0b-e556690c9b3d"
      },
      "source": [
        "# Adding 1 to 10\r\n",
        "sum = 0\r\n",
        "x= 1\r\n",
        "\r\n",
        "sum = sum+x\r\n",
        "x= x+1\r\n",
        "\r\n",
        "sum = sum + x\r\n",
        "x= x + 1\r\n",
        "\r\n",
        "sum = sum + x\r\n",
        "x= x + 1\r\n",
        "\r\n",
        "sum = sum+x\r\n",
        "x= x + 1\r\n",
        " \r\n",
        "sum = sum+x\r\n",
        "x= x+1\r\n",
        " \r\n",
        "sum = sum+x\r\n",
        "x= x+1\r\n",
        " \r\n",
        "sum = sum + x\r\n",
        "x= x + 1\r\n",
        " \r\n",
        "sum = sum+x\r\n",
        "x= x+1\r\n",
        " \r\n",
        "sum = sum+x\r\n",
        "x= x+1\r\n",
        " \r\n",
        "sum = sum + x\r\n",
        "x= x + 1\r\n",
        " \r\n",
        " \r\n",
        "print (sum)"
      ],
      "execution_count": null,
      "outputs": [
        {
          "output_type": "stream",
          "text": [
            "55\n"
          ],
          "name": "stdout"
        }
      ]
    },
    {
      "cell_type": "markdown",
      "metadata": {
        "id": "C4LaiX_ewyiy"
      },
      "source": [
        "### Quiz Time"
      ]
    },
    {
      "cell_type": "markdown",
      "metadata": {
        "id": "BMdDYdEZw2QQ"
      },
      "source": [
        "## Quiz"
      ]
    },
    {
      "cell_type": "markdown",
      "metadata": {
        "id": "im9qIPOgPPCM"
      },
      "source": [
        "* Assign \"a\" as a numeric-variable name for number 7 and print it\r\n",
        "* Try updating it with a string again and printing it\r\n",
        "* Then give it a value of True, update it, and print it."
      ]
    },
    {
      "cell_type": "code",
      "metadata": {
        "id": "sJUm5CTqPVHH"
      },
      "source": [
        "# Assign \"a\" as a numeric-variable name for number 7 and print\r\n",
        "# Try updating it with a string again and printing it\r\n",
        "# Then give it a value of True, update it, and print it.\r\n",
        "\r\n",
        "# Your Answer\r\n",
        "\r\n",
        "\r\n",
        "\r\n",
        "\r\n",
        "\r\n",
        "\r\n",
        "\r\n",
        "\r\n",
        "\r\n",
        "\r\n"
      ],
      "execution_count": null,
      "outputs": []
    },
    {
      "cell_type": "code",
      "metadata": {
        "colab": {
          "base_uri": "https://localhost:8080/"
        },
        "id": "Yass20-yXwqm",
        "outputId": "1516f54c-9105-4093-dacd-0b95ff6052f7"
      },
      "source": [
        "# Assign \"a\" as a numeric-variable name for number 7 and print\r\n",
        "# Try updating it with a string again and printing it\r\n",
        "# Then give it a value of True, update it, and print it.\r\n",
        "\r\n",
        "a = 7\r\n",
        "print(a)\r\n",
        "\r\n",
        "a = \"sample\"\r\n",
        "print(a)\r\n",
        "\r\n",
        "a = True\r\n",
        "print(a)\r\n",
        "\r\n",
        "\r\n",
        "\r\n",
        "\r\n",
        "\r\n",
        "\r\n",
        "\r\n"
      ],
      "execution_count": null,
      "outputs": [
        {
          "output_type": "stream",
          "text": [
            "7\n",
            "sample\n",
            "True\n"
          ],
          "name": "stdout"
        }
      ]
    },
    {
      "cell_type": "markdown",
      "metadata": {
        "id": "9x9x-ddQOT4m"
      },
      "source": [
        "## Lesson 11      - String Format\r\n",
        "\r\n",
        "\r\n",
        "* Let's learn how to insert numbers or strings inside sentences\r\n",
        "\r\n"
      ]
    },
    {
      "cell_type": "code",
      "metadata": {
        "colab": {
          "base_uri": "https://localhost:8080/"
        },
        "id": "uo9VLKYA_T2p",
        "outputId": "c1acd420-e717-47b7-87b8-a1f2b481a1eb"
      },
      "source": [
        "# what we did\r\n",
        "sentence = \"I am \" + \"from \" + \"Texas.\" \r\n",
        "print(sentence)\r\n",
        "\r\n",
        "# But how about this way\r\n",
        "print  (\"I am {0}, and I love {1} \".format (\" Peter \",\" BMW\"))\r\n",
        "\r\n",
        "name = \"Tom\"\r\n",
        "age  = 23 \r\n",
        "\r\n",
        "print (\"My name is {}.\".format(name))\r\n",
        "print (\"I am {} years old.\" .format(age))\r\n",
        "\r\n",
        "# We used to use the following format\r\n",
        "\r\n",
        "print (\"My name is %s.\" % (name))\r\n",
        "print (\"I am %d years old.\" % (age))\r\n",
        "\r\n",
        "print('I want {0} or {1}'.format('BMW', 'Mercedes'))\r\n",
        "print('I want {1} or {0}'.format('BMW', 'Mercedes'))\r\n",
        "\r\n",
        "activity = 'basketball'\r\n",
        "n = 2\r\n",
        "\r\n",
        "result = f'I like {activity} a lot and I play about {n} hours a day.'\r\n",
        "print(result)\r\n",
        "\r\n"
      ],
      "execution_count": null,
      "outputs": [
        {
          "output_type": "stream",
          "text": [
            "I am from Texas.\n",
            "I am  Peter , and I love  BMW \n",
            "My name is Tom.\n",
            "I am 23 years old.\n",
            "My name is Tom.\n",
            "I am 23 years old.\n",
            "I want BMW or Mercedes\n",
            "I want Mercedes or BMW\n",
            "I like basketball a lot and I play about 2 hours a day.\n"
          ],
          "name": "stdout"
        }
      ]
    },
    {
      "cell_type": "markdown",
      "metadata": {
        "id": "kAqFfqrZNcFe"
      },
      "source": [
        "### Quiz Time"
      ]
    },
    {
      "cell_type": "markdown",
      "metadata": {
        "id": "R6_ovAIDPsid"
      },
      "source": [
        "## Quiz"
      ]
    },
    {
      "cell_type": "markdown",
      "metadata": {
        "id": "-0E8L7vcVRDe"
      },
      "source": [
        "* Print the following sentence in 3 different ways\r\n",
        "* \"I want ham and cheese.\""
      ]
    },
    {
      "cell_type": "code",
      "metadata": {
        "id": "CnT5bwJPQ_y4"
      },
      "source": [
        " # Print the following sentence in 3 different ways\r\n",
        " # \"I want ham and cheese.\"\r\n",
        "\r\n",
        "\r\n",
        "# Your Version\r\n",
        "\r\n",
        "\r\n",
        "\r\n",
        "\r\n",
        "\r\n",
        "\r\n",
        "\r\n",
        "\r\n",
        "\r\n",
        "\r\n",
        "\r\n",
        "\r\n"
      ],
      "execution_count": null,
      "outputs": []
    },
    {
      "cell_type": "code",
      "metadata": {
        "colab": {
          "base_uri": "https://localhost:8080/"
        },
        "id": "XxNhDGrmGk1W",
        "outputId": "7ff296c7-64be-450c-eec2-b342c4924789"
      },
      "source": [
        " # Print the following sentence in 3 different ways\r\n",
        " # \"I want ham and cheese.\"\r\n",
        " \r\n",
        "\r\n",
        "# A sample answer\r\n",
        "print  (\"I want {0} and {1} \".format (\"ham \",\"cheese.\"))\r\n",
        "\r\n",
        "a = \"ham\"\r\n",
        "b = \"cheese\"\r\n",
        "print (\"I want %s and %s\" % (a,b))\r\n",
        "\r\n",
        "\r\n",
        "c = f'I want {a} and {b}.'\r\n",
        "print(c)\r\n",
        " \r\n",
        " \r\n",
        " \r\n",
        " \r\n"
      ],
      "execution_count": null,
      "outputs": [
        {
          "output_type": "stream",
          "text": [
            "I want ham  and cheese. \n",
            "I want ham and cheese\n",
            "I want ham and cheese.\n"
          ],
          "name": "stdout"
        }
      ]
    },
    {
      "cell_type": "markdown",
      "metadata": {
        "id": "Q01r1WFtOT0e"
      },
      "source": [
        "## Lesson 12    -    If & Else\r\n",
        "\r\n",
        "\r\n",
        "        if condition:\r\n",
        "            body\r\n",
        "        else:\r\n",
        "            body\r\n",
        "\r\n"
      ]
    },
    {
      "cell_type": "code",
      "metadata": {
        "id": "RPfkCgxdSz8X",
        "colab": {
          "base_uri": "https://localhost:8080/"
        },
        "outputId": "5aefa791-af7a-4b54-c93d-fa3a200ae6b9"
      },
      "source": [
        "my_speed = input(\"How fast are you going?\")\r\n",
        "int_speed = int(my_speed)\r\n",
        "\r\n",
        "if int_speed <= 50:\r\n",
        "   print (\"Go faster\")\r\n",
        "\r\n",
        "else:\r\n",
        "  print (\"Slow down.\")\r\n",
        "\r\n",
        "\r\n",
        "\r\n",
        "\r\n",
        "\r\n",
        "\r\n",
        "\r\n",
        "\r\n",
        "  "
      ],
      "execution_count": null,
      "outputs": [
        {
          "output_type": "stream",
          "text": [
            "How fast are you going?50\n",
            "Go faster\n"
          ],
          "name": "stdout"
        }
      ]
    },
    {
      "cell_type": "code",
      "metadata": {
        "id": "G7NzTEWzS73p",
        "colab": {
          "base_uri": "https://localhost:8080/"
        },
        "outputId": "fef63b0e-a4d4-424c-a2db-f02224cb51f2"
      },
      "source": [
        "print (\"If the traffic light is red, enter 1. if the traffic light is green or yellow enter 2.\")\r\n",
        "\r\n",
        "t_code = int(input())\r\n",
        "\r\n",
        "if t_code == 1:\r\n",
        "  print (\"Stop the car.\")\r\n",
        "else :\r\n",
        "    print (\"Go forward.\")\r\n",
        "\r\n",
        "\r\n",
        "\r\n",
        "    "
      ],
      "execution_count": null,
      "outputs": [
        {
          "output_type": "stream",
          "text": [
            "If the traffic light is red, enter 1. if the traffic light is green or yellow enter 2.\n",
            "2\n",
            "Go forward.\n"
          ],
          "name": "stdout"
        }
      ]
    },
    {
      "cell_type": "code",
      "metadata": {
        "id": "OANs1PbMTESX",
        "colab": {
          "base_uri": "https://localhost:8080/"
        },
        "outputId": "2900a9bb-7379-44e5-9808-9ba957a8132a"
      },
      "source": [
        "print (\"How much is the T-shirt?\")\r\n",
        "t_price = input()\r\n",
        "my_price = int(t_price)\r\n",
        "\r\n",
        "if my_price  <= 3:\r\n",
        "  print (\"I can buy 2.\")\r\n",
        "else :\r\n",
        "    print (\"Next time.\")\r\n",
        "\r\n",
        "\r\n",
        "\r\n",
        "\r\n",
        "    "
      ],
      "execution_count": null,
      "outputs": [
        {
          "output_type": "stream",
          "text": [
            "How much is the T-shirt?\n",
            "2\n",
            "I can buy 2.\n"
          ],
          "name": "stdout"
        }
      ]
    },
    {
      "cell_type": "markdown",
      "metadata": {
        "id": "qExrpZLGTIU0"
      },
      "source": [
        "### Quiztime"
      ]
    },
    {
      "cell_type": "markdown",
      "metadata": {
        "id": "EteL5LyXTKnZ"
      },
      "source": [
        "## Quiz"
      ]
    },
    {
      "cell_type": "markdown",
      "metadata": {
        "id": "B0B8Ygz6dAz4"
      },
      "source": [
        "* Ask to input the answer to \"What's the current temperature in C?\"\r\n",
        "* And input the temperature in Celsius\r\n",
        "* Change the temperatre to an integer\r\n",
        "* if temperature > 30\r\n",
        "  print \"A bottle of cold water is 2 dollars.\"\r\n",
        "* else \r\n",
        "    print \"A bottle of cold water is 1 dollar.\""
      ]
    },
    {
      "cell_type": "code",
      "metadata": {
        "id": "dytQhXvJTNtu"
      },
      "source": [
        "# Your Version\r\n",
        "\r\n",
        "\r\n"
      ],
      "execution_count": null,
      "outputs": []
    },
    {
      "cell_type": "code",
      "metadata": {
        "id": "NEU-yxCITPd4",
        "colab": {
          "base_uri": "https://localhost:8080/"
        },
        "outputId": "69e7d3e2-d580-4c88-d2db-d346c7dfa8c2"
      },
      "source": [
        "print (\"What's the current temperature in C?\")\r\n",
        "temp = input()\r\n",
        "\r\n",
        "temperature = int(temp)\r\n",
        "\r\n",
        "if temperature > 30:\r\n",
        "  print (\"A bottle of cold water is 600 won.\")\r\n",
        "  \r\n",
        "else :\r\n",
        "    print (\"A bottle of cold water is 500 won.\")"
      ],
      "execution_count": null,
      "outputs": [
        {
          "output_type": "stream",
          "text": [
            "What's the current temperature in C?\n",
            "20\n",
            "A bottle of cold water is 500 won.\n"
          ],
          "name": "stdout"
        }
      ]
    },
    {
      "cell_type": "markdown",
      "metadata": {
        "id": "7EXTdUAjgtGv"
      },
      "source": [
        "## Lesson 13 If, Elif & Else Statements\r\n",
        "\r\n",
        "      if condition:\r\n",
        "          body\r\n",
        "      elif condition:\r\n",
        "          body\r\n",
        "      else\r\n",
        "          body\r\n"
      ]
    },
    {
      "cell_type": "code",
      "metadata": {
        "colab": {
          "base_uri": "https://localhost:8080/"
        },
        "id": "y8EI9o5moXj8",
        "outputId": "cfddf5f2-d2aa-487d-e5a5-1c61115723e2"
      },
      "source": [
        "print (\"\"\"\r\n",
        "if the traffic light is green, enter 1, If the traffic light is red, enter 2, \r\n",
        "and if the traffic light is yellow, enter something else)\r\n",
        "\"\"\")\r\n",
        "\r\n",
        "t_code = int(input())\r\n",
        "\r\n",
        "if t_code == 1:\r\n",
        "  print (\"Go forward.\")\r\n",
        "\r\n",
        "elif t_code == 2:\r\n",
        "  print (\"Stop the car.\")\r\n",
        "\r\n",
        "else :\r\n",
        "    print (\"Please slow down\")\r\n"
      ],
      "execution_count": null,
      "outputs": [
        {
          "output_type": "stream",
          "text": [
            "\n",
            "if the traffic light is green, enter 1, If the traffic light is red, enter 2, \n",
            "and if the traffic light is yellow, enter something else)\n",
            "\n",
            "2\n",
            "Stop the car.\n"
          ],
          "name": "stdout"
        }
      ]
    },
    {
      "cell_type": "code",
      "metadata": {
        "colab": {
          "base_uri": "https://localhost:8080/"
        },
        "id": "i9HCGu0frIrE",
        "outputId": "8c8b7c65-4f59-429c-9fd7-f6062fad1e8d"
      },
      "source": [
        "my_speed = input(\"How fast are you going?\")\r\n",
        "int_speed = int(my_speed)\r\n",
        "\r\n",
        "if int_speed <= 50:\r\n",
        "   print (\"You can go faster\")\r\n",
        "\r\n",
        "elif int_speed > 60:\r\n",
        "  print (\"Slow down.\")\r\n",
        "\r\n",
        "else:\r\n",
        "  print (\"Okay.\")\r\n"
      ],
      "execution_count": null,
      "outputs": [
        {
          "output_type": "stream",
          "text": [
            "How fast are you going?40\n",
            "You can go faster\n"
          ],
          "name": "stdout"
        }
      ]
    },
    {
      "cell_type": "markdown",
      "metadata": {
        "id": "k70yIZj0s8AQ"
      },
      "source": [
        "# Quiz"
      ]
    },
    {
      "cell_type": "markdown",
      "metadata": {
        "id": "g1LYdgi1s7LN"
      },
      "source": [
        "* Please make a condtional statement with if, elif and else for \"If the traffic light is red, enter 1, if the traffic light is yellow, enter 2, and if the traffic light is green, enter 3\""
      ]
    },
    {
      "cell_type": "code",
      "metadata": {
        "id": "9vD8ZWaOs6z-"
      },
      "source": [
        "# Your version\r\n",
        "\r\n",
        "\r\n",
        "\r\n",
        "\r\n",
        "\r\n",
        "\r\n",
        "\r\n",
        "\r\n",
        "\r\n",
        "\r\n"
      ],
      "execution_count": null,
      "outputs": []
    },
    {
      "cell_type": "code",
      "metadata": {
        "colab": {
          "base_uri": "https://localhost:8080/"
        },
        "id": "vZXcdbyLs3uc",
        "outputId": "56f7025c-813a-4877-b05d-82ee3d44ef2d"
      },
      "source": [
        "print (\"\"\"If the traffic light is red, enter 1, if the traffic light is yellow, \r\n",
        "enter 2, and if the traffic light is green, enter 3.\"\"\")\r\n",
        "t_code = int(input())\r\n",
        " \r\n",
        "if t_code == 1:\r\n",
        "  print (\"Stop the car.\")\r\n",
        "elif t_code == 2:\r\n",
        "  print (\"Slow down.\")\r\n",
        "else :\r\n",
        "    print (\"Go forward.\")"
      ],
      "execution_count": null,
      "outputs": [
        {
          "output_type": "stream",
          "text": [
            "If the traffic light is red, enter 1, if the traffic light is yellow, \n",
            "enter 2, and if the traffic light is green, enter 3.\n",
            "3\n",
            "Go forward.\n"
          ],
          "name": "stdout"
        }
      ]
    },
    {
      "cell_type": "code",
      "metadata": {
        "colab": {
          "base_uri": "https://localhost:8080/"
        },
        "id": "CMjQjlRztMbN",
        "outputId": "157cab74-bf46-43a7-d789-dcc1f3f18628"
      },
      "source": [
        "print (\"How much is the T-shirt?\")\r\n",
        "t_price = input()\r\n",
        "my_price = int(t_price)\r\n",
        " \r\n",
        "if my_price  <= 3:\r\n",
        "  print (\"I can buy 2.\")\r\n",
        "elif my_price > 5:\r\n",
        "    print (\"Next time.\")\r\n",
        "else:\r\n",
        "    print (\"Let me have one.\")\r\n",
        " "
      ],
      "execution_count": null,
      "outputs": [
        {
          "output_type": "stream",
          "text": [
            "How much is the T-shirt?\n",
            "3\n",
            "I can buy 2.\n"
          ],
          "name": "stdout"
        }
      ]
    },
    {
      "cell_type": "markdown",
      "metadata": {
        "id": "If8AsSLjvi7p"
      },
      "source": [
        "# Lesson 14 List\r\n",
        "\r\n",
        "   my_list = [1, 2, 3, \"a\", \"b\", \"c\"]"
      ]
    },
    {
      "cell_type": "code",
      "metadata": {
        "id": "4tS_MgetwlI-"
      },
      "source": [
        "my_list1 = [1, 2, 3] "
      ],
      "execution_count": null,
      "outputs": []
    },
    {
      "cell_type": "code",
      "metadata": {
        "id": "hxJeI13Twou3"
      },
      "source": [
        "my_list2 = [\"KIA\", \"Chevrolet\", \"Ford\"]"
      ],
      "execution_count": null,
      "outputs": []
    },
    {
      "cell_type": "code",
      "metadata": {
        "colab": {
          "base_uri": "https://localhost:8080/"
        },
        "id": "tqMEnZXww9Ju",
        "outputId": "531db825-6b6e-4cce-e968-7c6032f7b0cc"
      },
      "source": [
        "print (my_list1)\r\n",
        "print (my_list2)"
      ],
      "execution_count": null,
      "outputs": [
        {
          "output_type": "stream",
          "text": [
            "[1, 2, 3]\n",
            "['KIA', 'Chevrolet', 'Ford']\n"
          ],
          "name": "stdout"
        }
      ]
    },
    {
      "cell_type": "code",
      "metadata": {
        "colab": {
          "base_uri": "https://localhost:8080/"
        },
        "id": "xW4eF_EGxIMI",
        "outputId": "2c30a5b3-1239-4613-8585-3b5dfbc8e02f"
      },
      "source": [
        "my_list3 = [1, 2, 3, [\"KIA\", \"Chevrolet\", \"Ford\"]]\r\n",
        "\r\n",
        "print (len(my_list3))\r\n",
        "\r\n",
        "print (my_list3[0])\r\n",
        "print (my_list3[3])\r\n",
        "\r\n",
        "\r\n"
      ],
      "execution_count": null,
      "outputs": [
        {
          "output_type": "stream",
          "text": [
            "4\n",
            "1\n",
            "['KIA', 'Chevrolet', 'Ford']\n"
          ],
          "name": "stdout"
        }
      ]
    },
    {
      "cell_type": "markdown",
      "metadata": {
        "id": "jMpN_Q7xymWt"
      },
      "source": [
        "# Quiz"
      ]
    },
    {
      "cell_type": "markdown",
      "metadata": {
        "id": "_hrGDexAyov5"
      },
      "source": [
        "* Make a list with the items, 1,2,3,4,and 5\r\n",
        "* Try to indext the first and the 2nd item (*Tips: you can use slicing with [0:2] or {:2]\r\n",
        "* Also try to print from the 2nd one to the end"
      ]
    },
    {
      "cell_type": "code",
      "metadata": {
        "id": "S5U_XAH-nHah"
      },
      "source": [
        "# Your Version\r\n",
        "\r\n",
        "\r\n",
        "\r\n",
        "\r\n",
        "\r\n",
        "\r\n",
        "\r\n",
        "\r\n",
        "\r\n"
      ],
      "execution_count": null,
      "outputs": []
    },
    {
      "cell_type": "code",
      "metadata": {
        "colab": {
          "base_uri": "https://localhost:8080/"
        },
        "id": "LteohtQ7ypYB",
        "outputId": "fa11fd80-5003-438a-ff01-2877e875cd47"
      },
      "source": [
        "my_list = [1,2,3,4,5]\r\n",
        "print (my_list[0:2])\r\n",
        "print (my_list[1:])\r\n",
        "\r\n",
        "\r\n",
        "\r\n",
        "\r\n",
        "\r\n",
        "\r\n",
        "\r\n"
      ],
      "execution_count": null,
      "outputs": [
        {
          "output_type": "stream",
          "text": [
            "[1, 2]\n",
            "[2, 3, 4, 5]\n"
          ],
          "name": "stdout"
        }
      ]
    },
    {
      "cell_type": "code",
      "metadata": {
        "colab": {
          "base_uri": "https://localhost:8080/"
        },
        "id": "lCXb_2cV0t-T",
        "outputId": "03fcdd7c-0678-4ff3-8c57-b9aee83de697"
      },
      "source": [
        "my_list = [1,2,3,4,5]\r\n",
        "my_list[1] = 6\r\n",
        "print (my_list)"
      ],
      "execution_count": null,
      "outputs": [
        {
          "output_type": "stream",
          "text": [
            "[1, 6, 3, 4, 5]\n"
          ],
          "name": "stdout"
        }
      ]
    },
    {
      "cell_type": "code",
      "metadata": {
        "colab": {
          "base_uri": "https://localhost:8080/"
        },
        "id": "MHowQJ2o1GKs",
        "outputId": "9a5abbd9-7ca5-4546-a675-182c2291db27"
      },
      "source": [
        "my_list1 = [1,2,3,4,5]\r\n",
        "my_list2 = [6,7,8,9]\r\n",
        "my_list = my_list1 + my_list2\r\n",
        "print (my_list)"
      ],
      "execution_count": null,
      "outputs": [
        {
          "output_type": "stream",
          "text": [
            "[1, 2, 3, 4, 5, 6, 7, 8, 9]\n"
          ],
          "name": "stdout"
        }
      ]
    },
    {
      "cell_type": "code",
      "metadata": {
        "colab": {
          "base_uri": "https://localhost:8080/"
        },
        "id": "ol94UMuf1Uzp",
        "outputId": "790df2ee-cf31-4b6a-bf70-f69458335d14"
      },
      "source": [
        "my_list1 = [1,2,3,4,5]\r\n",
        "my_list = my_list1 *2\r\n",
        "print (my_list)"
      ],
      "execution_count": null,
      "outputs": [
        {
          "output_type": "stream",
          "text": [
            "[1, 2, 3, 4, 5, 1, 2, 3, 4, 5]\n"
          ],
          "name": "stdout"
        }
      ]
    },
    {
      "cell_type": "markdown",
      "metadata": {
        "id": "rvdLmh9BF-t6"
      },
      "source": [
        "# Lesson 15 List Methods\r\n",
        "\r\n",
        "append(), count(), index(), insert(), pop()\r\n",
        "\r\n",
        "  listname.append(item)  \r\n",
        "\r\n",
        "  listname.count(item)\r\n",
        "\r\n",
        "  listname.index(item)\r\n",
        "\r\n",
        "  listname.insert(location, item)\r\n",
        "  \r\n",
        "  listname.pop(location)"
      ]
    },
    {
      "cell_type": "code",
      "metadata": {
        "colab": {
          "base_uri": "https://localhost:8080/"
        },
        "id": "DQM5GFSsHevl",
        "outputId": "4bc6cdd6-5a05-426c-c763-2c94699ed494"
      },
      "source": [
        "my_list4 = []\r\n",
        "\r\n",
        "my_list4.append(\"Ford\")\r\n",
        "print (my_list4)\r\n",
        "\r\n",
        "print (my_list4.count(\"Ford\"))\r\n",
        "\r\n",
        "print (my_list4.index(\"Ford\"))\r\n",
        "\r\n",
        "my_list4.append(\"BMW\")\r\n",
        "print (my_list4)\r\n",
        "\r\n",
        "print (my_list4.pop(0))\r\n",
        "\r\n",
        "my_list4.insert(1,\"Chevrolet\")\r\n",
        "print (my_list4)\r\n"
      ],
      "execution_count": null,
      "outputs": [
        {
          "output_type": "stream",
          "text": [
            "['Ford']\n",
            "1\n",
            "0\n",
            "['Ford', 'BMW']\n",
            "Ford\n",
            "['BMW', 'Chevrolet']\n"
          ],
          "name": "stdout"
        }
      ]
    },
    {
      "cell_type": "markdown",
      "metadata": {
        "id": "wyPkdhADOCKp"
      },
      "source": [
        "# Quiz"
      ]
    },
    {
      "cell_type": "markdown",
      "metadata": {
        "id": "dXLx5uU9OFPa"
      },
      "source": [
        "* Create an empty list and add a lion to the element.\r\n",
        "* Create another empty list and add tiger to the element.\r\n",
        "* Here, the two lists are combined and defined as the name of the original lion only.\r\n",
        "* Try inserting a snake in the middle of the combined list."
      ]
    },
    {
      "cell_type": "code",
      "metadata": {
        "id": "BSb-MTsqoUwD"
      },
      "source": [
        "# Your Version\r\n",
        "\r\n",
        "\r\n",
        "\r\n",
        "\r\n",
        "\r\n",
        "\r\n"
      ],
      "execution_count": null,
      "outputs": []
    },
    {
      "cell_type": "code",
      "metadata": {
        "colab": {
          "base_uri": "https://localhost:8080/"
        },
        "id": "Pb8txRxEOHFP",
        "outputId": "a961cca1-5cd5-4d8a-bd3b-4ad264bab6bc"
      },
      "source": [
        "my_list5 = []\r\n",
        "\r\n",
        "my_list5.append(\"lion\")\r\n",
        "print (my_list5)\r\n",
        "\r\n",
        "my_list6 = []\r\n",
        "my_list6.append(\"tiger\")\r\n",
        "print (my_list6)\r\n",
        "\r\n",
        "my_list5 = my_list5 + my_list6\r\n",
        "print (my_list5)\r\n",
        "\r\n",
        "my_list5.insert(1,\"snake\")\r\n",
        "print (my_list5)"
      ],
      "execution_count": null,
      "outputs": [
        {
          "output_type": "stream",
          "text": [
            "['lion']\n",
            "['tiger']\n",
            "['lion', 'tiger']\n",
            "['lion', 'snake', 'tiger']\n"
          ],
          "name": "stdout"
        }
      ]
    },
    {
      "cell_type": "code",
      "metadata": {
        "colab": {
          "base_uri": "https://localhost:8080/"
        },
        "id": "t7-fbegsQ5N9",
        "outputId": "aa5d6872-d5b0-45c7-d460-24fe16516878"
      },
      "source": [
        "list1 = [1,2,3,4]\r\n",
        "list1.append(\"lion\")\r\n",
        "print (list1)"
      ],
      "execution_count": null,
      "outputs": [
        {
          "output_type": "stream",
          "text": [
            "[1, 2, 3, 4, 'lion']\n"
          ],
          "name": "stdout"
        }
      ]
    },
    {
      "cell_type": "code",
      "metadata": {
        "colab": {
          "base_uri": "https://localhost:8080/"
        },
        "id": "Am3c9VT0Rax_",
        "outputId": "a711261f-0af9-44db-bacd-3aa1f6ea2beb"
      },
      "source": [
        "list2 = [1,2,3,4,1,2,3,4]\r\n",
        "print (list2.count(2))"
      ],
      "execution_count": null,
      "outputs": [
        {
          "output_type": "stream",
          "text": [
            "2\n"
          ],
          "name": "stdout"
        }
      ]
    },
    {
      "cell_type": "code",
      "metadata": {
        "colab": {
          "base_uri": "https://localhost:8080/"
        },
        "id": "35XVqCTuSABA",
        "outputId": "79efa247-9d3d-4c95-84bb-d216d76ef00b"
      },
      "source": [
        "list3 = [4,5,6,7,8,9]\r\n",
        "print (list3.index(7))"
      ],
      "execution_count": null,
      "outputs": [
        {
          "output_type": "stream",
          "text": [
            "3\n"
          ],
          "name": "stdout"
        }
      ]
    },
    {
      "cell_type": "code",
      "metadata": {
        "colab": {
          "base_uri": "https://localhost:8080/"
        },
        "id": "370K4U6FShIe",
        "outputId": "2c78d0b3-b061-40fa-f054-690e58a0a06f"
      },
      "source": [
        "list4 = [9,8,7,6,5,4]\r\n",
        "list4.insert(3, 100)\r\n",
        "print (list4)"
      ],
      "execution_count": null,
      "outputs": [
        {
          "output_type": "stream",
          "text": [
            "[9, 8, 7, 100, 6, 5, 4]\n"
          ],
          "name": "stdout"
        }
      ]
    },
    {
      "cell_type": "code",
      "metadata": {
        "colab": {
          "base_uri": "https://localhost:8080/"
        },
        "id": "AuREUBS9SuZf",
        "outputId": "add91a00-532a-4cd9-b984-5c2bed6f5de2"
      },
      "source": [
        "list5 = [3,4,5,6]\r\n",
        "list5.pop(1)\r\n",
        "print (list5)"
      ],
      "execution_count": null,
      "outputs": [
        {
          "output_type": "stream",
          "text": [
            "[3, 5, 6]\n"
          ],
          "name": "stdout"
        }
      ]
    },
    {
      "cell_type": "markdown",
      "metadata": {
        "id": "oyTLu85ZTSWN"
      },
      "source": [
        "# Lesson 16 Dictionary\r\n",
        "\r\n",
        "mydict = {key: value, key: value, key; value}"
      ]
    },
    {
      "cell_type": "markdown",
      "metadata": {
        "id": "h7EU_3VFUkFR"
      },
      "source": [
        "  bizcard['name'] = 'Joshua'\r\n",
        "\r\n",
        "  bizcard['phone'] = '55512345678'\r\n",
        "  \r\n",
        "  bizcard['company'] = 'Fast Campus'"
      ]
    },
    {
      "cell_type": "code",
      "metadata": {
        "colab": {
          "base_uri": "https://localhost:8080/"
        },
        "id": "z0fOklIlTbCc",
        "outputId": "02ef0271-1e8f-413f-d592-37264776631e"
      },
      "source": [
        "bizcard = {}\r\n",
        "bizcard[\"name\"] = \"Joshua\"\r\n",
        "bizcard[\"phone\"] = \"55512345678\"\r\n",
        "bizcard[\"company\"] = \"Fast Campus\"\r\n",
        " \r\n",
        "print (bizcard)\r\n",
        "print (bizcard[\"phone\"])"
      ],
      "execution_count": null,
      "outputs": [
        {
          "output_type": "stream",
          "text": [
            "{'name': 'Joshua', 'phone': '55512345678', 'company': 'Fast Campus'}\n",
            "55512345678\n"
          ],
          "name": "stdout"
        }
      ]
    },
    {
      "cell_type": "markdown",
      "metadata": {
        "id": "Lsyvpz_YV3BM"
      },
      "source": [
        "# Quiz"
      ]
    },
    {
      "cell_type": "markdown",
      "metadata": {
        "id": "jXd799aVY_gs"
      },
      "source": [
        "* Make an empty dictionary 'bizcard'\r\n",
        "* Add name to that dictionary ['Name'] = 'Ironman'\r\n",
        "* Add phone number to that dictionary['Phone Number'] = '012345678'\r\n",
        "* Add company name to that dictionary\r\n",
        "* Get the phone number out of that dictionary\r\n",
        " "
      ]
    },
    {
      "cell_type": "code",
      "metadata": {
        "id": "5vn1tlSlZc4q"
      },
      "source": [
        "# Your Version\r\n",
        "\r\n"
      ],
      "execution_count": null,
      "outputs": []
    },
    {
      "cell_type": "code",
      "metadata": {
        "colab": {
          "base_uri": "https://localhost:8080/"
        },
        "id": "AAx2YUcKZf1e",
        "outputId": "67f1aa09-0864-4199-a956-8c832aa764e2"
      },
      "source": [
        "# My Version\r\n",
        "bizcard = {}\r\n",
        "bizcard['Name'] = 'Ironman'\r\n",
        "bizcard['Phone Number'] = '012345678'\r\n",
        "bizcard['Company Name'] = 'The Avengers'\r\n",
        " \r\n",
        "print (bizcard)\r\n",
        "print (bizcard['Phone Number'])"
      ],
      "execution_count": null,
      "outputs": [
        {
          "output_type": "stream",
          "text": [
            "{'Name': 'Ironman', 'Phone Number': '012345678', 'Company Name': 'The Avengers'}\n",
            "012345678\n"
          ],
          "name": "stdout"
        }
      ]
    },
    {
      "cell_type": "code",
      "metadata": {
        "colab": {
          "base_uri": "https://localhost:8080/"
        },
        "id": "Qly5s4l9afDp",
        "outputId": "93f322ff-ea12-410e-9103-af30bb583109"
      },
      "source": [
        "bizcard = {}\r\n",
        "bizcard[\"name\"] = \"Joshua\"\r\n",
        "bizcard[\"phone\"] = \"55512345678\"\r\n",
        "bizcard[\"company\"] = \"ai2learn\"\r\n",
        " \r\n",
        "print (bizcard)\r\n",
        "print (bizcard[\"phone\"])\r\n",
        "print (bizcard[\"name\"])\r\n",
        "print (bizcard[\"company\"])"
      ],
      "execution_count": null,
      "outputs": [
        {
          "output_type": "stream",
          "text": [
            "{'name': 'Joshua', 'phone': '55512345678', 'company': 'ai2learn'}\n",
            "55512345678\n",
            "Joshua\n",
            "ai2learn\n"
          ],
          "name": "stdout"
        }
      ]
    },
    {
      "cell_type": "markdown",
      "metadata": {
        "id": "Jrv074u8veK8"
      },
      "source": [
        "# Lesson 17 Dictionary Methods"
      ]
    },
    {
      "cell_type": "markdown",
      "metadata": {
        "id": "6Pt-d0XcvpXK"
      },
      "source": [
        "  dictionaryname.items() \r\n",
        "\r\n",
        "  dictionaryname.keys() \r\n",
        "  \r\n",
        "  dictionaryname.values() \r\n",
        "\r\n"
      ]
    },
    {
      "cell_type": "markdown",
      "metadata": {
        "id": "MOgDJyfmwZcC"
      },
      "source": [
        "model : \"Camaro\"\r\n",
        "\r\n",
        "maker : \"Chevrolet\"\r\n",
        "\r\n",
        "year: \"2020\"\r\n",
        "\r\n",
        "\r\n",
        "Print the item.\r\n",
        "\r\n",
        "Print the key.\r\n",
        "\r\n",
        "Print the value.\r\n"
      ]
    },
    {
      "cell_type": "code",
      "metadata": {
        "colab": {
          "base_uri": "https://localhost:8080/"
        },
        "id": "W6WzaENavmp3",
        "outputId": "3e34acc2-b76e-4cd5-afad-2f65e3e995f9"
      },
      "source": [
        "mydict = { 'model' : 'Camaro', 'maker': 'Chevrolet', 'year': 2020}\r\n",
        "\r\n",
        "print (mydict.items())\r\n",
        "print (mydict.keys()) \r\n",
        "print (mydict.values())\r\n"
      ],
      "execution_count": null,
      "outputs": [
        {
          "output_type": "stream",
          "text": [
            "dict_items([('model', 'Camaro'), ('maker', 'Chevrolet'), ('year', 2020)])\n",
            "dict_keys(['model', 'maker', 'year'])\n",
            "dict_values(['Camaro', 'Chevrolet', 2020])\n"
          ],
          "name": "stdout"
        }
      ]
    },
    {
      "cell_type": "markdown",
      "metadata": {
        "id": "-XSwYC-5xEoI"
      },
      "source": [
        "  clear()     \r\n",
        "  copy()       \r\n",
        "  get()"
      ]
    },
    {
      "cell_type": "code",
      "metadata": {
        "id": "m0ssafR1vzU1",
        "colab": {
          "base_uri": "https://localhost:8080/"
        },
        "outputId": "243b6526-b4a9-43d4-c392-f627bce4e2ba"
      },
      "source": [
        "mydict = { 'model' : 'Camaro', 'maker': 'Chevrolet', 'year': 2020}\r\n",
        "newdict = mydict.copy()  \r\n",
        "print (newdict)\r\n",
        "print (mydict.get('model'))\r\n",
        "print (mydict.clear())"
      ],
      "execution_count": null,
      "outputs": [
        {
          "output_type": "stream",
          "text": [
            "{'model': 'Camaro', 'maker': 'Chevrolet', 'year': 2020}\n",
            "Camaro\n",
            "None\n"
          ],
          "name": "stdout"
        }
      ]
    },
    {
      "cell_type": "code",
      "metadata": {
        "id": "4w12Uhh1vzJ-",
        "colab": {
          "base_uri": "https://localhost:8080/"
        },
        "outputId": "fa2c3ffa-b09f-48ea-e3bd-002de631e255"
      },
      "source": [
        "dict1 = {'a':1, 'b':2, 'c':3}\r\n",
        "print (dict1.items())"
      ],
      "execution_count": null,
      "outputs": [
        {
          "output_type": "stream",
          "text": [
            "dict_items([('a', 1), ('b', 2), ('c', 3)])\n"
          ],
          "name": "stdout"
        }
      ]
    },
    {
      "cell_type": "code",
      "metadata": {
        "id": "KpKe_sOBvzAT",
        "colab": {
          "base_uri": "https://localhost:8080/"
        },
        "outputId": "3a5c4183-798d-4949-c36d-e16f209d50d3"
      },
      "source": [
        "dict1 = {'a':1, 'b':2, 'c':3}\r\n",
        "print (dict1.keys())"
      ],
      "execution_count": null,
      "outputs": [
        {
          "output_type": "stream",
          "text": [
            "dict_keys(['a', 'b', 'c'])\n"
          ],
          "name": "stdout"
        }
      ]
    },
    {
      "cell_type": "code",
      "metadata": {
        "id": "dwJ359CPvyyD",
        "colab": {
          "base_uri": "https://localhost:8080/"
        },
        "outputId": "97c2213c-5e44-48a9-eb44-d2ff5513cff2"
      },
      "source": [
        "dict1 = {'a':1, 'b':2, 'c':3}\r\n",
        "print (dict1.values())"
      ],
      "execution_count": null,
      "outputs": [
        {
          "output_type": "stream",
          "text": [
            "dict_values([1, 2, 3])\n"
          ],
          "name": "stdout"
        }
      ]
    },
    {
      "cell_type": "code",
      "metadata": {
        "colab": {
          "base_uri": "https://localhost:8080/"
        },
        "id": "Yog3g1tFx6yM",
        "outputId": "563a64cd-fdb9-40c5-cf61-bea2c68327c2"
      },
      "source": [
        "dict1 = {'a':1, 'b':2, 'c':3}\r\n",
        "print (dict1.clear())\r\n",
        "print (dict1)"
      ],
      "execution_count": null,
      "outputs": [
        {
          "output_type": "stream",
          "text": [
            "None\n",
            "{}\n"
          ],
          "name": "stdout"
        }
      ]
    },
    {
      "cell_type": "code",
      "metadata": {
        "colab": {
          "base_uri": "https://localhost:8080/"
        },
        "id": "et_n74ASya_e",
        "outputId": "cd95256f-76e5-40fb-8bac-d301b75c81a1"
      },
      "source": [
        "dict1 = {'a':1, 'b':2, 'c':3}\r\n",
        "dict2 = dict1.copy()\r\n",
        "print (dict2)"
      ],
      "execution_count": null,
      "outputs": [
        {
          "output_type": "stream",
          "text": [
            "{'a': 1, 'b': 2, 'c': 3}\n"
          ],
          "name": "stdout"
        }
      ]
    },
    {
      "cell_type": "code",
      "metadata": {
        "colab": {
          "base_uri": "https://localhost:8080/"
        },
        "id": "5GSqUYzDyhTL",
        "outputId": "20b6bedd-1703-410f-af69-5ad1cfea857f"
      },
      "source": [
        "dict1 = {'a':1, 'b':2, 'c':3}\r\n",
        "print (dict1.get('b'))"
      ],
      "execution_count": null,
      "outputs": [
        {
          "output_type": "stream",
          "text": [
            "2\n"
          ],
          "name": "stdout"
        }
      ]
    },
    {
      "cell_type": "markdown",
      "metadata": {
        "id": "6KWFQQLEyle5"
      },
      "source": [
        "#### Quiz Time"
      ]
    },
    {
      "cell_type": "markdown",
      "metadata": {
        "id": "OhH08LqqyvRc"
      },
      "source": [
        "# Quiz"
      ]
    },
    {
      "cell_type": "markdown",
      "metadata": {
        "id": "mBzTcacyzeNq"
      },
      "source": [
        "* Make a dictionary with 3 keys and values each\r\n",
        "\r\n",
        "* And copy that to a new dictionary\r\n",
        "\r\n",
        "* And then get keys, values and items\r\n"
      ]
    },
    {
      "cell_type": "code",
      "metadata": {
        "id": "OI0qFk6WcPLO"
      },
      "source": [
        "# Your Version\r\n",
        "\r\n",
        "\r\n",
        "\r\n",
        "\r\n",
        "\r\n",
        "\r\n"
      ],
      "execution_count": null,
      "outputs": []
    },
    {
      "cell_type": "code",
      "metadata": {
        "colab": {
          "base_uri": "https://localhost:8080/"
        },
        "id": "QXrqUNzrywyZ",
        "outputId": "6ba96c32-00a8-4591-9b7f-8e88c1e7d6c1"
      },
      "source": [
        "mydictionary = { 'car' : 'Tesla', 'model': '2020', 'driver': 'John'}\r\n",
        "\r\n",
        "dict1 = mydictionary.copy()\r\n",
        "print (dict1.keys())\r\n",
        "print (dict1.values())\r\n",
        "print (dict1.items())\r\n"
      ],
      "execution_count": null,
      "outputs": [
        {
          "output_type": "stream",
          "text": [
            "dict_keys(['car', 'model', 'driver'])\n",
            "dict_values(['Tesla', '2020', 'John'])\n",
            "dict_items([('car', 'Tesla'), ('model', '2020'), ('driver', 'John')])\n"
          ],
          "name": "stdout"
        }
      ]
    },
    {
      "cell_type": "markdown",
      "metadata": {
        "id": "no8rLOpq1V1X"
      },
      "source": [
        "# Lesson 18 Tuple"
      ]
    },
    {
      "cell_type": "markdown",
      "metadata": {
        "id": "yC0OdtvxpLMl"
      },
      "source": [
        "A tuple is a collection of unchangeable data and it only has few methods because of the property that it cannot be changed.\r\n",
        "\r\n",
        "mytupple = (item1, item2, item 3)\r\n",
        "\r\n",
        "tuple5 = (5,)"
      ]
    },
    {
      "cell_type": "code",
      "metadata": {
        "id": "naxXC2xV1aQh"
      },
      "source": [
        "  a = ('Chevrolet', 'KIA', 'Mercedes')  \r\n",
        "  b = ('BMW','Ford')\r\n",
        "  c = a + b          #  ('Chevrolet’, 'KIA’, 'Mercedes’, 'BMW’, 'Ford’)\r\n",
        "  d = b * 2          #  d = ('BMW’, 'Ford’, ’BMW’, 'Ford’)"
      ],
      "execution_count": null,
      "outputs": []
    },
    {
      "cell_type": "code",
      "metadata": {
        "colab": {
          "base_uri": "https://localhost:8080/",
          "height": 244
        },
        "id": "HaKenvYP1a0D",
        "outputId": "1218bc62-4f86-4380-b85e-06c7fc8870a2"
      },
      "source": [
        "a = (1,2,3,4,5)\r\n",
        "b = (6,7,8,9)\r\n",
        "\r\n",
        "c = a+b\r\n",
        "print (c)\r\n",
        "\r\n",
        "d = a*3\r\n",
        "print (d)\r\n",
        "\r\n",
        "b[0] = 10    # An error will occur and there is no such method"
      ],
      "execution_count": null,
      "outputs": [
        {
          "output_type": "stream",
          "text": [
            "(1, 2, 3, 4, 5, 6, 7, 8, 9)\n",
            "(1, 2, 3, 4, 5, 1, 2, 3, 4, 5, 1, 2, 3, 4, 5)\n"
          ],
          "name": "stdout"
        },
        {
          "output_type": "error",
          "ename": "TypeError",
          "evalue": "ignored",
          "traceback": [
            "\u001b[0;31m---------------------------------------------------------------------------\u001b[0m",
            "\u001b[0;31mTypeError\u001b[0m                                 Traceback (most recent call last)",
            "\u001b[0;32m<ipython-input-185-6e295246220c>\u001b[0m in \u001b[0;36m<module>\u001b[0;34m()\u001b[0m\n\u001b[1;32m      8\u001b[0m \u001b[0mprint\u001b[0m \u001b[0;34m(\u001b[0m\u001b[0md\u001b[0m\u001b[0;34m)\u001b[0m\u001b[0;34m\u001b[0m\u001b[0;34m\u001b[0m\u001b[0m\n\u001b[1;32m      9\u001b[0m \u001b[0;34m\u001b[0m\u001b[0m\n\u001b[0;32m---> 10\u001b[0;31m \u001b[0mb\u001b[0m\u001b[0;34m[\u001b[0m\u001b[0;36m0\u001b[0m\u001b[0;34m]\u001b[0m \u001b[0;34m=\u001b[0m \u001b[0;36m10\u001b[0m    \u001b[0;31m# An erroe will occur and there is no such method\u001b[0m\u001b[0;34m\u001b[0m\u001b[0;34m\u001b[0m\u001b[0m\n\u001b[0m",
            "\u001b[0;31mTypeError\u001b[0m: 'tuple' object does not support item assignment"
          ]
        }
      ]
    },
    {
      "cell_type": "code",
      "metadata": {
        "colab": {
          "base_uri": "https://localhost:8080/"
        },
        "id": "S8K5TXJI1atk",
        "outputId": "f9f63445-27f8-4871-b0d4-5e2fba5494d1"
      },
      "source": [
        "a = ('Chevrolet', 'KIA', 'Mercedes')  \r\n",
        "print (a[0]) \r\n",
        "print (a[1:2]) \r\n",
        "print (a[:2]) \r\n",
        "print (a.count('KIA'))\r\n",
        "print (a.index('Mercedes'))"
      ],
      "execution_count": null,
      "outputs": [
        {
          "output_type": "stream",
          "text": [
            "Chevrolet\n",
            "('KIA',)\n",
            "('Chevrolet', 'KIA')\n",
            "1\n",
            "2\n"
          ],
          "name": "stdout"
        }
      ]
    },
    {
      "cell_type": "markdown",
      "metadata": {
        "id": "Rwz7oKjP1uZC"
      },
      "source": [
        "# Quiz"
      ]
    },
    {
      "cell_type": "markdown",
      "metadata": {
        "id": "F2ptvoiwhUeN"
      },
      "source": [
        "a = ('Chevrolet', 'KIA', 'Mercedes')\r\n",
        "\r\n",
        "b = ('Tesla', 'Ford', 'Chrysler’)\r\n",
        "\r\n",
        "1. Combine them\r\n",
        "\r\n",
        "2. Use count()\r\n",
        "\r\n",
        "3. Indexing whatever you want, and displays it\r\n",
        "\r\n",
        "4. And slicing whatever you want, and displays it\r\n"
      ]
    },
    {
      "cell_type": "code",
      "metadata": {
        "id": "-cX5K48y1wSM"
      },
      "source": [
        "# Your Version\r\n",
        "\r\n",
        "\r\n",
        "\r\n",
        "\r\n",
        "\r\n",
        "\r\n"
      ],
      "execution_count": null,
      "outputs": []
    },
    {
      "cell_type": "code",
      "metadata": {
        "colab": {
          "base_uri": "https://localhost:8080/"
        },
        "id": "MPzLAgiS1xej",
        "outputId": "99ec7795-3038-455a-ac9d-dd7cf7526479"
      },
      "source": [
        "a = ('Chevrolet', 'KIA', 'Mercedes')  \r\n",
        "b = ('Tesla', 'Ford', 'Chrysler') \r\n",
        "\r\n",
        "a = a+b\r\n",
        "\r\n",
        "print (a.count('Tesla'))\r\n",
        "print (a.index('Mercedes'))\r\n",
        "print (a[:3]) "
      ],
      "execution_count": null,
      "outputs": [
        {
          "output_type": "stream",
          "text": [
            "1\n",
            "2\n",
            "('Chevrolet', 'KIA', 'Mercedes')\n"
          ],
          "name": "stdout"
        }
      ]
    },
    {
      "cell_type": "markdown",
      "metadata": {
        "id": "2aVhqx5K1yEy"
      },
      "source": [
        "# Lesson 19 Set"
      ]
    },
    {
      "cell_type": "markdown",
      "metadata": {
        "id": "GxR7e2J_q-gn"
      },
      "source": [
        "myset = { item1, item2, item 3}"
      ]
    },
    {
      "cell_type": "code",
      "metadata": {
        "id": "ghkclg6W10o4"
      },
      "source": [
        "mylist = ['John', 'Tom', 'John', 'Josh', 'Peter']\r\n",
        "myset = set(mylist) "
      ],
      "execution_count": null,
      "outputs": []
    },
    {
      "cell_type": "markdown",
      "metadata": {
        "id": "W57hU6f7rVjU"
      },
      "source": [
        "c = a.intersection(b)       # c = a & b  \r\n",
        "  \r\n",
        "d = a.union(b)              # d = a | b  \r\n",
        "\r\n",
        "e = a.difference(b)  "
      ]
    },
    {
      "cell_type": "code",
      "metadata": {
        "colab": {
          "base_uri": "https://localhost:8080/"
        },
        "id": "uE_76cvt11ca",
        "outputId": "f7593d11-bb06-4621-a612-1b4ecb0294ba"
      },
      "source": [
        "a = {1,2,3,4,5} \r\n",
        "b = {5,6,7,8,9}\r\n",
        "c = a.intersection(b)   \r\n",
        "d = a.union(b)\r\n",
        "e = a.difference(b) \r\n",
        "\r\n",
        "print (c)\r\n",
        "print (d)\r\n",
        "print (e)"
      ],
      "execution_count": null,
      "outputs": [
        {
          "output_type": "stream",
          "text": [
            "{5}\n",
            "{1, 2, 3, 4, 5, 6, 7, 8, 9}\n",
            "{1, 2, 3, 4}\n"
          ],
          "name": "stdout"
        }
      ]
    },
    {
      "cell_type": "code",
      "metadata": {
        "colab": {
          "base_uri": "https://localhost:8080/"
        },
        "id": "QyTBOW3311RS",
        "outputId": "7bb01a17-0bda-4c94-af3d-37732118ed6b"
      },
      "source": [
        "a = {1,2,3,4,5} \r\n",
        "\r\n",
        "a.add(6)\r\n",
        "print (a)\r\n",
        "\r\n",
        "a.update({7,8})\r\n",
        "print (a)\r\n",
        "\r\n",
        "a.remove(5)\r\n",
        "print (a)"
      ],
      "execution_count": null,
      "outputs": [
        {
          "output_type": "stream",
          "text": [
            "{1, 2, 3, 4, 5, 6}\n",
            "{1, 2, 3, 4, 5, 6, 7, 8}\n",
            "{1, 2, 3, 4, 6, 7, 8}\n"
          ],
          "name": "stdout"
        }
      ]
    },
    {
      "cell_type": "markdown",
      "metadata": {
        "id": "rNvg7-dl122m"
      },
      "source": [
        "# Quiz"
      ]
    },
    {
      "cell_type": "markdown",
      "metadata": {
        "id": "EzX7ttMYhluz"
      },
      "source": [
        "a = {'Ford', 'KIA'}\r\n",
        "\r\n",
        "1. Add 'Hyundai'\r\n",
        "\r\n",
        "2. Update’ with 'Maserati' and 'Jaguar'\r\n",
        "\r\n",
        "3. Remove 'Ford'\r\n"
      ]
    },
    {
      "cell_type": "code",
      "metadata": {
        "id": "gPTr8X9B16MQ"
      },
      "source": [
        "# Your Version\r\n",
        "\r\n",
        "\r\n",
        "\r\n",
        "\r\n",
        "\r\n",
        "\r\n"
      ],
      "execution_count": null,
      "outputs": []
    },
    {
      "cell_type": "code",
      "metadata": {
        "colab": {
          "base_uri": "https://localhost:8080/"
        },
        "id": "WPiLrkuF17EW",
        "outputId": "0d536a83-1c02-48bc-9d4b-0f1231ec4804"
      },
      "source": [
        "a = {'Ford', 'KIA'} \r\n",
        "\r\n",
        "a.add('Hyundai')\r\n",
        "print (a)"
      ],
      "execution_count": null,
      "outputs": [
        {
          "output_type": "stream",
          "text": [
            "{'Hyundai', 'KIA', 'Ford'}\n"
          ],
          "name": "stdout"
        }
      ]
    },
    {
      "cell_type": "code",
      "metadata": {
        "colab": {
          "base_uri": "https://localhost:8080/"
        },
        "id": "uD3NrL3T162P",
        "outputId": "d3c88d2a-a7b8-4dec-d5ec-2df57a4ee644"
      },
      "source": [
        "a.update({'Maserati', 'Jaguar'})\r\n",
        "print (a)"
      ],
      "execution_count": null,
      "outputs": [
        {
          "output_type": "stream",
          "text": [
            "{'Hyundai', 'Jaguar', 'Maserati', 'Ford', 'KIA'}\n"
          ],
          "name": "stdout"
        }
      ]
    },
    {
      "cell_type": "code",
      "metadata": {
        "colab": {
          "base_uri": "https://localhost:8080/"
        },
        "id": "BjNOckxh16np",
        "outputId": "a6d25799-6ecc-4f86-bfaf-e479c13ddb44"
      },
      "source": [
        "a.remove('Ford')\r\n",
        "print (a)"
      ],
      "execution_count": null,
      "outputs": [
        {
          "output_type": "stream",
          "text": [
            "{'Hyundai', 'Jaguar', 'Maserati', 'KIA'}\n"
          ],
          "name": "stdout"
        }
      ]
    },
    {
      "cell_type": "markdown",
      "metadata": {
        "id": "YVqwFHaj17q-"
      },
      "source": [
        "# Lesson 20 Making Functions"
      ]
    },
    {
      "cell_type": "markdown",
      "metadata": {
        "id": "BcoaBpglxUae"
      },
      "source": [
        "    def function_name():\r\n",
        "           function's function\r\n",
        "           \r\n",
        "    function_name() # caling the function   "
      ]
    },
    {
      "cell_type": "code",
      "metadata": {
        "colab": {
          "base_uri": "https://localhost:8080/"
        },
        "id": "Z6UOSfl32AOD",
        "outputId": "cf9b227c-50ea-4003-b769-a9506962d13a"
      },
      "source": [
        "def brake(): \r\n",
        "    print (\"Hit the brake, then the brake will stop the car.\")\r\n",
        "\r\n",
        "brake()"
      ],
      "execution_count": null,
      "outputs": [
        {
          "output_type": "stream",
          "text": [
            "Hit the brake, then the brake will stop the car.\n"
          ],
          "name": "stdout"
        }
      ]
    },
    {
      "cell_type": "code",
      "metadata": {
        "colab": {
          "base_uri": "https://localhost:8080/"
        },
        "id": "SLWkxKuf2AAS",
        "outputId": "677f06e5-4964-4709-92ec-bf5d9625fbcb"
      },
      "source": [
        "def wiper():\r\n",
        "    print (\"When it is rainy, it is useful.\")\r\n",
        "\r\n",
        "wiper()"
      ],
      "execution_count": null,
      "outputs": [
        {
          "output_type": "stream",
          "text": [
            "When it is rainy, it is useful.\n"
          ],
          "name": "stdout"
        }
      ]
    },
    {
      "cell_type": "code",
      "metadata": {
        "colab": {
          "base_uri": "https://localhost:8080/"
        },
        "id": "m6tHmKVq1_x8",
        "outputId": "836ca37d-e387-41f1-a549-400e4214d8c8"
      },
      "source": [
        "def mycal():\r\n",
        "    x = 3\r\n",
        "    print (x**3)\r\n",
        "\r\n",
        "mycal()"
      ],
      "execution_count": null,
      "outputs": [
        {
          "output_type": "stream",
          "text": [
            "27\n"
          ],
          "name": "stdout"
        }
      ]
    },
    {
      "cell_type": "markdown",
      "metadata": {
        "id": "B9v7Onq-2BCY"
      },
      "source": [
        "# Quiz"
      ]
    },
    {
      "cell_type": "markdown",
      "metadata": {
        "id": "-u_A4-gwifiN"
      },
      "source": [
        "1. make a function that add a and b\r\n",
        " \r\n",
        " 2. a is 10 \r\n",
        " \r\n",
        " 3. b is 5\r\n",
        "\r\n",
        "4. Make sure that you “call” the function at the end\r\n"
      ]
    },
    {
      "cell_type": "code",
      "metadata": {
        "id": "xqwJ0A7_2Dps"
      },
      "source": [
        "# Your Version\r\n",
        "\r\n",
        "\r\n",
        "\r\n",
        "\r\n",
        "\r\n",
        "\r\n"
      ],
      "execution_count": null,
      "outputs": []
    },
    {
      "cell_type": "code",
      "metadata": {
        "colab": {
          "base_uri": "https://localhost:8080/"
        },
        "id": "wyCOiDTM2Dea",
        "outputId": "ced2b3f5-02da-425b-8ba1-0ee2582158aa"
      },
      "source": [
        "a= 10\r\n",
        "b= 5\r\n",
        "\r\n",
        "def mycal():\r\n",
        "     print (a+b)\r\n",
        "\r\n",
        "mycal()"
      ],
      "execution_count": null,
      "outputs": [
        {
          "output_type": "stream",
          "text": [
            "15\n"
          ],
          "name": "stdout"
        }
      ]
    },
    {
      "cell_type": "markdown",
      "metadata": {
        "id": "IN1tV-Iz2Nz6"
      },
      "source": [
        "# Lesson 21 Parameters and Arguments"
      ]
    },
    {
      "cell_type": "markdown",
      "metadata": {
        "id": "WUh5XLpuy8oH"
      },
      "source": [
        "    def function name (parameter 1, parameter 2):        # function declaration\r\n",
        "         Main Function\r\n",
        "\r\n",
        "     Function name (argument 1, argument 2)           # calling the function "
      ]
    },
    {
      "cell_type": "code",
      "metadata": {
        "colab": {
          "base_uri": "https://localhost:8080/"
        },
        "id": "n8rxaAl42UQA",
        "outputId": "663bc68b-ce68-4dbf-a9e7-2da4dbae7d2a"
      },
      "source": [
        "def onair(date1, time1):\r\n",
        "   print (\"The show is on at {1} on {0}\".format(date1, time1))\r\n",
        "\r\n",
        "onair(\"Friday\", \"7pm\")\r\n"
      ],
      "execution_count": null,
      "outputs": [
        {
          "output_type": "stream",
          "text": [
            "The show is on at 7pm on Friday\n"
          ],
          "name": "stdout"
        }
      ]
    },
    {
      "cell_type": "markdown",
      "metadata": {
        "id": "pzIUtECb2VCC"
      },
      "source": [
        "# Quiz"
      ]
    },
    {
      "cell_type": "markdown",
      "metadata": {
        "id": "4KUOpkamivnU"
      },
      "source": [
        "Declare the function that prints out three sentences\r\n",
        "\r\n",
        "Use 2 parameters (wish, country) \r\n",
        "\r\n",
        "Use 3 arguments per each parameter\r\n"
      ]
    },
    {
      "cell_type": "code",
      "metadata": {
        "id": "x2-yAl8B2YZJ"
      },
      "source": [
        "# Your Version\r\n",
        "\r\n",
        "\r\n",
        "\r\n",
        "\r\n",
        "\r\n",
        "\r\n"
      ],
      "execution_count": null,
      "outputs": []
    },
    {
      "cell_type": "code",
      "metadata": {
        "colab": {
          "base_uri": "https://localhost:8080/"
        },
        "id": "N4z7Bq1R2YNb",
        "outputId": "6a52d9b4-831a-4b28-edc3-a8d470d81caa"
      },
      "source": [
        "def my_function3(wish, country):\r\n",
        "       print (wish + country)\r\n",
        "\r\n",
        "my_function3(\"I would like to go to\", \" Korea.\")\r\n",
        "my_function3(\"I would like to visit\", \" Spain.\")\r\n",
        "my_function3(\"I would like to live in\", \" Australia.\")"
      ],
      "execution_count": null,
      "outputs": [
        {
          "output_type": "stream",
          "text": [
            "I would like to go to Korea.\n",
            "I would like to visit Spain.\n",
            "I would like to live in Australia.\n"
          ],
          "name": "stdout"
        }
      ]
    },
    {
      "cell_type": "code",
      "metadata": {
        "colab": {
          "base_uri": "https://localhost:8080/"
        },
        "id": "mjDj9DYV0va_",
        "outputId": "73de1d8e-dcad-48f3-dc42-f5d3c8bdf3bc"
      },
      "source": [
        "def my_function4(a,b):\r\n",
        "     print (a**2, b**3)\r\n",
        "\r\n",
        "my_function4(1,2)\r\n",
        "my_function4(3,4)\r\n",
        "my_function4(5,6)"
      ],
      "execution_count": null,
      "outputs": [
        {
          "output_type": "stream",
          "text": [
            "1 8\n",
            "9 64\n",
            "25 216\n"
          ],
          "name": "stdout"
        }
      ]
    },
    {
      "cell_type": "markdown",
      "metadata": {
        "id": "GngNBoUsRXi-"
      },
      "source": [
        "# Lesson22 Conditional Statements in Function"
      ]
    },
    {
      "cell_type": "markdown",
      "metadata": {
        "id": "TlUdVViY34n0"
      },
      "source": [
        "\r\n",
        "\r\n",
        "\r\n",
        "    def function_name(parameters):\r\n",
        "      if condition:\r\n",
        "          return\r\n",
        "      elif condition:\r\n",
        "          return\r\n",
        "      else:\r\n",
        "          return\r\n",
        "\r\n",
        "    function_name(arguments)\r\n",
        "\r\n",
        "\r\n"
      ]
    },
    {
      "cell_type": "code",
      "metadata": {
        "colab": {
          "base_uri": "https://localhost:8080/"
        },
        "id": "k6ys3mLMRga_",
        "outputId": "c6e5159d-036d-44de-c0c8-f058aa2c9221"
      },
      "source": [
        "def accelerator(speed):\r\n",
        "    if speed > 80:\r\n",
        "        print (\"Slow down!\")\r\n",
        "    else:\r\n",
        "        print (\"Go!\")\r\n",
        "\r\n",
        "accelerator(85)"
      ],
      "execution_count": null,
      "outputs": [
        {
          "output_type": "stream",
          "text": [
            "Slow down!\n"
          ],
          "name": "stdout"
        }
      ]
    },
    {
      "cell_type": "code",
      "metadata": {
        "colab": {
          "base_uri": "https://localhost:8080/"
        },
        "id": "FzjjAdGwRhN6",
        "outputId": "8e564cb4-c100-42b6-a3d9-ea23cdf1b5f0"
      },
      "source": [
        "x = 5\r\n",
        "y = 10\r\n",
        "\r\n",
        "def cal():\r\n",
        "    if x == y:\r\n",
        "        print (\"They are the same.\")\r\n",
        "    elif x > y:\r\n",
        "        print (\"x is larger than y\")\r\n",
        "    else:\r\n",
        "        print (\"y is larger than x.\")\r\n",
        "\r\n",
        "cal()"
      ],
      "execution_count": null,
      "outputs": [
        {
          "output_type": "stream",
          "text": [
            "y is larger than x.\n"
          ],
          "name": "stdout"
        }
      ]
    },
    {
      "cell_type": "markdown",
      "metadata": {
        "id": "Qx-HYOWgRh8A"
      },
      "source": [
        "# Quiz"
      ]
    },
    {
      "cell_type": "markdown",
      "metadata": {
        "id": "EDpX8IFdi0E6"
      },
      "source": [
        "Please make the following function with conditional statements\r\n",
        "\r\n",
        "If the temperature is over 30 degree celsius, a bottle of cold water is 2 dollars\r\n",
        "\r\n",
        "If it is under 25, the price is 1 dollar\r\n",
        "\r\n",
        "If they are neither over 30 nor under 25, the price is $1.50\r\n",
        "\r\n"
      ]
    },
    {
      "cell_type": "code",
      "metadata": {
        "id": "paUQnZumRkuz"
      },
      "source": [
        "# Your Version\r\n",
        "\r\n",
        "\r\n",
        "\r\n",
        "\r\n",
        "\r\n",
        "\r\n"
      ],
      "execution_count": null,
      "outputs": []
    },
    {
      "cell_type": "code",
      "metadata": {
        "colab": {
          "base_uri": "https://localhost:8080/"
        },
        "id": "XG1aIPtFRl91",
        "outputId": "263450e6-294d-45f5-aee5-a05defbe48a6"
      },
      "source": [
        "def seller(temp,price):\r\n",
        "    if temp > 30:\r\n",
        "        print (\"The price for a bottle of cold water is {} dollars.\".format(price))\r\n",
        "    elif temp <25:\r\n",
        "       print (\"The price for a bottle of cold water is {} dollars.\".format(price))\r\n",
        "    else:\r\n",
        "        print (\"The price for a bottle of cold water is {} dollars.\".format(price))\r\n",
        "\r\n",
        "seller(32,2)\r\n",
        "seller(26,1.5)\r\n",
        "seller(22,1)"
      ],
      "execution_count": null,
      "outputs": [
        {
          "output_type": "stream",
          "text": [
            "The price for a bottle of cold water is 2 dollars.\n",
            "The price for a bottle of cold water is 1.5 dollars.\n",
            "The price for a bottle of cold water is 1 dollars.\n"
          ],
          "name": "stdout"
        }
      ]
    },
    {
      "cell_type": "markdown",
      "metadata": {
        "id": "48NP7r0FRqSq"
      },
      "source": [
        "# Lesson 23 Importing Modules"
      ]
    },
    {
      "cell_type": "code",
      "metadata": {
        "id": "TbczZSmxRmdy"
      },
      "source": [
        "from random import randint"
      ],
      "execution_count": null,
      "outputs": []
    },
    {
      "cell_type": "code",
      "metadata": {
        "id": "ZVxJULciRmjA"
      },
      "source": [
        "from datetime import datetime"
      ],
      "execution_count": null,
      "outputs": []
    },
    {
      "cell_type": "code",
      "metadata": {
        "id": "oqmn18byRmn1"
      },
      "source": [
        "toss = randint(0, 1)"
      ],
      "execution_count": null,
      "outputs": []
    },
    {
      "cell_type": "code",
      "metadata": {
        "id": "OqEcir5URmsS"
      },
      "source": [
        "current_time = datetime.now()       \r\n",
        "c_year = current_time.year          \r\n",
        "c_month = current_time.month        \r\n",
        "c_day = current_time.day "
      ],
      "execution_count": null,
      "outputs": []
    },
    {
      "cell_type": "code",
      "metadata": {
        "colab": {
          "base_uri": "https://localhost:8080/"
        },
        "id": "IXipTtWSRmwf",
        "outputId": "45141e96-2a6d-43a4-c582-3e915d92f863"
      },
      "source": [
        "from random import randint\r\n",
        "\r\n",
        "dice_toss = randint(1, 6)\r\n",
        "print (dice_toss)"
      ],
      "execution_count": null,
      "outputs": [
        {
          "output_type": "stream",
          "text": [
            "4\n"
          ],
          "name": "stdout"
        }
      ]
    },
    {
      "cell_type": "code",
      "metadata": {
        "colab": {
          "base_uri": "https://localhost:8080/"
        },
        "id": "3x--ntix679z",
        "outputId": "822b1e5a-79e7-48ca-d0fe-138075abac17"
      },
      "source": [
        "import math               \r\n",
        "\r\n",
        "print (math.ceil(0.5))           \r\n",
        "print (math.floor(0.5))  \r\n",
        "print (max([1, 2, 3]))\r\n",
        "print (max('Chevrolet'))\r\n",
        "print (min([1, 2, 3]))\r\n",
        "print (min('Chevrolet'))"
      ],
      "execution_count": null,
      "outputs": [
        {
          "output_type": "stream",
          "text": [
            "1\n",
            "0\n",
            "3\n",
            "v\n",
            "1\n",
            "C\n"
          ],
          "name": "stdout"
        }
      ]
    },
    {
      "cell_type": "code",
      "metadata": {
        "colab": {
          "base_uri": "https://localhost:8080/"
        },
        "id": "5JI1Oclf7FU9",
        "outputId": "77c23570-7a9c-43d9-d085-502badc837c2"
      },
      "source": [
        "import math\r\n",
        "mynumber = math.sqrt(10)\r\n",
        "print (mynumber)"
      ],
      "execution_count": null,
      "outputs": [
        {
          "output_type": "stream",
          "text": [
            "3.1622776601683795\n"
          ],
          "name": "stdout"
        }
      ]
    },
    {
      "cell_type": "code",
      "metadata": {
        "colab": {
          "base_uri": "https://localhost:8080/"
        },
        "id": "8FkWXyj47K6E",
        "outputId": "e449c724-6beb-40d4-ac8e-3b4a10ec298a"
      },
      "source": [
        "import math\r\n",
        "mynumber2 = math.factorial(4)\r\n",
        "print (mynumber2)"
      ],
      "execution_count": null,
      "outputs": [
        {
          "output_type": "stream",
          "text": [
            "24\n"
          ],
          "name": "stdout"
        }
      ]
    },
    {
      "cell_type": "markdown",
      "metadata": {
        "id": "B19Xje04RvJi"
      },
      "source": [
        "# Quiz"
      ]
    },
    {
      "cell_type": "markdown",
      "metadata": {
        "id": "YZVMj4Vki7Hr"
      },
      "source": [
        "Please use randint to make the following codes\r\n",
        "\r\n",
        "Famous basketball players Harden and Curry play one-on-one basketball\r\n",
        "\r\n",
        "In this game, it is assumed that they can score between 11 and 30 points\r\n",
        "\r\n",
        "Let's see who wins?\r\n"
      ]
    },
    {
      "cell_type": "code",
      "metadata": {
        "id": "yZj7ghRARm0v"
      },
      "source": [
        "# Your Version\r\n",
        "\r\n",
        "\r\n",
        "\r\n",
        "\r\n",
        "\r\n",
        "\r\n"
      ],
      "execution_count": null,
      "outputs": []
    },
    {
      "cell_type": "code",
      "metadata": {
        "colab": {
          "base_uri": "https://localhost:8080/"
        },
        "id": "7NmaTOsfRm73",
        "outputId": "f37d00f5-8127-44cf-d9ce-3a95d763cb9b"
      },
      "source": [
        "from random import randint\r\n",
        "\r\n",
        "coin_toss = randint(0, 1)\r\n",
        "print (coin_toss)\r\n",
        "\r\n",
        "harden_score = randint(11, 30)\r\n",
        "curry_score =  randint(11, 30)\r\n",
        "\r\n",
        "print (harden_score)\r\n",
        "\r\n",
        "print (curry_score)"
      ],
      "execution_count": null,
      "outputs": [
        {
          "output_type": "stream",
          "text": [
            "0\n",
            "30\n",
            "27\n"
          ],
          "name": "stdout"
        }
      ]
    },
    {
      "cell_type": "markdown",
      "metadata": {
        "id": "eR362jdP7iCp"
      },
      "source": [
        "We may want to print the date as year-month-day in an  Asian style format, and we may want to print the date as month-day-year in an American style format."
      ]
    },
    {
      "cell_type": "code",
      "metadata": {
        "colab": {
          "base_uri": "https://localhost:8080/"
        },
        "id": "iOZBQuKq7c0V",
        "outputId": "e1c20ac6-d970-46cc-b7bb-e940fab76ccb"
      },
      "source": [
        "from datetime import datetime\r\n",
        "current_time = datetime.now()\r\n",
        "\r\n",
        "current_year = current_time.year\r\n",
        "current_month = current_time.month\r\n",
        "current_day = current_time.day\r\n",
        "\r\n",
        "print (\"{0:0=4d}-{1:0=02d}-{2:0=02d}\".format(current_year, current_month, current_day))"
      ],
      "execution_count": null,
      "outputs": [
        {
          "output_type": "stream",
          "text": [
            "2021-02-14\n"
          ],
          "name": "stdout"
        }
      ]
    },
    {
      "cell_type": "markdown",
      "metadata": {
        "id": "igR2I_wTRyFc"
      },
      "source": [
        "# Lesson 24 For Loop"
      ]
    },
    {
      "cell_type": "markdown",
      "metadata": {
        "id": "V5Vw5YbfAD90"
      },
      "source": [
        "    for variable in target:\r\n",
        "              What to do for variable in target:"
      ]
    },
    {
      "cell_type": "markdown",
      "metadata": {
        "id": "Ugvgjt75ANXZ"
      },
      "source": [
        "    a=[1,2,3,4,5]\r\n",
        "\r\n",
        "    for var in a:\r\n",
        "        print (var)"
      ]
    },
    {
      "cell_type": "markdown",
      "metadata": {
        "id": "JWQaFquBAWcH"
      },
      "source": [
        "        b = [＂KIA＂, ＂BMW＂}\r\n",
        "\r\n",
        "        for s in b:\r\n",
        "            print (s)"
      ]
    },
    {
      "cell_type": "code",
      "metadata": {
        "colab": {
          "base_uri": "https://localhost:8080/"
        },
        "id": "uXtXBoCFRnME",
        "outputId": "98b19b7c-688b-4517-beba-17c9e16922c5"
      },
      "source": [
        "for i in range(5):\r\n",
        "    print ('car')"
      ],
      "execution_count": null,
      "outputs": [
        {
          "output_type": "stream",
          "text": [
            "car\n",
            "car\n",
            "car\n",
            "car\n",
            "car\n"
          ],
          "name": "stdout"
        }
      ]
    },
    {
      "cell_type": "code",
      "metadata": {
        "colab": {
          "base_uri": "https://localhost:8080/"
        },
        "id": "gwTRRp0NAsUp",
        "outputId": "ca9b55ec-e84b-4a1d-965b-522ea9209d82"
      },
      "source": [
        "total = 0\r\n",
        "n = 10      \r\n",
        "for i in range(1, n + 1): \r\n",
        "    total += i     \r\n",
        "print (total)"
      ],
      "execution_count": null,
      "outputs": [
        {
          "output_type": "stream",
          "text": [
            "55\n"
          ],
          "name": "stdout"
        }
      ]
    },
    {
      "cell_type": "code",
      "metadata": {
        "colab": {
          "base_uri": "https://localhost:8080/"
        },
        "id": "JMAfr0hrRnRM",
        "outputId": "f05f365a-f485-4ae5-9482-297a12668a9f"
      },
      "source": [
        "for character in 'KOREA':\r\n",
        "    print (character)"
      ],
      "execution_count": null,
      "outputs": [
        {
          "output_type": "stream",
          "text": [
            "K\n",
            "O\n",
            "R\n",
            "E\n",
            "A\n"
          ],
          "name": "stdout"
        }
      ]
    },
    {
      "cell_type": "code",
      "metadata": {
        "colab": {
          "base_uri": "https://localhost:8080/"
        },
        "id": "oX_LxaLfRnU6",
        "outputId": "f7b88ab6-2407-44fd-abca-8f21944e6aa7"
      },
      "source": [
        "for i in range(2, 5):\r\n",
        "    print (i**2, i**3)"
      ],
      "execution_count": null,
      "outputs": [
        {
          "output_type": "stream",
          "text": [
            "4 8\n",
            "9 27\n",
            "16 64\n"
          ],
          "name": "stdout"
        }
      ]
    },
    {
      "cell_type": "code",
      "metadata": {
        "colab": {
          "base_uri": "https://localhost:8080/"
        },
        "id": "caVXunmSRnZf",
        "outputId": "efd6504d-ae9f-4761-a548-28cda37028ce"
      },
      "source": [
        "for n in range(10, 0, -3):\r\n",
        "    print (n)"
      ],
      "execution_count": null,
      "outputs": [
        {
          "output_type": "stream",
          "text": [
            "10\n",
            "7\n",
            "4\n",
            "1\n"
          ],
          "name": "stdout"
        }
      ]
    },
    {
      "cell_type": "code",
      "metadata": {
        "colab": {
          "base_uri": "https://localhost:8080/"
        },
        "id": "BQ680HC9BAxp",
        "outputId": "c65eaa40-22d1-4d74-faac-48d3d3ab88e3"
      },
      "source": [
        "for n in range(10, 20, 3):\r\n",
        "    print (n)"
      ],
      "execution_count": null,
      "outputs": [
        {
          "output_type": "stream",
          "text": [
            "10\n",
            "13\n",
            "16\n",
            "19\n"
          ],
          "name": "stdout"
        }
      ]
    },
    {
      "cell_type": "markdown",
      "metadata": {
        "id": "8fb92WZuR3AP"
      },
      "source": [
        "# Quiz"
      ]
    },
    {
      "cell_type": "markdown",
      "metadata": {
        "id": "byjP_3A1jEje"
      },
      "source": [
        "(1)\r\n",
        "\r\n",
        "mycars = [ 'KIA','Jaguar','BMW']\r\n",
        "\r\n",
        "With the cars in the list, print \"I love ‘this brand’\" within the range of the list.\r\n",
        "\r\n",
        "Use the for loop to print those names one at a time to the sentence\r\n",
        "\r\n",
        "Make a new list with some numbers\r\n",
        "\r\n",
        "Print the list item one by one and then print “That's it” when the list is over.\r\n",
        "\r\n"
      ]
    },
    {
      "cell_type": "markdown",
      "metadata": {
        "id": "kUYoNwQ9BREP"
      },
      "source": [
        "2. Print the list one by one and then print That's it when the list is over"
      ]
    },
    {
      "cell_type": "markdown",
      "metadata": {
        "id": "v0mfVsTDBl10"
      },
      "source": [
        "3. Print the numbers from 20 to 0, subtracting by 2"
      ]
    },
    {
      "cell_type": "code",
      "metadata": {
        "id": "wfqA-yPiRnea"
      },
      "source": [
        "# Your Version\r\n",
        "\r\n",
        "\r\n",
        "\r\n",
        "\r\n",
        "\r\n",
        "\r\n"
      ],
      "execution_count": null,
      "outputs": []
    },
    {
      "cell_type": "code",
      "metadata": {
        "colab": {
          "base_uri": "https://localhost:8080/"
        },
        "id": "hbkWuuDkRnjC",
        "outputId": "b4fb90df-e04d-4976-edbb-ed7a7229548e"
      },
      "source": [
        "makers = ['KIA', 'Jaguar', 'BMW']\r\n",
        "\r\n",
        "for i in range(len(makers)):\r\n",
        "    print(\"I love {}\".format(makers[i]))"
      ],
      "execution_count": null,
      "outputs": [
        {
          "output_type": "stream",
          "text": [
            "I love KIA\n",
            "I love Jaguar\n",
            "I love BMW\n"
          ],
          "name": "stdout"
        }
      ]
    },
    {
      "cell_type": "code",
      "metadata": {
        "colab": {
          "base_uri": "https://localhost:8080/"
        },
        "id": "av9q-UXZRnn4",
        "outputId": "9982ca51-ff19-4596-bb59-f08eed0bba25"
      },
      "source": [
        "mylist = [0, 1, 5]\r\n",
        "\r\n",
        "for i in mylist:\r\n",
        "    print(i)\r\n",
        "\r\n",
        "else:\r\n",
        "    print(\"That's it\")"
      ],
      "execution_count": null,
      "outputs": [
        {
          "output_type": "stream",
          "text": [
            "0\n",
            "1\n",
            "5\n",
            "That's it\n"
          ],
          "name": "stdout"
        }
      ]
    },
    {
      "cell_type": "code",
      "metadata": {
        "colab": {
          "base_uri": "https://localhost:8080/"
        },
        "id": "XdrjwQK3BenN",
        "outputId": "cf9234ca-56af-432c-b3dd-a2e0a1f6d0b7"
      },
      "source": [
        "for n in range(20, 0, -2):\r\n",
        "    print(n)"
      ],
      "execution_count": null,
      "outputs": [
        {
          "output_type": "stream",
          "text": [
            "20\n",
            "18\n",
            "16\n",
            "14\n",
            "12\n",
            "10\n",
            "8\n",
            "6\n",
            "4\n",
            "2\n"
          ],
          "name": "stdout"
        }
      ]
    },
    {
      "cell_type": "markdown",
      "metadata": {
        "id": "4M-nJRzpR5lm"
      },
      "source": [
        "# Lesson 25 While/While-else Loop"
      ]
    },
    {
      "cell_type": "markdown",
      "metadata": {
        "id": "YLW8OfEoByd7"
      },
      "source": [
        "      while condition:\r\n",
        "          body"
      ]
    },
    {
      "cell_type": "code",
      "metadata": {
        "colab": {
          "base_uri": "https://localhost:8080/"
        },
        "id": "Loc5IipDRnr6",
        "outputId": "abb41bb5-bbdd-4415-8d11-7b896441de63"
      },
      "source": [
        "i = 15\r\n",
        "\r\n",
        "while i > 0:\r\n",
        "    print (i ** 2)\r\n",
        "    i -= 2"
      ],
      "execution_count": null,
      "outputs": [
        {
          "output_type": "stream",
          "text": [
            "225\n",
            "169\n",
            "121\n",
            "81\n",
            "49\n",
            "25\n",
            "9\n",
            "1\n"
          ],
          "name": "stdout"
        }
      ]
    },
    {
      "cell_type": "markdown",
      "metadata": {
        "id": "6ie7fZ_bCLRn"
      },
      "source": [
        "#### while - else"
      ]
    },
    {
      "cell_type": "markdown",
      "metadata": {
        "id": "IQrPoBMmB-ZR"
      },
      "source": [
        "    i = 1\r\n",
        "\r\n",
        "    while i <= 3:\r\n",
        "        print (i)\r\n",
        "        i += 1\r\n",
        "    else:\r\n",
        "        print (\"That's it\")"
      ]
    },
    {
      "cell_type": "code",
      "metadata": {
        "colab": {
          "base_uri": "https://localhost:8080/"
        },
        "id": "JqIDAI6VRnv7",
        "outputId": "fb502443-1846-4350-a925-0904eb3b82fd"
      },
      "source": [
        "i = 1\r\n",
        "\r\n",
        "while i <= 3:\r\n",
        "    print (i)\r\n",
        "    i += 1\r\n",
        "else:\r\n",
        "    print (\"That's it.\")"
      ],
      "execution_count": null,
      "outputs": [
        {
          "output_type": "stream",
          "text": [
            "1\n",
            "2\n",
            "3\n",
            "That's it.\n"
          ],
          "name": "stdout"
        }
      ]
    },
    {
      "cell_type": "markdown",
      "metadata": {
        "id": "ABhg7Cr7R_PX"
      },
      "source": [
        "# Quiz"
      ]
    },
    {
      "cell_type": "markdown",
      "metadata": {
        "id": "EbMAQxE7jJLY"
      },
      "source": [
        "(1)\r\n",
        "Try printing the squared values from 5\r\n",
        "\r\n",
        "by subtracting 1  per iteration\r\n",
        "\r\n",
        "from 5 until the integer value stays larger than 0.\r\n",
        "\r\n",
        " \r\n",
        "(2)\r\n",
        "Set  i = 1\r\n",
        "\r\n",
        "Until i reaches 10, keep adding 1 per iteration\r\n",
        "\r\n",
        "If it reaches 10 Print \"That it as i became \"the final number i\"\r\n",
        "\r\n",
        "which should be 11\r\n"
      ]
    },
    {
      "cell_type": "code",
      "metadata": {
        "id": "fSOoxB78Rn79"
      },
      "source": [
        "# Your Version\r\n",
        "\r\n",
        "\r\n",
        "\r\n",
        "\r\n",
        "\r\n",
        "\r\n"
      ],
      "execution_count": null,
      "outputs": []
    },
    {
      "cell_type": "code",
      "metadata": {
        "colab": {
          "base_uri": "https://localhost:8080/"
        },
        "id": "lw2mp6DKRoAl",
        "outputId": "4b47c333-ebcc-4d86-a150-5a3def7b9543"
      },
      "source": [
        "i = 5\r\n",
        "while i>0:\r\n",
        "   print (i**2)\r\n",
        "   i -= 1"
      ],
      "execution_count": null,
      "outputs": [
        {
          "output_type": "stream",
          "text": [
            "25\n",
            "16\n",
            "9\n",
            "4\n",
            "1\n"
          ],
          "name": "stdout"
        }
      ]
    },
    {
      "cell_type": "code",
      "metadata": {
        "colab": {
          "base_uri": "https://localhost:8080/"
        },
        "id": "KIgNqw8sRoES",
        "outputId": "feab5419-6079-4864-f78b-713af4a10734"
      },
      "source": [
        "i = 1\r\n",
        "while i <= 10:\r\n",
        "    print(i)\r\n",
        "    i += 1\r\n",
        "else:\r\n",
        "    print(\"That's it as i became\", i)\r\n",
        "    print(\"That's it as i became {}\".format(i))"
      ],
      "execution_count": null,
      "outputs": [
        {
          "output_type": "stream",
          "text": [
            "1\n",
            "2\n",
            "3\n",
            "4\n",
            "5\n",
            "6\n",
            "7\n",
            "8\n",
            "9\n",
            "10\n",
            "That's it as i became 11\n",
            "That's it as i became 11\n"
          ],
          "name": "stdout"
        }
      ]
    },
    {
      "cell_type": "markdown",
      "metadata": {
        "id": "nY6pLZg7SBZU"
      },
      "source": [
        "# Lesson 26 Break/Continue"
      ]
    },
    {
      "cell_type": "markdown",
      "metadata": {
        "id": "7pO3NausC0xO"
      },
      "source": [
        "       i = 1\r\n",
        "\r\n",
        "      while i <= 10:\r\n",
        "          print (i)\r\n",
        "          if i == 4:\r\n",
        "              break\r\n",
        "          i += 1"
      ]
    },
    {
      "cell_type": "markdown",
      "metadata": {
        "id": "77h4dJS2C2Y2"
      },
      "source": [
        "       i = 1\r\n",
        "\r\n",
        "      while i <= 5:\r\n",
        "          i += 1\r\n",
        "          if i == 4:\r\n",
        "              continue\r\n",
        "\r\n",
        "      print (i)"
      ]
    },
    {
      "cell_type": "code",
      "metadata": {
        "colab": {
          "base_uri": "https://localhost:8080/"
        },
        "id": "hOJr08aWRoIb",
        "outputId": "a03cf226-8f50-4c20-a7d1-9de1904fc032"
      },
      "source": [
        "i = 0\r\n",
        "\r\n",
        "while i <= 5:\r\n",
        "    print (i)\r\n",
        "    if i == 3:\r\n",
        "        break\r\n",
        "    i += 1"
      ],
      "execution_count": null,
      "outputs": [
        {
          "output_type": "stream",
          "text": [
            "0\n",
            "1\n",
            "2\n",
            "3\n"
          ],
          "name": "stdout"
        }
      ]
    },
    {
      "cell_type": "code",
      "metadata": {
        "colab": {
          "base_uri": "https://localhost:8080/"
        },
        "id": "DsFUbDa1RoNI",
        "outputId": "01150c6c-27f5-4ad8-d79a-a18acf33d529"
      },
      "source": [
        "i = 0\r\n",
        "while i <= 4:\r\n",
        "    i += 1\r\n",
        "    if i == 3:\r\n",
        "        continue\r\n",
        "    else:\r\n",
        "        print (i)"
      ],
      "execution_count": null,
      "outputs": [
        {
          "output_type": "stream",
          "text": [
            "1\n",
            "2\n",
            "4\n",
            "5\n"
          ],
          "name": "stdout"
        }
      ]
    },
    {
      "cell_type": "code",
      "metadata": {
        "colab": {
          "base_uri": "https://localhost:8080/"
        },
        "id": "YvEFVrClRoRX",
        "outputId": "f1dbdb92-a6ef-4aa6-f02f-1cf224acecb9"
      },
      "source": [
        "for num in range(1, 11):\r\n",
        "    if num % 2 == 0:\r\n",
        "        print (num)\r\n",
        "    continue"
      ],
      "execution_count": null,
      "outputs": [
        {
          "output_type": "stream",
          "text": [
            "2\n",
            "4\n",
            "6\n",
            "8\n",
            "10\n"
          ],
          "name": "stdout"
        }
      ]
    },
    {
      "cell_type": "code",
      "metadata": {
        "colab": {
          "base_uri": "https://localhost:8080/"
        },
        "id": "iOXBbGw9RoWM",
        "outputId": "6dbc3949-d5e8-43ea-a461-3f7d62dc7d94"
      },
      "source": [
        "for num in range(1, 11):\r\n",
        "    if num % 2 == 1:\r\n",
        "        print (num)\r\n",
        "    continue"
      ],
      "execution_count": null,
      "outputs": [
        {
          "output_type": "stream",
          "text": [
            "1\n",
            "3\n",
            "5\n",
            "7\n",
            "9\n"
          ],
          "name": "stdout"
        }
      ]
    },
    {
      "cell_type": "markdown",
      "metadata": {
        "id": "GF_e9zQ1SIRU"
      },
      "source": [
        "# Quiz"
      ]
    },
    {
      "cell_type": "markdown",
      "metadata": {
        "id": "-dbgdCyZjWWM"
      },
      "source": [
        "(1) Please print out numbers from 1 to 10, but breaks when 7 comes during the loop.\r\n",
        "\r\n",
        "(2) Please print out numbers from 1 to 10, but skips 7 during the loop.\r\n",
        "\r\n",
        "(3) Please start with my_sum = 0, add numbers between 1-10 several times to my_sum, and when the sum adds up to 30, break and print out that the number has gone over or equal to 30\r\n",
        "\r\n"
      ]
    },
    {
      "cell_type": "code",
      "metadata": {
        "id": "Sp5MQ3K_Road"
      },
      "source": [
        "# Your Version\r\n",
        "\r\n",
        "\r\n",
        "\r\n",
        "\r\n",
        "\r\n",
        "\r\n"
      ],
      "execution_count": null,
      "outputs": []
    },
    {
      "cell_type": "code",
      "metadata": {
        "colab": {
          "base_uri": "https://localhost:8080/"
        },
        "id": "Uqa65he-RofD",
        "outputId": "bac3111c-1820-40c3-a654-cc7920acff77"
      },
      "source": [
        "i = 1\r\n",
        "while i <= 10:\r\n",
        "    print(i)\r\n",
        "    if i == 7:\r\n",
        "             break\r\n",
        "    i += 1"
      ],
      "execution_count": 6,
      "outputs": [
        {
          "output_type": "stream",
          "text": [
            "1\n",
            "2\n",
            "3\n",
            "4\n",
            "5\n",
            "6\n",
            "7\n"
          ],
          "name": "stdout"
        }
      ]
    },
    {
      "cell_type": "code",
      "metadata": {
        "colab": {
          "base_uri": "https://localhost:8080/"
        },
        "id": "jPn7tJypRoi0",
        "outputId": "b9d96a11-86d5-473b-c0a8-6cd792350321"
      },
      "source": [
        "i = 1\r\n",
        "while i <= 9:\r\n",
        "    i += 1\r\n",
        "    if i == 7:\r\n",
        "             continue\r\n",
        "    print (i)"
      ],
      "execution_count": null,
      "outputs": [
        {
          "output_type": "stream",
          "text": [
            "2\n",
            "3\n",
            "4\n",
            "5\n",
            "6\n",
            "8\n",
            "9\n",
            "10\n"
          ],
          "name": "stdout"
        }
      ]
    },
    {
      "cell_type": "code",
      "metadata": {
        "colab": {
          "base_uri": "https://localhost:8080/"
        },
        "id": "ofjJxOs_Rlzz",
        "outputId": "dbeee809-20e4-4d3e-f89d-9102f5789a9c"
      },
      "source": [
        "my_sum = 0\r\n",
        "i = input(\"Enter any number\")\r\n",
        "n =int(i)\r\n",
        "\r\n",
        "while n != 0:\r\n",
        "    my_sum = my_sum + n\r\n",
        "    if my_sum >= 30:\r\n",
        "        print(\"My sum is {}\".format(my_sum))\r\n",
        "        break\r\n",
        "    n = int(input())"
      ],
      "execution_count": null,
      "outputs": [
        {
          "output_type": "stream",
          "text": [
            "Enter any number5\n",
            "5\n",
            "3\n",
            "3\n",
            "2\n",
            "5\n",
            "3\n",
            "4\n",
            "My sum is 30\n"
          ],
          "name": "stdout"
        }
      ]
    },
    {
      "cell_type": "markdown",
      "metadata": {
        "id": "EZtgVfn4SKlI"
      },
      "source": [
        "# Lesson 27 File I/O"
      ]
    },
    {
      "cell_type": "code",
      "metadata": {
        "id": "9S3SuhXSRlpv"
      },
      "source": [
        "from google.colab import drive"
      ],
      "execution_count": null,
      "outputs": []
    },
    {
      "cell_type": "code",
      "metadata": {
        "colab": {
          "resources": {
            "http://localhost:8080/nbextensions/google.colab/files.js": {
              "data": "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",
              "ok": true,
              "headers": [
                [
                  "content-type",
                  "application/javascript"
                ]
              ],
              "status": 200,
              "status_text": ""
            }
          },
          "base_uri": "https://localhost:8080/",
          "height": 58
        },
        "id": "yHA0P-pdRleQ",
        "outputId": "05e45ca0-dc7f-44e5-e253-f57c5ac8af55"
      },
      "source": [
        "from google.colab import files\r\n",
        "uploaded = files.upload()"
      ],
      "execution_count": null,
      "outputs": [
        {
          "output_type": "display_data",
          "data": {
            "text/html": [
              "\n",
              "     <input type=\"file\" id=\"files-a30f14b1-2a5c-4672-8f56-d375cb3858e0\" name=\"files[]\" multiple disabled\n",
              "        style=\"border:none\" />\n",
              "     <output id=\"result-a30f14b1-2a5c-4672-8f56-d375cb3858e0\">\n",
              "      Upload widget is only available when the cell has been executed in the\n",
              "      current browser session. Please rerun this cell to enable.\n",
              "      </output>\n",
              "      <script src=\"/nbextensions/google.colab/files.js\"></script> "
            ],
            "text/plain": [
              "<IPython.core.display.HTML object>"
            ]
          },
          "metadata": {
            "tags": []
          }
        }
      ]
    },
    {
      "cell_type": "markdown",
      "metadata": {
        "id": "1_Y0zo8NDmv3"
      },
      "source": [
        "    test_list = [\"KIA\", \"Porsche\", \"Maserati\"]\r\n",
        "    f = open(\"test.txt\", \"w\")\r\n",
        "    f.close()"
      ]
    },
    {
      "cell_type": "code",
      "metadata": {
        "colab": {
          "base_uri": "https://localhost:8080/"
        },
        "id": "S8u44w8rSP9l",
        "outputId": "2d86c12d-b589-4ef8-bd63-fa9e941d47e4"
      },
      "source": [
        "test_list = [ 1, 2, 3, 4, 5, 6]\r\n",
        "f = open(\"test_list.txt\", \"w\")\r\n",
        "\r\n",
        "for item in test_list:\r\n",
        "    f.write(str(item) + \"\\n\")\r\n",
        "    print (str(item))\r\n",
        "\r\n",
        "f.close()"
      ],
      "execution_count": null,
      "outputs": [
        {
          "output_type": "stream",
          "text": [
            "1\n",
            "2\n",
            "3\n",
            "4\n",
            "5\n",
            "6\n"
          ],
          "name": "stdout"
        }
      ]
    },
    {
      "cell_type": "code",
      "metadata": {
        "colab": {
          "base_uri": "https://localhost:8080/"
        },
        "id": "--ux2OSRDxIB",
        "outputId": "b107619c-3f19-4210-ff9e-5665f8bfc25d"
      },
      "source": [
        "test_list = [1,2,3]\r\n",
        "f = open(\"test_list.txt\",\"w\")\r\n",
        "\r\n",
        "for item in test_list:\r\n",
        "    f.write(str(item) + \"\\n\")\r\n",
        "\r\n",
        "fr =  open(\"test_list.txt\",\"r\")\r\n",
        "print (fr.read())\r\n",
        "\r\n",
        "frp = open(\"test_list.txt\",\"a\")\r\n",
        "frp.write('4')\r\n",
        "\r\n",
        "frp.close()"
      ],
      "execution_count": null,
      "outputs": [
        {
          "output_type": "stream",
          "text": [
            "1\n",
            "2\n",
            "3\n",
            "\n"
          ],
          "name": "stdout"
        }
      ]
    },
    {
      "cell_type": "markdown",
      "metadata": {
        "id": "Pz_g4dOnSWdW"
      },
      "source": [
        "# Quiz"
      ]
    },
    {
      "cell_type": "markdown",
      "metadata": {
        "id": "VEwB_3CpjeAn"
      },
      "source": [
        "Make an empty text file in your computer with the name text 1\r\n",
        "\r\n",
        "And add that file to your google drive\r\n",
        "\r\n",
        "Mount google drive\r\n",
        "\r\n",
        "And authenticate it\r\n",
        "\r\n",
        "And open it and write 1,2,and 3\r\n",
        "\r\n",
        "And read it \r\n"
      ]
    },
    {
      "cell_type": "code",
      "metadata": {
        "id": "liL08Xt_SSXa"
      },
      "source": [
        "# Your Version\r\n",
        "\r\n",
        "\r\n",
        "\r\n",
        "\r\n",
        "\r\n",
        "\r\n"
      ],
      "execution_count": null,
      "outputs": []
    },
    {
      "cell_type": "code",
      "metadata": {
        "id": "Et_ZNQDASSRe"
      },
      "source": [
        "from google.colab import drive"
      ],
      "execution_count": null,
      "outputs": []
    },
    {
      "cell_type": "code",
      "metadata": {
        "colab": {
          "resources": {
            "http://localhost:8080/nbextensions/google.colab/files.js": {
              "data": "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",
              "ok": true,
              "headers": [
                [
                  "content-type",
                  "application/javascript"
                ]
              ],
              "status": 200,
              "status_text": ""
            }
          },
          "base_uri": "https://localhost:8080/",
          "height": 58
        },
        "id": "6UrBe1EASSK8",
        "outputId": "a8e957fd-6467-419e-dd3d-6a9413f88768"
      },
      "source": [
        "from google.colab import files\r\n",
        "uploaded = files.upload()"
      ],
      "execution_count": null,
      "outputs": [
        {
          "output_type": "display_data",
          "data": {
            "text/html": [
              "\n",
              "     <input type=\"file\" id=\"files-0366a2ca-8a65-4331-a062-7183432130e3\" name=\"files[]\" multiple disabled\n",
              "        style=\"border:none\" />\n",
              "     <output id=\"result-0366a2ca-8a65-4331-a062-7183432130e3\">\n",
              "      Upload widget is only available when the cell has been executed in the\n",
              "      current browser session. Please rerun this cell to enable.\n",
              "      </output>\n",
              "      <script src=\"/nbextensions/google.colab/files.js\"></script> "
            ],
            "text/plain": [
              "<IPython.core.display.HTML object>"
            ]
          },
          "metadata": {
            "tags": []
          }
        }
      ]
    },
    {
      "cell_type": "code",
      "metadata": {
        "colab": {
          "base_uri": "https://localhost:8080/"
        },
        "id": "ghF55kNmSSGe",
        "outputId": "1724a703-794c-4833-9740-d72d1abad9a5"
      },
      "source": [
        "frp = open(\"text1.txt\",\"a\")\r\n",
        "frp.write('1,2,3')"
      ],
      "execution_count": null,
      "outputs": [
        {
          "output_type": "execute_result",
          "data": {
            "text/plain": [
              "5"
            ]
          },
          "metadata": {
            "tags": []
          },
          "execution_count": 266
        }
      ]
    },
    {
      "cell_type": "code",
      "metadata": {
        "id": "Fu0jPUP2SSCW"
      },
      "source": [
        "frp.close()"
      ],
      "execution_count": null,
      "outputs": []
    },
    {
      "cell_type": "markdown",
      "metadata": {
        "id": "1WavIMiESZ9R"
      },
      "source": [
        "# Lesson 28 Making a Class"
      ]
    },
    {
      "cell_type": "markdown",
      "metadata": {
        "id": "fFBXQUhuFNGO"
      },
      "source": [
        "    class Car():\r\n",
        "        pass"
      ]
    },
    {
      "cell_type": "markdown",
      "metadata": {
        "id": "o_9TuxrWFTRN"
      },
      "source": [
        "    class Car(object): \r\n",
        "        def __init__(self):"
      ]
    },
    {
      "cell_type": "markdown",
      "metadata": {
        "id": "uGQdTilzFeUq"
      },
      "source": [
        "    class Car(): \r\n",
        "        def brake():\r\n",
        "            print (\"Hit the brake!\")\r\n",
        "\r\n",
        "        def pedal(self):\r\n",
        "            print (\"Stop the car!\")"
      ]
    },
    {
      "cell_type": "code",
      "metadata": {
        "colab": {
          "base_uri": "https://localhost:8080/"
        },
        "id": "8q4Tb916SR9H",
        "outputId": "4c9c60b8-3138-4596-9cde-0527e9e22636"
      },
      "source": [
        "class Manager(object):\r\n",
        "    def __init__(self, model, color, year, mileage): \r\n",
        "       self.model = model\r\n",
        "       self.color = color\r\n",
        "       self.year = year\r\n",
        "       self.mileage = mileage\r\n",
        "\r\n",
        "mycar = Manager(\"Model: Camaro\", \"Color: Red\", \"Year: 2020\", \"Mileage: 12,345\")\r\n",
        "\r\n",
        "print (mycar.model)\r\n",
        "print (mycar.color)\r\n",
        "print (mycar.year)\r\n",
        "print (mycar.mileage)"
      ],
      "execution_count": null,
      "outputs": [
        {
          "output_type": "stream",
          "text": [
            "Model: Camaro\n",
            "Color: Red\n",
            "Year: 2020\n",
            "Mileage: 12,345\n"
          ],
          "name": "stdout"
        }
      ]
    },
    {
      "cell_type": "markdown",
      "metadata": {
        "id": "HVvqeuKlSdyY"
      },
      "source": [
        "# Quiz"
      ]
    },
    {
      "cell_type": "markdown",
      "metadata": {
        "id": "ElQ0aT0wjgaE"
      },
      "source": [
        "Make a Car class with “my_car” function and “your_car” function \r\n",
        "and call the class and then call the function connected to the class\r\n"
      ]
    },
    {
      "cell_type": "code",
      "metadata": {
        "id": "bmupJi7xSRvN"
      },
      "source": [
        "# Your Version\r\n",
        "\r\n",
        "\r\n",
        "\r\n",
        "\r\n",
        "\r\n",
        "\r\n"
      ],
      "execution_count": null,
      "outputs": []
    },
    {
      "cell_type": "code",
      "metadata": {
        "colab": {
          "base_uri": "https://localhost:8080/"
        },
        "id": "8C4FpmrnSRoO",
        "outputId": "47d22a8c-b511-4737-8c96-2454325e58bd"
      },
      "source": [
        "class Car(): \r\n",
        "       def mycar(self, model, color):\r\n",
        "           print (model, color)\r\n",
        "\r\n",
        "       def yourcar(self, model, color):\r\n",
        "           print (model,color)\r\n",
        "\r\n",
        "f=Car()\r\n",
        "f.mycar('Corvett', 'Black') \r\n",
        "f.yourcar('Camaro', 'Red')"
      ],
      "execution_count": null,
      "outputs": [
        {
          "output_type": "stream",
          "text": [
            "Corvett Black\n",
            "Camaro Red\n"
          ],
          "name": "stdout"
        }
      ]
    },
    {
      "cell_type": "markdown",
      "metadata": {
        "id": "D23X3fjUSg2j"
      },
      "source": [
        "# Lesson 29 Instance"
      ]
    },
    {
      "cell_type": "code",
      "metadata": {
        "colab": {
          "base_uri": "https://localhost:8080/"
        },
        "id": "ko5P24VLSRaP",
        "outputId": "093a07c5-4c6b-4916-e53b-063d3616b1cd"
      },
      "source": [
        "  class Car(object):\r\n",
        "      def __init__(self, name):\r\n",
        "          self.name = name\r\n",
        " \r\n",
        "  mycar = Car(\"Bumblebee\")\r\n",
        "  print (mycar.name)"
      ],
      "execution_count": null,
      "outputs": [
        {
          "output_type": "stream",
          "text": [
            "Bumblebee\n"
          ],
          "name": "stdout"
        }
      ]
    },
    {
      "cell_type": "markdown",
      "metadata": {
        "id": "LzfURXx7SlI1"
      },
      "source": [
        "# Quiz"
      ]
    },
    {
      "cell_type": "markdown",
      "metadata": {
        "id": "pK7lQQeAjkiL"
      },
      "source": [
        "Create a class “Car”.\r\n",
        "\r\n",
        "Assign a name of the car along with the self model, color, year and name within the class\r\n",
        "\r\n",
        "Make a simple function within the class with a print statement\r\n",
        "\r\n",
        "Call the Car and function with your arguments\r\n"
      ]
    },
    {
      "cell_type": "code",
      "metadata": {
        "id": "fs5YBBYRSRER"
      },
      "source": [
        "# Your Version\r\n",
        "\r\n",
        "\r\n",
        "\r\n",
        "\r\n",
        "\r\n",
        "\r\n"
      ],
      "execution_count": null,
      "outputs": []
    },
    {
      "cell_type": "code",
      "metadata": {
        "colab": {
          "base_uri": "https://localhost:8080/"
        },
        "id": "Zl1MkLPiSRAB",
        "outputId": "f41d0eee-5d5e-4486-825b-941a761f48d9"
      },
      "source": [
        "class Car(object):\r\n",
        "    def __init__(self,model,color,year,name):\r\n",
        "        self.model = model\r\n",
        "        self.color = color\r\n",
        "        self.year = year\r\n",
        "        self.name = name\r\n",
        " \r\n",
        "    def about_mine(self):\r\n",
        "        print (\"My car is {0} and the color is {1}. In the {2} year type, I call the name {3}.\".format(self.model, self.color, self.year, self.name ))\r\n",
        " \r\n",
        " \r\n",
        "mycar = Car('Palisade','red', '2020','coco')\r\n",
        "mycar.about_mine()"
      ],
      "execution_count": 7,
      "outputs": [
        {
          "output_type": "stream",
          "text": [
            "My car is Palisade and the color is red. In the 2020 year type, I call the name coco.\n"
          ],
          "name": "stdout"
        }
      ]
    },
    {
      "cell_type": "markdown",
      "metadata": {
        "id": "zAetei5ESoT0"
      },
      "source": [
        "# Lesson 30 Creating and Accessing Methods"
      ]
    },
    {
      "cell_type": "code",
      "metadata": {
        "colab": {
          "base_uri": "https://localhost:8080/"
        },
        "id": "o0PWIcW_SQwI",
        "outputId": "819ec8f3-c9f9-4e49-bcfd-7e63e1970379"
      },
      "source": [
        "class Car(object):\r\n",
        "    def __init__(self, maker, color, style):\r\n",
        "        self.maker = maker\r\n",
        "        self.color = color\r\n",
        "        self.style = style\r\n",
        "\r\n",
        "    def brake(self):\r\n",
        "        print (\"This is a {} with a good brake.\".format(self.maker))\r\n",
        "\r\n",
        "    def mirror(self):\r\n",
        "        print (\"This is {} style with no blind spot.\".format(self.style))\r\n",
        "\r\n",
        "    def wiper(self):\r\n",
        "        print (\"It is {} and comes with an excellent wiper.\".format(self.color))\r\n",
        "\r\n",
        "\r\n",
        "mine = Car(\"Chevy\", \"dark blue\", \"cool\")\r\n",
        "\r\n",
        "mine.brake()\r\n",
        "mine.mirror()\r\n",
        "mine.wiper()"
      ],
      "execution_count": null,
      "outputs": [
        {
          "output_type": "stream",
          "text": [
            "This is a Chevy with a good brake.\n",
            "This is cool style with no blind spot.\n",
            "It is dark blue and comes with an excellent wiper.\n"
          ],
          "name": "stdout"
        }
      ]
    },
    {
      "cell_type": "code",
      "metadata": {
        "colab": {
          "base_uri": "https://localhost:8080/"
        },
        "id": "GTPgmrnNSQiA",
        "outputId": "ba4013ab-dcd9-4864-cf1e-34619e9853cd"
      },
      "source": [
        "class Car(object):\r\n",
        "    is_fast = True \r\n",
        "\r\n",
        "    def __init__(self, maker, year):\r\n",
        "              self.maker = maker\r\n",
        "              self.year = year\r\n",
        "\r\n",
        "corvette = Car(\"Chevrolet\", 2019)\r\n",
        "mustang = Car(\"Ford\", 2020)\r\n",
        "xf = Car(\"Jaguar\",2019)\r\n",
        "\r\n",
        "print (corvette.maker, corvette.year, corvette.is_fast)\r\n",
        "print (mustang.maker, mustang.year, mustang.is_fast)\r\n",
        "print (xf.maker, xf.year, xf.is_fast)"
      ],
      "execution_count": null,
      "outputs": [
        {
          "output_type": "stream",
          "text": [
            "Chevrolet 2019 True\n",
            "Ford 2020 True\n",
            "Jaguar 2019 True\n"
          ],
          "name": "stdout"
        }
      ]
    },
    {
      "cell_type": "markdown",
      "metadata": {
        "id": "AFHyuaDITBNR"
      },
      "source": [
        "# Quiz"
      ]
    },
    {
      "cell_type": "markdown",
      "metadata": {
        "id": "skaGcrAujob_"
      },
      "source": [
        "Create Car(object). Then we add three method lines.\r\n",
        "\r\n",
        "     def __init__(self):,\r\n",
        "     def description(self):,\r\n",
        "     def is_ok(self):\r\n",
        "\r\n",
        "Now, let's create a truck_mine outside the Car class.\r\n",
        "\r\n",
        "It is created outside the class, but allows you to use properties in the Car class\r\n",
        "\r\n",
        "If you do this with truck_mine = Car(), you can know \"Oh, you will inherit something from Car\".\r\n",
        "\r\n",
        "Create simple methods to play with, but since we do not know much,\r\n",
        " just use the print statement or simple calculations\r\n"
      ]
    },
    {
      "cell_type": "code",
      "metadata": {
        "id": "7uz5O7glSvew"
      },
      "source": [
        "# Your Version\r\n",
        "\r\n",
        "\r\n",
        "\r\n",
        "\r\n",
        "\r\n",
        "\r\n"
      ],
      "execution_count": null,
      "outputs": []
    },
    {
      "cell_type": "code",
      "metadata": {
        "colab": {
          "base_uri": "https://localhost:8080/"
        },
        "id": "FzjOW77sS0IP",
        "outputId": "e885c3df-7e74-48f4-c28e-6c3378ff05d9"
      },
      "source": [
        "class Car(object):\r\n",
        "      def __init__(self, maker, color, style, oldie):\r\n",
        "            self.maker = maker\r\n",
        "            self.color = color\r\n",
        "            self.style = style\r\n",
        "            self.oldie = oldie\r\n",
        "\r\n",
        "      def description(self):\r\n",
        "             print (\"This is a {1} {0} with {2} style.\".format(self.maker,self.color,self.style))\r\n",
        "\r\n",
        "      def is_ok(self):\r\n",
        "            if not self.oldie:\r\n",
        "                  print (\"It is definitely cool.\")\r\n",
        "            else:\r\n",
        "                  print (\"Your old man would love it.\")\r\n",
        "\r\n",
        "truck_mine = Car(\"Chevy\", \"dark blue\", \"cool\", False)\r\n",
        "\r\n",
        "truck_mine.description()\r\n",
        "truck_mine.is_ok()"
      ],
      "execution_count": null,
      "outputs": [
        {
          "output_type": "stream",
          "text": [
            "This is a dark blue Chevy with cool style.\n",
            "It is definitely cool.\n"
          ],
          "name": "stdout"
        }
      ]
    },
    {
      "cell_type": "markdown",
      "metadata": {
        "id": "HNI6JWEvTEWw"
      },
      "source": [
        "# Lesson 31 Inheritance"
      ]
    },
    {
      "cell_type": "code",
      "metadata": {
        "colab": {
          "base_uri": "https://localhost:8080/"
        },
        "id": "LULJBfp9S0iC",
        "outputId": "7b0fee51-0d6f-4997-c776-032d2cd6fcb5"
      },
      "source": [
        "class Car(object):\r\n",
        "    def __init__(self, category, maker, year, color):\r\n",
        "        self.category = category\r\n",
        "        self.maker = maker\r\n",
        "        self.year = year\r\n",
        "        self.color = color\r\n",
        "\r\n",
        "    def display_mycar(self):\r\n",
        "        print ('MyCar: {}'.format(self.category))\r\n",
        "        print ('Maker: {}'.format(self.maker))\r\n",
        "        print ('Year: {}'.format(self.year))\r\n",
        "        print ('Color: {}'.format(self.color))\r\n",
        "\r\n",
        "class Truck(Car):\r\n",
        "    pass\r\n",
        "\r\n",
        "Truck_mine = Truck('Truck','Chevy', '2019', 'Red')\r\n",
        "Truck_mine.display_mycar()"
      ],
      "execution_count": null,
      "outputs": [
        {
          "output_type": "stream",
          "text": [
            "MyCar: Truck\n",
            "Maker: Chevy\n",
            "Year: 2019\n",
            "Color: Red\n"
          ],
          "name": "stdout"
        }
      ]
    },
    {
      "cell_type": "code",
      "metadata": {
        "colab": {
          "base_uri": "https://localhost:8080/"
        },
        "id": "2WAo5UIZS0nf",
        "outputId": "0bc16089-6732-4b78-d850-be65133342db"
      },
      "source": [
        "class Car(object):\r\n",
        "    def __init__(self, category, maker, year, color):\r\n",
        "        self.category = category\r\n",
        "        self.maker = maker\r\n",
        "        self.year = year\r\n",
        "        self.color = color\r\n",
        "\r\n",
        "    def display_mycar(self):\r\n",
        "        print ('MyCar: {}'.format(self.category))\r\n",
        "        print ('Maker: {}'.format(self.maker))\r\n",
        "        print ('Year: {}'.format(self.year))\r\n",
        "        print ('Color: {}'.format(self.color))\r\n",
        "\r\n",
        "class Ecar(Car):\r\n",
        "        pass\r\n",
        "\r\n",
        "kona_mine = Ecar('eCar','HYUNDAI', '2019', 'Red')\r\n",
        "kona_mine.display_mycar()"
      ],
      "execution_count": null,
      "outputs": [
        {
          "output_type": "stream",
          "text": [
            "MyCar: eCar\n",
            "Maker: HYUNDAI\n",
            "Year: 2019\n",
            "Color: Red\n"
          ],
          "name": "stdout"
        }
      ]
    },
    {
      "cell_type": "markdown",
      "metadata": {
        "id": "bleEFqrKTaaG"
      },
      "source": [
        "#Quiz"
      ]
    },
    {
      "cell_type": "markdown",
      "metadata": {
        "id": "PiQgjjeIjudm"
      },
      "source": [
        "Make a class called “Car”\r\n",
        "\r\n",
        "Create a simple method within the class\r\n",
        "\r\n",
        "Make a subclass “Truck”\r\n",
        "\r\n",
        "And check if the subclass inherited the method\r\n"
      ]
    },
    {
      "cell_type": "code",
      "metadata": {
        "id": "dEfzm_0hTc1S"
      },
      "source": [
        "# Your Version\r\n",
        "\r\n",
        "\r\n",
        "\r\n",
        "\r\n",
        "\r\n",
        "\r\n"
      ],
      "execution_count": null,
      "outputs": []
    },
    {
      "cell_type": "code",
      "metadata": {
        "colab": {
          "base_uri": "https://localhost:8080/"
        },
        "id": "46SeDNGPTcTc",
        "outputId": "929458fa-910f-48cf-fa76-1dab2b4df2b9"
      },
      "source": [
        "class Car():\r\n",
        "    def __init__(self, engine, body):  \r\n",
        "        self.engine = engine\r\n",
        "        self.body = body\r\n",
        "\r\n",
        "mycar = Car(\"2 lister engine\", \"beautiful shape.\") \r\n",
        "print (\"My car has {0} with {1}\".format(mycar.engine, mycar.body))\r\n",
        "\r\n",
        "class Truck(Car):\r\n",
        "    pass\r\n",
        "\r\n",
        "mytruck = Truck(\"5 liter engine\", \"tough body.\")\r\n",
        "print (\"My car has {0} with {1}\".format(mytruck.engine,mytruck.body))"
      ],
      "execution_count": null,
      "outputs": [
        {
          "output_type": "stream",
          "text": [
            "My car has 2 lister engine with beautiful shape.\n",
            "My car has 5 liter engine with tough body.\n"
          ],
          "name": "stdout"
        }
      ]
    },
    {
      "cell_type": "markdown",
      "metadata": {
        "id": "ymvum3upTI-d"
      },
      "source": [
        "# Lesson 32 Overriding"
      ]
    },
    {
      "cell_type": "code",
      "metadata": {
        "colab": {
          "base_uri": "https://localhost:8080/"
        },
        "id": "AQ2L8rL4S06e",
        "outputId": "699d633c-c7ea-49bb-9ae8-8c3ba80896c5"
      },
      "source": [
        "class Car(object):\r\n",
        "    def __init__(self, category, fuel):\r\n",
        "        self.category = category\r\n",
        "        self.fuel = fuel\r\n",
        "\r\n",
        "    def display_mycar(self):\r\n",
        "        print (\"My car is {0} and it requires {1} for fuel.\". format(self.category,self.fuel))\r\n",
        "\r\n",
        "mysportscar = Car(\"an old car\",\"gasoline\")\r\n",
        "mysportscar.display_mycar()"
      ],
      "execution_count": null,
      "outputs": [
        {
          "output_type": "stream",
          "text": [
            "My car is an old car and it requires gasoline for fuel.\n"
          ],
          "name": "stdout"
        }
      ]
    },
    {
      "cell_type": "code",
      "metadata": {
        "colab": {
          "base_uri": "https://localhost:8080/"
        },
        "id": "9m2OzglJS0-q",
        "outputId": "94ca620d-635a-49ff-c3cc-c19fb5986d00"
      },
      "source": [
        "class Car(object):\r\n",
        "    def __init__(self, category, fuel):\r\n",
        "        self.category = category\r\n",
        "        self.fuel = fuel\r\n",
        "\r\n",
        "    def display_mycar(self):\r\n",
        "        print (\"My car is {0} and it requires {1} for fuel.\". format(self.category,self.fuel))\r\n",
        "\r\n",
        "class Ecar(Car):\r\n",
        "    pass\r\n",
        "\r\n",
        "myecar = Ecar(\"a new car\",\"electricity\") \r\n",
        "myecar.display_mycar()\r\n",
        "mysportscar = Car(\"an old car\", \"gasoline\")\r\n",
        "mysportscar.display_mycar()"
      ],
      "execution_count": null,
      "outputs": [
        {
          "output_type": "stream",
          "text": [
            "My car is a new car and it requires electricity for fuel.\n",
            "My car is an old car and it requires gasoline for fuel.\n"
          ],
          "name": "stdout"
        }
      ]
    },
    {
      "cell_type": "code",
      "metadata": {
        "colab": {
          "base_uri": "https://localhost:8080/"
        },
        "id": "OtUm6E_US1Dy",
        "outputId": "4db721ce-cb2b-481a-c56d-ce7369e7aaef"
      },
      "source": [
        "class Car(object):\r\n",
        "    def __init__(self, category, fuel):\r\n",
        "        self.category = category\r\n",
        "        self.fuel = fuel\r\n",
        "\r\n",
        "    def display_mycar(self):\r\n",
        "        print (\"My car is {0} and it requires {1} for fuel.\". format(self.category,self.fuel))\r\n",
        "\r\n",
        "class Ecar(Car):\r\n",
        "    def display_mycar(self):\r\n",
        "        print (\"My car does not require fuel. and it only requires {}.\". format(self.fuel))\r\n",
        "\r\n",
        "myecar = Ecar(\"a new car\",\"electricity\") \r\n",
        "myecar.display_mycar()\r\n",
        "mysportscar = Car(\"an old car\", \"gasoline\")\r\n",
        "mysportscar.display_mycar()"
      ],
      "execution_count": null,
      "outputs": [
        {
          "output_type": "stream",
          "text": [
            "My car does not require fuel. and it only requires electricity.\n",
            "My car is an old car and it requires gasoline for fuel.\n"
          ],
          "name": "stdout"
        }
      ]
    },
    {
      "cell_type": "markdown",
      "metadata": {
        "id": "Un13pThxTVNr"
      },
      "source": [
        "# Quiz"
      ]
    },
    {
      "cell_type": "markdown",
      "metadata": {
        "id": "CwECZWYTjzSA"
      },
      "source": [
        "Create “Car”\r\n",
        "\r\n",
        "Car gives “toll” a value of 2.\r\n",
        "\r\n",
        "Create a subclass “Truck(Car)”.\r\n",
        "\r\n",
        "Truck gives “toll” a value of 3.\r\n",
        "\r\n",
        "Call “toll” in subclass.\r\n"
      ]
    },
    {
      "cell_type": "code",
      "metadata": {
        "id": "-_oJAZqATYzn"
      },
      "source": [
        "# Your Version\r\n",
        "\r\n",
        "\r\n",
        "\r\n",
        "\r\n",
        "\r\n",
        "\r\n"
      ],
      "execution_count": null,
      "outputs": []
    },
    {
      "cell_type": "code",
      "metadata": {
        "colab": {
          "base_uri": "https://localhost:8080/"
        },
        "id": "jcUrW79UTYA8",
        "outputId": "cde885fd-6618-4771-8c55-c83cc045a73b"
      },
      "source": [
        "class Car(object):\r\n",
        "  def __init__(self, toll):\r\n",
        "      self.toll = toll\r\n",
        "\r\n",
        "  def display_car(self):\r\n",
        "      print (\"The toll for a sedan is {} dollars\". format(self.toll))\r\n",
        "\r\n",
        "class Truck(Car):\r\n",
        "\r\n",
        "  def display_car(self):\r\n",
        "      print (\"The toll for a truck is {} dollars\". format(self.toll))\r\n",
        "\r\n",
        "\r\n",
        "pay_toll = Truck(\"3\")\r\n",
        "pay_toll.display_car()\r\n",
        "\r\n",
        "pay_toll = Car(\"2\")\r\n",
        "pay_toll.display_car()"
      ],
      "execution_count": null,
      "outputs": [
        {
          "output_type": "stream",
          "text": [
            "The toll for a truck is 3 dollars\n",
            "The toll for a sedan is 2 dollars\n"
          ],
          "name": "stdout"
        }
      ]
    },
    {
      "cell_type": "markdown",
      "metadata": {
        "id": "u_AOUDBRTMr8"
      },
      "source": [
        "# Lesson 33 Super"
      ]
    },
    {
      "cell_type": "code",
      "metadata": {
        "colab": {
          "base_uri": "https://localhost:8080/"
        },
        "id": "OI-ZeqdnS1TJ",
        "outputId": "fba432e8-a254-42ef-fae3-17bd7e31f500"
      },
      "source": [
        "class Car(object):\r\n",
        "    def __init__(self, model):\r\n",
        "        self.model = model\r\n",
        "\r\n",
        "    def calculate_mileage(self, mile):\r\n",
        "        self.mile = mile\r\n",
        "        return mile * 1\r\n",
        "\r\n",
        "road = Car('Sonata')\r\n",
        "print (road.calculate_mileage(10))"
      ],
      "execution_count": 1,
      "outputs": [
        {
          "output_type": "stream",
          "text": [
            "10\n"
          ],
          "name": "stdout"
        }
      ]
    },
    {
      "cell_type": "code",
      "metadata": {
        "colab": {
          "base_uri": "https://localhost:8080/"
        },
        "id": "NNhdJ1QOS1cZ",
        "outputId": "7a4bfd9e-4568-4395-ba5a-c1b4bd5bbb60"
      },
      "source": [
        "class Car(object):\r\n",
        "    def __init__(self, model):\r\n",
        "        self.model = model\r\n",
        "\r\n",
        "    def calculate_mileage(self, mile):\r\n",
        "        self.mile = mile\r\n",
        "        return mile * 1\r\n",
        "\r\n",
        "class Truck(Car):\r\n",
        "    pass\r\n",
        "\r\n",
        "\r\n",
        "road = Truck('road')\r\n",
        "print (road.calculate_mileage(10))"
      ],
      "execution_count": 2,
      "outputs": [
        {
          "output_type": "stream",
          "text": [
            "10\n"
          ],
          "name": "stdout"
        }
      ]
    },
    {
      "cell_type": "code",
      "metadata": {
        "colab": {
          "base_uri": "https://localhost:8080/"
        },
        "id": "daHDuw6JS1j6",
        "outputId": "c83ef00b-6810-47e0-f61d-a5115fba8838"
      },
      "source": [
        "class Car(object):\r\n",
        "    def __init__(self, model):\r\n",
        "        self.model = model\r\n",
        "\r\n",
        "    def calculate_mileage(self, mile):\r\n",
        "        self.mile = mile\r\n",
        "        return mile * 1\r\n",
        "\r\n",
        "class Truck(Car):\r\n",
        "    def calculate_mileage(self, mile):\r\n",
        "        self.mile = mile\r\n",
        "        return mile * 2\r\n",
        "\r\n",
        "road = Truck('road')\r\n",
        "print (road.calculate_mileage(10))"
      ],
      "execution_count": 4,
      "outputs": [
        {
          "output_type": "stream",
          "text": [
            "20\n"
          ],
          "name": "stdout"
        }
      ]
    },
    {
      "cell_type": "code",
      "metadata": {
        "colab": {
          "base_uri": "https://localhost:8080/"
        },
        "id": "HTlBbuB3S1sh",
        "outputId": "ffcb473d-cd77-4365-f2bc-1a985b309f61"
      },
      "source": [
        "class Car(object):\r\n",
        "    def __init__(self, model):\r\n",
        "        self.model = model\r\n",
        "\r\n",
        "    def calculate_mileage(self, mile):\r\n",
        "        self.mile = mile\r\n",
        "        return mile * 1\r\n",
        "\r\n",
        "class Truck(Car):\r\n",
        "    def calculate_mileage(self, mile):\r\n",
        "        self.mile = mile\r\n",
        "        return mile * 2\r\n",
        "\r\n",
        "    def highway_mileage(self, mile):\r\n",
        "        return super(Truck, self).calculate_mileage(mile)\r\n",
        "\r\n",
        "highway = Truck('highway')\r\n",
        "print (highway.highway_mileage(10))"
      ],
      "execution_count": 5,
      "outputs": [
        {
          "output_type": "stream",
          "text": [
            "10\n"
          ],
          "name": "stdout"
        }
      ]
    },
    {
      "cell_type": "markdown",
      "metadata": {
        "id": "vJMk_7ULTQPw"
      },
      "source": [
        "# Quiz"
      ]
    },
    {
      "cell_type": "markdown",
      "metadata": {
        "id": "rwpoqKFNj38W"
      },
      "source": [
        "Make a mother class ‘Leave’\r\n",
        "\r\n",
        "Create a method to calculate vacation leaves\r\n",
        "\r\n",
        "Make a sub_calss  “Sick_days”\r\n",
        "\r\n",
        "Pass it and it inherits everything .\r\n",
        "\r\n",
        "Make the same classes again but this time, \r\n",
        "subtract sick days from the function calculate_leaves \r\n"
      ]
    },
    {
      "cell_type": "code",
      "metadata": {
        "id": "fhx2e1-kS16g"
      },
      "source": [
        "# Your Version\r\n",
        "\r\n",
        "\r\n",
        "\r\n",
        "\r\n",
        "\r\n",
        "\r\n"
      ],
      "execution_count": null,
      "outputs": []
    },
    {
      "cell_type": "code",
      "metadata": {
        "colab": {
          "base_uri": "https://localhost:8080/"
        },
        "id": "Wp-9sxFVS2DB",
        "outputId": "400a6747-8772-430f-d57b-37a61408be51"
      },
      "source": [
        "class Leave(object):\r\n",
        "    def __init__(self, leave):\r\n",
        "        self.leave = leave\r\n",
        "# You get 4% of vacation from your working days\r\n",
        "    def calculate_leave(self, days):\r\n",
        "        self.days = days\r\n",
        "        return days * 0.04\r\n",
        "\r\n",
        "vac_leave = Leave('Vacation_Leave')\r\n",
        "print (vac_leave.calculate_leave(100))"
      ],
      "execution_count": null,
      "outputs": [
        {
          "output_type": "stream",
          "text": [
            "4.0\n"
          ],
          "name": "stdout"
        }
      ]
    },
    {
      "cell_type": "code",
      "metadata": {
        "colab": {
          "base_uri": "https://localhost:8080/"
        },
        "id": "0-nUeTMyS2JK",
        "outputId": "35bf17bf-bb32-4921-cfa7-8bbd4cdbaa5d"
      },
      "source": [
        "class Leave(object):\r\n",
        "    def __init__(self, leave):\r\n",
        "        self.leave = leave\r\n",
        "# You get 4% of vacation from your working days\r\n",
        "    def calculate_leave(self, days):\r\n",
        "        self.days = days\r\n",
        "        return days * 0.04\r\n",
        "\r\n",
        "class Sick_days(Leave):\r\n",
        "  pass\r\n",
        "\r\n",
        "vac_leave = Leave('Vacation_Leave')\r\n",
        "print (vac_leave.calculate_leave(100))"
      ],
      "execution_count": null,
      "outputs": [
        {
          "output_type": "stream",
          "text": [
            "4.0\n"
          ],
          "name": "stdout"
        }
      ]
    },
    {
      "cell_type": "code",
      "metadata": {
        "colab": {
          "base_uri": "https://localhost:8080/"
        },
        "id": "rggq7kM_KgOe",
        "outputId": "8e0cce64-f417-48be-a054-e8f8dfca4983"
      },
      "source": [
        "class Leave(object):\r\n",
        "    def __init__(self, leave):\r\n",
        "        self.leave = leave\r\n",
        "# You get 4% of vacation from your working days\r\n",
        "    def calculate_leave(self, days):\r\n",
        "        self.days = days\r\n",
        "        return days * 0.04\r\n",
        "\r\n",
        "class Sick_days(Leave):\r\n",
        "    def calculate_leave(self, days):\r\n",
        "       sick_days=3\r\n",
        "       return (days * 0.04 + sick_days)\r\n",
        "\r\n",
        "vac_leave = Sick_days('vac_leave')\r\n",
        "print (vac_leave.calculate_leave(100))\r\n"
      ],
      "execution_count": null,
      "outputs": [
        {
          "output_type": "stream",
          "text": [
            "7.0\n"
          ],
          "name": "stdout"
        }
      ]
    },
    {
      "cell_type": "code",
      "metadata": {
        "colab": {
          "base_uri": "https://localhost:8080/"
        },
        "id": "RfQGYuymM74b",
        "outputId": "f7a674da-067d-4d83-ce22-fa8cacbe2f42"
      },
      "source": [
        "class Leave(object):\r\n",
        "    def __init__(self, leave):\r\n",
        "        self.leave = leave\r\n",
        "# You get 4% of vacation from your working days\r\n",
        "    def calculate_leave(self, days):\r\n",
        "        self.days = days\r\n",
        "        return days * 0.04\r\n",
        "\r\n",
        "class Sick_days(Leave):\r\n",
        "    def calculate_leave(self, days):\r\n",
        "       sick_days=3\r\n",
        "       return (days * 0.04 + sick_days)\r\n",
        "\r\n",
        "    def without_paper(self, days):\r\n",
        "        return super(Sick_days, self).calculate_leave(days)\r\n",
        "    \r\n",
        "\r\n",
        "vac_leave = Sick_days('without_paper')\r\n",
        "print (vac_leave.without_paper(100))"
      ],
      "execution_count": null,
      "outputs": [
        {
          "output_type": "stream",
          "text": [
            "4.0\n"
          ],
          "name": "stdout"
        }
      ]
    },
    {
      "cell_type": "markdown",
      "metadata": {
        "id": "SA30jrYITi4t"
      },
      "source": [
        "# Lesson 34 Lambda"
      ]
    },
    {
      "cell_type": "markdown",
      "metadata": {
        "id": "5LLtgNRlSPgh"
      },
      "source": [
        "    a = 2        \r\n",
        "    b = 2\r\n",
        "    print (a + b)"
      ]
    },
    {
      "cell_type": "markdown",
      "metadata": {
        "id": "xtS94xtxSRp_"
      },
      "source": [
        "      def sample(a,b):\r\n",
        "              print(a + b)\r\n",
        "\r\n",
        "      sample(2,2)"
      ]
    },
    {
      "cell_type": "markdown",
      "metadata": {
        "id": "JzVF6jF_SUzL"
      },
      "source": [
        "    a = lambda x, y: x + y\r\n",
        "    print (a(2,2))"
      ]
    },
    {
      "cell_type": "code",
      "metadata": {
        "colab": {
          "base_uri": "https://localhost:8080/"
        },
        "id": "ikPcmp-JS2Q2",
        "outputId": "763d9f59-375b-4f62-dc86-6ddaa510b031"
      },
      "source": [
        "sample1 = lambda x,y,z: x+y+z\r\n",
        "print (sample1(1,2,3))\r\n",
        "\r\n",
        "sample2 = lambda x,y,z: x*y*z\r\n",
        "print (sample2(1,2,3))\r\n",
        "\r\n",
        "z = (lambda x,y: x+y) (10,20) \r\n",
        "print (z)"
      ],
      "execution_count": null,
      "outputs": [
        {
          "output_type": "stream",
          "text": [
            "6\n",
            "6\n",
            "30\n"
          ],
          "name": "stdout"
        }
      ]
    },
    {
      "cell_type": "code",
      "metadata": {
        "colab": {
          "base_uri": "https://localhost:8080/"
        },
        "id": "gruZkUNfS2XA",
        "outputId": "8c387d12-3a53-4a3b-f9c6-14237156aeca"
      },
      "source": [
        "y = lambda x: x**3\r\n",
        "print (y(7))\r\n",
        "\r\n",
        "z = (lambda x,y: x**3+y**3) (3,4) \r\n",
        "print (z)\r\n",
        "\r\n",
        "z = (lambda x,y: x**3+y**3) \r\n",
        "print (z(3,4))"
      ],
      "execution_count": null,
      "outputs": [
        {
          "output_type": "stream",
          "text": [
            "343\n",
            "91\n",
            "91\n"
          ],
          "name": "stdout"
        }
      ]
    },
    {
      "cell_type": "markdown",
      "metadata": {
        "id": "PPfh_wVHTrSA"
      },
      "source": [
        "# Quiz\r\n"
      ]
    },
    {
      "cell_type": "markdown",
      "metadata": {
        "id": "IK4U4lJHj8yW"
      },
      "source": [
        "Print out even and odd numbers using lambda functions\r\n",
        "\r\n",
        "Please see the below codes that we used in the continue statement section\r\n",
        "\r\n",
        "\r\n",
        "\r\n",
        "---\r\n",
        "\r\n",
        "\r\n",
        "    for num in range(1, 3):\r\n",
        "      if num% 2 == 0:\r\n",
        "        print (num)\r\n",
        "        continue\r\n",
        "    \r\n",
        "    for num in range(1, 3):\r\n",
        "      if num% 2 == 1:\r\n",
        "        print (num)\r\n",
        "        continue\r\n",
        "\r\n",
        "\r\n",
        "\r\n",
        "\r\n"
      ]
    },
    {
      "cell_type": "code",
      "metadata": {
        "id": "wX0l_fSxS2xj"
      },
      "source": [
        "# Your Version\r\n",
        "\r\n",
        "\r\n",
        "\r\n",
        "\r\n",
        "\r\n",
        "\r\n"
      ],
      "execution_count": null,
      "outputs": []
    },
    {
      "cell_type": "code",
      "metadata": {
        "colab": {
          "base_uri": "https://localhost:8080/"
        },
        "id": "GIjfeAgoS29n",
        "outputId": "3b06e04d-7dfd-46ad-a09a-9d89622c8077"
      },
      "source": [
        "print ((lambda x, y: x if x % 2 == 0 else y)(1,2))\r\n",
        "print ((lambda x, y: x if x % 2 == 1 else y)(1,2))"
      ],
      "execution_count": null,
      "outputs": [
        {
          "output_type": "stream",
          "text": [
            "2\n",
            "1\n"
          ],
          "name": "stdout"
        }
      ]
    },
    {
      "cell_type": "code",
      "metadata": {
        "colab": {
          "base_uri": "https://localhost:8080/"
        },
        "id": "4E9EAdgAS3Hb",
        "outputId": "8a11d2f7-343f-430e-b35e-8e9a2fda6e27"
      },
      "source": [
        "mylist = list(range(1, 3))\r\n",
        "print (list(filter(lambda n:n % 2 == 0 , mylist)))\r\n",
        "print (list(filter(lambda n:n % 2 == 1 , mylist)))"
      ],
      "execution_count": null,
      "outputs": [
        {
          "output_type": "stream",
          "text": [
            "[2]\n",
            "[1]\n"
          ],
          "name": "stdout"
        }
      ]
    },
    {
      "cell_type": "markdown",
      "metadata": {
        "id": "5AydDL5rTvrh"
      },
      "source": [
        "# Lesson 35 Lambda and Functions"
      ]
    },
    {
      "cell_type": "markdown",
      "metadata": {
        "id": "_xa9ElrpTFiF"
      },
      "source": [
        "(1) map() function\r\n",
        "\r\n",
        "  \tlist(map(lambda x: x ** 3, range(5)))\r\n",
        "\r\n",
        "(2) filter() function\r\n",
        "\r\n",
        " \tlist(filter(lambda x: 3<x < 5, range(6)))"
      ]
    },
    {
      "cell_type": "code",
      "metadata": {
        "colab": {
          "base_uri": "https://localhost:8080/"
        },
        "id": "F2Ig85WXS3d4",
        "outputId": "806137a1-deb2-4afb-abe2-f6c036bb6890"
      },
      "source": [
        "print (list(map(lambda x: x ** 2, [5,6,7,8,9])))"
      ],
      "execution_count": null,
      "outputs": [
        {
          "output_type": "stream",
          "text": [
            "[25, 36, 49, 64, 81]\n"
          ],
          "name": "stdout"
        }
      ]
    },
    {
      "cell_type": "code",
      "metadata": {
        "colab": {
          "base_uri": "https://localhost:8080/"
        },
        "id": "9ShZ894vS3pF",
        "outputId": "72f30d9a-6a2a-4dfb-e51a-13582f3190a6"
      },
      "source": [
        "print (list(filter(lambda x: x < 3, range(11))))"
      ],
      "execution_count": null,
      "outputs": [
        {
          "output_type": "stream",
          "text": [
            "[0, 1, 2]\n"
          ],
          "name": "stdout"
        }
      ]
    },
    {
      "cell_type": "markdown",
      "metadata": {
        "id": "mWQB52H0T42z"
      },
      "source": [
        "# Quiz"
      ]
    },
    {
      "cell_type": "markdown",
      "metadata": {
        "id": "XHXoKlukkc0W"
      },
      "source": [
        "Add 1 to 10 using the map() function\r\n",
        "\r\n",
        "Print even numbers using filter function\r\n"
      ]
    },
    {
      "cell_type": "code",
      "metadata": {
        "id": "0wrKgOS4S4nu"
      },
      "source": [
        "# Your Version\r\n",
        "\r\n",
        "\r\n",
        "\r\n",
        "\r\n",
        "\r\n",
        "\r\n"
      ],
      "execution_count": null,
      "outputs": []
    },
    {
      "cell_type": "code",
      "metadata": {
        "colab": {
          "base_uri": "https://localhost:8080/"
        },
        "id": "S4OzNkYKS4zd",
        "outputId": "4485cae9-18c7-476e-be8b-a5f46ab3d10c"
      },
      "source": [
        "# Instead of map(), we can use reduce function to do so\r\n",
        "# reduce used to be a built-in method, but now we have to import it\r\n",
        "import functools\r\n",
        "from functools import reduce\r\n",
        "print(reduce(lambda x, y: x+y, range(1,11)))"
      ],
      "execution_count": null,
      "outputs": [
        {
          "output_type": "stream",
          "text": [
            "55\n"
          ],
          "name": "stdout"
        }
      ]
    },
    {
      "cell_type": "code",
      "metadata": {
        "colab": {
          "base_uri": "https://localhost:8080/"
        },
        "id": "GGx_da4tS48v",
        "outputId": "f3aa9589-72a1-471e-fc02-e50878321794"
      },
      "source": [
        "mylist =  [-2, -1, 1, 2]\r\n",
        "print (list(filter(lambda x: x%2 == 0, mylist)))"
      ],
      "execution_count": null,
      "outputs": [
        {
          "output_type": "stream",
          "text": [
            "[-2, 2]\n"
          ],
          "name": "stdout"
        }
      ]
    },
    {
      "cell_type": "markdown",
      "metadata": {
        "id": "_mQ7rOloT7XM"
      },
      "source": [
        "# Lesson 36 List Comprehension"
      ]
    },
    {
      "cell_type": "code",
      "metadata": {
        "colab": {
          "base_uri": "https://localhost:8080/"
        },
        "id": "lqUM2kkuS5PH",
        "outputId": "8cb4ebbd-a18c-486b-ac24-639527452bdb"
      },
      "source": [
        "even_ten = [x * 2 for x in range(6)]\r\n",
        "print (even_ten)"
      ],
      "execution_count": null,
      "outputs": [
        {
          "output_type": "stream",
          "text": [
            "[0, 2, 4, 6, 8, 10]\n"
          ],
          "name": "stdout"
        }
      ]
    },
    {
      "cell_type": "code",
      "metadata": {
        "colab": {
          "base_uri": "https://localhost:8080/"
        },
        "id": "ViaCMJHdS5ZJ",
        "outputId": "5b042d4f-7fe6-4435-865b-262d4ed53af1"
      },
      "source": [
        "odd_ten = [x*2+1 for x in range(5)]\r\n",
        "print (odd_ten)"
      ],
      "execution_count": null,
      "outputs": [
        {
          "output_type": "stream",
          "text": [
            "[1, 3, 5, 7, 9]\n"
          ],
          "name": "stdout"
        }
      ]
    },
    {
      "cell_type": "code",
      "metadata": {
        "colab": {
          "base_uri": "https://localhost:8080/"
        },
        "id": "xgCQ-VqgS5h8",
        "outputId": "f3acd8f0-0ed8-4934-c48b-5ce035fc4bf1"
      },
      "source": [
        "a = ['BMW' ,'FORD','CHEVY']\r\n",
        "b = [2019,2020]\r\n",
        " \r\n",
        "comb_car = [(c, y) for c in a for y in b]\r\n",
        " \r\n",
        "print (comb_car)"
      ],
      "execution_count": null,
      "outputs": [
        {
          "output_type": "stream",
          "text": [
            "[('BMW', 2019), ('BMW', 2020), ('FORD', 2019), ('FORD', 2020), ('CHEVY', 2019), ('CHEVY', 2020)]\n"
          ],
          "name": "stdout"
        }
      ]
    },
    {
      "cell_type": "markdown",
      "metadata": {
        "id": "6VbdPxjNUCgG"
      },
      "source": [
        "# Quiz\r\n"
      ]
    },
    {
      "cell_type": "markdown",
      "metadata": {
        "id": "8rqgyPFzlDH3"
      },
      "source": [
        "mylist = [1,2,3,\"a\",\"b\",4.0,5.0,True, False]\r\n",
        "\r\n",
        "Make four new lists out of mylist for each data type\r\n"
      ]
    },
    {
      "cell_type": "code",
      "metadata": {
        "id": "vQIa6XzYS5qM"
      },
      "source": [
        "# Your Version\r\n",
        "\r\n",
        "\r\n",
        "\r\n",
        "\r\n",
        "\r\n"
      ],
      "execution_count": null,
      "outputs": []
    },
    {
      "cell_type": "code",
      "metadata": {
        "colab": {
          "base_uri": "https://localhost:8080/"
        },
        "id": "QwE_h3n5S50_",
        "outputId": "015f7a14-6c9c-4186-9876-1a287cac1f38"
      },
      "source": [
        "mylist = [1,2,3,\"a\",\"b\",4.0,5.0,True, False]\r\n",
        "\r\n",
        "newlist1 = [i for i in mylist if type(i)==int]\r\n",
        "print (newlist1)\r\n",
        "\r\n",
        "\r\n",
        "newlist2 = [i for i in mylist if type(i)==float]\r\n",
        "print (newlist2)\r\n",
        "\r\n",
        "\r\n",
        "newlist3 = [i for i in mylist if type(i)==bool]\r\n",
        "print (newlist3)\r\n",
        "\r\n",
        "newlist4 = [i for i in mylist if type(i)==str]\r\n",
        "print (newlist4)\r\n",
        "\r\n"
      ],
      "execution_count": 8,
      "outputs": [
        {
          "output_type": "stream",
          "text": [
            "[1, 2, 3]\n",
            "[4.0, 5.0]\n",
            "[True, False]\n",
            "['a', 'b']\n"
          ],
          "name": "stdout"
        }
      ]
    },
    {
      "cell_type": "markdown",
      "metadata": {
        "id": "pzcV7teIUF_5"
      },
      "source": [
        "# Lesson 37 Set Comprehension"
      ]
    },
    {
      "cell_type": "code",
      "metadata": {
        "colab": {
          "base_uri": "https://localhost:8080/"
        },
        "id": "Op3aYsVjS6b2",
        "outputId": "cd0dbeaa-36c5-4695-858f-5e026ff62de5"
      },
      "source": [
        "even_ten = {x * 2 for x in range(6)}\r\n",
        "print (even_ten)"
      ],
      "execution_count": null,
      "outputs": [
        {
          "output_type": "stream",
          "text": [
            "{0, 2, 4, 6, 8, 10}\n"
          ],
          "name": "stdout"
        }
      ]
    },
    {
      "cell_type": "code",
      "metadata": {
        "colab": {
          "base_uri": "https://localhost:8080/"
        },
        "id": "hIgA8EI0S6nZ",
        "outputId": "0f0245e4-19a2-467c-e28a-dbe4007e6dfa"
      },
      "source": [
        "odd_ten = {x*2+1 for x in range(5)}\r\n",
        "print (odd_ten)"
      ],
      "execution_count": null,
      "outputs": [
        {
          "output_type": "stream",
          "text": [
            "{1, 3, 5, 7, 9}\n"
          ],
          "name": "stdout"
        }
      ]
    },
    {
      "cell_type": "code",
      "metadata": {
        "colab": {
          "base_uri": "https://localhost:8080/"
        },
        "id": "FZvCNcBcS6si",
        "outputId": "249b9fd6-e4ef-4903-a9a0-623637273b21"
      },
      "source": [
        "a = {'BMW' ,'FORD', 'CHEVY', 'FORD'}\r\n",
        "\r\n",
        "b = {2019, 2020}\r\n",
        "comb_car = {(c, y) for c in a for y in b}\r\n",
        "\r\n",
        "print (comb_car)"
      ],
      "execution_count": null,
      "outputs": [
        {
          "output_type": "stream",
          "text": [
            "{('FORD', 2020), ('BMW', 2020), ('CHEVY', 2020), ('BMW', 2019), ('FORD', 2019), ('CHEVY', 2019)}\n"
          ],
          "name": "stdout"
        }
      ]
    },
    {
      "cell_type": "markdown",
      "metadata": {
        "id": "x9OeeDMvUN4a"
      },
      "source": [
        "# Quiz"
      ]
    },
    {
      "cell_type": "markdown",
      "metadata": {
        "id": "BnxPH1pNlID0"
      },
      "source": [
        "myset = {1,2,3,\"a\",\"b\",4.5,5.5,True, False} \r\n",
        "\r\n",
        "From myset,\r\n",
        "\r\n",
        "Create a new set 1 for the data type is integer\r\n",
        "\r\n",
        "Create a new set 2 for the data type is float\r\n",
        "\r\n",
        "Create a new set 3 for the data type is boolean\r\n",
        "\r\n",
        "Create a new set 4 for the data type is string\r\n",
        "\r\n",
        "\r\n"
      ]
    },
    {
      "cell_type": "code",
      "metadata": {
        "id": "gRC3tFi-S7Ix"
      },
      "source": [
        "# Your Version\r\n",
        "\r\n",
        "\r\n",
        "\r\n",
        "\r\n",
        "\r\n",
        "\r\n"
      ],
      "execution_count": null,
      "outputs": []
    },
    {
      "cell_type": "code",
      "metadata": {
        "colab": {
          "base_uri": "https://localhost:8080/"
        },
        "id": "ko1q_UVGS7Sn",
        "outputId": "605e56e3-8844-4f38-bad7-0b04b94f02bb"
      },
      "source": [
        "myset = {1,2,3,\"a\",\"b\",4.5,5.5,True, False}\r\n",
        "\r\n",
        "newset2 = {i for i in myset if type(i)==int}\r\n",
        "print (newset2)\r\n",
        "\r\n",
        "newset1 = {i for i in myset if type(i)==float}\r\n",
        "print (newset1)\r\n",
        "\r\n",
        "\r\n",
        "newset3 = {i for i in myset if type(i)==bool}\r\n",
        "print (newset3)\r\n",
        "\r\n",
        "\r\n",
        "newset4 = {i for i in myset if type(i)==str}\r\n",
        "print (newset4)"
      ],
      "execution_count": 11,
      "outputs": [
        {
          "output_type": "stream",
          "text": [
            "{1, 2, 3}\n",
            "{4.5, 5.5}\n",
            "{False}\n",
            "{'b', 'a'}\n"
          ],
          "name": "stdout"
        }
      ]
    },
    {
      "cell_type": "markdown",
      "metadata": {
        "id": "hR8sorEYUQzr"
      },
      "source": [
        "# Lesson 38 Dictionary Comprehension"
      ]
    },
    {
      "cell_type": "markdown",
      "metadata": {
        "id": "Fs0xH_2Qbfu-"
      },
      "source": [
        "    newdict  = [key: value for key, value in input sequence]"
      ]
    },
    {
      "cell_type": "markdown",
      "metadata": {
        "id": "53I-pAcPbtD1"
      },
      "source": [
        "    new_dict = {key: value for key, value in zip(dict1, dict2)}"
      ]
    },
    {
      "cell_type": "code",
      "metadata": {
        "colab": {
          "base_uri": "https://localhost:8080/"
        },
        "id": "TSk2Bpf4S8Qz",
        "outputId": "801c68a0-0f8e-4de0-9a79-fa50a9d17e0e"
      },
      "source": [
        "cars = ['BMW', 'FORD', 'CHEVY', 'KIA']\r\n",
        "years = [2019, 2020, 2018, 2019]\r\n",
        "\r\n",
        "year_dict = {key: value for key, value in zip(cars, years)}\r\n",
        "\r\n",
        "print (year_dict)"
      ],
      "execution_count": null,
      "outputs": [
        {
          "output_type": "stream",
          "text": [
            "{'BMW': 2019, 'FORD': 2020, 'CHEVY': 2018, 'KIA': 2019}\n"
          ],
          "name": "stdout"
        }
      ]
    },
    {
      "cell_type": "markdown",
      "metadata": {
        "id": "VBFTHhbLUWum"
      },
      "source": [
        "# Quiz"
      ]
    },
    {
      "cell_type": "markdown",
      "metadata": {
        "id": "kpINmSEFlV85"
      },
      "source": [
        "Create a dictionary that combines basketball players and positions\r\n",
        "\r\n",
        "The players list has ['Curry','Harden','James','Davis','Jokic']\r\n",
        "\r\n",
        "The positions are ['PG','SG','SF','PF','C']\r\n"
      ]
    },
    {
      "cell_type": "code",
      "metadata": {
        "id": "r-JaBxEuS89B"
      },
      "source": [
        "# Your Version\r\n",
        "\r\n",
        "\r\n",
        "\r\n",
        "\r\n",
        "\r\n",
        "\r\n"
      ],
      "execution_count": null,
      "outputs": []
    },
    {
      "cell_type": "code",
      "metadata": {
        "colab": {
          "base_uri": "https://localhost:8080/"
        },
        "id": "gkfu8alpS9Es",
        "outputId": "6efabe3c-1bd4-462f-cfb0-ba9559b109b0"
      },
      "source": [
        "players = ['Curry','Harden','James','Davis','Jokic']\r\n",
        "positions = ['PG','SG','SF','PF','C']\r\n",
        " \r\n",
        "mydict1 = {key: value for key, value in zip(players,positions)}\r\n",
        "print (mydict1)"
      ],
      "execution_count": null,
      "outputs": [
        {
          "output_type": "stream",
          "text": [
            "{'Curry': 'PG', 'Harden': 'SG', 'James': 'SF', 'Davis': 'PF', 'Jokic': 'C'}\n"
          ],
          "name": "stdout"
        }
      ]
    }
  ]
}