{
  "nbformat": 4,
  "nbformat_minor": 0,
  "metadata": {
    "colab": {
      "name": "파이썬 처음하는 분들을 위한 8시간 만에 이해하는 머신 러닝 기초 수업 (3) NumPy 기본",
      "provenance": [],
      "collapsed_sections": [],
      "include_colab_link": true
    },
    "kernelspec": {
      "name": "python3",
      "display_name": "Python 3"
    }
  },
  "cells": [
    {
      "cell_type": "markdown",
      "metadata": {
        "id": "view-in-github",
        "colab_type": "text"
      },
      "source": [
        "<a href=\"https://colab.research.google.com/github/joshuajhchoi/ai2learn/blob/master/%ED%8C%8C%EC%9D%B4%EC%8D%AC_%EC%B2%98%EC%9D%8C%ED%95%98%EB%8A%94_%EB%B6%84%EB%93%A4%EC%9D%84_%EC%9C%84%ED%95%9C_8%EC%8B%9C%EA%B0%84_%EB%A7%8C%EC%97%90_%EC%9D%B4%ED%95%B4%ED%95%98%EB%8A%94_%EB%A8%B8%EC%8B%A0_%EB%9F%AC%EB%8B%9D_%EA%B8%B0%EC%B4%88_%EC%88%98%EC%97%85_(3)_NumPy_%EA%B8%B0%EB%B3%B8.ipynb\" target=\"_parent\"><img src=\"https://colab.research.google.com/assets/colab-badge.svg\" alt=\"Open In Colab\"/></a>"
      ]
    },
    {
      "cell_type": "markdown",
      "metadata": {
        "id": "em4Dw7HAoVvK",
        "colab_type": "text"
      },
      "source": [
        "목차\n",
        "\n",
        "1. 파이썬 기초 문법 이해하기 (2시간 15분)\n",
        "2. 주피터노트북 및 Colab 이해 (15분)\n",
        "\n",
        "###3. NumPy 기본 (30분)\n",
        "4. Matplotlib 기본 이해 (30분)\n",
        "5. Seaborn 기본 이해 (30분)\n",
        "6. 통계 필요사항 기본 이해 (30분)\n",
        "7. Pandas 기본 이해 (30분)\n",
        "8. ScikitLearn 기본 이해 (30분)\n",
        "9. 머신러닝 알고리즘 개요 이해 (30분)\n",
        "10. Kaggle Titanic 입문하기 (2시간)\n",
        "\n",
        "####6시간 버전\n",
        "1. 파이썬 기초 문법 이해하기 (1시간 30분)   \n",
        "2. NumPy 기본 (30분)\n",
        "3. Matplotlib 기본 이해 (30분)\n",
        "4. Seaborn 기본 이해 (30분)\n",
        "5. Pandas 기본 이해 (30분)\n",
        "6. ScikitLearn 기본 이해 (30분)\n",
        "7. Kaggle Titanic 입문하기 (2시간)"
      ]
    },
    {
      "cell_type": "markdown",
      "metadata": {
        "id": "fF4xUzomoe3m",
        "colab_type": "text"
      },
      "source": [
        "##NUMPY\n",
        "Numpy는 Python의 과학 컴퓨팅을 위한 핵심 라이브러리입니다. 고성능 다차원 배열 객체와 이러한 배열 작업을위한 도구를 제공합니다. \n",
        "\n",
        "####Arrays (배열)\n",
        "* 우린 수학에서 행렬을 배웠을 것입니다.\n",
        "* 여기서는 수학의 행렬과 다르게 배열(array)을 1차원 이상의 변수를 말한다 \n",
        "*  1차원 리스트를 다차원으로 빠르게 쓴다고 생각하면 됩니다.\n",
        "* 우리가 리스트를 쓸 때 바이너리 코드로 상당히 긴 것을 사용하는데 Numpy는 적게 써서 자원을 아껴 준다고 생각하면 됩니다. \n",
        "* 또한 메모리의 배열 적인 면에서도 더 빠르게 할 수 있는 요소를 가지고 있는데 이 것은 여기서 이야기 하지 않도록 합니다.\n",
        "* 일단 예를 보면서 이해해 봅니다.\n",
        "\n",
        "####import\n",
        "*우선 numpy를 import 합니다."
      ]
    },
    {
      "cell_type": "code",
      "metadata": {
        "id": "oqMQKjiiomHO",
        "colab_type": "code",
        "colab": {}
      },
      "source": [
        "import numpy as np"
      ],
      "execution_count": 0,
      "outputs": []
    },
    {
      "cell_type": "markdown",
      "metadata": {
        "id": "eBRziY0noztK",
        "colab_type": "text"
      },
      "source": [
        "#TASK 1– Creating 1D Array\n",
        "\n",
        "\n",
        "##학습 내용\n",
        "* NumPy를 배우는 것은 Array를 배우는 것과 거의 같다고 생각하면 됩니다.\n",
        "* 우선 import를 하고, 1차원 array를 만들어 봅니다. \n",
        "\n",
        "\n",
        "##문법\n",
        "\n",
        "        import numpy as np\n",
        "        var = np.array([item1, item2.....])\n",
        "\n",
        "\n",
        "\n",
        "## 연습\n",
        "\n",
        "        import numpy as np\n",
        "        var = np.array([item1, item2.....])\n",
        "        print (var)\n",
        "\n",
        "* 에디터에 넣고 출력해 봅니다.\n",
        "\n",
        "\n",
        "##주의\n",
        "* array는 수학의 행렬과 비슷하나 살짝 다른 점이 있다는 것을 염두에 두세요. 나중에 배웁니다.\n",
        "\n",
        "\n",
        "\n",
        "##코딩 부분"
      ]
    },
    {
      "cell_type": "code",
      "metadata": {
        "id": "_1iNNCcAo2CJ",
        "colab_type": "code",
        "outputId": "debef63c-646d-40ef-d93b-a64ef72054f1",
        "colab": {
          "base_uri": "https://localhost:8080/",
          "height": 35
        }
      },
      "source": [
        "import numpy as np\n",
        "var = np.array([1,2,3])\n",
        "print (var)"
      ],
      "execution_count": 0,
      "outputs": [
        {
          "output_type": "stream",
          "text": [
            "[1 2 3]\n"
          ],
          "name": "stdout"
        }
      ]
    },
    {
      "cell_type": "markdown",
      "metadata": {
        "id": "WnXTDYedpC2e",
        "colab_type": "text"
      },
      "source": [
        "#TASK 2– Creating 2D Array\n",
        "\n",
        "\n",
        "##학습 내용\n",
        "* *2차원 array를 연습해 보겠습니다.\n",
        "* 1차원이 \n",
        "\n",
        "        1\t2\t3\n",
        "\n",
        "이었다면\n",
        "\n",
        "2차원이란\n",
        "\n",
        "    \t1\t2\t3\n",
        "    \t4\t5\t6\n",
        "\n",
        "같은 모양을 말합니다\n",
        "\n",
        "* 위의 경우 2 X 3 행렬인 것입니다. \n",
        "\n",
        "##문법\n",
        "\n",
        "        import numpy as np\n",
        "        var = np.array([[item11, item12.....], [item21, item22....]])\n",
        "\n",
        "\n",
        "\n",
        "## 연습\n",
        "\n",
        "        import numpy as np\n",
        "        var = np.array([[item11, item12.....], [item21, item22....]])\n",
        "        print (var)\n",
        "\n",
        "* 에디터에 넣고 출력해 봅니다.\n",
        "\n",
        "\n",
        "##주의\n",
        "* [ [] ] 두 겹임을 기억하세요\n",
        "\n",
        "\n",
        "\n",
        "##코딩 부분"
      ]
    },
    {
      "cell_type": "code",
      "metadata": {
        "id": "MheTLQMMpFif",
        "colab_type": "code",
        "outputId": "33a9bd5d-5f05-441b-d1c0-3d0aba7a54a8",
        "colab": {
          "base_uri": "https://localhost:8080/",
          "height": 53
        }
      },
      "source": [
        "import numpy as np\n",
        "var = np.array([[1,2,3], [4,5,6]])\n",
        "print (var)"
      ],
      "execution_count": 0,
      "outputs": [
        {
          "output_type": "stream",
          "text": [
            "[[1 2 3]\n",
            " [4 5 6]]\n"
          ],
          "name": "stdout"
        }
      ]
    },
    {
      "cell_type": "markdown",
      "metadata": {
        "id": "GUbg5N27pPw5",
        "colab_type": "text"
      },
      "source": [
        "#TASK 3– Creating 3D+ Array\n",
        "\n",
        "\n",
        "##학습 내용\n",
        "* 3차원 array를 연습해 보겠습니다.\n",
        "* 이는 2차원을 겹으로 만드는 것으로 만듭니다.\n",
        "\n",
        "##문법\n",
        "\n",
        "        import numpy as np\n",
        "        var = np.array([[item111, item112.....], [item121, item122....]], [item211, item112.....], [item221, item122....]]])\n",
        "\n",
        "\n",
        "\n",
        "## 연습\n",
        "\n",
        "        import numpy as np\n",
        "        var = np.array([[item111, item112.....], [item121, item122....]], [item211, item112.....], [item221, item122....]]])\n",
        "        print (var)\n",
        "\n",
        "* 에디터에 넣고 출력해 봅니다.\n",
        "\n",
        "\n",
        "##주의\n",
        "* [ [[]] ] 세 겹임을 기억하세요\n",
        "\n",
        "\n",
        "\n",
        "##코딩 부분"
      ]
    },
    {
      "cell_type": "code",
      "metadata": {
        "id": "Acs7eCwxpRXl",
        "colab_type": "code",
        "outputId": "6d3719a7-f10f-475b-a954-1bc9fd947d40",
        "colab": {
          "base_uri": "https://localhost:8080/",
          "height": 107
        }
      },
      "source": [
        "import numpy as np\n",
        "var = np.array([[[1,2,3], [4,5,6]], [[1,2,3],[4,5,6]]])\n",
        "print (var)"
      ],
      "execution_count": 0,
      "outputs": [
        {
          "output_type": "stream",
          "text": [
            "[[[1 2 3]\n",
            "  [4 5 6]]\n",
            "\n",
            " [[1 2 3]\n",
            "  [4 5 6]]]\n"
          ],
          "name": "stdout"
        }
      ]
    },
    {
      "cell_type": "markdown",
      "metadata": {
        "id": "7-LM_PdTpeUP",
        "colab_type": "text"
      },
      "source": [
        "#TASK 4 - Checkig Datatype\n",
        "\n",
        "\n",
        "##학습 내용\n",
        "* dtype은 어떤 종류의 데이터인지 (integer인지 float인지 등)을 알려 줍니다.\n",
        "* 일반적으로 float이 더 많은 메모리를 잡아 먹고, integer도 가능하면 메모리를 덜 쓰도록 해야지 결과가 빠르게 나오기 때문에 이는 중요합니다.\n",
        "\n",
        "\n",
        "\n",
        "##문법\n",
        "\n",
        "\tvariable.dtype\n",
        "\t\n",
        "\n",
        "\n",
        "\n",
        "## 연습\n",
        "\n",
        "\timport numpy as np\n",
        "\tvar = np.array([int1, int2.....])\n",
        "\tprint (var.dtype)\n",
        "\t\n",
        " \n",
        "\timport numpy as np\n",
        "\tvar = np.array([float1, float2.....] ) \n",
        "\tprint (var.dtype)\n",
        "\n",
        "\n",
        "\n",
        "* 에디터에 넣고 출력해 봅니다.\n",
        "\n",
        "\n",
        "* 개별 int32인지 int16인지 등의 사이즈 지정도 가능\n",
        "\n",
        "\n",
        "##코딩 부분\n"
      ]
    },
    {
      "cell_type": "code",
      "metadata": {
        "id": "bMiFUZP5pnc7",
        "colab_type": "code",
        "outputId": "9c51d8be-c0ea-45e4-e118-64475f8590d6",
        "colab": {
          "base_uri": "https://localhost:8080/",
          "height": 53
        }
      },
      "source": [
        "import numpy as np\n",
        "var = np.array([1,2,3])\n",
        "print (var.dtype)\n",
        "\n",
        "\n",
        "import numpy as np\n",
        "var = np.array([1.0,2.0,3.0])\n",
        "print (var.dtype)"
      ],
      "execution_count": 0,
      "outputs": [
        {
          "output_type": "stream",
          "text": [
            "int64\n",
            "float64\n"
          ],
          "name": "stdout"
        }
      ]
    },
    {
      "cell_type": "markdown",
      "metadata": {
        "id": "Zr0gEVNvqT9f",
        "colab_type": "text"
      },
      "source": [
        "#TASK 5 Checkig Dimensions\n",
        "\n",
        "\n",
        "##학습 내용\n",
        "* 자신의 array가 몇 차원인지 확인해 봅니다.\n",
        "\n",
        "\n",
        "##문법\n",
        "\n",
        "        variable.ndim\n",
        "\n",
        "\n",
        "\n",
        "\n",
        "## 연습\n",
        "\n",
        "        import numpy as np\n",
        "        var = np.array([[item111, item112.....], [item121, item122....]], [item211, item112.....], [item221, item122....]]])\n",
        "    \tprint (var.ndim) \t# n-dimension 확인/ 주피터 노트북 등을 쓰면 굳이 프린트 하지 않아도 되나 여기서는 프린트해서 확인\n",
        "\n",
        "\n",
        "* 에디터에 넣고 출력해 봅니다.\n",
        "\n",
        "\n",
        "##주의\n",
        "* \n",
        "\n",
        "\n",
        "##코딩 부분"
      ]
    },
    {
      "cell_type": "code",
      "metadata": {
        "id": "LV34d8PLqS7K",
        "colab_type": "code",
        "outputId": "758c3a65-5574-425c-f322-26ee35d6506e",
        "colab": {
          "base_uri": "https://localhost:8080/",
          "height": 53
        }
      },
      "source": [
        "import numpy as np\n",
        "var = np.array([[[1,2,3], [4,5,6]], [[1,2,3],[4,5,6]]])\n",
        "print (var.ndim)\n",
        "\n",
        "\n",
        "var = np.array([[[1,2,3], [4,5,6], [7,8,9]]])\n",
        "print (var.ndim)"
      ],
      "execution_count": 0,
      "outputs": [
        {
          "output_type": "stream",
          "text": [
            "3\n",
            "3\n"
          ],
          "name": "stdout"
        }
      ]
    },
    {
      "cell_type": "markdown",
      "metadata": {
        "id": "dIiFmRG1qd62",
        "colab_type": "text"
      },
      "source": [
        "#TASK 6 - Checkig Shape\n",
        "\n",
        "##학습 내용\n",
        "* Shape은 자신의 행렬이 몇 X 몇 행렬인지를 보여 줍니다.\n",
        "\n",
        "\n",
        "##문법\n",
        "\n",
        "\t        variable.shape\n",
        "\n",
        "\n",
        "\n",
        "## 연습\n",
        "\n",
        "        import numpy as np\n",
        "        var = np.array([[item111, item112.....], [item121, item122....]], [item211, item112.....], [item221, item122....]]])\n",
        "        print (var.shape)\n",
        "\n",
        "* 에디터에 넣고 출력해 봅니다.\n",
        "\n",
        "\n",
        "##주의\n",
        "* \n",
        "\n",
        "\n",
        "##코딩 부분"
      ]
    },
    {
      "cell_type": "code",
      "metadata": {
        "id": "hyqVW-ayqlki",
        "colab_type": "code",
        "outputId": "874d03d8-75bc-40e0-c550-07f7beff0add",
        "colab": {
          "base_uri": "https://localhost:8080/",
          "height": 71
        }
      },
      "source": [
        "import numpy as np\n",
        "var = np.array([[[1,2,3], [4,5,6]], [[1,2,3],[4,5,6]]])\n",
        "print (var.shape)\n",
        "\n",
        "\n",
        "var = np.array([[[1,2,3], [4,5,6], [7,8,9]]])\n",
        "print (var.shape)\n",
        "\n",
        "var = np.array([[1,2,3], [4,5,6]])\n",
        "print (var.shape)"
      ],
      "execution_count": 0,
      "outputs": [
        {
          "output_type": "stream",
          "text": [
            "(2, 2, 3)\n",
            "(1, 3, 3)\n",
            "(2, 3)\n"
          ],
          "name": "stdout"
        }
      ]
    },
    {
      "cell_type": "markdown",
      "metadata": {
        "id": "ADyUov3Aqry5",
        "colab_type": "text"
      },
      "source": [
        "#TASK 7 - Checkig Size\n",
        "\n",
        "\n",
        "##학습 내용\n",
        "* Size 는 얼마나 많은 메모리를 NumPy가 차지 하는지를 알려 줍니다.\n",
        "* 주피터 노트북에서는 약간 다르게 할 수 있음 \n",
        "\n",
        "\n",
        "\n",
        "##문법\n",
        "\n",
        "\n",
        "        variable.size\n",
        "\n",
        "\n",
        "\n",
        "\n",
        "## 연습\n",
        "\n",
        "        import numpy as np\n",
        "        var = np.array([[item111, item112.....], [item121, item122....]], [item211, item112.....], [item221, item122....]]])\n",
        "        print (var.size)\n",
        "\n",
        "* 에디터에 넣고 출력해 봅니다.\n",
        "\n",
        "\n",
        "##주의\n",
        "* 주니퍼 노트북에서는 개별 item size도 확인 가능\n",
        "\n",
        "\n",
        "##코딩 부분"
      ]
    },
    {
      "cell_type": "code",
      "metadata": {
        "id": "m0RUtXDeqzHF",
        "colab_type": "code",
        "outputId": "be9c338f-d62f-42b2-9c0b-aeab463ec6ce",
        "colab": {
          "base_uri": "https://localhost:8080/",
          "height": 35
        }
      },
      "source": [
        "import numpy as np\n",
        "var = np.array([[[1,2,3], [4,5,6]], [[1,2,3],[4,5,6]]])\n",
        "print (var.size)"
      ],
      "execution_count": 0,
      "outputs": [
        {
          "output_type": "stream",
          "text": [
            "12\n"
          ],
          "name": "stdout"
        }
      ]
    },
    {
      "cell_type": "markdown",
      "metadata": {
        "id": "HpsZ3kpMq-Cu",
        "colab_type": "text"
      },
      "source": [
        "#Task 8 - Indexing - 1D Array\n",
        "\n",
        "\n",
        "##학습 내용\n",
        "* 1차원 Array에서 아이템을 인덱싱 합니다.\n",
        "* 리스트와 별 다름이 없습니다.\n",
        "* 아시다시피 위치는 0,1,2,3,4,.....순서로 갑니다 \n",
        "\n",
        "##문법\n",
        "\n",
        "\tvariable[위치]\n",
        "\t\n",
        "\n",
        "\n",
        "\n",
        "## 연습\n",
        "\n",
        "\timport numpy as np\n",
        "\tvar = np.array([1,2,3,4,5])\n",
        "\tprint (var[2])\n",
        "\t\n",
        "\n",
        "##주의\n",
        "* var[2]이므로 3번째 아이템이 출력이 되어야 합니다.\n",
        "\n",
        "\n",
        "\n",
        "##코딩 부분"
      ]
    },
    {
      "cell_type": "code",
      "metadata": {
        "id": "9qID507hq_Lv",
        "colab_type": "code",
        "outputId": "d90db00b-d280-4fb7-e652-feacb4e883db",
        "colab": {
          "base_uri": "https://localhost:8080/",
          "height": 35
        }
      },
      "source": [
        "import numpy as np\n",
        "var = np.array([1,2,3,4,5])\n",
        "print (var[2])"
      ],
      "execution_count": 0,
      "outputs": [
        {
          "output_type": "stream",
          "text": [
            "3\n"
          ],
          "name": "stdout"
        }
      ]
    },
    {
      "cell_type": "markdown",
      "metadata": {
        "id": "IT30gg5MrH80",
        "colab_type": "text"
      },
      "source": [
        "#Task 9 - Indexing - 2D Array\n",
        "\n",
        "\n",
        "##학습 내용\n",
        "* 2차원 Array에서 아이템을 인덱싱 합니다.\n",
        "* 행과 열의 위치를 인덱싱합니다. 예를 들어 2행의 3열이면 [1,2]로 인덱싱합니다.\n",
        "\n",
        "##문법\n",
        "\n",
        "\tvariable[행위치, 열위치]\n",
        "\t\n",
        "\n",
        "## 연습\n",
        "\n",
        "\timport numpy as np\n",
        "\tvar = np.array([[1,2,3,4,5], [6,7,8,9,10]])\n",
        "\tprint (var[1,2])\n",
        "\t\n",
        "\n",
        "##주의\n",
        "* var[1,2]이므로 2행 3번째 아이템 8이 출력이 되어야 합니다.\n",
        "\n",
        "\n",
        "\n",
        "##코딩 부분"
      ]
    },
    {
      "cell_type": "code",
      "metadata": {
        "id": "oXRk8QV8rJJk",
        "colab_type": "code",
        "outputId": "9b9ea178-6a6e-4a3b-d439-338d5ba1ac61",
        "colab": {
          "base_uri": "https://localhost:8080/",
          "height": 35
        }
      },
      "source": [
        "import numpy as np\n",
        "var = np.array([[1,2,3,4,5], [6,7,8,9,10]])\n",
        "print (var[1,2])"
      ],
      "execution_count": 0,
      "outputs": [
        {
          "output_type": "stream",
          "text": [
            "8\n"
          ],
          "name": "stdout"
        }
      ]
    },
    {
      "cell_type": "markdown",
      "metadata": {
        "id": "RiOchkWRrVPM",
        "colab_type": "text"
      },
      "source": [
        "#Task 10 - Indexing - 3D Array\n",
        "\n",
        "\n",
        "##학습 내용\n",
        "* 3차원 Array에서 아이템을 인덱싱 합니다.\n",
        "* 행과 열의 위치를 인덱싱합니다. 예를 들어 2번째 2행의 3열이면 [0,1,2]로 인덱싱합니다.\n",
        "\n",
        "##문법\n",
        "\n",
        "\tvariable[행위치, 열위치]\n",
        "\t\n",
        "\n",
        "## 연습\n",
        "\n",
        "\timport numpy as np\n",
        "\tvar = np.array([[[1,2,3,4,5], [6,7,8,9,10], [11,12,13,14,15]]])\n",
        "\tprint (var[0,2,3])\n",
        "\t\n",
        "\n",
        "##주의\n",
        "* var[0,2,3]이므로 3행 4번째 아이템 14가 출력이 되어야 합니다.\n",
        "* 주피터 노트북에서는 약간 다르게 할 수 있음 (slicing)\n",
        "\n",
        "\n",
        "##코딩 부분\n"
      ]
    },
    {
      "cell_type": "code",
      "metadata": {
        "id": "-xM7mnJPrWid",
        "colab_type": "code",
        "outputId": "1ef92b00-b9e0-4d0f-fe7d-ed4c3237accc",
        "colab": {
          "base_uri": "https://localhost:8080/",
          "height": 35
        }
      },
      "source": [
        "import numpy as np\n",
        "\n",
        "var = np.array([[[1,2,3,4,5], [6,7,8,9,10], [11,12,13,14,15]]])\n",
        "print (var[0,2,3])"
      ],
      "execution_count": 0,
      "outputs": [
        {
          "output_type": "stream",
          "text": [
            "14\n"
          ],
          "name": "stdout"
        }
      ]
    },
    {
      "cell_type": "markdown",
      "metadata": {
        "id": "xykv3sZkrfHf",
        "colab_type": "text"
      },
      "source": [
        "#### 1X3\n",
        "\n",
        "    POSITION        0   1   2   3   4\n",
        "    ITEM            1   2   3   4   5\n",
        "\n",
        "#### 2X3\n",
        "\n",
        "    POSITION        0,0 0,1 0,2 0,3 0,4\n",
        "    ITEM            1   2   3   4   5\n",
        "    POSITION        1,0 1,1 1,2 1,3 1,4\n",
        "    ITEM            6   7   8   9   10\n",
        "    \n",
        "#### 3X3\n",
        "\n",
        "    POSITION        0,0,0   0,0,1  0,0,2   0,0,3    0,0,4\n",
        "    ITEM            1       2       3       4       5\n",
        "    POSITION        0,1,0   0,1,1  0,1,2   0,1,3    0,1,4\n",
        "    ITEM            6       7       8       9       10\n",
        "    POSITION        0,2,0   0,2,1  0,2,2   0,2,3    0,2,4\n",
        "    ITEM            11      12      13      14      15"
      ]
    },
    {
      "cell_type": "markdown",
      "metadata": {
        "id": "wlLpYar5r-k2",
        "colab_type": "text"
      },
      "source": [
        "#Task 11 - Replacing Items\n",
        "\n",
        "\n",
        "##학습 내용\n",
        "* Array에서 특정 아이템을 변경합니다.\n",
        "\n",
        "\n",
        "##문법\n",
        "\n",
        "\tvariable[본래위치] = 바꿀내용\n",
        "\t\n",
        "\n",
        "## 연습\n",
        "\n",
        "\tvar = np.array([[1,2,3,4,5], [6,7,8,9,10]])\n",
        "\tvar[1,1] = 100\n",
        "\n",
        "##주의\n",
        "* \n",
        "\n",
        "\n",
        "\n",
        "##코딩 부분"
      ]
    },
    {
      "cell_type": "code",
      "metadata": {
        "id": "4hD5TnRlsAfS",
        "colab_type": "code",
        "outputId": "c8d1005c-4c6a-4f57-e804-519eb8f99bb5",
        "colab": {
          "base_uri": "https://localhost:8080/",
          "height": 53
        }
      },
      "source": [
        "import numpy as np\n",
        "var = np.array([[1,2,3,4,5], [6,7,8,9,10]])\n",
        "var[1,1] = 100\n",
        "print (var)"
      ],
      "execution_count": 0,
      "outputs": [
        {
          "output_type": "stream",
          "text": [
            "[[  1   2   3   4   5]\n",
            " [  6 100   8   9  10]]\n"
          ],
          "name": "stdout"
        }
      ]
    },
    {
      "cell_type": "markdown",
      "metadata": {
        "id": "j8RQ7H6ssKFM",
        "colab_type": "text"
      },
      "source": [
        "#Task 12 - Creating Arrays with zeroes, ones and others\n",
        "\n",
        "\n",
        "##학습 내용\n",
        "* 모두 0으로된 1로된 또는 다른 숫자로 된 Array를 만들어 본다.\n",
        "\n",
        "\n",
        "##문법\n",
        "\n",
        "\tnp.zeros(shape)\n",
        "\tnp.ones(shape)\n",
        "\tnp.full( (shape), 통일된 아이템)\n",
        "\n",
        "## 연습\n",
        "\n",
        "\t# 0 3개로 된 1차원\n",
        "\t np.zeros(3)\n",
        "\t# 1 2X3개로 된 2차원\n",
        "\t np.oness([2,3])\n",
        "\t# 5 3X3 개로 된 3차원\n",
        "\t np.full([3,3], 5)\n",
        "\n",
        "##주의\n",
        "* \n",
        "\n",
        "\n",
        "\n",
        "##코딩 부분"
      ]
    },
    {
      "cell_type": "code",
      "metadata": {
        "id": "3MbB3zypsLjz",
        "colab_type": "code",
        "outputId": "1f6e878e-c12b-4a6e-d5d5-d0433788c964",
        "colab": {
          "base_uri": "https://localhost:8080/",
          "height": 341
        }
      },
      "source": [
        "import numpy as np\n",
        "print (np.zeros(3))\n",
        "print (np.zeros([2,3]))\n",
        "print (np.zeros([3,3]))\n",
        "\n",
        "print (np.ones(3))\n",
        "print (np.ones([2,3]))\n",
        "print (np.ones([3,3]))\n",
        "\n",
        "print (np.full(3, 5))\n",
        "print (np.full([2,3], 5))\n",
        "print (np.full([3,3], 5))\n"
      ],
      "execution_count": 0,
      "outputs": [
        {
          "output_type": "stream",
          "text": [
            "[0. 0. 0.]\n",
            "[[0. 0. 0.]\n",
            " [0. 0. 0.]]\n",
            "[[0. 0. 0.]\n",
            " [0. 0. 0.]\n",
            " [0. 0. 0.]]\n",
            "[1. 1. 1.]\n",
            "[[1. 1. 1.]\n",
            " [1. 1. 1.]]\n",
            "[[1. 1. 1.]\n",
            " [1. 1. 1.]\n",
            " [1. 1. 1.]]\n",
            "[5 5 5]\n",
            "[[5 5 5]\n",
            " [5 5 5]]\n",
            "[[5 5 5]\n",
            " [5 5 5]\n",
            " [5 5 5]]\n"
          ],
          "name": "stdout"
        }
      ]
    },
    {
      "cell_type": "markdown",
      "metadata": {
        "id": "4QOsYaDvsahP",
        "colab_type": "text"
      },
      "source": [
        "#Task 13 - Creating Arrays with Random Numbers\n",
        "\n",
        "\n",
        "##학습 내용\n",
        "* 랜덤 인테저나 플롯으로 된 array를 생성해 본다.\n",
        "\n",
        "\n",
        "##문법\n",
        "\n",
        "\tnp.random.rand(shape)\t        #float\n",
        "\tnp.random.randint(shape)\t     #integer\n",
        "\n",
        "## 연습\n",
        "\n",
        "\t# 3X3 random float\n",
        "\t np.random.rand(3,3)\n",
        "\t# 3X3 random integer\n",
        "\t np.random.randint(최소숫자, 최대숫자-1, size =(3,3))\n",
        "\n",
        "##주의\n",
        "* 이 부분은 아래 에디터로는 되지 않아서 주피터 노트북에서 다음과 같이 한다\n",
        "\n",
        "##코딩 부분"
      ]
    },
    {
      "cell_type": "code",
      "metadata": {
        "id": "AUDMeBYVsbz5",
        "colab_type": "code",
        "outputId": "49628e0a-409c-4517-d94c-a0d907d06740",
        "colab": {
          "base_uri": "https://localhost:8080/",
          "height": 71
        }
      },
      "source": [
        "np.random.rand(3,3)"
      ],
      "execution_count": 0,
      "outputs": [
        {
          "output_type": "execute_result",
          "data": {
            "text/plain": [
              "array([[0.53585728, 0.21958508, 0.47751226],\n",
              "       [0.64869176, 0.68105183, 0.89906729],\n",
              "       [0.23894475, 0.74705175, 0.60315731]])"
            ]
          },
          "metadata": {
            "tags": []
          },
          "execution_count": 18
        }
      ]
    },
    {
      "cell_type": "markdown",
      "metadata": {
        "id": "kR4vNUBZsjLY",
        "colab_type": "text"
      },
      "source": [
        "* Random Integer Arrays"
      ]
    },
    {
      "cell_type": "code",
      "metadata": {
        "id": "YPTvOHKWsm2w",
        "colab_type": "code",
        "outputId": "aa497ff6-e3de-459d-98ac-3a7afe924b2d",
        "colab": {
          "base_uri": "https://localhost:8080/",
          "height": 136
        }
      },
      "source": [
        "np.random.randint(1,9 size=(3,3))"
      ],
      "execution_count": 0,
      "outputs": [
        {
          "output_type": "error",
          "ename": "SyntaxError",
          "evalue": "ignored",
          "traceback": [
            "\u001b[0;36m  File \u001b[0;32m\"<ipython-input-19-d152322d2be7>\"\u001b[0;36m, line \u001b[0;32m1\u001b[0m\n\u001b[0;31m    np.random.randint(1,9 size=(3,3))  # 1부터 8사이의 3X3 행렬\u001b[0m\n\u001b[0m                             ^\u001b[0m\n\u001b[0;31mSyntaxError\u001b[0m\u001b[0;31m:\u001b[0m invalid syntax\n"
          ]
        }
      ]
    },
    {
      "cell_type": "markdown",
      "metadata": {
        "id": "pfeF1u6_s0Md",
        "colab_type": "text"
      },
      "source": [
        "#Task 14 - Methods for Creating Arrays\n",
        "\n",
        "\n",
        "##학습 내용\n",
        "* Identity Matrix 를 배웁니다.\n",
        "* 반복하는 Matrix를 만들어 봅니다.\n",
        "\n",
        "##문법\n",
        "\n",
        "\tnp.identity(행렬사이즈) # 예를 들어 3이다 하면 3X3 행렬에 대각선으로 1,1,1 이 있는 매트릭스를 만듭니다.\n",
        "\n",
        "## 연습\n",
        "\n",
        "\tnp.identity(3)\n",
        "\tnp.repeat(var, 차원)\n",
        "\t\n",
        "##주의\n",
        "* 아이덴티티 매트릭스는 행과 열의 숫자가 항상 같습니다. 2X2, 3X3, 4X4\n",
        "* repeat은 주피터노트북에서 연습해 보겠습니다.\n",
        "\n",
        "##코딩 부분"
      ]
    },
    {
      "cell_type": "code",
      "metadata": {
        "id": "S1bhSpFDs15l",
        "colab_type": "code",
        "outputId": "66616b7f-44ac-4aaa-f5f1-2e0b520f827f",
        "colab": {
          "base_uri": "https://localhost:8080/",
          "height": 71
        }
      },
      "source": [
        "import numpy as np\n",
        "print (np.identity(3))"
      ],
      "execution_count": 0,
      "outputs": [
        {
          "output_type": "stream",
          "text": [
            "[[1. 0. 0.]\n",
            " [0. 1. 0.]\n",
            " [0. 0. 1.]]\n"
          ],
          "name": "stdout"
        }
      ]
    },
    {
      "cell_type": "code",
      "metadata": {
        "id": "yoF87h3Xs_X0",
        "colab_type": "code",
        "outputId": "6d7174e6-10d1-4b2c-94e0-9344670d2966",
        "colab": {
          "base_uri": "https://localhost:8080/",
          "height": 71
        }
      },
      "source": [
        "var = np.array([[1,2,3]])\n",
        "rep = np.repeat(var,3, axis=0)\n",
        "print (rep)"
      ],
      "execution_count": 0,
      "outputs": [
        {
          "output_type": "stream",
          "text": [
            "[[1 2 3]\n",
            " [1 2 3]\n",
            " [1 2 3]]\n"
          ],
          "name": "stdout"
        }
      ]
    },
    {
      "cell_type": "markdown",
      "metadata": {
        "id": "u8cGTrmptOz3",
        "colab_type": "text"
      },
      "source": [
        "#Task 14 - Methods for Creating Arrays\n",
        "\n",
        "\n",
        "##학습 내용\n",
        "* np.copy() 메소드를 배웁니다.\n",
        "* np.eye() 메소드를 배웁니다  (identity matrix와 같음) \n",
        "* np.empty() 메소드를 배웁니다.\n",
        "* np.like() 메소드를 배웁니다.\n",
        "* np.linspace() 메소들르 배웁니다.\n",
        "\n",
        "\n",
        "##문법\n",
        "\n",
        "\tvar.copy()\n",
        "\tnp.eye(행렬수)\n",
        "\tnp.empty(행,렬)\n",
        "\t\n",
        "\tnp.zeros_like\t# 기존 array의 차원을 본 뜬 0 행렬을 만듭니다.\n",
        "\tnp.ones_like\t# 기존 array의 차원을 본 뜬 1 행렬을 만듭니다.\n",
        "\t\n",
        "\tnp.linspace(시작, 끝, 나누기갯수)\t#시작부터 끝까지 사이를 나누기 갯수만큼 균등하게 나누어 줍니다.\t\t\n",
        "\n",
        "\n",
        "## 연습\n",
        "\n",
        "\ta = np.array([1,2,3])\n",
        "\tb = a.copy()\n",
        "\tprint (b)\n",
        "\n",
        "##주의\n",
        "* 일부는 주피터노트북에서 연습해 보겠습니다.\n",
        "\n",
        "##코딩 부분"
      ]
    },
    {
      "cell_type": "code",
      "metadata": {
        "id": "DSqXT6h8tT7F",
        "colab_type": "code",
        "outputId": "6bd43c86-744d-4090-a8ce-5bed5fc9bae2",
        "colab": {
          "base_uri": "https://localhost:8080/",
          "height": 280
        }
      },
      "source": [
        "import numpy as np\n",
        "\n",
        "\n",
        "a = np.array([[1,2,3],[1,2,30]])\n",
        "b = a.copy()\n",
        "print (b)\n",
        "\n",
        "print (np.empty(3,3))\n",
        "\n",
        "print (np.linspace(0,10,4))\n"
      ],
      "execution_count": 0,
      "outputs": [
        {
          "output_type": "stream",
          "text": [
            "[[ 1  2  3]\n",
            " [ 1  2 30]]\n"
          ],
          "name": "stdout"
        },
        {
          "output_type": "error",
          "ename": "TypeError",
          "evalue": "ignored",
          "traceback": [
            "\u001b[0;31m---------------------------------------------------------------------------\u001b[0m",
            "\u001b[0;31mTypeError\u001b[0m                                 Traceback (most recent call last)",
            "\u001b[0;32m<ipython-input-23-888c5c767ee2>\u001b[0m in \u001b[0;36m<module>\u001b[0;34m()\u001b[0m\n\u001b[1;32m      6\u001b[0m \u001b[0mprint\u001b[0m \u001b[0;34m(\u001b[0m\u001b[0mb\u001b[0m\u001b[0;34m)\u001b[0m\u001b[0;34m\u001b[0m\u001b[0;34m\u001b[0m\u001b[0m\n\u001b[1;32m      7\u001b[0m \u001b[0;34m\u001b[0m\u001b[0m\n\u001b[0;32m----> 8\u001b[0;31m \u001b[0mprint\u001b[0m \u001b[0;34m(\u001b[0m\u001b[0mnp\u001b[0m\u001b[0;34m.\u001b[0m\u001b[0mempty\u001b[0m\u001b[0;34m(\u001b[0m\u001b[0;36m3\u001b[0m\u001b[0;34m,\u001b[0m\u001b[0;36m3\u001b[0m\u001b[0;34m)\u001b[0m\u001b[0;34m)\u001b[0m\u001b[0;34m\u001b[0m\u001b[0;34m\u001b[0m\u001b[0m\n\u001b[0m\u001b[1;32m      9\u001b[0m \u001b[0;34m\u001b[0m\u001b[0m\n\u001b[1;32m     10\u001b[0m \u001b[0mprint\u001b[0m \u001b[0;34m(\u001b[0m\u001b[0mnp\u001b[0m\u001b[0;34m.\u001b[0m\u001b[0mlinspace\u001b[0m\u001b[0;34m(\u001b[0m\u001b[0;36m0\u001b[0m\u001b[0;34m,\u001b[0m\u001b[0;36m10\u001b[0m\u001b[0;34m,\u001b[0m\u001b[0;36m4\u001b[0m\u001b[0;34m)\u001b[0m\u001b[0;34m)\u001b[0m\u001b[0;34m\u001b[0m\u001b[0;34m\u001b[0m\u001b[0m\n",
            "\u001b[0;31mTypeError\u001b[0m: data type not understood"
          ]
        }
      ]
    },
    {
      "cell_type": "markdown",
      "metadata": {
        "id": "mY0Qz3vttjHt",
        "colab_type": "text"
      },
      "source": [
        "####내용\n",
        "\n",
        "* np.eye() 메소드를 배웁니다  (identity matrix와 같음) \n",
        "* np.zeros_like\t# 기존 array의 차원을 본 뜬 0 행렬을 만듭니다.\n",
        "* np.ones_like\t# 기존 array의 차원을 본 뜬 1 행렬을 만듭니다.\n",
        "* np.arrange(시작점, 끝점, 단계)\t# 예를 들어 0, 5, 1이라면 0부터 4까지 1씩 올라가면서 array 생성"
      ]
    },
    {
      "cell_type": "code",
      "metadata": {
        "id": "2qDfm1tWtm1W",
        "colab_type": "code",
        "outputId": "1bd45597-ca8b-43fa-939c-effd1333467b",
        "colab": {
          "base_uri": "https://localhost:8080/",
          "height": 370
        }
      },
      "source": [
        "a = np.eye(3)\n",
        "print (a)\n",
        "        \n",
        "print (np.zeros_like(a))\n",
        "print (np.ones_like(a))\n",
        "print (np.arrange(0, 10, 2))"
      ],
      "execution_count": 0,
      "outputs": [
        {
          "output_type": "stream",
          "text": [
            "[[1. 0. 0.]\n",
            " [0. 1. 0.]\n",
            " [0. 0. 1.]]\n",
            "[[0. 0. 0.]\n",
            " [0. 0. 0.]\n",
            " [0. 0. 0.]]\n",
            "[[1. 1. 1.]\n",
            " [1. 1. 1.]\n",
            " [1. 1. 1.]]\n"
          ],
          "name": "stdout"
        },
        {
          "output_type": "error",
          "ename": "AttributeError",
          "evalue": "ignored",
          "traceback": [
            "\u001b[0;31m---------------------------------------------------------------------------\u001b[0m",
            "\u001b[0;31mAttributeError\u001b[0m                            Traceback (most recent call last)",
            "\u001b[0;32m<ipython-input-25-1095e5cdc678>\u001b[0m in \u001b[0;36m<module>\u001b[0;34m()\u001b[0m\n\u001b[1;32m      4\u001b[0m \u001b[0mprint\u001b[0m \u001b[0;34m(\u001b[0m\u001b[0mnp\u001b[0m\u001b[0;34m.\u001b[0m\u001b[0mzeros_like\u001b[0m\u001b[0;34m(\u001b[0m\u001b[0ma\u001b[0m\u001b[0;34m)\u001b[0m\u001b[0;34m)\u001b[0m\u001b[0;34m\u001b[0m\u001b[0;34m\u001b[0m\u001b[0m\n\u001b[1;32m      5\u001b[0m \u001b[0mprint\u001b[0m \u001b[0;34m(\u001b[0m\u001b[0mnp\u001b[0m\u001b[0;34m.\u001b[0m\u001b[0mones_like\u001b[0m\u001b[0;34m(\u001b[0m\u001b[0ma\u001b[0m\u001b[0;34m)\u001b[0m\u001b[0;34m)\u001b[0m\u001b[0;34m\u001b[0m\u001b[0;34m\u001b[0m\u001b[0m\n\u001b[0;32m----> 6\u001b[0;31m \u001b[0mprint\u001b[0m \u001b[0;34m(\u001b[0m\u001b[0mnp\u001b[0m\u001b[0;34m.\u001b[0m\u001b[0marrange\u001b[0m\u001b[0;34m(\u001b[0m\u001b[0;36m0\u001b[0m\u001b[0;34m,\u001b[0m \u001b[0;36m10\u001b[0m\u001b[0;34m,\u001b[0m \u001b[0;36m2\u001b[0m\u001b[0;34m)\u001b[0m\u001b[0;34m)\u001b[0m\u001b[0;34m\u001b[0m\u001b[0;34m\u001b[0m\u001b[0m\n\u001b[0m",
            "\u001b[0;31mAttributeError\u001b[0m: module 'numpy' has no attribute 'arrange'"
          ]
        }
      ]
    }
  ]
}