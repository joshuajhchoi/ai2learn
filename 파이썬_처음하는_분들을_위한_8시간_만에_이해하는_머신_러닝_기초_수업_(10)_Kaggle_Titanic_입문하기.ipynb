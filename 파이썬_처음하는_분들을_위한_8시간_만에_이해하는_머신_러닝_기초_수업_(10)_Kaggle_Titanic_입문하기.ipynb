{
  "nbformat": 4,
  "nbformat_minor": 0,
  "metadata": {
    "colab": {
      "name": "파이썬 처음하는 분들을 위한 8시간 만에 이해하는 머신 러닝 기초 수업 (10) Kaggle Titanic 입문하기 ",
      "provenance": [],
      "include_colab_link": true
    },
    "kernelspec": {
      "name": "python3",
      "display_name": "Python 3"
    }
  },
  "cells": [
    {
      "cell_type": "markdown",
      "metadata": {
        "id": "view-in-github",
        "colab_type": "text"
      },
      "source": [
        "<a href=\"https://colab.research.google.com/github/joshuajhchoi/ai2learn/blob/master/%ED%8C%8C%EC%9D%B4%EC%8D%AC_%EC%B2%98%EC%9D%8C%ED%95%98%EB%8A%94_%EB%B6%84%EB%93%A4%EC%9D%84_%EC%9C%84%ED%95%9C_8%EC%8B%9C%EA%B0%84_%EB%A7%8C%EC%97%90_%EC%9D%B4%ED%95%B4%ED%95%98%EB%8A%94_%EB%A8%B8%EC%8B%A0_%EB%9F%AC%EB%8B%9D_%EA%B8%B0%EC%B4%88_%EC%88%98%EC%97%85_(10)_Kaggle_Titanic_%EC%9E%85%EB%AC%B8%ED%95%98%EA%B8%B0.ipynb\" target=\"_parent\"><img src=\"https://colab.research.google.com/assets/colab-badge.svg\" alt=\"Open In Colab\"/></a>"
      ]
    },
    {
      "cell_type": "markdown",
      "metadata": {
        "id": "ZC6YFrK_wY6V",
        "colab_type": "text"
      },
      "source": [
        "목차\n",
        "\n",
        "1. 파이썬 기초 문법 이해하기 (2시간 15분)\n",
        "2. 주피터노트북 및 Colab 이해 (15분)\n",
        "3. NumPy 기본 (30분)\n",
        "4. Matplotlib 기본 이해 (30분)\n",
        "5. Seaborn 기본 이해 (30분)\n",
        "6. 통계 필요사항 기본 이해 (30분)\n",
        "7. Pandas 기본 이해 (30분)\n",
        "8. ScikitLearn 기본 이해 (30분)\n",
        "9. 머신러닝 알고리즘 개요 이해 (30분)\n",
        "**10. Kaggle Titanic 입문하기 (2시간)**"
      ]
    },
    {
      "cell_type": "markdown",
      "metadata": {
        "id": "m73_12Qqw79b",
        "colab_type": "text"
      },
      "source": [
        "###10. Kaggle Titanic 입문하기 강의 버전\n",
        "* 캐글을 처음 하시는 분들을 위한 입문으로 아주 기본적인 이해부터 시작합니다.\n"
      ]
    },
    {
      "cell_type": "markdown",
      "metadata": {
        "id": "HAM2TG2yxS1H",
        "colab_type": "text"
      },
      "source": [
        "위키 백과에는 다음과 같이 설명되어 있습니다.\n",
        "\n",
        "####\"캐글은 2010년 설립된 예측모델 및 분석 대회 플랫폼이다. 기업 및 단체에서 데이터와 해결과제를 등록하면, 데이터 과학자들이 이를 해결하는 모델을 개발하고 경쟁한다. 2017년 3월 구글에 인수되었다.\"\n",
        "\n",
        "이 수업의 목표는 상위 랭크가 되는 것이 목표가 아니라 캐글과 친해지는 첫 걸음이 목표입니다. 사실 연습할 수 있는 이런 데이터들을 초보자들이 어디서 구해 오겠습니까?\n",
        "\n",
        "이 글을 쓰는 현재 이미 300개 이상의 지나간 캐글 프로젝트가 있었고, 현재도 10여개가 진행되고 있습니다.\n",
        "\n",
        "다양한 양질의 데이터를 연습해 보기가 쉽지가 않으니 최대한 많이 참가해 보실 것을 권유합니다. 일단 고루 고루 해보시고 그 중 마음에 드는 것으로 더 파고 들어서 랭킹을 올리시는 것도 답입니다.\n",
        "\n",
        "캐글을 하면 처음하는 타이타닉 모델부터 시작합니다.\n",
        "\n",
        "여기서는 아주 잘 하는 것보다 한 번 해보는 것에 초점을 맞추겠습니다.\n"
      ]
    },
    {
      "cell_type": "markdown",
      "metadata": {
        "id": "Ox6dUArc0-lt",
        "colab_type": "text"
      },
      "source": [
        "* Kaggle의 타이타닉 챌린지는 나이, 성별 또는 승객 클래스와 같은 변수를 기반으로 주어진 승객의 생존 또는 사망을 예측하는 경쟁입니다."
      ]
    },
    {
      "cell_type": "markdown",
      "metadata": {
        "id": "m1hkcNB81cyc",
        "colab_type": "text"
      },
      "source": [
        "* 이 튜토리얼dms \"연습\"이므로 단계적으로 합니다.\n",
        "* 우선 (EDA)부터 시작하겠습니다. \n",
        "\n",
        "* jupyter 노트북을 통해 Python을 사용하게됩니다.\n",
        "\n",
        "* 주요 라이브러리는 다음과 같습니다.\n",
        "\n",
        "* 데이터 조작 및 수집을위한 pandas\n",
        "* 데이터 시각화를위한 matplotlib 및 seaborn\n",
        "* 다차원 배열 컴퓨팅을위한 NumPy\n",
        "* 머신 러닝 및 예측 모델링을위한 sklearn"
      ]
    },
    {
      "cell_type": "markdown",
      "metadata": {
        "id": "p513T7Yl2JSc",
        "colab_type": "text"
      },
      "source": [
        "저도 코랩에서 하는 것은 처음이라 하면서 수정해 나가겠습니다.\n",
        "\n"
      ]
    },
    {
      "cell_type": "markdown",
      "metadata": {
        "id": "iXNHqdVi2aNN",
        "colab_type": "text"
      },
      "source": [
        "## Exploratory Data Analysis\n"
      ]
    },
    {
      "cell_type": "markdown",
      "metadata": {
        "id": "p7XVTSwb2nlr",
        "colab_type": "text"
      },
      "source": [
        "탐색적 데이터 분석이라 해석해야 하나요.\n",
        "\n",
        "우리에게 주어진 것은 기본 데이터로 이 것을 우리가 전처리 하여 좀 쓸모 있는 형태로 바꾸는 것이 필요합니다. 이를 EDA라 부르구요, 이 과정은 사람마다 다른데 가장 기본적인 방식 + 나 나름의 방식을 합해서 결과를 만들어 보려고 합니다.\n",
        "\n",
        "Kaggle에서는 남들이 쓴 방식을 사용하는 것이 가능하니 이 또한 큰 장점이라고 할 수 있습니다. 다른 사람에게서 배울 기회란 것이죠.\n",
        "\n"
      ]
    },
    {
      "cell_type": "markdown",
      "metadata": {
        "id": "xZ_yIpEOAOBp",
        "colab_type": "text"
      },
      "source": [
        "###1단계 - 자료 다운로드하기\n",
        "\n",
        "https://www.kaggle.com/c/3136/download-all\n",
        "\n",
        "으로 가서 파일을 다운로드 한다.\n",
        "\n"
      ]
    },
    {
      "cell_type": "markdown",
      "metadata": {
        "id": "RbHCKMe4g8-y",
        "colab_type": "text"
      },
      "source": [
        "####파일보기\n",
        "\n",
        "train 파일을 보겠습니다.\n"
      ]
    },
    {
      "cell_type": "markdown",
      "metadata": {
        "id": "m9qW7oS7nECc",
        "colab_type": "text"
      },
      "source": [
        ""
      ]
    },
    {
      "cell_type": "markdown",
      "metadata": {
        "id": "2-qEpUFEgvIO",
        "colab_type": "text"
      },
      "source": [
        "#### 분석하기 위한 내용\n",
        "\n",
        "저는 가장 중요한 요소 10가지를 구분해보았습니다.\n",
        "1. 당시의 사회적 분위기로 여성과 아이를 우선하는 젠틀맨쉽에 따라 여성이면 우선적으로 구명 보트에 탈 수 있었을 것입니다.\n",
        "2. 1번의 조건에 따라 역시 아이들의 경우에 구명보트에 탈 수 있는 확률이 높았을 거이라 생각됩니다.\n",
        "3. P Classs는 좌석 등급이므로 1등석이 2등석보다 2등석은 3등석보다 구명보트를 탈 수 있는 확률이 높았을 것이라 생각됩니다.\n",
        "4. 3번의 조건에 따라 가격이 높을 수록 구명 보트에 탈 확률은 높았을 것이다.\n",
        "\n",
        "위 4개가 가장 결정적인 것이고, 아래 4개는 상대적으로 연관성이 좀 적은 것입니다.\n",
        "5. 우선은 캐빈의 위치인데 A가 제일 높고 리스트에 없는 것이 제일 낮았을 것이다.\n",
        "6. 배우자가 있고 없고는 영향을 준다.\n",
        "7. 아이가 하나 있는 사람은 없는 사람보다 나으나 너무 많은 사람은 오히려 생존에 불리했을 수도 있다.\n",
        "8. 숫자는 적으나 이름에 master가 붙은 사람은 아이들로 생존확률이 높고, Dr나 Sir도 생존확률이 높다고 보인다. 반면에 목사님들인 Rev이나 군인을 나타내는 Captain, capt, major 등의 계급이 있는 사람은 스스로 희생했을 가능성이 크다.\n",
        "\n",
        "그리고 가장 영향이 적은 것은\n",
        "9.  배를 탄 장소는 아주 약간의 영향을 미친다\n",
        "10. 티켓 번호는 아주 적은 영향만을 미친다"
      ]
    }
  ]
}