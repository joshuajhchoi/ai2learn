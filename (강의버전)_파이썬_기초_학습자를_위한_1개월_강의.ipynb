{
  "nbformat": 4,
  "nbformat_minor": 0,
  "metadata": {
    "colab": {
      "name": "(강의버전) 파이썬 기초 학습자를 위한 1개월 강의",
      "provenance": [],
      "collapsed_sections": [],
      "include_colab_link": true
    },
    "kernelspec": {
      "name": "python3",
      "display_name": "Python 3"
    }
  },
  "cells": [
    {
      "cell_type": "markdown",
      "metadata": {
        "id": "view-in-github",
        "colab_type": "text"
      },
      "source": [
        "<a href=\"https://colab.research.google.com/github/joshuajhchoi/ai2learn/blob/master/(%EA%B0%95%EC%9D%98%EB%B2%84%EC%A0%84)_%ED%8C%8C%EC%9D%B4%EC%8D%AC_%EA%B8%B0%EC%B4%88_%ED%95%99%EC%8A%B5%EC%9E%90%EB%A5%BC_%EC%9C%84%ED%95%9C_1%EA%B0%9C%EC%9B%94_%EA%B0%95%EC%9D%98.ipynb\" target=\"_parent\"><img src=\"https://colab.research.google.com/assets/colab-badge.svg\" alt=\"Open In Colab\"/></a>"
      ]
    },
    {
      "cell_type": "markdown",
      "metadata": {
        "id": "SSZdDaNp7bDp",
        "colab_type": "text"
      },
      "source": [
        "# 파이썬 기초 문법 클래스\n",
        "\n",
        "####이 파이썬 클래스는 트링켓에서도 쉽게 연습하실 수 있습니다. \n",
        "####우측 링크 클릭 [Python 3 - 파이썬 초보 학습자를 위한 4시간에 배우는 파이썬 기초문법](https://joshua-mobile-choi-1756.trinket.io/python-3-4#/tasks/task-1-print-statement)"
      ]
    },
    {
      "cell_type": "markdown",
      "metadata": {
        "id": "ln3y6zq96nyP",
        "colab_type": "text"
      },
      "source": [
        "##목차\n",
        "\n",
        "####90분 X 16회 강의\n",
        "* Day 1 -   소개/Print Statement/Methods\n",
        "* Day 2 -   Strings and Numbers/String Indexing/String Methods\n",
        "* Day 3 -   Arithmetic Operators/Number Methods/Boolean Operators\n",
        "* Day 4 -   Variables/Updating Variables/String Format\n",
        "* Day 5 -   If문과 Else문/If문, Elif문 & Else문\n",
        "* Day 6 -   List/List Methods/Dictionary/Dictionary Methods\n",
        "* Day 7 -   Tupple/Set/Making Functions/Parameters and Arguments\n",
        "* Day 8 -   Conditional Statements in Functions/ Importing Modules\n",
        "* Day 9 -   함수 총 리뷰/ For Loop/ While / While-else Loop/\n",
        "* Day 10 -  Break/Continue/ File I/O / Colab File I/O\n",
        "* Day 11 -  Making a Class/Instance /Creating and Accessing Methods/Inheritance\n",
        "* Day 12 -  Overriding/Super/ 클래스 총 리뷰\n",
        "* Day 13 -  Lambda/ Lambda & Functions\n",
        "* Day 14 -  List Comprehension/Set Comprehension\n",
        "* Day 15 -  Dictionary Comprehension/Generator Expression\n",
        "* Day 16 -  기타 모듈 맛 보기/ 조건문/리스트/함수/클래스/람다 리뷰\n",
        "\n",
        "\n",
        "####180분 X 8회 강의\n",
        "* Day 1 -   소개/Print Statement/Methods /Strings and Numbers/String Indexing/String Methods\n",
        "* Day 2 -   Arithmetic Operators/Number Methods/Boolean Operators/ Variables/Updating Variables/String Format\n",
        "* Day 3 -   If문과 Else문/If문, Elif문 & Else문/ List/List Methods/Dictionary/Dictionary Methods\n",
        "* Day 4 -   Tupple/Set/Making Functions/Parameters and Arguments/ Conditional Statements in Functions/ Importing Modules\n",
        "* Day 5 -   함수 총 리뷰/ For Loop/ While / While-else Loop/ Break/Continue/ File I/O / Colab File I/O\n",
        "* Day 6 -  Making a Class/Instance /Creating and Accessing Methods/Inheritance/ Overriding/Super\n",
        "* Day 7 -  클래스 리뷰 / Lambda/ Lambda & Functions / List Comprehension/Set Comprehension/ Dictionary Comprehension/Generator Expression\n",
        "* Day 8 -  기타 모듈 맛 보기/ 조건문/리스트/함수/클래스/람다/File I/O 리뷰\n",
        "\n",
        "\n",
        "#### 6시간 X 4회 강의\n",
        "* Day 1 -   소개/Print Statement/Methods /Strings and Numbers/String Indexing/String Methods /Arithmetic Operators/Number Methods/Boolean Operators/ Variables/Updating Variables/String Format\n",
        "* Day 2 -   If문과 Else문/If문, Elif문 & Else문/ List/List Methods/Dictionary/Dictionary Methods/ Tupple/Set/Making Functions/Parameters and Arguments/ Conditional Statements in Functions/ Importing Modules\n",
        "* Day 3 -   함수 총 리뷰/ For Loop/ While / While-else Loop/ Break/Continue/ File I/O / Colab File I/O / Making a Class/Instance /Creating and Accessing Methods/Inheritance/ Overriding/Super\n",
        "* Day 4 -  Lambda/ Lambda & Functions / List Comprehension/Set Comprehension/ Dictionary Comprehension/Generator Expression / 조건문/리스트/함수/클래스/File I/O 리뷰/ 기타 모듈 맛 보기\n",
        "\n"
      ]
    },
    {
      "cell_type": "markdown",
      "metadata": {
        "id": "6k6SYwri8lDF",
        "colab_type": "text"
      },
      "source": [
        "파이썬 기초 문법 이해하기 (24시간 강의)\n",
        "\n"
      ]
    },
    {
      "cell_type": "markdown",
      "metadata": {
        "id": "9QUSJx3U98E7",
        "colab_type": "text"
      },
      "source": [
        "#TASK 1– Print Statement\n",
        "\n",
        "\n",
        "##학습 내용\n",
        "* 우리가 배울 첫 번째 파이썬 문법은 print 문입니다.\n",
        "* print문을 통해 사용자는 인쇄하고 결과를 보여줄 수 있습니다.\n",
        "\n",
        "\n",
        "##문법\n",
        "\n",
        "         print  (\"Hello Python!\")\n",
        "\n",
        " \n",
        "##설명\n",
        "\n",
        "* print (‘문장’)의 형식으로 print 문을 사용합니다.\n",
        "* 숫자의 경우에는 print (숫자)로 출력합니다.\n",
        "* 추후 배우겠으나 변수의 값을 출력할 경우에는 print (변수)로 출력합니다.\n",
        "* Python 2 문법에서는 괄호가 없어서 괄호 없이 인쇄를 해도 되기도 하나 괄호를 넣고 꼭 프린트문을 실행하도록 연습합니다.\n",
        "* 작은 따옴표 (' ')나 큰 따옴표 (\" \") 둘 모두 괜찮으나 둘을 섞여서  \n",
        "\t(' \") 또는 (\" ') 형태로 사용되지 않도록 주의합니다. \n",
        "* '#' 로 시작하는 라인은 코딩에 영향을 미치지 않으므로 주석이나 설명 등을 넣을 때 사용합니다. \n",
        "\n",
        "## 연습\n",
        "\n",
        "        print (\"Hello Python!\") \n",
        "        print (3)\n",
        "\n",
        "* 이 두 라인을 에디터에 넣고  Hello Python! 과 3, 이 두개를 출력해 봅니다.\n",
        "\n",
        "\n",
        "##주의\n",
        "* 워드 폰트에 따라 따옴표 (＂ ＂) 를 복사하여 Python 에디터에 붙여 넣으면 오류가 발생하기도 합니다. 이 경우 지우고 다시 입력해야 합니다. \n",
        "\n",
        "\n",
        "\n",
        "\n",
        "##코딩 부분\n"
      ]
    },
    {
      "cell_type": "code",
      "metadata": {
        "id": "sjUwRfV--FYP",
        "colab_type": "code",
        "outputId": "8ce884a1-f2aa-4e9b-d3c0-252ca31974b3",
        "colab": {
          "base_uri": "https://localhost:8080/",
          "height": 54
        }
      },
      "source": [
        "# 두 문장을 출력해 봅니다.\n",
        "print (\"Hello Python!\") \n",
        "print (3)\n"
      ],
      "execution_count": 1,
      "outputs": [
        {
          "output_type": "stream",
          "text": [
            "Hello Python!\n",
            "3\n"
          ],
          "name": "stdout"
        }
      ]
    },
    {
      "cell_type": "markdown",
      "metadata": {
        "id": "mkQjXOLU_jwH",
        "colab_type": "text"
      },
      "source": [
        "####Video"
      ]
    },
    {
      "cell_type": "markdown",
      "metadata": {
        "id": "Zaos74a6-gbr",
        "colab_type": "text"
      },
      "source": [
        "https://youtu.be/zVIQuRShh9U"
      ]
    },
    {
      "cell_type": "markdown",
      "metadata": {
        "id": "sZralaiP-lBo",
        "colab_type": "text"
      },
      "source": [
        "##추가 연습 \n",
        "\n",
        "* 프린트를 할 때 한 줄이 아니라 여러 줄의 문장을 프린트를 하는 경우가 있습니다.  주소 같은 경우가 대표적인 예일 것입니다. \n",
        "* 이때는 처음에 따옴표 3개를 넣어서 여러 줄이 시작한다는 것을 컴퓨터에게 알리고 마지막에 따옴표 3개를 넣어서 출력할 내용이 끝났다고 알리면 됩니다.\n",
        "* 아래 주소를 프린트 문을 사용하여 출력해 봅니다.\n",
        "\n",
        "        Hong Gildong\n",
        "        123 Ho, ABC Street,\n",
        "        Samsung-dong, Gangnam-gu\n",
        "        Seoul, Korea\n"
      ]
    },
    {
      "cell_type": "code",
      "metadata": {
        "id": "Fe8yL7co-w8k",
        "colab_type": "code",
        "outputId": "c8bcc3ee-a04f-4b19-ef53-5e03f83f0fcd",
        "colab": {
          "base_uri": "https://localhost:8080/",
          "height": 90
        }
      },
      "source": [
        "print (\"\"\"Hong Gildong\n",
        "123 Ho, ABC Street,\n",
        "Samsung-dong, Gangnam-gu\n",
        "Seoul, Korea\"\"\")\n"
      ],
      "execution_count": 2,
      "outputs": [
        {
          "output_type": "stream",
          "text": [
            "Hong Gildong\n",
            "123 Ho, ABC Street,\n",
            "Samsung-dong, Gangnam-gu\n",
            "Seoul, Korea\n"
          ],
          "name": "stdout"
        }
      ]
    },
    {
      "cell_type": "markdown",
      "metadata": {
        "id": "Y_TJ__eo-1L9",
        "colab_type": "text"
      },
      "source": [
        "\n",
        "####Extra Practices\n",
        "\n",
        "(1) \"My name is 0 0 0 \"를 입력하여 프린트 해봅니다.\n"
      ]
    },
    {
      "cell_type": "code",
      "metadata": {
        "id": "QQUdgprg-3Es",
        "colab_type": "code",
        "outputId": "e7a7ce4d-c8af-455c-c904-5c123aa34b0c",
        "colab": {
          "base_uri": "https://localhost:8080/",
          "height": 35
        }
      },
      "source": [
        "print (\"My name is Hong Gildong.\")"
      ],
      "execution_count": 3,
      "outputs": [
        {
          "output_type": "stream",
          "text": [
            "My name is Hong Gildong.\n"
          ],
          "name": "stdout"
        }
      ]
    },
    {
      "cell_type": "markdown",
      "metadata": {
        "id": "zDIIGdYl_AXA",
        "colab_type": "text"
      },
      "source": [
        "(2)  \" I like 0 0 0\" 문장을 통해 자신이 좋아하는 것을 넣어 봅니다.\n"
      ]
    },
    {
      "cell_type": "code",
      "metadata": {
        "id": "FRmEQ78s_DbX",
        "colab_type": "code",
        "colab": {
          "base_uri": "https://localhost:8080/",
          "height": 35
        },
        "outputId": "3016fdea-d8c8-4b0d-f3e0-00b81d42c81a"
      },
      "source": [
        "print (\"I like hotcakes.\")"
      ],
      "execution_count": 4,
      "outputs": [
        {
          "output_type": "stream",
          "text": [
            "I like hotcakes.\n"
          ],
          "name": "stdout"
        }
      ]
    },
    {
      "cell_type": "markdown",
      "metadata": {
        "id": "xP3cUsv9_H1n",
        "colab_type": "text"
      },
      "source": [
        "(3)  자신의 주소를 위와 같이 여러 줄로 만들어서 영어로 출력해 봅니다.\n"
      ]
    },
    {
      "cell_type": "code",
      "metadata": {
        "id": "enpOr-nb_LRU",
        "colab_type": "code",
        "outputId": "69bb9601-bd13-4d3b-e3f6-526514b71f77",
        "colab": {
          "base_uri": "https://localhost:8080/",
          "height": 90
        }
      },
      "source": [
        "print (\"\"\"Hong Gildong\n",
        "#314 Uju APT, Uju-ro\n",
        "Uju-dong, Uju-gu\n",
        "Seoul, Korea\"\"\")\n"
      ],
      "execution_count": 5,
      "outputs": [
        {
          "output_type": "stream",
          "text": [
            "Hong Gildong\n",
            "#314 Uju APT, Uju-ro\n",
            "Uju-dong, Uju-gu\n",
            "Seoul, Korea\n"
          ],
          "name": "stdout"
        }
      ]
    },
    {
      "cell_type": "markdown",
      "metadata": {
        "id": "xwgsWeY3_TE6",
        "colab_type": "text"
      },
      "source": [
        "#TASK 2     -     Methods\n",
        "\n",
        "\n",
        "##학습 내용\n",
        "* Method는 기본적으로 내장된 기능(함수)이라고 이해를 하면 됩니다. \n",
        "* input()이라는 입력을 위한 method를 우선 배워봅니다.\n",
        "\n",
        "\n",
        "##문법\n",
        "\n",
        "        변수 = input()          # 프롬프트가 깜빡 깜빡 나타남\n",
        "        변수 = input(“질문”)    # 질문 다음에 프롬프트가 깜빡 깜빡 나타남\n",
        "\n",
        "\n",
        " \n",
        "##설명\n",
        "* 프린트 문으로 출력을 할 수 있다면 그럼 입력은 어떻게 할지 궁금해집니다.  \n",
        "* ATM기기 앞에서 비밀번호를 입력하는 경우를 보겠습니다.\n",
        "* 비밀번호를 입력하라는 안내가 나오면 비밀번호 4자리를 입력해 보겠습니다.\n",
        "* 아래의 경우는 프린트문으로 질문을 출력하고 이어서 아래줄에 깜빡이는 프롬프트에 숫자를 입력하는 방법입니다.\n",
        "\n",
        "        print (\"Please enter your 4 digit code!\")\n",
        "        my_code = input() \n",
        "\n",
        "하지만 이 것을 한 줄로 할 수도 있습니다. 이경우 문장의 오른 쪽에 프롬프트가 깜빡입니다.\n",
        "\n",
        "        my_code = input(\"Please enter your 4 digit code!\") \n",
        "\n",
        "\n",
        "\n",
        "## 연습\n",
        "\n",
        "        print (\"Please enter your 4 digit code!\")\n",
        "        my_code = input() \n",
        "\n",
        "        my_code = input(“Please enter your 4 digit code!”) \n",
        "\n",
        "\n",
        "\n",
        "\n",
        "##주의\n",
        "* 위의 my_code 같은 것을 변수라 부릅니다. \n",
        "* 변수는 소문자로 쓰고 띄어쓰기 대신에 언더바_를 쓰며 다른 것과 이름이 겹치지 않게 써야 합니다.\n",
        "* 메소드는 함수이나 여기서는 함수와는 다르게 간주한다고 생각하면 됩니다.\n",
        "* 메소드는 이미 정의되어 내장되어 있는 함수 입니다.\n",
        "* 따라서 불러올 필요도 없고, 따로 정의할 필요가 없습니다.\n",
        "* 반면에 이 책에서 말하는 함수는 주로 내가 만드는 함수를 의미 합니다. \n",
        "\n",
        "\n",
        "\n",
        "##코딩 부분\n"
      ]
    },
    {
      "cell_type": "code",
      "metadata": {
        "id": "TjZ3KKhMAKKD",
        "colab_type": "code",
        "outputId": "e5b049d5-ec10-431c-d59c-0aae9ecd1f95",
        "colab": {
          "base_uri": "https://localhost:8080/",
          "height": 72
        }
      },
      "source": [
        "print (\"Please enter your 4 digit code!\")\n",
        "my_code = input() \n",
        "\n",
        "my_code = input(\"Please enter your 4 digit code!\")"
      ],
      "execution_count": 6,
      "outputs": [
        {
          "output_type": "stream",
          "text": [
            "Please enter your 4 digit code!\n",
            "1234\n",
            "Please enter your 4 digit code!1234\n"
          ],
          "name": "stdout"
        }
      ]
    },
    {
      "cell_type": "markdown",
      "metadata": {
        "id": "dFYsnsl4Ajpb",
        "colab_type": "text"
      },
      "source": [
        "\n",
        "####Video\n",
        "https://youtu.be/DimJAHzRWMo\n"
      ]
    },
    {
      "cell_type": "markdown",
      "metadata": {
        "id": "OMWMshCSAryy",
        "colab_type": "text"
      },
      "source": [
        "##추가 연습 \n",
        "\n",
        "* 연습 내용\n",
        "* \"What is your name?\" 이란 문장을 프린트하여 이름을 물어보고\n",
        "* input() 메소드를 통하여 이름을 입력하면 \n",
        "* Thank you + 입력된 이름을 출력하는 것을 만들어 봅니다.\n",
        "\n",
        "예)\n",
        "\n",
        "        What is your name?\n",
        "        (입력) - 예) Gildong\n",
        "        Thank you, Gildong\n"
      ]
    },
    {
      "cell_type": "code",
      "metadata": {
        "id": "nzUssTpxA9CP",
        "colab_type": "code",
        "outputId": "83d80b2a-8e39-4e5c-b35a-1b7cad93f954",
        "colab": {
          "base_uri": "https://localhost:8080/",
          "height": 72
        }
      },
      "source": [
        "print (\"What is your name?\") \n",
        "your_name = input()\n",
        "print (\"Thank you, \" + your_name)"
      ],
      "execution_count": 7,
      "outputs": [
        {
          "output_type": "stream",
          "text": [
            "What is your name?\n",
            "Josh\n",
            "Thank you, Josh\n"
          ],
          "name": "stdout"
        }
      ]
    },
    {
      "cell_type": "markdown",
      "metadata": {
        "id": "Bzwsz7l0BALM",
        "colab_type": "text"
      },
      "source": [
        "###Extra Practices\n",
        "\n",
        "(1) 위의 과제에서\n",
        "* \"What's your name?\"을 묻고\n",
        "* 이를 입력하고 (자신의 이름 입력)\n",
        "* 이에 대해 \"Welcome\" 이라고 답하는 코드를 만들어 보시오"
      ]
    },
    {
      "cell_type": "code",
      "metadata": {
        "id": "zzWovg4TBI4a",
        "colab_type": "code",
        "outputId": "f20450c4-0c1d-4905-bb18-56d53671eaaf",
        "colab": {
          "base_uri": "https://localhost:8080/",
          "height": 72
        }
      },
      "source": [
        "print (\"What is your name?\") \n",
        "your_name = input()\n",
        "print (\"Welcome!\")"
      ],
      "execution_count": 8,
      "outputs": [
        {
          "output_type": "stream",
          "text": [
            "What is your name?\n",
            "Josh\n",
            "Welcome!\n"
          ],
          "name": "stdout"
        }
      ]
    },
    {
      "cell_type": "markdown",
      "metadata": {
        "id": "jAEBzbKVBUy5",
        "colab_type": "text"
      },
      "source": [
        "(2) 위의 과제에서 \n",
        "* \"Please enter your 4 digit code\"로 4자리수 비밀 번호를 묻고\n",
        "* 이를 입력하고\n",
        "* 이에 대해 \"Authorized\" (승인됨) 를 출력하는 코드를 만들어 보시오.\n",
        "* \"Authorized\" 외에 \"Access Granted\"(접속 승인)를 써도 비슷한 뜻이 됩니다.\n"
      ]
    },
    {
      "cell_type": "code",
      "metadata": {
        "id": "T7cokel4BXgv",
        "colab_type": "code",
        "outputId": "75d11715-0f8e-478e-b7b7-88820b05666e",
        "colab": {
          "base_uri": "https://localhost:8080/",
          "height": 72
        }
      },
      "source": [
        "print (\"Please enter your 4 digit code\") \n",
        "your_code = input()\n",
        "print (\"Authorized!\")"
      ],
      "execution_count": 9,
      "outputs": [
        {
          "output_type": "stream",
          "text": [
            "Please enter your 4 digit code\n",
            "1234\n",
            "Authorized!\n"
          ],
          "name": "stdout"
        }
      ]
    },
    {
      "cell_type": "markdown",
      "metadata": {
        "id": "5CLpBXXYBghH",
        "colab_type": "text"
      },
      "source": [
        "* 다음은 input외에 쓰이는 메소드의 일부입니다.\n",
        "\n",
        "* abs(x) - 숫자의 절댓값을 돌려줍니다. "
      ]
    },
    {
      "cell_type": "code",
      "metadata": {
        "id": "DThBM3qlBh3f",
        "colab_type": "code",
        "outputId": "3d7ac581-df76-47e1-a256-fd8ae41e5a6b",
        "colab": {
          "base_uri": "https://localhost:8080/",
          "height": 35
        }
      },
      "source": [
        "print (abs(-3))"
      ],
      "execution_count": 10,
      "outputs": [
        {
          "output_type": "stream",
          "text": [
            "3\n"
          ],
          "name": "stdout"
        }
      ]
    },
    {
      "cell_type": "markdown",
      "metadata": {
        "id": "EexHz6MlB5Tb",
        "colab_type": "text"
      },
      "source": [
        "* all(iterable) - 모든 요소가 참이면 (또는 비어있으면) True 를 돌려줍니다"
      ]
    },
    {
      "cell_type": "code",
      "metadata": {
        "id": "kD7GcDRzB8Su",
        "colab_type": "code",
        "outputId": "8353ba55-1ecd-4e85-cfe5-c339f138428d",
        "colab": {
          "base_uri": "https://localhost:8080/",
          "height": 35
        }
      },
      "source": [
        "a = [1, 3, 4, 5]\n",
        "print (all(a))"
      ],
      "execution_count": 11,
      "outputs": [
        {
          "output_type": "stream",
          "text": [
            "True\n"
          ],
          "name": "stdout"
        }
      ]
    },
    {
      "cell_type": "markdown",
      "metadata": {
        "id": "HqEgJgfACL2V",
        "colab_type": "text"
      },
      "source": [
        "* bin(x) - 정수를 \"0b\" 가 앞에 붙은 binary code로 변환합니다. "
      ]
    },
    {
      "cell_type": "code",
      "metadata": {
        "id": "OS_zsccYCNF_",
        "colab_type": "code",
        "outputId": "f292aa07-2fbb-45e7-8511-fc736a72330c",
        "colab": {
          "base_uri": "https://localhost:8080/",
          "height": 35
        }
      },
      "source": [
        "a = bin(3)\n",
        "print (a)"
      ],
      "execution_count": 12,
      "outputs": [
        {
          "output_type": "stream",
          "text": [
            "0b11\n"
          ],
          "name": "stdout"
        }
      ]
    },
    {
      "cell_type": "markdown",
      "metadata": {
        "id": "UYIvvtmPCnaT",
        "colab_type": "text"
      },
      "source": [
        "* bool([x]) - 논리값, 즉 True 또는 False 중 하나를 돌려줍니다."
      ]
    },
    {
      "cell_type": "code",
      "metadata": {
        "id": "xy7fnBmLCos4",
        "colab_type": "code",
        "outputId": "10df1f2e-d58b-454f-abde-19895de30390",
        "colab": {
          "base_uri": "https://localhost:8080/",
          "height": 35
        }
      },
      "source": [
        "bl = [0]\n",
        "print (bool(bl))"
      ],
      "execution_count": 13,
      "outputs": [
        {
          "output_type": "stream",
          "text": [
            "True\n"
          ],
          "name": "stdout"
        }
      ]
    },
    {
      "cell_type": "markdown",
      "metadata": {
        "id": "GHSRyZcvH0i-",
        "colab_type": "text"
      },
      "source": [
        "* chr(i) - 유니코드 코드 포인트가 정수 i 인 문자를 나타내는 문자열을 돌려줍니다. 예를 들어, chr(97) 은 문자열 'a' 를 돌려주고, chr(8364) 는 문자열 '€' 를 돌려줍니다. \n"
      ]
    },
    {
      "cell_type": "code",
      "metadata": {
        "id": "pIYeEKChH3jw",
        "colab_type": "code",
        "outputId": "3f9d002c-0826-468b-8ce6-4e99c75522e3",
        "colab": {
          "base_uri": "https://localhost:8080/",
          "height": 35
        }
      },
      "source": [
        "print (chr(97) + chr(98) + chr(99))"
      ],
      "execution_count": 14,
      "outputs": [
        {
          "output_type": "stream",
          "text": [
            "abc\n"
          ],
          "name": "stdout"
        }
      ]
    },
    {
      "cell_type": "markdown",
      "metadata": {
        "id": "hMzQ2HcRZTeh",
        "colab_type": "text"
      },
      "source": [
        "#TASK 3– Strings and Numbers\n",
        "\n",
        "\n",
        "##학습 내용\n",
        "* string 은 우리가 배울 첫 번째 유형의 데이터로 알파벳, 기호, 공백 등이 \n",
        "포함됩니다. 그리고 number 는 숫자형의 데이터입니다.\n",
        "\n",
        "\n",
        "\n",
        "##문법\n",
        "\n",
        "        \"string\"\n",
        "        3\n",
        "\n",
        "\n",
        " \n",
        "##설명\n",
        "* string 에는 알파벳, 기호, 공백 및 기타가 포함됩니다.\n",
        "* string 은 큰 따옴표 (\" \") 또는 작은 따옴표 (' ') 에 넣어서 표현을 합니다.\n",
        "* 예제와 같이 + 를 사용하여 string을 합할 수 있습니다.\n",
        "* number (숫자)는 우리가 두 번째로 배울 유형의 데이터 입니다.\n",
        "* 컴퓨터는 string과 number를 다르게 취급합니다.\n",
        "\n",
        "        예를 들어, 1 은 숫자 1 이지만 \"1\" 은 문자열 \"1\" 입니다.\n",
        "        1 + 1 = 2 이지만  \"1\" + \"1\" 은 \"11\" 입니다\n",
        "        따라서 2 * 3 은 6 이지만 ‘2’ * 3 은 \"222\" 입니다.\n",
        "\n",
        "\n",
        "\n",
        "## 연습\n",
        "\n",
        "* \"I love\" 와 \"my car\" 두 string 사이에 + 를 사용하여 둘을 합하십시오.\n",
        "* + 를 사용하여 두 개의 숫자 2 와 3 을 더하십시오.\n",
        "* + 를 사용하여 두 개의 string  \"2\" 와 \"3\" 을 합하십시오\n",
        "* 그리고 결과를 print 하여 봅니다.\n",
        "\n",
        "\n",
        "##주의\n",
        "* 단어와 단어를 연결할 때 공백(\" \")을 넣어 주는 것이 필요하기도 합니다.\n",
        "* print 할 때 string 과 number 를 + 를 사용하여 더할 수 없습니다.\n",
        "* 데이터의 형태가 다르기 때문입니다.\n",
        "\n",
        "\n",
        "\n",
        "\n",
        "\n",
        "##코딩 부분\n"
      ]
    },
    {
      "cell_type": "code",
      "metadata": {
        "id": "YDXPFWwXZVkM",
        "colab_type": "code",
        "outputId": "e3ccc29e-e471-4d33-825d-96bc42b2bb9b",
        "colab": {
          "base_uri": "https://localhost:8080/",
          "height": 72
        }
      },
      "source": [
        "print (\"I love\" + \" \" + \"my car.\")\n",
        "\n",
        "print (2+3)\n",
        "\n",
        "print (\"2\" + \"3\") "
      ],
      "execution_count": 15,
      "outputs": [
        {
          "output_type": "stream",
          "text": [
            "I love my car.\n",
            "5\n",
            "23\n"
          ],
          "name": "stdout"
        }
      ]
    },
    {
      "cell_type": "markdown",
      "metadata": {
        "id": "10LdP-BJZcYj",
        "colab_type": "text"
      },
      "source": [
        "####video\n",
        "https://youtu.be/6fmMA3k5sN8"
      ]
    },
    {
      "cell_type": "markdown",
      "metadata": {
        "id": "EmbDL9WvZmCG",
        "colab_type": "text"
      },
      "source": [
        "##추가 연습 \n",
        "\n",
        "* I was born in 1999을 출력할 때  다음과 같이 출력할 수 없습니다\n",
        "\n",
        "        print  (\"I was born in \" + 1999)\n",
        "\n",
        "* 데이터의 종류가 상이하기 때문입니다.\n",
        "* 이 경우 1999를 str() method를 사용하여 스트링화 하면 데이터의 종류가 같아져서 프린트 할 수 있습니다.\n",
        "\n",
        "        a = \"I was born in \"\n",
        "        b= str(1999)\n",
        "        print (a + b)"
      ]
    },
    {
      "cell_type": "code",
      "metadata": {
        "id": "hftEcbUfZob_",
        "colab_type": "code",
        "outputId": "176226f6-f5d7-41fe-9bd6-8d3e8dcf74cc",
        "colab": {
          "base_uri": "https://localhost:8080/",
          "height": 35
        }
      },
      "source": [
        "a = \"I was born in \"\n",
        "b= str(1999)\n",
        "print (a + b)\n"
      ],
      "execution_count": 16,
      "outputs": [
        {
          "output_type": "stream",
          "text": [
            "I was born in 1999\n"
          ],
          "name": "stdout"
        }
      ]
    },
    {
      "cell_type": "markdown",
      "metadata": {
        "id": "6VlCm5xCZt2g",
        "colab_type": "text"
      },
      "source": [
        "####Extra Practice\n",
        "\n",
        "(1) \"My favorite car is KIA.\" 란 문장을 3조각으로 나누어서 +  + 를 붙여서 만들어 봅니다.\n",
        "\n",
        "공란이 적절히 들어가서 띄어쓰기가 잘 되도록 주의합니다.\n"
      ]
    },
    {
      "cell_type": "code",
      "metadata": {
        "id": "Vtj-pweQZyUA",
        "colab_type": "code",
        "outputId": "52529d4f-0c20-4f74-8cdf-70fade20a4c6",
        "colab": {
          "base_uri": "https://localhost:8080/",
          "height": 35
        }
      },
      "source": [
        "a = \"My favorite car is\"\n",
        "b= \" \"\n",
        "c = \"KIA.\"\n",
        "print (a + b + c)"
      ],
      "execution_count": 17,
      "outputs": [
        {
          "output_type": "stream",
          "text": [
            "My favorite car is KIA.\n"
          ],
          "name": "stdout"
        }
      ]
    },
    {
      "cell_type": "markdown",
      "metadata": {
        "id": "pcNFHgR3Z1Z7",
        "colab_type": "text"
      },
      "source": [
        "(2) 숫자 1234와 5678을 더합니다\n",
        "\n",
        "이어서 \"1234\"와 \"5678\"을 더해 봅니다."
      ]
    },
    {
      "cell_type": "code",
      "metadata": {
        "id": "NY0ddjbtZ4AR",
        "colab_type": "code",
        "outputId": "447ee650-e4aa-4504-e714-b975fafd78f5",
        "colab": {
          "base_uri": "https://localhost:8080/",
          "height": 54
        }
      },
      "source": [
        "a = 1234\n",
        "b= 5678\n",
        "c = \"1234\"\n",
        "d = \"5678\"\n",
        "print (a + b)\n",
        "print (c + d)"
      ],
      "execution_count": 18,
      "outputs": [
        {
          "output_type": "stream",
          "text": [
            "6912\n",
            "12345678\n"
          ],
          "name": "stdout"
        }
      ]
    },
    {
      "cell_type": "markdown",
      "metadata": {
        "id": "OlR5MTP9d6Ji",
        "colab_type": "text"
      },
      "source": [
        "#TASK 04     -   String Indexing\n",
        "\n",
        "\n",
        "##학습 내용\n",
        "* 이 과에서는 string 위치에 접근하는 방법을 배웁니다.\n",
        "* Indexing이란 표현을 씁니다.\n",
        "\n",
        "\n",
        "##문법\n",
        "\n",
        "         스트링변수 [위치]\n",
        "\n",
        " \n",
        "##설명\n",
        "* HYUNDAI란 단어에는 알파벳이 7자가 있습니다.\n",
        "* 첫 번째 위치는 1이 아닌 '0'으로 색인되므로 아래 7 개의 문자는 0, 1, 2, 3, 4, 5, 6 의 위치를 갖습니다\n",
        "\n",
        "        H   Y   U   N   D   A   I\n",
        "        0   1   2   3   4   5   6\n",
        "\n",
        "\n",
        "\n",
        "* name이란 변수에 스트링 값을 주고 출력을 print(name[0]) 하면 해당 string의 첫 알파벳이 나옵니다.\n",
        "* 따라서 HYUNDAI에서 ‘D’의 위치(5번째 위치)를 색인 하려면  [4]를 인덱싱 합니다.\n",
        "\n",
        "## 연습\n",
        "\n",
        "* CHEVROLET에서 3번(4번째)의 위치를 indexing 해봅니다.\n",
        "\n",
        "        maker = \"CHEVROLET\"\n",
        "        print (maker[3])\n",
        "\n",
        "\n",
        "\n",
        "\n",
        "##주의\n",
        "‘1’이 아닌\"0\"에서 시작한다는 것을 명심하세요.\n",
        "\n",
        "\n",
        "\n",
        "\n",
        "##코딩 부분"
      ]
    },
    {
      "cell_type": "code",
      "metadata": {
        "id": "yZw0KTx4d7kO",
        "colab_type": "code",
        "outputId": "82fac14e-034d-4b0f-82ed-4ae472bd9db2",
        "colab": {
          "base_uri": "https://localhost:8080/",
          "height": 35
        }
      },
      "source": [
        "maker = \"CHEVROLET\"\n",
        "print (maker[3])"
      ],
      "execution_count": 19,
      "outputs": [
        {
          "output_type": "stream",
          "text": [
            "V\n"
          ],
          "name": "stdout"
        }
      ]
    },
    {
      "cell_type": "markdown",
      "metadata": {
        "id": "6xr-M4wieAuq",
        "colab_type": "text"
      },
      "source": [
        "####Video\n",
        "https://youtu.be/WYdakBJ923c"
      ]
    },
    {
      "cell_type": "markdown",
      "metadata": {
        "id": "X9XikBd0eFkO",
        "colab_type": "text"
      },
      "source": [
        "##추가 연습 \n",
        "\n",
        "* String인 \"Korea\" 는 알파벳 개수가 5개입니다.\n",
        "* 0번 부터 4번까지 인덱스가 주어질 수 있습니다.\n",
        "* 따라서 원하는 것이 r이라면\n",
        "\n",
        "      \"Korea\"[2] 라고 하면 r이 나오게 됩니다.\n"
      ]
    },
    {
      "cell_type": "code",
      "metadata": {
        "id": "0qXdkeg1eIf3",
        "colab_type": "code",
        "outputId": "34850407-6363-4346-9cc5-8d8af05f6f5e",
        "colab": {
          "base_uri": "https://localhost:8080/",
          "height": 35
        }
      },
      "source": [
        "country = \"Korea\"\n",
        "print (country[2])"
      ],
      "execution_count": 20,
      "outputs": [
        {
          "output_type": "stream",
          "text": [
            "r\n"
          ],
          "name": "stdout"
        }
      ]
    },
    {
      "cell_type": "markdown",
      "metadata": {
        "id": "zHrWCLM2eNhd",
        "colab_type": "text"
      },
      "source": [
        "####Extra Practice\n",
        "\n",
        "(1) 문장을 주고 인덱싱을 해봅니다. 예를 들어 I am happy 란 문장을 주고 [1]을 인덱싱하면 공란이 나올까요?\n"
      ]
    },
    {
      "cell_type": "code",
      "metadata": {
        "id": "wk6xye7uePg4",
        "colab_type": "code",
        "outputId": "4901a2a1-144b-479f-d41e-6251a283ef73",
        "colab": {
          "base_uri": "https://localhost:8080/",
          "height": 54
        }
      },
      "source": [
        "sent = \"I am happy\"\n",
        "print (sent[1])\n",
        "print (sent[2])"
      ],
      "execution_count": 21,
      "outputs": [
        {
          "output_type": "stream",
          "text": [
            " \n",
            "a\n"
          ],
          "name": "stdout"
        }
      ]
    },
    {
      "cell_type": "markdown",
      "metadata": {
        "id": "3QHzX8qfeXiB",
        "colab_type": "text"
      },
      "source": [
        "(2)  영어가 아니라 한글 단어를 인덱싱하면 어떻게 될까요?"
      ]
    },
    {
      "cell_type": "code",
      "metadata": {
        "id": "8WQDmquqeUUr",
        "colab_type": "code",
        "outputId": "0895b9b2-9357-4e13-8bea-25e29efc222a",
        "colab": {
          "base_uri": "https://localhost:8080/",
          "height": 54
        }
      },
      "source": [
        "word = \"영어한글단어\"\n",
        "print (word[0])\n",
        "print (word[1])"
      ],
      "execution_count": 22,
      "outputs": [
        {
          "output_type": "stream",
          "text": [
            "영\n",
            "어\n"
          ],
          "name": "stdout"
        }
      ]
    },
    {
      "cell_type": "markdown",
      "metadata": {
        "id": "ZrJYBJqieftz",
        "colab_type": "text"
      },
      "source": [
        "(3)  영어 알파벳과 숫자가 섞여 있는 것은 어떻게 인덱싱을 할까요? "
      ]
    },
    {
      "cell_type": "code",
      "metadata": {
        "id": "ICPZMkNiehEA",
        "colab_type": "code",
        "outputId": "8549cf79-e26b-4e91-a188-4fd9e960d6a5",
        "colab": {
          "base_uri": "https://localhost:8080/",
          "height": 54
        }
      },
      "source": [
        "word = \"ai2learn\"\n",
        "print (word[2])\n",
        "print (word[3])"
      ],
      "execution_count": 23,
      "outputs": [
        {
          "output_type": "stream",
          "text": [
            "2\n",
            "l\n"
          ],
          "name": "stdout"
        }
      ]
    },
    {
      "cell_type": "markdown",
      "metadata": {
        "id": "aaUwKWliewsp",
        "colab_type": "text"
      },
      "source": [
        "#TASK 05     -   String Methods\n",
        "\n",
        "\n",
        "\n",
        "##학습 내용\n",
        "* 세 가지 유형의 대표적인 string 메소드를 배워봅니다. \n",
        "\n",
        "        len()   lower()   upper() \n",
        "\n",
        "\n",
        "##문법\n",
        "\n",
        "         \tlen()  - string의 길이를 보여 줍니다.\n",
        "        \tlower() - string을 모두 소문자로 변환합니다.\n",
        "        \tupper() - string을 모두 대문자로 변환 합니다.\n",
        "\n",
        "\n",
        " \n",
        "##설명\n",
        "* import 나 새로 정의를 안 해도 쓸 수 있는 함수를 메소드라고 합니다.\n",
        "\n",
        "다음의 예를 보며 위의 메소드를 이해 하겠습니다.\n",
        "\n",
        "        maker란 변수에  'Mercedes'란 값을 줍니다.\n",
        "        maker = 'Mercedes'\n",
        "\n",
        "* 여기서 주어진 스트링을 길이를 구하려면 \n",
        "\n",
        "      len (maker)를 하면 됩니다. \n",
        "      그러면 8이 답으로 나옵니다.\n",
        "\n",
        "*숫자의 길이를 구할 수는 없습니다.\n",
        "* len(12345)는 에러를 발생합니다. \n",
        "* 긴 숫자는 긴 것이 아니라 큰 것이기 때문입니다.\n",
        "* 반면에 str() 메소드를 써서 len(str(12345))를 프린트하면 에러가 발생하지 않고 5가 나옵니다.\n",
        "\n",
        "\n",
        "## 연습\n",
        "* 다음을 해봅니다. \n",
        "\n",
        "\n",
        "        maker = \"CHEVROLET\"\n",
        "        print (len(maker))\n",
        "        print (len(\"Hong Gildong\")\n",
        "        a = 12345\n",
        "        print (len(str(a)))\n",
        "\n",
        "\n",
        "\n",
        "\n",
        "##주의\n",
        "* 빈칸도 길이에 들어 갑니다. \n",
        "\n",
        "\n",
        "\n",
        "\n",
        "##코딩 부분"
      ]
    },
    {
      "cell_type": "code",
      "metadata": {
        "id": "TxJfTNApeyTG",
        "colab_type": "code",
        "outputId": "9fbaf8b9-5a38-474b-de60-061902672bb1",
        "colab": {
          "base_uri": "https://localhost:8080/",
          "height": 72
        }
      },
      "source": [
        "maker = \"CHEVROLET\"\n",
        "print (len(maker))\n",
        "print (len(\"Hong Gildong\"))\n",
        "a = 12345\n",
        "print (len(str(a)))"
      ],
      "execution_count": 24,
      "outputs": [
        {
          "output_type": "stream",
          "text": [
            "9\n",
            "12\n",
            "5\n"
          ],
          "name": "stdout"
        }
      ]
    },
    {
      "cell_type": "markdown",
      "metadata": {
        "id": "PLhgChXge3HZ",
        "colab_type": "text"
      },
      "source": [
        "####Video\n",
        "https://youtu.be/x9EOzSHWe5s"
      ]
    },
    {
      "cell_type": "markdown",
      "metadata": {
        "id": "3et-mpY7fAEQ",
        "colab_type": "text"
      },
      "source": [
        "##추가 연습 \n",
        "\n",
        "* 메서드 lower()와 upper()는 기존에 사용했던 str(123) 메서드와 달리 다음과 같이 표현하며 사용합니다.\n",
        "\n",
        "\n",
        "        maker.lower()\n",
        "        maker.upper()\n",
        "\n",
        "\n",
        "* lower()는 string을 모두 소문자로 만들어 주고 upper()는 string을 모두 대문자로 만들어 줍니다.\n",
        "* 이와 같이 표현하는 방법을 “Dot Notation”이라고 부릅니다.\n",
        "* 구체적인 내용은 함수를 배우면서 더욱 익숙해질 것입니다."
      ]
    },
    {
      "cell_type": "code",
      "metadata": {
        "id": "IaVGD6Q1fG3q",
        "colab_type": "code",
        "outputId": "47874f90-3eed-40c8-fa25-99266cf36e4a",
        "colab": {
          "base_uri": "https://localhost:8080/",
          "height": 54
        }
      },
      "source": [
        "maker = \"CHEVROLET\"\n",
        "print (maker.lower())\n",
        "print (maker.upper())"
      ],
      "execution_count": 25,
      "outputs": [
        {
          "output_type": "stream",
          "text": [
            "chevrolet\n",
            "CHEVROLET\n"
          ],
          "name": "stdout"
        }
      ]
    },
    {
      "cell_type": "markdown",
      "metadata": {
        "id": "isSYmOBYfMoA",
        "colab_type": "text"
      },
      "source": [
        "####Extra Practice\n",
        "\n",
        "(1)maker 에 \"Mercedes\"를 대입하고\n",
        "\n",
        "year는 str(2020)\n",
        "\n",
        "month는 \"June\"\n",
        "\n",
        "길이를 구하고\n",
        "\n",
        "maker의 소문자 출력 및 대문자 출력에 이어서 몇 월 + 한칸 띄고 + 몇 년을 출력해봅니다.\n"
      ]
    },
    {
      "cell_type": "code",
      "metadata": {
        "id": "OYO7-rdSfOT3",
        "colab_type": "code",
        "outputId": "50e3cbf2-096d-40be-ad70-96ffb8a17d62",
        "colab": {
          "base_uri": "https://localhost:8080/",
          "height": 90
        }
      },
      "source": [
        "maker = \"Mercedes\"\n",
        "year = str(2020)\n",
        "month = \"June\"\n",
        "\n",
        "print (len(maker))\n",
        "print (maker.lower())\n",
        "print (maker.upper())\n",
        "print (month + \" \" + year)"
      ],
      "execution_count": 26,
      "outputs": [
        {
          "output_type": "stream",
          "text": [
            "8\n",
            "mercedes\n",
            "MERCEDES\n",
            "June 2020\n"
          ],
          "name": "stdout"
        }
      ]
    },
    {
      "cell_type": "markdown",
      "metadata": {
        "id": "81fubPjGfTC8",
        "colab_type": "text"
      },
      "source": [
        "(2)  warrior_name란 변수에 “Gildong”을 넣어봅니다.\n",
        "\n",
        "print warrior_name.lower()를 프린트 해봅니다."
      ]
    },
    {
      "cell_type": "code",
      "metadata": {
        "id": "VH_qPzItfVoE",
        "colab_type": "code",
        "outputId": "49186496-0634-4771-8168-0ed56e6c9f72",
        "colab": {
          "base_uri": "https://localhost:8080/",
          "height": 35
        }
      },
      "source": [
        "warrior_name = \"Gildong\"\n",
        "\n",
        "print (warrior_name.lower())"
      ],
      "execution_count": 27,
      "outputs": [
        {
          "output_type": "stream",
          "text": [
            "gildong\n"
          ],
          "name": "stdout"
        }
      ]
    },
    {
      "cell_type": "markdown",
      "metadata": {
        "id": "zaHpflTrfacI",
        "colab_type": "text"
      },
      "source": [
        "(3)  warrior_name란 변수에 “Gildong”을 넣어봅니다.\n",
        "\n",
        "print warrior_name.upper()를 프린트 해봅니다."
      ]
    },
    {
      "cell_type": "code",
      "metadata": {
        "id": "auiun34JfdFv",
        "colab_type": "code",
        "outputId": "a9eea77e-8c40-40dd-a940-696f4ca77c9a",
        "colab": {
          "base_uri": "https://localhost:8080/",
          "height": 35
        }
      },
      "source": [
        "warrior_name = \"Gildong\"\n",
        "\n",
        "print (warrior_name.upper())"
      ],
      "execution_count": 28,
      "outputs": [
        {
          "output_type": "stream",
          "text": [
            "GILDONG\n"
          ],
          "name": "stdout"
        }
      ]
    },
    {
      "cell_type": "markdown",
      "metadata": {
        "id": "dhLiJwx7gjHz",
        "colab_type": "text"
      },
      "source": [
        "#TASK 06   -     Arithmetic Operators\n",
        "\n",
        "\n",
        "##학습 내용\n",
        "* 숫자 학습을 위해 가장 기본적인 사칙 연산부터 시작합니다.\n",
        "* 더하기, 빼기, 곱하기, 나누기는 아래 부호를 통해서 합니다.\n",
        "\n",
        "##문법\n",
        "\n",
        "         더하기 (+), 빼기 (-), 곱하기 (*), 나누기 (/)\n",
        "\n",
        " \n",
        "##설명\n",
        "* 다음 사칙 연산을 해보며 이해를 합니다.\n",
        "\n",
        "        first_add = 12345 + 56789\n",
        "        first_sub = 543-321\n",
        "        first_multi = 12 * 34\n",
        "        first_div = 520/24\n",
        "\n",
        "\n",
        "## 연습\n",
        "\n",
        "* 앞의 덧샘, 뺄센, 곱셈, 나눗셈을 실시하고 프린트를 해봅니다.\n",
        "\n",
        "\n",
        "\n",
        "##주의\n",
        "* 변수 first_add 처럼 언더바를 사용하여 빈칸을 대신합니다.\n",
        "\n",
        "\n",
        "\n",
        "##코딩 부분"
      ]
    },
    {
      "cell_type": "code",
      "metadata": {
        "id": "gkyfymeJgkeJ",
        "colab_type": "code",
        "outputId": "d9e1983c-3bbb-4749-bdee-68225b4c4da7",
        "colab": {
          "base_uri": "https://localhost:8080/",
          "height": 90
        }
      },
      "source": [
        "\n",
        "first_add = 12345 + 56789\n",
        "first_sub = 543-321\n",
        "first_multi = 12 * 34\n",
        "first_div = 520/24\n",
        "print (first_add)\n",
        "print (first_sub)\n",
        "print (first_multi)\n",
        "print (first_div)"
      ],
      "execution_count": 29,
      "outputs": [
        {
          "output_type": "stream",
          "text": [
            "69134\n",
            "222\n",
            "408\n",
            "21.666666666666668\n"
          ],
          "name": "stdout"
        }
      ]
    },
    {
      "cell_type": "markdown",
      "metadata": {
        "id": "rJPu1vDxgpz7",
        "colab_type": "text"
      },
      "source": [
        "####Video\n",
        "https://youtu.be/Ttn7vaZO4zM"
      ]
    },
    {
      "cell_type": "markdown",
      "metadata": {
        "id": "C2NGTY-7gwdm",
        "colab_type": "text"
      },
      "source": [
        "##추가 연습 \n",
        "\n",
        "* %는 나머지를 나타냅니다\n",
        "\n",
        "        15 % 2 = 1 \n",
        "        133 % 7 = 0"
      ]
    },
    {
      "cell_type": "code",
      "metadata": {
        "id": "C3P-_76fgynj",
        "colab_type": "code",
        "outputId": "560c6e14-d1bc-4235-cc12-e744fb4fa699",
        "colab": {
          "base_uri": "https://localhost:8080/",
          "height": 54
        }
      },
      "source": [
        "rem1 = 15 % 2 \n",
        "rem2 = 133 % 7\n",
        "print (rem1)\n",
        "print (rem2)"
      ],
      "execution_count": 30,
      "outputs": [
        {
          "output_type": "stream",
          "text": [
            "1\n",
            "0\n"
          ],
          "name": "stdout"
        }
      ]
    },
    {
      "cell_type": "markdown",
      "metadata": {
        "id": "PQ-UdkJlg2hb",
        "colab_type": "text"
      },
      "source": [
        "####Extra Practice\n",
        "\n",
        "(1) 다음 연습을 해봅니다.\n",
        "\n",
        "    \t    a = 19\n",
        "\n",
        "            b = 5\n",
        "\n",
        "            c = 7\n",
        "            \n",
        "            result = (a+b)/c + (a-c)/b"
      ]
    },
    {
      "cell_type": "code",
      "metadata": {
        "id": "-dBTuwPug4X1",
        "colab_type": "code",
        "outputId": "e93a118d-692a-49fe-bad2-11c11ace03ac",
        "colab": {
          "base_uri": "https://localhost:8080/",
          "height": 35
        }
      },
      "source": [
        "a = 19\n",
        "b = 5\n",
        "c = 7\n",
        "result = (a+b)/c + (a-c)/b\n",
        "print (result)"
      ],
      "execution_count": 31,
      "outputs": [
        {
          "output_type": "stream",
          "text": [
            "5.828571428571428\n"
          ],
          "name": "stdout"
        }
      ]
    },
    {
      "cell_type": "markdown",
      "metadata": {
        "id": "5rbP4CE-hAVY",
        "colab_type": "text"
      },
      "source": [
        "(2) a에서 b를 나눈 나머지에 c를 더해 봅니다.\n",
        "\n",
        "        a = 75\n",
        "\n",
        "        b = 13\n",
        "\n",
        "        c = 4 일 때\n",
        "        \n",
        "        a % b + c     \n"
      ]
    },
    {
      "cell_type": "code",
      "metadata": {
        "id": "0HYMctWyhHkQ",
        "colab_type": "code",
        "outputId": "86c5c3d5-6f4d-4239-de25-24b424fb2e8a",
        "colab": {
          "base_uri": "https://localhost:8080/",
          "height": 35
        }
      },
      "source": [
        "a = 75\n",
        "b = 13\n",
        "c = 4\n",
        "\n",
        "print (a%b + c)"
      ],
      "execution_count": 32,
      "outputs": [
        {
          "output_type": "stream",
          "text": [
            "14\n"
          ],
          "name": "stdout"
        }
      ]
    },
    {
      "cell_type": "markdown",
      "metadata": {
        "id": "MDbXVYfSjRme",
        "colab_type": "text"
      },
      "source": [
        "#TASK 07    -    Number Methods\n",
        "\n",
        "\n",
        "##학습 내용\n",
        "* 두 가지 유형의 숫자 데이터가 있습니다 \n",
        "* integer(정수)와 float(실수) 및 그와 관련된 메소드를 보겠습니다.\n",
        "\n",
        "\n",
        "##문법\n",
        "\n",
        "        int(숫자)   # 정수로 표현된다\n",
        "        float(숫자) # 실수로 표현된다\n",
        "        str(숫자)   # 보이기는 숫자로 보이지만 문자로 인식된다.\n",
        "\n",
        "\n",
        "\n",
        " \n",
        "##설명\n",
        "* integer는 소수점 이하의 숫자를 나타낼 수 없습니다. \n",
        "* float은 소수점 이하의 숫자를 나타낼 수 있습니다. \n",
        " \n",
        "        int_sample = 1\n",
        "        int_test = 2\n",
        "        int_minus = -3\n",
        "        float_sample = 1.0\n",
        "        float_test = 2.\n",
        "        float_minus = -3.5\n",
        "\n",
        "그 외에, 숫자의 단위 수를 높여 0을 늘릴 때 e는 유용합니다.\n",
        "\n",
        "예를 들어 \n",
        "\n",
        "        float_e = 3.5e3는 3.5 X 1,000을 의미합니다.\n",
        "\n",
        "\n",
        "\n",
        "## 연습\n",
        "\n",
        "\n",
        "* float 3.5를 int(3.5)로 하여 3이 나오는지 확인해 봅니다.\n",
        "* int 3을 float(3)으로 하여 3.0이 나오는지 확인해 봅니다.\n",
        "* int(3.5) + float(3)의 답이 얼마가 나오는지 확인해 봅니다.\n",
        "* str(3) + str(3.5)를 더해 봅니다.\n",
        "\n",
        "\n",
        "##주의\n",
        "* 참고로 Input() 메소드로 입력되는 number는 string으로 인식됩니다. \n",
        "* 따라서 입력된 숫자를 숫자로 사용하려면 int(입력된 숫자)로 바꾸어 주어야 합니다. \n",
        "\n",
        "* 아래의 예를 봅니다.\n",
        "\n",
        "        input_number = input()\n",
        "        my_number = int(input_number)\n",
        "        # 이렇게 바꾸면 my_number의 값이 string이 아니라 integer가 됨 \n",
        "        # 또는 처음부터 아래와 같이 integer로 인식하게 하는 것도 가능\n",
        "        a_number = int(input())\n",
        "\n",
        "\n",
        "\n",
        "\n",
        "##코딩 부분"
      ]
    },
    {
      "cell_type": "code",
      "metadata": {
        "id": "tZ5e6165jTDo",
        "colab_type": "code",
        "outputId": "272ccda6-3223-4260-9902-7e48ed87ef78",
        "colab": {
          "base_uri": "https://localhost:8080/",
          "height": 90
        }
      },
      "source": [
        "test1 = int(3.5)\n",
        "test2 = float(3)\n",
        "test3 = test1 + test2\n",
        "test4 = str(3) +str(3.5)\n",
        "\n",
        "print (test1)\n",
        "print (test2)\n",
        "print (test3)\n",
        "print (test4)"
      ],
      "execution_count": 33,
      "outputs": [
        {
          "output_type": "stream",
          "text": [
            "3\n",
            "3.0\n",
            "6.0\n",
            "33.5\n"
          ],
          "name": "stdout"
        }
      ]
    },
    {
      "cell_type": "markdown",
      "metadata": {
        "id": "zB8uZIP_jVfP",
        "colab_type": "text"
      },
      "source": [
        "####Video\n",
        "https://youtu.be/geZRO3wWDRg"
      ]
    },
    {
      "cell_type": "markdown",
      "metadata": {
        "id": "lJT9Uz1mjdyD",
        "colab_type": "text"
      },
      "source": [
        "##추가 연습 \n",
        "\n",
        "* 변수 gas_liter에 integer 5.5의 값을 줍니다. (구매할 휘발유의 리터량)\n",
        "* price_per_liter 변수를 만들고 3의 값을 줍니다. (휘발유 리터 당 3달러)\n",
        "* 변수 sum_price를 생성하고 구매할 gas의 총 가격을 계산하여 할당합니다. (총 구매 액수)\n",
        "* print 문을 사용하여 sum_price 변수의 integer값을 인쇄합니다.\n",
        "* 같은 값을 float 값으로 인쇄합니다.\n"
      ]
    },
    {
      "cell_type": "code",
      "metadata": {
        "id": "JfWKaSfUji-5",
        "colab_type": "code",
        "outputId": "06918b16-42fd-43c6-c157-b4841a1d3133",
        "colab": {
          "base_uri": "https://localhost:8080/",
          "height": 54
        }
      },
      "source": [
        "gas_liter =5.5\n",
        "price_per_liter = 3\n",
        "sum_price = gas_liter * price_per_liter\n",
        "print (int(sum_price))\n",
        "print (float(sum_price))"
      ],
      "execution_count": 34,
      "outputs": [
        {
          "output_type": "stream",
          "text": [
            "16\n",
            "16.5\n"
          ],
          "name": "stdout"
        }
      ]
    },
    {
      "cell_type": "markdown",
      "metadata": {
        "id": "MVxS8t7Ljng4",
        "colab_type": "text"
      },
      "source": [
        "####Extra Practice\n",
        "\n",
        "\n",
        "(1) \n",
        "* 변수 apple_count 에 정수 10 을 대입하세요.\n",
        "* 변수 price_apple 를 만들고, 3000을 대입하세요.\n",
        "* 변수 sum_price 를 만들고, 구매 할 사과의 총 가격을 계산하여 대입하세요.\n",
        "* 변수 sum_price 를 print 문을 사용하여 출력하세요."
      ]
    },
    {
      "cell_type": "code",
      "metadata": {
        "id": "OPhzhaYPjq2x",
        "colab_type": "code",
        "outputId": "124de281-ccab-4efb-f494-50b00e1c4dd2",
        "colab": {
          "base_uri": "https://localhost:8080/",
          "height": 35
        }
      },
      "source": [
        "apple_count=10\n",
        "price_apple = 3000\n",
        "sum_price = apple_count * price_apple\n",
        "print (sum_price)"
      ],
      "execution_count": 35,
      "outputs": [
        {
          "output_type": "stream",
          "text": [
            "30000\n"
          ],
          "name": "stdout"
        }
      ]
    },
    {
      "cell_type": "markdown",
      "metadata": {
        "id": "DW2H6G0CjutT",
        "colab_type": "text"
      },
      "source": [
        "2) \n",
        "* (1)의 결과는 정수로 나온다.\n",
        "* 하지만 사과를 반쪽을 살 수 있다고 가정해봅니다.\n",
        "* 변수 apple_count 에 실수 5.5를 대입하세요.\n",
        "* 변수 price_apple 를 만들고, 3000을 대입하세요.\n",
        "* 변수 sum_price 를 만들고, 구매 할 사과의 총 가격을 계산하여 대입하세요.\n",
        "* 변수 sum_price 를 print 문을 사용하여 출력하세요.\n"
      ]
    },
    {
      "cell_type": "code",
      "metadata": {
        "id": "J9loTgr3jyGF",
        "colab_type": "code",
        "outputId": "c2832ea6-ba2a-4c33-908b-78d80a71eccb",
        "colab": {
          "base_uri": "https://localhost:8080/",
          "height": 35
        }
      },
      "source": [
        "apple_count=5.5\n",
        "price_apple = 3000\n",
        "sum_price = apple_count * price_apple\n",
        "print (sum_price)"
      ],
      "execution_count": 36,
      "outputs": [
        {
          "output_type": "stream",
          "text": [
            "16500.0\n"
          ],
          "name": "stdout"
        }
      ]
    },
    {
      "cell_type": "markdown",
      "metadata": {
        "id": "3lYZpPyvj3Wr",
        "colab_type": "text"
      },
      "source": [
        "#TASK 08    -    Boolean Operators\n",
        "\n",
        "\n",
        "##학습 내용\n",
        "* 데이터를 True 및 False로 표현해야 하는 경우가 있습니다.\n",
        "* 이는 string, numbers에 이어서 세번째로 배울 데이터 타입입니다.\n",
        "\n",
        "\n",
        "##문법\n",
        "\n",
        "         a >  b     a는 b보다 큼                   \n",
        "         a < b      a는 b보다 작음\n",
        "         a == b     a와 b은 같다                   \n",
        "         a != b    a와 b는 같지 않음\n",
        "         a <= b     a는 b보다 작거나 같음      \n",
        "         a >= b     a는 b보다 크거나 같음\n",
        "\n",
        "\n",
        " \n",
        "##설명\n",
        "* Boolean은 True / False로 나오나 숫자 값을 가집니다.\n",
        "* True 는 결과값이 참일 때 반환된다. (True의 값은 1입니다.)\n",
        "* False 는 결과값이 거짓일 때 반환된다. (False 값은 0입니다.)\n",
        "* 다음 연산자를 알아야합니다. (아래는 True가 되는 내용입니다.)\n",
        "\n",
        "    \t3 > 2       (3은 2보다 큼)\n",
        "    \t1 <2        (1이 2보다 작음)\n",
        "    \t1 == 1      (1과 1은 같다 )\n",
        "    \t1 ! = 2     (1과 2가 같지 않음)\n",
        "    \t2 <= 2      (2는 2보다 작거나 같음)\n",
        "    \t2 >= 2      (2는 2보다 크거나 같음)\n",
        "\n",
        "\n",
        "## 연습\n",
        "\n",
        "\n",
        "* 아래와 같이 정하여 각각의 연산자를 비교하고 그 값을 확인해 봅니다.\n",
        "\n",
        "        testnumber1 = 1\n",
        "        testnumber2 = 2\n",
        "        testnumber3 = 3\n",
        "\n",
        "\n",
        "\n",
        "##주의\n",
        "* 조건문에는 = 가 아니라 ==를 사용한다는 것을 기억하세요\n",
        "\n",
        "\n",
        "\n",
        "##코딩 부분"
      ]
    },
    {
      "cell_type": "code",
      "metadata": {
        "id": "kJsaEO0Hj89L",
        "colab_type": "code",
        "outputId": "7734ba8b-2234-4deb-d19d-028f8b62a66a",
        "colab": {
          "base_uri": "https://localhost:8080/",
          "height": 126
        }
      },
      "source": [
        "testnumber1 = 1\n",
        "testnumber2 = 2\n",
        "testnumber3 = 3\n",
        "\n",
        "a = testnumber3 > 2\n",
        "b = testnumber1< 2 \n",
        "c = testnumber1 == 1 \n",
        "d = testnumber1 != 2\n",
        "e = testnumber2 <= 2 \n",
        "f = testnumber2 >= 2\n",
        "\n",
        "print (a)\n",
        "print (b)\n",
        "print (c)\n",
        "print (d)\n",
        "print (e)\n",
        "print (f)\n"
      ],
      "execution_count": 37,
      "outputs": [
        {
          "output_type": "stream",
          "text": [
            "True\n",
            "True\n",
            "True\n",
            "True\n",
            "True\n",
            "True\n"
          ],
          "name": "stdout"
        }
      ]
    },
    {
      "cell_type": "markdown",
      "metadata": {
        "id": "BdVCPC0CkDg1",
        "colab_type": "text"
      },
      "source": [
        "####Video\n",
        "https://youtu.be/1pQ_KzzSZH0"
      ]
    },
    {
      "cell_type": "markdown",
      "metadata": {
        "id": "FSK051NqkMjc",
        "colab_type": "text"
      },
      "source": [
        "      #숫자를 바꾸어서 False가 되는 경우도 연습합니다."
      ]
    },
    {
      "cell_type": "markdown",
      "metadata": {
        "id": "CI9dekqUkPY0",
        "colab_type": "text"
      },
      "source": [
        "##추가 연습 \n",
        "\n",
        "* 아직 배우지 않은 것이지만 조건문의 맛의 잠깐 보겠습니다.\n",
        "* 아래를 실행을 해보면 이해가 갈 것입니다.\n",
        "\n",
        " \n",
        "        x = 5 \n",
        "\n",
        "        if x > 5:\n",
        "            print ( \"It is over the limit.\" )\n",
        "        else:\n",
        "            print ( \"It is under the limit.\" )\n",
        "\n",
        "\n",
        "* if-else는 Task 12에서 배우게 될 것이고 여기서는 불리안의 쓰임만 봅니다.\n",
        "\n",
        "\n",
        "        X = 6으로 고쳐서 다시 한 번 해봅니다.\n"
      ]
    },
    {
      "cell_type": "code",
      "metadata": {
        "id": "AGXLuJIkkazw",
        "colab_type": "code",
        "outputId": "e5480a87-04d9-4efa-bd62-566c9393189c",
        "colab": {
          "base_uri": "https://localhost:8080/",
          "height": 35
        }
      },
      "source": [
        "x = 5 \n",
        "if x > 5:\n",
        "   print (\"It is over the limit.\")\n",
        "else:\n",
        "   print (\"It is under the limit.\")"
      ],
      "execution_count": 38,
      "outputs": [
        {
          "output_type": "stream",
          "text": [
            "It is under the limit.\n"
          ],
          "name": "stdout"
        }
      ]
    },
    {
      "cell_type": "markdown",
      "metadata": {
        "id": "fYifUD0ZkhPO",
        "colab_type": "text"
      },
      "source": [
        "    # 6으로 고쳐 넣으면 아래와 같이 출력이 됩니다.\n",
        "    It is over the limit."
      ]
    },
    {
      "cell_type": "markdown",
      "metadata": {
        "id": "tk2sJhewlIdW",
        "colab_type": "text"
      },
      "source": [
        "#TASK 09   -       Variables\n",
        "\n",
        "\n",
        "##학습 내용\n",
        "* 앞에서 우리는 변수(variable)를 접했습니다. \n",
        "* 수학에서는 Y = X + 2와 같은 식을 볼 수 있으며 Y와 X 값은 변하지만 2는 변하지 않습니다. 그래서 X,Y는 변수입니다. 파이썬에서의 변수의 쓰임새를 살펴보겠습니다.\n",
        "\n",
        "\n",
        "##문법\n",
        "\n",
        "        variable = \"string\"     # 문자형 변수\n",
        "        variable = 5            # 숫자형 변수\n",
        "        variable = input()      # 함수형 변수\n",
        "\n",
        "\n",
        " \n",
        "##설명\n",
        "* 수학에서는 Y = X + 2와 같은 것을 볼 수 있으며 Y와 X 값은 변하지만 2는 변하지 않습니다. 그래서 변수와 상수라는 표현을 씁니다.\n",
        "* 우리는 Y와 X를 변수라고 부릅니다.\n",
        "* 변수(variable)에는 값이 있습니다.\n",
        "* 이러한 값은 ＂string’, number (integer 또는 float) 또는 True / False 값 등이 있다고 배웠습니다.\n",
        "* 변수 = ‘string’과 변수 = 숫자 두 가지를 연습해 봅니다.\n",
        "\n",
        "\n",
        "## 연습\n",
        "\n",
        "\n",
        "\n",
        "* 문자형 변수의 조합을 살펴 보겠습니다. Peter가 차를 사려고 합니다. 결정한 것은 없는데 Josh가 새 차 및 중고차의 두 경우에 대비하여 3가지 답을 생각해 놓았는데 이를 섞어서 4가지 답을 만들어 봅니다.\n",
        "* 문자형 변수를 결합해 봅니다.\n",
        "\n",
        "\n",
        "        situation1 = \"It is a new car!\"   \n",
        "        situation2 = \"It is a used car.\"\n",
        "        comment1 = \"Too expensive!!\"\n",
        "        comment2 = \"It is a good deal!\"\n",
        "        comment3 = \"It can give you headaches!\"\n",
        "\n",
        "\n",
        "\n",
        "##코딩 부분"
      ]
    },
    {
      "cell_type": "code",
      "metadata": {
        "id": "QEjwPKFslT4t",
        "colab_type": "code",
        "outputId": "b4e60e5c-411c-482a-bf57-95fbe490252a",
        "colab": {
          "base_uri": "https://localhost:8080/",
          "height": 90
        }
      },
      "source": [
        "situation1 = \"It is a new car!\"   \n",
        "situation2 = \"It is a used car.\"\n",
        "comment1 = \"Too expensive!!\"\n",
        "comment2 = \"It is a good deal!\"\n",
        "comment3 = \"It can give you headaches!\"\n",
        "\n",
        "\n",
        "answer1 = situation1 + \" \" + comment1\n",
        "answer2 = situation1 + \" \" + comment2\n",
        "answer3 = situation2 + \" \" + comment3\n",
        "answer4 = situation2 + \" \" + comment2\n",
        "\n",
        "print (answer1)\n",
        "print (answer2)\n",
        "print (answer3) \n",
        "print (answer4)\n"
      ],
      "execution_count": 39,
      "outputs": [
        {
          "output_type": "stream",
          "text": [
            "It is a new car! Too expensive!!\n",
            "It is a new car! It is a good deal!\n",
            "It is a used car. It can give you headaches!\n",
            "It is a used car. It is a good deal!\n"
          ],
          "name": "stdout"
        }
      ]
    },
    {
      "cell_type": "markdown",
      "metadata": {
        "id": "7bh4mh7elY_a",
        "colab_type": "text"
      },
      "source": [
        "####Video\n",
        "https://youtu.be/9FSnIrQFlv0"
      ]
    },
    {
      "cell_type": "markdown",
      "metadata": {
        "id": "-gB8xVPZledM",
        "colab_type": "text"
      },
      "source": [
        "##추가 연습 \n",
        "\n",
        "* 스트링과 숫자를 합하는 연습을 간단히 해봅니다.\n",
        "* 아래 코드와 설명을 보고 이해를 한 번 해봅니다.\n",
        "\n",
        "\n",
        "        # 우리 강아지 이름은 코코예요\n",
        "        my_dog_name = ‘Coco’ \t\n",
        "        \n",
        "        #코코는 한 주에 4번 산책해요\n",
        "        walk_per_week = 4   \t\n",
        "        \n",
        "        # 한 번 산책 할 때 마다 5곳에 들려요\n",
        "        point_visit = 5  \t\t\t\t\n",
        "        \n",
        "        # 총 들려야 하는 곳은 130 곳이예요\n",
        "        points_to_visit = 130  \t\t\n",
        "        \n",
        "        # 몇 주 걸릴 것인가?\n",
        "        weeks_to_take = float(points_to_visit) / (walk_per_week * point_visit )  \t\n"
      ]
    },
    {
      "cell_type": "code",
      "metadata": {
        "id": "pV51dgekljOO",
        "colab_type": "code",
        "outputId": "5c762bca-1eb6-45dd-a58f-f688e8802bf1",
        "colab": {
          "base_uri": "https://localhost:8080/",
          "height": 35
        }
      },
      "source": [
        "my_dog_name = \"Coco\"\n",
        "walk_per_week = 4\n",
        "point_visit = 5\n",
        "points_to_visit = 130\n",
        "weeks_to_take = float(points_to_visit) / (walk_per_week * point_visit )\n",
        "statement = my_dog_name + \" needs \" + str(weeks_to_take) + \" weeks to visit those \" + str(points_to_visit) + \" places.\"\n",
        "print (statement)\n"
      ],
      "execution_count": 40,
      "outputs": [
        {
          "output_type": "stream",
          "text": [
            "Coco needs 6.5 weeks to visit those 130 places.\n"
          ],
          "name": "stdout"
        }
      ]
    },
    {
      "cell_type": "markdown",
      "metadata": {
        "id": "wPEIj1SXlpgM",
        "colab_type": "text"
      },
      "source": [
        "####Extra Practice\n",
        "\n",
        "(1) 위의 과제와 유사한 것을 하나 더 해봅니다.\n",
        "* \"홍길동\" 학생이 늑대가 나타났다/도망가라 를 이야기 한다면 그냥 이어서 쓰면 되만 프로그램을 만들 때 재난의 종류가\n",
        "* \n",
        "(1) 늑대가 나타났다 (2) 화재가 발생했다 두 종류라면?\n",
        "\n",
        "그리고 그에 따라 대응도 각 두 종류라면 \n",
        "\n",
        "(1) 늑대 잡아라 / 도망가라 (2) 불을 끄라/ 도망가라\n",
        "\n",
        "이를 만들어 봅니다\n",
        "\n",
        "*아래 연습에서 우리는\n",
        "\n",
        "\"Here comes a wolf\"  \"Catch him!\" \"Run!\"\n",
        "\n",
        "\"Fire!\" \"Quench it!\" \"Run\" 을 가지고 4개의 재난 안내 방송 문장을 만들어 보겠습니다.\n"
      ]
    },
    {
      "cell_type": "code",
      "metadata": {
        "id": "A_IMslLglube",
        "colab_type": "code",
        "colab": {
          "base_uri": "https://localhost:8080/",
          "height": 90
        },
        "outputId": "a9f88faf-ec60-4a88-c0b0-3b64f2f35d8d"
      },
      "source": [
        "situation1 = 'Here comes a wolf.'\n",
        "situation2 = \"Fire!\"\n",
        "measure1 = 'Catch him!'\n",
        "measure2 = \"Run!\"\n",
        "measure3 = \"Quench it!\"\n",
        "broadcast1 = situation1 + measure1\n",
        "broadcast2 = situation1 + measure2\n",
        "broadcast3 = situation2 + measure3\n",
        "broadcast4 = situation2 + measure2\n",
        "print (broadcast1)\n",
        "print (broadcast2)\n",
        "print (broadcast3) \n",
        "print (broadcast4)"
      ],
      "execution_count": 41,
      "outputs": [
        {
          "output_type": "stream",
          "text": [
            "Here comes a wolf.Catch him!\n",
            "Here comes a wolf.Run!\n",
            "Fire!Quench it!\n",
            "Fire!Run!\n"
          ],
          "name": "stdout"
        }
      ]
    },
    {
      "cell_type": "markdown",
      "metadata": {
        "id": "U7P1QtN3lw3A",
        "colab_type": "text"
      },
      "source": [
        "(2)  위와 비슷하게\n",
        "* 공부해야 할 책은 200페이지인데\n",
        "* 하루 공부량은 15페이지일 때 \n",
        "* 다 공부하는데 며칠이 걸릴지를 프린트하게 해봅니다. "
      ]
    },
    {
      "cell_type": "code",
      "metadata": {
        "id": "RqpHkLhqlyJS",
        "colab_type": "code",
        "outputId": "7f4ab49f-6516-4ecb-938e-26a3bc169eed",
        "colab": {
          "base_uri": "https://localhost:8080/",
          "height": 35
        }
      },
      "source": [
        "my_book_page = 200\n",
        "study_per_day = 15\n",
        "days_to_take = (my_book_page) / (study_per_day )\n",
        "statement = \"It takes \" + str((days_to_take)) + \" days to finish studying my book\" \n",
        "print (statement)"
      ],
      "execution_count": 42,
      "outputs": [
        {
          "output_type": "stream",
          "text": [
            "It takes 13.333333333333334 days to finish studying my book\n"
          ],
          "name": "stdout"
        }
      ]
    },
    {
      "cell_type": "markdown",
      "metadata": {
        "id": "FpyzYgdtl5tv",
        "colab_type": "text"
      },
      "source": [
        "#TASK 10    -    Updating Variables\n",
        "\n",
        "\n",
        "##학습 내용\n",
        "* 변수는 업데이트하여 변경할 수 있습니다. \n",
        "* 마지막으로 대입되는 것이 최종 값이 됩니다.\n",
        "\n",
        "\n",
        "##문법\n",
        "\n",
        "        x = 1\n",
        "        x = x + 1 \n",
        "        print (x)  # x = 2로 갱신된다.\n",
        "\n",
        " \n",
        "##설명\n",
        "* 변수는 업데이트하여 변경할 수 있습니다.\n",
        "* 예를 들어 x = 1이라 정의하였는데 아래에 x = x + 1이라 재 정의하면 x는 2가 됩니다.\n",
        "* 이와 같이 프로그램에서는 가장 아래 것 (또는 가장 최신 것)이 값을 갱신합니다.\n",
        "* 마찬가지로 기름통에 10리터가 있는데\n",
        "* 변수 = 남은 기름 양으로 한다면\n",
        "* 쓸 때 마다 그 값은 줄어드는 것이 계속 업데이트 되어져야 할 것입니다.\n",
        "* 변수는 숫자형 변수였다가 스트링형 변수로도 변할 수 있습니다.\n",
        "\n",
        "## 연습\n",
        "\n",
        "\n",
        "* 변수 gas_tank에 10의 값을 대입합니다. (가스 통에 10리터 있다고 가정)\n",
        "* remaining gasoline(사용 후 남은 양)을 인쇄합니다.\n",
        "* 변수 gas_used (사용된 휘발유)에 5를 대입합니다.\n",
        "* 변수 gas_tank에서 gas_used를 빼면 탱크에 남아있는 휘발유 값이 나오겠죠.\n",
        "* 남은 양을 인쇄합니다.\n",
        "\n",
        "\n",
        "\n",
        "##주의\n",
        "* 갱신된다는 것은 변수의 값이 바뀐다는 것을 의미합니다. \n",
        "\n",
        "\n",
        "\n",
        "##코딩 부분"
      ]
    },
    {
      "cell_type": "code",
      "metadata": {
        "id": "qIGbsYBil8rZ",
        "colab_type": "code",
        "outputId": "29e8402f-1c18-4e14-c91a-b7365f7da7a8",
        "colab": {
          "base_uri": "https://localhost:8080/",
          "height": 54
        }
      },
      "source": [
        "gas_tank = 10\n",
        "\n",
        "print ( \"remaining gasoline\" )\n",
        "\n",
        "gas_used = 5\n",
        "\n",
        "gas_tank = gas_tank - gas_used\n",
        "\n",
        "print (gas_tank)\n",
        "\n"
      ],
      "execution_count": 43,
      "outputs": [
        {
          "output_type": "stream",
          "text": [
            "remaining gasoline\n",
            "5\n"
          ],
          "name": "stdout"
        }
      ]
    },
    {
      "cell_type": "markdown",
      "metadata": {
        "id": "B4NOwBWkmCMl",
        "colab_type": "text"
      },
      "source": [
        "####Video\n",
        "https://youtu.be/iWkgc3PMfpg"
      ]
    },
    {
      "cell_type": "markdown",
      "metadata": {
        "id": "YkODoMs6mGRU",
        "colab_type": "text"
      },
      "source": [
        "##추가 연습 \n",
        "\n",
        "* 변수가 숫자였다가 스트링으로 업데이트 될 수도 있습니다.\n",
        "* 변수에 숫자 값을 줍니다.\n",
        "* 그리고 이를 프린트 합니다.\n",
        "* 같은 변수 이름에 스트링 값을 줍니다.\n",
        "* 이를 프린트 해 봅니다.\n"
      ]
    },
    {
      "cell_type": "code",
      "metadata": {
        "id": "ZDRMg5X8mLTI",
        "colab_type": "code",
        "outputId": "72c1d396-b0d4-4f9b-8976-15ab06dae359",
        "colab": {
          "base_uri": "https://localhost:8080/",
          "height": 54
        }
      },
      "source": [
        "my_var = 1\n",
        "print (my_var)\n",
        "my_var = \"Hello\"\n",
        "print (my_var)"
      ],
      "execution_count": 44,
      "outputs": [
        {
          "output_type": "stream",
          "text": [
            "1\n",
            "Hello\n"
          ],
          "name": "stdout"
        }
      ]
    },
    {
      "cell_type": "markdown",
      "metadata": {
        "id": "b-cTJ48emlh4",
        "colab_type": "text"
      },
      "source": [
        "####Extra Practice\n",
        "\n",
        "(1) 다음을 더해 봅니다.\n",
        "* sum = 0이라고 하고\n",
        "* x = 1\n",
        "* sum = sum + x로 업데이트 합니다.\n",
        "* 다시 그 아래는  x = x + 1이라고 업데이트를 하고 \n",
        "* sum과 x를  그런 식으로 하고 x=10이 될 때까지 해봅니다.   \n",
        "* 이는 추후 loop를 이해하는데 도움이 될 것입니다.\n"
      ]
    },
    {
      "cell_type": "code",
      "metadata": {
        "id": "d3mLBT3Mmp2e",
        "colab_type": "code",
        "colab": {
          "base_uri": "https://localhost:8080/",
          "height": 35
        },
        "outputId": "0ae9f555-995a-4b6e-e9d1-5b864d3e3da0"
      },
      "source": [
        "sum = 0\n",
        "x= 1\n",
        "\n",
        "sum = sum+x\n",
        "x= x+1\n",
        "\n",
        "sum = sum + x\n",
        "x= x + 1\n",
        "\n",
        "sum = sum+x\n",
        "x= x + 1\n",
        "\n",
        "sum = sum+x\n",
        "x= x+1\n",
        "\n",
        "sum = sum+x\n",
        "x= x+1\n",
        "\n",
        "sum = sum + x\n",
        "x= x + 1\n",
        "\n",
        "sum = sum+x\n",
        "x= x+1\n",
        "\n",
        "sum = sum+x\n",
        "x= x+1\n",
        "\n",
        "sum = sum + x\n",
        "x= x + 1\n",
        "\n",
        "sum = sum + x\n",
        "x= x + 1\n",
        "\n",
        "print (sum)"
      ],
      "execution_count": 45,
      "outputs": [
        {
          "output_type": "stream",
          "text": [
            "55\n"
          ],
          "name": "stdout"
        }
      ]
    },
    {
      "cell_type": "markdown",
      "metadata": {
        "id": "j3Ghe8Idmuic",
        "colab_type": "text"
      },
      "source": [
        "(2)     위와 비슷하게\n",
        "* variable을 숫자로 주고 프린트를 해보고\n",
        "* 다시 이를 string으로 업데이트 해보고 프린트해보고\n",
        "* 이어서 True의 값을 주고 업데이트하고 프린트 해보세요."
      ]
    },
    {
      "cell_type": "code",
      "metadata": {
        "id": "E3wXz1kJm1R7",
        "colab_type": "code",
        "outputId": "83f5e636-a71f-4b42-88bb-a90321bcdfe7",
        "colab": {
          "base_uri": "https://localhost:8080/",
          "height": 72
        }
      },
      "source": [
        "a = 3\n",
        "print (a)\n",
        "a = \"Hello\"\n",
        "print (a)\n",
        "a = True\n",
        "print (a)"
      ],
      "execution_count": 46,
      "outputs": [
        {
          "output_type": "stream",
          "text": [
            "3\n",
            "Hello\n",
            "True\n"
          ],
          "name": "stdout"
        }
      ]
    },
    {
      "cell_type": "markdown",
      "metadata": {
        "id": "COnEq0ehl-wO",
        "colab_type": "text"
      },
      "source": [
        "(3) \n",
        "\n",
        "        a = 1, b = 2 일 때 \n",
        "        a = b = 3 이란 라인을 입력하여\n",
        "        a, b 모두 프린트 해보세요."
      ]
    },
    {
      "cell_type": "code",
      "metadata": {
        "id": "IeG1GKH5m8vw",
        "colab_type": "code",
        "outputId": "e16c36f2-9563-4fcc-bd3d-75fa866cf043",
        "colab": {
          "base_uri": "https://localhost:8080/",
          "height": 54
        }
      },
      "source": [
        "a = 1\n",
        "b = 2\n",
        "a = b = 3 \n",
        "print (a)\n",
        "print (b)"
      ],
      "execution_count": 47,
      "outputs": [
        {
          "output_type": "stream",
          "text": [
            "3\n",
            "3\n"
          ],
          "name": "stdout"
        }
      ]
    },
    {
      "cell_type": "markdown",
      "metadata": {
        "id": "eWhHVBhJnQt9",
        "colab_type": "text"
      },
      "source": [
        "#TASK 11      - String Format\n",
        "\n",
        "\n",
        "##학습 내용\n",
        "* string과 number를 섞어서 출력할 때 우리는 숫자를 스트링화 시켜서 문장을 만들었습니다. \n",
        "* 이제 이를 삽입하여 쓸 수 있는 format 법을 배웁니다.\n",
        "\n",
        "\n",
        "##문법\n",
        "* 문장에 {}를 넣고 인수의 위치를 지정해준 후 .format()에 데이터를 넣습니다.\n",
        "\n",
        "        print  (\"I am {0}, and I love {1} \".format (\" Peter \",\" BMW\")\n",
        "        #  I am Peter, and I love BMW\n",
        "\n",
        "\n",
        " \n",
        "##설명\n",
        "* Python 3.x 버전에서는 string 메소드 format() 을 사용합니다.\n",
        "* {0}, {1}, {2}, {3}과 같은 인수의 위치를 제공합니다.\n",
        "* 연습을 하다 보면 Python 2.x 버전에서 유사하게 사용한 것을 보실 수 있는데, 이는 추가 연습에서 다시 한 번 보시겠습니다. \n",
        "\n",
        "\n",
        "## 연습\n",
        "\n",
        "\n",
        "* 아래와 같이 자신의 이름을 넣고 연습해 봅니다.\n",
        "\n",
        "\n",
        "        name = '홍길동'\n",
        "        age  = 23 \n",
        "        \n",
        "        print (\"제 이름은  {} 입니다.\".format(name))\n",
        "        print (\"저는  {}세 입니다.\".format(age))\n",
        "\n",
        "\n",
        "##주의\n",
        "* 위의 경우는 {}이 한 개이나 여러 개의 경우 중괄호 {} 안에 0,1 등으로 정해줘야 합니다.\n",
        "\n",
        "\n",
        "\n",
        "\n",
        "##코딩 부분"
      ]
    },
    {
      "cell_type": "code",
      "metadata": {
        "id": "6e4i_KK-nVlf",
        "colab_type": "code",
        "outputId": "35905f33-87e4-4187-d2de-833bb79cfa76",
        "colab": {
          "base_uri": "https://localhost:8080/",
          "height": 54
        }
      },
      "source": [
        "name = \"홍길동\"\n",
        "age  = 23 \n",
        "\n",
        "print (\"제 이름은  {} 입니다.\".format(name))\n",
        "print (\"저는  {}세 입니다.\" .format(age))"
      ],
      "execution_count": 48,
      "outputs": [
        {
          "output_type": "stream",
          "text": [
            "제 이름은  홍길동 입니다.\n",
            "저는  23세 입니다.\n"
          ],
          "name": "stdout"
        }
      ]
    },
    {
      "cell_type": "markdown",
      "metadata": {
        "id": "L2HdDXgZniMF",
        "colab_type": "text"
      },
      "source": [
        "####Video\n",
        "https://youtu.be/wcQcfZkGFAE"
      ]
    },
    {
      "cell_type": "markdown",
      "metadata": {
        "id": "pEOcuS_poDCk",
        "colab_type": "text"
      },
      "source": [
        "##추가 연습 \n",
        "\n",
        "* Python 2.x 버전 문법으로 위의 연습을 다시 해봅니다.\n",
        "* %s 는 string 변수를 대체합니다.\n",
        "* %d 는 integer 변수를 대체합니다.\n",
        "* 위와 같은 샘플을 Python 2 문법으로  해볼 수 있으나 이는 Python 2 노트를 펴야 하므로 생략하겠습니다.\n",
        "아래 내용만 참조 하세요.\n",
        "\n",
        "    \tname = \"홍길동\"\n",
        "    \tage = 23 \n",
        "    \tprint ( \"제 이름은  %s 입니다.\"  % (name))\n",
        "    \tprint ( \"저는  %d 세 입니다.\" % (age))\n",
        "\n",
        "\n",
        "\n",
        "* 이어서 Python 3.x 버전 문법으로 1개의 {} 가 아닌 2개인 것으로 해봅니다.\n",
        "\n",
        "\n",
        "        print('I want {0} or {1}'.format('BMW', 'Mercedes'))\n",
        "        print('I want {1} or {0}'.format('BMW', 'Mercedes'))\n",
        "\n"
      ]
    },
    {
      "cell_type": "code",
      "metadata": {
        "id": "M4uVLRWUoG3q",
        "colab_type": "code",
        "outputId": "25b79a45-d4a9-4ab5-8ec2-07427eb9f6e6",
        "colab": {
          "base_uri": "https://localhost:8080/",
          "height": 54
        }
      },
      "source": [
        "print('I want {0} or {1}'.format('BMW', 'Mercedes'))\n",
        "print('I want {1} or {0}'.format('BMW', 'Mercedes'))"
      ],
      "execution_count": 49,
      "outputs": [
        {
          "output_type": "stream",
          "text": [
            "I want BMW or Mercedes\n",
            "I want Mercedes or BMW\n"
          ],
          "name": "stdout"
        }
      ]
    },
    {
      "cell_type": "markdown",
      "metadata": {
        "id": "auxnJp-uprzT",
        "colab_type": "text"
      },
      "source": [
        "####Extra Practice\n",
        "\n",
        "(1) 파이썬 2.X 버전으로 아래 문장을 출력하는 것을 한번 해 보세요\n",
        "\n",
        "        place_1 = “party” \n",
        "        place_2 = “library”\n",
        "        “We should not have come to this %s, and we are supposed to be at the %s.” %(place_1, place_2) 방식으로 합니다.\n",
        "\n",
        "* Python 2 노트북으로 바꾸어 연습해 보세요."
      ]
    },
    {
      "cell_type": "markdown",
      "metadata": {
        "id": "vHrl524tqAsg",
        "colab_type": "text"
      },
      "source": [
        "      place_1 = \"party\"\n",
        "      place_2 = \"library\"\n",
        "      print \"We should not have come to this %s, and we are supposed to be at the %s.\" %(place_1, place_2)\n"
      ]
    },
    {
      "cell_type": "markdown",
      "metadata": {
        "id": "C44ZvA8VqGHr",
        "colab_type": "text"
      },
      "source": [
        "(2) 인자가 3개 들어가는 것으로 해봅니다."
      ]
    },
    {
      "cell_type": "code",
      "metadata": {
        "id": "qTKCVUayp8Kp",
        "colab_type": "code",
        "outputId": "de996e6b-67bb-4b39-c3c4-d2e3d5302881",
        "colab": {
          "base_uri": "https://localhost:8080/",
          "height": 35
        }
      },
      "source": [
        "print('My name is {0} and I am a {1} year old {2}'.format('Joshua', 55, 'teacher'))"
      ],
      "execution_count": 50,
      "outputs": [
        {
          "output_type": "stream",
          "text": [
            "My name is Joshua and I am a 55 year old teacher\n"
          ],
          "name": "stdout"
        }
      ]
    },
    {
      "cell_type": "markdown",
      "metadata": {
        "id": "XUagFjfgqjym",
        "colab_type": "text"
      },
      "source": [
        "#  TASK 12    -    If문과 Else문\n",
        "\n",
        "\n",
        "\n",
        "##학습 내용\n",
        "* if 문은 조건이 옳다면 다음에 오는 들여 쓰기 한 코드에 따라 무언가를 하라고 지정하는 것입니다.\n",
        "* else문 if 조건이 일치하지 않을 때 다른 작업을 수행하라고 하는 문법입니다.\n",
        "\n",
        "\n",
        "##문법\n",
        "\n",
        "* if - else의 문법은 if문과 그에 종속된 body 그리고 else문과 그에 종속된 body로 구속되어 있다.\n",
        "\n",
        "        if condition:\n",
        "            body\n",
        "        else:\n",
        "            body\n",
        "\n",
        "\n",
        " \n",
        "##설명\n",
        "* if 문은 조건이 옳다면 다음에 오는 들여 쓰기 한 코드에 따라 무언가를 하라고 지정하는 것입니다.\n",
        "* else문은 if 조건이 일치하지 않을 때 다른 작업을 수행하라고 하는 문법입니다.\n",
        "* 예를 들어 자동차가 일정속도 이상을 달릴 경우(if) 경고를 주고\n",
        "* 아닌 경우 (else) 속도를 내라고 하는 명령을 프린트 할 수 있겠습니다.\n",
        "* 또는 그 반대나 다른 조건들을 만들 수도 있습니다.\n",
        "\n",
        "## 연습\n",
        "\n",
        "    \"How fast are you going?\"의 질문을 프린트 합니다.\n",
        "            (깜빡) --> 속도 입력\n",
        "    속도가 50 이하인 경우 \n",
        "            \"Go faster.\"를 프린트하고\n",
        "    아닌 경우 \n",
        "            \"Slow down.\"을 프린트 합니다.\n",
        "\n",
        "\n",
        "\n",
        "##주의\n",
        "* else문을 없앨 경우, else문이 없다고 if문이 프린트가 안되는 것은 아니나 그 경우 자기 조건에 맞지 않는 것은 프린트를 못 합니다.\n",
        "\n",
        "\n",
        "\n",
        "##코딩 부분"
      ]
    },
    {
      "cell_type": "code",
      "metadata": {
        "id": "U9apr6uVqn2W",
        "colab_type": "code",
        "colab": {
          "base_uri": "https://localhost:8080/",
          "height": 54
        },
        "outputId": "92d2bf97-bd08-47cf-abd0-130c28bced5d"
      },
      "source": [
        "my_speed = input(\"How fast are you going?\")\n",
        "int_speed = int(my_speed)\n",
        "\n",
        "if int_speed <= 50:\n",
        "   print (\"Go faster\")\n",
        "\n",
        "else:\n",
        "  print (\"Slow down.\")\n"
      ],
      "execution_count": 51,
      "outputs": [
        {
          "output_type": "stream",
          "text": [
            "How fast are you going?100\n",
            "Slow down.\n"
          ],
          "name": "stdout"
        }
      ]
    },
    {
      "cell_type": "markdown",
      "metadata": {
        "id": "MxANUrqqquFr",
        "colab_type": "text"
      },
      "source": [
        "####Video\n",
        "https://youtu.be/yyOtXzhtzEs"
      ]
    },
    {
      "cell_type": "markdown",
      "metadata": {
        "id": "Qa5rri64qzJi",
        "colab_type": "text"
      },
      "source": [
        "##추가 연습 \n",
        "\n",
        "* 운전을 하는데\n",
        "            앞에 신호등에 빨간 불이면  1을 입력 \n",
        "                     \"Stop the car.\"를 프린트하고\n",
        "            아닌 경우 2를 입력\n",
        "                     \"Go forward.\"을 프린트 합니다."
      ]
    },
    {
      "cell_type": "code",
      "metadata": {
        "id": "hhutqvZ3q4bE",
        "colab_type": "code",
        "outputId": "495f2397-14dd-44d8-87c2-8d9c079197dc",
        "colab": {
          "base_uri": "https://localhost:8080/",
          "height": 72
        }
      },
      "source": [
        "print (\"If the traffic light is red, enter 1. if the traffic light is blue or yellow, enter 2.\")\n",
        "t_code = int(input())\n",
        "\n",
        "if t_code == 1:\n",
        "  print (\"Stop the car.\")\n",
        "else :\n",
        "    print (\"Go forward.\")"
      ],
      "execution_count": 52,
      "outputs": [
        {
          "output_type": "stream",
          "text": [
            "If the traffic light is red, enter 1. if the traffic light is blue or yellow, enter 2.\n",
            "2\n",
            "Go forward.\n"
          ],
          "name": "stdout"
        }
      ]
    },
    {
      "cell_type": "markdown",
      "metadata": {
        "id": "2x-qGcnsq9PV",
        "colab_type": "text"
      },
      "source": [
        "####Extra Practice\n",
        "\n",
        "(1) 쇼핑을 갔는데 \n",
        "            티셔츠가 3000원과 같거나 작으면 \n",
        "                     \"I can buy 2.\"를 프린트하고\n",
        "            아닌 경우 \n",
        "                     \"Next time.\"을 프린트 합니다."
      ]
    },
    {
      "cell_type": "code",
      "metadata": {
        "id": "zgO49F7urEcb",
        "colab_type": "code",
        "outputId": "c4635eac-368a-4c0a-e65c-e6a160564a37",
        "colab": {
          "base_uri": "https://localhost:8080/",
          "height": 72
        }
      },
      "source": [
        "print (\"How much is the T-shirt?\")\n",
        "t_price = input()\n",
        "my_price = int(t_price)\n",
        "\n",
        "if my_price  <= 3000:\n",
        "  print (\"I can buy 2.\")\n",
        "else :\n",
        "    print (\"Next time.\")\n"
      ],
      "execution_count": 53,
      "outputs": [
        {
          "output_type": "stream",
          "text": [
            "How much is the T-shirt?\n",
            "1000\n",
            "I can buy 2.\n"
          ],
          "name": "stdout"
        }
      ]
    },
    {
      "cell_type": "markdown",
      "metadata": {
        "id": "RjHQwOBOrMPR",
        "colab_type": "text"
      },
      "source": [
        "(2)\n",
        "* 똑똑한 자동 판매기가 있다고 가정 해 봅시다.\n",
        "* 기계가 “온도가 얼마입니까?”라고 물으면 온도를 입력합니다.\n",
        "* 냉수가 병 당 500원으로 설정되어 있고 실내 온도가 30도 이상인 경우 냉수 가격은 600원이 된다고 가정을 합시다.\n",
        "\n",
        "        온도가 30보다 크면\n",
        "        냉수는 병 당 600원 입니다.\n",
        "        아닌 경우 병당 500원 입니다.\n"
      ]
    },
    {
      "cell_type": "code",
      "metadata": {
        "id": "80yzFnnIrLR_",
        "colab_type": "code",
        "outputId": "1ff906d1-10ef-4b56-b4e5-8a74c2df079d",
        "colab": {
          "base_uri": "https://localhost:8080/",
          "height": 72
        }
      },
      "source": [
        "print (\"What's the current temperature in C?\")\n",
        "temp = input()\n",
        "\n",
        "temperature = int(temp)\n",
        "\n",
        "if temperature > 30:\n",
        "  print (\"A bottle of cold water is 600 won.\")\n",
        "  \n",
        "else :\n",
        "    print (\"A bottle of cold water is 500 won.\")"
      ],
      "execution_count": 54,
      "outputs": [
        {
          "output_type": "stream",
          "text": [
            "What's the current temperature in C?\n",
            "23\n",
            "A bottle of cold water is 500 won.\n"
          ],
          "name": "stdout"
        }
      ]
    },
    {
      "cell_type": "markdown",
      "metadata": {
        "id": "WlQCLeqDtWE4",
        "colab_type": "text"
      },
      "source": [
        "#TASK 13    -    If문, Elif문 & Else문\n",
        "\n",
        "\n",
        "##학습 내용\n",
        "* if–else가 이 것 아니면 나머지 경우라면 if-elif-else는 다양한 옵션을 줍니다.  \n",
        "* elif은 여러 개가 가능하므로 다양한 조건을 표현할 수 있습니다.\n",
        "\n",
        "\n",
        "\n",
        "##문법\n",
        "\n",
        "* if문 - elif문 - else문은 아래와 같은 구조를 가집니다.\n",
        "\n",
        "            if condition:\n",
        "                body\n",
        "            elif condition:\n",
        "                body\n",
        "            else\n",
        "                body\n",
        "\n",
        "\n",
        " \n",
        "##설명\n",
        "* 앞 과에서 if-else 를 연습하였습니다.\n",
        "* 이 과에서는 같은 예제들을 if –elif—else로 해보겠습니다.\n",
        "* 신호등을 보고 운전하고 있다고 가정 해 보겠습니다.\n",
        "    \n",
        "    \tif 푸른색:\n",
        "       \t\tprint (\"지나가세요\")\n",
        "    \telif 빨간색:\n",
        "       \t\tprint (\"정지하세요.\")\n",
        "    \telse:\n",
        "      \t\tprint (\"서행하세요.\")\n",
        "\n",
        " \n",
        "\n",
        "## 연습\n",
        "* 앞 과에서 한 연습을 살짝 바꾸어 봅니다.\n",
        "\n",
        "      \"How fast are you going?\"의 질문을 프린트 합니다.\n",
        "      (깜빡) --> 속도 입력\n",
        "      속도가 50 이하인 경우   \"You can go faster.\"를 프린트하고\n",
        "      속도가 80이상인 경우 \"Slow down.\"을 프린트 합니다.\n",
        "      둘 다 아닌 경우 (50초과 80미만)는 \"Okay\"를 프린트합니다.\n",
        "\n",
        "\n",
        "##주의\n",
        "* elif은 하나 이상, 여러 개 사용이 가능 합니다.\n",
        "\n",
        "\n",
        "\n",
        "##코딩 부분"
      ]
    },
    {
      "cell_type": "code",
      "metadata": {
        "id": "rH_oGmzztb11",
        "colab_type": "code",
        "colab": {
          "base_uri": "https://localhost:8080/",
          "height": 54
        },
        "outputId": "4a9ee076-1c9d-4e6e-e89f-f79c756cac10"
      },
      "source": [
        "my_speed = input(\"How fast are you going?\")\n",
        "int_speed = int(my_speed)\n",
        "\n",
        "if int_speed <= 50:\n",
        "   print (\"Go faster\")\n",
        "elif int_speed >= 80:\n",
        "   print (\"Slow down.\")\n",
        "else:\n",
        "  print (\"Okay.\")\n"
      ],
      "execution_count": 55,
      "outputs": [
        {
          "output_type": "stream",
          "text": [
            "How fast are you going?30\n",
            "Go faster\n"
          ],
          "name": "stdout"
        }
      ]
    },
    {
      "cell_type": "markdown",
      "metadata": {
        "id": "LB8aJOLJtg20",
        "colab_type": "text"
      },
      "source": [
        "####Video\n",
        "https://youtu.be/I-5mwrKnJ0I"
      ]
    },
    {
      "cell_type": "markdown",
      "metadata": {
        "id": "eFgR7Dpzt-Se",
        "colab_type": "text"
      },
      "source": [
        "##추가 연습 \n",
        "\n",
        "* 앞 과에서는 신호등이 빨간 색이면 멈추고 아니면 간다는 연습을 했는데 이번엔 빨간색이면 멈추고, 노란색이면 속도를 줄이고, 아니면 (녹색) 앞으로 간다를 해보겠습니다. "
      ]
    },
    {
      "cell_type": "code",
      "metadata": {
        "id": "hbF21Prwt3D5",
        "colab_type": "code",
        "outputId": "4941adb4-3b51-4538-cf86-85fce7e8b3d4",
        "colab": {
          "base_uri": "https://localhost:8080/",
          "height": 72
        }
      },
      "source": [
        "print (\"If the traffic light is red, enter 1, if the traffic light is yellow, enter 2, and if the traffic light is green, enter 3.\")\n",
        "t_code = int(input())\n",
        "\n",
        "if t_code == 1:\n",
        "  print (\"Stop the car.\")\n",
        "elif t_code == 2:\n",
        "  print (\"Slow down.\")\n",
        "else :\n",
        "    print (\"Go forward.\")"
      ],
      "execution_count": 56,
      "outputs": [
        {
          "output_type": "stream",
          "text": [
            "If the traffic light is red, enter 1, if the traffic light is yellow, enter 2, and if the traffic light is green, enter 3.\n",
            "1\n",
            "Stop the car.\n"
          ],
          "name": "stdout"
        }
      ]
    },
    {
      "cell_type": "markdown",
      "metadata": {
        "id": "BWxCxJJZCWsd",
        "colab_type": "text"
      },
      "source": [
        "\n",
        "####Extra Practice\n",
        "\n",
        "(1) 쇼핑을 갔는데 \n",
        "\n",
        "            티셔츠가 3000원과 같거나 작으면 \n",
        "                    \"I can buy 2.\"를 프린트하고\n",
        "            티셔츠가 5000원보다 크면 \n",
        "                     \"Next time.\"을 프린트하고\n",
        "            아닌 경우 (3000초과 5000이하)\n",
        "                     \"Let me have one.\"을 프린트 합니다."
      ]
    },
    {
      "cell_type": "code",
      "metadata": {
        "id": "fiH7FvppCzD5",
        "colab_type": "code",
        "outputId": "c366cc68-79bf-4160-fabe-52b13583ff19",
        "colab": {
          "base_uri": "https://localhost:8080/",
          "height": 72
        }
      },
      "source": [
        "print (\"How much is the T-shirt?\")\n",
        "t_price = input()\n",
        "my_price = int(t_price)\n",
        "\n",
        "if my_price  <= 3000:\n",
        "  print (\"I can buy 2.\")\n",
        "elif my_price > 5000:\n",
        "    print (\"Next time.\")\n",
        "else:\n",
        "    print (\"Let me have one.\")"
      ],
      "execution_count": 57,
      "outputs": [
        {
          "output_type": "stream",
          "text": [
            "How much is the T-shirt?\n",
            "2000\n",
            "I can buy 2.\n"
          ],
          "name": "stdout"
        }
      ]
    },
    {
      "cell_type": "markdown",
      "metadata": {
        "id": "dFhMfNfuDJHI",
        "colab_type": "text"
      },
      "source": [
        "(2) 위에 설명에서 나온 내용처럼 신호등을 보고 운전하고 있다고 가정 해 보겠습니다.\n",
        "    \n",
        "    \tif 푸른색:\n",
        "       \t\tprint (\"지나가세요.\")\n",
        "    \telif 빨간색:\n",
        "       \t\tprint (\"정지하세요.\")\n",
        "    \telse:\n",
        "      \t\tprint (\"서행하세요.\")\n",
        "\n",
        "파란색, 빨간색, 노란색을 넣어서 해봅니다.\n"
      ]
    },
    {
      "cell_type": "code",
      "metadata": {
        "id": "AcMGEy_ADLII",
        "colab_type": "code",
        "outputId": "5823e843-7b0c-4151-cc4b-c7d47a8f3f13",
        "colab": {
          "base_uri": "https://localhost:8080/",
          "height": 35
        }
      },
      "source": [
        "traffic_light = \"green\"\n",
        "\n",
        "if traffic_light  == \"green\": \n",
        "  print (\"지나가세요.\")\n",
        "elif traffic_light  == \"red\": \n",
        "    print (\"정지하세요.\")\n",
        "else:\n",
        "    print (\"서행하세요.\")"
      ],
      "execution_count": 58,
      "outputs": [
        {
          "output_type": "stream",
          "text": [
            "지나가세요.\n"
          ],
          "name": "stdout"
        }
      ]
    },
    {
      "cell_type": "markdown",
      "metadata": {
        "id": "78Jgu7GlDO9b",
        "colab_type": "text"
      },
      "source": [
        "#  TASK 14       -      List \n",
        "\n",
        "\n",
        "\n",
        "##학습 내용\n",
        "* 리스트는 대괄호 ‘[ ]’로 표현되며 데이터를 하나의 변수로 관리할 때 사용됩니다. \n",
        "* 변경 가능하고, 중복도 가능하여 일반적인 목록으로 사용된다.  \n",
        "\n",
        "\n",
        "##문법\n",
        "* 리스트는 아래와 같은 구조를 가집니다.\n",
        "\n",
        "         my_list = [1, 2, 3, \"a\", \"b\", \"c\"]\n",
        "\n",
        " \n",
        "##설명\n",
        "* \"list\" 는 말 그대로 목록입니다.\n",
        "* 집합과 비슷한데 연속적으로 놓여있는 리스트의 아이템들을 포함합니다.\n",
        "* 대괄호 [Square Bracket]로 표현되며 데이터를 하나의 변수로 관리할 때 사용됩니다.\n",
        "* 리스트는 또한 다른 리스트를 자신의 아이템으로 가질 수 있습니다.\n",
        "\n",
        "  즉 리스트 안에 리스트가 올 수 있다는 것입니다.\n",
        "\n",
        "* 리스트의 아이템은 교체가 가능하여 교체가 안 되는 tupple과 비교되며, 아이템 중복이 가능하여 중복이 안 되는 set과 구별됩니다. \n",
        " \n",
        "\n",
        "## 연습\n",
        "* 1,2,3 의 단순한 숫자를 아이템으로 하는 리스트를 만들어 봅니다.\n",
        "\n",
        "        my_list1 = [1, 2, 3] \n",
        "\n",
        "\n",
        "* 그리고 string으로 된 아이템들을 만들어 봅니다.\n",
        "\n",
        "        my_list2 = [\"KIA\", \"Chevrolet\", \"Ford\"]\n",
        "\n",
        "* 이 들을 프린트 해 봅니다.\n",
        "\n",
        "\n",
        "##주의\n",
        "* 리스트는 리스트 안에 숫자, 문자를 같이 넣을 수 있고 다른 리스트를 넣을 수 있습니다.\n",
        "\n",
        "\n",
        "\n",
        "##코딩 부분"
      ]
    },
    {
      "cell_type": "code",
      "metadata": {
        "id": "pj2-IqRpDXPf",
        "colab_type": "code",
        "outputId": "d82cf172-c792-45f2-bb84-903aa35e790e",
        "colab": {
          "base_uri": "https://localhost:8080/",
          "height": 54
        }
      },
      "source": [
        "my_list1 = [1, 2, 3]\n",
        "my_list2 = [\"KIA\", \"Chevrolet\", \"Ford\"]\n",
        "print (my_list1)\n",
        "print (my_list2)"
      ],
      "execution_count": 59,
      "outputs": [
        {
          "output_type": "stream",
          "text": [
            "[1, 2, 3]\n",
            "['KIA', 'Chevrolet', 'Ford']\n"
          ],
          "name": "stdout"
        }
      ]
    },
    {
      "cell_type": "markdown",
      "metadata": {
        "id": "gLMIJM_xDZoJ",
        "colab_type": "text"
      },
      "source": [
        "####Video\n",
        "[video](https://youtu.be/DjqoQH4vLlg)"
      ]
    },
    {
      "cell_type": "markdown",
      "metadata": {
        "id": "B4m62jXwDk1m",
        "colab_type": "text"
      },
      "source": [
        "##추가 연습 \n",
        "\n",
        "        my_list3 = [1, 2, 3, [\"KIA\", \"Chevrolet\", \"Ford\"]]\n",
        "\n",
        "\n",
        "* 이번에는 1,2,3에 이어서 4번째 아이템을 string으로 된 리스트를 아이템으로 둔 리스트를 봅니다.\n",
        "* 이 경우 리스트는 아이템을 4개로 표현할 지 6개로 표현할지 len()으로 검사 해봅니다.\n",
        "* 4번째 요소가 리스트로 표현될까? 한 번 살펴봅니다.\n"
      ]
    },
    {
      "cell_type": "code",
      "metadata": {
        "id": "eRYzuqpvDl4-",
        "colab_type": "code",
        "outputId": "14346785-e817-4a8f-e2ca-5ffa5b766467",
        "colab": {
          "base_uri": "https://localhost:8080/",
          "height": 72
        }
      },
      "source": [
        "my_list3 = [1, 2, 3, [\"KIA\", \"Chevrolet\", \"Ford\"] ]\n",
        "print (len(my_list3))\n",
        "print (my_list3[0])\n",
        "print (my_list3[3])\n",
        "\n"
      ],
      "execution_count": 60,
      "outputs": [
        {
          "output_type": "stream",
          "text": [
            "4\n",
            "1\n",
            "['KIA', 'Chevrolet', 'Ford']\n"
          ],
          "name": "stdout"
        }
      ]
    },
    {
      "cell_type": "markdown",
      "metadata": {
        "id": "pvS1Lh17DqwJ",
        "colab_type": "text"
      },
      "source": [
        "####Extra Practice\n",
        "\n",
        "(1)   \n",
        "\n",
        "        my_list = [1,2,3,4,5]\n",
        "        print my_list[0:2] #첫째부터 셋째 이전까지 출력 (즉 [1] [2] 위치 출력)\n",
        "        print my_list[1:] # 둘째부터 끝까지 출력 (즉, [1] 위치부터 출력) \n",
        "        # 이를 응용하여, 잘라서 어디까지 만들 수 있나 봅니다.\n"
      ]
    },
    {
      "cell_type": "code",
      "metadata": {
        "id": "IvQKKE_dDuDF",
        "colab_type": "code",
        "outputId": "37ee829a-f4d5-474e-fc93-7e93e663e0f1",
        "colab": {
          "base_uri": "https://localhost:8080/",
          "height": 54
        }
      },
      "source": [
        "my_list = [1,2,3,4,5]\n",
        "print (my_list[0:2]) #첫째부터 3째 이전까 출력\n",
        "print (my_list[1:]) # 둘째부터 끝까지 출력"
      ],
      "execution_count": 61,
      "outputs": [
        {
          "output_type": "stream",
          "text": [
            "[1, 2]\n",
            "[2, 3, 4, 5]\n"
          ],
          "name": "stdout"
        }
      ]
    },
    {
      "cell_type": "markdown",
      "metadata": {
        "id": "X453TLS5DyIs",
        "colab_type": "text"
      },
      "source": [
        "(2)  \n",
        "\n",
        "        my_list = [1,2,3,4,5]\n",
        "        my_list[1] = 6\n",
        "        print my_list\n",
        "        #여기서 둘째 위치가 6으로 바뀌는지 확인해 봅니다.\n"
      ]
    },
    {
      "cell_type": "code",
      "metadata": {
        "id": "9HUkk8KvDws7",
        "colab_type": "code",
        "outputId": "104f6077-b693-4b69-fc25-9f06b56ef12a",
        "colab": {
          "base_uri": "https://localhost:8080/",
          "height": 35
        }
      },
      "source": [
        "my_list = [1,2,3,4,5]\n",
        "my_list[1] = 6\n",
        "print (my_list)\n"
      ],
      "execution_count": 62,
      "outputs": [
        {
          "output_type": "stream",
          "text": [
            "[1, 6, 3, 4, 5]\n"
          ],
          "name": "stdout"
        }
      ]
    },
    {
      "cell_type": "markdown",
      "metadata": {
        "id": "_ZZvGEaaD7Ay",
        "colab_type": "text"
      },
      "source": [
        "(3)  \n",
        "\n",
        "\n",
        "        # 리스트를 더해 봅니다.\n",
        "        my_list1 = [1,2,3,4,5]  \n",
        "        my_list2 = [6,7,8,9]\n",
        "        my_list = my_list1 + my_list2\n",
        "        print my_list\n"
      ]
    },
    {
      "cell_type": "code",
      "metadata": {
        "id": "3Gk61rZ5D9Sy",
        "colab_type": "code",
        "outputId": "a4dd05f8-8006-46b0-f415-8e68eda74db2",
        "colab": {
          "base_uri": "https://localhost:8080/",
          "height": 35
        }
      },
      "source": [
        "my_list1 = [1,2,3,4,5]\n",
        "my_list2 = [6,7,8,9]\n",
        "my_list = my_list1 + my_list2\n",
        "print (my_list)"
      ],
      "execution_count": 63,
      "outputs": [
        {
          "output_type": "stream",
          "text": [
            "[1, 2, 3, 4, 5, 6, 7, 8, 9]\n"
          ],
          "name": "stdout"
        }
      ]
    },
    {
      "cell_type": "markdown",
      "metadata": {
        "id": "FOmOOOhlENAf",
        "colab_type": "text"
      },
      "source": [
        "(4) 곱해 봅니다."
      ]
    },
    {
      "cell_type": "code",
      "metadata": {
        "id": "DOrEcIdiEGsA",
        "colab_type": "code",
        "outputId": "a1443e93-cacf-48b1-997b-8ef82a12e8c2",
        "colab": {
          "base_uri": "https://localhost:8080/",
          "height": 35
        }
      },
      "source": [
        "my_list1 = [1,2,3,4,5]\n",
        "my_list = my_list1 *2\n",
        "print (my_list)\n"
      ],
      "execution_count": 64,
      "outputs": [
        {
          "output_type": "stream",
          "text": [
            "[1, 2, 3, 4, 5, 1, 2, 3, 4, 5]\n"
          ],
          "name": "stdout"
        }
      ]
    },
    {
      "cell_type": "markdown",
      "metadata": {
        "id": "1BmDaSxdEWJO",
        "colab_type": "text"
      },
      "source": [
        "#TASK 15     -   List Methods \n",
        "\n",
        "\n",
        "##학습 내용\n",
        "* 리스트의 메소드 중 append(), count(), index(), insert(), pop()에  대해서 학습해 봅니다.\n",
        "\n",
        "##문법\n",
        "* 아래와 같은 메소드를 공부해 봅니다.\n",
        "\n",
        "        listname.append(item)  \n",
        "        listname.count(item)\n",
        "        listname.index(item)\n",
        "        listname.insert(위치, item)\n",
        "        listname.pop(위치)\n",
        "\n",
        "\n",
        " \n",
        "##설명\n",
        "* list.append()     # 리스트에 아이템을 추가한다. append를 하면 추가된 아이템이 끝에 추가된다.\n",
        "* list.count()      # 특정 아이템이 몇 개가 있는지를 알려준다.\n",
        "* list.index()      # 특정 아이템이 어느 위치에 있는지 알려준다.\n",
        "* list.insert()     # 리스트에 아이템을 넣어준다. insert를 3번째 위치에 했다면 insert된 아이템은 그 위치에 들어가고 본래 그 위치에 있던 아이템 및 그 뒤 아이템들은 뒤로 밀린다.\n",
        "* list.pop()        # 리스트의 특정 아이템을 보여주고 사라지게 한다.\n",
        "\n",
        "\n",
        "## 연습\n",
        "* 빈 리스트 my_list4를 만들어 봅니다.\n",
        "* 여기에 ＂Ford’ 를 append로 넣어 봅니다.\n",
        "* ‘Ford’ 가 리스트에 몇 개가 있는지 확인합니다.\n",
        "* ‘Ford’가 어디에 있는지 확인합니다.\n",
        "* 이어서 ＂BMW’를 리스트에 넣어 봅니다.\n",
        "* pop method를 사용하여 제일 앞에 있는 값이 보여지게 합니다.\n",
        "* 이어서 insert를 사용하여 ＂Chevrolet’ 을 두 번째 위치에 넣어봅니다.\n",
        "* my_list4를 출력해봅니다.\n",
        "\n",
        "\n",
        "\n",
        "##주의\n",
        "pop()을 사용하면 해당 아이템이 보여진 후 리스트내에서 삭제되므로 주의해야 합니다.\n",
        "\n",
        "\n",
        "\n",
        "\n",
        "##코딩 부분"
      ]
    },
    {
      "cell_type": "code",
      "metadata": {
        "id": "BmSu5zmGEaGa",
        "colab_type": "code",
        "colab": {
          "base_uri": "https://localhost:8080/",
          "height": 126
        },
        "outputId": "f371775d-2004-4a99-b88a-7ff4bb38b21a"
      },
      "source": [
        "my_list4 = []\n",
        "my_list4.append(\"Ford\")\n",
        "print (my_list4)\n",
        "print (my_list4.count(\"Ford\"))\n",
        "print (my_list4.index(\"Ford\"))\n",
        "my_list4.append(\"BMW\")\n",
        "print (my_list4)\n",
        "\n",
        "print (my_list4.pop(0))\n",
        "my_list4.insert(1,\"Chevrolet\")\n",
        "print (my_list4)\n"
      ],
      "execution_count": 65,
      "outputs": [
        {
          "output_type": "stream",
          "text": [
            "['Ford']\n",
            "1\n",
            "0\n",
            "['Ford', 'BMW']\n",
            "Ford\n",
            "['BMW', 'Chevrolet']\n"
          ],
          "name": "stdout"
        }
      ]
    },
    {
      "cell_type": "markdown",
      "metadata": {
        "id": "mpMYxGvUEe8A",
        "colab_type": "text"
      },
      "source": [
        "####Video\n",
        "[video](https://youtu.be/tTwRskJCoDs)\n",
        "##결과 콘솔\n",
        "\n",
        "        [\"Ford\"]            # 이를 통해서 빈 리스트에＂Ford’가 추가 되었음을 확인함 \n",
        "        1                   # 그래서 아이템이 한 개 임을 확인함\n",
        "        0                   # 이는 ＂ Ford’가 첫 위치에 있음을 확인함\n",
        "        [\"Ford\", \"BMW\"]     # 이는 ＂BMW’가 추가 되었음을 확인함\n",
        "        Ford                # 첫 아이템이 ＂Ford’ 나타나게 함\n",
        "        [\"BMW\", \"Chevrolet\"]# 이는 위에서 ＂Ford’가 pop 한 다음에 사라지고\n",
        "                            1의 위치 (2번째 위치에) 'Chevrolet'이 추가되고\n",
        "                            BMW는 두 번째 위치에서 ＂Ford’가 사라진 후 \n",
        "                            첫 위치로 갔음을 알게 해 준다."
      ]
    },
    {
      "cell_type": "markdown",
      "metadata": {
        "id": "Gr9-3yEiEqQY",
        "colab_type": "text"
      },
      "source": [
        "##추가 연습 \n",
        "\n",
        "* 빈 리스트를 만들어서 lion을 요소에 더합니다.\n",
        "* 또 하나의 빈리스트를 만들어서 tiger를 요소에 더합니다.\n",
        "* 여기서 두 리스트를 합하여 본래 lion만 있던 리스트 이름으로 정의합니다. \n",
        "* 합한 리스트에 중간에 snake를 삽입해 봅니다."
      ]
    },
    {
      "cell_type": "code",
      "metadata": {
        "id": "1xIlZI1UErz1",
        "colab_type": "code",
        "outputId": "1a46e56d-82a2-4e93-a6cf-fff0d6dbf545",
        "colab": {
          "base_uri": "https://localhost:8080/",
          "height": 90
        }
      },
      "source": [
        "my_list5 = []\n",
        "my_list5.append(\"lion\")\n",
        "print (my_list5)\n",
        "my_list6 = []\n",
        "my_list6.append(\"tiger\")\n",
        "print (my_list6)\n",
        "my_list5 = my_list5 + my_list6\n",
        "print (my_list5)\n",
        "my_list5.insert(1,\"snake\")\n",
        "print (my_list5)"
      ],
      "execution_count": 66,
      "outputs": [
        {
          "output_type": "stream",
          "text": [
            "['lion']\n",
            "['tiger']\n",
            "['lion', 'tiger']\n",
            "['lion', 'snake', 'tiger']\n"
          ],
          "name": "stdout"
        }
      ]
    },
    {
      "cell_type": "markdown",
      "metadata": {
        "id": "bB8NR36-EzZD",
        "colab_type": "text"
      },
      "source": [
        "####Extra Practice\n",
        "\n",
        "(1) append"
      ]
    },
    {
      "cell_type": "code",
      "metadata": {
        "id": "fayrQJb_E2bp",
        "colab_type": "code",
        "outputId": "a502ccd2-97c4-4f2a-a289-48e3ea7d619b",
        "colab": {
          "base_uri": "https://localhost:8080/",
          "height": 35
        }
      },
      "source": [
        "list1 = [1,2,3,4]\n",
        "list1.append(\"lion\")\n",
        "print (list1)\n"
      ],
      "execution_count": 67,
      "outputs": [
        {
          "output_type": "stream",
          "text": [
            "[1, 2, 3, 4, 'lion']\n"
          ],
          "name": "stdout"
        }
      ]
    },
    {
      "cell_type": "markdown",
      "metadata": {
        "id": "MHHZ-Uk9E4eZ",
        "colab_type": "text"
      },
      "source": [
        "(2)  count\n"
      ]
    },
    {
      "cell_type": "code",
      "metadata": {
        "id": "9Uy_MrmjE6mQ",
        "colab_type": "code",
        "outputId": "0ef6819a-5678-41d4-9426-8521f12e8fd2",
        "colab": {
          "base_uri": "https://localhost:8080/",
          "height": 35
        }
      },
      "source": [
        "list2 = [1,2,3,4,1,2,3,4]\n",
        "print (list2.count(2))"
      ],
      "execution_count": 68,
      "outputs": [
        {
          "output_type": "stream",
          "text": [
            "2\n"
          ],
          "name": "stdout"
        }
      ]
    },
    {
      "cell_type": "markdown",
      "metadata": {
        "id": "0ChhCfsOE8-x",
        "colab_type": "text"
      },
      "source": [
        "(3)  index"
      ]
    },
    {
      "cell_type": "code",
      "metadata": {
        "id": "u65QkTfpE_gR",
        "colab_type": "code",
        "outputId": "49e406cc-a3ba-400e-a0fb-8a1932462981",
        "colab": {
          "base_uri": "https://localhost:8080/",
          "height": 35
        }
      },
      "source": [
        "\n",
        "list3 = [4,5,6,7,8,9]\n",
        "print (list3.index(7))"
      ],
      "execution_count": 69,
      "outputs": [
        {
          "output_type": "stream",
          "text": [
            "3\n"
          ],
          "name": "stdout"
        }
      ]
    },
    {
      "cell_type": "markdown",
      "metadata": {
        "id": "BLU72TZjFC2d",
        "colab_type": "text"
      },
      "source": [
        "(4) insert"
      ]
    },
    {
      "cell_type": "code",
      "metadata": {
        "id": "CbJ9KPvyFFbT",
        "colab_type": "code",
        "outputId": "ac026016-35b9-43f5-95a2-6689b952cdaa",
        "colab": {
          "base_uri": "https://localhost:8080/",
          "height": 35
        }
      },
      "source": [
        "list4 = [9,8,7,6,5,4]\n",
        "list4.insert(3, 100)\n",
        "print (list4)"
      ],
      "execution_count": 70,
      "outputs": [
        {
          "output_type": "stream",
          "text": [
            "[9, 8, 7, 100, 6, 5, 4]\n"
          ],
          "name": "stdout"
        }
      ]
    },
    {
      "cell_type": "markdown",
      "metadata": {
        "id": "g4jc1vE1FJiL",
        "colab_type": "text"
      },
      "source": [
        "(5)  pop"
      ]
    },
    {
      "cell_type": "code",
      "metadata": {
        "id": "apSvaXQTFMaP",
        "colab_type": "code",
        "outputId": "5ea0117c-9aa5-4996-f046-b0ca6103a806",
        "colab": {
          "base_uri": "https://localhost:8080/",
          "height": 35
        }
      },
      "source": [
        "list5 = [3,4,5,6]\n",
        "list5.pop(1)\n",
        "print (list5)"
      ],
      "execution_count": 71,
      "outputs": [
        {
          "output_type": "stream",
          "text": [
            "[3, 5, 6]\n"
          ],
          "name": "stdout"
        }
      ]
    },
    {
      "cell_type": "markdown",
      "metadata": {
        "id": "DE3HTAFHFcj6",
        "colab_type": "text"
      },
      "source": [
        "#TASK 16       -   Dictionary \n",
        "\n",
        "\n",
        "\n",
        "##학습 내용\n",
        "* \"list\"가 하나의 variable로 관리되는 목록이라면 \"dictionary\" 는 사전이나 명함에 좀 더 가깝다고 보면 되겠습니다. Dictionary는 대괄호{ } 로 표현됩니다. \n",
        "\n",
        "##문법\n",
        "* 딕쇼너리는 아래와 같은 구조를 가집니다.\n",
        "\n",
        "         mydict = {key: value, key: value, key; value}\n",
        "\n",
        "\n",
        " \n",
        "##설명\n",
        "* 아래의 예를 보면 이름, 전화번호, 회사명이 나와 있습니다. 이러한 것을 관리하는 목록이라 생각하면 됩니다. \n",
        "\n",
        "        Name : Joshua\n",
        "        Phone : 55512345678\n",
        "        Company: ai2learn\n",
        "\n",
        "* 여기서 \"Name\" 은 Key라 부르고 \"Joshua\" 는 value라 부릅니다.\n",
        "* 항목과 그에 대한 값이 있는 형태입니다.\n",
        "\n",
        "\n",
        "## 연습\n",
        "* bizcard란 이름의 빈 dictionary를 만들어 보겠습니다. \n",
        "\n",
        "        bizcard = {}\n",
        "\n",
        "\n",
        "* 그리고 아래와 같은 요소들을 넣어 봅니다.\n",
        "\n",
        "        bizcard['name'] = 'Joshua'\n",
        "        bizcard['phone'] = '55512345678'\n",
        "        bizcard['company'] = 'ai2learn'\n",
        "\n",
        "*이어서 bizcard를 출력하고 한 요소인 phone 만 출력합니다.\n",
        "\n",
        "\n",
        "\n",
        "##주의\n",
        "* Dictionary도 key나 value의 변동은 허용하나 key의 겹침은 허용 안됨\n",
        "\n",
        "\n",
        "\n",
        "\n",
        "##코딩 부분"
      ]
    },
    {
      "cell_type": "code",
      "metadata": {
        "id": "IOhlOMzBFgx1",
        "colab_type": "code",
        "outputId": "d18eac2c-7b11-4075-c0e3-eb2ac36e72a3",
        "colab": {
          "base_uri": "https://localhost:8080/",
          "height": 54
        }
      },
      "source": [
        "bizcard = {}\n",
        "bizcard[\"name\"] = \"Joshua\"\n",
        "bizcard[\"phone\"] = \"55512345678\"\n",
        "bizcard[\"company\"] = \"ai2learn\"\n",
        "\n",
        "print (bizcard)\n",
        "print (bizcard[\"phone\"])\n"
      ],
      "execution_count": 72,
      "outputs": [
        {
          "output_type": "stream",
          "text": [
            "{'name': 'Joshua', 'phone': '55512345678', 'company': 'ai2learn'}\n",
            "55512345678\n"
          ],
          "name": "stdout"
        }
      ]
    },
    {
      "cell_type": "markdown",
      "metadata": {
        "id": "ct6dOi6NIPQv",
        "colab_type": "text"
      },
      "source": [
        "##추가 연습 \n",
        "\n",
        "* 다른 이름을 key와 value를 넣어서 한 번 더 해봅니다.\n",
        "\n",
        "        이름 : Ironman\n",
        "        전화번호:  01012345678   \n",
        "        회사명 : Shields\n",
        "\n",
        "* 이제 해당 딕쇼너리에서 전화 번호를 찾아내 봅니다.\n"
      ]
    },
    {
      "cell_type": "code",
      "metadata": {
        "id": "zxRHZmUFIQd3",
        "colab_type": "code",
        "outputId": "411dd504-cbff-4558-f2ca-82bbf50ab1ff",
        "colab": {
          "base_uri": "https://localhost:8080/",
          "height": 54
        }
      },
      "source": [
        "bizcard = {}\n",
        "bizcard['이름'] = 'Ironman'\n",
        "bizcard['전화번호'] = '012345678'\n",
        "bizcard['회사명'] = 'shields'\n",
        "\n",
        "print (bizcard)\n",
        "print (bizcard['전화번호'])"
      ],
      "execution_count": 73,
      "outputs": [
        {
          "output_type": "stream",
          "text": [
            "{'이름': 'Ironman', '전화번호': '012345678', '회사명': 'shields'}\n",
            "012345678\n"
          ],
          "name": "stdout"
        }
      ]
    },
    {
      "cell_type": "markdown",
      "metadata": {
        "id": "PStAPubfIYRY",
        "colab_type": "text"
      },
      "source": [
        "\n",
        "####Extra Practice\n",
        "\n",
        "(1) 위의 첫 예제에서 \n",
        "\n",
        "phone이외에 name, company를 찾는 연습을 해보자\n"
      ]
    },
    {
      "cell_type": "code",
      "metadata": {
        "id": "moCUUR_0IbWA",
        "colab_type": "code",
        "outputId": "df4de068-d3d3-498a-c3e4-f3b722480e66",
        "colab": {
          "base_uri": "https://localhost:8080/",
          "height": 90
        }
      },
      "source": [
        "bizcard = {}\n",
        "bizcard[\"name\"] = \"Joshua\"\n",
        "bizcard[\"phone\"] = \"55512345678\"\n",
        "bizcard[\"company\"] = \"ai2learn\"\n",
        "\n",
        "print (bizcard)\n",
        "print (bizcard[\"phone\"])\n",
        "print (bizcard[\"name\"])\n",
        "print (bizcard[\"company\"])"
      ],
      "execution_count": 74,
      "outputs": [
        {
          "output_type": "stream",
          "text": [
            "{'name': 'Joshua', 'phone': '55512345678', 'company': 'ai2learn'}\n",
            "55512345678\n",
            "Joshua\n",
            "ai2learn\n"
          ],
          "name": "stdout"
        }
      ]
    },
    {
      "cell_type": "markdown",
      "metadata": {
        "id": "F3WLg5SvIg_E",
        "colab_type": "text"
      },
      "source": [
        "(2)   위와 비슷하게\n",
        "* 자기 소속 학교나 직장에 해당되는 것을 입력하여 \n",
        "* 어떻게 나오는지 봅니다.\n",
        "\n",
        "      bizcard = {}\n",
        "      bizcard['이름'] = '홍길동'\n",
        "      bizcard['전화번호'] = '012345678'\n",
        "      bizcard['회사명'] = '산채'\n",
        "\n",
        "      print (bizcard)\n",
        "      print (bizcard['이름'])\n",
        "      print (bizcard['회사명'])\n",
        "      print (bizcard['전화번호'])\n"
      ]
    },
    {
      "cell_type": "code",
      "metadata": {
        "id": "uNRBfUnvIt26",
        "colab_type": "code",
        "outputId": "4641e11c-9134-4b3d-a676-8f66c20d4a78",
        "colab": {
          "base_uri": "https://localhost:8080/",
          "height": 90
        }
      },
      "source": [
        "bizcard = {}\n",
        "bizcard['이름'] = '홍길동'\n",
        "bizcard['전화번호'] = '012345678'\n",
        "bizcard['회사명'] = '산채'\n",
        "\n",
        "print (bizcard)\n",
        "print (bizcard['이름'])\n",
        "print (bizcard['회사명'])\n",
        "print (bizcard['전화번호'])"
      ],
      "execution_count": 75,
      "outputs": [
        {
          "output_type": "stream",
          "text": [
            "{'이름': '홍길동', '전화번호': '012345678', '회사명': '산채'}\n",
            "홍길동\n",
            "산채\n",
            "012345678\n"
          ],
          "name": "stdout"
        }
      ]
    },
    {
      "cell_type": "markdown",
      "metadata": {
        "id": "C8_feea7v3RN",
        "colab_type": "text"
      },
      "source": [
        "#TASK 17     -   Dictionary Methods\n",
        "\n",
        "\n",
        "##학습 내용\n",
        "* Dictionary의 메소드 중 items(), keys(), values()에  대해서 학습해 봅니다.\n",
        "\n",
        "##문법\n",
        "* 다음과 같은 메소드를 공부해 봅니다.\n",
        "\n",
        "\t    dictionaryname.items() \n",
        "\t    dictionaryname.keys() \n",
        "\t    dictionaryname.values() \n",
        "\n",
        "\n",
        " \n",
        "##설명\n",
        "*   bizcard.items()         # 이 메써드는 dictionary 아이템들을 list 형식으로 변환해 준다.\n",
        "*   bizcard.keys()          # 이 메써드는 dictionary의 key를  list 형식으로 변환해 준다.\n",
        "*   bizcard.values()    # 이 메써드는 dictionary의 value를  list 형식으로 변환해 준다.\n",
        "\n",
        "\n",
        "## 연습\n",
        "* 배운 것을 아래 key와 value로 연습해봅니다\n",
        "* \n",
        "        model : \"Camaro\"\n",
        "        maker : \"Chevrolet\"\n",
        "        year: \"2020\"\n",
        "\n",
        "\n",
        "* item을 프린트 합니다.\n",
        "* key를 프린트 합니다.\n",
        "* value를 프린트 합니다.\n",
        "\n",
        "\n",
        "\n",
        "##주의\n",
        "* Key와 value값에서 스트링에 따옴표를 하는 것을 잊지 마세요.\n",
        "\n",
        "\n",
        "\n",
        "##코딩 부분\n"
      ]
    },
    {
      "cell_type": "code",
      "metadata": {
        "id": "FCiij-dyv7k5",
        "colab_type": "code",
        "outputId": "a9558c43-8d1d-481c-8a38-eb410e750733",
        "colab": {
          "base_uri": "https://localhost:8080/",
          "height": 72
        }
      },
      "source": [
        "mydict = { 'model' : 'Camaro', 'maker': 'Chevrolet', 'year': 2020}\n",
        "\n",
        "print (mydict.items())\n",
        "print (mydict.keys()) \n",
        "print (mydict.values())\n"
      ],
      "execution_count": 76,
      "outputs": [
        {
          "output_type": "stream",
          "text": [
            "dict_items([('model', 'Camaro'), ('maker', 'Chevrolet'), ('year', 2020)])\n",
            "dict_keys(['model', 'maker', 'year'])\n",
            "dict_values(['Camaro', 'Chevrolet', 2020])\n"
          ],
          "name": "stdout"
        }
      ]
    },
    {
      "cell_type": "markdown",
      "metadata": {
        "id": "N73_g29QwEcM",
        "colab_type": "text"
      },
      "source": [
        "####Video\n",
        "[video](https://youtu.be/YsxduLxv12c)"
      ]
    },
    {
      "cell_type": "markdown",
      "metadata": {
        "id": "P8H4LQv2wcSZ",
        "colab_type": "text"
      },
      "source": [
        "##추가 연습 \n",
        "\n",
        "* 추가적으로 다음과 같은 메소드들이 있습니다 \n",
        "\n",
        "        clear()     # dictionary의 모든 요소들을 없앤다.\n",
        "        copy()      # dictionary의 복제된 값을 반환한다\n",
        "        get()       # 특정 key의 value값을 반환한다\n",
        "\n",
        "* 본 연습의 예를 보고 다음을 해봅니다. \n",
        "\n",
        "\n",
        "        mydict = { 'model' : 'Camaro', 'maker': 'Chevrolet', 'year': 2020}\n",
        "        newdict = mydict.copy()  \n",
        "        print (newdict)\n",
        "        print (mydict.get('model'))\n",
        "        print (mydict.clear())\n"
      ]
    },
    {
      "cell_type": "code",
      "metadata": {
        "id": "OykqPAM3wfc8",
        "colab_type": "code",
        "outputId": "e9b93596-a281-4976-d9ad-c2e6c0b656ae",
        "colab": {
          "base_uri": "https://localhost:8080/",
          "height": 72
        }
      },
      "source": [
        "mydict = { 'model' : 'Camaro', 'maker': 'Chevrolet', 'year': 2020}\n",
        "newdict = mydict.copy()  \n",
        "print (newdict)\n",
        "print (mydict.get('model'))\n",
        "print (mydict.clear())"
      ],
      "execution_count": 77,
      "outputs": [
        {
          "output_type": "stream",
          "text": [
            "{'model': 'Camaro', 'maker': 'Chevrolet', 'year': 2020}\n",
            "Camaro\n",
            "None\n"
          ],
          "name": "stdout"
        }
      ]
    },
    {
      "cell_type": "markdown",
      "metadata": {
        "id": "xlchDd1bwnwp",
        "colab_type": "text"
      },
      "source": [
        "#### Extra Practice\n",
        "\n",
        "(1) 위의 예를\n",
        "\n",
        "학교: 한국대학\n",
        "\n",
        "학과: 컴퓨터공학과\n",
        "\n",
        "이름: 홍길동 \n",
        "\n",
        "으로 만들어 연습해 봅니다.\n"
      ]
    },
    {
      "cell_type": "code",
      "metadata": {
        "id": "_I6PY8C2wqTa",
        "colab_type": "code",
        "outputId": "ffb8988d-4eba-4dd5-9e70-92a65522242b",
        "colab": {
          "base_uri": "https://localhost:8080/",
          "height": 72
        }
      },
      "source": [
        "mydict = { 'college' : 'Hankook', 'major': 'Computer Scinece', 'name': 'Hong'}\n",
        "newdict = mydict.copy()  \n",
        "print (newdict)\n",
        "print (mydict.get('major'))\n",
        "print (mydict.clear())\n"
      ],
      "execution_count": 78,
      "outputs": [
        {
          "output_type": "stream",
          "text": [
            "{'college': 'Hankook', 'major': 'Computer Scinece', 'name': 'Hong'}\n",
            "Computer Scinece\n",
            "None\n"
          ],
          "name": "stdout"
        }
      ]
    },
    {
      "cell_type": "markdown",
      "metadata": {
        "id": "RR2La2mhwsuI",
        "colab_type": "text"
      },
      "source": [
        "(2) items"
      ]
    },
    {
      "cell_type": "code",
      "metadata": {
        "id": "sxheJ_N1wwGl",
        "colab_type": "code",
        "outputId": "ae2d5ed3-8d9a-4d85-bfb6-a20c993b8ff9",
        "colab": {
          "base_uri": "https://localhost:8080/",
          "height": 35
        }
      },
      "source": [
        "dict1 = {'a':1, 'b':2, 'c':3}\n",
        "print (dict1.items())"
      ],
      "execution_count": 79,
      "outputs": [
        {
          "output_type": "stream",
          "text": [
            "dict_items([('a', 1), ('b', 2), ('c', 3)])\n"
          ],
          "name": "stdout"
        }
      ]
    },
    {
      "cell_type": "markdown",
      "metadata": {
        "id": "lvcshfpAwycf",
        "colab_type": "text"
      },
      "source": [
        "(3)  keys"
      ]
    },
    {
      "cell_type": "code",
      "metadata": {
        "id": "D-Qq9WZPw1LZ",
        "colab_type": "code",
        "outputId": "06a9d76f-4310-49ed-8ad4-44056d076906",
        "colab": {
          "base_uri": "https://localhost:8080/",
          "height": 35
        }
      },
      "source": [
        "dict1 = {'a':1, 'b':2, 'c':3}\n",
        "print (dict1.keys())"
      ],
      "execution_count": 80,
      "outputs": [
        {
          "output_type": "stream",
          "text": [
            "dict_keys(['a', 'b', 'c'])\n"
          ],
          "name": "stdout"
        }
      ]
    },
    {
      "cell_type": "markdown",
      "metadata": {
        "id": "gNBct0Dlw9_D",
        "colab_type": "text"
      },
      "source": [
        "(4) values"
      ]
    },
    {
      "cell_type": "code",
      "metadata": {
        "id": "el2Vw0Ezw_Bd",
        "colab_type": "code",
        "outputId": "f35c6679-fd1e-421c-e2d4-c46b8783c56c",
        "colab": {
          "base_uri": "https://localhost:8080/",
          "height": 35
        }
      },
      "source": [
        "dict1 = {'a':1, 'b':2, 'c':3}\n",
        "print (dict1.values())"
      ],
      "execution_count": 81,
      "outputs": [
        {
          "output_type": "stream",
          "text": [
            "dict_values([1, 2, 3])\n"
          ],
          "name": "stdout"
        }
      ]
    },
    {
      "cell_type": "markdown",
      "metadata": {
        "id": "uLmidZpExCKq",
        "colab_type": "text"
      },
      "source": [
        "(5) clear"
      ]
    },
    {
      "cell_type": "code",
      "metadata": {
        "id": "92SOj3mUxDWu",
        "colab_type": "code",
        "outputId": "8810468f-36f0-4644-9a9d-9ac3bc113b3c",
        "colab": {
          "base_uri": "https://localhost:8080/",
          "height": 54
        }
      },
      "source": [
        "dict1 = {'a':1, 'b':2, 'c':3}\n",
        "print (dict1.clear())\n",
        "print (dict1)"
      ],
      "execution_count": 82,
      "outputs": [
        {
          "output_type": "stream",
          "text": [
            "None\n",
            "{}\n"
          ],
          "name": "stdout"
        }
      ]
    },
    {
      "cell_type": "markdown",
      "metadata": {
        "id": "vuxm0q7PxHac",
        "colab_type": "text"
      },
      "source": [
        "(6) copy"
      ]
    },
    {
      "cell_type": "code",
      "metadata": {
        "id": "6Yy5irNdxJXC",
        "colab_type": "code",
        "outputId": "50cb171c-630f-47ca-b869-e6eec02754fa",
        "colab": {
          "base_uri": "https://localhost:8080/",
          "height": 35
        }
      },
      "source": [
        "dict1 = {'a':1, 'b':2, 'c':3}\n",
        "dict2 = dict1.copy()\n",
        "print (dict2)"
      ],
      "execution_count": 83,
      "outputs": [
        {
          "output_type": "stream",
          "text": [
            "{'a': 1, 'b': 2, 'c': 3}\n"
          ],
          "name": "stdout"
        }
      ]
    },
    {
      "cell_type": "markdown",
      "metadata": {
        "id": "2dVCCxc5xMc4",
        "colab_type": "text"
      },
      "source": [
        "(7) get"
      ]
    },
    {
      "cell_type": "code",
      "metadata": {
        "id": "EaPke7kExObs",
        "colab_type": "code",
        "outputId": "71c23cfd-edab-4c3c-d628-867503761e36",
        "colab": {
          "base_uri": "https://localhost:8080/",
          "height": 35
        }
      },
      "source": [
        "dict1 = {'a':1, 'b':2, 'c':3}\n",
        "print (dict1.get('b'))"
      ],
      "execution_count": 84,
      "outputs": [
        {
          "output_type": "stream",
          "text": [
            "2\n"
          ],
          "name": "stdout"
        }
      ]
    },
    {
      "cell_type": "markdown",
      "metadata": {
        "id": "T4gz5ORBxXYa",
        "colab_type": "text"
      },
      "source": [
        "#TASK 18       -     Tupple\n",
        "\n",
        "\n",
        "##학습 내용\n",
        "* tupple이란 변경되지 않은 데이터의 집합으로 변경되지 못 한다는 특성 때문에 메소드가 별로 없습니다. tupple은 소괄호 ( )로 표현됩니다. \n",
        "\n",
        "\n",
        "##문법\n",
        "* 튜플은 아래와 같은 형태를 가집니다.\n",
        "\n",
        "         mytupple = (item1, item2, item 3)\n",
        "\n",
        "\n",
        " \n",
        "##설명\n",
        "* 그럼 왜 tupple을 사용할까요? 다음과 같은 이유 때문입니다.\n",
        "* tupple은 저장 공간을 적게 쓴다.\n",
        "* tupple은 우리가 우연하게 또는 실수로 데이터를 바꾸어서는 안 되는 곳에서 사용된다.\n",
        "* 더하여 합할 수 있고 곱하여 반복이 가능하다. \n",
        "\n",
        "        a = ('Chevrolet', 'KIA', 'Mercedes’)  \n",
        "        b = ('BMW’, 'Ford’)\n",
        "        c = a + b  \t    #  ('Chevrolet’, 'KIA’, 'Mercedes’, 'BMW’, 'Ford’)\n",
        "        d = b * 2   \t   #  d = ('BMW’, 'Ford’, ’BMW’, 'Ford’)\n",
        "\n",
        "\n",
        "## 연습\n",
        "\n",
        "* a = (1,2,3,4,5) 이고 b = (6,7,8,9) 이라고 할 때\n",
        "\n",
        "  a+b를 하여 합해 c로 놓습니다.\n",
        "\n",
        "  이어서 곱하기를 사용하여 ＂a’ 를 3번 반복해 d를 만들어봅니다.\n",
        "\n",
        "  이를 각각 프린트 해봅니다.\n",
        "\n",
        "* 이어서 Tupple의 아이템을 교체할 수 없다는 것을 확인해봅니다.\n",
        "\n",
        "      b[0] = 10을 해서 교체하려고 하면 에러가 발생합니다.\n",
        "       (물론 튜플에는 이런 메소드가 없습니다.)\n",
        "\n",
        "\n",
        "##주의\n",
        "* 튜플에 원소가 하나인 경우 integer로 오인할 수 있어 (5,) 식으로 표기함\n",
        " \n",
        "\n",
        "\n",
        "\n",
        "##코딩 부분\n"
      ]
    },
    {
      "cell_type": "code",
      "metadata": {
        "id": "fwFC3vrbxbCJ",
        "colab_type": "code",
        "outputId": "11c9da79-1373-4c94-9ef6-f50e51e7b781",
        "colab": {
          "base_uri": "https://localhost:8080/",
          "height": 54
        }
      },
      "source": [
        "a = (1,2,3,4,5)\n",
        "b = (6,7,8,9)\n",
        "\n",
        "c = a+b\n",
        "print (c)\n",
        "\n",
        "d = a*3\n",
        "print (d)"
      ],
      "execution_count": 85,
      "outputs": [
        {
          "output_type": "stream",
          "text": [
            "(1, 2, 3, 4, 5, 6, 7, 8, 9)\n",
            "(1, 2, 3, 4, 5, 1, 2, 3, 4, 5, 1, 2, 3, 4, 5)\n"
          ],
          "name": "stdout"
        }
      ]
    },
    {
      "cell_type": "markdown",
      "metadata": {
        "id": "vHpUIAV_xe_t",
        "colab_type": "text"
      },
      "source": [
        "위에서 아래와 같은 것을 하면 에러가 발생/ 교체가 안 되기 때문\n",
        "b[0] = 10    # 에러가 발생\n",
        "\n",
        "####Video\n",
        "[video](https://youtu.be/ddig8jlcXx0)"
      ]
    },
    {
      "cell_type": "markdown",
      "metadata": {
        "id": "W7tduPSLx3k0",
        "colab_type": "text"
      },
      "source": [
        "##추가 연습 \n",
        "\n",
        "* 인덱싱 및 자르기를 해봅니다. \n",
        "\n",
        "  \t    a = (‘Chevrolet’, ‘KIA’, ‘Mercedes’)  \n",
        "  \t    a0 = a[0] \t# 0의 위치에 ‘Chevrolet’ 이 있음을 알게 합니다.\n",
        "  \t    a1 = a[1:2]   # 1 위치 전에 자르고 2(즉 3번째) 이전에 자른다. \n",
        "  \t    a2 =a[:2] \t# 이는 2 (즉 3번째 위치) 이후 것은 모두 자른다.\n",
        "\n",
        "* 다음과 같은 method도 있습니다.\n",
        "\n",
        "        count()    # tupple에서 특정 value가 몇 번이나 나오는지 반환합니다. \n",
        "        index()    # tupple에서 특정 value가 어디에 있는지를 반환한다\n",
        "\n",
        "* 이를 연습해봅니다.\n"
      ]
    },
    {
      "cell_type": "code",
      "metadata": {
        "id": "px2NAfytx55P",
        "colab_type": "code",
        "outputId": "f94d8d3f-7830-4276-fe17-298eca906abe",
        "colab": {
          "base_uri": "https://localhost:8080/",
          "height": 108
        }
      },
      "source": [
        "a = ('Chevrolet', 'KIA', 'Mercedes')  \n",
        "print (a[0]) \n",
        "print (a[1:2]) \n",
        "print (a[:2]) \n",
        "print (a.count('KIA'))\n",
        "print (a.index('Mercedes'))"
      ],
      "execution_count": 86,
      "outputs": [
        {
          "output_type": "stream",
          "text": [
            "Chevrolet\n",
            "('KIA',)\n",
            "('Chevrolet', 'KIA')\n",
            "1\n",
            "2\n"
          ],
          "name": "stdout"
        }
      ]
    },
    {
      "cell_type": "markdown",
      "metadata": {
        "id": "ulYo8YRhycH0",
        "colab_type": "text"
      },
      "source": [
        "##결과 콘솔\n",
        "\n",
        "        Chevrolet                 # 0의 위치에 무엇이 있나 확인\n",
        "        ('KIA',)                      # 1위치 전에 자르고 2위치부터 자르면 1만 남음 \n",
        "        ('Chevrolet', 'KIA')      # 2위치 이후 것은 자른다\n",
        "        1                              # KIA가 1번 나옴을 확인\n",
        "        2                              # Mercedes의 위치 확인"
      ]
    },
    {
      "cell_type": "markdown",
      "metadata": {
        "id": "nVHr2-ZGyeOA",
        "colab_type": "text"
      },
      "source": [
        "####Extra Practice\n",
        "\n",
        "(1) 튜플을 두 개 합해보고 곱해 봅니다.\n",
        "\n",
        "\ta = ('Chevrolet', 'KIA', 'Mercedes')\n",
        "\n",
        "   \tb = ('Ssangyong', 'SM', 'Hyundai')\n",
        "\n",
        "\ta와 b를 합해보고 a*2를 해봅니다.\n",
        "\n",
        "  아래는 에러가 나게 됩니다.\n"
      ]
    },
    {
      "cell_type": "code",
      "metadata": {
        "id": "c4HfBSYlyicK",
        "colab_type": "code",
        "outputId": "f306fd56-031b-4a4e-ee28-f263eea5a08a",
        "colab": {
          "base_uri": "https://localhost:8080/",
          "height": 245
        }
      },
      "source": [
        "a = ('Chevrolet', 'KIA', 'Mercedes')\n",
        "b = ('Ssangyong', 'SM', 'Hyundai')\n",
        "\n",
        "c = a+b \n",
        "d = a*2\n",
        "e = a*b  # string * string?\n",
        "\n",
        "print (c)\n",
        "print (d)\n",
        "print (e)"
      ],
      "execution_count": 87,
      "outputs": [
        {
          "output_type": "error",
          "ename": "TypeError",
          "evalue": "ignored",
          "traceback": [
            "\u001b[0;31m---------------------------------------------------------------------------\u001b[0m",
            "\u001b[0;31mTypeError\u001b[0m                                 Traceback (most recent call last)",
            "\u001b[0;32m<ipython-input-87-638abc0f1d0d>\u001b[0m in \u001b[0;36m<module>\u001b[0;34m()\u001b[0m\n\u001b[1;32m      4\u001b[0m \u001b[0mc\u001b[0m \u001b[0;34m=\u001b[0m \u001b[0ma\u001b[0m\u001b[0;34m+\u001b[0m\u001b[0mb\u001b[0m\u001b[0;34m\u001b[0m\u001b[0;34m\u001b[0m\u001b[0m\n\u001b[1;32m      5\u001b[0m \u001b[0md\u001b[0m \u001b[0;34m=\u001b[0m \u001b[0ma\u001b[0m\u001b[0;34m*\u001b[0m\u001b[0;36m2\u001b[0m\u001b[0;34m\u001b[0m\u001b[0;34m\u001b[0m\u001b[0m\n\u001b[0;32m----> 6\u001b[0;31m \u001b[0me\u001b[0m \u001b[0;34m=\u001b[0m \u001b[0ma\u001b[0m\u001b[0;34m*\u001b[0m\u001b[0mb\u001b[0m  \u001b[0;31m# string * string?\u001b[0m\u001b[0;34m\u001b[0m\u001b[0;34m\u001b[0m\u001b[0m\n\u001b[0m\u001b[1;32m      7\u001b[0m \u001b[0;34m\u001b[0m\u001b[0m\n\u001b[1;32m      8\u001b[0m \u001b[0mprint\u001b[0m \u001b[0;34m(\u001b[0m\u001b[0mc\u001b[0m\u001b[0;34m)\u001b[0m\u001b[0;34m\u001b[0m\u001b[0;34m\u001b[0m\u001b[0m\n",
            "\u001b[0;31mTypeError\u001b[0m: can't multiply sequence by non-int of type 'tuple'"
          ]
        }
      ]
    },
    {
      "cell_type": "markdown",
      "metadata": {
        "id": "dGYXT2-qy88J",
        "colab_type": "text"
      },
      "source": [
        "\n",
        "(2)  \n",
        "\n",
        "a = (1,2,3,4,5,5,6,6)에서\n",
        "\n",
        "a에서 5가 몇 번 나오나 count 해봅니다.\n",
        "\n",
        "a에서 6이 어디 나오나 index 해봅니다."
      ]
    },
    {
      "cell_type": "code",
      "metadata": {
        "id": "vjV2OkCVzCfu",
        "colab_type": "code",
        "outputId": "01cf6823-e7df-4228-cba4-9275e100eea6",
        "colab": {
          "base_uri": "https://localhost:8080/",
          "height": 54
        }
      },
      "source": [
        "a = (1,2,3,4,5,5,6,6)\n",
        "print (a.count(5))\n",
        "print (a.index(6))"
      ],
      "execution_count": 88,
      "outputs": [
        {
          "output_type": "stream",
          "text": [
            "2\n",
            "6\n"
          ],
          "name": "stdout"
        }
      ]
    },
    {
      "cell_type": "markdown",
      "metadata": {
        "id": "XE0hHOoJzGHK",
        "colab_type": "text"
      },
      "source": [
        "(3)  \n",
        "\n",
        "a = (1,2,3,4,5,5,6,6)에서\n",
        "\n",
        "3위치 전에 자르고 5위치 후에 잘라 봅니다.\n",
        "\n",
        "이어서 4위치 이후 것을 모두 잘라 봅니다."
      ]
    },
    {
      "cell_type": "code",
      "metadata": {
        "id": "Rp4Ju8d3zJPk",
        "colab_type": "code",
        "outputId": "5f2ecac4-231f-4713-a187-469287faf50e",
        "colab": {
          "base_uri": "https://localhost:8080/",
          "height": 54
        }
      },
      "source": [
        "a = (1,2,3,4,5,5,6,6)\n",
        "b = a[3:5]\n",
        "c = a[:4]\n",
        "\n",
        "print(b)\n",
        "print (c)"
      ],
      "execution_count": 89,
      "outputs": [
        {
          "output_type": "stream",
          "text": [
            "(4, 5)\n",
            "(1, 2, 3, 4)\n"
          ],
          "name": "stdout"
        }
      ]
    },
    {
      "cell_type": "markdown",
      "metadata": {
        "id": "mJ90oPbezUci",
        "colab_type": "text"
      },
      "source": [
        "#TASK 19 – Set\n",
        "\n",
        "\n",
        "##학습 내용\n",
        "* Set은 dictionary처럼 { }으로 표현됩니다. set 은 아이템을 변경할 수 있으나 반복되는 아이템이 있으면 버립니다.\n",
        "\n",
        "\n",
        "##문법\n",
        "\n",
        "* Set 은 다음과 같은 형태를 취합니다.\n",
        "\n",
        "         myset = { 아이템1, 아이템2, 아이템3, 아이템4}\n",
        "\n",
        "\n",
        " \n",
        "##설명\n",
        "* 예를 들어 리스트에서 아래와 같이 ‘John’ 이 반복되어도 상관 없으나\n",
        "\n",
        "        mylist = [‘John’, ‘Tom, ‘John’, ‘Josh’, ‘Peter’]\n",
        "\n",
        "* 이를 set 으로 바꾸면 반복되는 ‘John’ 이 사라지고 \t\t\t\t\n",
        "\n",
        "        {‘John’, ‘Tom, ‘Josh’, ‘Peter’} 만 남게 됩니다.\n",
        "\n",
        "\n",
        "        myset = set(mylist) \n",
        "        # {‘John’, ‘Tom,  ‘Josh’, ‘Peter’}\n",
        "\n",
        "* Set 은 수학의 집합처럼, a, b 가 set 이라면 합집합 교집합 및 여집합을 만들 수도 있습니다.  \n",
        "\n",
        "        c = a.intersection(b)   \t# c = a & b 교집합\n",
        "        d = a.union(b)              # d = a | b 합집합\n",
        "        e = a.difference(b) \t\t# e = a - b  여집합\n",
        "\n",
        "## 연습\n",
        "\n",
        "* 아래와 같이 두 set 이 있을 때\n",
        "\n",
        "        a = {1,2,3,4,5} \n",
        "        b = {5,6,7,8,9}\n",
        "\n",
        "* 다음 set을 만들어서 프린트 해봅니다.\n",
        "\n",
        "        c = a.intersection(b)   \t# c = a & b 교집합\n",
        "        d = a.union(b)              # d = a | b 합집합\n",
        "        e = a.difference(b) \t\t# e = a - b  여집합\n",
        "\n",
        "\n",
        "\n",
        "##주의\n",
        "* Set 은 중복이 안되기 때문에 겹쳐지는 아이템이 없어짐을 주목합니다.\n",
        "\n",
        "\n",
        "\n",
        "##코딩 부분"
      ]
    },
    {
      "cell_type": "code",
      "metadata": {
        "id": "1B-0mYybzaGC",
        "colab_type": "code",
        "colab": {
          "base_uri": "https://localhost:8080/",
          "height": 72
        },
        "outputId": "3bf70902-e3d5-4699-cd2a-b58ada1e4b7d"
      },
      "source": [
        "a = {1,2,3,4,5} \n",
        "b = {5,6,7,8,9}\n",
        "c = a.intersection(b)   \n",
        "d = a.union(b)\n",
        "e = a.difference(b) \n",
        "\n",
        "print (c)\n",
        "print (d)\n",
        "print (e)"
      ],
      "execution_count": 90,
      "outputs": [
        {
          "output_type": "stream",
          "text": [
            "{5}\n",
            "{1, 2, 3, 4, 5, 6, 7, 8, 9}\n",
            "{1, 2, 3, 4}\n"
          ],
          "name": "stdout"
        }
      ]
    },
    {
      "cell_type": "markdown",
      "metadata": {
        "id": "dnLSeg-Azgfw",
        "colab_type": "text"
      },
      "source": [
        "####Video\n",
        "[video](https://youtu.be/qLYqHN6sLAk)"
      ]
    },
    {
      "cell_type": "markdown",
      "metadata": {
        "id": "OzYziQeWzkfB",
        "colab_type": "text"
      },
      "source": [
        "    \n",
        "##추가 연습 \n",
        "\n",
        "* 메소드 ‘add’ 는 아이템 ‘하나’ 를 더 하게 해줍니다.\n",
        "\n",
        "\n",
        "        set이름.add(아이템)\n",
        "\n",
        "\n",
        "* 메소드 ‘update’ 는 ‘여러’ 개의 아이템을 더하게 해줍니다.\n",
        "\n",
        "\n",
        "        set이름.update(아이템1, 아이템2)\n",
        "\n",
        "\n",
        "* 메소드 ‘remove’ 는 하나를 제거 해줍니다.\n",
        "\n",
        "\n",
        "        set이름.add(아이템)\n",
        "\n",
        "* Set a 에게 아이템 {1,2,3,4,5} 을 주고 \n",
        "  \t\n",
        "6 을 add 하고\n",
        "\n",
        "7,8 을 update 하고\n",
        "\n",
        "5를 remove 하며 각 과정마다 a 를 프린트하여 확인해 봅니다.\n",
        "\n"
      ]
    },
    {
      "cell_type": "code",
      "metadata": {
        "id": "OKDIf8dYzrki",
        "colab_type": "code",
        "outputId": "b357ad0a-9f0c-4902-c402-071084477e03",
        "colab": {
          "base_uri": "https://localhost:8080/",
          "height": 72
        }
      },
      "source": [
        "a = {1,2,3,4,5} \n",
        "\n",
        "a.add(6)\n",
        "print (a)\n",
        "\n",
        "a.update({7,8})\n",
        "print (a)\n",
        "\n",
        "a.remove(5)\n",
        "print (a)"
      ],
      "execution_count": 91,
      "outputs": [
        {
          "output_type": "stream",
          "text": [
            "{1, 2, 3, 4, 5, 6}\n",
            "{1, 2, 3, 4, 5, 6, 7, 8}\n",
            "{1, 2, 3, 4, 6, 7, 8}\n"
          ],
          "name": "stdout"
        }
      ]
    },
    {
      "cell_type": "markdown",
      "metadata": {
        "id": "yKEESvWFzytG",
        "colab_type": "text"
      },
      "source": [
        "####Extra Practice\n",
        "\n",
        "(1) Set 두 개를 리스트처럼 합해보고 곱해 봅니다.\n",
        "\n",
        "        a = {'Chevrolet', 'KIA', 'Mercedes'}\n",
        "        b = {'Ssangyong', 'SM', 'Hyundai'}\n",
        "        a + b 를 합해보고 a * 2 를 해봅니다. \n",
        "        # set은 위 경우에서는 에러가 납니다.\n",
        "\n"
      ]
    },
    {
      "cell_type": "code",
      "metadata": {
        "id": "F80KuYBaz22j",
        "colab_type": "code",
        "outputId": "98b2f90b-0759-4191-9735-d60e783c14ff",
        "colab": {
          "base_uri": "https://localhost:8080/",
          "height": 227
        }
      },
      "source": [
        "a = {'Chevrolet', 'KIA', 'Mercedes'}\n",
        "b = {'Ssangyong', 'SM', 'Hyundai'}\n",
        "c = a + b   #error\n",
        "d = a * 2   #error"
      ],
      "execution_count": 92,
      "outputs": [
        {
          "output_type": "error",
          "ename": "TypeError",
          "evalue": "ignored",
          "traceback": [
            "\u001b[0;31m---------------------------------------------------------------------------\u001b[0m",
            "\u001b[0;31mTypeError\u001b[0m                                 Traceback (most recent call last)",
            "\u001b[0;32m<ipython-input-92-8fc9d2a7910e>\u001b[0m in \u001b[0;36m<module>\u001b[0;34m()\u001b[0m\n\u001b[1;32m      1\u001b[0m \u001b[0ma\u001b[0m \u001b[0;34m=\u001b[0m \u001b[0;34m{\u001b[0m\u001b[0;34m'Chevrolet'\u001b[0m\u001b[0;34m,\u001b[0m \u001b[0;34m'KIA'\u001b[0m\u001b[0;34m,\u001b[0m \u001b[0;34m'Mercedes'\u001b[0m\u001b[0;34m}\u001b[0m\u001b[0;34m\u001b[0m\u001b[0;34m\u001b[0m\u001b[0m\n\u001b[1;32m      2\u001b[0m \u001b[0mb\u001b[0m \u001b[0;34m=\u001b[0m \u001b[0;34m{\u001b[0m\u001b[0;34m'Ssangyong'\u001b[0m\u001b[0;34m,\u001b[0m \u001b[0;34m'SM'\u001b[0m\u001b[0;34m,\u001b[0m \u001b[0;34m'Hyundai'\u001b[0m\u001b[0;34m}\u001b[0m\u001b[0;34m\u001b[0m\u001b[0;34m\u001b[0m\u001b[0m\n\u001b[0;32m----> 3\u001b[0;31m \u001b[0mc\u001b[0m \u001b[0;34m=\u001b[0m \u001b[0ma\u001b[0m \u001b[0;34m+\u001b[0m \u001b[0mb\u001b[0m   \u001b[0;31m#error\u001b[0m\u001b[0;34m\u001b[0m\u001b[0;34m\u001b[0m\u001b[0m\n\u001b[0m\u001b[1;32m      4\u001b[0m \u001b[0md\u001b[0m \u001b[0;34m=\u001b[0m \u001b[0ma\u001b[0m \u001b[0;34m*\u001b[0m \u001b[0;36m2\u001b[0m   \u001b[0;31m#error\u001b[0m\u001b[0;34m\u001b[0m\u001b[0;34m\u001b[0m\u001b[0m\n",
            "\u001b[0;31mTypeError\u001b[0m: unsupported operand type(s) for +: 'set' and 'set'"
          ]
        }
      ]
    },
    {
      "cell_type": "markdown",
      "metadata": {
        "id": "ezTRvJEUz7ph",
        "colab_type": "text"
      },
      "source": [
        "(2) ‘add’"
      ]
    },
    {
      "cell_type": "code",
      "metadata": {
        "id": "wW2ROZUHz9u3",
        "colab_type": "code",
        "outputId": "19ff9ebe-fead-420a-dc42-d73ccd0447d3",
        "colab": {
          "base_uri": "https://localhost:8080/",
          "height": 35
        }
      },
      "source": [
        "a = {'Ford', 'KIA'} \n",
        "\n",
        "a.add('Hyundai')\n",
        "print (a)"
      ],
      "execution_count": 93,
      "outputs": [
        {
          "output_type": "stream",
          "text": [
            "{'Hyundai', 'Ford', 'KIA'}\n"
          ],
          "name": "stdout"
        }
      ]
    },
    {
      "cell_type": "markdown",
      "metadata": {
        "id": "dLvUcgNE0BbN",
        "colab_type": "text"
      },
      "source": [
        "(3) ‘update’ "
      ]
    },
    {
      "cell_type": "code",
      "metadata": {
        "id": "-KRncUm60FSH",
        "colab_type": "code",
        "outputId": "271949f7-49fd-4e22-f856-33f0dda0455e",
        "colab": {
          "base_uri": "https://localhost:8080/",
          "height": 35
        }
      },
      "source": [
        "a = {'Ford', 'KIA'} \n",
        "\n",
        "a.update({'Hyundai', 'Maserati', 'Jaguar'})\n",
        "print (a)"
      ],
      "execution_count": 94,
      "outputs": [
        {
          "output_type": "stream",
          "text": [
            "{'Hyundai', 'Ford', 'Jaguar', 'Maserati', 'KIA'}\n"
          ],
          "name": "stdout"
        }
      ]
    },
    {
      "cell_type": "markdown",
      "metadata": {
        "id": "YkKS1kAN0HbM",
        "colab_type": "text"
      },
      "source": [
        "(4) ‘remove’ "
      ]
    },
    {
      "cell_type": "code",
      "metadata": {
        "id": "HrmTl6CN0K3W",
        "colab_type": "code",
        "colab": {
          "base_uri": "https://localhost:8080/",
          "height": 35
        },
        "outputId": "1854139f-91af-463d-9405-5ec5951bbcfd"
      },
      "source": [
        "a = {'Ford', 'KIA'} \n",
        "\n",
        "\n",
        "a.remove('Ford')\n",
        "print (a)"
      ],
      "execution_count": 95,
      "outputs": [
        {
          "output_type": "stream",
          "text": [
            "{'KIA'}\n"
          ],
          "name": "stdout"
        }
      ]
    },
    {
      "cell_type": "markdown",
      "metadata": {
        "id": "3tzyvB9s0VXZ",
        "colab_type": "text"
      },
      "source": [
        "#TASK 20 - Making Functions\n",
        "\n",
        "\n",
        "##학습 내용\n",
        "* 함수는 반복해서 재사용 할 수 있는 '수학적 공식' 같은 것이라 생각하면 됩니다. 그럼 함수를 한 번 만들어 보겠습니다. \n",
        "\n",
        "\n",
        "##문법\n",
        "\n",
        "            def 함수이름():         # 함수 선언\n",
        "\t\t        함수기능            # 함수 기능 주기\n",
        "        \n",
        "            함수이름                # 함수 호출\n",
        "\n",
        " \n",
        "##설명\n",
        "* ‘brake’란 함수를 만듭니다. 우리는 브레이크의 기능을 알고 있습니다. 밟으면 차가 선다는 기능이지요.  def 문으로 이 함수를 선언합니다.\n",
        "\n",
        "        def brake():     \n",
        "\n",
        "* 아직은 초보적인 기능 밖에 모르므로 print 문으로 기능을 만들어 봅니다.  \n",
        "\n",
        "        print (‘Hit the brake, then the brake will stop the car.’)\n",
        "\n",
        "* 그리고 마지막으로 함수를 call 하여 함수가 작동하도록 해야 합니다. \n",
        "\n",
        "        brake()     \n",
        "\n",
        "* 즉 함수를 선언하여 기능을 정의하고 외부에서 그 함수를 호출하는 방식입니다.\n",
        "\n",
        "\n",
        "\n",
        "## 연습\n",
        "\n",
        "* 비슷하게 하나를 더 해 봅니다.\n",
        "\n",
        "    \t# wiper란 function을 define하고 함수 기능을 준다.\t\n",
        "    \tdef wiper():\t\t\n",
        "    \t\tprint ('When it is rainy, it is useful.') \t\n",
        "    \t\n",
        "    \twiper()\t\t\t# 호출해 봅니다.\n",
        "\n",
        "\n",
        "\n",
        "##주의\n",
        "* def 함수이름():  에서 콜론을 빠트리지 않도록 주의합니다.\n",
        "\n",
        "\n",
        "\n",
        "##코딩 부분"
      ]
    },
    {
      "cell_type": "code",
      "metadata": {
        "id": "NbcZt_0M0ZB2",
        "colab_type": "code",
        "outputId": "857b6240-1dd7-4c79-8a61-578c4d35afb6",
        "colab": {
          "base_uri": "https://localhost:8080/",
          "height": 35
        }
      },
      "source": [
        "def wiper():\n",
        "    print ('When it is rainy, it is useful.')\n",
        "\n",
        "wiper()"
      ],
      "execution_count": 96,
      "outputs": [
        {
          "output_type": "stream",
          "text": [
            "When it is rainy, it is useful.\n"
          ],
          "name": "stdout"
        }
      ]
    },
    {
      "cell_type": "markdown",
      "metadata": {
        "id": "qVPCoL190evt",
        "colab_type": "text"
      },
      "source": [
        "####Video\n",
        "[video](https://youtu.be/_sWwmeNobzc)"
      ]
    },
    {
      "cell_type": "markdown",
      "metadata": {
        "id": "_WBMAr-A0i3N",
        "colab_type": "text"
      },
      "source": [
        "##추가 연습 \n",
        "\n",
        "* x의 세제곱을 구하는 함수를 만들어 보겠습니다.\n",
        "* 함수이름은  mycal()로 합니다.\n",
        "* x = 3이라고 정의하고\n",
        "* x의 세제곱을 출력하도록 함수를 만든  후\n",
        "* mycal()을 호출합니다.\n"
      ]
    },
    {
      "cell_type": "code",
      "metadata": {
        "id": "GafjqznX0l1g",
        "colab_type": "code",
        "outputId": "684cc2ed-a0e8-46e5-e826-a145508132a8",
        "colab": {
          "base_uri": "https://localhost:8080/",
          "height": 35
        }
      },
      "source": [
        "\n",
        "def mycal():\n",
        "\tx = 3\n",
        "\tprint (x**3)\n",
        "\n",
        "mycal()\n"
      ],
      "execution_count": 97,
      "outputs": [
        {
          "output_type": "stream",
          "text": [
            "27\n"
          ],
          "name": "stdout"
        }
      ]
    },
    {
      "cell_type": "markdown",
      "metadata": {
        "id": "N5J8gTAa0tmw",
        "colab_type": "text"
      },
      "source": [
        "\n",
        "####Extra Practice\n",
        "\n",
        "(1) 우리가 “checkingcar”라는 함수를 만들어봅니다.\n",
        "\t\n",
        "\t\tdef checkingcar(): \n",
        "     \t\t\tprint (\"Which car do you like to see?\") \n",
        "     \t\t\tvehicle = input ()\n",
        "     \t\t\tprint (vehicle)\n",
        "     \t\t\tprint \"You are the boss!\"\n",
        "\n",
        "\t\tcheckingcar()\n",
        "\n"
      ]
    },
    {
      "cell_type": "code",
      "metadata": {
        "id": "FlLuTLW40xMZ",
        "colab_type": "code",
        "outputId": "30534a25-edda-4741-dfd4-642577abe328",
        "colab": {
          "base_uri": "https://localhost:8080/",
          "height": 90
        }
      },
      "source": [
        "def checkingcar(): \n",
        "    print (\"Which car do you like to see?\") \n",
        "    vehicle = input ()\n",
        "    print (vehicle)\n",
        "    print (\"You are the boss!\")\n",
        "\n",
        "checkingcar()"
      ],
      "execution_count": 98,
      "outputs": [
        {
          "output_type": "stream",
          "text": [
            "Which car do you like to see?\n",
            "KIA\n",
            "KIA\n",
            "You are the boss!\n"
          ],
          "name": "stdout"
        }
      ]
    },
    {
      "cell_type": "markdown",
      "metadata": {
        "id": "AcnL8GHD1Iro",
        "colab_type": "text"
      },
      "source": [
        "(2)  (1)과 비슷하게\n",
        "\n",
        "비슷하게 하나를 더 해 봅니다.\n",
        "\n",
        "fixingcar 함수를 선언하고 def fixingcar():\n",
        "\n",
        "주 기능을 \"아침에 접촉 사고가 났어요\"를 출력 하는 것으로 하고 print (\"I had a fender bender this morning.\")\n",
        "\n",
        "where = input() # where에 찌그러진 부위를 넣는 것으로 하고 \"right fender\"라고 입력을 해본다.\n",
        "\n",
        "print where # 입력한 것을 출력하는 기능 추가\n",
        "\n",
        "print \"How much is it to fix that?\" # 다시 여기에 얼마면 고치는가를 물어 보면\n",
        "\n",
        "fixingcar() # function을 호출하며 마무리를 짓습니다."
      ]
    },
    {
      "cell_type": "code",
      "metadata": {
        "id": "1IZpjXg31O8d",
        "colab_type": "code",
        "outputId": "6f890bde-6449-45c2-c05a-1271796be1aa",
        "colab": {
          "base_uri": "https://localhost:8080/",
          "height": 90
        }
      },
      "source": [
        "def fixingcar():\n",
        "    print (\"I had a fender bender this morning.\") \n",
        "    where = input(\"where?\")  \n",
        "    print (\"It is the \" + where)\n",
        "    print (\"How much is it to fix that?\")\n",
        "    \n",
        "fixingcar()"
      ],
      "execution_count": 103,
      "outputs": [
        {
          "output_type": "stream",
          "text": [
            "I had a fender bender this morning.\n",
            "where?right fender\n",
            "It is the right fender\n",
            "How much is it to fix that?\n"
          ],
          "name": "stdout"
        }
      ]
    },
    {
      "cell_type": "markdown",
      "metadata": {
        "id": "Gc3G--ba1gpD",
        "colab_type": "text"
      },
      "source": [
        "#TASK 21  -  Parameters and Arguments\n",
        "\n",
        "\n",
        "##학습 내용\n",
        "* Parameter(매개변수)는 변수로 function의 input 역할을 하는 것입니다. \n",
        "* 그리고 Argument는 파라미터의 값으로 함수에서 사용되는 입력되는 값을 의미합니다.\n",
        "\n",
        "\n",
        "##문법\n",
        "\n",
        "         def 함수이름(파라미터1, 파라미터2):    # 함수 선언\n",
        "            함수기능                           # 함수 기능 주기\n",
        "        \n",
        "        함수이름(아규먼트1, 아규먼트2)          # 함수 호출\n",
        "\n",
        "\n",
        " \n",
        "##설명\n",
        "* 수학의 함수에서 f(x) = 10x라고 정의했다고 가정하면, 여기서 x가 매개변수인 파라미터이고 x에 3을 넣어주면 답은 30이 되는데 여기서 3이 x의 값에 해당되는 아규먼트라고 이해를 하면 됩니다.  \n",
        "* 우리는 앞에서 ‘brake’라는 아주 간단한 함수를 만든 적 있습니다. 여기서는 * parameters & arguments를 사용하여 function ‘brake’ 를 다시 만들어 봅니다. \n",
        "* 우선 parameter를 함수 brake에 주어봅니다. \n",
        "\n",
        "        def brake(pedal,pad):\n",
        "\n",
        "* 그리고 pedal과 pad에 다음과 같은 아규먼트 값을 줍니다.\n",
        "\n",
        "\t\tpedal의 argument값은 \"Hit the brake,\"\n",
        "\t\tpad의 argument값은  \" then the brake will stop the car.\"\n",
        "\n",
        "\n",
        "## 연습\n",
        "* 앞의 brake함수를 완성해 보겠습니다.\n",
        "\n",
        "        # 파라미터를 주고 함수를 정의합니다.\n",
        "\t\t\n",
        "\t\tdef brake(pedal,pad):\n",
        "\t\t\tprint(pedal + pad)\n",
        "\n",
        "\t    # 아래에서 argument의 값을 주고 호출합니다.\n",
        "\t\t\n",
        "\t\tbrake(\"Hit the brake,\",\" then the brake will stop the car.\")\n",
        "\n",
        "\n",
        "##주의\n",
        "* 아규먼트의 개수가 파라미터와 일치해야 합니다.\n",
        "\n",
        "\n",
        "\n",
        "\n",
        "##코딩 부분\n"
      ]
    },
    {
      "cell_type": "code",
      "metadata": {
        "id": "TQi5-TU35gfi",
        "colab_type": "code",
        "outputId": "6bbcb7a3-d3fd-4c31-de44-280bcf785bdf",
        "colab": {
          "base_uri": "https://localhost:8080/",
          "height": 35
        }
      },
      "source": [
        "def brake(pedal,pad):\n",
        "\n",
        "   print (pedal + pad)\n",
        "\n",
        "brake(\"Hit the brake,\",\" then the brake will stop the car.\")"
      ],
      "execution_count": 104,
      "outputs": [
        {
          "output_type": "stream",
          "text": [
            "Hit the brake, then the brake will stop the car.\n"
          ],
          "name": "stdout"
        }
      ]
    },
    {
      "cell_type": "markdown",
      "metadata": {
        "id": "7pUuQ-QV5oFI",
        "colab_type": "text"
      },
      "source": [
        "####Video\n",
        "[video](https://youtu.be/EZyPjes9A7M)"
      ]
    },
    {
      "cell_type": "markdown",
      "metadata": {
        "id": "Mbsw5ETJ5sdX",
        "colab_type": "text"
      },
      "source": [
        "##추가 연습 \n",
        "\n",
        "* 함수 my_function3를 선언합니다\n",
        "* parameter로 (wish, country) 두 개를 부여합니다.\n",
        "* 두 개를 합하여 아래를 프린트하게 아규먼트를 부여합니다\n",
        "\n",
        "        I would like to go to Korea.\n",
        "        I would like to visit Spain.\n",
        "        I would like to live in Australia.\n",
        "\n"
      ]
    },
    {
      "cell_type": "code",
      "metadata": {
        "id": "Ddj3lcOB5ut4",
        "colab_type": "code",
        "outputId": "70c22bb4-e9e7-4751-8860-97beceda503a",
        "colab": {
          "base_uri": "https://localhost:8080/",
          "height": 72
        }
      },
      "source": [
        "def my_function3(wish, country):\n",
        "   \tprint (wish + country)\n",
        "\n",
        "my_function3(\"I would like to go to\", \" Korea.\")\n",
        "my_function3(\"I would like to visit\", \" Spain.\")\n",
        "my_function3(\"I would like to live in\", \" Australia.\")"
      ],
      "execution_count": 105,
      "outputs": [
        {
          "output_type": "stream",
          "text": [
            "I would like to go to Korea.\n",
            "I would like to visit Spain.\n",
            "I would like to live in Australia.\n"
          ],
          "name": "stdout"
        }
      ]
    },
    {
      "cell_type": "markdown",
      "metadata": {
        "id": "1DY7kTVxE1DO",
        "colab_type": "text"
      },
      "source": [
        "\n",
        "####Extra Practice\n",
        "\n",
        "(1) 함수 wiper를 선언합니다.\n",
        "\twiper의 parameter로 (water, clean) 두 개를 부여합니다.\n",
        "\t두 개를 합하여 프린트 합니다.\n",
        "\twater 의 argument 에 \"물 분사\" 를 줍니다.\n",
        "\tclean의 argument 에 \"왔다 갔다\" 를 줍니다.\n",
        "\n",
        "\t\tdef wiper (water, clean):\n",
        "\t\t   \t\tprint(water + \" & \" + clean)\n",
        "\t\t\n",
        "\t\twiper(\"물 분사\",\"왔다 갔다\")\n"
      ]
    },
    {
      "cell_type": "code",
      "metadata": {
        "id": "4FmG-FomE2oZ",
        "colab_type": "code",
        "outputId": "85350db2-76f2-438b-9edc-7d67c673cf05",
        "colab": {
          "base_uri": "https://localhost:8080/",
          "height": 35
        }
      },
      "source": [
        "def wiper (water, clean):\n",
        "    print(water + \" & \" + clean)\n",
        "\t\n",
        "wiper(\"물 분사\", \"왔다 갔다\")\n"
      ],
      "execution_count": 106,
      "outputs": [
        {
          "output_type": "stream",
          "text": [
            "물 분사 & 왔다 갔다\n"
          ],
          "name": "stdout"
        }
      ]
    },
    {
      "cell_type": "markdown",
      "metadata": {
        "id": "ixDuE0NzE614",
        "colab_type": "text"
      },
      "source": [
        "(2)  이름을 합해 봅니다.\n",
        "\n",
        "\t\tdef my_function2(first_name):\n",
        "\t\t\tprint(first_name + \" Choi\")\n",
        "\n",
        "\t\tmy_function2(\"Joshua\")\t\t# Joshua Choi\n",
        "\t\tmy_function2(\"Rachel\")\t\t# Rachel Choi\n"
      ]
    },
    {
      "cell_type": "code",
      "metadata": {
        "id": "5c2lcQiWE_gX",
        "colab_type": "code",
        "outputId": "da36024d-cf49-402a-a91f-034a8d71c0a5",
        "colab": {
          "base_uri": "https://localhost:8080/",
          "height": 54
        }
      },
      "source": [
        "def my_function2(first_name):\n",
        "    print(first_name + \" Choi\")\n",
        "\n",
        "my_function2(\"Joshua\") \n",
        "my_function2(\"Rachel\") "
      ],
      "execution_count": 107,
      "outputs": [
        {
          "output_type": "stream",
          "text": [
            "Joshua Choi\n",
            "Rachel Choi\n"
          ],
          "name": "stdout"
        }
      ]
    },
    {
      "cell_type": "markdown",
      "metadata": {
        "id": "HkduHIY2FFC-",
        "colab_type": "text"
      },
      "source": [
        "(3)  제곱과 세제곱을 만드는 함수를 만들어 봅니다."
      ]
    },
    {
      "cell_type": "code",
      "metadata": {
        "id": "3Q0A4nD7FGbq",
        "colab_type": "code",
        "outputId": "31b70f88-9a28-4beb-f94e-cedf9378f5fd",
        "colab": {
          "base_uri": "https://localhost:8080/",
          "height": 72
        }
      },
      "source": [
        "def my_function4(a,b):\n",
        "     print (a**2, b**3)\n",
        "\n",
        "my_function4(1,2)\n",
        "my_function4(3,4)\n",
        "my_function4(5,6)"
      ],
      "execution_count": 108,
      "outputs": [
        {
          "output_type": "stream",
          "text": [
            "1 8\n",
            "9 64\n",
            "25 216\n"
          ],
          "name": "stdout"
        }
      ]
    },
    {
      "cell_type": "markdown",
      "metadata": {
        "id": "hZjL4sN_FLzc",
        "colab_type": "text"
      },
      "source": [
        "#TASK 22  - Conditional Statements in Functions\n",
        "\n",
        "\n",
        "##학습 내용\n",
        "* 조건문이 들어가는 function을 만들어 보겠습니다. if – elif - else 문을 함수 안에 넣어 보겠습니다.\n",
        "\n",
        "\n",
        "##문법\n",
        "* 다음과 같은 형태로 함수 안에 조건문을 넣은 함수를 만들어 봅니다.\n",
        "\n",
        "        def 함수이름(parameters):\n",
        "\t\t    if condition:\n",
        "\t\t\t    return\n",
        "\t\t    elif condition:\n",
        "\t\t\t    return\n",
        "\t\t    else:\n",
        "\t\t\t    return\n",
        "      \t\n",
        "        함수이름(arguments)\n",
        "\n",
        "\n",
        " \n",
        "##설명\n",
        "* 함수 안에 기능을 넣을 때 조건문을 넣어서 만들 수 있습니다.\n",
        "* def 함수이름(): 과 끝에 호출 하는 중간에 일반적인 조건문과 같은 방법으로 조건문을 넣는다고 생각하면 됩니다.\n",
        "\n",
        "\n",
        "## 연습\n",
        "* 우선 if –else로 엑셀러레이터라는 함수를 만들어 봅니다. \n",
        "\n",
        "        Function : accelerator\n",
        "        Condition : speed 가 시속 80km 를 넘으면 \"Slow down!\" 을 출력합니다.\n",
        "        else; 그 외의 경우는 Go!를 출력한다\n",
        "\n",
        "\n",
        "##주의\n",
        "* return은 결과 값을 반환하는 것을 의미합니다.\n",
        "\n",
        "\n",
        "\n",
        "##코딩 부분"
      ]
    },
    {
      "cell_type": "code",
      "metadata": {
        "id": "dvo-ad4cFUDG",
        "colab_type": "code",
        "outputId": "828d0fd2-23a2-4d1c-d54a-cce78d486f48",
        "colab": {
          "base_uri": "https://localhost:8080/",
          "height": 35
        }
      },
      "source": [
        "def accelerator(speed):\n",
        "\tif speed > 80:\n",
        "\t\tprint (\"Slow down!\")\n",
        "\telse:\n",
        "\t\tprint (\"Go!\")\n",
        "\n",
        "accelerator(85)"
      ],
      "execution_count": 109,
      "outputs": [
        {
          "output_type": "stream",
          "text": [
            "Slow down!\n"
          ],
          "name": "stdout"
        }
      ]
    },
    {
      "cell_type": "markdown",
      "metadata": {
        "id": "2yoStdbDFY5h",
        "colab_type": "text"
      },
      "source": [
        "####Video\n",
        "[video](https://youtu.be/5BHPc5BUss0)"
      ]
    },
    {
      "cell_type": "markdown",
      "metadata": {
        "id": "OKBg2RAUFdgN",
        "colab_type": "text"
      },
      "source": [
        "\n",
        "##추가 연습 \n",
        "\n",
        "* if - elif - else 로 만들어 봅니다.\n",
        "\n",
        "\t\tx = 5\n",
        "\t\ty = 10\n",
        "\t    이라고 하고\n",
        "\t\t함수 cal() 을 선언하고\n",
        "\t\t\tif x == y 면 print (‘They are the same.’)\n",
        "\t\t\telif x > y 이면 print (‘x is larger than y’)\n",
        "\t\t\telse: print (‘y is larger than x.’)\n",
        "\t\t로 하고 함수 cal() 을 호출함으로 끝나는 함수를 만들어 봅니다.\n",
        "\n"
      ]
    },
    {
      "cell_type": "code",
      "metadata": {
        "id": "bXzWpGCIFgMJ",
        "colab_type": "code",
        "outputId": "b46ab607-25c1-453a-8f35-68309eb41c9b",
        "colab": {
          "base_uri": "https://localhost:8080/",
          "height": 35
        }
      },
      "source": [
        "x = 5\n",
        "y = 10\n",
        "\n",
        "def cal():\n",
        "\tif x == y:\n",
        "\t\tprint (\"They are the same.\")\n",
        "\telif x > y:\n",
        "\t\tprint (\"x is larger than y\")\n",
        "\telse:\n",
        "\t\tprint (\"y is larger than x.\")\n",
        "\n",
        "cal()"
      ],
      "execution_count": 110,
      "outputs": [
        {
          "output_type": "stream",
          "text": [
            "y is larger than x.\n"
          ],
          "name": "stdout"
        }
      ]
    },
    {
      "cell_type": "markdown",
      "metadata": {
        "id": "3FhjL-lBFlk8",
        "colab_type": "text"
      },
      "source": [
        "\n",
        "#### Extra Practice\n",
        "\n",
        "(1) 냉수 자판기 함수를 만들어 봅니다.\n",
        "\n",
        "\t    벤딩머신(자판기)이란 말은 길어지니 seller로 해서 함수를 정의하고 \n",
        "\t    price1과 price2를 parameter로 줍니다.\n",
        "\t    price는 30도 초과이면 600원, 아니면 500원으로 합니다. \t\n"
      ]
    },
    {
      "cell_type": "code",
      "metadata": {
        "id": "IwDsf4iTFngj",
        "colab_type": "code",
        "outputId": "5439a248-3b84-41a4-a2ff-9945f9cf2701",
        "colab": {
          "base_uri": "https://localhost:8080/",
          "height": 54
        }
      },
      "source": [
        "def seller(temp,price):\n",
        "    if temp > 30:\n",
        "        print (\"The price for a bottle of cold water is {} won.\".format(price))\n",
        "    else:\n",
        "        print (\"The price for a bottle of cold water is {} won.\".format(price))\n",
        "\n",
        "seller(32,600)\n",
        "seller(25,500)"
      ],
      "execution_count": 111,
      "outputs": [
        {
          "output_type": "stream",
          "text": [
            "The price for a bottle of cold water is 600 won.\n",
            "The price for a bottle of cold water is 500 won.\n"
          ],
          "name": "stdout"
        }
      ]
    },
    {
      "cell_type": "markdown",
      "metadata": {
        "id": "cUobJ3qyFsuN",
        "colab_type": "text"
      },
      "source": [
        "\n",
        "(2) (1)에서\n",
        "\n",
        "\t    온도가 30도 초과이면 냉수는 600원\n",
        "\t    온도가 25도 이하이면 냉수가 400원\n",
        "        그 외 (25~30) 온도에서는 500원으로 자판기 함수를 만들어 봅니다. \n"
      ]
    },
    {
      "cell_type": "code",
      "metadata": {
        "id": "aBqYnUu9FwFE",
        "colab_type": "code",
        "outputId": "2bb93643-0480-4e81-a44f-b41aad5c9a8c",
        "colab": {
          "base_uri": "https://localhost:8080/",
          "height": 72
        }
      },
      "source": [
        "def seller(temp,price):\n",
        "    if temp > 30:\n",
        "        print (\"The price for a bottle of cold water is {} won.\".format(price))\n",
        "    elif temp <= 25:\n",
        "        print (\"The price for a bottle of cold water is {} won.\".format(price))\n",
        "    else:\n",
        "        print (\"The price for a bottle of cold water is {} won.\".format(price))\n",
        "\n",
        "seller(32,600)\n",
        "seller(26,500)\n",
        "seller(22,400)"
      ],
      "execution_count": 112,
      "outputs": [
        {
          "output_type": "stream",
          "text": [
            "The price for a bottle of cold water is 600 won.\n",
            "The price for a bottle of cold water is 500 won.\n",
            "The price for a bottle of cold water is 400 won.\n"
          ],
          "name": "stdout"
        }
      ]
    },
    {
      "cell_type": "markdown",
      "metadata": {
        "id": "s3ynWpwZF2ON",
        "colab_type": "text"
      },
      "source": [
        "\n",
        "#TASK 23 -  Importing Modules\n",
        "\n",
        "\n",
        "##학습 내용\n",
        "* import 는 이미 만들어진 모듈을 호출하여 사용할 수 있게 해주는 역할을 합니다. 우리는 함수에 대해 배웠습니다.  이미 만들어진 모듈을 호출하는 것을 배워봅니다.\n",
        "\n",
        "\n",
        "##문법\n",
        "* 다음과 random 이라는 모듈은 값을 무작위로 제공 할 수 있는 모듈입니다. random 내에서 정수를 임의로 선택하는 함수인 randint 를 가져오면 무작위로 정수 값을 얻을 수 있습니다.\n",
        "\n",
        "         from random import randint\n",
        "\n",
        "* 시간과 날짜와 관계된 프로그램을 수행하고 싶다면 최선의 방법은 datetime 모듈을 import 할 수 있습니다.\n",
        "\n",
        "\n",
        "         from datetime import datetime\n",
        "\n",
        "##설명\n",
        "* randint 는 특정 영역 안에 있는 정수를 임의로 선택하게 해줍니다. \n",
        "\n",
        "\n",
        "         toss = randint(0, 1) # 0과 1 둘 중 하나를 토스 값으로 줍니다.\n",
        "\n",
        "\n",
        "* datetime 은 현재시간의 값을 줍니다. \n",
        "\n",
        "\n",
        "        current_time = datetime.now()   \t# 현재 시간 값\n",
        "        c_year = current_time.year      \t# 현재 시간에서 연도 값\n",
        "        c_month = current_time.month  \t  # 현재 시간에서 월 값\n",
        "        c_day = current_time.day       \t # 현재 시간에서 일 값\n",
        "\n",
        "\n",
        "## 연습\n",
        "\n",
        "* 주사위를 던져 1에서 6 사이 임의로 나오는 값을 구해봅니다.\n",
        "* 변수 current_time = datetime.now() 를 만들어 봅니다.\n",
        "* 변수 c_year = current_time.year 를 만들어 봅니다.\n",
        "* 변수 c_month = current_time.month 를 만들어 봅니다.\n",
        "* 변수 c_day = current_time.day를 만들어 봅니다.\n",
        "* 이를 출력해봅니다.\n",
        "\n",
        "\n",
        "##주의\n",
        "* datetime 외에도 time 이란 아주 살짝 다른 모듈이 있습니다.\n",
        "\n",
        "\n",
        "\n",
        "\n",
        "##코딩 부분"
      ]
    },
    {
      "cell_type": "code",
      "metadata": {
        "id": "1wFkjMV6F3tG",
        "colab_type": "code",
        "outputId": "4d4c9970-a0b1-472c-d58f-01e69b1c8886",
        "colab": {
          "base_uri": "https://localhost:8080/",
          "height": 90
        }
      },
      "source": [
        "from random import randint\n",
        "\n",
        "dice_toss = randint(1, 6)\n",
        "print (dice_toss)\n",
        "\n",
        "from datetime import datetime\n",
        "\n",
        "current_time = datetime.now()\n",
        "c_year = current_time.year \n",
        "c_month = current_time.month\n",
        "c_day = current_time.day\n",
        "print (c_year)\n",
        "print (c_month)\n",
        "print (c_day)\n"
      ],
      "execution_count": 113,
      "outputs": [
        {
          "output_type": "stream",
          "text": [
            "6\n",
            "2019\n",
            "12\n",
            "18\n"
          ],
          "name": "stdout"
        }
      ]
    },
    {
      "cell_type": "markdown",
      "metadata": {
        "id": "HNQeZuwnF-sE",
        "colab_type": "text"
      },
      "source": [
        "####Video\n",
        "[video](https://youtu.be/EIJW79Pej3A)"
      ]
    },
    {
      "cell_type": "markdown",
      "metadata": {
        "id": "SMoOrApxGF9o",
        "colab_type": "text"
      },
      "source": [
        "  \n",
        "##추가 연습 \n",
        "\n",
        "* ‘math’ module 을 사용해 보겠습니다.\n",
        "* 우선 math module 을 import 해야 합니다\n",
        "* 다음 4개의 함수를 배워 봅니다: ceil, floor, max, min\n",
        "\n",
        "        ceil()      # '올림' 의 기능을 합니다. 주어진 숫자보다 같거나 더 큰 정수를 결과 값으로 받습니다.\n",
        "        floor()     # '내림' 의 기능을 합니다. 주어진 숫자보다 같거나 더 작은 정수를 결과 값으로 받습니다.\n",
        "        max()       # 주어진 숫자 중에서 가장 큰 값을 보여 줍니다. string 일 경우 알파벳에서 가장 늦은 순서의 알파벳을 보여 줍니다.\n",
        "        min()       # 주어진 숫자 중에서 가장 작은 값을 보여 줍니다. string 일 경우 알파벳에서 가장 빠른 순서의 알파벳을 보여 줍니다.\n"
      ]
    },
    {
      "cell_type": "code",
      "metadata": {
        "id": "XadIYFrHGEsE",
        "colab_type": "code",
        "outputId": "3ef7a38e-0676-443c-af6e-a21b87515813",
        "colab": {
          "base_uri": "https://localhost:8080/",
          "height": 126
        }
      },
      "source": [
        "import math               \n",
        "\n",
        "print (math.ceil(0.5))           \n",
        "print (math.floor(0.5))  \n",
        "print (max([1, 2, 3]))\n",
        "print (max('Chevrolet'))\n",
        "print (min([1, 2, 3]))\n",
        "print (min('Chevrolet'))"
      ],
      "execution_count": 114,
      "outputs": [
        {
          "output_type": "stream",
          "text": [
            "1\n",
            "0\n",
            "3\n",
            "v\n",
            "1\n",
            "C\n"
          ],
          "name": "stdout"
        }
      ]
    },
    {
      "cell_type": "markdown",
      "metadata": {
        "id": "SiH4QHCpGPSz",
        "colab_type": "text"
      },
      "source": [
        "###Extra Practice\n",
        "\n",
        "(1)  기타 유용한 함수를 불러 와 보겠습니다\n",
        "\n",
        "math를 불러와 스퀘어루트를 해봅니다."
      ]
    },
    {
      "cell_type": "code",
      "metadata": {
        "id": "R6SnAg4eGQ4L",
        "colab_type": "code",
        "outputId": "614413e2-a8c6-4f5f-cb1e-85656bb94ab3",
        "colab": {
          "base_uri": "https://localhost:8080/",
          "height": 35
        }
      },
      "source": [
        "import math\n",
        "\n",
        "mynumber = math.sqrt(10)\n",
        "print (mynumber)"
      ],
      "execution_count": 115,
      "outputs": [
        {
          "output_type": "stream",
          "text": [
            "3.1622776601683795\n"
          ],
          "name": "stdout"
        }
      ]
    },
    {
      "cell_type": "markdown",
      "metadata": {
        "id": "NibTVoRLGU0A",
        "colab_type": "text"
      },
      "source": [
        "(2)  math를 불러와 팩토리얼를 해봅니다.\n",
        "\n",
        "기억하신다면....팩토리얼은 계승으로 n! 이런 형식으로 나옵니다.\n",
        "\n",
        "3! = 123 = 6 기억 나시나요?"
      ]
    },
    {
      "cell_type": "code",
      "metadata": {
        "id": "wguquHm8GWxV",
        "colab_type": "code",
        "outputId": "6fefd8b7-0a35-439e-d3ce-e9eab030c832",
        "colab": {
          "base_uri": "https://localhost:8080/",
          "height": 35
        }
      },
      "source": [
        "import math\n",
        "mynumber2 = math.factorial(4)\n",
        "print (mynumber2)"
      ],
      "execution_count": 116,
      "outputs": [
        {
          "output_type": "stream",
          "text": [
            "24\n"
          ],
          "name": "stdout"
        }
      ]
    },
    {
      "cell_type": "markdown",
      "metadata": {
        "id": "2BIAAou_GdrG",
        "colab_type": "text"
      },
      "source": [
        "(3)   유명 농구선수인 하든과 커리가 일대일 농구를 합니다..\n",
        "\n",
        "이 게임에서 둘은 11~30점을 넣을 수 있다고 가정합니다.\n",
        "\n",
        "누가 이기는지 한 번 볼까요?\n"
      ]
    },
    {
      "cell_type": "code",
      "metadata": {
        "id": "LY750NtBGfHP",
        "colab_type": "code",
        "outputId": "6dafc257-9d42-441e-c80d-a7d7e4eda2f2",
        "colab": {
          "base_uri": "https://localhost:8080/",
          "height": 72
        }
      },
      "source": [
        "from random import randint\n",
        "\n",
        "coin_toss = randint(0, 1)\n",
        "print (coin_toss)\n",
        "\n",
        "harden_score = randint(11, 30)\n",
        "curry_score =  randint(11, 30)\n",
        "\n",
        "print (harden_score)\n",
        "\n",
        "print (curry_score)"
      ],
      "execution_count": 117,
      "outputs": [
        {
          "output_type": "stream",
          "text": [
            "0\n",
            "29\n",
            "16\n"
          ],
          "name": "stdout"
        }
      ]
    },
    {
      "cell_type": "markdown",
      "metadata": {
        "id": "Poo2v22OGlRH",
        "colab_type": "text"
      },
      "source": [
        "(4) 주사위 던지기를 만들어 볼 수도 있습니다.\n"
      ]
    },
    {
      "cell_type": "code",
      "metadata": {
        "id": "asgvdIn2Goe0",
        "colab_type": "code",
        "outputId": "9dbc2dec-be9a-4d9f-d470-3613d625a56c",
        "colab": {
          "base_uri": "https://localhost:8080/",
          "height": 35
        }
      },
      "source": [
        "from random import randint\n",
        "\n",
        "dice_toss = randint(1, 6)\n",
        "\n",
        "print (dice_toss)"
      ],
      "execution_count": 118,
      "outputs": [
        {
          "output_type": "stream",
          "text": [
            "6\n"
          ],
          "name": "stdout"
        }
      ]
    },
    {
      "cell_type": "markdown",
      "metadata": {
        "id": "mhpaNMVfGqKL",
        "colab_type": "text"
      },
      "source": [
        "(5) 비슷하게 하나를 더 해 봅니다.\n",
        "\n",
        "윳놀이 판을 놓고 도개걸윳모를 각각 1,2,3,4,5로 놓고 두 사람이 윳 놀이를 한 번 해 보세요.\n"
      ]
    },
    {
      "cell_type": "code",
      "metadata": {
        "id": "OPkh8qKyGuNG",
        "colab_type": "code",
        "outputId": "937961c9-2364-494a-985c-1a610c780537",
        "colab": {
          "base_uri": "https://localhost:8080/",
          "height": 35
        }
      },
      "source": [
        "from random import randint\n",
        "\n",
        "yoot_toss = randint(1, 5)\n",
        "print (yoot_toss)"
      ],
      "execution_count": 119,
      "outputs": [
        {
          "output_type": "stream",
          "text": [
            "5\n"
          ],
          "name": "stdout"
        }
      ]
    },
    {
      "cell_type": "markdown",
      "metadata": {
        "id": "U17Xk09gG7l8",
        "colab_type": "text"
      },
      "source": [
        "(6) 우리는 날짜를 년-월-일 이런 식으로 출력하기를 원할 수 있고, 미국식으로 월-일-년 식으로 출력이 되기를 원할 수 있다.\n",
        "\n",
        "그래서 이 것을 어떻게 이끌어 낼지를 보자.\n",
        "\n",
        "앞페이지와 똑 같이 current_time을 이끌어 낸 다음에 년-월-일 식으로 출력해본다.\n",
        "\n",
        "Python 2에서는 %02d 형태로 나타난다 (0은 최소 2자리수로 만들어 주고 2d는 2자리 4d는 4자리로 만들어 준다\n",
        "\n",
        "Python3에서는 “{0:0=2d},format(a) 형식으로 사용된다\n"
      ]
    },
    {
      "cell_type": "code",
      "metadata": {
        "id": "2Oj0mq0UG9gG",
        "colab_type": "code",
        "outputId": "3aa88462-08c9-4b62-d256-170e787ce53c",
        "colab": {
          "base_uri": "https://localhost:8080/",
          "height": 35
        }
      },
      "source": [
        "from datetime import datetime\n",
        "current_time = datetime.now()\n",
        "\n",
        "current_year = current_time.year\n",
        "current_month = current_time.month\n",
        "current_day = current_time.day\n",
        "\n",
        "print (\"{0:0=4d}-{1:0=02d}-{2:0=02d}\".format(current_year, current_month, current_day))\n",
        "#위와 같이 하면 우리가 원하는 모양으로 나올 것인가?"
      ],
      "execution_count": 120,
      "outputs": [
        {
          "output_type": "stream",
          "text": [
            "2019-12-18\n"
          ],
          "name": "stdout"
        }
      ]
    },
    {
      "cell_type": "markdown",
      "metadata": {
        "id": "4x3xk9lqOgPH",
        "colab_type": "text"
      },
      "source": [
        "#TASK 24      -      For Loop\n",
        "\n",
        "\n",
        "##학습 내용\n",
        "* 파이썬에는 for loop 과 while loop이 있습니다. for는 어떤 법위내에서 한정된 루프를 돌릴 때 사용합니다. \n",
        "\n",
        "\n",
        "##문법\n",
        "* for 는 다음과 같은 형태를 취합니다.\n",
        "\n",
        "         for 변수 in 대상:\n",
        "\t\t        수행 내용\n",
        "\n",
        "\n",
        " \n",
        "##설명\n",
        "* 다음과 같이 리스트의 범위 내에서 숫자를 출력하도록 할 수 있습니다.\n",
        "\n",
        "        a=[1,2,3,4,5]\n",
        "\n",
        "        for var in a:\n",
        "            print (var) \t# 이 다섯 개 아이템들을 차례로 출력됩니다.\n",
        "\n",
        "* string 도 마찬가지로 할 수 있습니다.\n",
        "\n",
        "\n",
        "        b = [＂KIA＂, ＂BMW＂}\n",
        "\n",
        "        for s in b:\n",
        "\t\t    print (s)\n",
        "\n",
        "\n",
        "\n",
        "## 연습\n",
        "\n",
        "* 스트링＂car＂를 for i in range(5): 를 사용하여 다섯 번 출력해 봅니다. \n",
        "* 숫자 1 부터 10 까지 더해봅니다. \n",
        "* ‘KOREA’ 를 알파벳으로 하나씩 출력해 봅니다.\n",
        "\n",
        "\n",
        "\n",
        "##주의\n",
        "* range 를 쓸 때  range(2,5) 라고 하면 2 부터 4 (5가 아님) 가 적용됨\n",
        "* range(5)는 0,1,2,3,4 즉 다섯 번이 적용됨\n",
        "\n",
        "\n",
        "\n",
        "\n",
        "##코딩 부분"
      ]
    },
    {
      "cell_type": "code",
      "metadata": {
        "id": "fXJ78sFVOkXF",
        "colab_type": "code",
        "outputId": "d4469267-d609-4d2d-f556-f351d9aeb83a",
        "colab": {
          "base_uri": "https://localhost:8080/",
          "height": 217
        }
      },
      "source": [
        "for i in range(5):\n",
        "\tprint ('car')\n",
        "\n",
        "total = 0\n",
        "n = 10      \n",
        "for i in range(1, n + 1): \n",
        "\ttotal += i     \n",
        "print (total)\n",
        "\n",
        "for character in 'KOREA':\n",
        "\tprint (character)\n"
      ],
      "execution_count": 121,
      "outputs": [
        {
          "output_type": "stream",
          "text": [
            "car\n",
            "car\n",
            "car\n",
            "car\n",
            "car\n",
            "55\n",
            "K\n",
            "O\n",
            "R\n",
            "E\n",
            "A\n"
          ],
          "name": "stdout"
        }
      ]
    },
    {
      "cell_type": "markdown",
      "metadata": {
        "id": "F26XDDYNOoaV",
        "colab_type": "text"
      },
      "source": [
        "####Video\n",
        "[video](https://youtu.be/qs6KPsPVhrA)"
      ]
    },
    {
      "cell_type": "markdown",
      "metadata": {
        "id": "25Ym7LKIOrrw",
        "colab_type": "text"
      },
      "source": [
        "  \n",
        "    \n",
        "##추가 연습 \n",
        "\n",
        "* range 로 세 가지를 더 해 봅니다.\n",
        "\n",
        "(1) 2부터 4까지 숫자를 제곱과 세제곱을 만들어 출력합니다.\n",
        "\n",
        "    끝에 ‘That’s it’ 을 출력합니다\n",
        "\n",
        "(2) range에서 시작 값과 마지막 값 그리고 각 단계별로 더하거나 빼는 값을 넣는 아래 문법을 사용하여 10에서 0까지 레인지에서 3씩 빼 나가는 것을 해봅니다.\n",
        "\n",
        "        range(start_value, end_value, step)\n",
        "    \n",
        "(3) 마찬가지로 10에서 20까지 3 씩 더해 가는 것도 해봅니다.\n",
        "\n"
      ]
    },
    {
      "cell_type": "code",
      "metadata": {
        "id": "VbBwWnaaOutQ",
        "colab_type": "code",
        "outputId": "62837cf2-59c1-4038-cb9f-c266f676d848",
        "colab": {
          "base_uri": "https://localhost:8080/",
          "height": 235
        }
      },
      "source": [
        "for i in range(2, 5):\n",
        "\tprint (i**2, i**3)\n",
        "print (\"That's it\")\n",
        "\n",
        "for n in range(10, 0, -3):\n",
        "\tprint (n)\n",
        "\n",
        "for n in range(10, 20, 3):\n",
        "\tprint (n)"
      ],
      "execution_count": 122,
      "outputs": [
        {
          "output_type": "stream",
          "text": [
            "4 8\n",
            "9 27\n",
            "16 64\n",
            "That's it\n",
            "10\n",
            "7\n",
            "4\n",
            "1\n",
            "10\n",
            "13\n",
            "16\n",
            "19\n"
          ],
          "name": "stdout"
        }
      ]
    },
    {
      "cell_type": "markdown",
      "metadata": {
        "id": "G0TEJVAEO3kJ",
        "colab_type": "text"
      },
      "source": [
        "###Extra Practice\n",
        "\n",
        "(1) 리스트에 있는 차들을 가지고 \"I love 해당브랜드\" 를 리스트 범위 내에서 프린트 합니다.  \n"
      ]
    },
    {
      "cell_type": "code",
      "metadata": {
        "id": "jtvXnvzyO43u",
        "colab_type": "code",
        "outputId": "bc16de48-4080-40ae-f822-569114fda032",
        "colab": {
          "base_uri": "https://localhost:8080/",
          "height": 72
        }
      },
      "source": [
        "makers = ['KIA', 'Jaguar', 'BMW']\n",
        "\n",
        "for i in range(len(makers)):\n",
        "    print(\"I love {}\".format(makers[i]))"
      ],
      "execution_count": 123,
      "outputs": [
        {
          "output_type": "stream",
          "text": [
            "I love KIA\n",
            "I love Jaguar\n",
            "I love BMW\n"
          ],
          "name": "stdout"
        }
      ]
    },
    {
      "cell_type": "markdown",
      "metadata": {
        "id": "B01P-zX9O7p_",
        "colab_type": "text"
      },
      "source": [
        "(2)   리스트를 차례로 프린트 하고 리스트가 끝나면 That's it을 프린트 합니다."
      ]
    },
    {
      "cell_type": "code",
      "metadata": {
        "id": "_SISOYtkPAQs",
        "colab_type": "code",
        "outputId": "f089d55d-f29d-48da-8ff2-c24866f081a2",
        "colab": {
          "base_uri": "https://localhost:8080/",
          "height": 90
        }
      },
      "source": [
        "mylist = [0, 1, 5]\n",
        "\n",
        "for i in mylist:\n",
        "    print(i)\n",
        "\n",
        "else:\n",
        "    print(\"That's it\")"
      ],
      "execution_count": 124,
      "outputs": [
        {
          "output_type": "stream",
          "text": [
            "0\n",
            "1\n",
            "5\n",
            "That's it\n"
          ],
          "name": "stdout"
        }
      ]
    },
    {
      "cell_type": "markdown",
      "metadata": {
        "id": "ploQhDjiO9Uv",
        "colab_type": "text"
      },
      "source": [
        "(3) 20부터 0까지 2씩 빼나가는 것을 프린트 합니다.  "
      ]
    },
    {
      "cell_type": "code",
      "metadata": {
        "id": "hiPqKt2EPIW6",
        "colab_type": "code",
        "outputId": "3d08c59a-52ef-4e15-e8d6-bd23c17de8c3",
        "colab": {
          "base_uri": "https://localhost:8080/",
          "height": 199
        }
      },
      "source": [
        "\n",
        "for n in range(20, 0, -2):\n",
        "    print(n) "
      ],
      "execution_count": 125,
      "outputs": [
        {
          "output_type": "stream",
          "text": [
            "20\n",
            "18\n",
            "16\n",
            "14\n",
            "12\n",
            "10\n",
            "8\n",
            "6\n",
            "4\n",
            "2\n"
          ],
          "name": "stdout"
        }
      ]
    },
    {
      "cell_type": "markdown",
      "metadata": {
        "id": "RjY5PL1MPPL9",
        "colab_type": "text"
      },
      "source": [
        "#TASK 25     While / While - Else Loop\n",
        "\n",
        "\n",
        "##학습 내용\n",
        "* \"while loop\" 은 조건이 False 가 될 때까지 반복할 때 쓰이는 루프입니다. \n",
        "\n",
        "\n",
        "##문법\n",
        "* while 은 다음과 같은 형태를 취합니다.\n",
        "\n",
        "         while condition:\n",
        "\t\t    body\n",
        "\n",
        "\n",
        " \n",
        "##설명\n",
        "* while 은 우리가 for 처럼 몇 회, 숫자 몇 까지 같이 명확하게 주어지는 것이 아니라 언제 끝날지 확실히 모를 때 또는 몇 번이나 반복할지 확실하지 않을 때 (조건이 될 때 까지) 주로 사용됩니다. \n",
        "* 예를 보겠습니다. 아래는 정수가 5이하일 때 세제곱을 프린트 하라고 하는 것입니다. (물론 여기서는 간단한 것이니 뻔히 몇 회 루프가 돌지 보입니다) \n",
        "\n",
        "        i = 1\n",
        "        while i <= 5:\n",
        "\t\t    print (i ** 3)\n",
        "\t\t    i += 1       \t\t# 이는 i = i + 1 과 같은 표현임 \n",
        "\n",
        "\n",
        "## 연습\n",
        "\n",
        "*앞의 예를 다른 숫자로 실행해 봅니다.\n",
        "\n",
        "\t\ti = 15 에서 시작하여\n",
        "\t\t1 > 0 보다 큰 조건에서 \n",
        "\t\t\ti 의 제곱을 출력해 봅니다.\n",
        "\t\t\t이어서 i 에서 2씩 빼 나갑니다.\n",
        "\n",
        "\n",
        "\n",
        "##주의\n",
        "* i -= 1 은 i = i – 1 과 같은 뜻입니다.\n",
        "\n",
        "\n",
        "\n",
        "\n",
        "##코딩 부분"
      ]
    },
    {
      "cell_type": "code",
      "metadata": {
        "id": "vZfcGrIqPShD",
        "colab_type": "code",
        "outputId": "ec0d49b6-bac2-4cc8-e9d7-bd599601d7a9",
        "colab": {
          "base_uri": "https://localhost:8080/",
          "height": 163
        }
      },
      "source": [
        "i = 15\n",
        "\n",
        "while i > 0:\n",
        "    print (i ** 2)\n",
        "    i -= 2"
      ],
      "execution_count": 126,
      "outputs": [
        {
          "output_type": "stream",
          "text": [
            "225\n",
            "169\n",
            "121\n",
            "81\n",
            "49\n",
            "25\n",
            "9\n",
            "1\n"
          ],
          "name": "stdout"
        }
      ]
    },
    {
      "cell_type": "markdown",
      "metadata": {
        "id": "nR3LcSq_PaA0",
        "colab_type": "text"
      },
      "source": [
        "####Video\n",
        "[video](https://youtu.be/Te7f5UZjKkA)"
      ]
    },
    {
      "cell_type": "markdown",
      "metadata": {
        "id": "_AGa06P6PfR_",
        "colab_type": "text"
      },
      "source": [
        "##추가 연습 \n",
        "\n",
        "* While-else\n",
        "\t\n",
        "이번에는 조건문의 else 를 끝에 추가해 문장을 하나 더 출력해 봅니다.\n",
        "\n",
        "        i = 1\n",
        "\n",
        "        while i <= 3:\n",
        "            print (i)\n",
        "            i += 1\n",
        "        else:\n",
        "            print (\"That's it\")\n",
        "\n",
        "* 이를 실제로 실행해 봅니다.\n"
      ]
    },
    {
      "cell_type": "code",
      "metadata": {
        "id": "DPtcoPQgPh-Q",
        "colab_type": "code",
        "outputId": "2fac1877-bd2f-4fff-c97c-0c3d73e14e7d",
        "colab": {
          "base_uri": "https://localhost:8080/",
          "height": 90
        }
      },
      "source": [
        "i = 1\n",
        "\n",
        "while i <= 3:\n",
        "\tprint (i)\n",
        "\ti += 1\n",
        "else:\n",
        "    print (\"That's it.\")"
      ],
      "execution_count": 127,
      "outputs": [
        {
          "output_type": "stream",
          "text": [
            "1\n",
            "2\n",
            "3\n",
            "That's it.\n"
          ],
          "name": "stdout"
        }
      ]
    },
    {
      "cell_type": "markdown",
      "metadata": {
        "id": "DZ6viRnXPl6R",
        "colab_type": "text"
      },
      "source": [
        "####Extra Practice\n",
        "\n",
        "(1)  정수가 0이상일 때까지 5에서 1씩 빼면서 제곱을 프린트하게 해봅니다.\n"
      ]
    },
    {
      "cell_type": "code",
      "metadata": {
        "id": "-3Uyf195Pwjv",
        "colab_type": "code",
        "outputId": "a1c27130-d833-441a-a0d6-26b96f397b5e",
        "colab": {
          "base_uri": "https://localhost:8080/",
          "height": 108
        }
      },
      "source": [
        "i = 5\n",
        "while i>0:\n",
        "   print (i**2)\n",
        "   i -= 1"
      ],
      "execution_count": 128,
      "outputs": [
        {
          "output_type": "stream",
          "text": [
            "25\n",
            "16\n",
            "9\n",
            "4\n",
            "1\n"
          ],
          "name": "stdout"
        }
      ]
    },
    {
      "cell_type": "markdown",
      "metadata": {
        "id": "QNi5_NQ9P01K",
        "colab_type": "text"
      },
      "source": [
        "(2)   \n",
        "\n",
        "      for ... in range(...) \n",
        "      = \n",
        "      while conditonal ranges\n"
      ]
    },
    {
      "cell_type": "code",
      "metadata": {
        "id": "w1vsKOl_P3jL",
        "colab_type": "code",
        "outputId": "56df3017-8634-4349-de58-71a76615874b",
        "colab": {
          "base_uri": "https://localhost:8080/",
          "height": 217
        }
      },
      "source": [
        "i = 0\n",
        "while i <= 10:\n",
        "    print(i ** 3)\n",
        "    i += 1"
      ],
      "execution_count": 129,
      "outputs": [
        {
          "output_type": "stream",
          "text": [
            "0\n",
            "1\n",
            "8\n",
            "27\n",
            "64\n",
            "125\n",
            "216\n",
            "343\n",
            "512\n",
            "729\n",
            "1000\n"
          ],
          "name": "stdout"
        }
      ]
    },
    {
      "cell_type": "markdown",
      "metadata": {
        "id": "IRqiKWd6P50F",
        "colab_type": "text"
      },
      "source": [
        "(3)   "
      ]
    },
    {
      "cell_type": "code",
      "metadata": {
        "id": "CBkPfMLjP8iA",
        "colab_type": "code",
        "outputId": "c7688266-60c1-430c-9a77-f8959b1aed8f",
        "colab": {
          "base_uri": "https://localhost:8080/",
          "height": 54
        }
      },
      "source": [
        "i = int(input())\n",
        "\n",
        "digits = 0\n",
        "\n",
        "while i > 0:\n",
        "    i = i//10\n",
        "    digits += 1\n",
        "print(digits)\n"
      ],
      "execution_count": 130,
      "outputs": [
        {
          "output_type": "stream",
          "text": [
            "20\n",
            "2\n"
          ],
          "name": "stdout"
        }
      ]
    },
    {
      "cell_type": "markdown",
      "metadata": {
        "id": "96vFuStmP_M7",
        "colab_type": "text"
      },
      "source": [
        "(4)"
      ]
    },
    {
      "cell_type": "code",
      "metadata": {
        "id": "gJkKMbFqQCf3",
        "colab_type": "code",
        "outputId": "e063a736-e75d-453c-f1f7-f4bb6fcbddfd",
        "colab": {
          "base_uri": "https://localhost:8080/",
          "height": 235
        }
      },
      "source": [
        "i = 1\n",
        "while i <= 10:\n",
        "    print(i)\n",
        "    i += 1\n",
        "else:\n",
        "    print(\"That's it as i became\", i)\n",
        "    print(\"That's it as i became {}\".format(i))"
      ],
      "execution_count": 131,
      "outputs": [
        {
          "output_type": "stream",
          "text": [
            "1\n",
            "2\n",
            "3\n",
            "4\n",
            "5\n",
            "6\n",
            "7\n",
            "8\n",
            "9\n",
            "10\n",
            "That's it as i became 11\n",
            "That's it as i became 11\n"
          ],
          "name": "stdout"
        }
      ]
    },
    {
      "cell_type": "markdown",
      "metadata": {
        "id": "AuB86DLwQYdi",
        "colab_type": "text"
      },
      "source": [
        "#TASK 26    -   Break/Continue\n",
        "\n",
        "\n",
        "##학습 내용\n",
        "* for 나 while loop 에서 빠져나오려면 break 문을 사용합니다. loop 를 빠져나오지 않고 해당 조건만 건너뛰고 싶을 때는 continue 문을 사용합니다. \n",
        "\n",
        "\n",
        "##설명\n",
        "####break\n",
        "* break 문을 배워 봅니다. 이는 특정 조건이 맞을 때 루프를 중단하라고 명령하는 것입니다. (아래에서는 4가 되면 더 이상 루프를 돌리지 말라는 break 문을 넣어 본 것입니다.) \n",
        "\n",
        "         \ti = 1\n",
        "\n",
        "\t        while i <= 10:\n",
        "\t\t        print (i)\n",
        "\t\t        if i == 4:\n",
        "\t\t\t        break\n",
        "\t\t        i += 1\n",
        "\n",
        "####continue\n",
        "* continue 문을 배워 봅니다. 이는 현재 진행 중인 루프를 거부하고  마지막 조건을 계속 다시 위로 보내는 역할을 합니다.\n",
        "\n",
        "         \ti = 1\n",
        "\n",
        "\t        while i <= 5:\n",
        "\t\t        i += 1\n",
        "\t\t        if i == 4:\n",
        "\t\t\t        continue\n",
        "\t\n",
        "        \tprint (i)\n",
        "\n",
        "\n",
        "## 연습\n",
        "* 1에서 5까지 출력을 하는데 중간에 3이 오면 break 를 하게 해봅니다.\n",
        "* 1에서 5까지 출력을 하는데 중간에 3이 오면 continue 를 하게하여 뛰어 넘게 해봅니다.\n",
        "\n",
        "\n",
        "\n",
        "##주의\n",
        "* 어떤 범위까지 출력을 할 때 그 범위에 대한 정확한 설정이 중요합니다. \n",
        "\n",
        "\n",
        "\n",
        "\n",
        "##코딩 부분"
      ]
    },
    {
      "cell_type": "code",
      "metadata": {
        "id": "PntcLM_yQb8x",
        "colab_type": "code",
        "outputId": "0f87244c-80dc-4cec-de9a-b1c1635b418b",
        "colab": {
          "base_uri": "https://localhost:8080/",
          "height": 163
        }
      },
      "source": [
        "\n",
        "i = 0\n",
        "\n",
        "while i <= 5:\n",
        "\tprint (i)\n",
        "\tif i == 3:\n",
        "\t\tbreak\n",
        "\ti += 1\n",
        "\n",
        "i = 0\n",
        "while i <= 4:\n",
        "\ti += 1\n",
        "\tif i == 3:\n",
        "\t\tcontinue\n",
        "\telse:\n",
        "\t\tprint (i)\n"
      ],
      "execution_count": 137,
      "outputs": [
        {
          "output_type": "stream",
          "text": [
            "0\n",
            "1\n",
            "2\n",
            "3\n",
            "1\n",
            "2\n",
            "4\n",
            "5\n"
          ],
          "name": "stdout"
        }
      ]
    },
    {
      "cell_type": "markdown",
      "metadata": {
        "id": "0RXE363pQzUS",
        "colab_type": "text"
      },
      "source": [
        "##추가 연습 \n",
        "\n",
        "(1) \t짝수 출력\n",
        "* 홀수를 건너 띄게 하여 짝수만 1 부터 10 사이에서 출력하게 해봅니다.\n",
        "* 이를 위해서는 나머지가 0 이 되지 않는 숫자는 continue 하게 만들어야 합니다.\n",
        "\n",
        "(2) \t홀수 출력\n",
        "* 마찬가지로 짝수를 건너 띄게 하여 홀수만 1 부터 10사 이에서 출력하게 해봅니다.\n",
        "* 이를 위해서는 나머지가 1이 되지 않는 숫자는 continue 하게 만들어야 합니다.\n",
        "\n"
      ]
    },
    {
      "cell_type": "code",
      "metadata": {
        "id": "B4SEqNi5Q2qm",
        "colab_type": "code",
        "outputId": "986263db-f4cb-401b-9103-3f09e5e0b978",
        "colab": {
          "base_uri": "https://localhost:8080/",
          "height": 199
        }
      },
      "source": [
        "for num in range(1, 11):\n",
        "\tif num % 2 == 0:\n",
        "\t\tprint (num)\n",
        "\tcontinue\n",
        "\n",
        "for num in range(1, 11):\n",
        "\tif num % 2 == 1:\n",
        "\t\tprint (num)\n",
        "\tcontinue"
      ],
      "execution_count": 138,
      "outputs": [
        {
          "output_type": "stream",
          "text": [
            "2\n",
            "4\n",
            "6\n",
            "8\n",
            "10\n",
            "1\n",
            "3\n",
            "5\n",
            "7\n",
            "9\n"
          ],
          "name": "stdout"
        }
      ]
    },
    {
      "cell_type": "markdown",
      "metadata": {
        "id": "7569pwv_RDF5",
        "colab_type": "text"
      },
      "source": [
        "###Extra Practice\n",
        "\n",
        "(1) 1에서 10까지 출력을 하는데 중간에 7이 오면 break를 하게 한다"
      ]
    },
    {
      "cell_type": "code",
      "metadata": {
        "id": "xF7XKtq8RGFr",
        "colab_type": "code",
        "outputId": "4bf4e759-0b54-4534-f8b9-2a0b1494b3df",
        "colab": {
          "base_uri": "https://localhost:8080/",
          "height": 163
        }
      },
      "source": [
        "i = 0\n",
        "while i <= 10:\n",
        "    print(i)\n",
        "    if i == 7:\n",
        "             break\n",
        "    i += 1"
      ],
      "execution_count": 139,
      "outputs": [
        {
          "output_type": "stream",
          "text": [
            "0\n",
            "1\n",
            "2\n",
            "3\n",
            "4\n",
            "5\n",
            "6\n",
            "7\n"
          ],
          "name": "stdout"
        }
      ]
    },
    {
      "cell_type": "markdown",
      "metadata": {
        "id": "JsfH828kRI9m",
        "colab_type": "text"
      },
      "source": [
        "(2)  1에서 10까지 출력을 하는데 중간에 7이 오면continue를 하게하여 뛰어 넘게 한다.\n"
      ]
    },
    {
      "cell_type": "code",
      "metadata": {
        "id": "qRQDpeCFRKtG",
        "colab_type": "code",
        "outputId": "7d16f40f-b3af-472c-8807-5c48fb289e26",
        "colab": {
          "base_uri": "https://localhost:8080/",
          "height": 163
        }
      },
      "source": [
        "i = 1\n",
        "while i <= 9:\n",
        "    i += 1\n",
        "    if i == 7:\n",
        "             continue\n",
        "    print (i)"
      ],
      "execution_count": 140,
      "outputs": [
        {
          "output_type": "stream",
          "text": [
            "2\n",
            "3\n",
            "4\n",
            "5\n",
            "6\n",
            "8\n",
            "9\n",
            "10\n"
          ],
          "name": "stdout"
        }
      ]
    },
    {
      "cell_type": "markdown",
      "metadata": {
        "id": "RZMz-2LaROsy",
        "colab_type": "text"
      },
      "source": [
        "(3)  아무 숫자나 계속 입력하게 하여 게속 더하나 합이 30을 넘으면 그 때까지 합을 My sum is 와 함께 출력하게 한다.\n",
        "\n"
      ]
    },
    {
      "cell_type": "code",
      "metadata": {
        "id": "5BY_XD6bRQgD",
        "colab_type": "code",
        "outputId": "b5018142-49d9-4fcc-feda-e8167ae52cda",
        "colab": {
          "base_uri": "https://localhost:8080/",
          "height": 145
        }
      },
      "source": [
        "my_sum = 0\n",
        "i = input(\"Enter any number\")\n",
        "n =int(i)\n",
        "\n",
        "while n != 0:\n",
        "    my_sum = my_sum + n\n",
        "    if my_sum >= 30:\n",
        "        print(\"My sum is {}\".format(my_sum))\n",
        "        break\n",
        "    n = int(input())\n"
      ],
      "execution_count": 141,
      "outputs": [
        {
          "output_type": "stream",
          "text": [
            "Enter any number2\n",
            "3\n",
            "6\n",
            "7\n",
            "8\n",
            "9\n",
            "My sum is 35\n"
          ],
          "name": "stdout"
        }
      ]
    },
    {
      "cell_type": "markdown",
      "metadata": {
        "id": "XOygcwBFRcs3",
        "colab_type": "text"
      },
      "source": [
        "(4) 한자리 숫자 다섯개를 넣어라고 하는데 혹시 (그럴리야 없겠지만) 마이너스 숫자를 넣는다면 break 하게 해봅니다.\n"
      ]
    },
    {
      "cell_type": "code",
      "metadata": {
        "id": "usID-rQpRecN",
        "colab_type": "code",
        "outputId": "5c685d6a-69c6-4740-cb80-c8cfaa12da70",
        "colab": {
          "base_uri": "https://localhost:8080/",
          "height": 145
        }
      },
      "source": [
        "print (\"Please enter your 5 digit id code one by one.\")\n",
        "for i in range(5):\n",
        "    a = int(input())\n",
        "    if a < 0: \n",
        "        print(\"{} is not a valid number. Please enter positive integers only.\".format(a))\n",
        "        break\n",
        "else:\n",
        "    print('Thank you for entering your id')"
      ],
      "execution_count": 143,
      "outputs": [
        {
          "output_type": "stream",
          "text": [
            "Please enter your 5 digit id code one by one.\n",
            "1\n",
            "1\n",
            "1\n",
            "1\n",
            "1\n",
            "Thank you for entering your id\n"
          ],
          "name": "stdout"
        }
      ]
    },
    {
      "cell_type": "markdown",
      "metadata": {
        "id": "BWkAxjWWRnt9",
        "colab_type": "text"
      },
      "source": [
        "(5) 2부터 9까지 루프를 돌려서 짝수가 나오면 Found an even number 홀수가 나오면 Found an odd number가 출력되게 한다.\n"
      ]
    },
    {
      "cell_type": "code",
      "metadata": {
        "id": "y7FQ0IcWRqTX",
        "colab_type": "code",
        "outputId": "4fa4d3e6-3707-438e-a0de-d2d4ae2c3ebc",
        "colab": {
          "base_uri": "https://localhost:8080/",
          "height": 163
        }
      },
      "source": [
        "for num in range(2, 10):\n",
        "    if num % 2 == 0:\n",
        "        print(\"Found an even number\", num)\n",
        "        continue\n",
        "    print(\"Found an odd number\", num)"
      ],
      "execution_count": 144,
      "outputs": [
        {
          "output_type": "stream",
          "text": [
            "Found an even number 2\n",
            "Found an odd number 3\n",
            "Found an even number 4\n",
            "Found an odd number 5\n",
            "Found an even number 6\n",
            "Found an odd number 7\n",
            "Found an even number 8\n",
            "Found an odd number 9\n"
          ],
          "name": "stdout"
        }
      ]
    },
    {
      "cell_type": "markdown",
      "metadata": {
        "id": "tIfSqy0URwFS",
        "colab_type": "text"
      },
      "source": [
        "#TASK 27     -        File I/O\n",
        "\n",
        "\n",
        "##학습 내용\n",
        "* 에디터를 벗어난 파일을 다루기 위해 \"File I/O\" 를 학습하여야 합니다. 이는 추후 학습에서 꼭 필요한 과정으로 사무 자동화 등에 유용하게 쓰이는 부분의 기초적인 내용입니다. \n",
        "\n",
        "\n",
        "##문법\n",
        "* 3개의 아이템을 가진 test list 를 만들어 봅니다. 이어서 f(=file) 라는 variable 으로 test.txt 를 여는데 \"w\"(=writing) 모드로 엽니다. 이 경우 여러분이 보시는 main.py 우측에 test.txt 가 열림을 볼 수 있습니다. 이어서 close 를 하여 마무리 합니다. 이 과정이 리스트를 통해 파일을 만들고 이를 쓰기 모드에서 열어보았다가 닫는 과정입니다. \n",
        "\n",
        "        test_list = [\"KIA\", \"Porsche\", \"Maserati\"]\n",
        "        f = open(\"test.txt\", \"w\")\n",
        "        f.close()\n",
        "\n",
        "\n",
        " \n",
        "##설명\n",
        "* 하지만 아직 리스트에 있는 아이템이 test.txt 파일에 쓰여 진 것은 아닙니다. 따라서 for loop를 활용하여 리스트에 있는 string item들이 아래와 같은 방법을 통해 파일에 입력 되도록 합니다.\n",
        "\n",
        "        for value in test_list:\n",
        "\t\t    f.write(str(value))\n",
        "\n",
        "\n",
        "## 연습\n",
        "* 앞에 경우에서 리스트를 출력해보면 이 경우 알파벳 순서대로 \n",
        "\t\n",
        "        \"KIAMaseratiPorsche\" \n",
        "\t\n",
        "이런 형식으로 출력이 됩니다. \n",
        "\n",
        "빈공간이 없으므로 붙어서 나오게 되지요. \n",
        "\n",
        "\\n 을 넣어서 줄 바꾸기를 하여 세로로 나오도록 해봅니다.\n",
        "\n",
        "내용을 그냥 숫자 1,2,3,5,6 으로 된 리스트로 만들어 보겠습니다.\n",
        "\n",
        " \n",
        "\n",
        "##주의\n",
        "* \\n 을 넣어서 줄 바꾸기를 하여 세로로 나오도록 할 수 있습니다.\n",
        "\n",
        "\n",
        "\n",
        "##코딩 부분"
      ]
    },
    {
      "cell_type": "code",
      "metadata": {
        "id": "zGdiz8p2RxqY",
        "colab_type": "code",
        "outputId": "7c7256fd-16c1-4db3-8a01-08a40e0abd94",
        "colab": {
          "base_uri": "https://localhost:8080/",
          "height": 126
        }
      },
      "source": [
        "test_list = [ 1, 2, 3, 4, 5, 6]\n",
        "f = open(\"test_list.txt\", \"w\")\n",
        "\n",
        "for item in test_list:\n",
        "\tf.write(str(item) + \"\\n\")\n",
        "\tprint (str(item))\n",
        "\n",
        "f.close()"
      ],
      "execution_count": 145,
      "outputs": [
        {
          "output_type": "stream",
          "text": [
            "1\n",
            "2\n",
            "3\n",
            "4\n",
            "5\n",
            "6\n"
          ],
          "name": "stdout"
        }
      ]
    },
    {
      "cell_type": "markdown",
      "metadata": {
        "id": "7lYOk43sR24b",
        "colab_type": "text"
      },
      "source": [
        "####Video\n",
        "[video](https://youtu.be/q1Vpg6UiPAA)"
      ]
    },
    {
      "cell_type": "markdown",
      "metadata": {
        "id": "Bq2NjiMjR8HR",
        "colab_type": "text"
      },
      "source": [
        "##추가 연습 \n",
        "\n",
        "* 이제 읽기를 해봅니다.\n",
        "* 파일 읽기는 \"r\" 모드에서 되며 우리의 입장에서는 제대로 읽었는지 알 수가 없으므로 이를 프린트 함으로 확인합니다.\n",
        "* 앞의 페이지와 같은 방법으로 파일을 만든 후 그 다음에 읽기를 해봅니다. \n",
        "* 그런데 쓰기 모드에서 새로운 쓰기 모드를 하면 앞의 리스트를 덮어 써 버립니다.\n",
        "* 그래서 앞에 것을 지우지 않게 추가만 할 경우 append 모드 \"a\" 로 씁니다.\n",
        "* 4를 “w” 모드로 쓰면 1,2,3 은 없어지고 4 만 남습니다.\n",
        "* 하지만 “a” 모드로 쓰면 1,2,3 에 4 가 더 해집니다.\n",
        "* 연습을 해봅니다.\n"
      ]
    },
    {
      "cell_type": "code",
      "metadata": {
        "id": "hkADBVkQR9gO",
        "colab_type": "code",
        "outputId": "82006db7-248e-48cb-83e8-1c530eb54c4b",
        "colab": {
          "base_uri": "https://localhost:8080/",
          "height": 35
        }
      },
      "source": [
        "test_list = [1,2,3]\n",
        "f = open(\"test_list.txt\",\"w\")\n",
        "\n",
        "for item in test_list:\n",
        "\tf.write(str(item) + \"\\n\")\n",
        "\n",
        "fr =  open(\"test_list.txt\",\"r\")\n",
        "print (fr.read())\n",
        "\n",
        "frp = open(\"test_list.txt\",\"a\")\n",
        "frp.write('4')\n",
        "\n",
        "frp.close()\n"
      ],
      "execution_count": 146,
      "outputs": [
        {
          "output_type": "stream",
          "text": [
            "\n"
          ],
          "name": "stdout"
        }
      ]
    },
    {
      "cell_type": "markdown",
      "metadata": {
        "id": "IpXMRd-eSSW4",
        "colab_type": "text"
      },
      "source": [
        "    # main.py에서는 1,2,3 만 보이나 test_list.txt 를 보면 1,2,3,4 가 나온다. "
      ]
    },
    {
      "cell_type": "markdown",
      "metadata": {
        "id": "iDZCLj-WS3sn",
        "colab_type": "text"
      },
      "source": [
        "###Extra Practice\n",
        "\n",
        "(1)  test_list = [ \"홍길동\", \"임꺽정\", \"성춘향\"] 으로하고\n",
        "\n",
        "file을 w모드로 연다.\n",
        "\n",
        "test 리스트를 줄을 바꾸어서 쓸 수 있도록 해본다.\n",
        "\n",
        "이어서 이를 출력해본다."
      ]
    },
    {
      "cell_type": "code",
      "metadata": {
        "id": "D5qTCmFkS8FX",
        "colab_type": "code",
        "outputId": "9323cfbc-9d5e-48eb-95eb-b3204e372c6b",
        "colab": {
          "base_uri": "https://localhost:8080/",
          "height": 72
        }
      },
      "source": [
        "test_list =  [\"홍길동\", \"임꺽정\",\"성춘향\"]\n",
        "f = open(\"test_list.txt\", \"w\")\n",
        "for item in test_list:\n",
        "  f.write(str(item) + \"\\n\")\n",
        "  print(str(item))\n",
        "\n",
        "f.close()"
      ],
      "execution_count": 147,
      "outputs": [
        {
          "output_type": "stream",
          "text": [
            "홍길동\n",
            "임꺽정\n",
            "성춘향\n"
          ],
          "name": "stdout"
        }
      ]
    },
    {
      "cell_type": "markdown",
      "metadata": {
        "id": "NLBPtshoTANI",
        "colab_type": "text"
      },
      "source": [
        "(2) 같은 방법으로 같은 반 학생의 이름 3개 이상을 사용하여 출력을 할 수 있도록 한다."
      ]
    },
    {
      "cell_type": "code",
      "metadata": {
        "id": "t-UYHwHfTDbn",
        "colab_type": "code",
        "outputId": "2555cbca-5f12-4a6c-b79e-38eeca1ba234",
        "colab": {
          "base_uri": "https://localhost:8080/",
          "height": 72
        }
      },
      "source": [
        "test_list =  [\"류현진\", \"추신수\",\"박찬호\"]\n",
        "f = open(\"test_list.txt\", \"w\")\n",
        "for item in test_list:\n",
        "  f.write(str(item) + \"\\n\")\n",
        "  print(str(item))\n",
        "\n",
        "f.close()"
      ],
      "execution_count": 148,
      "outputs": [
        {
          "output_type": "stream",
          "text": [
            "류현진\n",
            "추신수\n",
            "박찬호\n"
          ],
          "name": "stdout"
        }
      ]
    },
    {
      "cell_type": "markdown",
      "metadata": {
        "id": "0Kg-lokfTMUV",
        "colab_type": "text"
      },
      "source": [
        "\n",
        "(3) 테스트 리스트 를 아래와 같이 설정하고\n",
        "\n",
        "test_list = [\"홍길동\", \"임꺽정\",\"성춘향\"]\n",
        "\n",
        "w모드로 연다.\n",
        "\n",
        "f = open(\"test_list.txt\",\"w\")\n",
        "\n",
        "아이템들을 파일에 입력 한다\n",
        "\n",
        "for item in test_list:\n",
        "\n",
        "f.write(str(item) + \"\\n\")\n",
        "\n",
        "프린트를 해본다\n",
        "\n",
        "print(str(item))\n",
        "\n",
        "이어서 파일을 일기 모드에서 실행해본다.\n",
        "\n",
        "fr = open(\"test_list.txt\", \"r\")\n",
        "\n",
        "프린트해서 잘 읽었는지 확인\n",
        "\n",
        "print fr.read()\n",
        "\n",
        "close해서 마무리\n",
        "\n",
        "fr.close()\n",
        "\n",
        "이 과정을 직접 입력해본다."
      ]
    },
    {
      "cell_type": "code",
      "metadata": {
        "id": "-hl094gCTQH_",
        "colab_type": "code",
        "outputId": "d4cadf08-bb82-4fd6-cdc4-acc96bdd9bb6",
        "colab": {
          "base_uri": "https://localhost:8080/",
          "height": 54
        }
      },
      "source": [
        "test_list = [\"홍길동\", \"임꺽정\",\"성춘향\"]\n",
        "f = open(\"test_list.txt\",\"w\")\n",
        "for item in test_list:\n",
        "   f.write(str(item) + \"\\n\")\n",
        "print(str(item))\n",
        "fr = open(\"test_list.txt\", \"r\")\n",
        "print (fr.read())\n",
        "fr.close()\n",
        "\n",
        "\n",
        "# 결과 콘솔이 아니라 main.py 옆에 test_list.txt 를 보아야 한다."
      ],
      "execution_count": 149,
      "outputs": [
        {
          "output_type": "stream",
          "text": [
            "성춘향\n",
            "\n"
          ],
          "name": "stdout"
        }
      ]
    },
    {
      "cell_type": "markdown",
      "metadata": {
        "id": "-OtPIiV2TeWf",
        "colab_type": "text"
      },
      "source": [
        "(5)\n",
        "\n",
        "        test_list =  [\"홍길동\", \"임꺽정\",\"성춘향\"]\n",
        "    \n",
        "        f = open(\"test_list.txt\",\"w\")\n",
        "    \n",
        "        for item in test_list:\n",
        "    \n",
        "        f.write(str(item) + \"\\n\")\n",
        "    \n",
        "        print(str(item))\n",
        "\n",
        "이어서 append로 자신의 이름을 넣어본다\n",
        "\n",
        "          frp = open(\"test_list.txt\", \"a\")\n",
        "           frp.write(\"내이름\")\n",
        "\n",
        "        frp.close()"
      ]
    },
    {
      "cell_type": "code",
      "metadata": {
        "id": "yIz40f7gTgZu",
        "colab_type": "code",
        "colab": {
          "base_uri": "https://localhost:8080/",
          "height": 35
        },
        "outputId": "fb189158-3915-4104-ec20-5c8c5c1600f9"
      },
      "source": [
        "test_list =  [\"홍길동\", \"임꺽정\",\"성춘향\"]\n",
        "f = open(\"test_list.txt\",\"w\")\n",
        "for item in test_list:\n",
        "    f.write(str(item) + \"\\n\")\n",
        "print(str(item))\n",
        "frp = open(\"test_list.txt\", \"a\")\n",
        "frp.write(\"내이름\")\n",
        "frp.close()\n",
        "\n",
        "# 결과 콘솔이 아니라 main.py 옆에 test_list.txt 를 보아야 한다."
      ],
      "execution_count": 150,
      "outputs": [
        {
          "output_type": "stream",
          "text": [
            "성춘향\n"
          ],
          "name": "stdout"
        }
      ]
    },
    {
      "cell_type": "markdown",
      "metadata": {
        "id": "qT3E5uiDTtXA",
        "colab_type": "text"
      },
      "source": [
        "####Extra Practice - Colab File I/O\n",
        "\n",
        "* 이제 초보를 약간 벗어나 Colab에서 csv 파일을 불러와서 조작하는 방법을 배우겠습니다.\n",
        "* 이를 위해서는 (지금 까지의 범위를 벗어나나) NumPy와 Pandas를 불러와서 작업을 하겠습니다.\n",
        "* Kaggle Titanic 파일을 사용하겠습니다 "
      ]
    },
    {
      "cell_type": "markdown",
      "metadata": {
        "id": "3qqI36ZVmT7f",
        "colab_type": "text"
      },
      "source": [
        "* 불러오기"
      ]
    },
    {
      "cell_type": "code",
      "metadata": {
        "id": "IkVg2HnMmWff",
        "colab_type": "code",
        "colab": {}
      },
      "source": [
        "import math, time, random, datetime\n",
        "import numpy as np\n",
        "import pandas as pd\n",
        "import warnings\n",
        "warnings.filterwarnings('ignore')"
      ],
      "execution_count": 0,
      "outputs": []
    },
    {
      "cell_type": "code",
      "metadata": {
        "id": "5mkOFDQemh_v",
        "colab_type": "code",
        "colab": {
          "resources": {
            "http://localhost:8080/nbextensions/google.colab/files.js": {
              "data": "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",
              "ok": true,
              "headers": [
                [
                  "content-type",
                  "application/javascript"
                ]
              ],
              "status": 200,
              "status_text": ""
            }
          },
          "base_uri": "https://localhost:8080/",
          "height": 78
        },
        "outputId": "1c35cdb3-425c-43a6-b8f9-8feaf6b6d4fd"
      },
      "source": [
        "from google.colab import files\n",
        "uploaded = files.upload()"
      ],
      "execution_count": 192,
      "outputs": [
        {
          "output_type": "display_data",
          "data": {
            "text/html": [
              "\n",
              "     <input type=\"file\" id=\"files-6f4167e7-52f1-4864-8ecf-c964ebcd77c9\" name=\"files[]\" multiple disabled />\n",
              "     <output id=\"result-6f4167e7-52f1-4864-8ecf-c964ebcd77c9\">\n",
              "      Upload widget is only available when the cell has been executed in the\n",
              "      current browser session. Please rerun this cell to enable.\n",
              "      </output>\n",
              "      <script src=\"/nbextensions/google.colab/files.js\"></script> "
            ],
            "text/plain": [
              "<IPython.core.display.HTML object>"
            ]
          },
          "metadata": {
            "tags": []
          }
        },
        {
          "output_type": "stream",
          "text": [
            "Saving train.csv to train.csv\n"
          ],
          "name": "stdout"
        }
      ]
    },
    {
      "cell_type": "code",
      "metadata": {
        "id": "LvgvF8ECmqj0",
        "colab_type": "code",
        "colab": {}
      },
      "source": [
        "import io\n",
        "sample = pd.read_csv(io.BytesIO(uploaded['train.csv']))"
      ],
      "execution_count": 0,
      "outputs": []
    },
    {
      "cell_type": "markdown",
      "metadata": {
        "id": "Ub2pMsGJrfmZ",
        "colab_type": "text"
      },
      "source": [
        "* 주의 - 엑셀 파일로 불러 온 것이 아니라 행렬로 불러 온 것으로 인식합니다."
      ]
    },
    {
      "cell_type": "markdown",
      "metadata": {
        "id": "fxyvUBcpm2hv",
        "colab_type": "text"
      },
      "source": [
        "* 파일의 제일 위 5줄을 보는 .head() 실행해 봅니다."
      ]
    },
    {
      "cell_type": "code",
      "metadata": {
        "id": "V0zplUnlm3Yr",
        "colab_type": "code",
        "colab": {
          "base_uri": "https://localhost:8080/",
          "height": 198
        },
        "outputId": "f3292409-ef91-48b3-d994-f7cdb1dd7b9a"
      },
      "source": [
        "sample.head()"
      ],
      "execution_count": 194,
      "outputs": [
        {
          "output_type": "execute_result",
          "data": {
            "text/html": [
              "<div>\n",
              "<style scoped>\n",
              "    .dataframe tbody tr th:only-of-type {\n",
              "        vertical-align: middle;\n",
              "    }\n",
              "\n",
              "    .dataframe tbody tr th {\n",
              "        vertical-align: top;\n",
              "    }\n",
              "\n",
              "    .dataframe thead th {\n",
              "        text-align: right;\n",
              "    }\n",
              "</style>\n",
              "<table border=\"1\" class=\"dataframe\">\n",
              "  <thead>\n",
              "    <tr style=\"text-align: right;\">\n",
              "      <th></th>\n",
              "      <th>PassengerId</th>\n",
              "      <th>Survived</th>\n",
              "      <th>Pclass</th>\n",
              "      <th>Name</th>\n",
              "      <th>Sex</th>\n",
              "      <th>Age</th>\n",
              "      <th>SibSp</th>\n",
              "      <th>Parch</th>\n",
              "      <th>Ticket</th>\n",
              "      <th>Fare</th>\n",
              "      <th>Cabin</th>\n",
              "      <th>Embarked</th>\n",
              "    </tr>\n",
              "  </thead>\n",
              "  <tbody>\n",
              "    <tr>\n",
              "      <th>0</th>\n",
              "      <td>1</td>\n",
              "      <td>0</td>\n",
              "      <td>3</td>\n",
              "      <td>Braund, Mr. Owen Harris</td>\n",
              "      <td>male</td>\n",
              "      <td>22.0</td>\n",
              "      <td>1</td>\n",
              "      <td>0</td>\n",
              "      <td>A/5 21171</td>\n",
              "      <td>7.2500</td>\n",
              "      <td>NaN</td>\n",
              "      <td>S</td>\n",
              "    </tr>\n",
              "    <tr>\n",
              "      <th>1</th>\n",
              "      <td>2</td>\n",
              "      <td>1</td>\n",
              "      <td>1</td>\n",
              "      <td>Cumings, Mrs. John Bradley (Florence Briggs Th...</td>\n",
              "      <td>female</td>\n",
              "      <td>38.0</td>\n",
              "      <td>1</td>\n",
              "      <td>0</td>\n",
              "      <td>PC 17599</td>\n",
              "      <td>71.2833</td>\n",
              "      <td>C85</td>\n",
              "      <td>C</td>\n",
              "    </tr>\n",
              "    <tr>\n",
              "      <th>2</th>\n",
              "      <td>3</td>\n",
              "      <td>1</td>\n",
              "      <td>3</td>\n",
              "      <td>Heikkinen, Miss. Laina</td>\n",
              "      <td>female</td>\n",
              "      <td>26.0</td>\n",
              "      <td>0</td>\n",
              "      <td>0</td>\n",
              "      <td>STON/O2. 3101282</td>\n",
              "      <td>7.9250</td>\n",
              "      <td>NaN</td>\n",
              "      <td>S</td>\n",
              "    </tr>\n",
              "    <tr>\n",
              "      <th>3</th>\n",
              "      <td>4</td>\n",
              "      <td>1</td>\n",
              "      <td>1</td>\n",
              "      <td>Futrelle, Mrs. Jacques Heath (Lily May Peel)</td>\n",
              "      <td>female</td>\n",
              "      <td>35.0</td>\n",
              "      <td>1</td>\n",
              "      <td>0</td>\n",
              "      <td>113803</td>\n",
              "      <td>53.1000</td>\n",
              "      <td>C123</td>\n",
              "      <td>S</td>\n",
              "    </tr>\n",
              "    <tr>\n",
              "      <th>4</th>\n",
              "      <td>5</td>\n",
              "      <td>0</td>\n",
              "      <td>3</td>\n",
              "      <td>Allen, Mr. William Henry</td>\n",
              "      <td>male</td>\n",
              "      <td>35.0</td>\n",
              "      <td>0</td>\n",
              "      <td>0</td>\n",
              "      <td>373450</td>\n",
              "      <td>8.0500</td>\n",
              "      <td>NaN</td>\n",
              "      <td>S</td>\n",
              "    </tr>\n",
              "  </tbody>\n",
              "</table>\n",
              "</div>"
            ],
            "text/plain": [
              "   PassengerId  Survived  Pclass  ...     Fare Cabin  Embarked\n",
              "0            1         0       3  ...   7.2500   NaN         S\n",
              "1            2         1       1  ...  71.2833   C85         C\n",
              "2            3         1       3  ...   7.9250   NaN         S\n",
              "3            4         1       1  ...  53.1000  C123         S\n",
              "4            5         0       3  ...   8.0500   NaN         S\n",
              "\n",
              "[5 rows x 12 columns]"
            ]
          },
          "metadata": {
            "tags": []
          },
          "execution_count": 194
        }
      ]
    },
    {
      "cell_type": "markdown",
      "metadata": {
        "id": "zVfQpQQDm3rV",
        "colab_type": "text"
      },
      "source": [
        "* 제일 아래 5줄을 보겠습니다."
      ]
    },
    {
      "cell_type": "code",
      "metadata": {
        "id": "bQOmjR3bm36N",
        "colab_type": "code",
        "colab": {
          "base_uri": "https://localhost:8080/",
          "height": 198
        },
        "outputId": "9fdc51ac-0e84-4359-c3b6-488584e72080"
      },
      "source": [
        "sample.tail()"
      ],
      "execution_count": 195,
      "outputs": [
        {
          "output_type": "execute_result",
          "data": {
            "text/html": [
              "<div>\n",
              "<style scoped>\n",
              "    .dataframe tbody tr th:only-of-type {\n",
              "        vertical-align: middle;\n",
              "    }\n",
              "\n",
              "    .dataframe tbody tr th {\n",
              "        vertical-align: top;\n",
              "    }\n",
              "\n",
              "    .dataframe thead th {\n",
              "        text-align: right;\n",
              "    }\n",
              "</style>\n",
              "<table border=\"1\" class=\"dataframe\">\n",
              "  <thead>\n",
              "    <tr style=\"text-align: right;\">\n",
              "      <th></th>\n",
              "      <th>PassengerId</th>\n",
              "      <th>Survived</th>\n",
              "      <th>Pclass</th>\n",
              "      <th>Name</th>\n",
              "      <th>Sex</th>\n",
              "      <th>Age</th>\n",
              "      <th>SibSp</th>\n",
              "      <th>Parch</th>\n",
              "      <th>Ticket</th>\n",
              "      <th>Fare</th>\n",
              "      <th>Cabin</th>\n",
              "      <th>Embarked</th>\n",
              "    </tr>\n",
              "  </thead>\n",
              "  <tbody>\n",
              "    <tr>\n",
              "      <th>886</th>\n",
              "      <td>887</td>\n",
              "      <td>0</td>\n",
              "      <td>2</td>\n",
              "      <td>Montvila, Rev. Juozas</td>\n",
              "      <td>male</td>\n",
              "      <td>27.0</td>\n",
              "      <td>0</td>\n",
              "      <td>0</td>\n",
              "      <td>211536</td>\n",
              "      <td>13.00</td>\n",
              "      <td>NaN</td>\n",
              "      <td>S</td>\n",
              "    </tr>\n",
              "    <tr>\n",
              "      <th>887</th>\n",
              "      <td>888</td>\n",
              "      <td>1</td>\n",
              "      <td>1</td>\n",
              "      <td>Graham, Miss. Margaret Edith</td>\n",
              "      <td>female</td>\n",
              "      <td>19.0</td>\n",
              "      <td>0</td>\n",
              "      <td>0</td>\n",
              "      <td>112053</td>\n",
              "      <td>30.00</td>\n",
              "      <td>B42</td>\n",
              "      <td>S</td>\n",
              "    </tr>\n",
              "    <tr>\n",
              "      <th>888</th>\n",
              "      <td>889</td>\n",
              "      <td>0</td>\n",
              "      <td>3</td>\n",
              "      <td>Johnston, Miss. Catherine Helen \"Carrie\"</td>\n",
              "      <td>female</td>\n",
              "      <td>NaN</td>\n",
              "      <td>1</td>\n",
              "      <td>2</td>\n",
              "      <td>W./C. 6607</td>\n",
              "      <td>23.45</td>\n",
              "      <td>NaN</td>\n",
              "      <td>S</td>\n",
              "    </tr>\n",
              "    <tr>\n",
              "      <th>889</th>\n",
              "      <td>890</td>\n",
              "      <td>1</td>\n",
              "      <td>1</td>\n",
              "      <td>Behr, Mr. Karl Howell</td>\n",
              "      <td>male</td>\n",
              "      <td>26.0</td>\n",
              "      <td>0</td>\n",
              "      <td>0</td>\n",
              "      <td>111369</td>\n",
              "      <td>30.00</td>\n",
              "      <td>C148</td>\n",
              "      <td>C</td>\n",
              "    </tr>\n",
              "    <tr>\n",
              "      <th>890</th>\n",
              "      <td>891</td>\n",
              "      <td>0</td>\n",
              "      <td>3</td>\n",
              "      <td>Dooley, Mr. Patrick</td>\n",
              "      <td>male</td>\n",
              "      <td>32.0</td>\n",
              "      <td>0</td>\n",
              "      <td>0</td>\n",
              "      <td>370376</td>\n",
              "      <td>7.75</td>\n",
              "      <td>NaN</td>\n",
              "      <td>Q</td>\n",
              "    </tr>\n",
              "  </tbody>\n",
              "</table>\n",
              "</div>"
            ],
            "text/plain": [
              "     PassengerId  Survived  Pclass  ...   Fare Cabin  Embarked\n",
              "886          887         0       2  ...  13.00   NaN         S\n",
              "887          888         1       1  ...  30.00   B42         S\n",
              "888          889         0       3  ...  23.45   NaN         S\n",
              "889          890         1       1  ...  30.00  C148         C\n",
              "890          891         0       3  ...   7.75   NaN         Q\n",
              "\n",
              "[5 rows x 12 columns]"
            ]
          },
          "metadata": {
            "tags": []
          },
          "execution_count": 195
        }
      ]
    },
    {
      "cell_type": "markdown",
      "metadata": {
        "id": "Mk9rpsbXm4Ly",
        "colab_type": "text"
      },
      "source": [
        "* 처음 20줄을 봅니다."
      ]
    },
    {
      "cell_type": "code",
      "metadata": {
        "id": "fJKDXLkXm4Zy",
        "colab_type": "code",
        "colab": {
          "base_uri": "https://localhost:8080/",
          "height": 648
        },
        "outputId": "6081d3a6-69af-4026-8a37-6334d5714733"
      },
      "source": [
        "sample.head(n=20)"
      ],
      "execution_count": 197,
      "outputs": [
        {
          "output_type": "execute_result",
          "data": {
            "text/html": [
              "<div>\n",
              "<style scoped>\n",
              "    .dataframe tbody tr th:only-of-type {\n",
              "        vertical-align: middle;\n",
              "    }\n",
              "\n",
              "    .dataframe tbody tr th {\n",
              "        vertical-align: top;\n",
              "    }\n",
              "\n",
              "    .dataframe thead th {\n",
              "        text-align: right;\n",
              "    }\n",
              "</style>\n",
              "<table border=\"1\" class=\"dataframe\">\n",
              "  <thead>\n",
              "    <tr style=\"text-align: right;\">\n",
              "      <th></th>\n",
              "      <th>PassengerId</th>\n",
              "      <th>Survived</th>\n",
              "      <th>Pclass</th>\n",
              "      <th>Name</th>\n",
              "      <th>Sex</th>\n",
              "      <th>Age</th>\n",
              "      <th>SibSp</th>\n",
              "      <th>Parch</th>\n",
              "      <th>Ticket</th>\n",
              "      <th>Fare</th>\n",
              "      <th>Cabin</th>\n",
              "      <th>Embarked</th>\n",
              "    </tr>\n",
              "  </thead>\n",
              "  <tbody>\n",
              "    <tr>\n",
              "      <th>0</th>\n",
              "      <td>1</td>\n",
              "      <td>0</td>\n",
              "      <td>3</td>\n",
              "      <td>Braund, Mr. Owen Harris</td>\n",
              "      <td>male</td>\n",
              "      <td>22.0</td>\n",
              "      <td>1</td>\n",
              "      <td>0</td>\n",
              "      <td>A/5 21171</td>\n",
              "      <td>7.2500</td>\n",
              "      <td>NaN</td>\n",
              "      <td>S</td>\n",
              "    </tr>\n",
              "    <tr>\n",
              "      <th>1</th>\n",
              "      <td>2</td>\n",
              "      <td>1</td>\n",
              "      <td>1</td>\n",
              "      <td>Cumings, Mrs. John Bradley (Florence Briggs Th...</td>\n",
              "      <td>female</td>\n",
              "      <td>38.0</td>\n",
              "      <td>1</td>\n",
              "      <td>0</td>\n",
              "      <td>PC 17599</td>\n",
              "      <td>71.2833</td>\n",
              "      <td>C85</td>\n",
              "      <td>C</td>\n",
              "    </tr>\n",
              "    <tr>\n",
              "      <th>2</th>\n",
              "      <td>3</td>\n",
              "      <td>1</td>\n",
              "      <td>3</td>\n",
              "      <td>Heikkinen, Miss. Laina</td>\n",
              "      <td>female</td>\n",
              "      <td>26.0</td>\n",
              "      <td>0</td>\n",
              "      <td>0</td>\n",
              "      <td>STON/O2. 3101282</td>\n",
              "      <td>7.9250</td>\n",
              "      <td>NaN</td>\n",
              "      <td>S</td>\n",
              "    </tr>\n",
              "    <tr>\n",
              "      <th>3</th>\n",
              "      <td>4</td>\n",
              "      <td>1</td>\n",
              "      <td>1</td>\n",
              "      <td>Futrelle, Mrs. Jacques Heath (Lily May Peel)</td>\n",
              "      <td>female</td>\n",
              "      <td>35.0</td>\n",
              "      <td>1</td>\n",
              "      <td>0</td>\n",
              "      <td>113803</td>\n",
              "      <td>53.1000</td>\n",
              "      <td>C123</td>\n",
              "      <td>S</td>\n",
              "    </tr>\n",
              "    <tr>\n",
              "      <th>4</th>\n",
              "      <td>5</td>\n",
              "      <td>0</td>\n",
              "      <td>3</td>\n",
              "      <td>Allen, Mr. William Henry</td>\n",
              "      <td>male</td>\n",
              "      <td>35.0</td>\n",
              "      <td>0</td>\n",
              "      <td>0</td>\n",
              "      <td>373450</td>\n",
              "      <td>8.0500</td>\n",
              "      <td>NaN</td>\n",
              "      <td>S</td>\n",
              "    </tr>\n",
              "    <tr>\n",
              "      <th>5</th>\n",
              "      <td>6</td>\n",
              "      <td>0</td>\n",
              "      <td>3</td>\n",
              "      <td>Moran, Mr. James</td>\n",
              "      <td>male</td>\n",
              "      <td>NaN</td>\n",
              "      <td>0</td>\n",
              "      <td>0</td>\n",
              "      <td>330877</td>\n",
              "      <td>8.4583</td>\n",
              "      <td>NaN</td>\n",
              "      <td>Q</td>\n",
              "    </tr>\n",
              "    <tr>\n",
              "      <th>6</th>\n",
              "      <td>7</td>\n",
              "      <td>0</td>\n",
              "      <td>1</td>\n",
              "      <td>McCarthy, Mr. Timothy J</td>\n",
              "      <td>male</td>\n",
              "      <td>54.0</td>\n",
              "      <td>0</td>\n",
              "      <td>0</td>\n",
              "      <td>17463</td>\n",
              "      <td>51.8625</td>\n",
              "      <td>E46</td>\n",
              "      <td>S</td>\n",
              "    </tr>\n",
              "    <tr>\n",
              "      <th>7</th>\n",
              "      <td>8</td>\n",
              "      <td>0</td>\n",
              "      <td>3</td>\n",
              "      <td>Palsson, Master. Gosta Leonard</td>\n",
              "      <td>male</td>\n",
              "      <td>2.0</td>\n",
              "      <td>3</td>\n",
              "      <td>1</td>\n",
              "      <td>349909</td>\n",
              "      <td>21.0750</td>\n",
              "      <td>NaN</td>\n",
              "      <td>S</td>\n",
              "    </tr>\n",
              "    <tr>\n",
              "      <th>8</th>\n",
              "      <td>9</td>\n",
              "      <td>1</td>\n",
              "      <td>3</td>\n",
              "      <td>Johnson, Mrs. Oscar W (Elisabeth Vilhelmina Berg)</td>\n",
              "      <td>female</td>\n",
              "      <td>27.0</td>\n",
              "      <td>0</td>\n",
              "      <td>2</td>\n",
              "      <td>347742</td>\n",
              "      <td>11.1333</td>\n",
              "      <td>NaN</td>\n",
              "      <td>S</td>\n",
              "    </tr>\n",
              "    <tr>\n",
              "      <th>9</th>\n",
              "      <td>10</td>\n",
              "      <td>1</td>\n",
              "      <td>2</td>\n",
              "      <td>Nasser, Mrs. Nicholas (Adele Achem)</td>\n",
              "      <td>female</td>\n",
              "      <td>14.0</td>\n",
              "      <td>1</td>\n",
              "      <td>0</td>\n",
              "      <td>237736</td>\n",
              "      <td>30.0708</td>\n",
              "      <td>NaN</td>\n",
              "      <td>C</td>\n",
              "    </tr>\n",
              "    <tr>\n",
              "      <th>10</th>\n",
              "      <td>11</td>\n",
              "      <td>1</td>\n",
              "      <td>3</td>\n",
              "      <td>Sandstrom, Miss. Marguerite Rut</td>\n",
              "      <td>female</td>\n",
              "      <td>4.0</td>\n",
              "      <td>1</td>\n",
              "      <td>1</td>\n",
              "      <td>PP 9549</td>\n",
              "      <td>16.7000</td>\n",
              "      <td>G6</td>\n",
              "      <td>S</td>\n",
              "    </tr>\n",
              "    <tr>\n",
              "      <th>11</th>\n",
              "      <td>12</td>\n",
              "      <td>1</td>\n",
              "      <td>1</td>\n",
              "      <td>Bonnell, Miss. Elizabeth</td>\n",
              "      <td>female</td>\n",
              "      <td>58.0</td>\n",
              "      <td>0</td>\n",
              "      <td>0</td>\n",
              "      <td>113783</td>\n",
              "      <td>26.5500</td>\n",
              "      <td>C103</td>\n",
              "      <td>S</td>\n",
              "    </tr>\n",
              "    <tr>\n",
              "      <th>12</th>\n",
              "      <td>13</td>\n",
              "      <td>0</td>\n",
              "      <td>3</td>\n",
              "      <td>Saundercock, Mr. William Henry</td>\n",
              "      <td>male</td>\n",
              "      <td>20.0</td>\n",
              "      <td>0</td>\n",
              "      <td>0</td>\n",
              "      <td>A/5. 2151</td>\n",
              "      <td>8.0500</td>\n",
              "      <td>NaN</td>\n",
              "      <td>S</td>\n",
              "    </tr>\n",
              "    <tr>\n",
              "      <th>13</th>\n",
              "      <td>14</td>\n",
              "      <td>0</td>\n",
              "      <td>3</td>\n",
              "      <td>Andersson, Mr. Anders Johan</td>\n",
              "      <td>male</td>\n",
              "      <td>39.0</td>\n",
              "      <td>1</td>\n",
              "      <td>5</td>\n",
              "      <td>347082</td>\n",
              "      <td>31.2750</td>\n",
              "      <td>NaN</td>\n",
              "      <td>S</td>\n",
              "    </tr>\n",
              "    <tr>\n",
              "      <th>14</th>\n",
              "      <td>15</td>\n",
              "      <td>0</td>\n",
              "      <td>3</td>\n",
              "      <td>Vestrom, Miss. Hulda Amanda Adolfina</td>\n",
              "      <td>female</td>\n",
              "      <td>14.0</td>\n",
              "      <td>0</td>\n",
              "      <td>0</td>\n",
              "      <td>350406</td>\n",
              "      <td>7.8542</td>\n",
              "      <td>NaN</td>\n",
              "      <td>S</td>\n",
              "    </tr>\n",
              "    <tr>\n",
              "      <th>15</th>\n",
              "      <td>16</td>\n",
              "      <td>1</td>\n",
              "      <td>2</td>\n",
              "      <td>Hewlett, Mrs. (Mary D Kingcome)</td>\n",
              "      <td>female</td>\n",
              "      <td>55.0</td>\n",
              "      <td>0</td>\n",
              "      <td>0</td>\n",
              "      <td>248706</td>\n",
              "      <td>16.0000</td>\n",
              "      <td>NaN</td>\n",
              "      <td>S</td>\n",
              "    </tr>\n",
              "    <tr>\n",
              "      <th>16</th>\n",
              "      <td>17</td>\n",
              "      <td>0</td>\n",
              "      <td>3</td>\n",
              "      <td>Rice, Master. Eugene</td>\n",
              "      <td>male</td>\n",
              "      <td>2.0</td>\n",
              "      <td>4</td>\n",
              "      <td>1</td>\n",
              "      <td>382652</td>\n",
              "      <td>29.1250</td>\n",
              "      <td>NaN</td>\n",
              "      <td>Q</td>\n",
              "    </tr>\n",
              "    <tr>\n",
              "      <th>17</th>\n",
              "      <td>18</td>\n",
              "      <td>1</td>\n",
              "      <td>2</td>\n",
              "      <td>Williams, Mr. Charles Eugene</td>\n",
              "      <td>male</td>\n",
              "      <td>NaN</td>\n",
              "      <td>0</td>\n",
              "      <td>0</td>\n",
              "      <td>244373</td>\n",
              "      <td>13.0000</td>\n",
              "      <td>NaN</td>\n",
              "      <td>S</td>\n",
              "    </tr>\n",
              "    <tr>\n",
              "      <th>18</th>\n",
              "      <td>19</td>\n",
              "      <td>0</td>\n",
              "      <td>3</td>\n",
              "      <td>Vander Planke, Mrs. Julius (Emelia Maria Vande...</td>\n",
              "      <td>female</td>\n",
              "      <td>31.0</td>\n",
              "      <td>1</td>\n",
              "      <td>0</td>\n",
              "      <td>345763</td>\n",
              "      <td>18.0000</td>\n",
              "      <td>NaN</td>\n",
              "      <td>S</td>\n",
              "    </tr>\n",
              "    <tr>\n",
              "      <th>19</th>\n",
              "      <td>20</td>\n",
              "      <td>1</td>\n",
              "      <td>3</td>\n",
              "      <td>Masselmani, Mrs. Fatima</td>\n",
              "      <td>female</td>\n",
              "      <td>NaN</td>\n",
              "      <td>0</td>\n",
              "      <td>0</td>\n",
              "      <td>2649</td>\n",
              "      <td>7.2250</td>\n",
              "      <td>NaN</td>\n",
              "      <td>C</td>\n",
              "    </tr>\n",
              "  </tbody>\n",
              "</table>\n",
              "</div>"
            ],
            "text/plain": [
              "    PassengerId  Survived  Pclass  ...     Fare Cabin  Embarked\n",
              "0             1         0       3  ...   7.2500   NaN         S\n",
              "1             2         1       1  ...  71.2833   C85         C\n",
              "2             3         1       3  ...   7.9250   NaN         S\n",
              "3             4         1       1  ...  53.1000  C123         S\n",
              "4             5         0       3  ...   8.0500   NaN         S\n",
              "5             6         0       3  ...   8.4583   NaN         Q\n",
              "6             7         0       1  ...  51.8625   E46         S\n",
              "7             8         0       3  ...  21.0750   NaN         S\n",
              "8             9         1       3  ...  11.1333   NaN         S\n",
              "9            10         1       2  ...  30.0708   NaN         C\n",
              "10           11         1       3  ...  16.7000    G6         S\n",
              "11           12         1       1  ...  26.5500  C103         S\n",
              "12           13         0       3  ...   8.0500   NaN         S\n",
              "13           14         0       3  ...  31.2750   NaN         S\n",
              "14           15         0       3  ...   7.8542   NaN         S\n",
              "15           16         1       2  ...  16.0000   NaN         S\n",
              "16           17         0       3  ...  29.1250   NaN         Q\n",
              "17           18         1       2  ...  13.0000   NaN         S\n",
              "18           19         0       3  ...  18.0000   NaN         S\n",
              "19           20         1       3  ...   7.2250   NaN         C\n",
              "\n",
              "[20 rows x 12 columns]"
            ]
          },
          "metadata": {
            "tags": []
          },
          "execution_count": 197
        }
      ]
    },
    {
      "cell_type": "markdown",
      "metadata": {
        "id": "LTKy-uB1m4xM",
        "colab_type": "text"
      },
      "source": [
        "* 마지막 10줄을 봅니다."
      ]
    },
    {
      "cell_type": "code",
      "metadata": {
        "id": "s5k09RjZm5BB",
        "colab_type": "code",
        "colab": {
          "base_uri": "https://localhost:8080/",
          "height": 348
        },
        "outputId": "cbfbd792-744a-4223-d49b-21822f10b699"
      },
      "source": [
        "sample.tail(n=10)"
      ],
      "execution_count": 198,
      "outputs": [
        {
          "output_type": "execute_result",
          "data": {
            "text/html": [
              "<div>\n",
              "<style scoped>\n",
              "    .dataframe tbody tr th:only-of-type {\n",
              "        vertical-align: middle;\n",
              "    }\n",
              "\n",
              "    .dataframe tbody tr th {\n",
              "        vertical-align: top;\n",
              "    }\n",
              "\n",
              "    .dataframe thead th {\n",
              "        text-align: right;\n",
              "    }\n",
              "</style>\n",
              "<table border=\"1\" class=\"dataframe\">\n",
              "  <thead>\n",
              "    <tr style=\"text-align: right;\">\n",
              "      <th></th>\n",
              "      <th>PassengerId</th>\n",
              "      <th>Survived</th>\n",
              "      <th>Pclass</th>\n",
              "      <th>Name</th>\n",
              "      <th>Sex</th>\n",
              "      <th>Age</th>\n",
              "      <th>SibSp</th>\n",
              "      <th>Parch</th>\n",
              "      <th>Ticket</th>\n",
              "      <th>Fare</th>\n",
              "      <th>Cabin</th>\n",
              "      <th>Embarked</th>\n",
              "    </tr>\n",
              "  </thead>\n",
              "  <tbody>\n",
              "    <tr>\n",
              "      <th>881</th>\n",
              "      <td>882</td>\n",
              "      <td>0</td>\n",
              "      <td>3</td>\n",
              "      <td>Markun, Mr. Johann</td>\n",
              "      <td>male</td>\n",
              "      <td>33.0</td>\n",
              "      <td>0</td>\n",
              "      <td>0</td>\n",
              "      <td>349257</td>\n",
              "      <td>7.8958</td>\n",
              "      <td>NaN</td>\n",
              "      <td>S</td>\n",
              "    </tr>\n",
              "    <tr>\n",
              "      <th>882</th>\n",
              "      <td>883</td>\n",
              "      <td>0</td>\n",
              "      <td>3</td>\n",
              "      <td>Dahlberg, Miss. Gerda Ulrika</td>\n",
              "      <td>female</td>\n",
              "      <td>22.0</td>\n",
              "      <td>0</td>\n",
              "      <td>0</td>\n",
              "      <td>7552</td>\n",
              "      <td>10.5167</td>\n",
              "      <td>NaN</td>\n",
              "      <td>S</td>\n",
              "    </tr>\n",
              "    <tr>\n",
              "      <th>883</th>\n",
              "      <td>884</td>\n",
              "      <td>0</td>\n",
              "      <td>2</td>\n",
              "      <td>Banfield, Mr. Frederick James</td>\n",
              "      <td>male</td>\n",
              "      <td>28.0</td>\n",
              "      <td>0</td>\n",
              "      <td>0</td>\n",
              "      <td>C.A./SOTON 34068</td>\n",
              "      <td>10.5000</td>\n",
              "      <td>NaN</td>\n",
              "      <td>S</td>\n",
              "    </tr>\n",
              "    <tr>\n",
              "      <th>884</th>\n",
              "      <td>885</td>\n",
              "      <td>0</td>\n",
              "      <td>3</td>\n",
              "      <td>Sutehall, Mr. Henry Jr</td>\n",
              "      <td>male</td>\n",
              "      <td>25.0</td>\n",
              "      <td>0</td>\n",
              "      <td>0</td>\n",
              "      <td>SOTON/OQ 392076</td>\n",
              "      <td>7.0500</td>\n",
              "      <td>NaN</td>\n",
              "      <td>S</td>\n",
              "    </tr>\n",
              "    <tr>\n",
              "      <th>885</th>\n",
              "      <td>886</td>\n",
              "      <td>0</td>\n",
              "      <td>3</td>\n",
              "      <td>Rice, Mrs. William (Margaret Norton)</td>\n",
              "      <td>female</td>\n",
              "      <td>39.0</td>\n",
              "      <td>0</td>\n",
              "      <td>5</td>\n",
              "      <td>382652</td>\n",
              "      <td>29.1250</td>\n",
              "      <td>NaN</td>\n",
              "      <td>Q</td>\n",
              "    </tr>\n",
              "    <tr>\n",
              "      <th>886</th>\n",
              "      <td>887</td>\n",
              "      <td>0</td>\n",
              "      <td>2</td>\n",
              "      <td>Montvila, Rev. Juozas</td>\n",
              "      <td>male</td>\n",
              "      <td>27.0</td>\n",
              "      <td>0</td>\n",
              "      <td>0</td>\n",
              "      <td>211536</td>\n",
              "      <td>13.0000</td>\n",
              "      <td>NaN</td>\n",
              "      <td>S</td>\n",
              "    </tr>\n",
              "    <tr>\n",
              "      <th>887</th>\n",
              "      <td>888</td>\n",
              "      <td>1</td>\n",
              "      <td>1</td>\n",
              "      <td>Graham, Miss. Margaret Edith</td>\n",
              "      <td>female</td>\n",
              "      <td>19.0</td>\n",
              "      <td>0</td>\n",
              "      <td>0</td>\n",
              "      <td>112053</td>\n",
              "      <td>30.0000</td>\n",
              "      <td>B42</td>\n",
              "      <td>S</td>\n",
              "    </tr>\n",
              "    <tr>\n",
              "      <th>888</th>\n",
              "      <td>889</td>\n",
              "      <td>0</td>\n",
              "      <td>3</td>\n",
              "      <td>Johnston, Miss. Catherine Helen \"Carrie\"</td>\n",
              "      <td>female</td>\n",
              "      <td>NaN</td>\n",
              "      <td>1</td>\n",
              "      <td>2</td>\n",
              "      <td>W./C. 6607</td>\n",
              "      <td>23.4500</td>\n",
              "      <td>NaN</td>\n",
              "      <td>S</td>\n",
              "    </tr>\n",
              "    <tr>\n",
              "      <th>889</th>\n",
              "      <td>890</td>\n",
              "      <td>1</td>\n",
              "      <td>1</td>\n",
              "      <td>Behr, Mr. Karl Howell</td>\n",
              "      <td>male</td>\n",
              "      <td>26.0</td>\n",
              "      <td>0</td>\n",
              "      <td>0</td>\n",
              "      <td>111369</td>\n",
              "      <td>30.0000</td>\n",
              "      <td>C148</td>\n",
              "      <td>C</td>\n",
              "    </tr>\n",
              "    <tr>\n",
              "      <th>890</th>\n",
              "      <td>891</td>\n",
              "      <td>0</td>\n",
              "      <td>3</td>\n",
              "      <td>Dooley, Mr. Patrick</td>\n",
              "      <td>male</td>\n",
              "      <td>32.0</td>\n",
              "      <td>0</td>\n",
              "      <td>0</td>\n",
              "      <td>370376</td>\n",
              "      <td>7.7500</td>\n",
              "      <td>NaN</td>\n",
              "      <td>Q</td>\n",
              "    </tr>\n",
              "  </tbody>\n",
              "</table>\n",
              "</div>"
            ],
            "text/plain": [
              "     PassengerId  Survived  Pclass  ...     Fare Cabin  Embarked\n",
              "881          882         0       3  ...   7.8958   NaN         S\n",
              "882          883         0       3  ...  10.5167   NaN         S\n",
              "883          884         0       2  ...  10.5000   NaN         S\n",
              "884          885         0       3  ...   7.0500   NaN         S\n",
              "885          886         0       3  ...  29.1250   NaN         Q\n",
              "886          887         0       2  ...  13.0000   NaN         S\n",
              "887          888         1       1  ...  30.0000   B42         S\n",
              "888          889         0       3  ...  23.4500   NaN         S\n",
              "889          890         1       1  ...  30.0000  C148         C\n",
              "890          891         0       3  ...   7.7500   NaN         Q\n",
              "\n",
              "[10 rows x 12 columns]"
            ]
          },
          "metadata": {
            "tags": []
          },
          "execution_count": 198
        }
      ]
    },
    {
      "cell_type": "markdown",
      "metadata": {
        "id": "4C_4ln48m5Ro",
        "colab_type": "text"
      },
      "source": [
        "* 전체를 볼 수 있습니다."
      ]
    },
    {
      "cell_type": "code",
      "metadata": {
        "id": "hegjRQCdm5fv",
        "colab_type": "code",
        "colab": {
          "base_uri": "https://localhost:8080/",
          "height": 407
        },
        "outputId": "835d1a3b-793a-4044-f22b-beec2c5f0fa3"
      },
      "source": [
        "sample"
      ],
      "execution_count": 202,
      "outputs": [
        {
          "output_type": "execute_result",
          "data": {
            "text/html": [
              "<div>\n",
              "<style scoped>\n",
              "    .dataframe tbody tr th:only-of-type {\n",
              "        vertical-align: middle;\n",
              "    }\n",
              "\n",
              "    .dataframe tbody tr th {\n",
              "        vertical-align: top;\n",
              "    }\n",
              "\n",
              "    .dataframe thead th {\n",
              "        text-align: right;\n",
              "    }\n",
              "</style>\n",
              "<table border=\"1\" class=\"dataframe\">\n",
              "  <thead>\n",
              "    <tr style=\"text-align: right;\">\n",
              "      <th></th>\n",
              "      <th>PassengerId</th>\n",
              "      <th>Survived</th>\n",
              "      <th>Pclass</th>\n",
              "      <th>Name</th>\n",
              "      <th>Sex</th>\n",
              "      <th>Age</th>\n",
              "      <th>SibSp</th>\n",
              "      <th>Parch</th>\n",
              "      <th>Ticket</th>\n",
              "      <th>Fare</th>\n",
              "      <th>Cabin</th>\n",
              "      <th>Embarked</th>\n",
              "    </tr>\n",
              "  </thead>\n",
              "  <tbody>\n",
              "    <tr>\n",
              "      <th>0</th>\n",
              "      <td>1</td>\n",
              "      <td>0</td>\n",
              "      <td>3</td>\n",
              "      <td>Braund, Mr. Owen Harris</td>\n",
              "      <td>male</td>\n",
              "      <td>22.0</td>\n",
              "      <td>1</td>\n",
              "      <td>0</td>\n",
              "      <td>A/5 21171</td>\n",
              "      <td>7.2500</td>\n",
              "      <td>NaN</td>\n",
              "      <td>S</td>\n",
              "    </tr>\n",
              "    <tr>\n",
              "      <th>1</th>\n",
              "      <td>2</td>\n",
              "      <td>1</td>\n",
              "      <td>1</td>\n",
              "      <td>Cumings, Mrs. John Bradley (Florence Briggs Th...</td>\n",
              "      <td>female</td>\n",
              "      <td>38.0</td>\n",
              "      <td>1</td>\n",
              "      <td>0</td>\n",
              "      <td>PC 17599</td>\n",
              "      <td>71.2833</td>\n",
              "      <td>C85</td>\n",
              "      <td>C</td>\n",
              "    </tr>\n",
              "    <tr>\n",
              "      <th>2</th>\n",
              "      <td>3</td>\n",
              "      <td>1</td>\n",
              "      <td>3</td>\n",
              "      <td>Heikkinen, Miss. Laina</td>\n",
              "      <td>female</td>\n",
              "      <td>26.0</td>\n",
              "      <td>0</td>\n",
              "      <td>0</td>\n",
              "      <td>STON/O2. 3101282</td>\n",
              "      <td>7.9250</td>\n",
              "      <td>NaN</td>\n",
              "      <td>S</td>\n",
              "    </tr>\n",
              "    <tr>\n",
              "      <th>3</th>\n",
              "      <td>4</td>\n",
              "      <td>1</td>\n",
              "      <td>1</td>\n",
              "      <td>Futrelle, Mrs. Jacques Heath (Lily May Peel)</td>\n",
              "      <td>female</td>\n",
              "      <td>35.0</td>\n",
              "      <td>1</td>\n",
              "      <td>0</td>\n",
              "      <td>113803</td>\n",
              "      <td>53.1000</td>\n",
              "      <td>C123</td>\n",
              "      <td>S</td>\n",
              "    </tr>\n",
              "    <tr>\n",
              "      <th>4</th>\n",
              "      <td>5</td>\n",
              "      <td>0</td>\n",
              "      <td>3</td>\n",
              "      <td>Allen, Mr. William Henry</td>\n",
              "      <td>male</td>\n",
              "      <td>35.0</td>\n",
              "      <td>0</td>\n",
              "      <td>0</td>\n",
              "      <td>373450</td>\n",
              "      <td>8.0500</td>\n",
              "      <td>NaN</td>\n",
              "      <td>S</td>\n",
              "    </tr>\n",
              "    <tr>\n",
              "      <th>...</th>\n",
              "      <td>...</td>\n",
              "      <td>...</td>\n",
              "      <td>...</td>\n",
              "      <td>...</td>\n",
              "      <td>...</td>\n",
              "      <td>...</td>\n",
              "      <td>...</td>\n",
              "      <td>...</td>\n",
              "      <td>...</td>\n",
              "      <td>...</td>\n",
              "      <td>...</td>\n",
              "      <td>...</td>\n",
              "    </tr>\n",
              "    <tr>\n",
              "      <th>886</th>\n",
              "      <td>887</td>\n",
              "      <td>0</td>\n",
              "      <td>2</td>\n",
              "      <td>Montvila, Rev. Juozas</td>\n",
              "      <td>male</td>\n",
              "      <td>27.0</td>\n",
              "      <td>0</td>\n",
              "      <td>0</td>\n",
              "      <td>211536</td>\n",
              "      <td>13.0000</td>\n",
              "      <td>NaN</td>\n",
              "      <td>S</td>\n",
              "    </tr>\n",
              "    <tr>\n",
              "      <th>887</th>\n",
              "      <td>888</td>\n",
              "      <td>1</td>\n",
              "      <td>1</td>\n",
              "      <td>Graham, Miss. Margaret Edith</td>\n",
              "      <td>female</td>\n",
              "      <td>19.0</td>\n",
              "      <td>0</td>\n",
              "      <td>0</td>\n",
              "      <td>112053</td>\n",
              "      <td>30.0000</td>\n",
              "      <td>B42</td>\n",
              "      <td>S</td>\n",
              "    </tr>\n",
              "    <tr>\n",
              "      <th>888</th>\n",
              "      <td>889</td>\n",
              "      <td>0</td>\n",
              "      <td>3</td>\n",
              "      <td>Johnston, Miss. Catherine Helen \"Carrie\"</td>\n",
              "      <td>female</td>\n",
              "      <td>NaN</td>\n",
              "      <td>1</td>\n",
              "      <td>2</td>\n",
              "      <td>W./C. 6607</td>\n",
              "      <td>23.4500</td>\n",
              "      <td>NaN</td>\n",
              "      <td>S</td>\n",
              "    </tr>\n",
              "    <tr>\n",
              "      <th>889</th>\n",
              "      <td>890</td>\n",
              "      <td>1</td>\n",
              "      <td>1</td>\n",
              "      <td>Behr, Mr. Karl Howell</td>\n",
              "      <td>male</td>\n",
              "      <td>26.0</td>\n",
              "      <td>0</td>\n",
              "      <td>0</td>\n",
              "      <td>111369</td>\n",
              "      <td>30.0000</td>\n",
              "      <td>C148</td>\n",
              "      <td>C</td>\n",
              "    </tr>\n",
              "    <tr>\n",
              "      <th>890</th>\n",
              "      <td>891</td>\n",
              "      <td>0</td>\n",
              "      <td>3</td>\n",
              "      <td>Dooley, Mr. Patrick</td>\n",
              "      <td>male</td>\n",
              "      <td>32.0</td>\n",
              "      <td>0</td>\n",
              "      <td>0</td>\n",
              "      <td>370376</td>\n",
              "      <td>7.7500</td>\n",
              "      <td>NaN</td>\n",
              "      <td>Q</td>\n",
              "    </tr>\n",
              "  </tbody>\n",
              "</table>\n",
              "<p>891 rows × 12 columns</p>\n",
              "</div>"
            ],
            "text/plain": [
              "     PassengerId  Survived  Pclass  ...     Fare Cabin  Embarked\n",
              "0              1         0       3  ...   7.2500   NaN         S\n",
              "1              2         1       1  ...  71.2833   C85         C\n",
              "2              3         1       3  ...   7.9250   NaN         S\n",
              "3              4         1       1  ...  53.1000  C123         S\n",
              "4              5         0       3  ...   8.0500   NaN         S\n",
              "..           ...       ...     ...  ...      ...   ...       ...\n",
              "886          887         0       2  ...  13.0000   NaN         S\n",
              "887          888         1       1  ...  30.0000   B42         S\n",
              "888          889         0       3  ...  23.4500   NaN         S\n",
              "889          890         1       1  ...  30.0000  C148         C\n",
              "890          891         0       3  ...   7.7500   NaN         Q\n",
              "\n",
              "[891 rows x 12 columns]"
            ]
          },
          "metadata": {
            "tags": []
          },
          "execution_count": 202
        }
      ]
    },
    {
      "cell_type": "markdown",
      "metadata": {
        "id": "5EbPqpiUrSVk",
        "colab_type": "text"
      },
      "source": [
        "* 11번째 행부터 20번째 행까지를 봅니다. "
      ]
    },
    {
      "cell_type": "code",
      "metadata": {
        "id": "tEFsWcPloKGL",
        "colab_type": "code",
        "colab": {
          "base_uri": "https://localhost:8080/",
          "height": 348
        },
        "outputId": "f14ecd91-bf8f-47f2-f5a0-cc2564f50076"
      },
      "source": [
        "sample[11:21]"
      ],
      "execution_count": 203,
      "outputs": [
        {
          "output_type": "execute_result",
          "data": {
            "text/html": [
              "<div>\n",
              "<style scoped>\n",
              "    .dataframe tbody tr th:only-of-type {\n",
              "        vertical-align: middle;\n",
              "    }\n",
              "\n",
              "    .dataframe tbody tr th {\n",
              "        vertical-align: top;\n",
              "    }\n",
              "\n",
              "    .dataframe thead th {\n",
              "        text-align: right;\n",
              "    }\n",
              "</style>\n",
              "<table border=\"1\" class=\"dataframe\">\n",
              "  <thead>\n",
              "    <tr style=\"text-align: right;\">\n",
              "      <th></th>\n",
              "      <th>PassengerId</th>\n",
              "      <th>Survived</th>\n",
              "      <th>Pclass</th>\n",
              "      <th>Name</th>\n",
              "      <th>Sex</th>\n",
              "      <th>Age</th>\n",
              "      <th>SibSp</th>\n",
              "      <th>Parch</th>\n",
              "      <th>Ticket</th>\n",
              "      <th>Fare</th>\n",
              "      <th>Cabin</th>\n",
              "      <th>Embarked</th>\n",
              "    </tr>\n",
              "  </thead>\n",
              "  <tbody>\n",
              "    <tr>\n",
              "      <th>11</th>\n",
              "      <td>12</td>\n",
              "      <td>1</td>\n",
              "      <td>1</td>\n",
              "      <td>Bonnell, Miss. Elizabeth</td>\n",
              "      <td>female</td>\n",
              "      <td>58.0</td>\n",
              "      <td>0</td>\n",
              "      <td>0</td>\n",
              "      <td>113783</td>\n",
              "      <td>26.5500</td>\n",
              "      <td>C103</td>\n",
              "      <td>S</td>\n",
              "    </tr>\n",
              "    <tr>\n",
              "      <th>12</th>\n",
              "      <td>13</td>\n",
              "      <td>0</td>\n",
              "      <td>3</td>\n",
              "      <td>Saundercock, Mr. William Henry</td>\n",
              "      <td>male</td>\n",
              "      <td>20.0</td>\n",
              "      <td>0</td>\n",
              "      <td>0</td>\n",
              "      <td>A/5. 2151</td>\n",
              "      <td>8.0500</td>\n",
              "      <td>NaN</td>\n",
              "      <td>S</td>\n",
              "    </tr>\n",
              "    <tr>\n",
              "      <th>13</th>\n",
              "      <td>14</td>\n",
              "      <td>0</td>\n",
              "      <td>3</td>\n",
              "      <td>Andersson, Mr. Anders Johan</td>\n",
              "      <td>male</td>\n",
              "      <td>39.0</td>\n",
              "      <td>1</td>\n",
              "      <td>5</td>\n",
              "      <td>347082</td>\n",
              "      <td>31.2750</td>\n",
              "      <td>NaN</td>\n",
              "      <td>S</td>\n",
              "    </tr>\n",
              "    <tr>\n",
              "      <th>14</th>\n",
              "      <td>15</td>\n",
              "      <td>0</td>\n",
              "      <td>3</td>\n",
              "      <td>Vestrom, Miss. Hulda Amanda Adolfina</td>\n",
              "      <td>female</td>\n",
              "      <td>14.0</td>\n",
              "      <td>0</td>\n",
              "      <td>0</td>\n",
              "      <td>350406</td>\n",
              "      <td>7.8542</td>\n",
              "      <td>NaN</td>\n",
              "      <td>S</td>\n",
              "    </tr>\n",
              "    <tr>\n",
              "      <th>15</th>\n",
              "      <td>16</td>\n",
              "      <td>1</td>\n",
              "      <td>2</td>\n",
              "      <td>Hewlett, Mrs. (Mary D Kingcome)</td>\n",
              "      <td>female</td>\n",
              "      <td>55.0</td>\n",
              "      <td>0</td>\n",
              "      <td>0</td>\n",
              "      <td>248706</td>\n",
              "      <td>16.0000</td>\n",
              "      <td>NaN</td>\n",
              "      <td>S</td>\n",
              "    </tr>\n",
              "    <tr>\n",
              "      <th>16</th>\n",
              "      <td>17</td>\n",
              "      <td>0</td>\n",
              "      <td>3</td>\n",
              "      <td>Rice, Master. Eugene</td>\n",
              "      <td>male</td>\n",
              "      <td>2.0</td>\n",
              "      <td>4</td>\n",
              "      <td>1</td>\n",
              "      <td>382652</td>\n",
              "      <td>29.1250</td>\n",
              "      <td>NaN</td>\n",
              "      <td>Q</td>\n",
              "    </tr>\n",
              "    <tr>\n",
              "      <th>17</th>\n",
              "      <td>18</td>\n",
              "      <td>1</td>\n",
              "      <td>2</td>\n",
              "      <td>Williams, Mr. Charles Eugene</td>\n",
              "      <td>male</td>\n",
              "      <td>NaN</td>\n",
              "      <td>0</td>\n",
              "      <td>0</td>\n",
              "      <td>244373</td>\n",
              "      <td>13.0000</td>\n",
              "      <td>NaN</td>\n",
              "      <td>S</td>\n",
              "    </tr>\n",
              "    <tr>\n",
              "      <th>18</th>\n",
              "      <td>19</td>\n",
              "      <td>0</td>\n",
              "      <td>3</td>\n",
              "      <td>Vander Planke, Mrs. Julius (Emelia Maria Vande...</td>\n",
              "      <td>female</td>\n",
              "      <td>31.0</td>\n",
              "      <td>1</td>\n",
              "      <td>0</td>\n",
              "      <td>345763</td>\n",
              "      <td>18.0000</td>\n",
              "      <td>NaN</td>\n",
              "      <td>S</td>\n",
              "    </tr>\n",
              "    <tr>\n",
              "      <th>19</th>\n",
              "      <td>20</td>\n",
              "      <td>1</td>\n",
              "      <td>3</td>\n",
              "      <td>Masselmani, Mrs. Fatima</td>\n",
              "      <td>female</td>\n",
              "      <td>NaN</td>\n",
              "      <td>0</td>\n",
              "      <td>0</td>\n",
              "      <td>2649</td>\n",
              "      <td>7.2250</td>\n",
              "      <td>NaN</td>\n",
              "      <td>C</td>\n",
              "    </tr>\n",
              "    <tr>\n",
              "      <th>20</th>\n",
              "      <td>21</td>\n",
              "      <td>0</td>\n",
              "      <td>2</td>\n",
              "      <td>Fynney, Mr. Joseph J</td>\n",
              "      <td>male</td>\n",
              "      <td>35.0</td>\n",
              "      <td>0</td>\n",
              "      <td>0</td>\n",
              "      <td>239865</td>\n",
              "      <td>26.0000</td>\n",
              "      <td>NaN</td>\n",
              "      <td>S</td>\n",
              "    </tr>\n",
              "  </tbody>\n",
              "</table>\n",
              "</div>"
            ],
            "text/plain": [
              "    PassengerId  Survived  Pclass  ...     Fare Cabin  Embarked\n",
              "11           12         1       1  ...  26.5500  C103         S\n",
              "12           13         0       3  ...   8.0500   NaN         S\n",
              "13           14         0       3  ...  31.2750   NaN         S\n",
              "14           15         0       3  ...   7.8542   NaN         S\n",
              "15           16         1       2  ...  16.0000   NaN         S\n",
              "16           17         0       3  ...  29.1250   NaN         Q\n",
              "17           18         1       2  ...  13.0000   NaN         S\n",
              "18           19         0       3  ...  18.0000   NaN         S\n",
              "19           20         1       3  ...   7.2250   NaN         C\n",
              "20           21         0       2  ...  26.0000   NaN         S\n",
              "\n",
              "[10 rows x 12 columns]"
            ]
          },
          "metadata": {
            "tags": []
          },
          "execution_count": 203
        }
      ]
    },
    {
      "cell_type": "markdown",
      "metadata": {
        "id": "1CFt96PMr68M",
        "colab_type": "text"
      },
      "source": [
        "* Age열의 처음 20줄을 봅니다."
      ]
    },
    {
      "cell_type": "code",
      "metadata": {
        "id": "7aBx4hDzoWk4",
        "colab_type": "code",
        "colab": {
          "base_uri": "https://localhost:8080/",
          "height": 399
        },
        "outputId": "3d1614fb-f97e-44c4-e851-e628c5537849"
      },
      "source": [
        "sample['Age'].head(n=20)"
      ],
      "execution_count": 204,
      "outputs": [
        {
          "output_type": "execute_result",
          "data": {
            "text/plain": [
              "0     22.0\n",
              "1     38.0\n",
              "2     26.0\n",
              "3     35.0\n",
              "4     35.0\n",
              "5      NaN\n",
              "6     54.0\n",
              "7      2.0\n",
              "8     27.0\n",
              "9     14.0\n",
              "10     4.0\n",
              "11    58.0\n",
              "12    20.0\n",
              "13    39.0\n",
              "14    14.0\n",
              "15    55.0\n",
              "16     2.0\n",
              "17     NaN\n",
              "18    31.0\n",
              "19     NaN\n",
              "Name: Age, dtype: float64"
            ]
          },
          "metadata": {
            "tags": []
          },
          "execution_count": 204
        }
      ]
    },
    {
      "cell_type": "markdown",
      "metadata": {
        "id": "Ly_uVMP9sBov",
        "colab_type": "text"
      },
      "source": [
        "* Age열의 11-20줄을 봅니다."
      ]
    },
    {
      "cell_type": "code",
      "metadata": {
        "id": "mERvq7iHo2xN",
        "colab_type": "code",
        "colab": {
          "base_uri": "https://localhost:8080/",
          "height": 217
        },
        "outputId": "28f79347-cd38-47b3-8416-ccd497b8b627"
      },
      "source": [
        "sample['Age'][11:21]"
      ],
      "execution_count": 206,
      "outputs": [
        {
          "output_type": "execute_result",
          "data": {
            "text/plain": [
              "11    58.0\n",
              "12    20.0\n",
              "13    39.0\n",
              "14    14.0\n",
              "15    55.0\n",
              "16     2.0\n",
              "17     NaN\n",
              "18    31.0\n",
              "19     NaN\n",
              "20    35.0\n",
              "Name: Age, dtype: float64"
            ]
          },
          "metadata": {
            "tags": []
          },
          "execution_count": 206
        }
      ]
    },
    {
      "cell_type": "markdown",
      "metadata": {
        "id": "jBqbliXWsGeF",
        "colab_type": "text"
      },
      "source": [
        "* Pcalss열의 값이 몇 개씩 있는지 봅니다."
      ]
    },
    {
      "cell_type": "code",
      "metadata": {
        "id": "2-oEmp81pFKa",
        "colab_type": "code",
        "colab": {
          "base_uri": "https://localhost:8080/",
          "height": 90
        },
        "outputId": "69424842-f369-4533-e2d2-1a7243884385"
      },
      "source": [
        "sample.Pclass.value_counts()"
      ],
      "execution_count": 207,
      "outputs": [
        {
          "output_type": "execute_result",
          "data": {
            "text/plain": [
              "3    491\n",
              "1    216\n",
              "2    184\n",
              "Name: Pclass, dtype: int64"
            ]
          },
          "metadata": {
            "tags": []
          },
          "execution_count": 207
        }
      ]
    },
    {
      "cell_type": "markdown",
      "metadata": {
        "id": "VInHP7PSsdmI",
        "colab_type": "text"
      },
      "source": [
        "* male, female을 1,2로 교체 해봅니다."
      ]
    },
    {
      "cell_type": "code",
      "metadata": {
        "id": "JavUF2qPpQPt",
        "colab_type": "code",
        "colab": {
          "base_uri": "https://localhost:8080/",
          "height": 348
        },
        "outputId": "eacfe9d2-1ff5-4c1b-dc4d-85ab6bfc746a"
      },
      "source": [
        "sample['Sex'].replace(['male','female'],[1,2],inplace=True)\n",
        "sample.head(n=10)"
      ],
      "execution_count": 209,
      "outputs": [
        {
          "output_type": "execute_result",
          "data": {
            "text/html": [
              "<div>\n",
              "<style scoped>\n",
              "    .dataframe tbody tr th:only-of-type {\n",
              "        vertical-align: middle;\n",
              "    }\n",
              "\n",
              "    .dataframe tbody tr th {\n",
              "        vertical-align: top;\n",
              "    }\n",
              "\n",
              "    .dataframe thead th {\n",
              "        text-align: right;\n",
              "    }\n",
              "</style>\n",
              "<table border=\"1\" class=\"dataframe\">\n",
              "  <thead>\n",
              "    <tr style=\"text-align: right;\">\n",
              "      <th></th>\n",
              "      <th>PassengerId</th>\n",
              "      <th>Survived</th>\n",
              "      <th>Pclass</th>\n",
              "      <th>Name</th>\n",
              "      <th>Sex</th>\n",
              "      <th>Age</th>\n",
              "      <th>SibSp</th>\n",
              "      <th>Parch</th>\n",
              "      <th>Ticket</th>\n",
              "      <th>Fare</th>\n",
              "      <th>Cabin</th>\n",
              "      <th>Embarked</th>\n",
              "    </tr>\n",
              "  </thead>\n",
              "  <tbody>\n",
              "    <tr>\n",
              "      <th>0</th>\n",
              "      <td>1</td>\n",
              "      <td>0</td>\n",
              "      <td>3</td>\n",
              "      <td>Braund, Mr. Owen Harris</td>\n",
              "      <td>1</td>\n",
              "      <td>22.0</td>\n",
              "      <td>1</td>\n",
              "      <td>0</td>\n",
              "      <td>A/5 21171</td>\n",
              "      <td>7.2500</td>\n",
              "      <td>NaN</td>\n",
              "      <td>S</td>\n",
              "    </tr>\n",
              "    <tr>\n",
              "      <th>1</th>\n",
              "      <td>2</td>\n",
              "      <td>1</td>\n",
              "      <td>1</td>\n",
              "      <td>Cumings, Mrs. John Bradley (Florence Briggs Th...</td>\n",
              "      <td>2</td>\n",
              "      <td>38.0</td>\n",
              "      <td>1</td>\n",
              "      <td>0</td>\n",
              "      <td>PC 17599</td>\n",
              "      <td>71.2833</td>\n",
              "      <td>C85</td>\n",
              "      <td>C</td>\n",
              "    </tr>\n",
              "    <tr>\n",
              "      <th>2</th>\n",
              "      <td>3</td>\n",
              "      <td>1</td>\n",
              "      <td>3</td>\n",
              "      <td>Heikkinen, Miss. Laina</td>\n",
              "      <td>2</td>\n",
              "      <td>26.0</td>\n",
              "      <td>0</td>\n",
              "      <td>0</td>\n",
              "      <td>STON/O2. 3101282</td>\n",
              "      <td>7.9250</td>\n",
              "      <td>NaN</td>\n",
              "      <td>S</td>\n",
              "    </tr>\n",
              "    <tr>\n",
              "      <th>3</th>\n",
              "      <td>4</td>\n",
              "      <td>1</td>\n",
              "      <td>1</td>\n",
              "      <td>Futrelle, Mrs. Jacques Heath (Lily May Peel)</td>\n",
              "      <td>2</td>\n",
              "      <td>35.0</td>\n",
              "      <td>1</td>\n",
              "      <td>0</td>\n",
              "      <td>113803</td>\n",
              "      <td>53.1000</td>\n",
              "      <td>C123</td>\n",
              "      <td>S</td>\n",
              "    </tr>\n",
              "    <tr>\n",
              "      <th>4</th>\n",
              "      <td>5</td>\n",
              "      <td>0</td>\n",
              "      <td>3</td>\n",
              "      <td>Allen, Mr. William Henry</td>\n",
              "      <td>1</td>\n",
              "      <td>35.0</td>\n",
              "      <td>0</td>\n",
              "      <td>0</td>\n",
              "      <td>373450</td>\n",
              "      <td>8.0500</td>\n",
              "      <td>NaN</td>\n",
              "      <td>S</td>\n",
              "    </tr>\n",
              "    <tr>\n",
              "      <th>5</th>\n",
              "      <td>6</td>\n",
              "      <td>0</td>\n",
              "      <td>3</td>\n",
              "      <td>Moran, Mr. James</td>\n",
              "      <td>1</td>\n",
              "      <td>NaN</td>\n",
              "      <td>0</td>\n",
              "      <td>0</td>\n",
              "      <td>330877</td>\n",
              "      <td>8.4583</td>\n",
              "      <td>NaN</td>\n",
              "      <td>Q</td>\n",
              "    </tr>\n",
              "    <tr>\n",
              "      <th>6</th>\n",
              "      <td>7</td>\n",
              "      <td>0</td>\n",
              "      <td>1</td>\n",
              "      <td>McCarthy, Mr. Timothy J</td>\n",
              "      <td>1</td>\n",
              "      <td>54.0</td>\n",
              "      <td>0</td>\n",
              "      <td>0</td>\n",
              "      <td>17463</td>\n",
              "      <td>51.8625</td>\n",
              "      <td>E46</td>\n",
              "      <td>S</td>\n",
              "    </tr>\n",
              "    <tr>\n",
              "      <th>7</th>\n",
              "      <td>8</td>\n",
              "      <td>0</td>\n",
              "      <td>3</td>\n",
              "      <td>Palsson, Master. Gosta Leonard</td>\n",
              "      <td>1</td>\n",
              "      <td>2.0</td>\n",
              "      <td>3</td>\n",
              "      <td>1</td>\n",
              "      <td>349909</td>\n",
              "      <td>21.0750</td>\n",
              "      <td>NaN</td>\n",
              "      <td>S</td>\n",
              "    </tr>\n",
              "    <tr>\n",
              "      <th>8</th>\n",
              "      <td>9</td>\n",
              "      <td>1</td>\n",
              "      <td>3</td>\n",
              "      <td>Johnson, Mrs. Oscar W (Elisabeth Vilhelmina Berg)</td>\n",
              "      <td>2</td>\n",
              "      <td>27.0</td>\n",
              "      <td>0</td>\n",
              "      <td>2</td>\n",
              "      <td>347742</td>\n",
              "      <td>11.1333</td>\n",
              "      <td>NaN</td>\n",
              "      <td>S</td>\n",
              "    </tr>\n",
              "    <tr>\n",
              "      <th>9</th>\n",
              "      <td>10</td>\n",
              "      <td>1</td>\n",
              "      <td>2</td>\n",
              "      <td>Nasser, Mrs. Nicholas (Adele Achem)</td>\n",
              "      <td>2</td>\n",
              "      <td>14.0</td>\n",
              "      <td>1</td>\n",
              "      <td>0</td>\n",
              "      <td>237736</td>\n",
              "      <td>30.0708</td>\n",
              "      <td>NaN</td>\n",
              "      <td>C</td>\n",
              "    </tr>\n",
              "  </tbody>\n",
              "</table>\n",
              "</div>"
            ],
            "text/plain": [
              "   PassengerId  Survived  Pclass  ...     Fare  Cabin  Embarked\n",
              "0            1         0       3  ...   7.2500    NaN         S\n",
              "1            2         1       1  ...  71.2833    C85         C\n",
              "2            3         1       3  ...   7.9250    NaN         S\n",
              "3            4         1       1  ...  53.1000   C123         S\n",
              "4            5         0       3  ...   8.0500    NaN         S\n",
              "5            6         0       3  ...   8.4583    NaN         Q\n",
              "6            7         0       1  ...  51.8625    E46         S\n",
              "7            8         0       3  ...  21.0750    NaN         S\n",
              "8            9         1       3  ...  11.1333    NaN         S\n",
              "9           10         1       2  ...  30.0708    NaN         C\n",
              "\n",
              "[10 rows x 12 columns]"
            ]
          },
          "metadata": {
            "tags": []
          },
          "execution_count": 209
        }
      ]
    },
    {
      "cell_type": "markdown",
      "metadata": {
        "id": "MdL1SXn2sqek",
        "colab_type": "text"
      },
      "source": [
        "* 최대, 최소, 중간 값을 봅니다."
      ]
    },
    {
      "cell_type": "code",
      "metadata": {
        "id": "EaDoA8Mhp1dx",
        "colab_type": "code",
        "colab": {
          "base_uri": "https://localhost:8080/",
          "height": 72
        },
        "outputId": "eb8c0ef5-b0f7-4015-986b-7ea690fdb82e"
      },
      "source": [
        "print('Oldest Passenger was of',sample['Age'].max(),'Years')\n",
        "print('Youngest Passenger was of',sample['Age'].min(),'Years')\n",
        "print('Average Age on the ship',int(sample['Age'].mean()),'Years')"
      ],
      "execution_count": 210,
      "outputs": [
        {
          "output_type": "stream",
          "text": [
            "Oldest Passenger was of 80.0 Years\n",
            "Youngest Passenger was of 0.42 Years\n",
            "Average Age on the ship 29 Years\n"
          ],
          "name": "stdout"
        }
      ]
    },
    {
      "cell_type": "markdown",
      "metadata": {
        "id": "sQdktHvYs0RB",
        "colab_type": "text"
      },
      "source": [
        "* 새 열을 추가해 봅니다."
      ]
    },
    {
      "cell_type": "code",
      "metadata": {
        "id": "lf1PWbyAqQh0",
        "colab_type": "code",
        "colab": {
          "base_uri": "https://localhost:8080/",
          "height": 198
        },
        "outputId": "e30b68e4-6712-4a5a-b23c-2b9cc7f488fa"
      },
      "source": [
        "sample['New']=0\n",
        "for i in sample:\n",
        "    sample['New']=sample.Age\n",
        "\n",
        "sample.head()"
      ],
      "execution_count": 211,
      "outputs": [
        {
          "output_type": "execute_result",
          "data": {
            "text/html": [
              "<div>\n",
              "<style scoped>\n",
              "    .dataframe tbody tr th:only-of-type {\n",
              "        vertical-align: middle;\n",
              "    }\n",
              "\n",
              "    .dataframe tbody tr th {\n",
              "        vertical-align: top;\n",
              "    }\n",
              "\n",
              "    .dataframe thead th {\n",
              "        text-align: right;\n",
              "    }\n",
              "</style>\n",
              "<table border=\"1\" class=\"dataframe\">\n",
              "  <thead>\n",
              "    <tr style=\"text-align: right;\">\n",
              "      <th></th>\n",
              "      <th>PassengerId</th>\n",
              "      <th>Survived</th>\n",
              "      <th>Pclass</th>\n",
              "      <th>Name</th>\n",
              "      <th>Sex</th>\n",
              "      <th>Age</th>\n",
              "      <th>SibSp</th>\n",
              "      <th>Parch</th>\n",
              "      <th>Ticket</th>\n",
              "      <th>Fare</th>\n",
              "      <th>Cabin</th>\n",
              "      <th>Embarked</th>\n",
              "      <th>New</th>\n",
              "    </tr>\n",
              "  </thead>\n",
              "  <tbody>\n",
              "    <tr>\n",
              "      <th>0</th>\n",
              "      <td>1</td>\n",
              "      <td>0</td>\n",
              "      <td>3</td>\n",
              "      <td>Braund, Mr. Owen Harris</td>\n",
              "      <td>1</td>\n",
              "      <td>22.0</td>\n",
              "      <td>1</td>\n",
              "      <td>0</td>\n",
              "      <td>A/5 21171</td>\n",
              "      <td>7.2500</td>\n",
              "      <td>NaN</td>\n",
              "      <td>S</td>\n",
              "      <td>22.0</td>\n",
              "    </tr>\n",
              "    <tr>\n",
              "      <th>1</th>\n",
              "      <td>2</td>\n",
              "      <td>1</td>\n",
              "      <td>1</td>\n",
              "      <td>Cumings, Mrs. John Bradley (Florence Briggs Th...</td>\n",
              "      <td>2</td>\n",
              "      <td>38.0</td>\n",
              "      <td>1</td>\n",
              "      <td>0</td>\n",
              "      <td>PC 17599</td>\n",
              "      <td>71.2833</td>\n",
              "      <td>C85</td>\n",
              "      <td>C</td>\n",
              "      <td>38.0</td>\n",
              "    </tr>\n",
              "    <tr>\n",
              "      <th>2</th>\n",
              "      <td>3</td>\n",
              "      <td>1</td>\n",
              "      <td>3</td>\n",
              "      <td>Heikkinen, Miss. Laina</td>\n",
              "      <td>2</td>\n",
              "      <td>26.0</td>\n",
              "      <td>0</td>\n",
              "      <td>0</td>\n",
              "      <td>STON/O2. 3101282</td>\n",
              "      <td>7.9250</td>\n",
              "      <td>NaN</td>\n",
              "      <td>S</td>\n",
              "      <td>26.0</td>\n",
              "    </tr>\n",
              "    <tr>\n",
              "      <th>3</th>\n",
              "      <td>4</td>\n",
              "      <td>1</td>\n",
              "      <td>1</td>\n",
              "      <td>Futrelle, Mrs. Jacques Heath (Lily May Peel)</td>\n",
              "      <td>2</td>\n",
              "      <td>35.0</td>\n",
              "      <td>1</td>\n",
              "      <td>0</td>\n",
              "      <td>113803</td>\n",
              "      <td>53.1000</td>\n",
              "      <td>C123</td>\n",
              "      <td>S</td>\n",
              "      <td>35.0</td>\n",
              "    </tr>\n",
              "    <tr>\n",
              "      <th>4</th>\n",
              "      <td>5</td>\n",
              "      <td>0</td>\n",
              "      <td>3</td>\n",
              "      <td>Allen, Mr. William Henry</td>\n",
              "      <td>1</td>\n",
              "      <td>35.0</td>\n",
              "      <td>0</td>\n",
              "      <td>0</td>\n",
              "      <td>373450</td>\n",
              "      <td>8.0500</td>\n",
              "      <td>NaN</td>\n",
              "      <td>S</td>\n",
              "      <td>35.0</td>\n",
              "    </tr>\n",
              "  </tbody>\n",
              "</table>\n",
              "</div>"
            ],
            "text/plain": [
              "   PassengerId  Survived  Pclass  ... Cabin  Embarked   New\n",
              "0            1         0       3  ...   NaN         S  22.0\n",
              "1            2         1       1  ...   C85         C  38.0\n",
              "2            3         1       3  ...   NaN         S  26.0\n",
              "3            4         1       1  ...  C123         S  35.0\n",
              "4            5         0       3  ...   NaN         S  35.0\n",
              "\n",
              "[5 rows x 13 columns]"
            ]
          },
          "metadata": {
            "tags": []
          },
          "execution_count": 211
        }
      ]
    },
    {
      "cell_type": "markdown",
      "metadata": {
        "id": "RDLna5F5s6v9",
        "colab_type": "text"
      },
      "source": [
        "* [영상보기](https://)"
      ]
    },
    {
      "cell_type": "markdown",
      "metadata": {
        "id": "wMBoAdVPTxDg",
        "colab_type": "text"
      },
      "source": [
        "\n",
        "\n",
        "#TASK 28    -    Making a Class \n",
        "\n",
        "\n",
        "##학습 내용\n",
        "* 함수, 변수, data 등을 포함한 큰 오브젝트 class가 있습니다. 한 번 클래스를 만들어 보겠습니다. 여기서 self 및 _init_의 개념도 공부합니다. 클래스는 다른 모듈들과 구분하기 위해 대문자로 표기합니다. \n",
        "\n",
        "\n",
        "##설명\n",
        "* 우선 빈 클래스를 만들어 봅니다.\n",
        "\n",
        "         class Car():\n",
        "\t\t    pass\n",
        "\n",
        "* 위의 클래스는 빈 클래스 입니다. 여기에 요소들을 붙여 봅니다.\n",
        "* 우선 클래스 \"Car\" 를 만들고 이 안에 object 들이 있음을 알립니다.\n",
        "* 그리고 initializer 라 불리우는 _init_을 넣습니다. \n",
        "* _init_ 은 initializer, 즉 초기에 뭔가 정해주는 성질을 가집니다.\n",
        "* 우리는 메소드를 만들 때  _init_() 을 사용하는데, 이 것의 첫 argument는  \"self\" 로 시작합니다.  \n",
        "\n",
        "\t    class Car(object): \n",
        "\t\t    def __init__(self):\n",
        "\n",
        "* 우리는 \"self\" 를 최초의 인자로 사용했습니다. 이는 다음에 오는 다른 argument 모두에게 \"self\" 를 부여하는 효과가 있습니다.  이는  마치 여기서 만들어지는 매소드는 이 클래스에 속한 것이라 선언하는 효과가 있습니다.\n",
        "\n",
        "-----\n",
        "\n",
        "* 우선 이해를 쉽게 하기 위해 _init_ 없이 클래스를 만들어 봅니다.\n",
        "\n",
        "    \tclass Car(): \n",
        "\t    \tdef brake():\n",
        "\t\t    \tprint (\"Hit the brake!\")\n",
        "\n",
        "\t\t    def pedal(self):\n",
        "\t\t\t    print (\"Stop the car!\")\n",
        "\n",
        "\n",
        "* 위의 경우를 보면 함수 brake() 에는 “self” 가 없습니다. \n",
        "* 위를 실행해 보면 f.brake() 는 에러가 발생하나 f.pedal() 은 “Stop the car!”를 프린트 합니다. 왜 그럴까요?  \n",
        "* 이는 brake가 아무런 argument 없이 시작되었는데 아래에서 아규먼트를 받기 때문입니다. 이는 자체적으로 “self” 를 통해서 이 클래스 내에서 쓰일 인자를 받아야 아래에서 이를 출력할 수 있다는 말입니다. (물론 self 말고 다른 (예를 들어 a 라는) 인자를 주어도 출력이 가능합니다. 하지만 self 를 주어야 그 다음에 올 인자들에게 self 를 부여할 수 있게 됩니다.) \n",
        "* 위의 경우에는 Hit the brake! 와 Stop the car! 를 출력합니다.\n",
        "\n",
        "\n",
        "    \tclass Car(): \n",
        "    \t\tdef brake(self):\n",
        "    \t\t\tprint (\"Hit the brake!\")\n",
        "\n",
        "    \t\tdef pedal(self):\n",
        "    \t\t\tprint (\"Stop the car!\")\n",
        "\n",
        "    \tf=Car()\n",
        "    \tf.brake()\n",
        "    \tf.pedal()\n",
        "\n",
        "\n",
        "## 연습\n",
        "\n",
        "* 이제 예로 차계부 Class 를 만들어 보겠습니다. \n",
        "\n",
        "(1) class Manager: 를 만듭니다. \n",
        "\n",
        "        class Manager():\n",
        "\n",
        "(2) def init(self, model, color, year, mileage) 로 정의 합니다.\n",
        "\n",
        "        def_init_(self, model, color, year, mileage):\n",
        "\n",
        "(3) 이어서 self 로 정의된 변수를 변수랑 연결해 줍니다. \n",
        "\n",
        "        self.model = model\n",
        "        self.color = color\n",
        "        self. year =  year\n",
        "        self.mileage = mileage\n",
        "\n",
        "(4) 이들을 출력할 수 있게 argument 를 줍니다.\n",
        "\n",
        "        mycar = Manager(\"Model: Camaro\", \"Color: Red\", \"Year: 2020\", \"Mileage: 12,345\")\n",
        "\n",
        "\n",
        "(5) 출력합니다.\n",
        "\n",
        "        print (mycar.model)\n",
        "        print (mycar.color)\n",
        "        print (mycar.year)\n",
        "        print (mycar.mileage)\n",
        "\n",
        "\n",
        "\n",
        "\n",
        "\n",
        "##코딩 부분"
      ]
    },
    {
      "cell_type": "code",
      "metadata": {
        "id": "mlC0RTUST0wk",
        "colab_type": "code",
        "outputId": "899dad1b-833d-4c95-89a8-ccc63f657350",
        "colab": {
          "base_uri": "https://localhost:8080/",
          "height": 90
        }
      },
      "source": [
        "class Manager(object):\n",
        "    def __init__(self, model, color, year, mileage): \n",
        "       self.model = model\n",
        "       self.color = color\n",
        "       self.year = year\n",
        "       self.mileage = mileage\n",
        "\n",
        "mycar = Manager(\"Model: Camaro\", \"Color: Red\", \"Year: 2020\", \"Mileage: 12,345\")\n",
        "\n",
        "print (mycar.model)\n",
        "print (mycar.color)\n",
        "print (mycar.year)\n",
        "print (mycar.mileage)\n"
      ],
      "execution_count": 212,
      "outputs": [
        {
          "output_type": "stream",
          "text": [
            "Model: Camaro\n",
            "Color: Red\n",
            "Year: 2020\n",
            "Mileage: 12,345\n"
          ],
          "name": "stdout"
        }
      ]
    },
    {
      "cell_type": "markdown",
      "metadata": {
        "id": "XCPW42O4T4ii",
        "colab_type": "text"
      },
      "source": [
        "####Video\n",
        "[video](https://youtu.be/tl8Hh0hiljE)"
      ]
    },
    {
      "cell_type": "markdown",
      "metadata": {
        "id": "chdzWSK4T_HG",
        "colab_type": "text"
      },
      "source": [
        "####Extra Practice\n",
        "\n",
        "(1) 설명에 나온 것을 해봅니다."
      ]
    },
    {
      "cell_type": "code",
      "metadata": {
        "id": "J2BiD2z8UCJg",
        "colab_type": "code",
        "outputId": "160bdf49-ec6f-4525-faa3-7deb9fde7500",
        "colab": {
          "base_uri": "https://localhost:8080/",
          "height": 54
        }
      },
      "source": [
        "class Car(): \n",
        "       def brake(self):\n",
        "        print ('Hit the brake!')\n",
        "       def pedal(self):\n",
        "        print ('Stop the car!')\n",
        "\n",
        "f=Car()\n",
        "f.brake() \n",
        "f.pedal()"
      ],
      "execution_count": 213,
      "outputs": [
        {
          "output_type": "stream",
          "text": [
            "Hit the brake!\n",
            "Stop the car!\n"
          ],
          "name": "stdout"
        }
      ]
    },
    {
      "cell_type": "markdown",
      "metadata": {
        "id": "43BqJRlfUEKC",
        "colab_type": "text"
      },
      "source": [
        "(2) mycar & yourcar"
      ]
    },
    {
      "cell_type": "code",
      "metadata": {
        "id": "K6AMYAvvUGsk",
        "colab_type": "code",
        "outputId": "fa4f5517-699a-4154-919a-918d8514a2da",
        "colab": {
          "base_uri": "https://localhost:8080/",
          "height": 54
        }
      },
      "source": [
        "class Car(): \n",
        "       def mycar(self, model, color):\n",
        "           print (model, color)\n",
        "\n",
        "       def yourcar(self, model, color):\n",
        "           print (model,color)\n",
        "\n",
        "f=Car()\n",
        "f.mycar('Corvett', 'Black') \n",
        "f.yourcar('Camaro', 'Red')\n"
      ],
      "execution_count": 214,
      "outputs": [
        {
          "output_type": "stream",
          "text": [
            "Corvett Black\n",
            "Camaro Red\n"
          ],
          "name": "stdout"
        }
      ]
    },
    {
      "cell_type": "markdown",
      "metadata": {
        "id": "AlSMl4ciUOnC",
        "colab_type": "text"
      },
      "source": [
        "#TASK 29      -      Instance \n",
        "\n",
        "\n",
        "\n",
        "##학습 내용\n",
        "* instance 는 클래스에 의해 생성되는 오브젝트로 각 인스턴스는 고유의 값을 가집니다. \n",
        "\n",
        "\n",
        "##문법\n",
        "* “Car” 가 당신의 클래스라면 “my_car” 는 고유의 instance 입니다.\n",
        "* “야구선수”가 당신의 클래스라면 “류현진”은 고유의 인스턴스가 될 것입니다.\n",
        "* 이와 같이, 인스턴스는 클래스에 의해 생성되는 오브젝트로 각 인스턴스는 고유의 값을 가집니다. \n",
        "\n",
        "\n",
        " \n",
        "##설명\n",
        "* 예를 들어 Car 라는 클래스를 만든다고 가정합니다.\n",
        "* name(self) 이라는 메소드를 만든 다음\n",
        "* 당신이 당신의 차에 ‘Bumblebee’ 란 이름을 주었다고 가정합니다\n",
        "* 당신 차의 이름을 출력하는 것을 이 클래스의 함수로 주었다면\n",
        "* 이 것이 인스턴스인 것입니다.\n",
        "\n",
        "\n",
        "## 연습\n",
        "* 연습을 만들어 봅니다.\n",
        "\n",
        "        class Car(object):\n",
        "\t\t    def __init__(self, name):\n",
        "\t\t\t    self.name = name\n",
        "\n",
        "\t    mycar = Car(\"Bumblebee\")\n",
        "    \tprint (mycar.name)\n",
        "\n",
        "\n",
        "\n",
        "##주의\n",
        "* 클래스가 붕어빵 틀이라면 인스턴스는 틀에서 나오는 붕어빵이라고 생각하시면 이해가 좀 더 쉬울 것입니다.\n",
        "\n",
        "\n",
        "\n",
        "##코딩 부분\n"
      ]
    },
    {
      "cell_type": "code",
      "metadata": {
        "id": "oONtHPJzUSdn",
        "colab_type": "code",
        "colab": {
          "base_uri": "https://localhost:8080/",
          "height": 35
        },
        "outputId": "69377213-103a-4afb-8c6e-a59dc43a1df6"
      },
      "source": [
        "\n",
        "class Car(object):\n",
        "\tdef __init__(self, name):\n",
        "\t\tself.name = name\n",
        "\n",
        "mycar = Car(\"Bumblebee\")\n",
        "print (mycar.name)"
      ],
      "execution_count": 215,
      "outputs": [
        {
          "output_type": "stream",
          "text": [
            "Bumblebee\n"
          ],
          "name": "stdout"
        }
      ]
    },
    {
      "cell_type": "markdown",
      "metadata": {
        "id": "3w_kqqQqUW0M",
        "colab_type": "text"
      },
      "source": [
        "####Video\n",
        "[video](https://youtu.be/ysx5BNHba6s)"
      ]
    },
    {
      "cell_type": "markdown",
      "metadata": {
        "id": "sr0qopBBUZ00",
        "colab_type": "text"
      },
      "source": [
        "##추가 연습 \n",
        "\n",
        "* 클래스 Car를 만듭니다.\n",
        "\n",
        "\t\tclass Car(object):\n",
        "\n",
        "모델, 컬러, 연도에 이름까지 차에 붙인다고 생각해 봅니다.\n",
        "\n",
        "\t\t\tdef __init__(self, model, color, year, name):\n",
        "\t\t\t\tself.model = model\n",
        "\t\t\t\tself.color = color\n",
        "\t\t\t\tself.year = year\n",
        "\t\t\t\tself.name = name\n",
        "\n",
        "제차 소개를 넣어 봅니다.\n",
        "\n",
        "\t\t\tdef about_mine(self):\n",
        "\t\t\t\treturn '제차는{}로 {}색 입니다. {}연도형으로 제가 이름을 {}라고  부르지요.'.format(self.model,self.color, self.year, self.name)\n",
        "\n",
        "인자를 넣고 출력을 해봅니다.\n",
        "\n",
        "    \t\tmycar = Car('Palisade', '붉은', '2020', '코코')\n",
        "    \t\tprint (mycar.about_mine()\n"
      ]
    },
    {
      "cell_type": "code",
      "metadata": {
        "id": "ybRtNg2dUdlN",
        "colab_type": "code",
        "outputId": "1f2628f8-b1dc-4f51-d52e-05f093b50e1a",
        "colab": {
          "base_uri": "https://localhost:8080/",
          "height": 35
        }
      },
      "source": [
        "class Car(object):\n",
        "\tdef __init__(self,model,color,year,name):\n",
        "\t\tself.model = model\n",
        "\t\tself.color = color\n",
        "\t\tself.year = year\n",
        "\t\tself.name = name\n",
        "\n",
        "\tdef about_mine(self):\n",
        "\t\tprint (\"제차는 {0}로  {1}색 입니다. {2}연도형으로 제가 이름을 {3}라고 부르지요.\".format(self.model, self.color, self.year, self.name))\n",
        "\n",
        "\n",
        "mycar = Car('Palisade', '붉은', '2020', '코코')\n",
        "mycar.about_mine()\n"
      ],
      "execution_count": 216,
      "outputs": [
        {
          "output_type": "stream",
          "text": [
            "제차는 Palisade로  붉은색 입니다. 2020연도형으로 제가 이름을 코코라고 부르지요.\n"
          ],
          "name": "stdout"
        }
      ]
    },
    {
      "cell_type": "markdown",
      "metadata": {
        "id": "mqvM2t_uUlVr",
        "colab_type": "text"
      },
      "source": [
        "####Extra Practice\n",
        "\n",
        "(1) 다른 문장을 만들어서 자기 차에 대한 소개를 만들어 봅니다."
      ]
    },
    {
      "cell_type": "code",
      "metadata": {
        "id": "IX7ojyKYUm5a",
        "colab_type": "code",
        "outputId": "43d5aea3-68ba-4375-b175-ac7afe5919ba",
        "colab": {
          "base_uri": "https://localhost:8080/",
          "height": 35
        }
      },
      "source": [
        "class Car(object):\n",
        "\tdef __init__(self,maker,color,year,name):\n",
        "\t\t  self.maker = maker\n",
        "\t\t  self.color = color\n",
        "\t\t  self.year = year\n",
        "\t\t  self.name = name\n",
        "\n",
        "\tdef about_mine(self):\n",
        "\t\t  print (\"My car is a {0} and it is a beautiful {1} car. It is a {2} model, and I call it '{3}'.\".format(self.maker, self.color, self.year, self.name))\n",
        "\n",
        "\n",
        "mycar = Car('Maserati', 'red', '2020', 'baby')\n",
        "mycar.about_mine()\n"
      ],
      "execution_count": 158,
      "outputs": [
        {
          "output_type": "stream",
          "text": [
            "My car is a Maserati and it is a beautiful red car. It is a 2020 model, and I call it 'baby'.\n"
          ],
          "name": "stdout"
        }
      ]
    },
    {
      "cell_type": "markdown",
      "metadata": {
        "id": "BWcJinR9VcTu",
        "colab_type": "text"
      },
      "source": [
        "#TASK 30  -   Creating and Accessing Methods \n",
        "\n",
        "\n",
        "##학습 내용\n",
        "* 이제는 클래스 내에 메소드를 만들고 이를 사용하는 법을 배워 봅니다. 메소드는 클래스 내에 내장된 함수 같은 것입니다. 우리가 클래스를 만들 때 메소드도 같이 만들고 이를 사용해 보겠습니다. \n",
        "\n",
        "\n",
        "##설명\n",
        "* 우선 Car 클래스를 만들어 봅니다.\n",
        "* self 로 maker, color, style 의 오브젝트를 만듭니다.\n",
        "* 브레이크 메소드는 다음을 프린트하는 기능을 가지도록 합니다.\n",
        "\n",
        "         This is a {maker} with a good brake.\n",
        "\n",
        "* 미러 메소드는 다음을 프린트하는 기능을 가지도록 합니다.\n",
        "\n",
        "        This is {style} style with no blind spot.\n",
        "\n",
        "\n",
        "* 와이퍼 메소드는 다음을 프린트하는 기능을 가지도록 합니다.\n",
        "\n",
        "        It is {color} and comes with an excellent wiper.\n",
        "\n",
        "\n",
        "* 아규먼트를 줍니다.\n",
        "\n",
        "        mine = Car(\"Chevy\", \"dark blue\", \"cool\")\n",
        "\n",
        "\n",
        "* 호출하여 메소드를 사용합니다.\n",
        "\n",
        "    \tmine.brake()\n",
        "    \tmine.mirror()\n",
        "    \tmine.wiper()\n",
        "\n",
        "\n",
        "## 연습\n",
        "\n",
        "* Car 클래스를 만든 후\n",
        "* brake method, mirror method, wiper method 를 만든 후 차례로 호출해 봅니다.\n",
        "\n",
        "\n",
        "\n",
        "##코딩 부분"
      ]
    },
    {
      "cell_type": "code",
      "metadata": {
        "id": "gKm8Ny_rVjRl",
        "colab_type": "code",
        "outputId": "e9a025f1-59f7-4cc4-8279-126d27541821",
        "colab": {
          "base_uri": "https://localhost:8080/",
          "height": 72
        }
      },
      "source": [
        "class Car(object):\n",
        "\tdef __init__(self, maker, color, style):\n",
        "\t\tself.maker = maker\n",
        "\t\tself.color = color\n",
        "\t\tself.style = style\n",
        "\n",
        "\tdef brake(self):\n",
        "\t\tprint (\"This is a {} with a good brake.\".format(self.maker))\n",
        "\n",
        "\tdef mirror(self):\n",
        "\t\tprint (\"This is {} style with no blind spot.\".format(self.style))\n",
        "\n",
        "\tdef wiper(self):\n",
        "\t\tprint (\"It is {} and comes with an excellent wiper.\".format(self.color))\n",
        "\n",
        "\n",
        "mine = Car(\"Chevy\", \"dark blue\", \"cool\")\n",
        "\n",
        "mine.brake()\n",
        "mine.mirror()\n",
        "mine.wiper()\n"
      ],
      "execution_count": 217,
      "outputs": [
        {
          "output_type": "stream",
          "text": [
            "This is a Chevy with a good brake.\n",
            "This is cool style with no blind spot.\n",
            "It is dark blue and comes with an excellent wiper.\n"
          ],
          "name": "stdout"
        }
      ]
    },
    {
      "cell_type": "markdown",
      "metadata": {
        "id": "bXycjU4AYrCe",
        "colab_type": "text"
      },
      "source": [
        "##추가 연습 \n",
        "\n",
        "* 3대의 차가 있다고 상상해 봅니다. 이 3대는 Chevrolet 의 2019 Corvette, Ford 의 2020 Mustang, Jaguar 의 2019 XF 라고 가정해 봅니다. \n",
        "* 셋 다 빠르다고 가정하여 is_fast = True 로 공통으로 주고 \n",
        "* 이 차들의 현황을 프린트 할 수 있게 해봅니다. \n",
        "* 아규먼트는 다음과 같이 줍니다.\n",
        "\n",
        "    \tcorvette = Car(\"Chevrolet\", 2019)\n",
        "    \tmustang = Car(\"Ford\", 2020)\n",
        "    \txf= Car(\"Jaguar\", 2019)\n",
        "\n",
        "\n",
        "\n",
        "* 이를 프린트 해봅니다.\n",
        "\n",
        "    \tprint (corvette.maker, corvette.year, corvette.is_fast)\n",
        "    \tprint (mustang.maker, mustang.year, mustang.is_fast)\n",
        "    \tprint (xf.maker, xf.year, xf.is_fast)"
      ]
    },
    {
      "cell_type": "code",
      "metadata": {
        "id": "MC1HFdwpYwhN",
        "colab_type": "code",
        "outputId": "74e83649-cb44-4b72-ea42-47b3d2014ecc",
        "colab": {
          "base_uri": "https://localhost:8080/",
          "height": 72
        }
      },
      "source": [
        "class Car(object):\n",
        "\tis_fast = True \n",
        "\n",
        "\tdef __init__(self, maker, year):\n",
        "      \t\tself.maker = maker\n",
        "      \t\tself.year = year\n",
        "\n",
        "corvette = Car(\"Chevrolet\", 2019)\n",
        "mustang = Car(\"Ford\", 2020)\n",
        "xf = Car(\"Jaguar\",2019)\n",
        "\n",
        "print (corvette.maker, corvette.year, corvette.is_fast)\n",
        "print (mustang.maker, mustang.year, mustang.is_fast)\n",
        "print (xf.maker, xf.year, xf.is_fast)"
      ],
      "execution_count": 218,
      "outputs": [
        {
          "output_type": "stream",
          "text": [
            "Chevrolet 2019 True\n",
            "Ford 2020 True\n",
            "Jaguar 2019 True\n"
          ],
          "name": "stdout"
        }
      ]
    },
    {
      "cell_type": "markdown",
      "metadata": {
        "id": "ZMJ5JAQfaMKk",
        "colab_type": "text"
      },
      "source": [
        "####Extra Practice\n",
        "\n",
        "Car(object)를 만듭니다. 이어서 세 가지의 메써드 라인을 추가합니다. \n",
        "\n",
        "        def __init__(self):, \n",
        "        def description(self):, \n",
        "        def is_ok(self): \n",
        "\n",
        "자 이제는 Car class 바깥에다 truck_mine이라는 것을 만들어 봅니다.\n",
        "\n",
        "class 바깥에 만들어 졌지만 Car class에 있는 성질들 즉 인스턴스를 사용하게 해줍니다.\n",
        "\n",
        "이는 truck_mine = Car()로 해주면 \"아 Car에서 뭔가를 물려 받겠구나\"하고 알 수 있습니다.\n",
        "\n",
        "그리고 maker, color, style, oldie라는 Car의 성질들을 받아서 \"Chevy\", \"dark blue\", \"cool\", False로 연결해 줍니다.\n",
        "\n",
        "이제 tuck_mine은  maker =  \"Chevy\", color = \"dark blue\", style = \"cool\",  oldie = False로 연결되었습니다.\n",
        "\n",
        "Car의 description() 메써드를 tuck_mine에서 사용하게 해봅니다.\n",
        "\n",
        "이어서 Car의 is_ok () 메써드를 tuck_mine에서 사용하게 해봅니다.\n"
      ]
    },
    {
      "cell_type": "code",
      "metadata": {
        "id": "8At3FU9baPpb",
        "colab_type": "code",
        "outputId": "f0f7cf7c-ba54-4ddd-ba44-77417c99ae40",
        "colab": {
          "base_uri": "https://localhost:8080/",
          "height": 54
        }
      },
      "source": [
        "# Car를 만든 후 제조사, 색, 스타일, 올디(구식) 이라는 메써드를 정의한다.\n",
        "\n",
        "class Car(object):\n",
        "  def __init__(self, maker, color, style, oldie):\n",
        "    self.maker = maker\n",
        "    self.color = color\n",
        "    self.style = style\n",
        "    self.oldie = oldie\n",
        "\n",
        "# description은 아래의 문장을 출력한다\n",
        "  def description(self):\n",
        "    print (\"This is a {1} {0} with {2} style.\".format(self.maker,self.color,self.style))\n",
        "\n",
        "# is_ok는 odldie가 아니면 쿨하다는 것을 프린트하고 oldie가 맞으면 “아버님이 좋아하시겠어요”를 출력하게 한다. \n",
        "  def is_ok(self):\n",
        "    if not self.oldie:\n",
        "      print (\"It is definitely cool.\")\n",
        "    else:\n",
        "      print (\"Your old man would love it.\")\n",
        "\n",
        "truck_mine = Car(\"Chevy\", \"dark blue\", \"cool\", False)\n",
        "\n",
        "truck_mine.description()\n",
        "truck_mine.is_ok()\n"
      ],
      "execution_count": 219,
      "outputs": [
        {
          "output_type": "stream",
          "text": [
            "This is a dark blue Chevy with cool style.\n",
            "It is definitely cool.\n"
          ],
          "name": "stdout"
        }
      ]
    },
    {
      "cell_type": "markdown",
      "metadata": {
        "id": "WW0xTOOMbB-9",
        "colab_type": "text"
      },
      "source": [
        "#TASK 31    -      Inheritance\n",
        "\n",
        "\n",
        "\n",
        "##학습 내용\n",
        "* 클래스 간의 상속(Inheritance)는 부모 클래스의 속성을 자식 클래스가 물려 받음을 의미합니다. 예를 들어 Car 라는 클래스가 있으면 \"Car Class\" 의 속성을 상속받는 자식 클래스인 Sedan, Truck 또는 SUV 와 같은 서브 클래스를 만들 수 있습니다. 해당 클래스에서 부모 클래스의 속성과 메서드를 사용할 수 있습니다.\n",
        "\n",
        "\n",
        "##설명\n",
        "* 아래의 예에서 간단히 어떻게 상속하는지를 보겠습니다. 자식 클래스를 만들 때 부모 클래스 이름을 괄호 안에 입력하면 됩니다.\n",
        "* 그러면 따로 만들지 않아도 자식 클래스에는 그 속성이 전달됩니다.\n",
        "\n",
        "    \tclass Car(object):       \n",
        "    \t\t\tbody\n",
        "    \tclass Truck(Car):\n",
        "\n",
        "\n",
        "* 클래스 \"Car\" 를 만듭니다.\n",
        "* Self로 \"Category\", \"maker\" 와 \"year\" 및 \"color\" 를 부모 클래스 \"Car\" 에 생성합니다.\n",
        "* 서브클래스 괄호 안에 Car 를 넣어 \"Truck(Car)\" 클래스를 생성합니다.\n",
        "* 서브 클래스에서 \"Car Class\" 의 메소드를 상속받았다고 가정하고 인자를 넣어서 프린트를 해봅니다.\n",
        "* 이 것이 에러를 발생하는지 상속을 하는지를 확인 합니다.\n",
        "\n",
        "\n",
        "\n",
        "##코딩 부분\n"
      ]
    },
    {
      "cell_type": "code",
      "metadata": {
        "id": "2NqO7LHtb0Pp",
        "colab_type": "code",
        "outputId": "17013a81-6e98-437b-ba0f-c8019c00d2c0",
        "colab": {
          "base_uri": "https://localhost:8080/",
          "height": 90
        }
      },
      "source": [
        "class Car(object):\n",
        "\tdef __init__(self, category, maker, year, color):\n",
        "\t\tself.category = category\n",
        "\t\tself.maker = maker\n",
        "\t\tself.year = year\n",
        "\t\tself.color = color\n",
        "\n",
        "\tdef display_mycar(self):\n",
        "\t\tprint ('MyCar: {}'.format(self.category))\n",
        "\t\tprint ('Maker: {}'.format(self.maker))\n",
        "\t\tprint ('Year: {}'.format(self.year))\n",
        "\t\tprint ('Color: {}'.format(self.color))\n",
        "\n",
        "class Truck(Car):\n",
        "\tpass\n",
        "\n",
        "Truck_mine = Truck('Truck','Chevy', '2019', 'Red')\n",
        "Truck_mine.display_mycar()"
      ],
      "execution_count": 220,
      "outputs": [
        {
          "output_type": "stream",
          "text": [
            "MyCar: Truck\n",
            "Maker: Chevy\n",
            "Year: 2019\n",
            "Color: Red\n"
          ],
          "name": "stdout"
        }
      ]
    },
    {
      "cell_type": "markdown",
      "metadata": {
        "id": "_HBdNHcYb9-T",
        "colab_type": "text"
      },
      "source": [
        "##추가 연습 \n",
        "\n",
        "* 클래스 “Car” 를 만듭니다.\n",
        "* Self 로 “Category”, “maker” 와 “year” 및  “color” 를 부모 클래스 “Car” 에 생성합니다.\n",
        "* 서브클래스 괄호 안에 Car 를 넣어 “Ecar(Car)” 전기차클래스를 생성합니다.\n",
        "* 서브 클래스에서 Car Class 의 메소드를 상속받았다고 가정하고 인자를 넣어서 프린트를 해봅니다.\n",
        "* 이 것이 에러를 발생하는지 상속을 하는지를 확인 합니다.\n"
      ]
    },
    {
      "cell_type": "code",
      "metadata": {
        "id": "w0K6XK69cABt",
        "colab_type": "code",
        "outputId": "02482e79-2d78-4c41-e2c4-782291e324e4",
        "colab": {
          "base_uri": "https://localhost:8080/",
          "height": 90
        }
      },
      "source": [
        "class Car(object):\n",
        "\tdef __init__(self, category, maker, year, color):\n",
        "\t\tself.category = category\n",
        "\t\tself.maker = maker\n",
        "\t\tself.year = year\n",
        "\t\tself.color = color\n",
        "\n",
        "\tdef display_mycar(self):\n",
        "\t\tprint ('MyCar: {}'.format(self.category))\n",
        "\t\tprint ('Maker: {}'.format(self.maker))\n",
        "\t\tprint ('Year: {}'.format(self.year))\n",
        "\t\tprint ('Color: {}'.format(self.color))\n",
        "\n",
        "class Ecar(Car):\n",
        "\t\tpass\n",
        "\n",
        "kona_mine = Ecar('eCar','HYUNDAI', '2019', 'Red')\n",
        "kona_mine.display_mycar()"
      ],
      "execution_count": 221,
      "outputs": [
        {
          "output_type": "stream",
          "text": [
            "MyCar: eCar\n",
            "Maker: HYUNDAI\n",
            "Year: 2019\n",
            "Color: Red\n"
          ],
          "name": "stdout"
        }
      ]
    },
    {
      "cell_type": "markdown",
      "metadata": {
        "id": "Er_S01RvcMVz",
        "colab_type": "text"
      },
      "source": [
        " ##추가 연습 \n",
        "\n",
        "* 아래의 추가 적인 예를 보며 이해해 봅니다.\n"
      ]
    },
    {
      "cell_type": "code",
      "metadata": {
        "id": "5TQKERI2cPhd",
        "colab_type": "code",
        "outputId": "01f52e48-1b81-451e-d169-ea538ebdbc1d",
        "colab": {
          "base_uri": "https://localhost:8080/",
          "height": 54
        }
      },
      "source": [
        "class Car():\n",
        "\tdef __init__(self, engine, body):  \n",
        "\t\tself.engine = engine\n",
        "\t\tself.body = body\n",
        "\n",
        "mycar = Car(\"2 lister engine\", \"beautiful shape.\") \n",
        "print (\"My car has {0} with {1}\".format(mycar.engine, mycar.body))\n",
        "\n",
        "class Truck(Car):\n",
        "\tpass\n",
        "\n",
        "mytruck = Truck(\"5 liter engine\", \"tough body.\")\n",
        "print (\"My car has {0} with {1}\".format(mytruck.engine,mytruck.body))\n"
      ],
      "execution_count": 222,
      "outputs": [
        {
          "output_type": "stream",
          "text": [
            "My car has 2 lister engine with beautiful shape.\n",
            "My car has 5 liter engine with tough body.\n"
          ],
          "name": "stdout"
        }
      ]
    },
    {
      "cell_type": "markdown",
      "metadata": {
        "id": "9Kuffw9CcTT0",
        "colab_type": "text"
      },
      "source": [
        "#TASK 32 - Overriding\n",
        "\n",
        "\n",
        "##학습 내용\n",
        "* Method overriding 은 부모 클래스의 메소드를 자식 클래스에서 다시 정의 하는 것입니다. 예를 들어 부모 클래스의 특징에서 특정 메소드가 특정한 기능을 하는데 자식 클래스에서는 다른 것은 다 같으나 이 것만은 달라야 할 때가 있습니다. 이런 때 overriding 이 필요합니다.\n",
        "\n",
        "\n",
        "##설명\n",
        "* 아래의 예에서 간단히 보겠습니다. \n",
        "* Car 라는 부모 클래스의 메소드 중 하나인 톨비를 자식 클래스 Truck에서 다시 다른 값으로 정의 하는 것을 해 봅니다.\n",
        "* 부모 클래스에서 메소드를 만들어서 세단의 톨비를 정해봅니다.\n",
        "\n",
        "    \tdef display_car(self):\n",
        "    \t\tprint (\"The toll for a sedan is {} dollars\". format(self.toll))\n",
        "\n",
        "\n",
        "* 자식 클래스에선 이를 뒤엎는 메소드를 만들어서 트럭의 톨비를 정해봅니다. \n",
        "\n",
        "    \tdef display_car(self):\n",
        "    \t\tprint (\"The toll for a truck is {} dollars\". format(self.toll))\n",
        "\n",
        "\n",
        "\n",
        "* 아규먼트에서 각 각 다른 톨비를 정하고 호출합니다.\n",
        "\n",
        "    \tpay_toll = Truck(\"3\")\n",
        "    \tpay_toll.display_car()\n",
        "    \tpay_toll = Car(\"2\")\n",
        "    \tpay_toll.display_car()\n",
        "\n",
        "\n",
        "\n",
        "*이제 단계별로 오버라이딩을 보겠습니다.\n",
        "\n",
        "## 연습 1\n",
        "* 아래에서는 Car 란 클래스를 만들고 gasoline 을 넣는다는 것으로 mother class 에 정해주고\n",
        "* sub class Ecar 에서는 전기차 이므로 electricity 를 넣는다는 것으로 오버라이딩 해보겠습니다.\n",
        "* 우선 mother class 만 있는 경우를 봅니다.\n",
        "\n",
        "##코딩 부분\n"
      ]
    },
    {
      "cell_type": "code",
      "metadata": {
        "id": "_uGRrM3Acc2d",
        "colab_type": "code",
        "outputId": "4d1be11a-0b4a-4f68-a6a3-df4074912b80",
        "colab": {
          "base_uri": "https://localhost:8080/",
          "height": 35
        }
      },
      "source": [
        "class Car(object):\n",
        "\tdef __init__(self, category, fuel):\n",
        "\t\tself.category = category\n",
        "\t\tself.fuel = fuel\n",
        "\n",
        "\tdef display_mycar(self):\n",
        "\t\tprint (\"My car is {0} and it requires {1} for fuel.\". format(self.category,self.fuel))\n",
        "\n",
        "mysportscar = Car(\"an old car\",\"gasoline\")\n",
        "mysportscar.display_mycar()"
      ],
      "execution_count": 223,
      "outputs": [
        {
          "output_type": "stream",
          "text": [
            "My car is an old car and it requires gasoline for fuel.\n"
          ],
          "name": "stdout"
        }
      ]
    },
    {
      "cell_type": "markdown",
      "metadata": {
        "id": "U0E69yXOchYE",
        "colab_type": "text"
      },
      "source": [
        "####Video\n",
        "[video](https://youtu.be/sTZd0fMHrio)"
      ]
    },
    {
      "cell_type": "markdown",
      "metadata": {
        "id": "4uampx2DcnQ8",
        "colab_type": "text"
      },
      "source": [
        "## 연습 2\n",
        "\n",
        "* 이어서 오버라이딩 하지 않고 inheritance 만 하는 경우를 보겠습니다\n",
        "\n",
        "\n",
        "\n",
        "\n",
        "##코딩 부분"
      ]
    },
    {
      "cell_type": "code",
      "metadata": {
        "id": "k3TGaKUycpsm",
        "colab_type": "code",
        "outputId": "60235c30-199e-46a7-e766-5cb545ba16b0",
        "colab": {
          "base_uri": "https://localhost:8080/",
          "height": 54
        }
      },
      "source": [
        "class Car(object):\n",
        "\tdef __init__(self, category, fuel):\n",
        "\t\tself.category = category\n",
        "\t\tself.fuel = fuel\n",
        "\n",
        "\tdef display_mycar(self):\n",
        "\t\tprint (\"My car is {0} and it requires {1} for fuel.\". format(self.category,self.fuel))\n",
        "\n",
        "class Ecar(Car):\n",
        "\tpass\n",
        "\n",
        "myecar = Ecar(\"a new car\",\"electricity\") \n",
        "myecar.display_mycar()\n",
        "mysportscar = Car(\"an old car\", \"gasoline\")\n",
        "mysportscar.display_mycar()"
      ],
      "execution_count": 224,
      "outputs": [
        {
          "output_type": "stream",
          "text": [
            "My car is a new car and it requires electricity for fuel.\n",
            "My car is an old car and it requires gasoline for fuel.\n"
          ],
          "name": "stdout"
        }
      ]
    },
    {
      "cell_type": "markdown",
      "metadata": {
        "id": "SZizAmL0c0JI",
        "colab_type": "text"
      },
      "source": [
        "\n",
        "## 연습 3\n",
        "\n",
        "* 마지막으로 오버라이딩 해봅니다.\n",
        "\n",
        "\n",
        "\n",
        "\n",
        "\n",
        "##코딩 부분"
      ]
    },
    {
      "cell_type": "code",
      "metadata": {
        "id": "5s9nGnluc15j",
        "colab_type": "code",
        "outputId": "2c9cd2cc-35ea-44e6-9448-40ac1d3d842c",
        "colab": {
          "base_uri": "https://localhost:8080/",
          "height": 54
        }
      },
      "source": [
        "class Car(object):\n",
        "\tdef __init__(self, category, fuel):\n",
        "\t\tself.category = category\n",
        "\t\tself.fuel = fuel\n",
        "\n",
        "\tdef display_mycar(self):\n",
        "\t\tprint (\"My car is {0} and it requires {1} for fuel.\". format(self.category,self.fuel))\n",
        "\n",
        "class Ecar(Car):\n",
        "\tdef display_mycar(self):\n",
        "\t\tprint (\"My car does not require fuel. and it only requires {}.\". format(self.fuel))\n",
        "\n",
        "myecar = Ecar(\"a new car\",\"electricity\") \n",
        "myecar.display_mycar()\n",
        "mysportscar = Car(\"an old car\", \"gasoline\")\n",
        "mysportscar.display_mycar()"
      ],
      "execution_count": 225,
      "outputs": [
        {
          "output_type": "stream",
          "text": [
            "My car does not require fuel. and it only requires electricity.\n",
            "My car is an old car and it requires gasoline for fuel.\n"
          ],
          "name": "stdout"
        }
      ]
    },
    {
      "cell_type": "markdown",
      "metadata": {
        "id": "B7N6hQH-c7_b",
        "colab_type": "text"
      },
      "source": [
        "####Extra Practice\n",
        "\n",
        "(1)설명에 나온 것을 해봅니다.\n",
        "\n",
        "“Car(object)”\n",
        "\n",
        "Car에서 “toll”에다 2의 숫자를 줍니다.\n",
        "\n",
        "서브 클래스 “Truck(Car)” 을 생성합니다.\n",
        "\n",
        "Truck에서 “toll”에다가 3의 숫자를 줍니다.\n",
        "\n",
        "서브 클래스에서 “toll”을 호출 합니다.\n",
        "\n",
        "여기서 에러가 발생하는지 봅니다.\n",
        "\n",
        "결과를 출력해 봅니다"
      ]
    },
    {
      "cell_type": "code",
      "metadata": {
        "id": "r3dJmBCvc-qB",
        "colab_type": "code",
        "outputId": "c61a071b-81f3-41e6-bbbf-aba789546bdb",
        "colab": {
          "base_uri": "https://localhost:8080/",
          "height": 54
        }
      },
      "source": [
        "class Car(object):\n",
        "  def __init__(self, toll):\n",
        "      self.toll = toll\n",
        "\n",
        "  def display_car(self):\n",
        "      print (\"The toll for a sedan is {} dollars\". format(self.toll))\n",
        "\n",
        "class Truck(Car):\n",
        "\n",
        "  def display_car(self):\n",
        "      print (\"The toll for a truck is {} dollars\". format(self.toll))\n",
        "\n",
        "\n",
        "pay_toll = Truck(\"3\")\n",
        "pay_toll.display_car()\n",
        "\n",
        "pay_toll = Car(\"2\")\n",
        "pay_toll.display_car()"
      ],
      "execution_count": 226,
      "outputs": [
        {
          "output_type": "stream",
          "text": [
            "The toll for a truck is 3 dollars\n",
            "The toll for a sedan is 2 dollars\n"
          ],
          "name": "stdout"
        }
      ]
    },
    {
      "cell_type": "markdown",
      "metadata": {
        "id": "wqNMxf7pdROl",
        "colab_type": "text"
      },
      "source": [
        "#TASK 33 - Super\n",
        "\n",
        "\n",
        "##학습 내용\n",
        "* 자식 클래스에 있는 것을 다시 부모 클래스의 메소드로 재정의 하려면 뭐가 필요할까요? 이때 필요한 것이 “super” 입니다. “super” 라는 단어는 자식 틀래스 안에서 부모 클래스의 요소들을 불러옵니다. 우리는 이를 4단계에 걸쳐 보겠습니다.  super는 super(서브클래스명, self).마더클래스함수(파라미터) 형식으로 표현됩니다.\n",
        "\n",
        "\n",
        "\n",
        "## 연습 1\n",
        "* mother class 만 있는 것으로 하고 세단이 km당 200원의 기름을 소모하는 것을 만들어 보겠습니다. \n",
        "\n",
        "\n",
        "\n",
        "\n",
        "\n",
        "##코딩 부분"
      ]
    },
    {
      "cell_type": "code",
      "metadata": {
        "id": "Hq9N2y4BdU-Z",
        "colab_type": "code",
        "outputId": "3db61001-a86f-4524-871c-9fdd37146b8c",
        "colab": {
          "base_uri": "https://localhost:8080/",
          "height": 35
        }
      },
      "source": [
        "class Car(object):\n",
        "\tdef __init__(self, model):\n",
        "\t\tself.model = model\n",
        "\t\n",
        "\tdef calculate_mileage(self, km):\n",
        "\t\tself.km = km\n",
        "\t\treturn km * 200\n",
        "\n",
        "road = Car('Sonata')\n",
        "print (road.calculate_mileage(10))"
      ],
      "execution_count": 227,
      "outputs": [
        {
          "output_type": "stream",
          "text": [
            "2000\n"
          ],
          "name": "stdout"
        }
      ]
    },
    {
      "cell_type": "markdown",
      "metadata": {
        "id": "AdPn-edsdUFL",
        "colab_type": "text"
      },
      "source": [
        "####Video\n",
        "[video](https://youtu.be/i4UQKi5AwCE)\n",
        "##결과 콘솔\n",
        "\n",
        "        2000  \t\t# 당연히 10*200 = 2000이 나옵니다. "
      ]
    },
    {
      "cell_type": "markdown",
      "metadata": {
        "id": "MtWkETc3eFl3",
        "colab_type": "text"
      },
      "source": [
        "\n",
        "## 연습 2\n",
        "\n",
        "* 이제 서브 클래스인 트럭 클래스에서 트럭이 그냥 km 당 200원을 inheritance 하는 것을 보겠습니다. \n",
        "\n",
        "##코딩 부분\n"
      ]
    },
    {
      "cell_type": "code",
      "metadata": {
        "id": "n8EORKNReJzB",
        "colab_type": "code",
        "outputId": "b0219907-0f95-4722-f179-9842fb575f1f",
        "colab": {
          "base_uri": "https://localhost:8080/",
          "height": 35
        }
      },
      "source": [
        "\n",
        "class Car(object):\n",
        "\tdef __init__(self, model):\n",
        "\t\tself.model = model\n",
        "\n",
        "\tdef calculate_mileage(self, km):\n",
        "\t\tself.km = km\n",
        "\t\treturn km * 200\n",
        "\n",
        "class Truck(Car):\n",
        "\tpass\n",
        "\n",
        "\n",
        "road = Truck('road')\n",
        "print (road.calculate_mileage(10))"
      ],
      "execution_count": 228,
      "outputs": [
        {
          "output_type": "stream",
          "text": [
            "2000\n"
          ],
          "name": "stdout"
        }
      ]
    },
    {
      "cell_type": "markdown",
      "metadata": {
        "id": "lCGzq67rePmJ",
        "colab_type": "text"
      },
      "source": [
        "##결과 콘솔\n",
        "\n",
        "         2000  \t\t# 상속했으니 당연히 다시 10*200 = 2000이 나옵니다. \n",
        "\n",
        "## 연습 3\n",
        "\n",
        "* 이제 오버라이딩하는 것을 해봅니다. (트럭은 km당 300원 든다) \n",
        "\n",
        "\n",
        "\n",
        "\n",
        "\n",
        "\n",
        "##코딩 부분\n",
        "\n"
      ]
    },
    {
      "cell_type": "code",
      "metadata": {
        "id": "_HQEboefeU-r",
        "colab_type": "code",
        "outputId": "05853769-fce6-473d-bc29-b356e9d75bd6",
        "colab": {
          "base_uri": "https://localhost:8080/",
          "height": 35
        }
      },
      "source": [
        "class Car(object):\n",
        "\tdef __init__(self, model):\n",
        "\t\tself.model = model\n",
        "\n",
        "\tdef calculate_mileage(self, km):\n",
        "\t\tself.km = km\n",
        "\t\treturn km * 200\n",
        "\n",
        "class Truck(Car):\n",
        "\tdef calculate_mileage(self, km):\n",
        "\t\tself.km = km\n",
        "\t\treturn km * 300\n",
        "\n",
        "road = Truck('road')\n",
        "print (road.calculate_mileage(10))"
      ],
      "execution_count": 229,
      "outputs": [
        {
          "output_type": "stream",
          "text": [
            "3000\n"
          ],
          "name": "stdout"
        }
      ]
    },
    {
      "cell_type": "markdown",
      "metadata": {
        "id": "aerXmu91ejmv",
        "colab_type": "text"
      },
      "source": [
        "##결과 콘솔\n",
        "\n",
        "        3000  \t\t# 오버라이딩되어 10*300 = 3000이 나옵니다. \n",
        "\n",
        "\n",
        "\n",
        "\n",
        "## 연습 4\n",
        "\n",
        "* 마지막으로 super 를 사용하여 고속도로에서는 트럭도 200원만 드는 것으로 바꿉니다. highway.milage 란 함수를 정의 하는데 return 값을 (Truck 클래스의 self로 되어 있는) calculate.mileaage(km) 를 super 하여 서브 클래스의 공식 대신 마더 클래스의 공식으로 바꾸는 기능의 함수를 생성하는 형태로 합니다. \n",
        "\n",
        "\n",
        "\n",
        "\n",
        "\n",
        "\n",
        "##코딩 부분"
      ]
    },
    {
      "cell_type": "code",
      "metadata": {
        "id": "cU9esyQCemGi",
        "colab_type": "code",
        "outputId": "b6a0f81c-9cff-4749-b68e-281a7da4a2f1",
        "colab": {
          "base_uri": "https://localhost:8080/",
          "height": 35
        }
      },
      "source": [
        "class Car(object):\n",
        "\tdef __init__(self, model):\n",
        "\t\tself.model = model\n",
        "\n",
        "\tdef calculate_mileage(self, km):\n",
        "\t\tself.km = km\n",
        "\t\treturn km * 200\n",
        "\n",
        "class Truck(Car):\n",
        "\tdef calculate_mileage(self, km):\n",
        "\t\tself.km = km\n",
        "\t\treturn km * 300\n",
        "\n",
        "\tdef highway_mileage(self, km):\n",
        "\t\treturn super(Truck, self).calculate_mileage(km)\n",
        "\n",
        "highway = Truck('highway')\n",
        "print (highway.highway_mileage(10))\n"
      ],
      "execution_count": 230,
      "outputs": [
        {
          "output_type": "stream",
          "text": [
            "2000\n"
          ],
          "name": "stdout"
        }
      ]
    },
    {
      "cell_type": "markdown",
      "metadata": {
        "id": "hKxP-JsQerlh",
        "colab_type": "text"
      },
      "source": [
        "##결과 콘솔\n",
        "\n",
        "         2000  \t\t# super 로 인해 10*200 = 2000이 나옵니다. \n"
      ]
    },
    {
      "cell_type": "markdown",
      "metadata": {
        "id": "AazDbT8ae69q",
        "colab_type": "text"
      },
      "source": [
        "#TASK 34      -      Lambda\n",
        "\n",
        "\n",
        "##학습 내용\n",
        "* 파이썬의 람다(lambda) 함수는 런타임에 생성해서 사용할 수 있는 익명 함수 입니다. 일반적인 함수와 같이 정의해두고 쓰는 것이 아니고 필요한 곳에서 간단한 기능을 즉시 사용하고 버릴 수 있는 함수입니다.\n",
        "\n",
        "\n",
        "\n",
        " \n",
        "##설명\n",
        "* 우리는 variable 과 function 의 차이를 압니다. 두개의 variable 을 사용하여 아래를 계산하면 답이 4가 나옵니다. \n",
        "\n",
        "      \ta = 2        \n",
        "      \tb = 2\n",
        "      \tprint (a ** b)\n",
        "\n",
        "\n",
        "*Function 으로 이를 만들면 (1) 정의하고 (2) 공식을 넣고 (3) 함수를 호출합니다. 그리고 역시 같은 답 4를 얻습니다. Variable 보다는 좀 복잡합니다. \n",
        "\n",
        "      \tdef sample(a,b):\n",
        "         \t\t print(a ** b)\n",
        "\n",
        "      \tsample(2,2)\n",
        "\n",
        "\n",
        "* 그런데 lambda function 을 사용하면 마치 variable 만 사용한 듯 하면서 function 으로 답을 구할 수 있어서 훨씬 간단합니다. \n",
        "\n",
        "      \ta = lambda x, y: x ** y\n",
        "      \tprint (a(2,2))\n",
        "\n",
        "\n",
        "* 그럼 람다로 다 하지 왜 귀찮게 function 을 만드느냐고 할 수도 있겠으나 lambda 는 임시로만 사용되는 한계가 있는 함수입니다.\n",
        " \n",
        "\n",
        "## 연습 1\n",
        "\n",
        "* x,y,z 를 더하는 람다함수를 만들고 거기에 1,2,3 의 값을 줍니다. \n",
        "* x,y,z 를 곱하는 람다함수를 만들고 거기에 1,2,3 의 값을 줍니다. \n",
        "* z = x + y 인데 x 에 10, y 에 20 을 넣고 계산해 봅니다. \n",
        "\n",
        "\n",
        "\n",
        "##코딩 부분"
      ]
    },
    {
      "cell_type": "code",
      "metadata": {
        "id": "27q8HvJJkI_p",
        "colab_type": "code",
        "outputId": "4dd879f7-461d-4080-874b-ec28594497e3",
        "colab": {
          "base_uri": "https://localhost:8080/",
          "height": 72
        }
      },
      "source": [
        "sample1 = lambda x,y,z: x+y+z\n",
        "print (sample1(1,2,3))\n",
        "\n",
        "sample2 = lambda x,y,z: x*y*z\n",
        "print (sample2(1,2,3))\n",
        "\n",
        "z = (lambda x,y: x+y) (10,20) \n",
        "print (z)"
      ],
      "execution_count": 231,
      "outputs": [
        {
          "output_type": "stream",
          "text": [
            "6\n",
            "6\n",
            "30\n"
          ],
          "name": "stdout"
        }
      ]
    },
    {
      "cell_type": "markdown",
      "metadata": {
        "id": "znYUXViJkNg9",
        "colab_type": "text"
      },
      "source": [
        "####Video\n",
        "[video](https://youtu.be/ScIs41xADeE)"
      ]
    },
    {
      "cell_type": "markdown",
      "metadata": {
        "id": "g7eJ0-inkUfn",
        "colab_type": "text"
      },
      "source": [
        " ## 연습 2\n",
        "\n",
        "* y = x ** 3 에 x 에 7 을 대입하여 답을 구해보세요. \n",
        "* z = x3 + y3 인데 x 에 3, y 에 4 을 넣고 해보세요. \n",
        "* 위에 것을 print (z(3,4)) 로 해서 하고 윗 줄에서 (3,4) 를 빼 보세요. \n",
        "\n",
        "\n",
        "\n",
        "\n",
        "##코딩 부분"
      ]
    },
    {
      "cell_type": "code",
      "metadata": {
        "id": "6dkiv4CqkWkT",
        "colab_type": "code",
        "outputId": "d41442ef-d962-4ed2-ea92-83cc7bc723c4",
        "colab": {
          "base_uri": "https://localhost:8080/",
          "height": 72
        }
      },
      "source": [
        "y = lambda x: x**3\n",
        "print (y(7))\n",
        "\n",
        "z = (lambda x,y: x**3+y**3) (3,4) \n",
        "print (z)\n",
        "\n",
        "z = (lambda x,y: x**3+y**3) \n",
        "print (z(3,4))\n"
      ],
      "execution_count": 232,
      "outputs": [
        {
          "output_type": "stream",
          "text": [
            "343\n",
            "91\n",
            "91\n"
          ],
          "name": "stdout"
        }
      ]
    },
    {
      "cell_type": "markdown",
      "metadata": {
        "id": "yQNaZ89PkiSV",
        "colab_type": "text"
      },
      "source": [
        "\n",
        "## 연습 3\n",
        "\n",
        "* 앞의 과에서 만들어 보았던  함수와 비교해 보겠습니다.\n",
        "* 조건문을 람다로 만들어 보겠습니다. 짝수와 홀수를 출력해 봅니다. \n",
        "\n",
        "\n",
        "\n",
        "##코딩 부분"
      ]
    },
    {
      "cell_type": "code",
      "metadata": {
        "id": "QZ9cbx4VkjsL",
        "colab_type": "code",
        "outputId": "764715cb-0eaa-4659-8d4b-0c0e052fe2b1",
        "colab": {
          "base_uri": "https://localhost:8080/",
          "height": 126
        }
      },
      "source": [
        "# 앞 과에서 썼던 방법\n",
        "for num in range(1, 3):\n",
        "\tif num % 2 == 0:\n",
        "\t\tprint (num)\n",
        "\t\tcontinue\n",
        "for num in range(1, 3):\n",
        "\tif num % 2 == 1:\n",
        "\t\tprint (num)\n",
        "\t\tcontinue\n",
        "\n",
        "# 람다 (두 가지 방법)\n",
        "print ((lambda x, y: x if x % 2 == 0 else y)(1,2))\n",
        "print ((lambda x, y: x if x % 2 == 1 else y)(1,2))\n",
        "\n",
        "mylist = list(range(1, 3))\n",
        "print (list(filter(lambda n:n % 2 == 0 , mylist)))\n",
        "print (list(filter(lambda n:n % 2 == 1 , mylist)))\n"
      ],
      "execution_count": 233,
      "outputs": [
        {
          "output_type": "stream",
          "text": [
            "2\n",
            "1\n",
            "2\n",
            "1\n",
            "[2]\n",
            "[1]\n"
          ],
          "name": "stdout"
        }
      ]
    },
    {
      "cell_type": "markdown",
      "metadata": {
        "id": "tp7oNsXJk5zn",
        "colab_type": "text"
      },
      "source": [
        "#TASK 35   -    Lambda & Functions\n",
        "\n",
        "\n",
        "##학습 내용\n",
        "* 앞 과에서 lambda function 에 대한 기본을 배웠습니다. 여기서는 이미 알려진 람다 관련 function 들을 간단히 배워보겠습니다. \n",
        "\n",
        "\n",
        "\n",
        "##설명\n",
        "\n",
        "(1) \tmap() function \n",
        "* map() function 과 함께 사용하면 람다 함수 사용의 장점을 명확하게 볼 수 있습니다.\n",
        "* map() function 은 두 개의 argument 를 필요로 합니다.\n",
        "* 예를 들어 0 부터 4 까지의 세제곱을 새로운 리스트로 만들고 싶다면 아래와 같이 한 줄로 쉽게 만들 수 있습니다. 결과는 [0,1,8,27,64] 로 표현됩니다.\n",
        "\n",
        "        list(map(lambda x: x ** 3, range(5)))\n",
        "\n",
        "\n",
        "(2) filter() function. \n",
        "* filter()는 원래 list에서 \"True\" 값으로 나온 아이템으로 새 list 를 작성합니다. \n",
        "* 아래의 예를 보면 추가 줄을 입력하지 않고 새로운 list[4] 를 얻을 수 있습니다. \n",
        "\n",
        "        list(filter(lambda x: 3<x < 5, range(6)))\n",
        "\n",
        "(3)\treduce() function\n",
        "* reduce() function 은 반복되는 프로세스를 줄입니다.\n",
        "* 예를 들어 1 부터 10 까지를 차례로 더하라고 하면 본래 loop 를 돌려 반복해야 하나 reduce 에서는 1,2,3,4,5,6,7,8, 9,10을 다 더하지 않고 1 에다 2 를 더하면 (쉽게 말해서 하나의 시범을 보이면) 나머지를 계속합니다.\n",
        "\n",
        "        print reduce(lambda x,y: x+y, [1,2,3,4,5,6,7,8,9,10])\n",
        "\n",
        "\n",
        "\n",
        "\n",
        "\n",
        "## 연습\n",
        "\n",
        "연습 1\n",
        "* map() function 을 사용하여 5 부터 9 까지의 정수의 제곱을 만드세요.\n",
        "\n",
        "연습 2\n",
        "* filter() function을  사용하여 0 부터 10 까지의 숫자 중 3 보다 작은 숫자의 리스트를 만드세요.\n",
        "\n",
        "연습 3\n",
        "* reduce() function 을 사용하여 3 부터 5 까지를 곱해 보세요   *reduce는 파이썬 3에서는 기본이 아니라 에러 발생 가능.\n",
        "\n",
        "       print (reduce(lambda x,y: x*y, [3,4,5]))\n",
        "\n",
        "\n",
        "##코딩 부분"
      ]
    },
    {
      "cell_type": "code",
      "metadata": {
        "id": "Hn_ilvuJk-GT",
        "colab_type": "code",
        "outputId": "5677b058-8292-4cd6-f0cb-5fc58f8dfa68",
        "colab": {
          "base_uri": "https://localhost:8080/",
          "height": 54
        }
      },
      "source": [
        "print (list(map(lambda x: x ** 2, [5,6,7,8,9])))\n",
        "print (list(filter(lambda x: x < 3, range(11))))\n"
      ],
      "execution_count": 234,
      "outputs": [
        {
          "output_type": "stream",
          "text": [
            "[25, 36, 49, 64, 81]\n",
            "[0, 1, 2]\n"
          ],
          "name": "stdout"
        }
      ]
    },
    {
      "cell_type": "markdown",
      "metadata": {
        "id": "WI0pb6jAmW3Z",
        "colab_type": "text"
      },
      "source": [
        "####Video\n",
        "[video](https://youtu.be/QldP7sBdz10)\n",
        "\n",
        "참조   https://joshua-mobile-choi-1756.trinket.io/python-3-4#/tasks/task-35-lambda-and-functions\n",
        "\n",
        "##결과 콘솔\n",
        "\n",
        "        [25, 36, 49, 64, 81]\n",
        "        [0, 1, 2]\n",
        "        60"
      ]
    },
    {
      "cell_type": "markdown",
      "metadata": {
        "id": "3IcvFNKIm6Cr",
        "colab_type": "text"
      },
      "source": [
        "##추가 연습 \n",
        "\n",
        "* y = x ** 3 에 x 를 1 부터 5 사이 정수 모두를 대입하여 구해 보세요.\n",
        "* mylist =  [1, 2, 3] 에서 \n",
        "\n",
        "\ty = X ** 3 으로 새로운 리스트를 만들어 보세요.\n",
        "\t\n",
        "* mylist =  [1, 2, 3]에서 \n",
        "\n",
        "\t2를 초과하는 숫자만 반환하게 filter 를 사용해 보세요.\n",
        "\t\n",
        "* mylist =  [-2, -1, 1, 2] 에서 \n",
        "\n",
        "\t양수만 반환하게 filter 를 사용해 보세요. \n"
      ]
    },
    {
      "cell_type": "code",
      "metadata": {
        "id": "0_gd4UPpm-wb",
        "colab_type": "code",
        "outputId": "493778b2-56dd-4d3c-f7a3-e282c097216a",
        "colab": {
          "base_uri": "https://localhost:8080/",
          "height": 90
        }
      },
      "source": [
        "y = list(map(lambda x: x**3, (range(1,6))))\n",
        "print (y)\n",
        "\n",
        "mylist =  [1, 2, 3]\n",
        "print (map(lambda x: x**3, mylist))\n",
        "\n",
        "mylist =  [1, 2, 3]\n",
        "print (list(filter(lambda x: x > 2, mylist)))\n",
        "\n",
        "mylist =  [-2, -1, 1, 2]\n",
        "print (list(filter(lambda x: x > 0, mylist)))\n"
      ],
      "execution_count": 235,
      "outputs": [
        {
          "output_type": "stream",
          "text": [
            "[1, 8, 27, 64, 125]\n",
            "<map object at 0x7f5049a44978>\n",
            "[3]\n",
            "[1, 2]\n"
          ],
          "name": "stdout"
        }
      ]
    },
    {
      "cell_type": "markdown",
      "metadata": {
        "id": "ik8vDaJZnUwA",
        "colab_type": "text"
      },
      "source": [
        "\n",
        "##결과 콘솔\n",
        "\n",
        "        [1, 8, 27, 64, 125]\n",
        "        [1, 8, 27]\n",
        "        [3]\n",
        "        [1,2]\n"
      ]
    },
    {
      "cell_type": "markdown",
      "metadata": {
        "id": "-G02Anj9ncnj",
        "colab_type": "text"
      },
      "source": [
        "####Extra Practice\n",
        "\n",
        "(1) reduce function은 과정을 줄여주는 함수입니다.\n",
        "\n",
        "* reduce() function은 반복되는 프로세스를 줄입니다.\n",
        "* 예를 들어 1부터 10가지를 차례로 더하라고 하면 본래 loop를 돌려 반복해야 하나 reduce에서는 1,2,3,4,5,6,7,8, 9,10을 다 더하지 않고 1에다 2를 더하면 (쉽게 말해서 하나의 시범을 보이면) 나머지를 계속합니다. \n",
        "\n",
        "        print reduce(lambda x,y: x+y, [1,2,3,4,5,6,7,8,9,10])\n",
        "        # 결과는 55\n",
        "\n",
        "\n",
        "reduce() function을 사용하여 1부터 10까지를 더해 보세요 \n",
        "\n",
        "(참고로 python 3점대 부터는 reduce가 내장함수에서 제외됨)\n",
        "\n",
        "    # 생략 print (reduce(lambda x,y: x+y, range(1,11)))\n",
        "\n",
        "(2) reduce() function을 사용하여 5부터 9까지를 곱해 보세요\n",
        "\n",
        "    #생략 print (reduce(lambda x,y: x*y, range(5,10)))\n",
        "    "
      ]
    },
    {
      "cell_type": "markdown",
      "metadata": {
        "id": "C0wIS4FmoI5j",
        "colab_type": "text"
      },
      "source": [
        "#TASK 36   -    List Comprehension\n",
        "\n",
        "\n",
        "##학습 내용\n",
        "* List comprehension 또는 LC는 리스트를 쉽게 생성하게 해줍니다.\n",
        "기존 list 또는 반복 가능한 객체에서 새 list 를 만들 때 유용합니다. \n",
        "\n",
        "##문법\n",
        "* LC는 다음과 같이 표현 됩니다. \n",
        "\n",
        "\t\tnewlist = [공식 for 요소 in 입력Sequence]\n",
        " \n",
        "\n",
        "##설명\n",
        "\n",
        "* 숫자 list 에서 어떤 조건을 사용하여 새 목록을 만들 수 있습니다.\n",
        "* 다음과 같이 (5 까지 숫자에서 2 를 곱하여) 10 까지 숫자에서 짝수를 만들 수 있습니다. \n",
        "\n",
        "    \teven_ten = [x * 2 for x in range(6)]\n",
        "    \tprint (even_ten)\n",
        "\n",
        "\n",
        "\n",
        "* 답은 [0, 2, 4, 6, 8, 10] 로 나옵니다.\n",
        "* 마찬가지로 홀수도 만들 수 있습니다.\n",
        "\n",
        "    \todd_ten = [x*2+1 for x in range(5)]\n",
        "    \tprint (odd_ten)\n",
        "\n",
        "\n",
        "\n",
        "\n",
        "* 답은 [1, 3, 5, 7, 9] 로 나옵니다.\n",
        "\n",
        "\n",
        "## 연습\n",
        "\n",
        "\n",
        "* 아래 a,b 를 합하여 새로운 리스트를 만들어 봅니다.\n",
        "\n",
        "\tset “a” 에 “BMW” “FORD” “CHEVY” 를 넣고 \n",
        "\n",
        "\tset “b” 에 “2019” “2020”을 넣어 봅니다.\n",
        "\n",
        "\n",
        "\n",
        "##코딩 부분\n"
      ]
    },
    {
      "cell_type": "code",
      "metadata": {
        "id": "dgDlzy1coMwm",
        "colab_type": "code",
        "outputId": "fd831763-bb92-4d4a-8340-5f47ed21ee7b",
        "colab": {
          "base_uri": "https://localhost:8080/",
          "height": 35
        }
      },
      "source": [
        "a = ['BMW' ,'FORD', 'CHEVY']\n",
        "b = [2019,2020]\n",
        "\n",
        "comb_car = [(c, y) for c in a for y in b]\n",
        "\n",
        "print (comb_car)"
      ],
      "execution_count": 236,
      "outputs": [
        {
          "output_type": "stream",
          "text": [
            "[('BMW', 2019), ('BMW', 2020), ('FORD', 2019), ('FORD', 2020), ('CHEVY', 2019), ('CHEVY', 2020)]\n"
          ],
          "name": "stdout"
        }
      ]
    },
    {
      "cell_type": "markdown",
      "metadata": {
        "id": "h1mGLFzDq5Mi",
        "colab_type": "text"
      },
      "source": [
        "####Video\n",
        "[video](https://youtu.be/b2zXRf_4RU8)"
      ]
    },
    {
      "cell_type": "markdown",
      "metadata": {
        "id": "3ICBXX8Sq-h8",
        "colab_type": "text"
      },
      "source": [
        "##추가 연습 1\n",
        "\n",
        "* mylist = [1,2,3,\"a\",\"b\",4.0,5.0,True, False] 에서 newlist1 을 만들어 봅니다. newlist1 는 mylist 에서 integer 만 뽑아서 만듭니다. 이를 위해서 type() 이라는 메소드를 배워 봅니다.\n",
        "* 이는 데이터 타입이 이는 데이터 타입이 무엇인지를 파악하는 메소드 입니다. 같은 리스트에서 float 만 뽑아서 newlist2 를 만들어 봅니다.\n"
      ]
    },
    {
      "cell_type": "code",
      "metadata": {
        "id": "JDLkHmOkrErA",
        "colab_type": "code",
        "outputId": "026cd0c7-9c3c-475e-c437-6cea2d170694",
        "colab": {
          "base_uri": "https://localhost:8080/",
          "height": 54
        }
      },
      "source": [
        "mylist = [1,2,3,\"a\",\"b\",4.0,5.0,True, False]\n",
        "newlist1 = [i for i in mylist if type(i)==int]\n",
        "print (newlist1)\n",
        "\n",
        "mylist = [1,2,3,\"a\",\"b\",4.0,5.0,True, False]\n",
        "newlist2 = [i for i in mylist if type(i)==float]\n",
        "print (newlist2)"
      ],
      "execution_count": 237,
      "outputs": [
        {
          "output_type": "stream",
          "text": [
            "[1, 2, 3]\n",
            "[4.0, 5.0]\n"
          ],
          "name": "stdout"
        }
      ]
    },
    {
      "cell_type": "markdown",
      "metadata": {
        "id": "H_E6wCoFrf-_",
        "colab_type": "text"
      },
      "source": [
        "##추가 연습 2\n",
        "\n",
        "* 같은 리스트에서 string 만 뽑아서 newlist3 를 만들어 봅니다.\n",
        "* 같은 리스트에서 Boolean 만 뽑아서 newlist4 를 만들어 봅니다.\n"
      ]
    },
    {
      "cell_type": "code",
      "metadata": {
        "id": "MMt9ccvqrl7s",
        "colab_type": "code",
        "outputId": "375968df-3bae-4157-e87d-bce1b936d6d1",
        "colab": {
          "base_uri": "https://localhost:8080/",
          "height": 54
        }
      },
      "source": [
        "mylist = [1,2,3,\"a\",\"b\",4.0,5.0,True, False]\n",
        "newlist3 = [i for i in mylist if type(i)==str]\n",
        "print (newlist3)\n",
        "\n",
        "mylist = [1,2,3,\"a\",\"b\",4.0,5.0,True, False]\n",
        "newlist4 = [i for i in mylist if type(i)==bool]\n",
        "print (newlist4)"
      ],
      "execution_count": 238,
      "outputs": [
        {
          "output_type": "stream",
          "text": [
            "['a', 'b']\n",
            "[True, False]\n"
          ],
          "name": "stdout"
        }
      ]
    },
    {
      "cell_type": "markdown",
      "metadata": {
        "id": "Jd2X23Vvr-U9",
        "colab_type": "text"
      },
      "source": [
        "\n",
        "#TASK 37   -    Set Comprehension\n",
        "\n",
        "\n",
        "##학습 내용\n",
        "* Set comprehension 또는 SC는 set 을 쉽게 합하는 방식입니다. Set 이라는 점을 제외하면 LC 와 같습니다.\n",
        "\n",
        "##문법 \n",
        "* 다음과 같은 문법 형식을 가집니다.\n",
        "\n",
        "        newset  = {공식 for 요소 in Sequence}\n",
        "\n",
        "\n",
        "##설명\n",
        "* set 이라는 점만 바꾸고 앞에 과에서 한 것과 동일한 방법으로 해봅니다.\n",
        "다음과 같이 (5 까지 숫자에서 2 를 곱하여) 10 까지 숫자에서 짝수를 만들 수 있습니다. \n",
        "\n",
        "\n",
        "\n",
        "    \teven_ten = {x * 2 for x in range(6)}\n",
        "    \tprint (even_ten)\n",
        "\n",
        "\n",
        "\n",
        "* 답은 {0, 2, 4, 6, 8, 10} 로 나옵니다.\n",
        "\n",
        "\n",
        "## 연습\n",
        "\n",
        "\n",
        "* 'list' 는 중복 값을 가질 수 있지만 'set' 은 가질 수 없습니다.\n",
        "* 아래 a,b 를 합하여 중복 이름이 나오는 결과가 나오는지 확인합니다.\n",
        "* set 'a' 에 'BMW'  'FORD'  'CHEVY'  'FORD' 를 넣고 set 'b' 에 2019, 2020을 넣어 봅니다.\n",
        "\n",
        "\n",
        "\n",
        "##코딩 부분"
      ]
    },
    {
      "cell_type": "code",
      "metadata": {
        "id": "jw_YS-nFr_w9",
        "colab_type": "code",
        "outputId": "330d0b16-f458-48b7-f64c-2423ffe6ad37",
        "colab": {
          "base_uri": "https://localhost:8080/",
          "height": 35
        }
      },
      "source": [
        "a = {'BMW' ,'FORD', 'CHEVY', 'FORD'}\n",
        "\n",
        "# 여기서 print (a)를 해도 반복되는 아이템을 빼고 실제로 {'BMW', 'FORD', 'CHEVY'} 만 나옵니다\n",
        "b = {2019, 2020}\n",
        "comb_car = {(c, y) for c in a for y in b}\n",
        "\n",
        "print (comb_car)"
      ],
      "execution_count": 239,
      "outputs": [
        {
          "output_type": "stream",
          "text": [
            "{('FORD', 2020), ('CHEVY', 2019), ('BMW', 2019), ('CHEVY', 2020), ('BMW', 2020), ('FORD', 2019)}\n"
          ],
          "name": "stdout"
        }
      ]
    },
    {
      "cell_type": "markdown",
      "metadata": {
        "id": "TtB2IdHTsGKW",
        "colab_type": "text"
      },
      "source": [
        "####Video\n",
        "[video](https://youtu.be/QlxgbVzXwzc)"
      ]
    },
    {
      "cell_type": "markdown",
      "metadata": {
        "id": "A5buWMvAsKj2",
        "colab_type": "text"
      },
      "source": [
        "##추가 연습 1\n",
        "\n",
        "* myset = {1,2,3,\"a\",\"b\",4.0,5.0,True, False} 에서 newset1 을 뽑아 봅니다.\n",
        "* newset1는 myset 에서 integer 만 뽑아서 만들어 봅니다.\n",
        "* 같은 리스트에서 float 만 뽑아서 newset2 를 만들어 봅니다."
      ]
    },
    {
      "cell_type": "code",
      "metadata": {
        "id": "WvEKLthmsPje",
        "colab_type": "code",
        "outputId": "c16d7259-0a80-48be-c3b1-b24baa64411f",
        "colab": {
          "base_uri": "https://localhost:8080/",
          "height": 54
        }
      },
      "source": [
        "myset = {1,2,3,\"a\",\"b\",4.0,5.0,True, False}\n",
        "newset2 = {i for i in myset if type(i)==int}\n",
        "print (newset2)\n",
        "\n",
        "myset = {1,2,3,\"a\",\"b\",4.0,5.0,True, False}\n",
        "newset1 = {i for i in myset if type(i)==float}\n",
        "print (newset1)"
      ],
      "execution_count": 241,
      "outputs": [
        {
          "output_type": "stream",
          "text": [
            "{1, 2, 3}\n",
            "{4.0, 5.0}\n"
          ],
          "name": "stdout"
        }
      ]
    },
    {
      "cell_type": "markdown",
      "metadata": {
        "id": "2ACo11RSsMwf",
        "colab_type": "text"
      },
      "source": [
        "##추가 연습 2\n",
        "\n",
        "* 같은 set 에서 string 만 뽑아서 newset3 를 만들어 봅니다.\n",
        "* 같은 set 에서 Boolean 만 뽑아서 newset4 를 만들어 봅니다.\n",
        "* list “a” 에 “BMW”  “FORD”  “CHEVY”  “FORD” 를 넣고 list “b” 에 “Red”  “White”를 넣어봅니다. 이 합한 것을 list 가 아니라 set 으로 저장합니다.\n"
      ]
    },
    {
      "cell_type": "code",
      "metadata": {
        "id": "O-fqmvAJso40",
        "colab_type": "code",
        "outputId": "cd4743bc-2fcd-4362-feb6-04a4d466ba0e",
        "colab": {
          "base_uri": "https://localhost:8080/",
          "height": 72
        }
      },
      "source": [
        "myset = {1,2,3,\"a\",\"b\",4.0,5.0,True, False}\n",
        "newset3 = {i for i in myset if type(i)==str}\n",
        "print (newset3)\n",
        "\n",
        "myset = {1,2,3,\"a\",\"b\",4.0,5.0,True, False}\n",
        "newset4 = {i for i in myset if type(i)==bool}\n",
        "print (newset4)\n",
        "\n",
        "a = ['BMW' ,'FORD', 'CHEVY']\n",
        "b = ['Red','White']\n",
        "comb_car = {(c, d) for c in a for d in b}\n",
        "print (comb_car)\n"
      ],
      "execution_count": 242,
      "outputs": [
        {
          "output_type": "stream",
          "text": [
            "{'a', 'b'}\n",
            "{False}\n",
            "{('BMW', 'White'), ('CHEVY', 'White'), ('FORD', 'Red'), ('FORD', 'White'), ('CHEVY', 'Red'), ('BMW', 'Red')}\n"
          ],
          "name": "stdout"
        }
      ]
    },
    {
      "cell_type": "markdown",
      "metadata": {
        "id": "ZNYmaJGqs0fJ",
        "colab_type": "text"
      },
      "source": [
        "#TASK 38  -   Dictionary Comprehension\n",
        "\n",
        "\n",
        "##학습 내용\n",
        "* Dictionary Comprehension, 또는 DC 는 인풋 시퀀스에 따라 새로운 \n",
        "dictionary 를 만들게 합니다. \n",
        "\n",
        "\n",
        "##문법\n",
        "* 다음과 같은 문법 형식을 가집니다.\n",
        "\n",
        "         newdict  = [key: value for key, value in input sequence]\n",
        "\n",
        "\n",
        " \n",
        "##설명\n",
        "* 출력식이 키/값 쌍이며 결과과 사전으로 표현된다는 점을 제외하면 Set Comprehension 과 매우 유사합니다.\n",
        "* 여기서는 추가로 zip 함수에 대해 간단히 배우겠습니다.\n",
        "* zip 함수는 둘 이상의 list 또는 string 을 사용하며 항목 수가 동일한 경우 결합시키는 것이 가능합니다.\n",
        "\n",
        "        new_dict = {key: value for key, value in zip(dict1, dict2)}\n",
        "\n",
        "\n",
        "## 연습\n",
        "\n",
        "* 두 개의 list 를 결합시키는데 하나의 요소는 key 다른 리스트의 요소는 value 로 만들어 봅니다. \n",
        "\n",
        "        cars = ['BMW', 'FORD', 'CHEVY', 'KIA']\n",
        "    \tyears = [2019, 2020, 2018, 2019]\n",
        "    \t# 아래에서는 input sequence 를 zip 함수로 만들어서 사용해 \n",
        "    \t봅니다.\n",
        "    \tyear_dict = {key: value for key, value in zip(cars, years)}\n",
        "\n",
        "\n",
        "##주의\n",
        "* zip 함수는 두 딕쇼너리의 항목 수가 동일한 경우에만 결합시키는 것이 가능합니다.\n",
        "\n",
        "\n",
        "\n",
        "##코딩 부분"
      ]
    },
    {
      "cell_type": "code",
      "metadata": {
        "id": "0VQ81XZ9s4nw",
        "colab_type": "code",
        "outputId": "9eef470e-9636-4fc7-8b1f-970e20bbb0e1",
        "colab": {
          "base_uri": "https://localhost:8080/",
          "height": 35
        }
      },
      "source": [
        "cars = ['BMW', 'FORD', 'CHEVY', 'KIA']\n",
        "years = [2019, 2020, 2018, 2019]\n",
        "\n",
        "year_dict = {key: value for key, value in zip(cars, years)}\n",
        "\n",
        "print (year_dict)\n"
      ],
      "execution_count": 243,
      "outputs": [
        {
          "output_type": "stream",
          "text": [
            "{'BMW': 2019, 'FORD': 2020, 'CHEVY': 2018, 'KIA': 2019}\n"
          ],
          "name": "stdout"
        }
      ]
    },
    {
      "cell_type": "markdown",
      "metadata": {
        "id": "sQlBC1FxtFk7",
        "colab_type": "text"
      },
      "source": [
        "####Video\n",
        "[video](https://youtu.be/sZxqhSyo2TY)"
      ]
    },
    {
      "cell_type": "markdown",
      "metadata": {
        "id": "N95tqSYGtNVN",
        "colab_type": "text"
      },
      "source": [
        "##추가 연습 \n",
        "\n",
        "* 농구선수와 포지션을 합한 딕쇼너리를 만들어 봅니다.\n",
        "* players 리스트는 ['Curry', 'Harden', 'James', 'Davis', 'Jokic']이고\n",
        "* 이들을 position 별로 연결해 봅니다. (포인트가드(PG), 슈팅가드(SG), 스몰포워드(SF), 파워포워드(PF), 센터(C))\n",
        "* 포지션 리스트는 positions = ['PG', 'SG', 'SF', 'PF', 'C'] 입니다.\n",
        "\n",
        "\n",
        "    \tplayers = ['Curry', 'Harden', 'James', 'Davis', 'Jokic']\n",
        "    \tpositions =   ['PG', 'SG', 'SF', 'PF', 'C'] \n",
        "    \tmydict1 = {key: value for key, value in zip(players,positions)}\n",
        "    \tprint (mydict1)\n",
        "\n",
        "* 야구 투수들의 승패와 방어율을 나타내 봅니다..\n",
        "* pitchers 리스트는 ['Kim', 'Lee', 'Park', 'Choi'] 이고 \n",
        "* kim은 13승 3패 1.99 lee는 15승 4패 2.05 park 16승 8패 2.65 choi 18승 11패 2.45의 기록을 가지고 있습니다.\n",
        "* 이를 하나의 dictionary 로 나타내 봅니다.\n",
        "\n"
      ]
    },
    {
      "cell_type": "code",
      "metadata": {
        "id": "s2fneWaCtR-Q",
        "colab_type": "code",
        "outputId": "891dfdd3-22fb-4795-c0cb-82eb1487abf0",
        "colab": {
          "base_uri": "https://localhost:8080/",
          "height": 54
        }
      },
      "source": [
        "players = ['Curry', 'Harden', 'James', 'Davis', 'Jokic']\n",
        "positions =   ['PG', 'SG', 'SF', 'PF', 'C'] \n",
        "\n",
        "mydict1 = {key: value for key, value in zip(players,positions)}\n",
        "print (mydict1)\n",
        "\n",
        "pitchers = ['Kim', 'Lee', 'Park', 'Choi']\n",
        "kim = [13,3,1.99]\n",
        "lee = [15,4,2.05]\n",
        "park = [16,8,2.65]\n",
        "choi = [18,11,2.45]\n",
        "\n",
        "mydict2 = {key: value for key, value in zip(pitchers, [kim,lee,park,choi])}\n",
        "print (mydict2)"
      ],
      "execution_count": 244,
      "outputs": [
        {
          "output_type": "stream",
          "text": [
            "{'Curry': 'PG', 'Harden': 'SG', 'James': 'SF', 'Davis': 'PF', 'Jokic': 'C'}\n",
            "{'Kim': [13, 3, 1.99], 'Lee': [15, 4, 2.05], 'Park': [16, 8, 2.65], 'Choi': [18, 11, 2.45]}\n"
          ],
          "name": "stdout"
        }
      ]
    },
    {
      "cell_type": "markdown",
      "metadata": {
        "id": "5LOH2zIutgGx",
        "colab_type": "text"
      },
      "source": [
        "####Extra Practice\n",
        "\n",
        "(1) 학생들의 국어, 영어, 수학 점수를 넣어봅니다.\n",
        "\n",
        "\t\tstudents = ['Kim', 'Lee', 'Park', 'Choi']\n",
        "\t\tkim = ['국어 92', '영어 78', '수학 88']\n",
        "\t\tlee = ['국어 89', '영어 88', '수학 72']\n",
        "\t\tpark = ['국어 72', '영어 98', '수학 78']\n",
        "\t\tchoi = ['국어 82', '영어 87', '수학 91']"
      ]
    },
    {
      "cell_type": "code",
      "metadata": {
        "id": "1TpFZzfZtfSD",
        "colab_type": "code",
        "outputId": "3d35e2d6-4d23-4b9b-972c-5b4d1cc13962",
        "colab": {
          "base_uri": "https://localhost:8080/",
          "height": 35
        }
      },
      "source": [
        "students = ['Kim', 'Lee', 'Park', 'Choi']\n",
        "kim = ['국어 92', '영어 78', '수학 88']\n",
        "lee = ['국어 89', '영어 88', '수학 72']\n",
        "park = ['국어 72', '영어 98', '수학 78']\n",
        "choi = ['국어 82', '영어 87', '수학 91']\n",
        "mydict3 = {key: value for key, value in zip(students, [kim,lee,park,choi])}\n",
        "print (mydict3)"
      ],
      "execution_count": 245,
      "outputs": [
        {
          "output_type": "stream",
          "text": [
            "{'Kim': ['국어 92', '영어 78', '수학 88'], 'Lee': ['국어 89', '영어 88', '수학 72'], 'Park': ['국어 72', '영어 98', '수학 78'], 'Choi': ['국어 82', '영어 87', '수학 91']}\n"
          ],
          "name": "stdout"
        }
      ]
    },
    {
      "cell_type": "markdown",
      "metadata": {
        "id": "aeT39PDjtwac",
        "colab_type": "text"
      },
      "source": [
        "#TASK 39   -  Generator Expression\n",
        "\n",
        "\n",
        "##학습 내용\n",
        "* Generator expression 은 특별한 종류의 comprehension 입니다. 이는 한 번에 하나의 값만 반환하는 generator 입니다. \n",
        "\n",
        "##문법\n",
        "* 답을 전부 안 주고 하나씩만 준다면 그 것이 왜 필요할까요?\n",
        "* 우리가 list comprehension 에 익숙해질 무렵이면 우리가 모든 답을 한꺼번에 필요하지 않은 경우도 있다는 것을 알게 될 것입니다. 또 모든 답을 미리 구한다는 것은 (우리가 현재 배우는 수준에서는 리스트가 아주 짧지만)  과도하게 메모리를 할당한다는 것을 의미하기도 합니다.\n",
        "* 예를 들어 다음과 같이 합을 구하는 코드는 메모리에 제곱의 답 전체를 요구합니다. 예) sum([x*x for x in range(10)])\n",
        "* 하지만 generator expression 인 아래의 예는 더 작은 메모리를 요구하게 됩니다.  (여기서는 범위가 10이지만 엄청나게 큰 수가 될 수도 있겠지요.) 예) sum(x*x for x in range(10)) 차이점은 list 또는 set 같은 컬렉션의 반복에는 이미 모든 값이 있지만 generator 는 하나의 데이터만 생성해서 그렇습니다. \n",
        "\n",
        "\n",
        " \n",
        "##설명\n",
        "* 우리는 몇 줄만 만들었으므로 우리 수준에는 별로 중요하지는 않지만 수천 줄의 코드가 있으면 완전히 다른 이야기입니다. 과다 메모리 사용은 프로그램 속도를 늦출 수 있는 요소입니다. 무제한 데이터를 가진 경우나 데이터가 큰 상태에서 프로그램을 부분적으로 처리해도 될 경우 generator 를 사용 할 수 있습니다. \n",
        "\n",
        "\n",
        "## 연습\n",
        "\n",
        "\n",
        "* 아래 연습에서 코드를 실행해 보시면 print 를 하면 하나씩 답이 나와서 다음을 요구할 때 다시 프린트를 요청해야 합니다.\n",
        "\n",
        "    \tgen = (x**3 for x in range(6))\n",
        "\n",
        "\n",
        "##주의\n",
        "* range 를 넘어서면 에러가 발생합니다.\n",
        "\n",
        "\n",
        "\n",
        "##코딩 부분"
      ]
    },
    {
      "cell_type": "code",
      "metadata": {
        "id": "_f6yOxDBt1rs",
        "colab_type": "code",
        "outputId": "e3d4ecc2-7ec6-49e8-e9be-5b3f099e7cf0",
        "colab": {
          "base_uri": "https://localhost:8080/",
          "height": 72
        }
      },
      "source": [
        "gen = (x**3 for x in range(6))\n",
        "\n",
        "# 아래에서는 처음 답 하나만 나오고 전체 레인지의 답이 나오지 않습니다.\n",
        "print (next(gen)) \n",
        "# 한 줄을 더 입력하면 다음 것이 나옵니다.\n",
        "print (next(gen)) \n",
        "# 역시 한 줄을 더 입력하면 다음 것이 나옵니다.\n",
        "print (next(gen)) "
      ],
      "execution_count": 246,
      "outputs": [
        {
          "output_type": "stream",
          "text": [
            "0\n",
            "1\n",
            "8\n"
          ],
          "name": "stdout"
        }
      ]
    },
    {
      "cell_type": "markdown",
      "metadata": {
        "id": "3HqKK-Wet6ZD",
        "colab_type": "text"
      },
      "source": [
        "####Video\n",
        "[video](https://youtu.be/W8yyP2KHsWU)"
      ]
    },
    {
      "cell_type": "markdown",
      "metadata": {
        "id": "8Y723onVuA34",
        "colab_type": "text"
      },
      "source": [
        "##추가 연습 \n",
        "\n",
        "* 앞에 연습이 계속 하나씩 너무 단순히 작업이 되었다면 이를 좀 더 간단히 해보겠습니다.  \n",
        "    \n",
        "    \tgen = (x**3 for n in range(6))\n",
        "    \n",
        "    \t# 5개 출력\n",
        "    \tfor i in range(5) :\n",
        "        \t\ta = next(gen)\n",
        "        \t\tprint (a)\n",
        "    \n",
        "    \t# 하나 더 출력\n",
        "    \tfor a in gen :\n",
        "        \t\tprint(a)\n"
      ]
    },
    {
      "cell_type": "code",
      "metadata": {
        "id": "5zzNwSWNuDvR",
        "colab_type": "code",
        "outputId": "f38ce09c-0f4c-4995-853c-3fbf6f0d0471",
        "colab": {
          "base_uri": "https://localhost:8080/",
          "height": 126
        }
      },
      "source": [
        "gen = (x**3 for x in range(6))\n",
        "\n",
        "# 5개 출력\n",
        "for i in range(5) :\n",
        "    \ta = next(gen)\n",
        "    \tprint (a)\n",
        "\n",
        "# 하나 더 출력\n",
        "for a in gen :\n",
        "\tprint (a)"
      ],
      "execution_count": 189,
      "outputs": [
        {
          "output_type": "stream",
          "text": [
            "0\n",
            "1\n",
            "8\n",
            "27\n",
            "64\n",
            "125\n"
          ],
          "name": "stdout"
        }
      ]
    },
    {
      "cell_type": "markdown",
      "metadata": {
        "id": "GTo8_9w-uKM6",
        "colab_type": "text"
      },
      "source": [
        "####Extra Practice\n",
        "\n",
        "(1) 비슷한 연습을 해보겠습니다.\n",
        "* 0 부터 9 까지 제곱을 만들어서 하나씩 꺼내 보겠습니다.\n",
        "        \n",
        "        gen  = (x**2 for x in range(10))\n",
        "        \n",
        "        print (gen)\n",
        "        \n",
        "        # 이어서 값이 계속 나오다가 에러가 나올 때까지 프린트를 계속 해봅니다.\n"
      ]
    },
    {
      "cell_type": "code",
      "metadata": {
        "id": "US1V4GH8uMGL",
        "colab_type": "code",
        "outputId": "2f895cbc-97bb-458c-f4be-eec99dea4019",
        "colab": {
          "base_uri": "https://localhost:8080/",
          "height": 199
        }
      },
      "source": [
        "gen = (x**2 for x in range(10))\n",
        "\n",
        "print (next(gen)) \n",
        "print (next(gen)) \n",
        "print (next(gen)) \n",
        "print (next(gen)) \n",
        "print (next(gen)) \n",
        "print (next(gen)) \n",
        "print (next(gen)) \n",
        "print (next(gen)) \n",
        "print (next(gen)) \n",
        "print (next(gen)) \n"
      ],
      "execution_count": 190,
      "outputs": [
        {
          "output_type": "stream",
          "text": [
            "0\n",
            "1\n",
            "4\n",
            "9\n",
            "16\n",
            "25\n",
            "36\n",
            "49\n",
            "64\n",
            "81\n"
          ],
          "name": "stdout"
        }
      ]
    },
    {
      "cell_type": "markdown",
      "metadata": {
        "id": "ikNzkF7CuSmY",
        "colab_type": "text"
      },
      "source": [
        "#TASK 40    -    기타 모듈\n",
        "\n",
        "\n",
        "##학습 내용\n",
        "* 마지막과에서는 여러분이 데이터사이언티스트가 되고 싶다면 이 다음에 배워야 할 모듈을 잠시 맛 봅니다.\n",
        "\n",
        "\n",
        "\n",
        "##설명\n",
        "* NumPy - NumPy는 행렬이나 일반적으로 대규모 다차원 배열을 쉽게 처리 할 수 있도록 지원하는 파이썬의 라이브러리입니다. NumPy는 데이터 구조 외에도 수치 계산을 위해 효율적으로 구현된 기능을 제공합니다.\n",
        "* Matplolib - Matplotlib은 파이썬에서 그래프 표시를 가능케 하는 라이브러리다. 여기서는 matplotlib의 pyplot을 볼러와 사용해 봅니다.\n",
        "* Pandas - pandas는 데이터 조작 및 분석을 위해 Python 프로그래밍 언어로 작성된 소프트웨어 라이브러리입니다. 특히, 숫자 테이블 및 시계열 조작을위한 데이터 구조 및 조작을 제공합니다. \n",
        "* Seaborn은 matplotlib과 pandas 위에서 작동하는 비쥴얼라이제이션 모듈로 matplotlib보다 좀 더 다양한 그림을 보여준다.\n",
        "\n"
      ]
    },
    {
      "cell_type": "markdown",
      "metadata": {
        "id": "-6e-5909uKen",
        "colab_type": "text"
      },
      "source": [
        "*  필요한 모듈을 import 합니다."
      ]
    },
    {
      "cell_type": "code",
      "metadata": {
        "id": "F7KkDVj7uURr",
        "colab_type": "code",
        "colab": {}
      },
      "source": [
        "import math, time, random, datetime\n",
        "import numpy as np\n",
        "import pandas as pd\n",
        "import matplotlib.pyplot as plt\n",
        "import missingno\n",
        "import seaborn as sns\n",
        "plt.style.use('seaborn-whitegrid')\n",
        "%matplotlib inline\n",
        "import warnings\n",
        "warnings.filterwarnings('ignore')"
      ],
      "execution_count": 0,
      "outputs": []
    },
    {
      "cell_type": "markdown",
      "metadata": {
        "id": "VEMvEJz0vAqa",
        "colab_type": "text"
      },
      "source": [
        "####Video\n",
        "[video](https://youtu.be/MEAg-JKGGVA)\n",
        "\n",
        "\n"
      ]
    },
    {
      "cell_type": "markdown",
      "metadata": {
        "id": "SM1oraYHukx3",
        "colab_type": "text"
      },
      "source": [
        "* 연습에 쓸 파일을 import 해옵니다."
      ]
    },
    {
      "cell_type": "code",
      "metadata": {
        "id": "KxchlLwRulQN",
        "colab_type": "code",
        "colab": {
          "resources": {
            "http://localhost:8080/nbextensions/google.colab/files.js": {
              "data": "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",
              "ok": true,
              "headers": [
                [
                  "content-type",
                  "application/javascript"
                ]
              ],
              "status": 200,
              "status_text": ""
            }
          },
          "base_uri": "https://localhost:8080/",
          "height": 78
        },
        "outputId": "7677274d-62a0-4e5b-d34b-7aeb71d6886a"
      },
      "source": [
        "from google.colab import files\n",
        "uploaded = files.upload()"
      ],
      "execution_count": 248,
      "outputs": [
        {
          "output_type": "display_data",
          "data": {
            "text/html": [
              "\n",
              "     <input type=\"file\" id=\"files-a5a96ac8-95b0-46e4-98cf-430757ecd528\" name=\"files[]\" multiple disabled />\n",
              "     <output id=\"result-a5a96ac8-95b0-46e4-98cf-430757ecd528\">\n",
              "      Upload widget is only available when the cell has been executed in the\n",
              "      current browser session. Please rerun this cell to enable.\n",
              "      </output>\n",
              "      <script src=\"/nbextensions/google.colab/files.js\"></script> "
            ],
            "text/plain": [
              "<IPython.core.display.HTML object>"
            ]
          },
          "metadata": {
            "tags": []
          }
        },
        {
          "output_type": "stream",
          "text": [
            "Saving train.csv to train (1).csv\n"
          ],
          "name": "stdout"
        }
      ]
    },
    {
      "cell_type": "markdown",
      "metadata": {
        "id": "GQ3HF-4duwkp",
        "colab_type": "text"
      },
      "source": [
        "* 이 파일을 팬다스의 데이터 프레임으로 전환 합니다. "
      ]
    },
    {
      "cell_type": "code",
      "metadata": {
        "id": "om49wxYsuxIA",
        "colab_type": "code",
        "colab": {}
      },
      "source": [
        "import io\n",
        "exam = pd.read_csv(io.BytesIO(uploaded['train.csv']))\n"
      ],
      "execution_count": 0,
      "outputs": []
    },
    {
      "cell_type": "markdown",
      "metadata": {
        "id": "6-lLYAJevAEL",
        "colab_type": "text"
      },
      "source": [
        "* 제일 위 5개 행을 봅니다."
      ]
    },
    {
      "cell_type": "code",
      "metadata": {
        "id": "Y1PdjM3BvAYe",
        "colab_type": "code",
        "colab": {
          "base_uri": "https://localhost:8080/",
          "height": 198
        },
        "outputId": "dbf6bca2-8d98-48b1-aa1a-04337bf7d027"
      },
      "source": [
        "exam.head()"
      ],
      "execution_count": 250,
      "outputs": [
        {
          "output_type": "execute_result",
          "data": {
            "text/html": [
              "<div>\n",
              "<style scoped>\n",
              "    .dataframe tbody tr th:only-of-type {\n",
              "        vertical-align: middle;\n",
              "    }\n",
              "\n",
              "    .dataframe tbody tr th {\n",
              "        vertical-align: top;\n",
              "    }\n",
              "\n",
              "    .dataframe thead th {\n",
              "        text-align: right;\n",
              "    }\n",
              "</style>\n",
              "<table border=\"1\" class=\"dataframe\">\n",
              "  <thead>\n",
              "    <tr style=\"text-align: right;\">\n",
              "      <th></th>\n",
              "      <th>PassengerId</th>\n",
              "      <th>Survived</th>\n",
              "      <th>Pclass</th>\n",
              "      <th>Name</th>\n",
              "      <th>Sex</th>\n",
              "      <th>Age</th>\n",
              "      <th>SibSp</th>\n",
              "      <th>Parch</th>\n",
              "      <th>Ticket</th>\n",
              "      <th>Fare</th>\n",
              "      <th>Cabin</th>\n",
              "      <th>Embarked</th>\n",
              "    </tr>\n",
              "  </thead>\n",
              "  <tbody>\n",
              "    <tr>\n",
              "      <th>0</th>\n",
              "      <td>1</td>\n",
              "      <td>0</td>\n",
              "      <td>3</td>\n",
              "      <td>Braund, Mr. Owen Harris</td>\n",
              "      <td>male</td>\n",
              "      <td>22.0</td>\n",
              "      <td>1</td>\n",
              "      <td>0</td>\n",
              "      <td>A/5 21171</td>\n",
              "      <td>7.2500</td>\n",
              "      <td>NaN</td>\n",
              "      <td>S</td>\n",
              "    </tr>\n",
              "    <tr>\n",
              "      <th>1</th>\n",
              "      <td>2</td>\n",
              "      <td>1</td>\n",
              "      <td>1</td>\n",
              "      <td>Cumings, Mrs. John Bradley (Florence Briggs Th...</td>\n",
              "      <td>female</td>\n",
              "      <td>38.0</td>\n",
              "      <td>1</td>\n",
              "      <td>0</td>\n",
              "      <td>PC 17599</td>\n",
              "      <td>71.2833</td>\n",
              "      <td>C85</td>\n",
              "      <td>C</td>\n",
              "    </tr>\n",
              "    <tr>\n",
              "      <th>2</th>\n",
              "      <td>3</td>\n",
              "      <td>1</td>\n",
              "      <td>3</td>\n",
              "      <td>Heikkinen, Miss. Laina</td>\n",
              "      <td>female</td>\n",
              "      <td>26.0</td>\n",
              "      <td>0</td>\n",
              "      <td>0</td>\n",
              "      <td>STON/O2. 3101282</td>\n",
              "      <td>7.9250</td>\n",
              "      <td>NaN</td>\n",
              "      <td>S</td>\n",
              "    </tr>\n",
              "    <tr>\n",
              "      <th>3</th>\n",
              "      <td>4</td>\n",
              "      <td>1</td>\n",
              "      <td>1</td>\n",
              "      <td>Futrelle, Mrs. Jacques Heath (Lily May Peel)</td>\n",
              "      <td>female</td>\n",
              "      <td>35.0</td>\n",
              "      <td>1</td>\n",
              "      <td>0</td>\n",
              "      <td>113803</td>\n",
              "      <td>53.1000</td>\n",
              "      <td>C123</td>\n",
              "      <td>S</td>\n",
              "    </tr>\n",
              "    <tr>\n",
              "      <th>4</th>\n",
              "      <td>5</td>\n",
              "      <td>0</td>\n",
              "      <td>3</td>\n",
              "      <td>Allen, Mr. William Henry</td>\n",
              "      <td>male</td>\n",
              "      <td>35.0</td>\n",
              "      <td>0</td>\n",
              "      <td>0</td>\n",
              "      <td>373450</td>\n",
              "      <td>8.0500</td>\n",
              "      <td>NaN</td>\n",
              "      <td>S</td>\n",
              "    </tr>\n",
              "  </tbody>\n",
              "</table>\n",
              "</div>"
            ],
            "text/plain": [
              "   PassengerId  Survived  Pclass  ...     Fare Cabin  Embarked\n",
              "0            1         0       3  ...   7.2500   NaN         S\n",
              "1            2         1       1  ...  71.2833   C85         C\n",
              "2            3         1       3  ...   7.9250   NaN         S\n",
              "3            4         1       1  ...  53.1000  C123         S\n",
              "4            5         0       3  ...   8.0500   NaN         S\n",
              "\n",
              "[5 rows x 12 columns]"
            ]
          },
          "metadata": {
            "tags": []
          },
          "execution_count": 250
        }
      ]
    },
    {
      "cell_type": "markdown",
      "metadata": {
        "id": "OQWzmzt9vAvz",
        "colab_type": "text"
      },
      "source": [
        "* 전체 길이를 봅니다."
      ]
    },
    {
      "cell_type": "code",
      "metadata": {
        "id": "nvppw_fSvBCY",
        "colab_type": "code",
        "colab": {
          "base_uri": "https://localhost:8080/",
          "height": 35
        },
        "outputId": "8b1ba4d6-4d1e-4742-c7bd-186dde299a52"
      },
      "source": [
        "len(exam)"
      ],
      "execution_count": 251,
      "outputs": [
        {
          "output_type": "execute_result",
          "data": {
            "text/plain": [
              "891"
            ]
          },
          "metadata": {
            "tags": []
          },
          "execution_count": 251
        }
      ]
    },
    {
      "cell_type": "markdown",
      "metadata": {
        "id": "7jr736V1vBUX",
        "colab_type": "text"
      },
      "source": [
        "* 표준 편차 등을 봅니다."
      ]
    },
    {
      "cell_type": "code",
      "metadata": {
        "id": "yUw7HUvLvBjr",
        "colab_type": "code",
        "colab": {
          "base_uri": "https://localhost:8080/",
          "height": 288
        },
        "outputId": "e7bda879-586a-44bb-91c0-edc1627dae0a"
      },
      "source": [
        "exam.describe()"
      ],
      "execution_count": 252,
      "outputs": [
        {
          "output_type": "execute_result",
          "data": {
            "text/html": [
              "<div>\n",
              "<style scoped>\n",
              "    .dataframe tbody tr th:only-of-type {\n",
              "        vertical-align: middle;\n",
              "    }\n",
              "\n",
              "    .dataframe tbody tr th {\n",
              "        vertical-align: top;\n",
              "    }\n",
              "\n",
              "    .dataframe thead th {\n",
              "        text-align: right;\n",
              "    }\n",
              "</style>\n",
              "<table border=\"1\" class=\"dataframe\">\n",
              "  <thead>\n",
              "    <tr style=\"text-align: right;\">\n",
              "      <th></th>\n",
              "      <th>PassengerId</th>\n",
              "      <th>Survived</th>\n",
              "      <th>Pclass</th>\n",
              "      <th>Age</th>\n",
              "      <th>SibSp</th>\n",
              "      <th>Parch</th>\n",
              "      <th>Fare</th>\n",
              "    </tr>\n",
              "  </thead>\n",
              "  <tbody>\n",
              "    <tr>\n",
              "      <th>count</th>\n",
              "      <td>891.000000</td>\n",
              "      <td>891.000000</td>\n",
              "      <td>891.000000</td>\n",
              "      <td>714.000000</td>\n",
              "      <td>891.000000</td>\n",
              "      <td>891.000000</td>\n",
              "      <td>891.000000</td>\n",
              "    </tr>\n",
              "    <tr>\n",
              "      <th>mean</th>\n",
              "      <td>446.000000</td>\n",
              "      <td>0.383838</td>\n",
              "      <td>2.308642</td>\n",
              "      <td>29.699118</td>\n",
              "      <td>0.523008</td>\n",
              "      <td>0.381594</td>\n",
              "      <td>32.204208</td>\n",
              "    </tr>\n",
              "    <tr>\n",
              "      <th>std</th>\n",
              "      <td>257.353842</td>\n",
              "      <td>0.486592</td>\n",
              "      <td>0.836071</td>\n",
              "      <td>14.526497</td>\n",
              "      <td>1.102743</td>\n",
              "      <td>0.806057</td>\n",
              "      <td>49.693429</td>\n",
              "    </tr>\n",
              "    <tr>\n",
              "      <th>min</th>\n",
              "      <td>1.000000</td>\n",
              "      <td>0.000000</td>\n",
              "      <td>1.000000</td>\n",
              "      <td>0.420000</td>\n",
              "      <td>0.000000</td>\n",
              "      <td>0.000000</td>\n",
              "      <td>0.000000</td>\n",
              "    </tr>\n",
              "    <tr>\n",
              "      <th>25%</th>\n",
              "      <td>223.500000</td>\n",
              "      <td>0.000000</td>\n",
              "      <td>2.000000</td>\n",
              "      <td>20.125000</td>\n",
              "      <td>0.000000</td>\n",
              "      <td>0.000000</td>\n",
              "      <td>7.910400</td>\n",
              "    </tr>\n",
              "    <tr>\n",
              "      <th>50%</th>\n",
              "      <td>446.000000</td>\n",
              "      <td>0.000000</td>\n",
              "      <td>3.000000</td>\n",
              "      <td>28.000000</td>\n",
              "      <td>0.000000</td>\n",
              "      <td>0.000000</td>\n",
              "      <td>14.454200</td>\n",
              "    </tr>\n",
              "    <tr>\n",
              "      <th>75%</th>\n",
              "      <td>668.500000</td>\n",
              "      <td>1.000000</td>\n",
              "      <td>3.000000</td>\n",
              "      <td>38.000000</td>\n",
              "      <td>1.000000</td>\n",
              "      <td>0.000000</td>\n",
              "      <td>31.000000</td>\n",
              "    </tr>\n",
              "    <tr>\n",
              "      <th>max</th>\n",
              "      <td>891.000000</td>\n",
              "      <td>1.000000</td>\n",
              "      <td>3.000000</td>\n",
              "      <td>80.000000</td>\n",
              "      <td>8.000000</td>\n",
              "      <td>6.000000</td>\n",
              "      <td>512.329200</td>\n",
              "    </tr>\n",
              "  </tbody>\n",
              "</table>\n",
              "</div>"
            ],
            "text/plain": [
              "       PassengerId    Survived      Pclass  ...       SibSp       Parch        Fare\n",
              "count   891.000000  891.000000  891.000000  ...  891.000000  891.000000  891.000000\n",
              "mean    446.000000    0.383838    2.308642  ...    0.523008    0.381594   32.204208\n",
              "std     257.353842    0.486592    0.836071  ...    1.102743    0.806057   49.693429\n",
              "min       1.000000    0.000000    1.000000  ...    0.000000    0.000000    0.000000\n",
              "25%     223.500000    0.000000    2.000000  ...    0.000000    0.000000    7.910400\n",
              "50%     446.000000    0.000000    3.000000  ...    0.000000    0.000000   14.454200\n",
              "75%     668.500000    1.000000    3.000000  ...    1.000000    0.000000   31.000000\n",
              "max     891.000000    1.000000    3.000000  ...    8.000000    6.000000  512.329200\n",
              "\n",
              "[8 rows x 7 columns]"
            ]
          },
          "metadata": {
            "tags": []
          },
          "execution_count": 252
        }
      ]
    },
    {
      "cell_type": "markdown",
      "metadata": {
        "id": "Jci7mbzmvBz-",
        "colab_type": "text"
      },
      "source": [
        "* 미싱노 모듈을 불러서 값이 비어 있는 항목을 비쥬얼하게 확인 "
      ]
    },
    {
      "cell_type": "code",
      "metadata": {
        "id": "G7S5qM8ivCA3",
        "colab_type": "code",
        "colab": {
          "base_uri": "https://localhost:8080/",
          "height": 410
        },
        "outputId": "f0d9f446-7787-42f5-ddab-49f4daddb464"
      },
      "source": [
        "missingno.matrix(exam, figsize = (10,5))"
      ],
      "execution_count": 254,
      "outputs": [
        {
          "output_type": "execute_result",
          "data": {
            "text/plain": [
              "<matplotlib.axes._subplots.AxesSubplot at 0x7f503bbd5240>"
            ]
          },
          "metadata": {
            "tags": []
          },
          "execution_count": 254
        },
        {
          "output_type": "display_data",
          "data": {
            "image/png": "[encoded data removed]",
            "text/plain": [
              "<Figure size 720x360 with 2 Axes>"
            ]
          },
          "metadata": {
            "tags": []
          }
        }
      ]
    },
    {
      "cell_type": "markdown",
      "metadata": {
        "id": "AKHSDQcCvCTB",
        "colab_type": "text"
      },
      "source": [
        "* 비어 있는 칸의 합계를 학인"
      ]
    },
    {
      "cell_type": "code",
      "metadata": {
        "id": "ROunMlREvCoD",
        "colab_type": "code",
        "colab": {
          "base_uri": "https://localhost:8080/",
          "height": 254
        },
        "outputId": "55340baa-d4a0-4274-c6bd-e179ce90838e"
      },
      "source": [
        "exam.isnull().sum() "
      ],
      "execution_count": 255,
      "outputs": [
        {
          "output_type": "execute_result",
          "data": {
            "text/plain": [
              "PassengerId      0\n",
              "Survived         0\n",
              "Pclass           0\n",
              "Name             0\n",
              "Sex              0\n",
              "Age            177\n",
              "SibSp            0\n",
              "Parch            0\n",
              "Ticket           0\n",
              "Fare             0\n",
              "Cabin          687\n",
              "Embarked         2\n",
              "dtype: int64"
            ]
          },
          "metadata": {
            "tags": []
          },
          "execution_count": 255
        }
      ]
    },
    {
      "cell_type": "markdown",
      "metadata": {
        "id": "wVn9sCEgvC67",
        "colab_type": "text"
      },
      "source": [
        "* 각 열의 데이터 타입을 학인"
      ]
    },
    {
      "cell_type": "code",
      "metadata": {
        "id": "ewhzIq3ovDQb",
        "colab_type": "code",
        "colab": {
          "base_uri": "https://localhost:8080/",
          "height": 254
        },
        "outputId": "91d42633-27e5-45a2-f6fc-4d9c62860e2b"
      },
      "source": [
        "exam.dtypes"
      ],
      "execution_count": 256,
      "outputs": [
        {
          "output_type": "execute_result",
          "data": {
            "text/plain": [
              "PassengerId      int64\n",
              "Survived         int64\n",
              "Pclass           int64\n",
              "Name            object\n",
              "Sex             object\n",
              "Age            float64\n",
              "SibSp            int64\n",
              "Parch            int64\n",
              "Ticket          object\n",
              "Fare           float64\n",
              "Cabin           object\n",
              "Embarked        object\n",
              "dtype: object"
            ]
          },
          "metadata": {
            "tags": []
          },
          "execution_count": 256
        }
      ]
    },
    {
      "cell_type": "markdown",
      "metadata": {
        "id": "6Wbo8dFdvDkE",
        "colab_type": "text"
      },
      "source": [
        "* 막대 그래프 경험"
      ]
    },
    {
      "cell_type": "code",
      "metadata": {
        "id": "e7Puo_NbvD30",
        "colab_type": "code",
        "colab": {
          "base_uri": "https://localhost:8080/",
          "height": 331
        },
        "outputId": "deb92ea1-eca1-454a-ffe3-d2e4a526c72b"
      },
      "source": [
        "fig = plt.figure(figsize=(15,4))\n",
        "sns.countplot(y='Survived', data=exam)\n",
        "print(exam.Survived.value_counts())"
      ],
      "execution_count": 257,
      "outputs": [
        {
          "output_type": "stream",
          "text": [
            "0    549\n",
            "1    342\n",
            "Name: Survived, dtype: int64\n"
          ],
          "name": "stdout"
        },
        {
          "output_type": "display_data",
          "data": {
            "image/png": "[encoded data removed]",
            "text/plain": [
              "<Figure size 1080x288 with 1 Axes>"
            ]
          },
          "metadata": {
            "tags": []
          }
        }
      ]
    },
    {
      "cell_type": "markdown",
      "metadata": {
        "id": "OM6hwKsSvELY",
        "colab_type": "text"
      },
      "source": [
        "* 파이 그래프와 막대 그래프를 아래 서브 그래프 두 칸으로 표현"
      ]
    },
    {
      "cell_type": "code",
      "metadata": {
        "id": "EHm92oW1vEcu",
        "colab_type": "code",
        "colab": {
          "base_uri": "https://localhost:8080/",
          "height": 400
        },
        "outputId": "012f9ba5-a80a-4247-be3d-2643a3519441"
      },
      "source": [
        "f,ax=plt.subplots(1,2,figsize=(15,6))\n",
        "exam['Survived'].value_counts().plot.pie(explode=[0,0.1],autopct='%1.1f%%',ax=ax[0],shadow=True)\n",
        "ax[0].set_title('Survived')\n",
        "ax[0].set_ylabel('')\n",
        "sns.countplot('Survived',data=exam,ax=ax[1])\n",
        "ax[1].set_title('Survived')\n",
        "plt.show()"
      ],
      "execution_count": 258,
      "outputs": [
        {
          "output_type": "display_data",
          "data": {
            "image/png": "[encoded data removed]",
            "text/plain": [
              "<Figure size 1080x432 with 2 Axes>"
            ]
          },
          "metadata": {
            "tags": []
          }
        }
      ]
    },
    {
      "cell_type": "markdown",
      "metadata": {
        "id": "_vO0w_wNvEur",
        "colab_type": "text"
      },
      "source": [
        "* 그룹으로 묶어서 데이타 합 확인"
      ]
    },
    {
      "cell_type": "code",
      "metadata": {
        "id": "TIyYTAqTvE_p",
        "colab_type": "code",
        "colab": {
          "base_uri": "https://localhost:8080/",
          "height": 163
        },
        "outputId": "73a4de24-47c2-4be6-d4eb-80caa7c82c45"
      },
      "source": [
        "exam.groupby(['Pclass','Survived'])['Survived'].count()"
      ],
      "execution_count": 259,
      "outputs": [
        {
          "output_type": "execute_result",
          "data": {
            "text/plain": [
              "Pclass  Survived\n",
              "1       0            80\n",
              "        1           136\n",
              "2       0            97\n",
              "        1            87\n",
              "3       0           372\n",
              "        1           119\n",
              "Name: Survived, dtype: int64"
            ]
          },
          "metadata": {
            "tags": []
          },
          "execution_count": 259
        }
      ]
    },
    {
      "cell_type": "markdown",
      "metadata": {
        "id": "c9sn0IJRvFWp",
        "colab_type": "text"
      },
      "source": [
        "* 크로스 탭을 사용하여 위의 내용을 좀 더 명확히 구분"
      ]
    },
    {
      "cell_type": "code",
      "metadata": {
        "id": "XlKaFW_UvFr_",
        "colab_type": "code",
        "colab": {
          "base_uri": "https://localhost:8080/",
          "height": 145
        },
        "outputId": "29d22635-49f1-4f74-8735-a2b144e4cea7"
      },
      "source": [
        "pd.crosstab(exam.Pclass,exam.Survived,margins=True).style.background_gradient(cmap='summer_r')"
      ],
      "execution_count": 260,
      "outputs": [
        {
          "output_type": "execute_result",
          "data": {
            "text/html": [
              "<style  type=\"text/css\" >\n",
              "    #T_0866075c_2162_11ea_93df_0242ac1c0002row0_col0 {\n",
              "            background-color:  #ffff66;\n",
              "            color:  #000000;\n",
              "        }    #T_0866075c_2162_11ea_93df_0242ac1c0002row0_col1 {\n",
              "            background-color:  #cee666;\n",
              "            color:  #000000;\n",
              "        }    #T_0866075c_2162_11ea_93df_0242ac1c0002row0_col2 {\n",
              "            background-color:  #f4fa66;\n",
              "            color:  #000000;\n",
              "        }    #T_0866075c_2162_11ea_93df_0242ac1c0002row1_col0 {\n",
              "            background-color:  #f6fa66;\n",
              "            color:  #000000;\n",
              "        }    #T_0866075c_2162_11ea_93df_0242ac1c0002row1_col1 {\n",
              "            background-color:  #ffff66;\n",
              "            color:  #000000;\n",
              "        }    #T_0866075c_2162_11ea_93df_0242ac1c0002row1_col2 {\n",
              "            background-color:  #ffff66;\n",
              "            color:  #000000;\n",
              "        }    #T_0866075c_2162_11ea_93df_0242ac1c0002row2_col0 {\n",
              "            background-color:  #60b066;\n",
              "            color:  #000000;\n",
              "        }    #T_0866075c_2162_11ea_93df_0242ac1c0002row2_col1 {\n",
              "            background-color:  #dfef66;\n",
              "            color:  #000000;\n",
              "        }    #T_0866075c_2162_11ea_93df_0242ac1c0002row2_col2 {\n",
              "            background-color:  #90c866;\n",
              "            color:  #000000;\n",
              "        }    #T_0866075c_2162_11ea_93df_0242ac1c0002row3_col0 {\n",
              "            background-color:  #008066;\n",
              "            color:  #f1f1f1;\n",
              "        }    #T_0866075c_2162_11ea_93df_0242ac1c0002row3_col1 {\n",
              "            background-color:  #008066;\n",
              "            color:  #f1f1f1;\n",
              "        }    #T_0866075c_2162_11ea_93df_0242ac1c0002row3_col2 {\n",
              "            background-color:  #008066;\n",
              "            color:  #f1f1f1;\n",
              "        }</style><table id=\"T_0866075c_2162_11ea_93df_0242ac1c0002\" ><thead>    <tr>        <th class=\"index_name level0\" >Survived</th>        <th class=\"col_heading level0 col0\" >0</th>        <th class=\"col_heading level0 col1\" >1</th>        <th class=\"col_heading level0 col2\" >All</th>    </tr>    <tr>        <th class=\"index_name level0\" >Pclass</th>        <th class=\"blank\" ></th>        <th class=\"blank\" ></th>        <th class=\"blank\" ></th>    </tr></thead><tbody>\n",
              "                <tr>\n",
              "                        <th id=\"T_0866075c_2162_11ea_93df_0242ac1c0002level0_row0\" class=\"row_heading level0 row0\" >1</th>\n",
              "                        <td id=\"T_0866075c_2162_11ea_93df_0242ac1c0002row0_col0\" class=\"data row0 col0\" >80</td>\n",
              "                        <td id=\"T_0866075c_2162_11ea_93df_0242ac1c0002row0_col1\" class=\"data row0 col1\" >136</td>\n",
              "                        <td id=\"T_0866075c_2162_11ea_93df_0242ac1c0002row0_col2\" class=\"data row0 col2\" >216</td>\n",
              "            </tr>\n",
              "            <tr>\n",
              "                        <th id=\"T_0866075c_2162_11ea_93df_0242ac1c0002level0_row1\" class=\"row_heading level0 row1\" >2</th>\n",
              "                        <td id=\"T_0866075c_2162_11ea_93df_0242ac1c0002row1_col0\" class=\"data row1 col0\" >97</td>\n",
              "                        <td id=\"T_0866075c_2162_11ea_93df_0242ac1c0002row1_col1\" class=\"data row1 col1\" >87</td>\n",
              "                        <td id=\"T_0866075c_2162_11ea_93df_0242ac1c0002row1_col2\" class=\"data row1 col2\" >184</td>\n",
              "            </tr>\n",
              "            <tr>\n",
              "                        <th id=\"T_0866075c_2162_11ea_93df_0242ac1c0002level0_row2\" class=\"row_heading level0 row2\" >3</th>\n",
              "                        <td id=\"T_0866075c_2162_11ea_93df_0242ac1c0002row2_col0\" class=\"data row2 col0\" >372</td>\n",
              "                        <td id=\"T_0866075c_2162_11ea_93df_0242ac1c0002row2_col1\" class=\"data row2 col1\" >119</td>\n",
              "                        <td id=\"T_0866075c_2162_11ea_93df_0242ac1c0002row2_col2\" class=\"data row2 col2\" >491</td>\n",
              "            </tr>\n",
              "            <tr>\n",
              "                        <th id=\"T_0866075c_2162_11ea_93df_0242ac1c0002level0_row3\" class=\"row_heading level0 row3\" >All</th>\n",
              "                        <td id=\"T_0866075c_2162_11ea_93df_0242ac1c0002row3_col0\" class=\"data row3 col0\" >549</td>\n",
              "                        <td id=\"T_0866075c_2162_11ea_93df_0242ac1c0002row3_col1\" class=\"data row3 col1\" >342</td>\n",
              "                        <td id=\"T_0866075c_2162_11ea_93df_0242ac1c0002row3_col2\" class=\"data row3 col2\" >891</td>\n",
              "            </tr>\n",
              "    </tbody></table>"
            ],
            "text/plain": [
              "<pandas.io.formats.style.Styler at 0x7f5038ea1080>"
            ]
          },
          "metadata": {
            "tags": []
          },
          "execution_count": 260
        }
      ]
    },
    {
      "cell_type": "markdown",
      "metadata": {
        "id": "0paAN2hSvF_w",
        "colab_type": "text"
      },
      "source": [
        "* 한 열의 값의 갯수를 확인"
      ]
    },
    {
      "cell_type": "code",
      "metadata": {
        "id": "Wr-hoMQ7wcjs",
        "colab_type": "code",
        "colab": {
          "base_uri": "https://localhost:8080/",
          "height": 163
        },
        "outputId": "676dfe1f-8380-402a-d30e-03325dd91ffd"
      },
      "source": [
        "exam.Parch.value_counts()"
      ],
      "execution_count": 262,
      "outputs": [
        {
          "output_type": "execute_result",
          "data": {
            "text/plain": [
              "0    678\n",
              "1    118\n",
              "2     80\n",
              "5      5\n",
              "3      5\n",
              "4      4\n",
              "6      1\n",
              "Name: Parch, dtype: int64"
            ]
          },
          "metadata": {
            "tags": []
          },
          "execution_count": 262
        }
      ]
    },
    {
      "cell_type": "markdown",
      "metadata": {
        "id": "7EnjykvTwqvn",
        "colab_type": "text"
      },
      "source": [
        "* 위의 이런 그래프 들도 자기 만의 함수로 만들어 놓는 것이 나중에 편합니다.\n",
        "* 이 보다 더 다양한 그래프 및 데이터 분석은 numpy & matplotlib부터 차근 차근 연습을 하겠습니다."
      ]
    }
  ]
}