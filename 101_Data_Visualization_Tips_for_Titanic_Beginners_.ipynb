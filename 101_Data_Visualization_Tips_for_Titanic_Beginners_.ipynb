{
  "nbformat": 4,
  "nbformat_minor": 0,
  "metadata": {
    "kernelspec": {
      "display_name": "Python 3",
      "language": "python",
      "name": "python3"
    },
    "language_info": {
      "codemirror_mode": {
        "name": "ipython",
        "version": 3
      },
      "file_extension": ".py",
      "mimetype": "text/x-python",
      "name": "python",
      "nbconvert_exporter": "python",
      "pygments_lexer": "ipython3",
      "version": "3.6.6"
    },
    "colab": {
      "name": "101 Data Visualization Tips for Titanic Beginners .ipynb",
      "provenance": [],
      "include_colab_link": true
    }
  },
  "cells": [
    {
      "cell_type": "markdown",
      "metadata": {
        "id": "view-in-github",
        "colab_type": "text"
      },
      "source": [
        "<a href=\"https://colab.research.google.com/github/joshuajhchoi/ai2learn/blob/master/101_Data_Visualization_Tips_for_Titanic_Beginners_.ipynb\" target=\"_parent\"><img src=\"https://colab.research.google.com/assets/colab-badge.svg\" alt=\"Open In Colab\"/></a>"
      ]
    },
    {
      "cell_type": "markdown",
      "metadata": {
        "id": "yjeOvErtApzD",
        "colab_type": "text"
      },
      "source": [
        "# This is an easy Data Visualization  samples for absolute beginners who want to work on the Kaggle Titanic Challenge.\n",
        "\n",
        "# 이 것은 Kaggle Titanic Challenge를 처음 하시는 분들을 위한 쉬운 데이터시각화 샘플입니다.\n",
        "\n",
        "# Upvote if you found it useful. \n",
        "# 유용하시면 Upvote 눌러 주세요\n",
        "\n",
        "\n",
        "### optional plotting w/pandas: https://pandas.pydata.org/pandas-docs/stable/visualization.html\n",
        "\n",
        "### matplotlib.pyplot: https://matplotlib.org/api/pyplot_api.html"
      ]
    },
    {
      "cell_type": "markdown",
      "metadata": {
        "id": "EzOWoZd7ApzH",
        "colab_type": "text"
      },
      "source": [
        "<a id = \"table_of_contents\"></a>\n",
        "## Table of contents\n",
        "\n",
        "### Part 1 Overview\n",
        "\n",
        "[Tips 1: Using missingno from matplotlib to see missing values 맷플롯립의 미싱노를 사용하여 빈값 한 눈에 보기](#tips1)\t\t\t\n",
        "[Tips 2: Correlation heatmap between numerical values 수치화 되어 있는 항목에 대한 코릴레이션 매트릭스 보기](#tips2)\t\t\t\n",
        "[Tips 3: Overall Co-relation matrix 코릴레이션 매트릭스를 만들어 관계 한 눈에 보기](#tips3)\t\t\t\n",
        "[Tips 4: To check the empty values 빈값의 합 보기](#tips4)\t\t\t\n",
        "[Tips 5: Data columns 데이터의 컬럼만 보기](#tips5)\t\n",
        "\n",
        "### Part 2 Survived\n",
        "\n",
        "[Tips 6: To see the survival counts 생존자 숫자 보기](#tips6)\t\t\t\n",
        "[Tips 7: To see Survived percentage in a pie chart and count in a countplot 서브 플롯 두개에서 파이차트로 생존자 %보고 카운트플롯으로 생존자 숫자 보기](#tips7)\t\t\t\n",
        "\n",
        "### Part 3 Pclass\n",
        "\n",
        "[Tips 8: To see Survival count per Pclass. Pclass 별 생존자 숫자 보기](#tips8)\t\t\t\n",
        "[Tips 9: To see survival percentage per gender per Pclass using factoplot. Pclass 당 남녀 생존 확률 팩토플롯으로 보기](#tips9)\t\t\t\n",
        "[Tips 10: To see Survival count per Pclass using crosstab. 크로스 탭을 활용하여 Pclass 별 생존자 숫자 보기](#tips10)\t\t\t\n",
        "\n",
        "[Tips 11: To see Survived percentage and count in countplots for Pclass 카운트플롯으로 Pclass별 생존자 % 및 숫자로 보기](#tips11)\t\n",
        "[Tips 12: To see Survived percentage and count in countplot and pointplot 카운트플롯 및 포인트 플롯으로 Pclass별 생존자 % 및 숫자로 보기](#tips12)\n",
        "[Tips 13: To see Survival % per Pclass. Pclass 별 생존자 % 보기](#tips13)\t\n",
        "[Tips 14: To see Survival % per Pclass using kdeplot. density plot을 활용하여 Pclass 별 생존자 % 보기 ](#tips14)\t\t\t\n",
        "[Tips 15: To see Survival % per Pclass using barplot. barplot을 활용하여 Pclass 별 생존자 % 보기](#tips15)\t\n",
        "\n",
        "[Tips 16: To see Survival % per Pclass using boxplot. boxplot을 활용하여 Pclass 별 생존자 % 보기](#tips16)  \n",
        "[Tips 17: To see Fare per Pclass using violinlot. violin plot을 활용하여 Pclass 별 Fare 보기](#tips17)  \t\n",
        "\n",
        "### Part 4 Age, Sex and Name\n",
        "\n",
        "[Tips 18: To see Survival counts per Sex and Age after dropping missing values in Age. 나이의 빈값을 제거한 후 남녀별 나이별 생존자 숫자 보기](#tips18)\t\t\n",
        "[Tips 19: To see Survival counts per Age. 나이별 생존자 숫자 보기](#tips19)\t\t\t\n",
        "[Tips 20: To see Survival ratio per Age using kdeplot. density plot을 활용하여 나이별 생존자 비율 보기](#tips20)\t\t\t\n",
        "\n",
        "[Tips 21: After extracting salutations as 'Initial' and check them per gender 이름에서 호칭만 빼내서 이를 남녀 숫자로 보기](#tips21)\n",
        "[Tips 22: Plotting with facotplot to see survival rate per Sex and Pclass/ Factorplot으로 남녀별 Pclass별 생존율 보기](#tips22)\t\t\t\n",
        "[Tips 23: Combined Views of Survived per Sex and Age -  남녀별, 나이별 생존자수를 종합적으로 보기](#tips23)\t\n",
        "[Tips 24: To view the average age per Pclass and Pclass counts per Age -  카운트플롯으로 Pclass당 평균 나이보고 보기](#tips24)  \n",
        "[Tips 25: To view the Survival counts per Age using swarmplot -  스왐플롯으로 연령별 생존자 카운트 보기](#tips25) \n",
        "\n",
        "[Tips 26: Age Histogram by Survival -  히스토그램으로 연령별 생존자 카운트 보기](#tips26)  \t\n",
        "[Tips 27: To see Survival count per gender per Pclass using crosstab. 크로스 탭을 활용하여 Pclass 별 남녀별 생존자 숫자 보기](#tips27)  \n",
        "[Tips 28: To see Age count using histogram. 히스토그램으로 Age count 보기](#tips28) \n",
        "[Tips 29: To see Survival status per age vs Pclass and sex using violin plot/ 바이올린 플롯으로 Pclass별 및 성별에서 Age별로 생존카운트 보기](#tips29)  \n",
        "[Tips 30: To see jointplot between 'Initial' and 'Fare'/ 조인트 플롯으로 'Initial'과 'Fare'관계 보기](#tips30)\t\t\t\n",
        "\n",
        "[Tips 31: To see relplot between 'Initial' and 'LastName'/ relplot으로 'Initial'과 'LastName'관계 보기](#tips31)\t\t\t\n",
        "[Tips 32: To see relplot between 'Initial' and 'Age'/ relplot으로 'Initial'과 'Age'관계 보기](#tips32) \n",
        "[Tips 33: To see relplot between 'LastName' and 'Fare'/ relplot으로 'LastName'과 'Fare'관계 보기](#tips33)  \n",
        "[Tips 34: To see relplot between 'LastName' and 'Ticket'/ relplot으로 'LastName'과 'Ticket'관계 보기](#tips34)   \n",
        "[Tips 35: To view Fare per Ticket using scatter plot 티켓 별 가격 스캐터 플롯으로 보기](#tips35)   \n",
        "\n",
        "### Part 5 SibSp & Parch \n",
        "\n",
        "[Tips 36: Plotting survival count vs Siblings or Spouse on board 배우자 및 형제자매 (SibSp)동승자 생존율 숫자로 보기](#tips36)\t\n",
        "[Tips 37: Plotting survival count vs Parents and Children on board 부모나 자식과 (Parch)동승자 생존율 숫자로 보기](#tips37)\t\t\t\n",
        "[Tips 38: Family Size Histogram by Survival 히스토그램으로 가족 크기 별 생존 확률 보기](#tips38)\t\t\t\n",
        "[Tips 39: SibSp by Survival using barplot and factoplot/ 바플롯이랑 팩토플롯으로 SibSp 별 생존 확률 보기](#tips39)\t\n",
        "[Tips 40: TTo see relplot between 'Pclass' and 'FamilySize'/ relplot으로 'Pclass'와 'FamilySize'관계 보기](#tips40)  \n",
        "\n",
        "### Part 6 Fare and Ticket\n",
        "\n",
        "[Tips 41: Fare Histogram by Survival 히스토그램으로 본 요금별 생존](#tips41) \n",
        "[Tips 42: Survival numbers per Fare and Pclass using swarmplot 스왐플롯으로 본 Pclass 및 Fare로 본 생존 수](#tips42)  \n",
        "[Tips 43: To view Fare using histogram 히스토그램을 사용하여 Fare 보기](#tips43)   \n",
        "[Tips 44: To view Fare per Ticket using scatter plot 티켓 별 가격 스캐터 플롯으로 보기](#tips44)   \n",
        "[Tips 45: To view Fare per Pclass using lineplot /Pclass 별 가격 라인플롯으로 보기](#tips45)  \t\n",
        "\t\t\n",
        "[Tips 46: To view Ticket per Pclass using lineplot /Pclass 별 티켓 라인플롯으로 보기](#tips46)\t  \t\t\n",
        "[Tips 47: To view Fare per Ticket using catplot /티켓별 가격 캣플롯으로 보기](#tips47)  \t\t\t\n",
        "[Tips 48: To view Fare per Ticket using relplot /티켓별 가격 relplot으로 보기](#tips48)  \t \t\t\n",
        "[Tips 49: To view Fare frequencies between survivors and non-survivors using kdeplot /Fare빈도 생존별로 kdeplot으로 보기]](#tips49)\t  \t\n",
        "[Tips 50: To view Ticket frequencies between survivors and non-survivors using kdeplot /Ticket 빈도 생존별로 kdeplot으로 보기)](#tips50)\n",
        "\n",
        "\n",
        "### Part 7 Cabin and Embarked\n",
        " \n",
        "[Tips 51: Surval Status per Embarked 여러개의 카운트플롯으로 본 Embarked 별 생존 현황](#tips51)  \n",
        "[Tips 52: Surval Status per Embarked using factorplot 팩토플롯으로 본 Embarked별  생존현황](#tips52)  \t\t\n",
        "[Tips 53: To view Fare per Embarked using vilolinplot 바이올린 플롯으로 본 Embarked별 요금 현황](#tips53)\t\t\t\n",
        "[Tips 54: Fare per Embarked using distplot. 디스트플롯으로 Embarked별 요금 보기)](#tips54)   \n",
        "  \n",
        "\n",
        "\n",
        "[Tips 36 isin - filtering by conditions multi conditions in multi columns / isin을 활용한 멀티 컬럼 조건 필터링](#tips36)\t\t\t\n",
        "[Tips 37: Sorting and Counting sorted values 소팅하고 소팅된 합 세기](#tips37)\t\t\t\n",
        "[Tips 38: Sorting with conditions and counting the sorted values 조건으로 소팅하고 그 조건에 맞는 것의 갯수 세기](#tips38)\t\t\t\n",
        "[Tips 39: Sorting with conditions and if there are any that matches 조건으로 소팅하고 그 조건에 맞는 것이 있는지 체크 - True/False)](#tips39)  \t\t\t\n",
        "[Tips 40: Sorting with conditions and get the percentage 소팅하고 그 것이 차지하는 백분율 구하기](#tips40)  \n",
        "\n",
        "[Tips 41: Making a new empty DataFrame 새로운 빈 데이터 프레임 만들기)](#tips41)\t\t\t\n",
        "[Tips 42: Copying and creating a new DataFrame 복사해서 새로운 데이터 프레임 만들기](#tips42)\t\t\t\n",
        "[Tips 43: Creating a new column 새로운 열 만들기](#tips43)\t\t\t\n",
        "[Tips 44: Creating a new column by copying an existing column 기존 열을 카피해서 새열을 만들기](#tips44)  \n",
        "[Tips 45: Creating a new Dataframe with a certain column) 새 데이터프레임을 기존 열 하나로 만들기](#tips45)  \t\n",
        "\t\t\n",
        "[Tips 46: Creating a new Dataframe with certain rows) 새 데이터프레임을 기존 행 일부로 만들기](#tips46)\t  \t\t\n",
        "[Tips 47: Creating a new Dataframe with certain columns) 새 데이터 프레임을 기존 열 몇 개로 만들기](#tips47)  \t\t\t\n",
        "[Tips 48: Creating a new Dataframe with certain columns and certain rows) 새 데이터 프레임을 기존 열 몇개과 행 몇개로 만들기](#tips48)  \t \t\t\n",
        "[Tips 49: Creating a new Dataframe with exisiting rows that matches a certain condition 새 데이터 프레임을 기존 행에서 특정 조건에 일치하는 것만 가지고 만들기]](#tips49)\t  \t\n",
        "[Tips 50: Creating a new Dataframe with exisiting rows that matches multiple conditions 새 데이터 프레임을 멀티 조건에 부합하는 기존 행으로 만들기)](#tips50)\t\n",
        "\n",
        "[Tips 51: Surval Status per Embarked 여러개의 카운트플롯으로 본 Embarked 별 생존 현황](#tips51)  \n",
        "[Tips 52: Surval Status per Embarked using factorplot 팩토플롯으로 본 Embarked별  생존현황](#tips52)  \t\t\n",
        "[Tips 53: To view Fare per Embarked using vilolinplot 바이올린 플롯으로 본 Embarked별 요금 현황](#tips53)\t\t\t\n",
        "[Tips 54: Fare per Embarked using distplot. 디스트플롯으로 Embarked별 요금 보기)](#tips54)  \n",
        "[Tips 55: Survival frequencies by Embarked using density plotsEmbarked별 생존자를 Density Plot으로 보기](#tips55)\t\n",
        "\n",
        "[Tips 56: Survival Rate per Embarked Place using countplot and pointplot 카운트플롯과 포인트플롯을 사용하여 Embarked별 생존수 보기](#tips56)\t\t\t\n",
        "[Tips 57: Viewing Cabins per Embarked using replot/ replot으로 Embarked 별 캐빈 보기](#tips57)\t\t\t\n",
        "[Tips 58: Viewing Fares per Embarked using jointplot 조인트플롯으로 Embarked별 요금 보기](#tips58)\t\t\t\n",
        "[Tips 59: Viewing Fares per Embarked using swarmplot 스왐플롯으로 Embarked별 요금 보기 ](#tips59)\t\t\t\n",
        "[Tips 60: Viewing Cabin per Pclass using swarmplot 스왐플롯으로 Pclass별 Cabin 보기 ](#tips60)\n",
        "\n",
        "### Part 8  Data Visualization in Feature Engineering \n",
        "\t\n",
        "[Tips 61: To view the new data frame with heatmap/ Heatmap으로 새 데이터 보기](#tips61)\t\t\t\n",
        "[Tips 62: To view Pcalss groupby survival % and replace exisiting values with that % 각 Pclass 생존율을 보고 생존율을 기존 값 대신 넣기](#tips62)\t\t\t\n",
        "[Tips 63: To view Name groupby survival % and replace exisiting values with that % 각 Name 생존율을 보고 생존율을 기존 값 대신 넣기](#tips63)\t\t\t\n",
        "[Tips 64: To view Gender groupby survival % and replace exisiting values with that % 각 성별 생존율을 보고 생존율을 기존 값 대신 넣기](#tips64)\t\t\t\n",
        "[Tips 65: To view Age groupby survival % and replace exisiting values with that % 각 나이별 생존율을 보고 생존율을 기존 값 대신 넣기](#tips65)\t\t\n",
        "\n",
        "[Tips 66: To view Family groupby survival % and replace exisiting values with that % 각 동승자 숫자 생존율을 보고 생존율을 기존 값 대신 넣기](#tips66)\t  \t\t\n",
        "[Tips 67: To view Ticket groupby survival % and replace exisiting values with that % 각 티켓별 생존율을 보고 생존율을 기존 값 대신 넣기](#tips67)\t\t\t\n",
        "[Tips 68: To view Fare groupby survival % and replace exisiting values with that % 각 요금별 생존율을 보고 생존율을 기존 값 대신 넣기](#tips68)\t\t\t\n",
        "[Tips 69: To view Cabin groupby survival % and replace exisiting values with that % 각 요금별 생존율을 보고 생존율을 기존 값 대신 넣기](#tips69)\n",
        "[Tips 70: To view Embarked groupby survival % and replace exisiting values with that % 각 승선 장소별 생존율을 보고 생존율을 기존 값 대신 넣기](#tips70)\n",
        "\n",
        "[Tips 71: To view LastName groupby survival % and replace exisiting values with that % 각 Last Name별 생존율을 보고 생존율을 기존 값 대신 넣기](#tips71)\t\t\t\n",
        "[Tips 72: To view one on one graphs between features using pairplot/  Pairplot으로 본 각 항목당의 1:1 그래프 보기](#tips72)\t\t\t\n",
        "[Tips 73: To view one on one graphs between features using pairgrid/  Pairgrid로 본 각 항목당의 1:1 그래프 보기](#tips73)\t\t\t\t\n",
        "[Tips 74: Overall Correlation of Final Features / Heatmap으로 본 항목들의 전체적 상관관계 보기](#tips74)\t\n",
        "\n",
        "\n",
        "### Part 9 Machine Learning\n",
        "\n",
        "\n",
        "[Tips 75:Viewing accurcacy table for the initial model 최초 모델 정확도 표 보기](#tips75)\t\t\t\n",
        "\n",
        "[Tips 76: Viewing accurcacy plot for the initial model 최초 모델 정확도 그래프 보기](#tips76)\t\t\t\n",
        "[Tips 77: Viewing importance plot for XGB / XGB 중요도 그래프 보기](#tips77)\t\t\t\n",
        "[Tips 78: Viewing importance table for LR / LR 중요도 표 보기](#tips78)\t\t\t\n",
        "[Tips 79: Viewing importance plot for LR / LR 중요도 그래프 보기](#tips79)\t\t\t\n",
        "[Tips 80: Viewing importance table for 5 models / 5개모델 중요도 표 보기](#tips80)  \n",
        "\n",
        "[Tips 81: Viewing importance plot for 5 models / 5개모델 중요도 그래프 보기](#tips81)  \n",
        "[Tips 82: Viewing the result plot after retraining 모델 재 교육 후 그래프 보기](#tips82)  \n",
        "[Tips 83: Viewing the SVC parameter tunning result / SVC 파라미터 튜닝 결과 보기](#tips83)  \n",
        "[Tips 84: Viewing the GBC parameter tunning result / GBC 파라미터 튜닝 결과 보기](#tips84)  \n",
        "[Tips 85: Viewing the LR parameter tunning result / LR 파라미터 튜닝 결과 보기](#tips85)  \n",
        "\n",
        "[Tips 86: Viewing the XGB Step 1 parameter tunning result / XGB Step 1 파라미터 튜닝 결과 보기](#tips86)  \n",
        "[Tips 87: Viewing the XGB Step 2 parameter tunning result / XGB Step 2 파라미터 튜닝 결과 보기](#tips87)  \n",
        "[Tips 88: Viewing the XGB Step 3 parameter tunning result / XGB Step 3 파라미터 튜닝 결과 보기](#tips88)  \n",
        "[Tips 89: Viewing the XGB Step 4 parameter tunning result / XGB Step 4 파라미터 튜닝 결과 보기](#tips89)  \n",
        "[Tips 90: Viewing the XGB Step 5 parameter tunning result / XGB Step 5 파라미터 튜닝 결과 보기](#tips90)  \n",
        "\n",
        "[Tips 91: Viewing the GP parameter tunning result / GP 파라미터 튜닝 결과 보기](#tips91)  \n",
        "[Tips 92: Viewing the Adaboost parameter tunning result / Adaboost 파라미터 튜닝 결과 보기](#tips92)  \n",
        "[Tips 93: Viewing the KNN parameter tunning result / KNN 파라미터 튜닝 결과 보기](#tips93)  \n",
        "[Tips 94: Viewing the Random Forest parameter tunning result / Random Forest 파라미터 튜닝 결과 보기](#tips94)  \n",
        "[Tips 95: Viewing the Extra Trees parameter tunning result / Extra Trees 파라미터 튜닝 결과 보기](#tips95)  \n",
        "\n",
        "[Tips 96: Viewing the Bagging Classifier parameter tunning result / Bagging Classifier 파라미터 튜닝 결과 보기](#tips96)  \n",
        "[Tips 97: Viewing the ranking table after final training / Final Training Ranking Table 보기](#tips97)  \n",
        "[Tips 98: Viewing the final result graph/ 파이널 결과 그래프 보기](#tips98)  \n",
        "[Tips 99: Viewing the hard voting result 하드 보팅 결과 보기](#tips99)  \n",
        "[Tips 100: Viewing the soft voting result 소프트 보팅 결과 보기](#tips100)  \n",
        "\n",
        "[Tips 101: To view the submission file 제출 파일 보기 ](#tips101)  \n",
        "\n",
        "\n"
      ]
    },
    {
      "cell_type": "markdown",
      "metadata": {
        "id": "PXp4sXPEApzK",
        "colab_type": "text"
      },
      "source": [
        "## Importing"
      ]
    },
    {
      "cell_type": "markdown",
      "metadata": {
        "id": "HmCTwNt8ApzL",
        "colab_type": "text"
      },
      "source": [
        "* First we have to import a few things 몇 개 임포트하고 시작합니다."
      ]
    },
    {
      "cell_type": "code",
      "metadata": {
        "trusted": true,
        "id": "Dd_l0LpOApzM",
        "colab_type": "code",
        "colab": {}
      },
      "source": [
        "# They are for data manipulation/ 기본 데이터 정리 및 처리\n",
        "import pandas as pd\n",
        "import numpy as np\n",
        "\n",
        "# For Visualization / 시각화\n",
        "import matplotlib.pyplot as plt\n",
        "%matplotlib inline\n",
        "import seaborn as sns\n",
        "plt.style.use('seaborn-whitegrid')\n",
        "import missingno\n",
        "\n",
        "# Ignore warnings / 경고 제거 (Pandas often makes warnings)\n",
        "import sys\n",
        "import warnings\n",
        "\n",
        "import warnings\n",
        "warnings.filterwarnings('ignore')"
      ],
      "execution_count": 0,
      "outputs": []
    },
    {
      "cell_type": "code",
      "metadata": {
        "trusted": true,
        "id": "fICPrfnXApzQ",
        "colab_type": "code",
        "colab": {}
      },
      "source": [
        "test = pd.read_csv('../input/titanic/test.csv')\n",
        "train = pd.read_csv('../input/titanic/train.csv')"
      ],
      "execution_count": 0,
      "outputs": []
    },
    {
      "cell_type": "markdown",
      "metadata": {
        "id": "-xjTsx4NApzT",
        "colab_type": "text"
      },
      "source": [
        "When using Google Colab\n",
        "\n",
        "        from google.colab import files\n",
        "        uploaded = files.upload()\n",
        "\n",
        "And then\n",
        "\n",
        "        import io\n",
        "        test = pd.read_csv(io.BytesIO(uploaded['test.csv']))\n",
        "        train = pd.read_csv(io.BytesIO(uploaded['train.csv']))"
      ]
    },
    {
      "cell_type": "markdown",
      "metadata": {
        "id": "UY7RGXvhApzU",
        "colab_type": "text"
      },
      "source": [
        "## Part 1 Overview"
      ]
    },
    {
      "cell_type": "markdown",
      "metadata": {
        "id": "F3kpVsebApzV",
        "colab_type": "text"
      },
      "source": [
        "<a id = \"tips1\"></a>\n",
        "## No. 1 - Using missingno from matplotlib to see missing values 맷플롯립의 미싱노를 사용하여 빈값 한 눈에 보기\n",
        "[Go to the Table of Contents](#table_of_contents)"
      ]
    },
    {
      "cell_type": "code",
      "metadata": {
        "trusted": true,
        "id": "rCwHcBTNApzX",
        "colab_type": "code",
        "colab": {}
      },
      "source": [
        "missingno.matrix(train, figsize = (15,8))"
      ],
      "execution_count": 0,
      "outputs": []
    },
    {
      "cell_type": "markdown",
      "metadata": {
        "id": "qn_H4Hv2Apza",
        "colab_type": "text"
      },
      "source": [
        "<a id = \"tips2\"></a>\n",
        "## No. 2 - Correlation heatmap between numerical values 수치화 되어 있는 항목에 대한 코릴레이션 매트릭스 보기\n",
        "[Go to the Table of Contents](#table_of_contents)"
      ]
    },
    {
      "cell_type": "code",
      "metadata": {
        "trusted": true,
        "id": "44F_lIK2Apzb",
        "colab_type": "code",
        "colab": {}
      },
      "source": [
        "# Correlation heatmap between numerical values (SibSp Parch Age and Fare values) and Survived \n",
        "g = sns.heatmap(train[[\"Survived\",\"SibSp\",\"Parch\",\"Age\",\"Fare\"]].corr(),annot=True\n",
        "                , fmt = \".2f\", cmap = \"coolwarm\")"
      ],
      "execution_count": 0,
      "outputs": []
    },
    {
      "cell_type": "code",
      "metadata": {
        "_cell_guid": "b1076dfc-b9ad-4769-8c92-a6c4dae69d19",
        "_uuid": "8f2839f25d086af736a60e9eeb907d3b93b6e0e5",
        "trusted": true,
        "id": "MUF1A6gKApze",
        "colab_type": "code",
        "colab": {}
      },
      "source": [
        "train.head()"
      ],
      "execution_count": 0,
      "outputs": []
    },
    {
      "cell_type": "markdown",
      "metadata": {
        "id": "OQRzW-HYApzg",
        "colab_type": "text"
      },
      "source": [
        "<a id = \"tips3\"></a>\n",
        "## No. 3 _ Overall Co-relation matrix 코릴레이션 매트릭스를 만들어 관계 한 눈에 보기\n",
        "[Go to the Table of Contents](#table_of_contents)"
      ]
    },
    {
      "cell_type": "code",
      "metadata": {
        "_cell_guid": "79c7e3d0-c299-4dcb-8224-4455121ee9b0",
        "_uuid": "d629ff2d2480ee46fbb7e2d37f6b5fab8052498a",
        "trusted": true,
        "id": "a27Ut5kPApzh",
        "colab_type": "code",
        "colab": {}
      },
      "source": [
        "corr = train.corr()\n",
        "# 마스크 셋업\n",
        "mask = np.zeros_like(corr, dtype=np.bool)\n",
        "mask[np.triu_indices_from(mask)] = True\n",
        "# 그래프 셋업\n",
        "plt.figure(figsize=(14, 8))\n",
        "# 그래프 타이틀\n",
        "plt.title('Overall Correlation of Titanic Features', fontsize=18)\n",
        "#  Co-relation 매트릭스 런칭\n",
        "sns.heatmap(corr, mask=mask, annot=False,cmap='RdYlGn', linewidths=0.2, annot_kws={'size':20})\n",
        "plt.show()"
      ],
      "execution_count": 0,
      "outputs": []
    },
    {
      "cell_type": "markdown",
      "metadata": {
        "id": "gWiDTCzeApzk",
        "colab_type": "text"
      },
      "source": [
        "<a id = \"tips4\"></a>\n",
        "## No. 4 - To check the empty values 빈값의 합 보기\n",
        "[Go to the Table of Contents](#table_of_contents)"
      ]
    },
    {
      "cell_type": "code",
      "metadata": {
        "trusted": true,
        "id": "AoyqpJS_Apzl",
        "colab_type": "code",
        "colab": {}
      },
      "source": [
        "train.isnull().sum()"
      ],
      "execution_count": 0,
      "outputs": []
    },
    {
      "cell_type": "markdown",
      "metadata": {
        "id": "aZGsuZgXApzq",
        "colab_type": "text"
      },
      "source": [
        "<a id = \"tips5\"></a>\n",
        "## No. 5 - Data columns 데이터의 컬럼만 보기\n",
        "[Go to the Table of Contents](#table_of_contents)"
      ]
    },
    {
      "cell_type": "code",
      "metadata": {
        "trusted": true,
        "id": "WwIXHKMZApzq",
        "colab_type": "code",
        "colab": {}
      },
      "source": [
        "data = pd.concat((train, test))"
      ],
      "execution_count": 0,
      "outputs": []
    },
    {
      "cell_type": "code",
      "metadata": {
        "trusted": true,
        "id": "QYWc1PGZApzt",
        "colab_type": "code",
        "colab": {}
      },
      "source": [
        "data.columns"
      ],
      "execution_count": 0,
      "outputs": []
    },
    {
      "cell_type": "markdown",
      "metadata": {
        "id": "Wr3P4z6gApzv",
        "colab_type": "text"
      },
      "source": [
        "_________________\n",
        "\n",
        "## Part 2 'Survived'"
      ]
    },
    {
      "cell_type": "markdown",
      "metadata": {
        "id": "YxTTdAAvApzw",
        "colab_type": "text"
      },
      "source": [
        "<a id = \"tips6\"></a>\n",
        "## No. 6 - To see the survival counts 생존자 숫자 보기\n",
        "[Go to the Table of Contents](#table_of_contents)"
      ]
    },
    {
      "cell_type": "code",
      "metadata": {
        "trusted": true,
        "id": "zpD8wbYUApzw",
        "colab_type": "code",
        "colab": {}
      },
      "source": [
        "fig = plt.figure(figsize=(10,2))\n",
        "sns.countplot(y='Survived', data=train)\n",
        "print(train.Survived.value_counts())"
      ],
      "execution_count": 0,
      "outputs": []
    },
    {
      "cell_type": "code",
      "metadata": {
        "trusted": true,
        "id": "1gxs1bPrApz1",
        "colab_type": "code",
        "colab": {}
      },
      "source": [
        "# Plot for survived\n",
        "fig = plt.figure(figsize = (10,5))\n",
        "sns.countplot(x='Survived', data = train)\n",
        "print(train['Survived'].value_counts())"
      ],
      "execution_count": 0,
      "outputs": []
    },
    {
      "cell_type": "markdown",
      "metadata": {
        "id": "U7Ih1eVLApz5",
        "colab_type": "text"
      },
      "source": [
        "<a id = \"tips7\"></a>\n",
        "## No. 7 - To see Survived percentage in a pie chart and count in a countplot 서브 플롯 두개에서 파이차트로 생존자 %보고 카운트플롯으로 생존자 숫자보기  \n",
        "[Go to the Table of Contents](#table_of_contents)"
      ]
    },
    {
      "cell_type": "code",
      "metadata": {
        "trusted": true,
        "id": "17XON7OKApz6",
        "colab_type": "code",
        "colab": {}
      },
      "source": [
        "f,ax=plt.subplots(1,2,figsize=(15,6))\n",
        "train['Survived'].value_counts().plot.pie(explode=[0,0.1],autopct='%1.1f%%',ax=ax[0],shadow=True)\n",
        "ax[0].set_title('Survived')\n",
        "ax[0].set_ylabel('')\n",
        "sns.countplot('Survived',data=train,ax=ax[1])\n",
        "ax[1].set_title('Survived')\n",
        "plt.show()"
      ],
      "execution_count": 0,
      "outputs": []
    },
    {
      "cell_type": "markdown",
      "metadata": {
        "id": "dDPN67GkApz8",
        "colab_type": "text"
      },
      "source": [
        "_________________\n",
        "\n",
        "## Part 3 'Pclass'"
      ]
    },
    {
      "cell_type": "markdown",
      "metadata": {
        "id": "wv5joI7EApz9",
        "colab_type": "text"
      },
      "source": [
        "<a id = \"tips8\"></a>\n",
        "## No. 8 To see Survival count per Pclass. Pclass 별 생존자 숫자 보기 \n",
        "[Go to the Table of Contents](#table_of_contents)"
      ]
    },
    {
      "cell_type": "code",
      "metadata": {
        "trusted": true,
        "id": "vGGvzdBGApz9",
        "colab_type": "code",
        "colab": {}
      },
      "source": [
        "train.groupby(['Pclass','Survived'])['Survived'].count()"
      ],
      "execution_count": 0,
      "outputs": []
    },
    {
      "cell_type": "markdown",
      "metadata": {
        "id": "mg8B-sXRAp0A",
        "colab_type": "text"
      },
      "source": [
        "<a id = \"tips9\"></a>\n",
        "## No. 9 To see survival percentage per gender per Pclass using factoplot. Pclass 당 남녀 생존 확률 팩토플롯으로 보기\n",
        "[Go to the Table of Contents](#table_of_contents)"
      ]
    },
    {
      "cell_type": "code",
      "metadata": {
        "trusted": true,
        "id": "hshnq9JxAp0A",
        "colab_type": "code",
        "colab": {}
      },
      "source": [
        "sns.factorplot('Pclass','Survived',hue='Sex',data=data)\n",
        "plt.show()"
      ],
      "execution_count": 0,
      "outputs": []
    },
    {
      "cell_type": "markdown",
      "metadata": {
        "id": "l87r5blUAp0D",
        "colab_type": "text"
      },
      "source": [
        "<a id = \"tips10\"></a>\n",
        "## No. 10 - To see Survival count per Pclass using crosstab. 크로스 탭을 활용하여 Pclass 별 생존자 숫자 보기 \n",
        "[Go to the Table of Contents](#table_of_contents)"
      ]
    },
    {
      "cell_type": "code",
      "metadata": {
        "trusted": true,
        "id": "z9gEvDABAp0E",
        "colab_type": "code",
        "colab": {}
      },
      "source": [
        "pd.crosstab(train.Pclass,train.Survived,margins=True).style.background_gradient(cmap='summer_r')"
      ],
      "execution_count": 0,
      "outputs": []
    },
    {
      "cell_type": "markdown",
      "metadata": {
        "id": "lZVmctFQAp0H",
        "colab_type": "text"
      },
      "source": [
        "<a id = \"tips11\"></a>\n",
        "## No. 11 - To see Survived percentage and count in countplots 카운트플롯으로 Pclass별 생존자 % 및 숫자로 보기\n",
        "[Go to the Table of Contents](#table_of_contents)"
      ]
    },
    {
      "cell_type": "code",
      "metadata": {
        "trusted": true,
        "id": "05nAJlNvAp0I",
        "colab_type": "code",
        "colab": {}
      },
      "source": [
        "f,ax=plt.subplots(1,2,figsize=(12,6))\n",
        "train[['Pclass','Survived']].groupby(['Pclass']).mean().plot.bar(ax=ax[0])\n",
        "ax[0].set_title('Survived per Pcalss')\n",
        "sns.countplot('Pclass',hue='Survived',data=train,ax=ax[1])\n",
        "ax[1].set_title('Pcalss Survived vs Not Survived')\n",
        "plt.show()"
      ],
      "execution_count": 0,
      "outputs": []
    },
    {
      "cell_type": "markdown",
      "metadata": {
        "id": "av4moQpUAp0K",
        "colab_type": "text"
      },
      "source": [
        "<a id = \"tips12\"></a>\n",
        "## No. 12 - To see Survived percentage and count in countplot and pointplot 카운트플롯 및 포인트 플롯으로 Pclass별 생존자 % 및 숫자로 보기\n",
        "[Go to the Table of Contents](#table_of_contents)"
      ]
    },
    {
      "cell_type": "code",
      "metadata": {
        "trusted": true,
        "id": "vfdRhmvYAp0L",
        "colab_type": "code",
        "colab": {}
      },
      "source": [
        "# Bar chart of each Pclass type\n",
        "fig = plt.figure(figsize = (10,10))\n",
        "ax1 = plt.subplot(2,1,1)\n",
        "ax1 = sns.countplot(x = 'Pclass', hue = 'Survived', data = train)\n",
        "ax1.set_title('Ticket Class Survival Rate')\n",
        "ax1.set_xticklabels(['1 Upper','2 Middle','3 Lower'])\n",
        "ax1.set_ylim(0,400)\n",
        "ax1.set_xlabel('Ticket Class')\n",
        "ax1.set_ylabel('Count')\n",
        "ax1.legend(['No','Yes'])\n",
        "\n",
        "# Pointplot Pclass type\n",
        "ax2 = plt.subplot(2,1,2)\n",
        "sns.pointplot(x='Pclass', y='Survived', data=train)\n",
        "ax2.set_xlabel('Ticket Class')\n",
        "ax2.set_ylabel('Percent Survived')\n",
        "ax2.set_title('Percentage Survived by Ticket Class')"
      ],
      "execution_count": 0,
      "outputs": []
    },
    {
      "cell_type": "markdown",
      "metadata": {
        "id": "kLGOCoGEAp0N",
        "colab_type": "text"
      },
      "source": [
        "<a id = \"tips13\"></a>\n",
        "## No. 13 - To see Survival % per Pclass. Pclass 별 생존자 % 보기 \n",
        "[Go to the Table of Contents](#table_of_contents)"
      ]
    },
    {
      "cell_type": "code",
      "metadata": {
        "trusted": true,
        "id": "tTlZ8A06Ap0O",
        "colab_type": "code",
        "colab": {}
      },
      "source": [
        "train.groupby('Pclass').Survived.mean()"
      ],
      "execution_count": 0,
      "outputs": []
    },
    {
      "cell_type": "markdown",
      "metadata": {
        "id": "Oqtd8lkpAp0P",
        "colab_type": "text"
      },
      "source": [
        "<a id = \"tips14\"></a>\n",
        "## No. 14 - To see Survival % per Pclass using kdeplot. density plot을 활용하여 Pclass 별 생존자 % 보기 \n",
        "[Go to the Table of Contents](#table_of_contents)"
      ]
    },
    {
      "cell_type": "code",
      "metadata": {
        "trusted": true,
        "id": "mh-vBMJxAp0Q",
        "colab_type": "code",
        "colab": {}
      },
      "source": [
        "# Density plot\n",
        "fig = plt.figure(figsize=(15,8),) \n",
        "ax=sns.kdeplot(train.Pclass[train.Survived == 0] , \n",
        "               color='gray',\n",
        "               shade=True,\n",
        "               label='not survived')\n",
        "ax=sns.kdeplot(train.loc[(train['Survived'] == 1),'Pclass'] , \n",
        "               color='g',\n",
        "               shade=True, \n",
        "               label='survived', \n",
        "              )\n",
        "plt.title('Passenger Class Distribution - Survived vs Non-Survived', fontsize = 25, pad = 40)\n",
        "plt.ylabel(\"Frequency of Passenger Survived\", fontsize = 15, labelpad = 20)\n",
        "plt.xlabel(\"Passenger Class\", fontsize = 15,labelpad =20)\n",
        "labels = ['1st Class', '2nd Class', '3rd Class']\n",
        "plt.xticks(sorted(train.Pclass.unique()), labels);"
      ],
      "execution_count": 0,
      "outputs": []
    },
    {
      "cell_type": "markdown",
      "metadata": {
        "id": "1KAPCn47Ap0S",
        "colab_type": "text"
      },
      "source": [
        "<a id = \"tips15\"></a>\n",
        "## No. 15 - To see Survival % per Pclass using barplot. barplot을 활용하여 Pclass 별 생존자 % 보기 \n",
        "[Go to the Table of Contents](#table_of_contents)"
      ]
    },
    {
      "cell_type": "code",
      "metadata": {
        "trusted": true,
        "id": "w1EoyR16Ap0U",
        "colab_type": "code",
        "colab": {}
      },
      "source": [
        "plt.subplots(figsize = (15,10))\n",
        "sns.barplot(x = \"Pclass\", \n",
        "            y = \"Survived\", \n",
        "            data=train, \n",
        "            linewidth=5,\n",
        "            capsize = .1\n",
        "\n",
        "           )\n",
        "plt.title(\"Passenger Class Distribution - Survived vs Non-Survived\", fontsize = 25, pad=40)\n",
        "plt.xlabel(\"Survival Rate per Pclass\", fontsize = 15);\n",
        "plt.ylabel(\"% of Passenger Survived\", fontsize = 15);\n",
        "labels = ['1st Class', '2nd Class', '3rd Class']\n",
        "\n",
        "val = [0,1,2] ## 임시 방면 temporaray measure\n",
        "plt.xticks(val, labels);"
      ],
      "execution_count": 0,
      "outputs": []
    },
    {
      "cell_type": "markdown",
      "metadata": {
        "id": "-6vLxfBXAp0X",
        "colab_type": "text"
      },
      "source": [
        "<a id = \"tips16\"></a>\n",
        "## No. 16 - To see Survival % per Pclass using boxlot. boxplot을 활용하여 Pclass 별 생존자 % 보기 \n",
        "[Go to the Table of Contents](#table_of_contents)"
      ]
    },
    {
      "cell_type": "code",
      "metadata": {
        "trusted": true,
        "id": "3N0eeG16Ap0Y",
        "colab_type": "code",
        "colab": {}
      },
      "source": [
        "sns.boxplot(x='Pclass', y='Survived', data=train)"
      ],
      "execution_count": 0,
      "outputs": []
    },
    {
      "cell_type": "markdown",
      "metadata": {
        "id": "l7xa1I8nAp0b",
        "colab_type": "text"
      },
      "source": [
        "<a id = \"tips17\"></a>\n",
        "## No. 17 - To see Fare per Pclass using violinlot. violin plot을 활용하여 Pclass 별 Fare 보기 \n",
        "[Go to the Table of Contents](#table_of_contents)"
      ]
    },
    {
      "cell_type": "code",
      "metadata": {
        "trusted": true,
        "id": "MLkaab2hAp0b",
        "colab_type": "code",
        "colab": {}
      },
      "source": [
        "sns.catplot(x=\"Pclass\", y=\"Fare\", kind=\"violin\", data=train)"
      ],
      "execution_count": 0,
      "outputs": []
    },
    {
      "cell_type": "markdown",
      "metadata": {
        "id": "u2p45MHPAp0d",
        "colab_type": "text"
      },
      "source": [
        "___________\n",
        "\n",
        "## Part 4 'Age', 'Sex' and 'Name'"
      ]
    },
    {
      "cell_type": "markdown",
      "metadata": {
        "id": "ehnpC50BAp0e",
        "colab_type": "text"
      },
      "source": [
        "<a id = \"tips18\"></a>\n",
        "## No. 18 - To see Survival counts per Sex and Age after dropping missing values in Age. 나이의 빈값을 제거한 후 남녀별 나이별 생존자 숫자 보기 \n",
        "[Go to the Table of Contents](#table_of_contents)"
      ]
    },
    {
      "cell_type": "code",
      "metadata": {
        "trusted": true,
        "id": "bIW0S80dAp0f",
        "colab_type": "code",
        "colab": {}
      },
      "source": [
        "survived = 'survived'\n",
        "not_survived = 'not survived'\n",
        "fig, axes = plt.subplots(nrows=1, ncols=2,figsize=(10, 5))\n",
        "women = train[train['Sex']=='female']\n",
        "men = train[train['Sex']=='male']\n",
        "ax = sns.distplot(women[women['Survived']==1].Age.dropna(), bins=20, label = survived, ax = axes[0], kde =False)\n",
        "ax = sns.distplot(women[women['Survived']==0].Age.dropna(), bins=20, label = not_survived, ax = axes[0], kde =False)\n",
        "ax.legend()\n",
        "ax.set_title('Female')\n",
        "ax = sns.distplot(men[men['Survived']==1].Age.dropna(), bins=20, label = survived, ax = axes[1], kde = False)\n",
        "ax = sns.distplot(men[men['Survived']==0].Age.dropna(), bins=20, label = not_survived, ax = axes[1], kde = False)\n",
        "ax.legend()\n",
        "_ = ax.set_title('Male')"
      ],
      "execution_count": 0,
      "outputs": []
    },
    {
      "cell_type": "markdown",
      "metadata": {
        "id": "NCj4jGprAp0i",
        "colab_type": "text"
      },
      "source": [
        "<a id = \"tips19\"></a>\n",
        "## No. 19 - To see Survival counts per Age. 나이별 생존자 숫자 보기 \n",
        "[Go to the Table of Contents](#table_of_contents)"
      ]
    },
    {
      "cell_type": "code",
      "metadata": {
        "trusted": true,
        "id": "r2IY6-TPAp0j",
        "colab_type": "code",
        "colab": {}
      },
      "source": [
        "f,ax=plt.subplots(1,2,figsize=(10,5))\n",
        "data[data['Survived']==0].Age.plot.hist(ax=ax[0],bins=20,edgecolor='black',color='red')\n",
        "ax[0].set_title('Survived= 0')\n",
        "x1=list(range(0,85,5))\n",
        "ax[0].set_xticks(x1)\n",
        "data[data['Survived']==1].Age.plot.hist(ax=ax[1],color='green',bins=20,edgecolor='black')\n",
        "ax[1].set_title('Survived= 1')\n",
        "x2=list(range(0,85,5))\n",
        "ax[1].set_xticks(x2)\n",
        "plt.show()"
      ],
      "execution_count": 0,
      "outputs": []
    },
    {
      "cell_type": "markdown",
      "metadata": {
        "id": "Q80AIvEaAp0l",
        "colab_type": "text"
      },
      "source": [
        "<a id = \"tips20\"></a>\n",
        "## No. 20 - To see Survival ratio per Age using kdeplot. density plot을 활용하여 나이별 생존자 비율 보기 \n",
        "[Go to the Table of Contents](#table_of_contents)"
      ]
    },
    {
      "cell_type": "code",
      "metadata": {
        "trusted": true,
        "id": "MZUHrApnAp0m",
        "colab_type": "code",
        "colab": {}
      },
      "source": [
        "fig = plt.figure(figsize=(12,6),)\n",
        "ax=sns.kdeplot(train.loc[(train['Survived'] == 0),'Age'] , color='gray',shade=True,label='not survived')\n",
        "ax=sns.kdeplot(train.loc[(train['Survived'] == 1),'Age'] , color='g',shade=True, label='survived')\n",
        "plt.title('Age Distribution - Surviver V.S. Non Survivors', fontsize = 25, pad = 40)\n",
        "plt.xlabel(\"Age\", fontsize = 15, labelpad = 20)\n",
        "plt.ylabel('Frequency', fontsize = 15, labelpad= 20);"
      ],
      "execution_count": 0,
      "outputs": []
    },
    {
      "cell_type": "markdown",
      "metadata": {
        "id": "ESA6mBcfAp0o",
        "colab_type": "text"
      },
      "source": [
        "<a id = \"tips21\"></a>\n",
        "## No. 21 - After extracting salutations as 'Initial' and check them per gender 이름에서 호칭만 빼내서 이를 남녀 숫자로 보기\n",
        "[Go to the Table of Contents](#table_of_contents)"
      ]
    },
    {
      "cell_type": "code",
      "metadata": {
        "trusted": true,
        "id": "ujEmmLZgAp0r",
        "colab_type": "code",
        "colab": {}
      },
      "source": [
        "data['Initial']=0\n",
        "for i in data:\n",
        "    data['Initial']=data.Name.str.extract('([A-Za-z]+)\\.')\n",
        "    \n",
        "data.tail()"
      ],
      "execution_count": 0,
      "outputs": []
    },
    {
      "cell_type": "code",
      "metadata": {
        "trusted": true,
        "id": "wP5G4odAAp0t",
        "colab_type": "code",
        "colab": {}
      },
      "source": [
        "pd.crosstab(data.Initial,data.Sex).T.style.background_gradient(cmap='summer_r')"
      ],
      "execution_count": 0,
      "outputs": []
    },
    {
      "cell_type": "markdown",
      "metadata": {
        "id": "0mBl9v4_Ap0v",
        "colab_type": "text"
      },
      "source": [
        "<a id = \"tips22\"></a>\n",
        "## No. 22 - Plotting with facotplot to see survival rate per Sex and Pclass/ Factorplot으로 남녀별 Pclass별 생존율 보기 \n",
        "[Go to the Table of Contents](#table_of_contents)"
      ]
    },
    {
      "cell_type": "code",
      "metadata": {
        "trusted": true,
        "id": "qaFbdIOJAp0v",
        "colab_type": "code",
        "colab": {}
      },
      "source": [
        "sns.factorplot('Pclass','Survived',col='Sex',data=data)\n",
        "plt.show()"
      ],
      "execution_count": 0,
      "outputs": []
    },
    {
      "cell_type": "markdown",
      "metadata": {
        "id": "gwC22bdnAp0x",
        "colab_type": "text"
      },
      "source": [
        "<a id = \"tips23\"></a>\n",
        "## No. 23  Combined Views of Survived per Sex and Age -  남녀별, 나이별 생존자수를 종합적으로 보기\n",
        "[Go to the Table of Contents](#table_of_contents)"
      ]
    },
    {
      "cell_type": "code",
      "metadata": {
        "trusted": true,
        "id": "BJmir_dSAp0y",
        "colab_type": "code",
        "colab": {}
      },
      "source": [
        "pal = {1:\"seagreen\", 0:\"gray\"}\n",
        "g = sns.FacetGrid(train,size=5, col=\"Sex\", row=\"Survived\", margin_titles=True, hue = \"Survived\",\n",
        "                  palette=pal)\n",
        "g = g.map(plt.hist, \"Age\", edgecolor = 'white');\n",
        "g.fig.suptitle(\"Survived by Sex and Age\", size = 25)\n",
        "plt.subplots_adjust(top=0.90)"
      ],
      "execution_count": 0,
      "outputs": []
    },
    {
      "cell_type": "markdown",
      "metadata": {
        "id": "FMyhJ6-nAp00",
        "colab_type": "text"
      },
      "source": [
        "<a id = \"tips24\"></a>\n",
        "## No. 24  To view the average age per Pclass and Pclass counts per Age -  카운트플롯으로 Pclass당 평균 나이보고 연령별 Pclss 카운트 보기  \n",
        "[Go to the Table of Contents](#table_of_contents)"
      ]
    },
    {
      "cell_type": "code",
      "metadata": {
        "trusted": true,
        "id": "UyTuZ-pIAp00",
        "colab_type": "code",
        "colab": {}
      },
      "source": [
        "f,ax=plt.subplots(1,2,figsize=(30,10))\n",
        "train[['Age','Pclass']].groupby(['Pclass']).mean().plot.bar(ax=ax[0])\n",
        "ax[0].set_title('')\n",
        "sns.countplot('Age',hue='Pclass',data=train,ax=ax[1])\n",
        "ax[1].set_title('')\n",
        "plt.show()"
      ],
      "execution_count": 0,
      "outputs": []
    },
    {
      "cell_type": "markdown",
      "metadata": {
        "id": "-durivqXAp02",
        "colab_type": "text"
      },
      "source": [
        "<a id = \"tips25\"></a>\n",
        "## No. 25  To view the Survival counts per Age using swarmplot -  스왐플롯으로 연령별 생존자 카운트 보기  \n",
        "[Go to the Table of Contents](#table_of_contents)"
      ]
    },
    {
      "cell_type": "code",
      "metadata": {
        "trusted": true,
        "id": "YGoB8UqRAp03",
        "colab_type": "code",
        "colab": {}
      },
      "source": [
        "sns.swarmplot(x=train['Survived'], y=train['Age'])\n",
        "plt.xlabel(\"Survived\")\n",
        "plt.ylabel(\"Age\")\n",
        "plt.show()"
      ],
      "execution_count": 0,
      "outputs": []
    },
    {
      "cell_type": "markdown",
      "metadata": {
        "id": "a2BKhi3FAp09",
        "colab_type": "text"
      },
      "source": [
        "<a id = \"tips26\"></a>\n",
        "## No. 26  Age Histogram by Survival -  히스토그램으로 연령별 생존자 카운트 보기  \n",
        "[Go to the Table of Contents](#table_of_contents)"
      ]
    },
    {
      "cell_type": "code",
      "metadata": {
        "trusted": true,
        "id": "-JKqGQNiAp0_",
        "colab_type": "code",
        "colab": {}
      },
      "source": [
        "plt.hist(x = [data[data['Survived']==1]['Age'], data[data['Survived']==0]['Age']], \n",
        "         stacked=True, color = ['g','r'],label = ['Survived','Dead'])\n",
        "plt.title('Age Histogram by Survival')\n",
        "plt.xlabel('Age (Years)')\n",
        "plt.ylabel('# of Passengers')\n",
        "plt.legend()"
      ],
      "execution_count": 0,
      "outputs": []
    },
    {
      "cell_type": "markdown",
      "metadata": {
        "id": "_Fk7OvUIAp1C",
        "colab_type": "text"
      },
      "source": [
        "<a id = \"tips27\"></a>\n",
        "## No. 27 - To see Survival count per gender per Pclass using crosstab. 크로스 탭을 활용하여 Pclass 별 남녀별 생존자 숫자 보기 \n",
        "[Go to the Table of Contents](#table_of_contents)"
      ]
    },
    {
      "cell_type": "code",
      "metadata": {
        "trusted": true,
        "id": "gcpmHnDvAp1D",
        "colab_type": "code",
        "colab": {}
      },
      "source": [
        "pd.crosstab([train.Sex,train.Survived],train.Pclass,margins=True).style.background_gradient(cmap='summer_r')"
      ],
      "execution_count": 0,
      "outputs": []
    },
    {
      "cell_type": "markdown",
      "metadata": {
        "id": "ug6NonU_Ap1G",
        "colab_type": "text"
      },
      "source": [
        "<a id = \"tips28\"></a>\n",
        "## No. 28 - To see Age count using histogram. 히스토그램으로 Age count 보기\n",
        "[Go to the Table of Contents](#table_of_contents)"
      ]
    },
    {
      "cell_type": "code",
      "metadata": {
        "trusted": true,
        "id": "zNJUYIdZAp1H",
        "colab_type": "code",
        "colab": {}
      },
      "source": [
        "plt.hist(data['Age'], bins=40)\n",
        "plt.xlabel('Age')\n",
        "plt.ylabel('Count')\n",
        "plt.title('Distribution of Age')\n",
        "plt.show()"
      ],
      "execution_count": 0,
      "outputs": []
    },
    {
      "cell_type": "markdown",
      "metadata": {
        "id": "tyjeagXMAp1J",
        "colab_type": "text"
      },
      "source": [
        "<a id = \"tips29\"></a>\n",
        "## No. 29 - To see Survival status per age vs Pclass and sex using violin plot/ 바이올린 플롯으로 Pclass별 및 성별에서 Age별로 생존카운트 보기\n",
        "[Go to the Table of Contents](#table_of_contents)"
      ]
    },
    {
      "cell_type": "code",
      "metadata": {
        "trusted": true,
        "id": "Rd-Ow5vaAp1L",
        "colab_type": "code",
        "colab": {}
      },
      "source": [
        "f,ax=plt.subplots(1,2,figsize=(18,8))\n",
        "sns.violinplot(\"Pclass\",\"Age\", hue=\"Survived\", data=train,split=True,ax=ax[0])\n",
        "ax[0].set_title('Pclass and Age vs Survived')\n",
        "ax[0].set_yticks(range(0,110,10))\n",
        "sns.violinplot(\"Sex\",\"Age\", hue=\"Survived\", data=train,split=True,ax=ax[1])\n",
        "ax[1].set_title('Sex and Age vs Survived')\n",
        "ax[1].set_yticks(range(0,110,10))\n",
        "plt.show()"
      ],
      "execution_count": 0,
      "outputs": []
    },
    {
      "cell_type": "code",
      "metadata": {
        "trusted": true,
        "id": "GFvhPx7dAp1O",
        "colab_type": "code",
        "colab": {}
      },
      "source": [
        "data.isnull().sum()"
      ],
      "execution_count": 0,
      "outputs": []
    },
    {
      "cell_type": "code",
      "metadata": {
        "trusted": true,
        "id": "fUY7XDU8Ap1R",
        "colab_type": "code",
        "colab": {}
      },
      "source": [
        "data['LastName']=0\n",
        "for i in data:\n",
        "    data['LastName']=data.Name.str.extract('([A-Za-z]+)')\n",
        "    \n",
        "data.head()"
      ],
      "execution_count": 0,
      "outputs": []
    },
    {
      "cell_type": "markdown",
      "metadata": {
        "id": "zwazzsA6Ap1V",
        "colab_type": "text"
      },
      "source": [
        "* Filling in the NaN values\n",
        "\n",
        "* Age"
      ]
    },
    {
      "cell_type": "code",
      "metadata": {
        "trusted": true,
        "id": "RSnwc14sAp1W",
        "colab_type": "code",
        "colab": {}
      },
      "source": [
        "data = data.reset_index(drop=True)\n",
        "data['Age'] = data.groupby('Initial')['Age'].apply(lambda x: x.fillna(x.mean()))\n",
        "\n",
        "data.head()"
      ],
      "execution_count": 0,
      "outputs": []
    },
    {
      "cell_type": "markdown",
      "metadata": {
        "id": "yq1hBC1AAp1Y",
        "colab_type": "text"
      },
      "source": [
        "* Initial"
      ]
    },
    {
      "cell_type": "code",
      "metadata": {
        "trusted": true,
        "id": "7ED9nGFNAp1Z",
        "colab_type": "code",
        "colab": {}
      },
      "source": [
        "data.loc[(data.Initial.isnull()),'Initial']='Mrs'\n",
        "\n",
        "data.tail()"
      ],
      "execution_count": 0,
      "outputs": []
    },
    {
      "cell_type": "markdown",
      "metadata": {
        "id": "JJDFRwv-Ap1b",
        "colab_type": "text"
      },
      "source": [
        "* Cabin"
      ]
    },
    {
      "cell_type": "code",
      "metadata": {
        "trusted": true,
        "id": "ZLZH0CJ3Ap1c",
        "colab_type": "code",
        "colab": {}
      },
      "source": [
        "data['Inicab'] = 0\n",
        "for i in data:\n",
        "    data['Inicab']=data.Cabin.str.extract('^([A-Za-z]+)')\n",
        "    data.loc[((data.Cabin.isnull()) & (data.Pclass.values == 1 )),'Inicab']='X'\n",
        "    data.loc[((data.Cabin.isnull()) & (data.Pclass.values == 2 )),'Inicab']='Y'\n",
        "    data.loc[((data.Cabin.isnull()) & (data.Pclass.values == 3 )),'Inicab']='Z'\n",
        "    \n",
        "data.head()"
      ],
      "execution_count": 0,
      "outputs": []
    },
    {
      "cell_type": "markdown",
      "metadata": {
        "id": "mNZDHGKyAp1g",
        "colab_type": "text"
      },
      "source": [
        "* Embarked"
      ]
    },
    {
      "cell_type": "code",
      "metadata": {
        "trusted": true,
        "id": "cyTKZf8QAp1h",
        "colab_type": "code",
        "colab": {}
      },
      "source": [
        "data.loc[(data.Embarked.isnull())]"
      ],
      "execution_count": 0,
      "outputs": []
    },
    {
      "cell_type": "code",
      "metadata": {
        "trusted": true,
        "id": "68AF0-_1Ap1j",
        "colab_type": "code",
        "colab": {}
      },
      "source": [
        "data.sort_values(['Ticket'], ascending = True)[55:70]"
      ],
      "execution_count": 0,
      "outputs": []
    },
    {
      "cell_type": "code",
      "metadata": {
        "trusted": true,
        "id": "gin5v2RJAp1l",
        "colab_type": "code",
        "colab": {}
      },
      "source": [
        "data.loc[(data.Embarked.isnull()),'Embarked']='S'"
      ],
      "execution_count": 0,
      "outputs": []
    },
    {
      "cell_type": "markdown",
      "metadata": {
        "id": "sMXnMNYOAp1n",
        "colab_type": "text"
      },
      "source": [
        "* Fare"
      ]
    },
    {
      "cell_type": "code",
      "metadata": {
        "trusted": true,
        "id": "5C7uzfMrAp1n",
        "colab_type": "code",
        "colab": {}
      },
      "source": [
        "data.loc[(data.Fare.isnull())]"
      ],
      "execution_count": 0,
      "outputs": []
    },
    {
      "cell_type": "code",
      "metadata": {
        "trusted": true,
        "id": "J0LoCEPOAp1p",
        "colab_type": "code",
        "colab": {}
      },
      "source": [
        "data = data.reset_index(drop=True)\n",
        "data['Fare'] = data.groupby('Inicab')['Fare'].apply(lambda x: x.fillna(x.mean()))\n",
        "\n",
        "data[1040:1045]"
      ],
      "execution_count": 0,
      "outputs": []
    },
    {
      "cell_type": "code",
      "metadata": {
        "trusted": true,
        "id": "b9q20U5lAp1r",
        "colab_type": "code",
        "colab": {}
      },
      "source": [
        "data.isnull().sum()"
      ],
      "execution_count": 0,
      "outputs": []
    },
    {
      "cell_type": "markdown",
      "metadata": {
        "id": "VAN19H4JAp1t",
        "colab_type": "text"
      },
      "source": [
        "* Change Strings to Numbers"
      ]
    },
    {
      "cell_type": "code",
      "metadata": {
        "trusted": true,
        "id": "9GBc4eDgAp1u",
        "colab_type": "code",
        "colab": {}
      },
      "source": [
        "def facto(a):\n",
        "    for i in data:\n",
        "        data[a] = data[a].factorize()[0]    \n",
        "        \n",
        "facto('Embarked')\n",
        "facto('Sex')\n",
        "facto('Ticket')\n",
        "facto('Initial')\n",
        "facto('LastName')\n",
        "facto('Inicab')\n",
        "\n",
        "data.tail()"
      ],
      "execution_count": 0,
      "outputs": []
    },
    {
      "cell_type": "markdown",
      "metadata": {
        "id": "sVkIykg9Ap10",
        "colab_type": "text"
      },
      "source": [
        "<a id = \"tips30\"></a>\n",
        "## No. 30 - To see jointplot between 'Initial' and 'Fare'/ 조인트 플롯으로 'Initial'과 'Fare'관계 보기\n",
        "[Go to the Table of Contents](#table_of_contents)"
      ]
    },
    {
      "cell_type": "code",
      "metadata": {
        "trusted": true,
        "id": "8vNfAYOJAp11",
        "colab_type": "code",
        "colab": {}
      },
      "source": [
        "sns.jointplot(x=\"Initial\", y=\"Fare\", data=data, kind='scatter')"
      ],
      "execution_count": 0,
      "outputs": []
    },
    {
      "cell_type": "markdown",
      "metadata": {
        "id": "M3GLTTVnAp12",
        "colab_type": "text"
      },
      "source": [
        "<a id = \"tips31\"></a>\n",
        "## No. 31 - To see relplot between 'Initial' and 'LastName'/ relplot으로 'Initial'과 'LastName'관계 보기\n",
        "[Go to the Table of Contents](#table_of_contents)"
      ]
    },
    {
      "cell_type": "code",
      "metadata": {
        "trusted": true,
        "id": "qV9-DHGKAp13",
        "colab_type": "code",
        "colab": {}
      },
      "source": [
        "sns.relplot(x=\"Initial\", y=\"LastName\", hue=\"Survived\", data=data)"
      ],
      "execution_count": 0,
      "outputs": []
    },
    {
      "cell_type": "markdown",
      "metadata": {
        "id": "U8Ur1180Ap14",
        "colab_type": "text"
      },
      "source": [
        "<a id = \"tips32\"></a>\n",
        "## No. 32 - To see relplot between 'Initial' and 'Age'/ relplot으로 'Initial'과 'Age'관계 보기\n",
        "[Go to the Table of Contents](#table_of_contents)"
      ]
    },
    {
      "cell_type": "code",
      "metadata": {
        "trusted": true,
        "id": "N3zymjyHAp15",
        "colab_type": "code",
        "colab": {}
      },
      "source": [
        "sns.relplot(x=\"Initial\", y=\"Age\", hue=\"Survived\", data=data)"
      ],
      "execution_count": 0,
      "outputs": []
    },
    {
      "cell_type": "markdown",
      "metadata": {
        "id": "N8isNNlQAp17",
        "colab_type": "text"
      },
      "source": [
        "<a id = \"tips33\"></a>\n",
        "## No. 33 - To see relplot between 'LastName' and 'Fare'/ relplot으로 'LastName'과 'Fare'관계 보기\n",
        "[Go to the Table of Contents](#table_of_contents)"
      ]
    },
    {
      "cell_type": "code",
      "metadata": {
        "trusted": true,
        "id": "YtoxuwmXAp18",
        "colab_type": "code",
        "colab": {}
      },
      "source": [
        "sns.relplot(x=\"LastName\", y=\"Fare\", hue=\"Survived\", data=data)"
      ],
      "execution_count": 0,
      "outputs": []
    },
    {
      "cell_type": "markdown",
      "metadata": {
        "id": "SysKrr0VAp2A",
        "colab_type": "text"
      },
      "source": [
        "<a id = \"tips34\"></a>\n",
        "## No. 34 - To see relplot between 'LastName' and 'Ticket'/ relplot으로 'LastName'과 'Ticket'관계 보기\n",
        "[Go to the Table of Contents](#table_of_contents)"
      ]
    },
    {
      "cell_type": "code",
      "metadata": {
        "trusted": true,
        "id": "Mh7h1u2qAp2B",
        "colab_type": "code",
        "colab": {}
      },
      "source": [
        "sns.relplot(x=\"LastName\", y=\"Ticket\", hue=\"Survived\", data=data)"
      ],
      "execution_count": 0,
      "outputs": []
    },
    {
      "cell_type": "markdown",
      "metadata": {
        "id": "LpSP5Cm3Ap2E",
        "colab_type": "text"
      },
      "source": [
        "<a id = \"tips35\"></a>\n",
        "## No. 35 - To see jointplot between 'LastName' and 'Fare'/ jointplot으로 'LastName'과 'Fare'관계 보기\n",
        "[Go to the Table of Contents](#table_of_contents)"
      ]
    },
    {
      "cell_type": "code",
      "metadata": {
        "trusted": true,
        "id": "jwGhxO3KAp2G",
        "colab_type": "code",
        "colab": {}
      },
      "source": [
        "sns.jointplot(x=\"LastName\", y=\"Fare\", data=data, kind='scatter')"
      ],
      "execution_count": 0,
      "outputs": []
    },
    {
      "cell_type": "markdown",
      "metadata": {
        "id": "6izAUunVAp2K",
        "colab_type": "text"
      },
      "source": [
        "_________\n",
        "\n",
        "## Part 5 'SibSp' & 'Parch' "
      ]
    },
    {
      "cell_type": "markdown",
      "metadata": {
        "id": "4PDvnCFOAp2L",
        "colab_type": "text"
      },
      "source": [
        "<a id = \"tips36\"></a>\n",
        "## No. 36 - Plotting survival count vs Siblings or Spouse on board 배우자 및 형제자매 (SibSp)동승자 생존율 숫자로 보기\n",
        "[Go to the Table of Contents](#table_of_contents)"
      ]
    },
    {
      "cell_type": "code",
      "metadata": {
        "trusted": true,
        "id": "xEUpkW4hAp2M",
        "colab_type": "code",
        "colab": {}
      },
      "source": [
        "fig = plt.figure(figsize = (5,6))\n",
        "ax = sns.countplot(x = 'SibSp', hue = 'Survived', data = train)\n",
        "ax.set_title('Survival Rate with Total of Siblings and Spouse on Board')\n",
        "ax.set_ylim(0,500)\n",
        "ax.set_xlabel('# of Sibling and Spouse')\n",
        "ax.set_ylabel('Count')\n",
        "ax.legend(['No','Yes'],loc = 1)"
      ],
      "execution_count": 0,
      "outputs": []
    },
    {
      "cell_type": "markdown",
      "metadata": {
        "id": "L4EWeJlcAp2P",
        "colab_type": "text"
      },
      "source": [
        "<a id = \"tips37\"></a>\n",
        "## No. 37 - Plotting survival count vs Parents and Children on board 부모나 자식과 (Parch)동승자 생존율 숫자로 보기\n",
        "[Go to the Table of Contents](#table_of_contents)"
      ]
    },
    {
      "cell_type": "code",
      "metadata": {
        "trusted": true,
        "id": "nG49T4IcAp2P",
        "colab_type": "code",
        "colab": {}
      },
      "source": [
        "fig = plt.figure(figsize = (5,6))\n",
        "ax = sns.countplot(x = 'Parch', hue = 'Survived', data = train)\n",
        "ax.set_title('Survival Rate with Total Parents and Children on Board')\n",
        "ax.set_ylim(0,500)\n",
        "ax.set_xlabel('# of Parents and Children')\n",
        "ax.set_ylabel('Count')\n",
        "ax.legend(['No','Yes'],loc = 1)"
      ],
      "execution_count": 0,
      "outputs": []
    },
    {
      "cell_type": "markdown",
      "metadata": {
        "id": "3PZ2PZeuAp2S",
        "colab_type": "text"
      },
      "source": [
        "<a id = \"tips38\"></a>\n",
        "## No. 38 - Family Size Histogram by Survival 히스토그램으로 가족 크기 별 생존 확률 보기  \n",
        "[Go to the Table of Contents](#table_of_contents)"
      ]
    },
    {
      "cell_type": "code",
      "metadata": {
        "trusted": true,
        "id": "9b_u9TqWAp2S",
        "colab_type": "code",
        "colab": {}
      },
      "source": [
        "data['FamilySize']=0\n",
        "data['FamilySize']= data['SibSp']+ data['Parch'] + 1\n",
        "\n",
        "data.head()"
      ],
      "execution_count": 0,
      "outputs": []
    },
    {
      "cell_type": "code",
      "metadata": {
        "trusted": true,
        "id": "9LBkDgTsAp2U",
        "colab_type": "code",
        "colab": {}
      },
      "source": [
        "plt.hist(x = [data[data['Survived']==1]['FamilySize'], data[data['Survived']==0]['FamilySize']], \n",
        "         stacked=True, color = ['g','r'],label = ['Survived','Dead'])\n",
        "plt.title('Family Size Histogram by Survival')\n",
        "plt.xlabel('Family Size (#)')\n",
        "plt.ylabel('# of Passengers')\n",
        "plt.legend()"
      ],
      "execution_count": 0,
      "outputs": []
    },
    {
      "cell_type": "markdown",
      "metadata": {
        "id": "r61urUOdAp2X",
        "colab_type": "text"
      },
      "source": [
        "<a id = \"tips39\"></a>\n",
        "## No. 39 - SibSp by Survival using barplot and factoplot/ 바플롯이랑 팩토플롯으로 SibSp 별 생존 확률 보기  \n",
        "[Go to the Table of Contents](#table_of_contents)"
      ]
    },
    {
      "cell_type": "code",
      "metadata": {
        "trusted": true,
        "id": "_3BrNVGQAp2Y",
        "colab_type": "code",
        "colab": {}
      },
      "source": [
        "f,ax=plt.subplots(1,2,figsize=(20,8))\n",
        "sns.barplot('SibSp','Survived',data=data,ax=ax[0])\n",
        "ax[0].set_title('SibSp vs Survived')\n",
        "sns.factorplot('SibSp','Survived',data=data,ax=ax[1])\n",
        "ax[1].set_title('SibSp vs Survived')\n",
        "plt.close(2)\n",
        "plt.show()"
      ],
      "execution_count": 0,
      "outputs": []
    },
    {
      "cell_type": "markdown",
      "metadata": {
        "id": "ylusU_rCAp2b",
        "colab_type": "text"
      },
      "source": [
        "<a id = \"tips40\"></a>\n",
        "## No. 40 - To see relplot between 'Pclass' and 'FamilySize'/ relplot으로 'Pclass'와 'FamilySize'관계 보기\n",
        "[Go to the Table of Contents](#table_of_contents)"
      ]
    },
    {
      "cell_type": "code",
      "metadata": {
        "trusted": true,
        "id": "CyXjUm3FAp2b",
        "colab_type": "code",
        "colab": {}
      },
      "source": [
        "sns.relplot(x=\"Pclass\", y=\"FamilySize\", hue=\"Survived\", data=data)"
      ],
      "execution_count": 0,
      "outputs": []
    },
    {
      "cell_type": "markdown",
      "metadata": {
        "id": "2WLr13b6Ap2d",
        "colab_type": "text"
      },
      "source": [
        "_________\n",
        "\n",
        "## Part 6 'Fare' and 'Ticket'\n"
      ]
    },
    {
      "cell_type": "markdown",
      "metadata": {
        "id": "q3GjgrGmAp2d",
        "colab_type": "text"
      },
      "source": [
        "<a id = \"tips41\"></a>\n",
        "## No 41. - Fare Histogram by Survival 히스토그램으로 본 요금별 생존\n",
        "[Go to the Table of Contents](#table_of_contents)"
      ]
    },
    {
      "cell_type": "code",
      "metadata": {
        "trusted": true,
        "id": "FjE76wQKAp2e",
        "colab_type": "code",
        "colab": {}
      },
      "source": [
        "plt.hist(x = [data[data['Survived']==1]['Fare'], data[data['Survived']==0]['Fare']], \n",
        "         stacked=True, color = ['g','r'],label = ['Survived','Dead'])\n",
        "plt.title('Fare Histogram by Survival')\n",
        "plt.xlabel('Fare ($)')\n",
        "plt.ylabel('# of Passengers')\n",
        "plt.legend()"
      ],
      "execution_count": 0,
      "outputs": []
    },
    {
      "cell_type": "markdown",
      "metadata": {
        "id": "teI4BDejAp2i",
        "colab_type": "text"
      },
      "source": [
        "<a id = \"tips42\"></a>\n",
        "## No 42. - Survival numbers per Fare and Pclass using swarmplot 스왐플롯으로 본 Pclass 및 Fare로 본 생존 수\n",
        "[Go to the Table of Contents](#table_of_contents)"
      ]
    },
    {
      "cell_type": "code",
      "metadata": {
        "trusted": true,
        "id": "rHcBSoATAp2j",
        "colab_type": "code",
        "colab": {}
      },
      "source": [
        "fig = plt.figure(figsize = (10,5))\n",
        "sns.swarmplot(x=\"Pclass\", y=\"Fare\", data=train, hue='Survived')"
      ],
      "execution_count": 0,
      "outputs": []
    },
    {
      "cell_type": "markdown",
      "metadata": {
        "id": "0XFxc1oFAp2k",
        "colab_type": "text"
      },
      "source": [
        "<a id = \"tips43\"></a>\n",
        "## No. 43 - To view Fare using histogram 히스토그램을 사용하여 Fare 보기\n",
        "[Go to the Table of Contents](#table_of_contents)"
      ]
    },
    {
      "cell_type": "code",
      "metadata": {
        "trusted": true,
        "id": "ptAJMOVRAp2l",
        "colab_type": "code",
        "colab": {}
      },
      "source": [
        "plt.hist(data['Fare'], bins=40)\n",
        "plt.xlabel('Fare')\n",
        "plt.ylabel('Count')\n",
        "plt.title('Distribution of fares')\n",
        "plt.show()"
      ],
      "execution_count": 0,
      "outputs": []
    },
    {
      "cell_type": "markdown",
      "metadata": {
        "id": "OBQO0OV8Ap2m",
        "colab_type": "text"
      },
      "source": [
        "<a id = \"tips44\"></a>\n",
        "## No. 44 - To view Fare per Ticket using scatter plot 티켓 별 가격 스캐터 플롯으로 보기\n",
        "[Go to the Table of Contents](#table_of_contents)"
      ]
    },
    {
      "cell_type": "code",
      "metadata": {
        "trusted": true,
        "id": "VY2PRpr4Ap2n",
        "colab_type": "code",
        "colab": {}
      },
      "source": [
        "sns.jointplot(x=\"Ticket\", y=\"Fare\", data=data, kind='scatter')"
      ],
      "execution_count": 0,
      "outputs": []
    },
    {
      "cell_type": "markdown",
      "metadata": {
        "id": "npz1Z-Q5Ap2p",
        "colab_type": "text"
      },
      "source": [
        "<a id = \"tips45\"></a>\n",
        "## No. 45 - To view Fare per Pclass using lineplot /Pclass 별 가격 라인플롯으로 보기\n",
        "[Go to the Table of Contents](#table_of_contents)"
      ]
    },
    {
      "cell_type": "code",
      "metadata": {
        "trusted": true,
        "id": "AMzGYRvZAp2q",
        "colab_type": "code",
        "colab": {}
      },
      "source": [
        "ax = sns.lineplot(x=\"Pclass\", y=\"Fare\", hue=\"Survived\",data=data)"
      ],
      "execution_count": 0,
      "outputs": []
    },
    {
      "cell_type": "markdown",
      "metadata": {
        "id": "RvboM2IrAp2r",
        "colab_type": "text"
      },
      "source": [
        "<a id = \"tips46\"></a>\n",
        "## No. 46 - To view Ticket per Pclass using lineplot /Pclass 별 티켓 라인플롯으로 보기\n",
        "[Go to the Table of Contents](#table_of_contents)"
      ]
    },
    {
      "cell_type": "code",
      "metadata": {
        "trusted": true,
        "id": "rMBFHuO-Ap2s",
        "colab_type": "code",
        "colab": {}
      },
      "source": [
        "ax = sns.lineplot(x=\"Pclass\", y=\"Ticket\", hue=\"Survived\",data=data)"
      ],
      "execution_count": 0,
      "outputs": []
    },
    {
      "cell_type": "markdown",
      "metadata": {
        "id": "TGqHU0xbAp2t",
        "colab_type": "text"
      },
      "source": [
        "<a id = \"tips47\"></a>\n",
        "## No. 47 - To view Fare per Ticket using catplot /티켓별 가격 캣플롯으로 보기\n",
        "[Go to the Table of Contents](#table_of_contents)"
      ]
    },
    {
      "cell_type": "code",
      "metadata": {
        "trusted": true,
        "id": "K2ChZDJgAp2t",
        "colab_type": "code",
        "colab": {}
      },
      "source": [
        "sns.catplot(x=\"Ticket\", y=\"Fare\", kind=\"violin\", data=data)"
      ],
      "execution_count": 0,
      "outputs": []
    },
    {
      "cell_type": "markdown",
      "metadata": {
        "id": "oiFq34YzAp2v",
        "colab_type": "text"
      },
      "source": [
        "<a id = \"tips48\"></a>\n",
        "## No. 48 - To view Fare per Ticket using relplot /티켓별 가격 relplot으로 보기\n",
        "[Go to the Table of Contents](#table_of_contents)"
      ]
    },
    {
      "cell_type": "code",
      "metadata": {
        "trusted": true,
        "id": "_WBp02ZuAp2w",
        "colab_type": "code",
        "colab": {}
      },
      "source": [
        "sns.relplot(x=\"Fare\", y=\"Ticket\", hue=\"Survived\", data=data)"
      ],
      "execution_count": 0,
      "outputs": []
    },
    {
      "cell_type": "markdown",
      "metadata": {
        "id": "rsqBDtNuAp2x",
        "colab_type": "text"
      },
      "source": [
        "<a id = \"tips49\"></a>\n",
        "## No. 49 - To view Fare frequencies between survivors and non-survivors using kdeplot /Fare빈도 생존별로 kdeplot으로 보기\n",
        "[Go to the Table of Contents](#table_of_contents)"
      ]
    },
    {
      "cell_type": "code",
      "metadata": {
        "trusted": true,
        "id": "5q4gevgZAp2y",
        "colab_type": "code",
        "colab": {}
      },
      "source": [
        "fig = plt.figure(figsize=(12,6),)\n",
        "ax=sns.kdeplot(train.loc[(train['Survived'] == 0),'Fare'] , color='gray',shade=True,label='not survived')\n",
        "ax=sns.kdeplot(train.loc[(train['Survived'] == 1),'Fare'] , color='g',shade=True, label='survived')\n",
        "plt.title('Fare Distribution - Surviver V.S. Non Survivors', fontsize = 25, pad = 40)\n",
        "plt.xlabel(\"Fare\", fontsize = 15, labelpad = 20)\n",
        "plt.ylabel('Frequency', fontsize = 15, labelpad= 20);"
      ],
      "execution_count": 0,
      "outputs": []
    },
    {
      "cell_type": "markdown",
      "metadata": {
        "id": "En83kNrLAp2z",
        "colab_type": "text"
      },
      "source": [
        "<a id = \"tips50\"></a>\n",
        "## No. 50 - To view Ticket frequencies between survivors and non-survivors using kdeplot /Ticket 빈도 생존별로 kdeplot으로 보기\n",
        "[Go to the Table of Contents](#table_of_contents)"
      ]
    },
    {
      "cell_type": "code",
      "metadata": {
        "trusted": true,
        "id": "IRZfeCt-Ap20",
        "colab_type": "code",
        "colab": {}
      },
      "source": [
        "fig = plt.figure(figsize=(12,6),)\n",
        "ax=sns.kdeplot(data.loc[(data['Survived'] == 0),'Ticket'] , color='gray',shade=True,label='not survived')\n",
        "ax=sns.kdeplot(data.loc[(data['Survived'] == 1),'Ticket'] , color='g',shade=True, label='survived')\n",
        "plt.title('Ticket Distribution - Surviver V.S. Non Survivors', fontsize = 25, pad = 40)\n",
        "plt.xlabel(\"Ticket\", fontsize = 15, labelpad = 20)\n",
        "plt.ylabel('Frequency', fontsize = 15, labelpad= 20);"
      ],
      "execution_count": 0,
      "outputs": []
    },
    {
      "cell_type": "markdown",
      "metadata": {
        "id": "MJH4p4tWAp21",
        "colab_type": "text"
      },
      "source": [
        "------------\n",
        "\n",
        "# Part 7   'Cabin' and 'Embarked'"
      ]
    },
    {
      "cell_type": "markdown",
      "metadata": {
        "id": "lFzlzyB9Ap23",
        "colab_type": "text"
      },
      "source": [
        "<a id = \"tips51\"></a>\n",
        "## No 51. - Surval Status per Embarked 여러개의 카운트플롯으로 본 Embarked 별 생존 현황\n",
        "[Go to the Table of Contents](#table_of_contents)"
      ]
    },
    {
      "cell_type": "code",
      "metadata": {
        "trusted": true,
        "id": "08eltTGPAp24",
        "colab_type": "code",
        "colab": {}
      },
      "source": [
        "f,ax=plt.subplots(2,2,figsize=(20,15))\n",
        "sns.countplot('Embarked',data=data,ax=ax[0,0])\n",
        "ax[0,0].set_title('No. Of Passengers Boarded')\n",
        "sns.countplot('Embarked',hue='Sex',data=data,ax=ax[0,1])\n",
        "ax[0,1].set_title('Male-Female Split for Embarked')\n",
        "sns.countplot('Embarked',hue='Survived',data=data,ax=ax[1,0])\n",
        "ax[1,0].set_title('Embarked vs Survived')\n",
        "sns.countplot('Embarked',hue='Pclass',data=data,ax=ax[1,1])\n",
        "ax[1,1].set_title('Embarked vs Pclass')\n",
        "plt.subplots_adjust(wspace=0.2,hspace=0.5)\n",
        "plt.show()"
      ],
      "execution_count": 0,
      "outputs": []
    },
    {
      "cell_type": "markdown",
      "metadata": {
        "id": "FgddaHnNAp25",
        "colab_type": "text"
      },
      "source": [
        "<a id = \"tips52\"></a>\n",
        "## No 52 - Surval Status per Embarked using factorplot 팩토플롯으로 본 Embarked별 생존 현황\n",
        "[Go to the Table of Contents](#table_of_contents)"
      ]
    },
    {
      "cell_type": "code",
      "metadata": {
        "trusted": true,
        "id": "CSW-tRe7Ap27",
        "colab_type": "code",
        "colab": {}
      },
      "source": [
        "sns.factorplot('Pclass','Survived',hue='Sex',col='Embarked',data=data)\n",
        "plt.show()"
      ],
      "execution_count": 0,
      "outputs": []
    },
    {
      "cell_type": "markdown",
      "metadata": {
        "id": "afvzjA5gAp2-",
        "colab_type": "text"
      },
      "source": [
        "<a id = \"tips53\"></a>\n",
        "## No 53 - To view Fare per Embarked using vilolinplot 바이올린 플롯으로 본 Embarked별 요금 현황\n",
        "[Go to the Table of Contents](#table_of_contents)"
      ]
    },
    {
      "cell_type": "code",
      "metadata": {
        "trusted": true,
        "id": "tPcytALCAp3B",
        "colab_type": "code",
        "colab": {}
      },
      "source": [
        "sns.catplot(x=\"Embarked\", y=\"Fare\", kind=\"violin\", data=data)"
      ],
      "execution_count": 0,
      "outputs": []
    },
    {
      "cell_type": "markdown",
      "metadata": {
        "id": "DLj9ufCrAp3C",
        "colab_type": "text"
      },
      "source": [
        "<a id = \"tips54\"></a>\n",
        "## No. 54 -  Fare per Embarked using distplot. 디스트플롯으로 Embarked별 요금 보기\n",
        "[Go to the Table of Contents](#table_of_contents)"
      ]
    },
    {
      "cell_type": "code",
      "metadata": {
        "trusted": true,
        "id": "tXFKHg2EAp3D",
        "colab_type": "code",
        "colab": {}
      },
      "source": [
        "f,ax=plt.subplots(1,3,figsize=(20,8))\n",
        "sns.distplot(data[data['Embarked']== 0].Fare,ax=ax[0])\n",
        "ax[0].set_title('Fares in S')\n",
        "sns.distplot(data[data['Embarked']== 1].Fare,ax=ax[1])\n",
        "ax[1].set_title('Fares in C')\n",
        "sns.distplot(data[data['Embarked']== 2].Fare,ax=ax[2])\n",
        "ax[2].set_title('Fares in Q')\n",
        "plt.show()"
      ],
      "execution_count": 0,
      "outputs": []
    },
    {
      "cell_type": "markdown",
      "metadata": {
        "id": "7Xrgd3O8Ap3E",
        "colab_type": "text"
      },
      "source": [
        "<a id = \"tips55\"></a>\n",
        "## No. 55 -    Survival frequencies by Embarked using density plotsEmbarked별 생존자를 Density Plot으로 보기\n",
        "[Go to the Table of Contents](#table_of_contents)"
      ]
    },
    {
      "cell_type": "code",
      "metadata": {
        "trusted": true,
        "id": "d28rmGGeAp3F",
        "colab_type": "code",
        "colab": {}
      },
      "source": [
        "fig = plt.figure(figsize=(12,6),)\n",
        "ax=sns.kdeplot(data.loc[(data['Survived'] == 0),'Ticket'] , color='gray',shade=True,label='not survived')\n",
        "ax=sns.kdeplot(data.loc[(data['Survived'] == 1),'Ticket'] , color='g',shade=True, label='survived')\n",
        "plt.title('Embarked Distribution - Surviver V.S. Non Survivors', fontsize = 25, pad = 40)\n",
        "plt.xlabel(\"Embarked\", fontsize = 15, labelpad = 20)\n",
        "plt.ylabel('Frequency', fontsize = 15, labelpad= 20);"
      ],
      "execution_count": 0,
      "outputs": []
    },
    {
      "cell_type": "markdown",
      "metadata": {
        "id": "nsgY3aOdAp3H",
        "colab_type": "text"
      },
      "source": [
        "<a id = \"tips56\"></a>\n",
        "## No. 56 -  Survival Rate per Embarked Place using countplot and pointplot 카운트플롯과 포인트플롯을 사용하여 Embarked별 생존수 보기\n",
        "[Go to the Table of Contents](#table_of_contents)"
      ]
    },
    {
      "cell_type": "code",
      "metadata": {
        "trusted": true,
        "id": "gGnwcmQEAp3J",
        "colab_type": "code",
        "colab": {}
      },
      "source": [
        "fig = plt.figure(figsize = (10,10))\n",
        "ax1 = plt.subplot(2,1,1)\n",
        "ax1 = sns.countplot(x = 'Embarked', hue = 'Survived', data = train)\n",
        "ax1.set_title('Survival Rate per Embarked Place')\n",
        "ax1.set_xticklabels(['1','2','3'])\n",
        "ax1.set_ylim(0,400)\n",
        "ax1.set_xlabel('Embarked')\n",
        "ax1.set_ylabel('Count')\n",
        "ax1.legend(['No','Yes'])\n",
        "\n",
        "\n",
        "ax2 = plt.subplot(2,1,2)\n",
        "sns.pointplot(x='Embarked', y='Survived', data=train)\n",
        "ax2.set_xlabel('Embarked')\n",
        "ax2.set_ylabel('Percent Survived')\n",
        "ax2.set_title('Percentage Survived by Embarked')"
      ],
      "execution_count": 0,
      "outputs": []
    },
    {
      "cell_type": "markdown",
      "metadata": {
        "id": "6C9qEIp9Ap3L",
        "colab_type": "text"
      },
      "source": [
        "<a id = \"tips57\"></a>\n",
        "## No. 57 -  Viewing Cabins per Embarked using replot/ replot으로 Embarked 별 캐빈 보기\n",
        "[Go to the Table of Contents](#table_of_contents)"
      ]
    },
    {
      "cell_type": "code",
      "metadata": {
        "trusted": true,
        "id": "a3Yd13DQAp3M",
        "colab_type": "code",
        "colab": {}
      },
      "source": [
        "sns.relplot(x=\"Embarked\", y=\"Cabin\", hue=\"Survived\", data=data)"
      ],
      "execution_count": 0,
      "outputs": []
    },
    {
      "cell_type": "markdown",
      "metadata": {
        "id": "VvG85FxPAp3O",
        "colab_type": "text"
      },
      "source": [
        "<a id = \"tips58\"></a>\n",
        "## No. 58 -  Viewing Fares per Embarked using jointplot 조인트플롯으로 Embarked별 요금 보기\n",
        "[Go to the Table of Contents](#table_of_contents)"
      ]
    },
    {
      "cell_type": "code",
      "metadata": {
        "trusted": true,
        "id": "OmwJPaknAp3P",
        "colab_type": "code",
        "colab": {}
      },
      "source": [
        "sns.jointplot(x=\"Embarked\", y=\"Fare\", data=data, kind='scatter')"
      ],
      "execution_count": 0,
      "outputs": []
    },
    {
      "cell_type": "markdown",
      "metadata": {
        "id": "wpMi6by5Ap3R",
        "colab_type": "text"
      },
      "source": [
        "<a id = \"tips59\"></a>\n",
        "## No. 59 -  Viewing Fares per Embarked using swarmplot 스왐플롯으로 Embarked별 요금 보기\n",
        "[Go to the Table of Contents](#table_of_contents)"
      ]
    },
    {
      "cell_type": "code",
      "metadata": {
        "trusted": true,
        "id": "xfFtVrA_Ap3R",
        "colab_type": "code",
        "colab": {}
      },
      "source": [
        "fig = plt.figure(figsize = (10,5))\n",
        "sns.swarmplot(x=\"Embarked\", y=\"Fare\", data=train, hue='Survived')"
      ],
      "execution_count": 0,
      "outputs": []
    },
    {
      "cell_type": "markdown",
      "metadata": {
        "id": "zZa9v7GDAp3U",
        "colab_type": "text"
      },
      "source": [
        "<a id = \"tips60\"></a>\n",
        "## No. 60 - Viewing Cabin per Pclass using swarmplot 스왐플롯으로 Pclass별 Cabin 보기\n",
        "[Go to the Table of Contents](#table_of_contents)\n",
        "[Go to the Table of Contents](#table_of_contents)"
      ]
    },
    {
      "cell_type": "code",
      "metadata": {
        "trusted": true,
        "id": "DGuAj65sAp3V",
        "colab_type": "code",
        "colab": {}
      },
      "source": [
        "fig = plt.figure(figsize = (10,5))\n",
        "sns.swarmplot(x=\"Pclass\", y=\"Cabin\", data=train, hue='Survived')"
      ],
      "execution_count": 0,
      "outputs": []
    },
    {
      "cell_type": "markdown",
      "metadata": {
        "id": "d81tfSwnAp3X",
        "colab_type": "text"
      },
      "source": [
        "-------"
      ]
    },
    {
      "cell_type": "markdown",
      "metadata": {
        "id": "qFmgo96BAp3Y",
        "colab_type": "text"
      },
      "source": [
        "--------------\n",
        "\n",
        "# Part 8  Data Visualization in Feature Engineering "
      ]
    },
    {
      "cell_type": "markdown",
      "metadata": {
        "id": "EH39LWfTAp3Z",
        "colab_type": "text"
      },
      "source": [
        "<a id = \"tips61\"></a>\n",
        "## No. 61 -  To view the new data frame with heatmap/ Heatmap으로 새 데이터 보기\n",
        "[Go to the Table of Contents](#table_of_contents)\n"
      ]
    },
    {
      "cell_type": "code",
      "metadata": {
        "trusted": true,
        "id": "nGJ4ml8IAp3a",
        "colab_type": "code",
        "colab": {}
      },
      "source": [
        "temp = pd.DataFrame()\n",
        "\n",
        "def newdf(a,b):\n",
        "    temp[a] = data[b]\n",
        "    \n",
        "newdf('Survived', 'Survived')\n",
        "newdf('Pclass', 'Pclass')\n",
        "newdf('Name', 'Initial')\n",
        "newdf('Gender', 'Sex')\n",
        "newdf('Age', 'Age')\n",
        "newdf('Family', 'FamilySize')\n",
        "newdf('Ticket', 'Ticket')\n",
        "newdf('Fare', 'Fare')\n",
        "newdf('Cabin', 'Inicab')\n",
        "newdf('Embarked', 'Embarked')\n",
        "newdf('LastName', 'LastName')\n",
        "\n",
        "\n",
        "temp.tail()"
      ],
      "execution_count": 0,
      "outputs": []
    },
    {
      "cell_type": "code",
      "metadata": {
        "trusted": true,
        "id": "hHZU25jmAp3b",
        "colab_type": "code",
        "colab": {}
      },
      "source": [
        "g = sns.heatmap(temp.corr(),annot=True\n",
        "                , fmt = \".2f\", cmap = \"coolwarm\")"
      ],
      "execution_count": 0,
      "outputs": []
    },
    {
      "cell_type": "markdown",
      "metadata": {
        "id": "_7cv7q9yAp3d",
        "colab_type": "text"
      },
      "source": [
        "<a id = \"tips62\"></a>\n",
        "## No. 62- To view Pcalss groupby survival % and replace exisiting values with that % 각 Pclass 생존율을 보고 생존율을 기존 값 대신 넣기\n",
        "[Go to the Table of Contents](#table_of_contents)\n"
      ]
    },
    {
      "cell_type": "code",
      "metadata": {
        "trusted": true,
        "id": "E4gfx-8vAp3f",
        "colab_type": "code",
        "colab": {}
      },
      "source": [
        "temp.isnull().sum()"
      ],
      "execution_count": 0,
      "outputs": []
    },
    {
      "cell_type": "code",
      "metadata": {
        "trusted": true,
        "id": "JZh-lLUxAp3h",
        "colab_type": "code",
        "colab": {}
      },
      "source": [
        "temp.loc[(temp.Survived.isnull()) & (temp['Name'] == 0), 'Survived'] =  0.156673\n",
        "temp.loc[(temp.Survived.isnull()) & (temp['Name'] == 1), 'Survived'] =  0.792000\n",
        "temp.loc[(temp.Survived.isnull()) & (temp['Name'] == 2), 'Survived'] =  0.697802\n",
        "temp.loc[(temp.Survived.isnull()) & (temp['Name'] == 3), 'Survived'] =  0.575000\n",
        "temp.loc[(temp.Survived.isnull()) & (temp['Name'] == 4), 'Survived'] =  0.000000\n",
        "temp.loc[(temp.Survived.isnull()) & (temp['Name'] == 5), 'Survived'] =  0.000000\n",
        "temp.loc[(temp.Survived.isnull()) & (temp['Name'] == 6), 'Survived'] =  0.428571\n",
        "temp.loc[(temp.Survived.isnull()) & (temp['Name'] == 7), 'Survived'] =  1.000000\n",
        "temp.loc[(temp.Survived.isnull()) & (temp['Name'] == 8), 'Survived'] =  1.000000\n",
        "temp.loc[(temp.Survived.isnull()) & (temp['Name'] == 9), 'Survived'] =  0.500000\n",
        "temp.loc[(temp.Survived.isnull()) & (temp['Name'] == 10), 'Survived'] =  1.000000\n",
        "temp.loc[(temp.Survived.isnull()) & (temp['Name'] == 11), 'Survived'] =  1.000000\n",
        "temp.loc[(temp.Survived.isnull()) & (temp['Name'] == 12), 'Survived'] =  1.000000\n",
        "temp.loc[(temp.Survived.isnull()) & (temp['Name'] == 13), 'Survived'] =  0.500000\n",
        "temp.loc[(temp.Survived.isnull()) & (temp['Name'] == 14), 'Survived'] =  0.000000\n",
        "temp.loc[(temp.Survived.isnull()) & (temp['Name'] == 15), 'Survived'] =  1.000000\n",
        "temp.loc[(temp.Survived.isnull()) & (temp['Name'] == 16), 'Survived'] =  0.000000\n",
        "temp.loc[(temp.Survived.isnull()) & (temp['Name'] == 17), 'Survived'] =  0.792000"
      ],
      "execution_count": 0,
      "outputs": []
    },
    {
      "cell_type": "code",
      "metadata": {
        "trusted": true,
        "id": "S9c5oAkaAp3j",
        "colab_type": "code",
        "colab": {}
      },
      "source": [
        "temp.tail()"
      ],
      "execution_count": 0,
      "outputs": []
    },
    {
      "cell_type": "code",
      "metadata": {
        "trusted": true,
        "id": "4b-zbY8RAp3k",
        "colab_type": "code",
        "colab": {}
      },
      "source": [
        "temp.groupby('Pclass').Survived.mean()"
      ],
      "execution_count": 0,
      "outputs": []
    },
    {
      "cell_type": "code",
      "metadata": {
        "trusted": true,
        "id": "76juR7P7Ap3m",
        "colab_type": "code",
        "colab": {}
      },
      "source": [
        "temp['Pclass'] = temp.groupby('Pclass')['Survived'].transform('mean')\n",
        "\n",
        "temp.tail()"
      ],
      "execution_count": 0,
      "outputs": []
    },
    {
      "cell_type": "code",
      "metadata": {
        "trusted": true,
        "id": "gYjq8DL-Ap3o",
        "colab_type": "code",
        "colab": {}
      },
      "source": [
        "pd.crosstab(temp.Pclass,temp.Survived,margins=True).style.background_gradient(cmap='summer_r')"
      ],
      "execution_count": 0,
      "outputs": []
    },
    {
      "cell_type": "code",
      "metadata": {
        "trusted": true,
        "id": "CyBwWK_UAp3s",
        "colab_type": "code",
        "colab": {}
      },
      "source": [
        "temp.Pclass.isnull().any()"
      ],
      "execution_count": 0,
      "outputs": []
    },
    {
      "cell_type": "markdown",
      "metadata": {
        "id": "9k-yXQ6BAp3v",
        "colab_type": "text"
      },
      "source": [
        "<a id = \"tips63\"></a>\n",
        "## No. 63- To view Name groupby survival % and replace exisiting values with that % 각 Name 생존율을 보고 생존율을 기존 값 대신 넣기\n",
        "[Go to the Table of Contents](#table_of_contents)"
      ]
    },
    {
      "cell_type": "code",
      "metadata": {
        "trusted": true,
        "id": "EldIokIvAp3w",
        "colab_type": "code",
        "colab": {}
      },
      "source": [
        "temp.groupby('Name').Survived.mean()"
      ],
      "execution_count": 0,
      "outputs": []
    },
    {
      "cell_type": "code",
      "metadata": {
        "trusted": true,
        "id": "DMO8dc1eAp3y",
        "colab_type": "code",
        "colab": {}
      },
      "source": [
        "temp['Name'] = temp.groupby('Name')['Survived'].transform('mean')\n",
        "\n",
        "temp.tail()"
      ],
      "execution_count": 0,
      "outputs": []
    },
    {
      "cell_type": "code",
      "metadata": {
        "trusted": true,
        "id": "lFDhHnEzAp30",
        "colab_type": "code",
        "colab": {}
      },
      "source": [
        "temp.groupby('Name').Survived.mean()"
      ],
      "execution_count": 0,
      "outputs": []
    },
    {
      "cell_type": "code",
      "metadata": {
        "trusted": true,
        "id": "J9VFgX1sAp31",
        "colab_type": "code",
        "colab": {}
      },
      "source": [
        "temp.Name.isnull().any()"
      ],
      "execution_count": 0,
      "outputs": []
    },
    {
      "cell_type": "code",
      "metadata": {
        "trusted": true,
        "id": "PVAAK9A4Ap32",
        "colab_type": "code",
        "colab": {}
      },
      "source": [
        "pd.crosstab(temp.Name,temp.Survived,margins=True).style.background_gradient(cmap='summer_r')"
      ],
      "execution_count": 0,
      "outputs": []
    },
    {
      "cell_type": "markdown",
      "metadata": {
        "id": "aaBjZWrGAp34",
        "colab_type": "text"
      },
      "source": [
        "<a id = \"tips64\"></a>\n",
        "## No. 64- To view Gender groupby survival % and replace exisiting values with that % 각 성별 생존율을 보고 생존율을 기존 값 대신 넣기\n",
        "[Go to the Table of Contents](#table_of_contents)"
      ]
    },
    {
      "cell_type": "code",
      "metadata": {
        "trusted": true,
        "id": "GoTcSOu6Ap34",
        "colab_type": "code",
        "colab": {}
      },
      "source": [
        "temp.groupby('Gender').Survived.mean()"
      ],
      "execution_count": 0,
      "outputs": []
    },
    {
      "cell_type": "code",
      "metadata": {
        "trusted": true,
        "id": "1nHmbtrbAp35",
        "colab_type": "code",
        "colab": {}
      },
      "source": [
        "temp['Gender'] = temp.groupby('Gender')['Survived'].transform('mean')\n",
        "\n",
        "temp.head()"
      ],
      "execution_count": 0,
      "outputs": []
    },
    {
      "cell_type": "code",
      "metadata": {
        "trusted": true,
        "id": "ZW6UEQbpAp36",
        "colab_type": "code",
        "colab": {}
      },
      "source": [
        "temp.Gender.isnull().any()"
      ],
      "execution_count": 0,
      "outputs": []
    },
    {
      "cell_type": "code",
      "metadata": {
        "trusted": true,
        "id": "jcmBNekEAp38",
        "colab_type": "code",
        "colab": {}
      },
      "source": [
        "pd.crosstab(temp.Gender,temp.Survived,margins=True).style.background_gradient(cmap='summer_r')"
      ],
      "execution_count": 0,
      "outputs": []
    },
    {
      "cell_type": "markdown",
      "metadata": {
        "id": "Ptb2ylD_Ap3-",
        "colab_type": "text"
      },
      "source": [
        "<a id = \"tips65\"></a>\n",
        "## No. 65- To view Age groupby survival % and replace exisiting values with that % 각 나이별 생존율을 보고 생존율을 기존 값 대신 넣기\n",
        "[Go to the Table of Contents](#table_of_contents)"
      ]
    },
    {
      "cell_type": "code",
      "metadata": {
        "trusted": true,
        "id": "moOpVKA-Ap3_",
        "colab_type": "code",
        "colab": {}
      },
      "source": [
        "temp.groupby('Age').Survived.mean()"
      ],
      "execution_count": 0,
      "outputs": []
    },
    {
      "cell_type": "code",
      "metadata": {
        "trusted": true,
        "id": "1lGBeux3Ap4B",
        "colab_type": "code",
        "colab": {}
      },
      "source": [
        "temp['Age'] = temp.groupby('Age')['Survived'].transform('mean')\n",
        "\n",
        "temp.head()"
      ],
      "execution_count": 0,
      "outputs": []
    },
    {
      "cell_type": "code",
      "metadata": {
        "trusted": true,
        "id": "kYNIrFjAAp4E",
        "colab_type": "code",
        "colab": {}
      },
      "source": [
        "temp.Age.isnull().sum()"
      ],
      "execution_count": 0,
      "outputs": []
    },
    {
      "cell_type": "code",
      "metadata": {
        "trusted": true,
        "id": "6HPp-ZEeAp4H",
        "colab_type": "code",
        "colab": {}
      },
      "source": [
        "pd.crosstab(temp.Age,temp.Survived,margins=True).style.background_gradient(cmap='summer_r')"
      ],
      "execution_count": 0,
      "outputs": []
    },
    {
      "cell_type": "markdown",
      "metadata": {
        "id": "p0LNX7lHAp4K",
        "colab_type": "text"
      },
      "source": [
        "<a id = \"tips66\"></a>\n",
        "## No. 66- To view Family groupby survival % and replace exisiting values with that % 각 동승자 숫자 생존율을 보고 생존율을 기존 값 대신 넣기\n",
        "[Go to the Table of Contents](#table_of_contents)\n"
      ]
    },
    {
      "cell_type": "code",
      "metadata": {
        "trusted": true,
        "id": "bB32NGd9Ap4L",
        "colab_type": "code",
        "colab": {}
      },
      "source": [
        "temp.groupby('Family').Survived.mean()"
      ],
      "execution_count": 0,
      "outputs": []
    },
    {
      "cell_type": "code",
      "metadata": {
        "trusted": true,
        "id": "rrpDZFkhAp4N",
        "colab_type": "code",
        "colab": {}
      },
      "source": [
        "temp['Family'] = temp.groupby('Family')['Survived'].transform('mean')\n",
        "\n",
        "temp.tail()"
      ],
      "execution_count": 0,
      "outputs": []
    },
    {
      "cell_type": "code",
      "metadata": {
        "trusted": true,
        "id": "tWwMPh_kAp4P",
        "colab_type": "code",
        "colab": {}
      },
      "source": [
        "temp.Family.isnull().any()"
      ],
      "execution_count": 0,
      "outputs": []
    },
    {
      "cell_type": "code",
      "metadata": {
        "trusted": true,
        "id": "t0Cagr6jAp4Q",
        "colab_type": "code",
        "colab": {}
      },
      "source": [
        "pd.crosstab(temp.Family,temp.Survived,margins=True).style.background_gradient(cmap='summer_r')"
      ],
      "execution_count": 0,
      "outputs": []
    },
    {
      "cell_type": "markdown",
      "metadata": {
        "id": "DRTmxAFGAp4T",
        "colab_type": "text"
      },
      "source": [
        "<a id = \"tips67\"></a>\n",
        "## No. 67- To view Ticket groupby survival % and replace exisiting values with that % 각 티켓별 생존율을 보고 생존율을 기존 값 대신 넣기\n",
        "[Go to the Table of Contents](#table_of_contents)\n"
      ]
    },
    {
      "cell_type": "code",
      "metadata": {
        "trusted": true,
        "id": "egwY5sF6Ap4U",
        "colab_type": "code",
        "colab": {}
      },
      "source": [
        "temp.groupby('Ticket').Survived.mean()"
      ],
      "execution_count": 0,
      "outputs": []
    },
    {
      "cell_type": "code",
      "metadata": {
        "trusted": true,
        "id": "3Rsu6WPAAp4a",
        "colab_type": "code",
        "colab": {}
      },
      "source": [
        "temp['Ticket'] = temp.groupby('Ticket')['Survived'].transform('mean')\n",
        "\n",
        "temp.tail()"
      ],
      "execution_count": 0,
      "outputs": []
    },
    {
      "cell_type": "code",
      "metadata": {
        "trusted": true,
        "id": "7O19RlcRAp4d",
        "colab_type": "code",
        "colab": {}
      },
      "source": [
        "temp.Ticket.isnull().sum()"
      ],
      "execution_count": 0,
      "outputs": []
    },
    {
      "cell_type": "code",
      "metadata": {
        "trusted": true,
        "id": "JW0MOcxjAp4h",
        "colab_type": "code",
        "colab": {}
      },
      "source": [
        "pd.crosstab(temp.Ticket,temp.Survived,margins=True).style.background_gradient(cmap='summer_r')"
      ],
      "execution_count": 0,
      "outputs": []
    },
    {
      "cell_type": "markdown",
      "metadata": {
        "id": "DabPUr2eAp4l",
        "colab_type": "text"
      },
      "source": [
        "<a id = \"tips68\"></a>\n",
        "## No. 68- To view Fare groupby survival % and replace exisiting values with that % 각 요금별 생존율을 보고 생존율을 기존 값 대신 넣기\n",
        "[Go to the Table of Contents](#table_of_contents)\n"
      ]
    },
    {
      "cell_type": "code",
      "metadata": {
        "trusted": true,
        "id": "_p06JFj3Ap4m",
        "colab_type": "code",
        "colab": {}
      },
      "source": [
        "temp.groupby('Fare').Survived.mean()"
      ],
      "execution_count": 0,
      "outputs": []
    },
    {
      "cell_type": "code",
      "metadata": {
        "trusted": true,
        "id": "Q_PXTe59Ap4n",
        "colab_type": "code",
        "colab": {}
      },
      "source": [
        "temp['Fare'] = temp.groupby('Fare')['Survived'].transform('mean')\n",
        "\n",
        "temp.tail()"
      ],
      "execution_count": 0,
      "outputs": []
    },
    {
      "cell_type": "code",
      "metadata": {
        "trusted": true,
        "id": "OiPgvepDAp4q",
        "colab_type": "code",
        "colab": {}
      },
      "source": [
        "temp.Fare.isnull().sum()"
      ],
      "execution_count": 0,
      "outputs": []
    },
    {
      "cell_type": "code",
      "metadata": {
        "trusted": true,
        "id": "xIc91hnkAp4t",
        "colab_type": "code",
        "colab": {}
      },
      "source": [
        "pd.crosstab(temp.Fare,temp.Survived,margins=True).style.background_gradient(cmap='summer_r')"
      ],
      "execution_count": 0,
      "outputs": []
    },
    {
      "cell_type": "markdown",
      "metadata": {
        "id": "7sgAxyy4Ap4v",
        "colab_type": "text"
      },
      "source": [
        "<a id = \"tips69\"></a>\n",
        "## No. 69- To view Cabin groupby survival % and replace exisiting values with that % 각 요금별 생존율을 보고 생존율을 기존 값 대신 넣기\n",
        "[Go to the Table of Contents](#table_of_contents)\n"
      ]
    },
    {
      "cell_type": "code",
      "metadata": {
        "trusted": true,
        "id": "g_cmnD34Ap4w",
        "colab_type": "code",
        "colab": {}
      },
      "source": [
        "temp.groupby('Cabin').Survived.mean()\n"
      ],
      "execution_count": 0,
      "outputs": []
    },
    {
      "cell_type": "code",
      "metadata": {
        "trusted": true,
        "id": "laMaIXc3Ap4x",
        "colab_type": "code",
        "colab": {}
      },
      "source": [
        "temp['Cabin'] = temp.groupby('Cabin')['Survived'].transform('mean')\n",
        "\n",
        "temp.head()"
      ],
      "execution_count": 0,
      "outputs": []
    },
    {
      "cell_type": "code",
      "metadata": {
        "trusted": true,
        "id": "G5AXMmikAp4z",
        "colab_type": "code",
        "colab": {}
      },
      "source": [
        "temp.loc[(temp.Cabin.isnull())]"
      ],
      "execution_count": 0,
      "outputs": []
    },
    {
      "cell_type": "code",
      "metadata": {
        "trusted": true,
        "id": "6hCtRxqrAp45",
        "colab_type": "code",
        "colab": {}
      },
      "source": [
        "pd.crosstab(temp.Cabin,temp.Survived,margins=True).style.background_gradient(cmap='summer_r')"
      ],
      "execution_count": 0,
      "outputs": []
    },
    {
      "cell_type": "markdown",
      "metadata": {
        "id": "MzRTBsjAAp46",
        "colab_type": "text"
      },
      "source": [
        "<a id = \"tips70\"></a>\n",
        "## No. 70- To view Embarked groupby survival % and replace exisiting values with that % 각 승선 장소별 생존율을 보고 생존율을 기존 값 대신 넣기\n",
        "[Go to the Table of Contents](#table_of_contents)\n"
      ]
    },
    {
      "cell_type": "code",
      "metadata": {
        "trusted": true,
        "id": "zCrJg8s5Ap47",
        "colab_type": "code",
        "colab": {}
      },
      "source": [
        "temp.groupby('Embarked').Survived.mean()"
      ],
      "execution_count": 0,
      "outputs": []
    },
    {
      "cell_type": "code",
      "metadata": {
        "trusted": true,
        "id": "XXa4WujtAp48",
        "colab_type": "code",
        "colab": {}
      },
      "source": [
        "temp['Embarked'] = temp.groupby('Embarked')['Survived'].transform('mean')\n",
        "\n",
        "temp"
      ],
      "execution_count": 0,
      "outputs": []
    },
    {
      "cell_type": "code",
      "metadata": {
        "trusted": true,
        "id": "DCuB_sGkAp4-",
        "colab_type": "code",
        "colab": {}
      },
      "source": [
        "temp.loc[(temp.Embarked.isnull())]"
      ],
      "execution_count": 0,
      "outputs": []
    },
    {
      "cell_type": "code",
      "metadata": {
        "trusted": true,
        "id": "shuGW0vSAp5C",
        "colab_type": "code",
        "colab": {}
      },
      "source": [
        "pd.crosstab(temp.Embarked,temp.Survived,margins=True).style.background_gradient(cmap='summer_r')"
      ],
      "execution_count": 0,
      "outputs": []
    },
    {
      "cell_type": "markdown",
      "metadata": {
        "id": "mrix_fU1Ap5M",
        "colab_type": "text"
      },
      "source": [
        "<a id = \"tips71\"></a>\n",
        "## No. 71- To view LastName groupby survival % and replace exisiting values with that % 각 Last Name별 생존율을 보고 생존율을 기존 값 대신 넣기\n",
        "[Go to the Table of Contents](#table_of_contents)"
      ]
    },
    {
      "cell_type": "code",
      "metadata": {
        "trusted": true,
        "id": "SWN74oCLAp5N",
        "colab_type": "code",
        "colab": {}
      },
      "source": [
        "temp.groupby('LastName').Survived.mean()"
      ],
      "execution_count": 0,
      "outputs": []
    },
    {
      "cell_type": "code",
      "metadata": {
        "trusted": true,
        "id": "a3Cgc_slAp5Q",
        "colab_type": "code",
        "colab": {}
      },
      "source": [
        "temp['LastName'] = temp.groupby('LastName')['Survived'].transform('mean')\n",
        "\n",
        "temp"
      ],
      "execution_count": 0,
      "outputs": []
    },
    {
      "cell_type": "code",
      "metadata": {
        "trusted": true,
        "id": "vGcsPJlqAp5V",
        "colab_type": "code",
        "colab": {}
      },
      "source": [
        "temp.isnull().any()"
      ],
      "execution_count": 0,
      "outputs": []
    },
    {
      "cell_type": "code",
      "metadata": {
        "trusted": true,
        "id": "6If4wPfiAp5b",
        "colab_type": "code",
        "colab": {}
      },
      "source": [
        "pd.crosstab(temp.LastName,temp.Survived,margins=True).style.background_gradient(cmap='summer_r')"
      ],
      "execution_count": 0,
      "outputs": []
    },
    {
      "cell_type": "markdown",
      "metadata": {
        "id": "_6KQMVN_Ap5j",
        "colab_type": "text"
      },
      "source": [
        "<a id = \"tips72\"></a>\n",
        "## No. 72- To view one on one graphs between features using pairplot/  Pairplot으로 본 각 항목당의 1:1 그래프 보기\n",
        "[Go to the Table of Contents](#table_of_contents)"
      ]
    },
    {
      "cell_type": "code",
      "metadata": {
        "trusted": true,
        "id": "XqYo1or4Ap5j",
        "colab_type": "code",
        "colab": {}
      },
      "source": [
        "sns.pairplot(temp)"
      ],
      "execution_count": 0,
      "outputs": []
    },
    {
      "cell_type": "markdown",
      "metadata": {
        "id": "jy7_qAdeAp5m",
        "colab_type": "text"
      },
      "source": [
        "<a id = \"tips73\"></a>\n",
        "## No. 73- To view one on one graphs between features using pairgrid/  Pairgrid로 본 각 항목당의 1:1 그래프 보기\n",
        "[Go to the Table of Contents](#table_of_contents)"
      ]
    },
    {
      "cell_type": "code",
      "metadata": {
        "trusted": true,
        "id": "N76VSHe-Ap5n",
        "colab_type": "code",
        "colab": {}
      },
      "source": [
        "g = sns.PairGrid(temp)\n",
        "g.map_diag(sns.kdeplot)\n",
        "g.map_offdiag(sns.kdeplot, n_levels=6);"
      ],
      "execution_count": 0,
      "outputs": []
    },
    {
      "cell_type": "markdown",
      "metadata": {
        "id": "KrBmTKIeAp5o",
        "colab_type": "text"
      },
      "source": [
        "<a id = \"tips74\"></a>\n",
        "## No. 74 -  Overall Correlation of Final Features / Heatmap으로 본 항목들의 전체적 상관관계 보기\n",
        "[Go to the Table of Contents](#table_of_contents)"
      ]
    },
    {
      "cell_type": "code",
      "metadata": {
        "trusted": true,
        "id": "zporbJ7OAp5p",
        "colab_type": "code",
        "colab": {}
      },
      "source": [
        "df = pd.DataFrame()\n",
        "\n",
        "def new(a):\n",
        "    df[a] = temp[a]\n",
        "    \n",
        "new('Pclass')\n",
        "new('Name')\n",
        "new('Gender')\n",
        "new('Age')\n",
        "new('Family')\n",
        "new('Ticket')\n",
        "new('Fare')\n",
        "new('Cabin')\n",
        "new('Embarked')\n",
        "new('LastName')\n",
        "\n",
        "\n",
        "df.head()"
      ],
      "execution_count": 0,
      "outputs": []
    },
    {
      "cell_type": "code",
      "metadata": {
        "trusted": true,
        "id": "mYhcQSdUAp5r",
        "colab_type": "code",
        "colab": {}
      },
      "source": [
        "df['Mean']=0\n",
        "\n",
        "for i in df:\n",
        "    df['Mean']=df.mean(axis=1)\n",
        "    \n",
        "df.head()"
      ],
      "execution_count": 0,
      "outputs": []
    },
    {
      "cell_type": "code",
      "metadata": {
        "trusted": true,
        "id": "-KDVKC8SAp5w",
        "colab_type": "code",
        "colab": {}
      },
      "source": [
        "df['Highest']=0\n",
        "\n",
        "for i in df:\n",
        "    df['Highest']=df.max(axis=1)\n",
        "    \n",
        "df.head()"
      ],
      "execution_count": 0,
      "outputs": []
    },
    {
      "cell_type": "code",
      "metadata": {
        "trusted": true,
        "id": "sFyc9ItoAp5y",
        "colab_type": "code",
        "colab": {}
      },
      "source": [
        "df['Lowest']=1\n",
        "\n",
        "for i in df:\n",
        "    df['Lowest']=df.min(axis=1)\n",
        "    \n",
        "df.head()"
      ],
      "execution_count": 0,
      "outputs": []
    },
    {
      "cell_type": "code",
      "metadata": {
        "trusted": true,
        "id": "1A9Bvl4QAp50",
        "colab_type": "code",
        "colab": {}
      },
      "source": [
        "df['Social']=0\n",
        "\n",
        "for i in df:\n",
        "    df['Social']=(df['Name']+df['Gender']+df['Age']+df['Family'])/4\n",
        "    \n",
        "df.head(10)"
      ],
      "execution_count": 0,
      "outputs": []
    },
    {
      "cell_type": "code",
      "metadata": {
        "trusted": true,
        "id": "bTTqn4NKAp52",
        "colab_type": "code",
        "colab": {}
      },
      "source": [
        "df['Wealth']=0\n",
        "\n",
        "for i in df:\n",
        "    df['Wealth']=(df['Pclass']+df['Ticket']+df['Fare']+df['Cabin'])/4\n",
        "    \n",
        "df.head(10)"
      ],
      "execution_count": 0,
      "outputs": []
    },
    {
      "cell_type": "code",
      "metadata": {
        "trusted": true,
        "id": "VleWMNhyAp55",
        "colab_type": "code",
        "colab": {}
      },
      "source": [
        "df['LowIndex'] = 1\n",
        "\n",
        "for i in df:\n",
        "    df['LowIndex']=(df['Lowest']+df['Mean'])/2\n",
        "    \n",
        "df.head(10)"
      ],
      "execution_count": 0,
      "outputs": []
    },
    {
      "cell_type": "code",
      "metadata": {
        "trusted": true,
        "id": "z-IubBdLAp56",
        "colab_type": "code",
        "colab": {}
      },
      "source": [
        "df['HighIndex'] = 0\n",
        "\n",
        "for i in df:\n",
        "    df['HighIndex']=(df['Highest']+df['Mean'])/2\n",
        "    \n",
        "df.head(10)"
      ],
      "execution_count": 0,
      "outputs": []
    },
    {
      "cell_type": "code",
      "metadata": {
        "trusted": true,
        "id": "KZG26Zt7Ap6A",
        "colab_type": "code",
        "colab": {}
      },
      "source": [
        "df['Diff'] = 0\n",
        "\n",
        "for i in df:\n",
        "    df['Diff']=df['Highest']- df['Lowest']\n",
        "    \n",
        "df.head()"
      ],
      "execution_count": 0,
      "outputs": []
    },
    {
      "cell_type": "code",
      "metadata": {
        "trusted": true,
        "id": "CpQP6YFvAp6B",
        "colab_type": "code",
        "colab": {}
      },
      "source": [
        "corr = df.corr()\n",
        "mask = np.zeros_like(corr, dtype=np.bool)\n",
        "mask[np.triu_indices_from(mask)] = True\n",
        "plt.figure(figsize=(14, 8))\n",
        "plt.title('Overall Correlation of Final Features', fontsize=18)\n",
        "sns.heatmap(corr, mask=mask, annot=False,cmap='RdYlGn', linewidths=0.2, annot_kws={'size':20})\n",
        "plt.show()"
      ],
      "execution_count": 0,
      "outputs": []
    },
    {
      "cell_type": "markdown",
      "metadata": {
        "id": "n5FfzPgEAp6E",
        "colab_type": "text"
      },
      "source": [
        "# Part 9 Machine Learning"
      ]
    },
    {
      "cell_type": "markdown",
      "metadata": {
        "id": "CQvAZCqiAp6E",
        "colab_type": "text"
      },
      "source": [
        "<a id = \"tips75\"></a>\n",
        "## No. 75 - Viewing accurcacy table for the initial model 최초 모델 정확도 표 보기 \n",
        "[Go to the Table of Contents](#table_of_contents)\n"
      ]
    },
    {
      "cell_type": "code",
      "metadata": {
        "trusted": true,
        "id": "swwSZDI6Ap6F",
        "colab_type": "code",
        "colab": {}
      },
      "source": [
        "dfl = pd.DataFrame()\n",
        "\n",
        "def new1(a):\n",
        "    dfl[a] = data[a]\n",
        "    \n",
        "new1('Pclass')\n",
        "new1('Initial')\n",
        "new1('Sex')\n",
        "new1('Age')\n",
        "new1('FamilySize')\n",
        "new1('Ticket')\n",
        "new1('Fare')\n",
        "new1('LastName')\n",
        "\n",
        "\n",
        "def new2(a):\n",
        "    dfl[a] = df[a]\n",
        "\n",
        "new2('Highest')\n",
        "new2('Social')\n",
        "new2('Wealth')\n",
        "new2('Lowest')\n",
        "new2('Diff')\n",
        "new2('Mean')\n",
        "        \n",
        "dfl"
      ],
      "execution_count": 0,
      "outputs": []
    },
    {
      "cell_type": "code",
      "metadata": {
        "trusted": true,
        "id": "e2Tbl-97Ap6G",
        "colab_type": "code",
        "colab": {}
      },
      "source": [
        "dfl.isnull().sum()"
      ],
      "execution_count": 0,
      "outputs": []
    },
    {
      "cell_type": "code",
      "metadata": {
        "trusted": true,
        "id": "rDbKDK9mAp6I",
        "colab_type": "code",
        "colab": {}
      },
      "source": [
        "ntrain = train.shape[0]\n",
        "ntest = test.shape[0]\n",
        "y_train = train['Survived'].values\n",
        "passId = test['PassengerId']"
      ],
      "execution_count": 0,
      "outputs": []
    },
    {
      "cell_type": "code",
      "metadata": {
        "trusted": true,
        "id": "ocnXQ-_5Ap6K",
        "colab_type": "code",
        "colab": {}
      },
      "source": [
        "from sklearn.preprocessing import LabelEncoder\n",
        "from sklearn.preprocessing import StandardScaler\n",
        "from sklearn.neighbors import KNeighborsClassifier\n",
        "from sklearn.linear_model import LogisticRegression\n",
        "from sklearn.ensemble import RandomForestClassifier\n",
        "from sklearn.svm import SVC\n",
        "from xgboost import XGBClassifier\n",
        "from sklearn.ensemble import GradientBoostingClassifier\n",
        "from sklearn.ensemble import ExtraTreesClassifier\n",
        "from sklearn.ensemble import AdaBoostClassifier\n",
        "from sklearn.gaussian_process import GaussianProcessClassifier\n",
        "from sklearn.naive_bayes import GaussianNB\n",
        "from sklearn.ensemble import BaggingClassifier\n",
        "from sklearn.ensemble import VotingClassifier\n",
        "\n",
        "\n",
        "from sklearn.model_selection import cross_val_score\n",
        "from sklearn.model_selection import GridSearchCV\n",
        "from sklearn.model_selection import cross_val_predict\n",
        "from sklearn import model_selection"
      ],
      "execution_count": 0,
      "outputs": []
    },
    {
      "cell_type": "code",
      "metadata": {
        "trusted": true,
        "id": "X7zfiESyAp6L",
        "colab_type": "code",
        "colab": {}
      },
      "source": [
        "dfl_enc = dfl.apply(LabelEncoder().fit_transform)\n",
        "                          \n",
        "dfl_enc.head()"
      ],
      "execution_count": 0,
      "outputs": []
    },
    {
      "cell_type": "code",
      "metadata": {
        "trusted": true,
        "id": "fvu80MD0Ap6M",
        "colab_type": "code",
        "colab": {}
      },
      "source": [
        "train = dfl_enc[:ntrain]\n",
        "test = dfl_enc[ntrain:]"
      ],
      "execution_count": 0,
      "outputs": []
    },
    {
      "cell_type": "code",
      "metadata": {
        "trusted": true,
        "id": "-dBNLadEAp6Q",
        "colab_type": "code",
        "colab": {}
      },
      "source": [
        "len(train)"
      ],
      "execution_count": 0,
      "outputs": []
    },
    {
      "cell_type": "code",
      "metadata": {
        "trusted": true,
        "id": "VFOet7c-Ap6S",
        "colab_type": "code",
        "colab": {}
      },
      "source": [
        "len(test)"
      ],
      "execution_count": 0,
      "outputs": []
    },
    {
      "cell_type": "code",
      "metadata": {
        "trusted": true,
        "id": "Xn51es-jAp6V",
        "colab_type": "code",
        "colab": {}
      },
      "source": [
        "X_test = test\n",
        "X_train = train"
      ],
      "execution_count": 0,
      "outputs": []
    },
    {
      "cell_type": "code",
      "metadata": {
        "trusted": true,
        "id": "isx09rKiAp6X",
        "colab_type": "code",
        "colab": {}
      },
      "source": [
        "scaler = StandardScaler()\n",
        "X_train = scaler.fit_transform(X_train)\n",
        "X_test = scaler.transform(X_test)"
      ],
      "execution_count": 0,
      "outputs": []
    },
    {
      "cell_type": "code",
      "metadata": {
        "trusted": true,
        "id": "Oxr2cZFqAp6b",
        "colab_type": "code",
        "colab": {}
      },
      "source": [
        "ran = RandomForestClassifier(random_state=1)\n",
        "knn = KNeighborsClassifier()\n",
        "log = LogisticRegression()\n",
        "xgb = XGBClassifier()\n",
        "gbc = GradientBoostingClassifier()\n",
        "svc = SVC(probability=True)\n",
        "ext = ExtraTreesClassifier()\n",
        "ada = AdaBoostClassifier()\n",
        "gnb = GaussianNB()\n",
        "gpc = GaussianProcessClassifier()\n",
        "bag = BaggingClassifier()\n",
        "\n",
        "# Prepare lists\n",
        "models = [ran, knn, log, xgb, gbc, svc, ext, ada, gnb, gpc, bag]         \n",
        "scores = []\n",
        "\n",
        "# Sequentially fit and cross validate all models\n",
        "for mod in models:\n",
        "    mod.fit(X_train, y_train)\n",
        "    acc = cross_val_score(mod, X_train, y_train, scoring = \"accuracy\", cv = 10)\n",
        "    scores.append(acc.mean())"
      ],
      "execution_count": 0,
      "outputs": []
    },
    {
      "cell_type": "code",
      "metadata": {
        "trusted": true,
        "id": "M7Am275vAp6c",
        "colab_type": "code",
        "colab": {}
      },
      "source": [
        "# 결과 테이블을 만듭니다.\n",
        "results = pd.DataFrame({\n",
        "    'Model': ['Random Forest', 'K Nearest Neighbour', 'Logistic Regression', 'XGBoost', 'Gradient Boosting', 'SVC', 'Extra Trees', 'AdaBoost', 'Gaussian Naive Bayes', 'Gaussian Process', 'Bagging Classifier'],\n",
        "    'Score': scores})\n",
        "\n",
        "result_df = results.sort_values(by='Score', ascending=False).reset_index(drop=True)\n",
        "result_df.head(11)"
      ],
      "execution_count": 0,
      "outputs": []
    },
    {
      "cell_type": "markdown",
      "metadata": {
        "id": "2ojoGXUSAp6f",
        "colab_type": "text"
      },
      "source": [
        "<a id = \"tips76\"></a>\n",
        "## No. 76 -    Viewing accurcacy plot for the initial model 최초 모델 정확도 그래프 보기\n",
        "[Go to the Table of Contents](#table_of_contents)"
      ]
    },
    {
      "cell_type": "code",
      "metadata": {
        "trusted": true,
        "id": "w-ffjClKAp6f",
        "colab_type": "code",
        "colab": {}
      },
      "source": [
        "# Plot results\n",
        "sns.barplot(x='Score', y = 'Model', data = result_df, color = 'c')\n",
        "plt.title('Machine Learning Algorithm Accuracy Score \\n')\n",
        "plt.xlabel('Accuracy Score (%)')\n",
        "plt.ylabel('Algorithm')\n",
        "plt.xlim(0.85, 0.99)"
      ],
      "execution_count": 0,
      "outputs": []
    },
    {
      "cell_type": "markdown",
      "metadata": {
        "id": "hSPM5dyFAp6g",
        "colab_type": "text"
      },
      "source": [
        "<a id = \"tips77\"></a>\n",
        "## No. 77 -    Viewing importance plot for XGB / XGB 중요도 그래프 보기\n",
        "[Go to the Table of Contents](#table_of_contents)"
      ]
    },
    {
      "cell_type": "code",
      "metadata": {
        "trusted": true,
        "id": "EbnTWWR6Ap6h",
        "colab_type": "code",
        "colab": {}
      },
      "source": [
        "# 중요도를 보는 함수를 만듭니다.\n",
        "def importance_plotting(data, x, y, palette, title):\n",
        "    sns.set(style=\"whitegrid\")\n",
        "    ft = sns.PairGrid(data, y_vars=y, x_vars=x, size=5, aspect=1.5)\n",
        "    ft.map(sns.stripplot, orient='h', palette=palette, edgecolor=\"black\", size=15)\n",
        "    \n",
        "    for ax, title in zip(ft.axes.flat, titles):\n",
        "    # 각 그래프마다 새로운 타이틀을 줍니다.\n",
        "        ax.set(title=title)\n",
        "    # 그래프를 바로 세워 봅니다.\n",
        "        ax.xaxis.grid(False)\n",
        "        ax.yaxis.grid(True)\n",
        "    plt.show()"
      ],
      "execution_count": 0,
      "outputs": []
    },
    {
      "cell_type": "code",
      "metadata": {
        "trusted": true,
        "id": "p50FiMIbAp6j",
        "colab_type": "code",
        "colab": {}
      },
      "source": [
        "# 데이터 프레임에 항목 중요도를 넣습니다.\n",
        "fi = {'Features':train.columns.tolist(), 'Importance':xgb.feature_importances_}\n",
        "importance = pd.DataFrame(fi, index=None).sort_values('Importance', ascending=False)"
      ],
      "execution_count": 0,
      "outputs": []
    },
    {
      "cell_type": "code",
      "metadata": {
        "trusted": true,
        "id": "D8iA2kEsAp6l",
        "colab_type": "code",
        "colab": {}
      },
      "source": [
        "# 그래프 제목\n",
        "titles = ['The most important features in predicting survival on the Titanic: XGB']\n",
        "\n",
        "# 그래프 그리기\n",
        "importance_plotting(importance, 'Importance', 'Features', 'Reds_r', titles)"
      ],
      "execution_count": 0,
      "outputs": []
    },
    {
      "cell_type": "markdown",
      "metadata": {
        "id": "YvlLdrlJAp6n",
        "colab_type": "text"
      },
      "source": [
        "<a id = \"tips78\"></a>\n",
        "## No. 78 -    Viewing importance table for LR / LR 중요도 표 보기\n",
        "[Go to the Table of Contents](#table_of_contents)"
      ]
    },
    {
      "cell_type": "code",
      "metadata": {
        "trusted": true,
        "id": "Y_W6_1h_Ap6n",
        "colab_type": "code",
        "colab": {}
      },
      "source": [
        "# 중요도를 데이터프레임에 넣습니다. Logistic regression에서는 중요도보다 coefficients를 사용합니다. \n",
        "# 아래는 Features라는 열에 트레인의 열들의 이름을 리스트로 만들어서 넣고 Importance에는 Logistic regression에는 coefficient를 바꾸어 넣어라는 넘파이 명령입니다.(즉 가로를 세로로)\n",
        "fi = {'Features':train.columns.tolist(), 'Importance':np.transpose(log.coef_[0])}\n",
        "importance = pd.DataFrame(fi, index=None).sort_values('Importance', ascending=False)\n",
        "\n",
        "\n",
        "importance"
      ],
      "execution_count": 0,
      "outputs": []
    },
    {
      "cell_type": "markdown",
      "metadata": {
        "id": "jbOwJZ38Ap6p",
        "colab_type": "text"
      },
      "source": [
        "<a id = \"tips79\"></a>\n",
        "## No. 79 -    Viewing importance plot for LR / LR 중요도 그래프 보기\n",
        "[Go to the Table of Contents](#table_of_contents)"
      ]
    },
    {
      "cell_type": "code",
      "metadata": {
        "trusted": true,
        "id": "U4VrdmJNAp6q",
        "colab_type": "code",
        "colab": {}
      },
      "source": [
        "# 그래프 타이틀\n",
        "titles = ['The most important features in predicting survival on the Titanic: Logistic Regression']\n",
        "\n",
        "# 그래프 그리기\n",
        "importance_plotting(importance, 'Importance', 'Features', 'Reds_r', titles)"
      ],
      "execution_count": 0,
      "outputs": []
    },
    {
      "cell_type": "markdown",
      "metadata": {
        "id": "1IR42OFEAp6r",
        "colab_type": "text"
      },
      "source": [
        "<a id = \"tips80\"></a>\n",
        "## No. 80 -   Viewing importance table for 5 models / 5개모델 중요도 표 보기\n",
        "[Go to the Table of Contents](#table_of_contents)"
      ]
    },
    {
      "cell_type": "code",
      "metadata": {
        "trusted": true,
        "id": "BR7O1qz1Ap6r",
        "colab_type": "code",
        "colab": {}
      },
      "source": [
        "# 5가지 모델에 대한 항목 중요도 얻기\n",
        "gbc_imp = pd.DataFrame({'Feature':train.columns, 'gbc importance':gbc.feature_importances_})\n",
        "xgb_imp = pd.DataFrame({'Feature':train.columns, 'xgb importance':xgb.feature_importances_})\n",
        "ran_imp = pd.DataFrame({'Feature':train.columns, 'ran importance':ran.feature_importances_})\n",
        "ext_imp = pd.DataFrame({'Feature':train.columns, 'ext importance':ext.feature_importances_})\n",
        "ada_imp = pd.DataFrame({'Feature':train.columns, 'ada importance':ada.feature_importances_})\n",
        "\n",
        "# 이를 하나의 데이터프레임으로\n",
        "importances = gbc_imp.merge(xgb_imp, on='Feature').merge(ran_imp, on='Feature').merge(ext_imp, on='Feature').merge(ada_imp, on='Feature')\n",
        "\n",
        "# 항목당 평균 중요도\n",
        "importances['Average'] = importances.mean(axis=1)\n",
        "\n",
        "# 랭킹 정하기\n",
        "importances = importances.sort_values(by='Average', ascending=False).reset_index(drop=True)\n",
        "\n",
        "# 보기\n",
        "importances"
      ],
      "execution_count": 0,
      "outputs": []
    },
    {
      "cell_type": "markdown",
      "metadata": {
        "id": "8TISoRKeAp6t",
        "colab_type": "text"
      },
      "source": [
        "<a id = \"tips81\"></a>\n",
        "## No. 81 -    Viewing importance plot for 5 models / 5개모델 중요도 그래프 보기 \n",
        "[Go to the Table of Contents](#table_of_contents)"
      ]
    },
    {
      "cell_type": "code",
      "metadata": {
        "trusted": true,
        "id": "5vzhUOg0Ap6t",
        "colab_type": "code",
        "colab": {}
      },
      "source": [
        "# 중요도를 다시 데이터 프레임에 넣기\n",
        "fi = {'Features':importances['Feature'], 'Importance':importances['Average']}\n",
        "importance = pd.DataFrame(fi, index=None).sort_values('Importance', ascending=False)\n",
        "\n",
        "\n",
        "# 그래프 타이틀\n",
        "titles = ['The most important features in predicting survival on the Titanic: 5 model average']\n",
        "\n",
        "# 그래프 보기\n",
        "importance_plotting(importance, 'Importance', 'Features', 'Reds_r', titles)"
      ],
      "execution_count": 0,
      "outputs": []
    },
    {
      "cell_type": "markdown",
      "metadata": {
        "id": "YSI_KHbpAp6u",
        "colab_type": "text"
      },
      "source": [
        "<a id = \"tips82\"></a>\n",
        "## No. 82 -  Viewing the result plot after retraining 모델 재 교육 후 그래프 보기\n",
        "[Go to the Table of Contents](#table_of_contents)"
      ]
    },
    {
      "cell_type": "code",
      "metadata": {
        "trusted": true,
        "id": "tqGvwUewAp6u",
        "colab_type": "code",
        "colab": {}
      },
      "source": [
        "# 약한 놈 탈락, 본래 좀 탈락시키는데 ...\n",
        "# train = train.drop([ ], axis=1)\n",
        "# test = test.drop([ ], axis=1)\n",
        "\n",
        "# 모델의 변수를 다시 정의하고\n",
        "X_train = train\n",
        "X_test = test\n",
        "\n",
        "# 바꿉니다.\n",
        "X_train = scaler.fit_transform(X_train)\n",
        "X_test = scaler.transform(X_test)"
      ],
      "execution_count": 0,
      "outputs": []
    },
    {
      "cell_type": "code",
      "metadata": {
        "trusted": true,
        "id": "D6gYcC-hAp6v",
        "colab_type": "code",
        "colab": {}
      },
      "source": [
        "#  모델 재 트레이닝\n",
        "# 모델 사용\n",
        "ran = RandomForestClassifier(random_state=1)\n",
        "knn = KNeighborsClassifier()\n",
        "log = LogisticRegression()\n",
        "xgb = XGBClassifier(random_state=1)\n",
        "gbc = GradientBoostingClassifier(random_state=1)\n",
        "svc = SVC(probability=True)\n",
        "ext = ExtraTreesClassifier(random_state=1)\n",
        "ada = AdaBoostClassifier(random_state=1)\n",
        "gnb = GaussianNB()\n",
        "gpc = GaussianProcessClassifier()\n",
        "bag = BaggingClassifier(random_state=1)\n",
        "\n",
        "# 리스트\n",
        "models = [ran, knn, log, xgb, gbc, svc, ext, ada, gnb, gpc, bag]         \n",
        "scores_v2 = []\n",
        "\n",
        "# Fit & cross validate\n",
        "for mod in models:\n",
        "    mod.fit(X_train, y_train)\n",
        "    acc = cross_val_score(mod, X_train, y_train, scoring = \"accuracy\", cv = 10)\n",
        "    scores_v2.append(acc.mean())"
      ],
      "execution_count": 0,
      "outputs": []
    },
    {
      "cell_type": "code",
      "metadata": {
        "trusted": true,
        "id": "uNKqI4wQAp6x",
        "colab_type": "code",
        "colab": {}
      },
      "source": [
        "# 테이블 만들어서 보기\n",
        "results = pd.DataFrame({\n",
        "    'Model': ['Random Forest', 'K Nearest Neighbour', 'Logistic Regression', 'XGBoost', 'Gradient Boosting', 'SVC', 'Extra Trees', 'AdaBoost', 'Gaussian Naive Bayes', 'Gaussian Process', 'Bagging Classifier'],\n",
        "    'Original Score': scores,\n",
        "    'Score with feature selection': scores_v2})\n",
        "\n",
        "result_df = results.sort_values(by='Score with feature selection', ascending=False).reset_index(drop=True)\n",
        "result_df.head"
      ],
      "execution_count": 0,
      "outputs": []
    },
    {
      "cell_type": "code",
      "metadata": {
        "trusted": true,
        "id": "NOmfaPWdAp6x",
        "colab_type": "code",
        "colab": {}
      },
      "source": [
        "# 결과\n",
        "sns.barplot(x='Score with feature selection', y = 'Model', data = result_df, color = 'c')\n",
        "plt.title('Machine Learning Algorithm Accuracy Score \\n')\n",
        "plt.xlabel('Accuracy Score (%)')\n",
        "plt.ylabel('Algorithm')\n",
        "plt.xlim(0.85, 1.00)"
      ],
      "execution_count": 0,
      "outputs": []
    },
    {
      "cell_type": "markdown",
      "metadata": {
        "id": "u0IQdCDAAp6y",
        "colab_type": "text"
      },
      "source": [
        "<a id = \"tips83\"></a>\n",
        "## No. 83 -  Viewing the SVC parameter tunning result / SVC 파라미터 튜닝 결과 보기\n",
        "[Go to the Table of Contents](#table_of_contents)"
      ]
    },
    {
      "cell_type": "code",
      "metadata": {
        "trusted": true,
        "id": "tnxwpmWUAp6y",
        "colab_type": "code",
        "colab": {}
      },
      "source": [
        "# SVC\n",
        "# 파라미터 서치\n",
        "Cs = [0.001, 0.01, 0.1, 1, 5, 10, 15, 20, 50, 100]\n",
        "gammas = [0.001, 0.01, 0.1, 1]\n",
        "\n",
        "# 파라미터 그리드 셋팅\n",
        "hyperparams = {'C': Cs, 'gamma' : gammas}\n",
        "\n",
        "# 교차검증\n",
        "gd=GridSearchCV(estimator = SVC(probability=True), param_grid = hyperparams, \n",
        "                verbose=True, cv=5, scoring = \"accuracy\")\n",
        "\n",
        "# 모델 fiting 및 결과\n",
        "gd.fit(X_train, y_train)\n",
        "print(gd.best_score_)\n",
        "print(gd.best_estimator_)\n"
      ],
      "execution_count": 0,
      "outputs": []
    },
    {
      "cell_type": "markdown",
      "metadata": {
        "id": "4vcRgSnXAp6z",
        "colab_type": "text"
      },
      "source": [
        "<a id = \"tips84\"></a>\n",
        "## No. 84 -    Viewing the GBC parameter tunning result / GBC 파라미터 튜닝 결과 보기\n",
        "[Go to the Table of Contents](#table_of_contents)"
      ]
    },
    {
      "cell_type": "code",
      "metadata": {
        "trusted": true,
        "id": "OISNXQslAp6z",
        "colab_type": "code",
        "colab": {}
      },
      "source": [
        "# Gradient Boosting Classifier\n",
        "learning_rate = [0.0001, 0.0005, 0.001, 0.005, 0.01, 0.05, 0.1, 0.2]\n",
        "n_estimators = [100, 250, 500, 750, 1000, 1250, 1500]\n",
        "\n",
        "hyperparams = {'learning_rate': learning_rate, 'n_estimators': n_estimators}\n",
        "\n",
        "gd=GridSearchCV(estimator = GradientBoostingClassifier(), param_grid = hyperparams, \n",
        "                verbose=True, cv=5, scoring = \"accuracy\")\n",
        "\n",
        "gd.fit(X_train, y_train)\n",
        "print(gd.best_score_)\n",
        "print(gd.best_estimator_)"
      ],
      "execution_count": 0,
      "outputs": []
    },
    {
      "cell_type": "markdown",
      "metadata": {
        "id": "p09C7pquAp60",
        "colab_type": "text"
      },
      "source": [
        "<a id = \"tips85\"></a>\n",
        "## No. 85 -    Viewing the LR parameter tunning result / LR 파라미터 튜닝 결과 보기\n",
        "[Go to the Table of Contents](#table_of_contents)"
      ]
    },
    {
      "cell_type": "code",
      "metadata": {
        "trusted": true,
        "id": "9wA5XTw8Ap60",
        "colab_type": "code",
        "colab": {}
      },
      "source": [
        "# Logistic Regression\n",
        "penalty = ['l1', 'l2']\n",
        "C = np.logspace(0, 4, 10)\n",
        "\n",
        "hyperparams = {'penalty': penalty, 'C': C}\n",
        "\n",
        "gd=GridSearchCV(estimator = LogisticRegression(), param_grid = hyperparams, \n",
        "                verbose=True, cv=5, scoring = \"accuracy\")\n",
        "\n",
        "gd.fit(X_train, y_train)\n",
        "print(gd.best_score_)\n",
        "print(gd.best_estimator_)"
      ],
      "execution_count": 0,
      "outputs": []
    },
    {
      "cell_type": "markdown",
      "metadata": {
        "id": "uVX1kqguAp61",
        "colab_type": "text"
      },
      "source": [
        "<a id = \"tips86\"></a>\n",
        "## No. 86 -   Viewing the XGB Step 1 parameter tunning result / XGB Step 1 파라미터 튜닝 결과 보기\n",
        "[Go to the Table of Contents](#table_of_contents)"
      ]
    },
    {
      "cell_type": "code",
      "metadata": {
        "trusted": true,
        "id": "YfCFqQ9fAp61",
        "colab_type": "code",
        "colab": {}
      },
      "source": [
        "# XGBoost Step 1.\n",
        "learning_rate = [0.0001, 0.0005, 0.001, 0.005, 0.01, 0.05, 0.1, 0.2]\n",
        "n_estimators = [10, 25, 50, 75, 100, 250, 500, 750, 1000]\n",
        "\n",
        "hyperparams = {'learning_rate': learning_rate, 'n_estimators': n_estimators}\n",
        "\n",
        "gd=GridSearchCV(estimator = XGBClassifier(), param_grid = hyperparams, \n",
        "                verbose=True, cv=5, scoring = \"accuracy\")\n",
        "\n",
        "gd.fit(X_train, y_train)\n",
        "print(gd.best_score_)\n",
        "print(gd.best_estimator_)"
      ],
      "execution_count": 0,
      "outputs": []
    },
    {
      "cell_type": "markdown",
      "metadata": {
        "id": "McJrUVgcAp62",
        "colab_type": "text"
      },
      "source": [
        "<a id = \"tips87\"></a>\n",
        "## No. 87 -    Viewing the XGB Step 2 parameter tunning result / XGB Step 2 파라미터 튜닝 결과 보기\n",
        "[Go to the Table of Contents](#table_of_contents)"
      ]
    },
    {
      "cell_type": "code",
      "metadata": {
        "trusted": true,
        "id": "z_Gzo0ooAp62",
        "colab_type": "code",
        "colab": {}
      },
      "source": [
        "# XGB Step 2.\n",
        "max_depth = [3, 4, 5, 6, 7, 8, 9, 10]\n",
        "min_child_weight = [1, 2, 3, 4, 5, 6]\n",
        "\n",
        "hyperparams = {'max_depth': max_depth, 'min_child_weight': min_child_weight}\n",
        "\n",
        "gd=GridSearchCV(estimator = XGBClassifier(learning_rate=0.0001, n_estimators=10), param_grid = hyperparams, \n",
        "                verbose=True, cv=5, scoring = \"accuracy\")\n",
        "\n",
        "gd.fit(X_train, y_train)\n",
        "print(gd.best_score_)\n",
        "print(gd.best_estimator_)"
      ],
      "execution_count": 0,
      "outputs": []
    },
    {
      "cell_type": "markdown",
      "metadata": {
        "id": "3Bcris4_Ap63",
        "colab_type": "text"
      },
      "source": [
        "<a id = \"tips88\"></a>\n",
        "## No. 88 -    Viewing the XGB Step 3 parameter tunning result / XGB Step 3 파라미터 튜닝 결과 보기\n",
        "[Go to the Table of Contents](#table_of_contents)"
      ]
    },
    {
      "cell_type": "code",
      "metadata": {
        "trusted": true,
        "id": "GsUYVmCqAp63",
        "colab_type": "code",
        "colab": {}
      },
      "source": [
        "# XGB Step 3.\n",
        "gamma = [i*0.1 for i in range(0,5)]\n",
        "\n",
        "hyperparams = {'gamma': gamma}\n",
        "\n",
        "gd=GridSearchCV(estimator = XGBClassifier(learning_rate=0.0001, n_estimators=10, max_depth=3, \n",
        "                                          min_child_weight=1), param_grid = hyperparams, \n",
        "                verbose=True, cv=5, scoring = \"accuracy\")\n",
        "\n",
        "gd.fit(X_train, y_train)\n",
        "print(gd.best_score_)\n",
        "print(gd.best_estimator_)"
      ],
      "execution_count": 0,
      "outputs": []
    },
    {
      "cell_type": "markdown",
      "metadata": {
        "id": "FNc8H5i2Ap64",
        "colab_type": "text"
      },
      "source": [
        "<a id = \"tips89\"></a>\n",
        "## No. 89 -    Viewing the XGB Step 4 parameter tunning result / XGB Step 4 파라미터 튜닝 결과 보기\n",
        "[Go to the Table of Contents](#table_of_contents)"
      ]
    },
    {
      "cell_type": "code",
      "metadata": {
        "trusted": true,
        "id": "4HYv0w0iAp64",
        "colab_type": "code",
        "colab": {}
      },
      "source": [
        "\n",
        "# XGB Step 4\n",
        "subsample = [0.6, 0.65, 0.7, 0.75, 0.8, 0.85, 0.9, 0.95, 1]\n",
        "colsample_bytree = [0.6, 0.65, 0.7, 0.75, 0.8, 0.85, 0.9, 0.95, 1]\n",
        "    \n",
        "hyperparams = {'subsample': subsample, 'colsample_bytree': colsample_bytree}\n",
        "\n",
        "gd=GridSearchCV(estimator = XGBClassifier(learning_rate=0.0001, n_estimators=10, max_depth=3, \n",
        "                                          min_child_weight=1, gamma=0), param_grid = hyperparams, \n",
        "                verbose=True, cv=5, scoring = \"accuracy\")\n",
        "\n",
        "gd.fit(X_train, y_train)\n",
        "print(gd.best_score_)\n",
        "print(gd.best_estimator_)"
      ],
      "execution_count": 0,
      "outputs": []
    },
    {
      "cell_type": "markdown",
      "metadata": {
        "id": "sT3LQic1Ap69",
        "colab_type": "text"
      },
      "source": [
        "<a id = \"tips90\"></a>\n",
        "## No. 90 -    Viewing the XGB Step 5 parameter tunning result / XGB Step 5 파라미터 튜닝 결과 보기\n",
        "[Go to the Table of Contents](#table_of_contents)"
      ]
    },
    {
      "cell_type": "code",
      "metadata": {
        "trusted": true,
        "id": "9RLahGIyAp69",
        "colab_type": "code",
        "colab": {}
      },
      "source": [
        "# XGB Step 5\n",
        "reg_alpha = [1e-5, 1e-2, 0.1, 1, 100]\n",
        "    \n",
        "hyperparams = {'reg_alpha': reg_alpha}\n",
        "\n",
        "gd=GridSearchCV(estimator = XGBClassifier(learning_rate=0.0001, n_estimators=10, max_depth=3, \n",
        "                                          min_child_weight=1, gamma=0, subsample=0.6, colsample_bytree=0.9),\n",
        "                                         param_grid = hyperparams, verbose=True, cv=5, scoring = \"accuracy\")\n",
        "\n",
        "gd.fit(X_train, y_train)\n",
        "print(gd.best_score_)\n",
        "print(gd.best_estimator_)"
      ],
      "execution_count": 0,
      "outputs": []
    },
    {
      "cell_type": "markdown",
      "metadata": {
        "id": "GeCGnePQAp6-",
        "colab_type": "text"
      },
      "source": [
        "<a id = \"tips91\"></a>\n",
        "## No. 91 -    Viewing the GP parameter tunning result / GP 파라미터 튜닝 결과 보기\n",
        "[Go to the Table of Contents](#table_of_contents)"
      ]
    },
    {
      "cell_type": "code",
      "metadata": {
        "trusted": true,
        "id": "IAaESQ0jAp6-",
        "colab_type": "code",
        "colab": {}
      },
      "source": [
        "# Gaussian Process\n",
        "n_restarts_optimizer = [0, 1, 2, 3]\n",
        "max_iter_predict = [1, 2, 5, 10, 20, 35, 50, 100]\n",
        "warm_start = [True, False]\n",
        "\n",
        "hyperparams = {'n_restarts_optimizer': n_restarts_optimizer, 'max_iter_predict': max_iter_predict, 'warm_start': warm_start}\n",
        "\n",
        "gd=GridSearchCV(estimator = GaussianProcessClassifier(), param_grid = hyperparams, \n",
        "                verbose=True, cv=5, scoring = \"accuracy\")\n",
        "\n",
        "gd.fit(X_train, y_train)\n",
        "print(gd.best_score_)\n",
        "print(gd.best_estimator_)"
      ],
      "execution_count": 0,
      "outputs": []
    },
    {
      "cell_type": "markdown",
      "metadata": {
        "id": "K5nD2IiMAp6_",
        "colab_type": "text"
      },
      "source": [
        "<a id = \"tips92\"></a>\n",
        "## No. 92 -    Viewing the Adaboost parameter tunning result / Adaboost 파라미터 튜닝 결과 보기\n",
        "[Go to the Table of Contents](#table_of_contents)"
      ]
    },
    {
      "cell_type": "code",
      "metadata": {
        "trusted": true,
        "id": "muEF65tCAp6_",
        "colab_type": "code",
        "colab": {}
      },
      "source": [
        "# Adaboost.\n",
        "n_estimators = [10, 25, 50, 75, 100, 125, 150, 200]\n",
        "learning_rate = [0.001, 0.01, 0.1, 0.5, 1, 1.5, 2]\n",
        "\n",
        "hyperparams = {'n_estimators': n_estimators, 'learning_rate': learning_rate}\n",
        "\n",
        "gd=GridSearchCV(estimator = AdaBoostClassifier(), param_grid = hyperparams, \n",
        "                verbose=True, cv=5, scoring = \"accuracy\")\n",
        "\n",
        "gd.fit(X_train, y_train)\n",
        "print(gd.best_score_)\n",
        "print(gd.best_estimator_)"
      ],
      "execution_count": 0,
      "outputs": []
    },
    {
      "cell_type": "markdown",
      "metadata": {
        "id": "qQi655FHAp7A",
        "colab_type": "text"
      },
      "source": [
        "<a id = \"tips93\"></a>\n",
        "## No. 93 -    Viewing the KNN parameter tunning result / KNN 파라미터 튜닝 결과 보기\n",
        "[Go to the Table of Contents](#table_of_contents)"
      ]
    },
    {
      "cell_type": "code",
      "metadata": {
        "trusted": true,
        "id": "8EZZ3XarAp7A",
        "colab_type": "code",
        "colab": {}
      },
      "source": [
        "# KNN\n",
        "n_neighbors = [1, 2, 3, 4, 5, 6, 7, 8, 9, 10, 12, 14, 16, 18, 20]\n",
        "algorithm = ['auto']\n",
        "weights = ['uniform', 'distance']\n",
        "leaf_size = [1, 2, 3, 4, 5, 10, 15, 20, 25, 30]\n",
        "\n",
        "hyperparams = {'algorithm': algorithm, 'weights': weights, 'leaf_size': leaf_size, \n",
        "               'n_neighbors': n_neighbors}\n",
        "\n",
        "gd=GridSearchCV(estimator = KNeighborsClassifier(), param_grid = hyperparams, \n",
        "                verbose=True, cv=5, scoring = \"accuracy\")\n",
        "\n",
        "# Fitting model and return results\n",
        "gd.fit(X_train, y_train)\n",
        "print(gd.best_score_)\n",
        "print(gd.best_estimator_)"
      ],
      "execution_count": 0,
      "outputs": []
    },
    {
      "cell_type": "markdown",
      "metadata": {
        "id": "e30DTR5DAp7B",
        "colab_type": "text"
      },
      "source": [
        "<a id = \"tips94\"></a>\n",
        "## No. 94 -    Viewing the Random Forest parameter tunning result / Random Forest 파라미터 튜닝 결과 보기\n",
        "[Go to the Table of Contents](#table_of_contents)"
      ]
    },
    {
      "cell_type": "code",
      "metadata": {
        "trusted": true,
        "id": "q7tJHkx1Ap7B",
        "colab_type": "code",
        "colab": {}
      },
      "source": [
        "# Random Forest.\n",
        "n_estimators = [10, 25, 50, 75, 100]\n",
        "max_depth = [3, None]\n",
        "max_features = [1, 3, 5, 7]\n",
        "min_samples_split = [2, 4, 6, 8, 10]\n",
        "min_samples_leaf = [2, 4, 6, 8, 10]\n",
        "\n",
        "hyperparams = {'n_estimators': n_estimators, 'max_depth': max_depth, 'max_features': max_features,\n",
        "               'min_samples_split': min_samples_split, 'min_samples_leaf': min_samples_leaf}\n",
        "\n",
        "gd=GridSearchCV(estimator = RandomForestClassifier(), param_grid = hyperparams, \n",
        "                verbose=True, cv=5, scoring = \"accuracy\")\n",
        "\n",
        "gd.fit(X_train, y_train)\n",
        "print(gd.best_score_)\n",
        "print(gd.best_estimator_)"
      ],
      "execution_count": 0,
      "outputs": []
    },
    {
      "cell_type": "markdown",
      "metadata": {
        "id": "JcT1VA5wAp7C",
        "colab_type": "text"
      },
      "source": [
        "<a id = \"tips95\"></a>\n",
        "## No. 95 -    Viewing the Extra Trees parameter tunning result / Extra Trees 파라미터 튜닝 결과 보기\n",
        "[Go to the Table of Contents](#table_of_contents)"
      ]
    },
    {
      "cell_type": "code",
      "metadata": {
        "trusted": true,
        "id": "oskQZcvzAp7D",
        "colab_type": "code",
        "colab": {}
      },
      "source": [
        "# Extra Trees\n",
        "n_estimators = [10, 25, 50, 75, 100]\n",
        "max_depth = [3, None]\n",
        "max_features = [1, 3, 5, 7]\n",
        "min_samples_split = [2, 4, 6, 8, 10]\n",
        "min_samples_leaf = [2, 4, 6, 8, 10]\n",
        "\n",
        "hyperparams = {'n_estimators': n_estimators, 'max_depth': max_depth, 'max_features': max_features,\n",
        "               'min_samples_split': min_samples_split, 'min_samples_leaf': min_samples_leaf}\n",
        "\n",
        "gd=GridSearchCV(estimator = ExtraTreesClassifier(), param_grid = hyperparams, \n",
        "                verbose=True, cv=5, scoring = \"accuracy\")\n",
        "\n",
        "gd.fit(X_train, y_train)\n",
        "print(gd.best_score_)\n",
        "print(gd.best_estimator_)"
      ],
      "execution_count": 0,
      "outputs": []
    },
    {
      "cell_type": "markdown",
      "metadata": {
        "id": "YCviA84TAp7D",
        "colab_type": "text"
      },
      "source": [
        "<a id = \"tips96\"></a>\n",
        "## No. 96 -   Viewing the Bagging Classifier parameter tunning result / Bagging Classifier 파라미터 튜닝 결과 보기\n",
        "[Go to the Table of Contents](#table_of_contents)"
      ]
    },
    {
      "cell_type": "code",
      "metadata": {
        "trusted": true,
        "id": "Rb0Jn0TrAp7E",
        "colab_type": "code",
        "colab": {}
      },
      "source": [
        "# Bagging Classifier\n",
        "n_estimators = [10, 15, 20, 25, 50, 75, 100, 150]\n",
        "max_samples = [1, 2, 3, 5, 7, 10, 15, 20, 25, 30, 50]\n",
        "max_features = [1, 3, 5, 7]\n",
        "\n",
        "hyperparams = {'n_estimators': n_estimators, 'max_samples': max_samples, 'max_features': max_features}\n",
        "\n",
        "gd=GridSearchCV(estimator = BaggingClassifier(), param_grid = hyperparams, \n",
        "                verbose=True, cv=5, scoring = \"accuracy\")\n",
        "\n",
        "gd.fit(X_train, y_train)\n",
        "print(gd.best_score_)\n",
        "print(gd.best_estimator_)"
      ],
      "execution_count": 0,
      "outputs": []
    },
    {
      "cell_type": "markdown",
      "metadata": {
        "id": "Nbx7c0nuAp7G",
        "colab_type": "text"
      },
      "source": [
        "<a id = \"tips97\"></a>\n",
        "## No. 97 -    Viewing the ranking table after final training / Final Training Ranking Table 보기\n",
        "[Go to the Table of Contents](#table_of_contents)"
      ]
    },
    {
      "cell_type": "code",
      "metadata": {
        "trusted": true,
        "id": "kRuz-pHNAp7G",
        "colab_type": "code",
        "colab": {}
      },
      "source": [
        "# 모델 재 트레이닝\n",
        "# 튜닝 모델 시작\n",
        "# sample을 split하는 것은 전체데이터 80%를 트레인셋에 20%는 테스트셋에 줌  \n",
        "ran = RandomForestClassifier(n_estimators=25,\n",
        "                             max_depth=3, \n",
        "                             max_features=3,\n",
        "                             min_samples_leaf=2, \n",
        "                             min_samples_split=8,  \n",
        "                             random_state=1)\n",
        "\n",
        "knn = KNeighborsClassifier(algorithm='auto', \n",
        "                           leaf_size=1, \n",
        "                           n_neighbors=5, \n",
        "                           weights='uniform')\n",
        "\n",
        "log = LogisticRegression(C=2.7825594022071245,\n",
        "                         penalty='l2')\n",
        "\n",
        "xgb = XGBClassifier(learning_rate=0.0001, \n",
        "                    n_estimators=10,\n",
        "                    random_state=1)\n",
        "\n",
        "gbc = GradientBoostingClassifier(learning_rate=0.0005,\n",
        "                                 n_estimators=1250,\n",
        "                                 random_state=1)\n",
        "\n",
        "svc = SVC(probability=True)\n",
        "\n",
        "ext = ExtraTreesClassifier(max_depth=None, \n",
        "                           max_features=3,\n",
        "                           min_samples_leaf=2, \n",
        "                           min_samples_split=8,\n",
        "                           n_estimators=10,\n",
        "                           random_state=1)\n",
        "\n",
        "ada = AdaBoostClassifier(learning_rate=0.1, \n",
        "                         n_estimators=50,\n",
        "                         random_state=1)\n",
        "\n",
        "gpc = GaussianProcessClassifier()\n",
        "\n",
        "bag = BaggingClassifier(random_state=1)\n",
        "\n",
        "# 리스트\n",
        "models = [ran, knn, log, xgb, gbc, svc, ext, ada, gnb, gpc, bag]         \n",
        "scores_v3 = []\n",
        "\n",
        "# Fit & 교차 검증\n",
        "for mod in models:\n",
        "    mod.fit(X_train, y_train)\n",
        "    acc = cross_val_score(mod, X_train, y_train, scoring = \"accuracy\", cv = 10)\n",
        "    scores_v3.append(acc.mean())"
      ],
      "execution_count": 0,
      "outputs": []
    },
    {
      "cell_type": "code",
      "metadata": {
        "trusted": true,
        "id": "_xHCUo6PAp7H",
        "colab_type": "code",
        "colab": {}
      },
      "source": [
        "# 랭킹 테이블 생성\n",
        "results = pd.DataFrame({\n",
        "    'Model': ['Random Forest', 'K Nearest Neighbour', 'Logistic Regression', 'XGBoost', 'Gradient Boosting', 'SVC', 'Extra Trees', 'AdaBoost', 'Gaussian Naive Bayes', 'Gaussian Process', 'Bagging Classifier'],\n",
        "    'Original Score': scores,\n",
        "    'Score with feature selection': scores_v2,\n",
        "    'Score with tuned parameters': scores_v3})\n",
        "\n",
        "result_df = results.sort_values(by='Score with tuned parameters', ascending=False).reset_index(drop=True)\n",
        "result_df.head(11)"
      ],
      "execution_count": 0,
      "outputs": []
    },
    {
      "cell_type": "markdown",
      "metadata": {
        "id": "IyWa0EbpAp7I",
        "colab_type": "text"
      },
      "source": [
        "<a id = \"tips98\"></a>\n",
        "## No. 98 -   Viewing the final result graph/ 파이널 결과 그래프 보기\n",
        "[Go to the Table of Contents](#table_of_contents)"
      ]
    },
    {
      "cell_type": "code",
      "metadata": {
        "trusted": true,
        "id": "GeAaWKYlAp7I",
        "colab_type": "code",
        "colab": {}
      },
      "source": [
        "# 결과\n",
        "sns.barplot(x=None, y = None, data = result_df, color = 'c')\n",
        "plt.title('Machine Learning Algorithm Accuracy Score \\n')\n",
        "plt.xlabel('Accuracy Score (%)')\n",
        "plt.ylabel('Algorithm')\n",
        "plt.xlim(0.75, 1.00)"
      ],
      "execution_count": 0,
      "outputs": []
    },
    {
      "cell_type": "markdown",
      "metadata": {
        "id": "RsvES9fSAp7O",
        "colab_type": "text"
      },
      "source": [
        "<a id = \"tips99\"></a>\n",
        "## No. 99 -    Viewing the hard voting result 하드 보팅 결과 보기\n",
        "[Go to the Table of Contents](#table_of_contents)"
      ]
    },
    {
      "cell_type": "code",
      "metadata": {
        "trusted": true,
        "id": "5-fZgyohAp7O",
        "colab_type": "code",
        "colab": {}
      },
      "source": [
        "#튜닝한 파라미터로 하드보팅\n",
        "grid_hard = VotingClassifier(estimators = [('Random Forest', ran), \n",
        "                                           ('Logistic Regression', log),\n",
        "                                           ('XGBoost', xgb),\n",
        "                                           ('Gradient Boosting', gbc),\n",
        "                                           ('Extra Trees', ext),\n",
        "                                           ('AdaBoost', ada),\n",
        "                                           ('Gaussian Process', gpc),\n",
        "                                           ('SVC', svc),\n",
        "                                           ('K Nearest Neighbour', knn),\n",
        "                                           ('Bagging Classifier', bag)], voting = 'hard')\n",
        "\n",
        "grid_hard_cv = model_selection.cross_validate(grid_hard, X_train, y_train, cv = 10)\n",
        "grid_hard.fit(X_train, y_train)\n",
        "\n",
        "print(\"Hard voting on test set score mean: {:.2f}\". format(grid_hard_cv['test_score'].mean()*100))"
      ],
      "execution_count": 0,
      "outputs": []
    },
    {
      "cell_type": "markdown",
      "metadata": {
        "id": "MvkQmyBGAp7P",
        "colab_type": "text"
      },
      "source": [
        "<a id = \"tips100\"></a>\n",
        "## No. 100 -    Viewing the soft voting result 소프트 보팅 결과 보기\n",
        "[Go to the Table of Contents](#table_of_contents)"
      ]
    },
    {
      "cell_type": "code",
      "metadata": {
        "trusted": true,
        "id": "rr-HMYJgAp7Q",
        "colab_type": "code",
        "colab": {}
      },
      "source": [
        "grid_soft = VotingClassifier(estimators = [('Random Forest', ran), \n",
        "                                           ('Logistic Regression', log),\n",
        "                                           ('XGBoost', xgb),\n",
        "                                           ('Gradient Boosting', gbc),\n",
        "                                           ('Extra Trees', ext),\n",
        "                                           ('AdaBoost', ada),\n",
        "                                           ('Gaussian Process', gpc),\n",
        "                                           ('SVC', svc),\n",
        "                                           ('K Nearest Neighbour', knn),\n",
        "                                           ('Bagging Classifier', bag)], voting = 'soft')\n",
        "\n",
        "grid_soft_cv = model_selection.cross_validate(grid_soft, X_train, y_train, cv = 10)\n",
        "grid_soft.fit(X_train, y_train)\n",
        "\n",
        "print(\"Soft voting on test set score mean: {:.2f}\". format(grid_soft_cv['test_score'].mean()*100))"
      ],
      "execution_count": 0,
      "outputs": []
    },
    {
      "cell_type": "markdown",
      "metadata": {
        "id": "r2Zu01Z4Ap7S",
        "colab_type": "text"
      },
      "source": [
        "<a id = \"tips101\"></a>\n",
        "## No. 101 -  To view the submission file 제출 파일 보기\n",
        "[Go to the Table of Contents](#table_of_contents)"
      ]
    },
    {
      "cell_type": "code",
      "metadata": {
        "trusted": true,
        "id": "JtEZktuaAp7S",
        "colab_type": "code",
        "colab": {}
      },
      "source": [
        "# Final predictions1\n",
        "predictions = grid_soft.predict(X_test)\n",
        "\n",
        "submission = pd.concat([pd.DataFrame(passId), pd.DataFrame(predictions)], axis = 'columns')\n",
        "\n",
        "submission.columns = [\"PassengerId\", \"Survived\"]\n",
        "submission.to_csv('titanic_submission133.csv', header = True, index = False)"
      ],
      "execution_count": 0,
      "outputs": []
    },
    {
      "cell_type": "code",
      "metadata": {
        "trusted": true,
        "id": "CLGxacGEAp7U",
        "colab_type": "code",
        "colab": {}
      },
      "source": [
        "# Final predictions2\n",
        "predictions = grid_hard.predict(X_test)\n",
        "\n",
        "submission = pd.concat([pd.DataFrame(passId), pd.DataFrame(predictions)], axis = 'columns')\n",
        "\n",
        "submission.columns = [\"PassengerId\", \"Survived\"]\n",
        "submission.to_csv('titanic_submission134.csv', header = True, index = False)"
      ],
      "execution_count": 0,
      "outputs": []
    }
  ]
}