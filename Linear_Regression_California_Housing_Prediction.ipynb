{
  "nbformat": 4,
  "nbformat_minor": 0,
  "metadata": {
    "colab": {
      "name": "Linear Regression - California Housing Prediction.ipynb",
      "provenance": [],
      "collapsed_sections": [],
      "toc_visible": true,
      "include_colab_link": true
    },
    "kernelspec": {
      "name": "python3",
      "display_name": "Python 3"
    }
  },
  "cells": [
    {
      "cell_type": "markdown",
      "metadata": {
        "id": "view-in-github",
        "colab_type": "text"
      },
      "source": [
        "<a href=\"https://colab.research.google.com/github/joshuajhchoi/ai2learn/blob/master/Linear_Regression_California_Housing_Prediction.ipynb\" target=\"_parent\"><img src=\"https://colab.research.google.com/assets/colab-badge.svg\" alt=\"Open In Colab\"/></a>"
      ]
    },
    {
      "cell_type": "markdown",
      "metadata": {
        "id": "yWr7MeZE7kfq"
      },
      "source": [
        "Portions of this page are modifications based on work created and shared by Google and used according to terms described in the Creative Commons 4.0 Attribution License and Apache License, version 2.0"
      ]
    },
    {
      "cell_type": "markdown",
      "metadata": {
        "id": "_lixKJI_XB82"
      },
      "source": [
        "# Linear Regression on California Housing Dataset.\n",
        "\n",
        "## Introduction"
      ]
    },
    {
      "cell_type": "markdown",
      "metadata": {
        "id": "YVuw87aQby_7"
      },
      "source": [
        "1. What is Linear Regression?\r\n",
        "\r\n",
        "2. How do we calculate that?\r\n",
        "\r\n",
        "3. Just Concept"
      ]
    },
    {
      "cell_type": "markdown",
      "metadata": {
        "id": "HiAmxF5tizI0"
      },
      "source": [
        "First we import the basic packages"
      ]
    },
    {
      "cell_type": "code",
      "metadata": {
        "id": "vnOK5RzGWlAx",
        "trusted": true
      },
      "source": [
        "import os\n",
        "import pandas as pd\n",
        "import numpy as np\n",
        "import matplotlib as plt\n",
        "\n",
        "from sklearn.model_selection import train_test_split\n",
        "from sklearn import preprocessing"
      ],
      "execution_count": 1,
      "outputs": []
    },
    {
      "cell_type": "markdown",
      "metadata": {
        "id": "FHOdL20kizMB"
      },
      "source": [
        "Now we import the datasets which are given in the sample_data folder. (Check the left menu for folders)"
      ]
    },
    {
      "cell_type": "code",
      "metadata": {
        "id": "KXPsdilZizO6",
        "trusted": true
      },
      "source": [
        "housing = pd.read_csv('/content/sample_data/california_housing_train.csv')\n",
        "\n",
        "train,test = train_test_split(housing,test_size=0.20,random_state=42)"
      ],
      "execution_count": 2,
      "outputs": []
    },
    {
      "cell_type": "code",
      "metadata": {
        "colab": {
          "base_uri": "https://localhost:8080/",
          "height": 525
        },
        "id": "At4kMfn34ndO",
        "outputId": "badfb096-086b-4ead-b4cf-827a9ae09dbd"
      },
      "source": [
        "import missingno\r\n",
        "missingno.matrix(train, figsize = (12,6))"
      ],
      "execution_count": 3,
      "outputs": [
        {
          "output_type": "execute_result",
          "data": {
            "text/plain": [
              "<matplotlib.axes._subplots.AxesSubplot at 0x7f55afeef5c0>"
            ]
          },
          "metadata": {
            "tags": []
          },
          "execution_count": 3
        },
        {
          "output_type": "display_data",
          "data": {
            "image/png": "[encoded data removed]",
            "text/plain": [
              "<Figure size 864x432 with 2 Axes>"
            ]
          },
          "metadata": {
            "tags": [],
            "needs_background": "light"
          }
        }
      ]
    },
    {
      "cell_type": "markdown",
      "metadata": {
        "id": "qCqTM4XOizRq"
      },
      "source": [
        "Now we have two dataset, train and test. We always need to split our data into train and test. We will train the model with the train dataset and then test its accuracy with the test dataset."
      ]
    },
    {
      "cell_type": "code",
      "metadata": {
        "id": "UaWGUKm7izUe",
        "colab": {
          "base_uri": "https://localhost:8080/",
          "height": 204
        },
        "trusted": true,
        "outputId": "eace2ea4-09ca-45a7-995d-6b43abfafd8a"
      },
      "source": [
        "train.head()"
      ],
      "execution_count": 4,
      "outputs": [
        {
          "output_type": "execute_result",
          "data": {
            "text/html": [
              "<div>\n",
              "<style scoped>\n",
              "    .dataframe tbody tr th:only-of-type {\n",
              "        vertical-align: middle;\n",
              "    }\n",
              "\n",
              "    .dataframe tbody tr th {\n",
              "        vertical-align: top;\n",
              "    }\n",
              "\n",
              "    .dataframe thead th {\n",
              "        text-align: right;\n",
              "    }\n",
              "</style>\n",
              "<table border=\"1\" class=\"dataframe\">\n",
              "  <thead>\n",
              "    <tr style=\"text-align: right;\">\n",
              "      <th></th>\n",
              "      <th>longitude</th>\n",
              "      <th>latitude</th>\n",
              "      <th>housing_median_age</th>\n",
              "      <th>total_rooms</th>\n",
              "      <th>total_bedrooms</th>\n",
              "      <th>population</th>\n",
              "      <th>households</th>\n",
              "      <th>median_income</th>\n",
              "      <th>median_house_value</th>\n",
              "    </tr>\n",
              "  </thead>\n",
              "  <tbody>\n",
              "    <tr>\n",
              "      <th>4679</th>\n",
              "      <td>-118.07</td>\n",
              "      <td>33.81</td>\n",
              "      <td>22.0</td>\n",
              "      <td>2711.0</td>\n",
              "      <td>352.0</td>\n",
              "      <td>1305.0</td>\n",
              "      <td>368.0</td>\n",
              "      <td>8.5407</td>\n",
              "      <td>398800.0</td>\n",
              "    </tr>\n",
              "    <tr>\n",
              "      <th>2512</th>\n",
              "      <td>-117.63</td>\n",
              "      <td>33.50</td>\n",
              "      <td>12.0</td>\n",
              "      <td>3619.0</td>\n",
              "      <td>536.0</td>\n",
              "      <td>1506.0</td>\n",
              "      <td>492.0</td>\n",
              "      <td>7.2013</td>\n",
              "      <td>353600.0</td>\n",
              "    </tr>\n",
              "    <tr>\n",
              "      <th>993</th>\n",
              "      <td>-117.09</td>\n",
              "      <td>32.57</td>\n",
              "      <td>17.0</td>\n",
              "      <td>444.0</td>\n",
              "      <td>83.0</td>\n",
              "      <td>357.0</td>\n",
              "      <td>87.0</td>\n",
              "      <td>5.1478</td>\n",
              "      <td>138900.0</td>\n",
              "    </tr>\n",
              "    <tr>\n",
              "      <th>1327</th>\n",
              "      <td>-117.16</td>\n",
              "      <td>32.81</td>\n",
              "      <td>34.0</td>\n",
              "      <td>2275.0</td>\n",
              "      <td>375.0</td>\n",
              "      <td>1021.0</td>\n",
              "      <td>379.0</td>\n",
              "      <td>3.6371</td>\n",
              "      <td>176300.0</td>\n",
              "    </tr>\n",
              "    <tr>\n",
              "      <th>4630</th>\n",
              "      <td>-118.07</td>\n",
              "      <td>34.17</td>\n",
              "      <td>36.0</td>\n",
              "      <td>2415.0</td>\n",
              "      <td>394.0</td>\n",
              "      <td>1215.0</td>\n",
              "      <td>413.0</td>\n",
              "      <td>5.5418</td>\n",
              "      <td>326100.0</td>\n",
              "    </tr>\n",
              "  </tbody>\n",
              "</table>\n",
              "</div>"
            ],
            "text/plain": [
              "      longitude  latitude  ...  median_income  median_house_value\n",
              "4679    -118.07     33.81  ...         8.5407            398800.0\n",
              "2512    -117.63     33.50  ...         7.2013            353600.0\n",
              "993     -117.09     32.57  ...         5.1478            138900.0\n",
              "1327    -117.16     32.81  ...         3.6371            176300.0\n",
              "4630    -118.07     34.17  ...         5.5418            326100.0\n",
              "\n",
              "[5 rows x 9 columns]"
            ]
          },
          "metadata": {
            "tags": []
          },
          "execution_count": 4
        }
      ]
    },
    {
      "cell_type": "markdown",
      "metadata": {
        "id": "NIzwBNSSizdM"
      },
      "source": [
        "Here you can see the first 5 samples of the data. We need to predict the 'mean house price' with the help of all other attributes. So here, our x will be all the attributes and y will be the price. So we are now gonna split the train dataset into x_train and y_train"
      ]
    },
    {
      "cell_type": "code",
      "metadata": {
        "id": "ki2uklUCizXG",
        "trusted": true
      },
      "source": [
        "x_train = train.drop('median_house_value',axis=1)"
      ],
      "execution_count": 5,
      "outputs": []
    },
    {
      "cell_type": "code",
      "metadata": {
        "id": "-UX2CRqAizaC",
        "trusted": true
      },
      "source": [
        "y_train = train.median_house_value"
      ],
      "execution_count": 6,
      "outputs": []
    },
    {
      "cell_type": "code",
      "metadata": {
        "id": "hi2BRgesizi6",
        "colab": {
          "base_uri": "https://localhost:8080/",
          "height": 204
        },
        "trusted": true,
        "outputId": "d8183b76-cc69-49cd-d0a2-b10ac664f54b"
      },
      "source": [
        "x_train.head()"
      ],
      "execution_count": 7,
      "outputs": [
        {
          "output_type": "execute_result",
          "data": {
            "text/html": [
              "<div>\n",
              "<style scoped>\n",
              "    .dataframe tbody tr th:only-of-type {\n",
              "        vertical-align: middle;\n",
              "    }\n",
              "\n",
              "    .dataframe tbody tr th {\n",
              "        vertical-align: top;\n",
              "    }\n",
              "\n",
              "    .dataframe thead th {\n",
              "        text-align: right;\n",
              "    }\n",
              "</style>\n",
              "<table border=\"1\" class=\"dataframe\">\n",
              "  <thead>\n",
              "    <tr style=\"text-align: right;\">\n",
              "      <th></th>\n",
              "      <th>longitude</th>\n",
              "      <th>latitude</th>\n",
              "      <th>housing_median_age</th>\n",
              "      <th>total_rooms</th>\n",
              "      <th>total_bedrooms</th>\n",
              "      <th>population</th>\n",
              "      <th>households</th>\n",
              "      <th>median_income</th>\n",
              "    </tr>\n",
              "  </thead>\n",
              "  <tbody>\n",
              "    <tr>\n",
              "      <th>4679</th>\n",
              "      <td>-118.07</td>\n",
              "      <td>33.81</td>\n",
              "      <td>22.0</td>\n",
              "      <td>2711.0</td>\n",
              "      <td>352.0</td>\n",
              "      <td>1305.0</td>\n",
              "      <td>368.0</td>\n",
              "      <td>8.5407</td>\n",
              "    </tr>\n",
              "    <tr>\n",
              "      <th>2512</th>\n",
              "      <td>-117.63</td>\n",
              "      <td>33.50</td>\n",
              "      <td>12.0</td>\n",
              "      <td>3619.0</td>\n",
              "      <td>536.0</td>\n",
              "      <td>1506.0</td>\n",
              "      <td>492.0</td>\n",
              "      <td>7.2013</td>\n",
              "    </tr>\n",
              "    <tr>\n",
              "      <th>993</th>\n",
              "      <td>-117.09</td>\n",
              "      <td>32.57</td>\n",
              "      <td>17.0</td>\n",
              "      <td>444.0</td>\n",
              "      <td>83.0</td>\n",
              "      <td>357.0</td>\n",
              "      <td>87.0</td>\n",
              "      <td>5.1478</td>\n",
              "    </tr>\n",
              "    <tr>\n",
              "      <th>1327</th>\n",
              "      <td>-117.16</td>\n",
              "      <td>32.81</td>\n",
              "      <td>34.0</td>\n",
              "      <td>2275.0</td>\n",
              "      <td>375.0</td>\n",
              "      <td>1021.0</td>\n",
              "      <td>379.0</td>\n",
              "      <td>3.6371</td>\n",
              "    </tr>\n",
              "    <tr>\n",
              "      <th>4630</th>\n",
              "      <td>-118.07</td>\n",
              "      <td>34.17</td>\n",
              "      <td>36.0</td>\n",
              "      <td>2415.0</td>\n",
              "      <td>394.0</td>\n",
              "      <td>1215.0</td>\n",
              "      <td>413.0</td>\n",
              "      <td>5.5418</td>\n",
              "    </tr>\n",
              "  </tbody>\n",
              "</table>\n",
              "</div>"
            ],
            "text/plain": [
              "      longitude  latitude  ...  households  median_income\n",
              "4679    -118.07     33.81  ...       368.0         8.5407\n",
              "2512    -117.63     33.50  ...       492.0         7.2013\n",
              "993     -117.09     32.57  ...        87.0         5.1478\n",
              "1327    -117.16     32.81  ...       379.0         3.6371\n",
              "4630    -118.07     34.17  ...       413.0         5.5418\n",
              "\n",
              "[5 rows x 8 columns]"
            ]
          },
          "metadata": {
            "tags": []
          },
          "execution_count": 7
        }
      ]
    },
    {
      "cell_type": "code",
      "metadata": {
        "id": "sj8X8ZUCizgD",
        "colab": {
          "base_uri": "https://localhost:8080/"
        },
        "trusted": true,
        "outputId": "96e0ac0e-7c66-43d1-f864-461f951888ad"
      },
      "source": [
        "y_train.head()"
      ],
      "execution_count": 8,
      "outputs": [
        {
          "output_type": "execute_result",
          "data": {
            "text/plain": [
              "4679    398800.0\n",
              "2512    353600.0\n",
              "993     138900.0\n",
              "1327    176300.0\n",
              "4630    326100.0\n",
              "Name: median_house_value, dtype: float64"
            ]
          },
          "metadata": {
            "tags": []
          },
          "execution_count": 8
        }
      ]
    },
    {
      "cell_type": "markdown",
      "metadata": {
        "id": "TPa-GhylkTf2"
      },
      "source": [
        "As you might have noticed, the .head( ) function displays the first 5 elements in a DataFrame. A DataFrame is a table in pandas. Here as we read train and test with **pd.read_csv( )** function, they are pandas DataFrames. Its much similar to saying that they are Excel spreadsheets."
      ]
    },
    {
      "cell_type": "markdown",
      "metadata": {
        "id": "c6Qbyh_Si1Bb"
      },
      "source": [
        "### Now we can go on to train our model with x_train and y_train\n",
        "\n",
        "\n"
      ]
    },
    {
      "cell_type": "code",
      "metadata": {
        "id": "vCB7wSLSi099",
        "trusted": true
      },
      "source": [
        "# first import the function from scikit-learn\n",
        "from sklearn.linear_model import LinearRegression"
      ],
      "execution_count": 9,
      "outputs": []
    },
    {
      "cell_type": "code",
      "metadata": {
        "id": "Ln9MIp-Hi00O",
        "trusted": true
      },
      "source": [
        "# create a new object of Linear Regression class\n",
        "model = LinearRegression()"
      ],
      "execution_count": 10,
      "outputs": []
    },
    {
      "cell_type": "code",
      "metadata": {
        "id": "NAiEkXyniznw",
        "colab": {
          "base_uri": "https://localhost:8080/"
        },
        "trusted": true,
        "outputId": "d32d08cd-b7b6-479f-ddf9-1e96a0e6ebb2"
      },
      "source": [
        "# fitting the model = finding the perfect line with minimum error\n",
        "model.fit(x_train,y_train)"
      ],
      "execution_count": 11,
      "outputs": [
        {
          "output_type": "execute_result",
          "data": {
            "text/plain": [
              "LinearRegression(copy_X=True, fit_intercept=True, n_jobs=None, normalize=False)"
            ]
          },
          "metadata": {
            "tags": []
          },
          "execution_count": 11
        }
      ]
    },
    {
      "cell_type": "code",
      "metadata": {
        "id": "jdVbzthHi1Ia",
        "colab": {
          "base_uri": "https://localhost:8080/"
        },
        "trusted": true,
        "outputId": "4cf98a83-bc14-4e4d-b7f2-494e9ae061d5"
      },
      "source": [
        "model.score(x_train,y_train)"
      ],
      "execution_count": 12,
      "outputs": [
        {
          "output_type": "execute_result",
          "data": {
            "text/plain": [
              "0.6352694644505287"
            ]
          },
          "metadata": {
            "tags": []
          },
          "execution_count": 12
        }
      ]
    },
    {
      "cell_type": "markdown",
      "metadata": {
        "id": "ceFEu8rzmLdr"
      },
      "source": [
        "And with that, we trained out first machine learning model!"
      ]
    },
    {
      "cell_type": "markdown",
      "metadata": {
        "id": "nDuasbcEnEWh"
      },
      "source": [
        "But it has only an accuracy of 64% But what does this really mean?\n",
        "If we inspect the test dataset, we can see that it includes the median_house_value that we need to predict. So we can split the dataset into only its attributes, put it into our model to predict the values and then compare the original median house price with what our model predicted. This will be 64% accurate."
      ]
    },
    {
      "cell_type": "code",
      "metadata": {
        "id": "wPNspzfTmVxt",
        "trusted": true
      },
      "source": [
        "x_test = test.drop('median_house_value',axis=1)"
      ],
      "execution_count": 13,
      "outputs": []
    },
    {
      "cell_type": "code",
      "metadata": {
        "trusted": true,
        "colab": {
          "base_uri": "https://localhost:8080/"
        },
        "id": "gk-btWRBAs8y",
        "outputId": "635a23f4-95fc-4bf8-c7fb-85c8b97ec012"
      },
      "source": [
        "print(x_test.isnull().sum())"
      ],
      "execution_count": 14,
      "outputs": [
        {
          "output_type": "stream",
          "text": [
            "longitude             0\n",
            "latitude              0\n",
            "housing_median_age    0\n",
            "total_rooms           0\n",
            "total_bedrooms        0\n",
            "population            0\n",
            "households            0\n",
            "median_income         0\n",
            "dtype: int64\n"
          ],
          "name": "stdout"
        }
      ]
    },
    {
      "cell_type": "code",
      "metadata": {
        "id": "ZUK1YBHMmQAo",
        "colab": {
          "base_uri": "https://localhost:8080/"
        },
        "trusted": true,
        "outputId": "565074ad-37d9-4bd9-eb4d-7d566dda57a5"
      },
      "source": [
        "model.predict(x_test)"
      ],
      "execution_count": 15,
      "outputs": [
        {
          "output_type": "execute_result",
          "data": {
            "text/plain": [
              "array([143770.39502963, 398615.57056493,  86341.10306742, ...,\n",
              "        26482.39645034, 283556.48183173, 115808.80622266])"
            ]
          },
          "metadata": {
            "tags": []
          },
          "execution_count": 15
        }
      ]
    },
    {
      "cell_type": "markdown",
      "metadata": {
        "id": "h6Y7pPpSnfBk"
      },
      "source": [
        "These are the house prices that our model predicted. Now lets look at the actual prices which were given in the dataset."
      ]
    },
    {
      "cell_type": "code",
      "metadata": {
        "id": "PO7IkhCgmRlR",
        "colab": {
          "base_uri": "https://localhost:8080/"
        },
        "trusted": true,
        "outputId": "8a7104a8-f394-4517-9a12-af8dceff0af6"
      },
      "source": [
        "model.score(x_test,test.median_house_value)"
      ],
      "execution_count": 16,
      "outputs": [
        {
          "output_type": "execute_result",
          "data": {
            "text/plain": [
              "0.6636396350243869"
            ]
          },
          "metadata": {
            "tags": []
          },
          "execution_count": 16
        }
      ]
    },
    {
      "cell_type": "markdown",
      "metadata": {
        "id": "hMDIA6O2npxt"
      },
      "source": [
        "## Our model have 64% training accuracy and 66% testing accuracy."
      ]
    },
    {
      "cell_type": "markdown",
      "metadata": {
        "id": "QeEvFCBbnyyo"
      },
      "source": [
        "### But how can we increase the accuracy of the model? There are several methods, known as Hyperparameter Tuning, which can go deep into later on. For now, we can try using another technique than just simple Linear Regression. Let's try using an algorithm called 'Random Forest Regression'"
      ]
    },
    {
      "cell_type": "code",
      "metadata": {
        "id": "8uoUkyJknpj7",
        "trusted": true
      },
      "source": [
        "from sklearn.ensemble import RandomForestRegressor"
      ],
      "execution_count": 17,
      "outputs": []
    },
    {
      "cell_type": "code",
      "metadata": {
        "id": "tkLWQgw1m0V1",
        "trusted": true
      },
      "source": [
        "model2 = RandomForestRegressor()"
      ],
      "execution_count": 18,
      "outputs": []
    },
    {
      "cell_type": "code",
      "metadata": {
        "id": "AIIDs2V9oQln",
        "colab": {
          "base_uri": "https://localhost:8080/"
        },
        "trusted": true,
        "outputId": "c074a831-70ef-4047-dad0-8b3d76ac4398"
      },
      "source": [
        "model2.fit(x_train,y_train)"
      ],
      "execution_count": 19,
      "outputs": [
        {
          "output_type": "execute_result",
          "data": {
            "text/plain": [
              "RandomForestRegressor(bootstrap=True, ccp_alpha=0.0, criterion='mse',\n",
              "                      max_depth=None, max_features='auto', max_leaf_nodes=None,\n",
              "                      max_samples=None, min_impurity_decrease=0.0,\n",
              "                      min_impurity_split=None, min_samples_leaf=1,\n",
              "                      min_samples_split=2, min_weight_fraction_leaf=0.0,\n",
              "                      n_estimators=100, n_jobs=None, oob_score=False,\n",
              "                      random_state=None, verbose=0, warm_start=False)"
            ]
          },
          "metadata": {
            "tags": []
          },
          "execution_count": 19
        }
      ]
    },
    {
      "cell_type": "code",
      "metadata": {
        "id": "V-GzZj3noUQA",
        "colab": {
          "base_uri": "https://localhost:8080/"
        },
        "trusted": true,
        "outputId": "d330a555-dc47-4872-bf87-04eb4fe1e87d"
      },
      "source": [
        "model2.score(x_train,y_train)"
      ],
      "execution_count": 20,
      "outputs": [
        {
          "output_type": "execute_result",
          "data": {
            "text/plain": [
              "0.9751649418529151"
            ]
          },
          "metadata": {
            "tags": []
          },
          "execution_count": 20
        }
      ]
    },
    {
      "cell_type": "code",
      "metadata": {
        "id": "dx-UYFBl6NLz"
      },
      "source": [
        "output = model2.predict(x_test)"
      ],
      "execution_count": 21,
      "outputs": []
    },
    {
      "cell_type": "code",
      "metadata": {
        "colab": {
          "base_uri": "https://localhost:8080/"
        },
        "id": "SuyUmDzT6hiz",
        "outputId": "cb0698d4-f1f6-4583-9118-885642181384"
      },
      "source": [
        "model2.score(x_test,test.median_house_value)"
      ],
      "execution_count": 22,
      "outputs": [
        {
          "output_type": "execute_result",
          "data": {
            "text/plain": [
              "0.8233261173783821"
            ]
          },
          "metadata": {
            "tags": []
          },
          "execution_count": 22
        }
      ]
    },
    {
      "cell_type": "code",
      "metadata": {
        "id": "DBffAGql5eac"
      },
      "source": [
        "model3 = RandomForestRegressor(bootstrap=True, ccp_alpha=0.0, criterion='mse',\r\n",
        "                      max_depth=None, max_features='auto', max_leaf_nodes=None,\r\n",
        "                      max_samples=None, min_impurity_decrease=0.0,\r\n",
        "                      min_impurity_split=None, min_samples_leaf=1,\r\n",
        "                      min_samples_split=2, min_weight_fraction_leaf=0.0,\r\n",
        "                      n_estimators=100, n_jobs=None, oob_score=False,\r\n",
        "                      random_state=None, verbose=0, warm_start=False)"
      ],
      "execution_count": 23,
      "outputs": []
    },
    {
      "cell_type": "code",
      "metadata": {
        "colab": {
          "base_uri": "https://localhost:8080/"
        },
        "id": "hgtjIBD353Lb",
        "outputId": "fdc5e8a4-2ecf-4a2a-acd2-9b23a4d3d3a7"
      },
      "source": [
        "model3.fit(x_train,y_train)"
      ],
      "execution_count": 24,
      "outputs": [
        {
          "output_type": "execute_result",
          "data": {
            "text/plain": [
              "RandomForestRegressor(bootstrap=True, ccp_alpha=0.0, criterion='mse',\n",
              "                      max_depth=None, max_features='auto', max_leaf_nodes=None,\n",
              "                      max_samples=None, min_impurity_decrease=0.0,\n",
              "                      min_impurity_split=None, min_samples_leaf=1,\n",
              "                      min_samples_split=2, min_weight_fraction_leaf=0.0,\n",
              "                      n_estimators=100, n_jobs=None, oob_score=False,\n",
              "                      random_state=None, verbose=0, warm_start=False)"
            ]
          },
          "metadata": {
            "tags": []
          },
          "execution_count": 24
        }
      ]
    },
    {
      "cell_type": "code",
      "metadata": {
        "id": "xJc87OBooeQD",
        "trusted": true
      },
      "source": [
        "output = model3.predict(x_test)"
      ],
      "execution_count": 25,
      "outputs": []
    },
    {
      "cell_type": "code",
      "metadata": {
        "id": "ILbaaVYyohBj",
        "colab": {
          "base_uri": "https://localhost:8080/"
        },
        "trusted": true,
        "outputId": "612861a0-bb19-4542-8195-96422683a540"
      },
      "source": [
        "model3.score(x_test,test.median_house_value)"
      ],
      "execution_count": 26,
      "outputs": [
        {
          "output_type": "execute_result",
          "data": {
            "text/plain": [
              "0.8226576451163228"
            ]
          },
          "metadata": {
            "tags": []
          },
          "execution_count": 26
        }
      ]
    }
  ]
}