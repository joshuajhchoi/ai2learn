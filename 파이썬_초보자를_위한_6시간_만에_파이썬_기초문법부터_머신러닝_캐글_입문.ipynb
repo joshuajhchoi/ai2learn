{
  "nbformat": 4,
  "nbformat_minor": 0,
  "metadata": {
    "colab": {
      "name": "파이썬 초보자를 위한 6시간 만에 파이썬 기초문법부터 머신러닝 캐글 입문",
      "provenance": [],
      "collapsed_sections": [],
      "include_colab_link": true
    },
    "kernelspec": {
      "name": "python3",
      "display_name": "Python 3"
    }
  },
  "cells": [
    {
      "cell_type": "markdown",
      "metadata": {
        "id": "view-in-github",
        "colab_type": "text"
      },
      "source": [
        "<a href=\"https://colab.research.google.com/github/joshuajhchoi/ai2learn/blob/master/%ED%8C%8C%EC%9D%B4%EC%8D%AC_%EC%B4%88%EB%B3%B4%EC%9E%90%EB%A5%BC_%EC%9C%84%ED%95%9C_6%EC%8B%9C%EA%B0%84_%EB%A7%8C%EC%97%90_%ED%8C%8C%EC%9D%B4%EC%8D%AC_%EA%B8%B0%EC%B4%88%EB%AC%B8%EB%B2%95%EB%B6%80%ED%84%B0_%EB%A8%B8%EC%8B%A0%EB%9F%AC%EB%8B%9D_%EC%BA%90%EA%B8%80_%EC%9E%85%EB%AC%B8.ipynb\" target=\"_parent\"><img src=\"https://colab.research.google.com/assets/colab-badge.svg\" alt=\"Open In Colab\"/></a>"
      ]
    },
    {
      "cell_type": "markdown",
      "metadata": {
        "id": "ln3y6zq96nyP",
        "colab_type": "text"
      },
      "source": [
        "##목차\n",
        "\n",
        "####파이썬 초보자를 위한 \n",
        "####6시간 만에 파이썬 기초문법부터 머신러닝 캐글 입문\n",
        "1. Colab 사용 기본 (5분)\n",
        "2. 파이썬 기초 문법 연습 (95분)      \n",
        "3. NumPy 기본 이해 (20분)\n",
        "4. Matplotlib 기본 연습 (20분)\n",
        "5. Seaborn 기본 연습 (40분)\n",
        "6. Pandas 기본 연습 (40분)\n",
        "7. ScikitLearn 기본 이해 (60분)\n",
        "8. Kaggle Titanic 입문하기 (80분)"
      ]
    },
    {
      "cell_type": "markdown",
      "metadata": {
        "id": "arfu0_iXcZq0",
        "colab_type": "text"
      },
      "source": [
        "#PART 1. Colab 사용 기본 (5분)\n",
        "\n",
        "(1) https://colab.research.google.com/에 가서 회원 가입을 하고 자신의 어카운트를 만듭니다. \n",
        "\n",
        "(2) 여기서 사용할 노트는 주피터 노트북 기반이니 모르시는 부분은 주피터 노트북 사이트를 참고하시면 됩니다.https://jupyter.org/ \n",
        "\n",
        "(3) 기본적으로 좌측 위에 + 코드를 눌러서 코딩 연습할 공간을 만들고 + 텍스트 부분을 눌러서 설명을 넣을 공간을 만드는 간단한 기능이므로 사용에는 큰 문제는 없을 것입니다.\n",
        "\n",
        "(4) 이 노트가 6시간 강의 용이라 시간 관계상 자세히 설명할 수는 없으나 메뉴는 각자가 들어가서 쉽게 파악할 수 있으므로 눌러보고 찔러보면 20-30분 내로 모든 것을 파악할 수 있을 것이라 사료 됩니다.\n",
        "\n",
        "* 간단 설명 영상 \n",
        "\n",
        "     [Video](https://)\n"
      ]
    },
    {
      "cell_type": "markdown",
      "metadata": {
        "id": "6k6SYwri8lDF",
        "colab_type": "text"
      },
      "source": [
        "#PART 2. 파이썬 기초 문법 이해하기 (95분)\n",
        "\n"
      ]
    },
    {
      "cell_type": "markdown",
      "metadata": {
        "id": "9QUSJx3U98E7",
        "colab_type": "text"
      },
      "source": [
        "#Lesson 2– Print Statement\n",
        "\n",
        "\n",
        "##학습 내용\n",
        "* 우리가 배울 첫 번째 파이썬 문법은 print 문입니다.\n",
        "* print문을 통해 사용자는 인쇄하고 결과를 보여줄 수 있습니다.\n",
        "\n",
        "\n",
        "##문법\n",
        "\n",
        "         print  (\"Hello Python!\")\n",
        "\n",
        " \n",
        "##설명\n",
        "\n",
        "* print (‘문장’)의 형식으로 print 문을 사용합니다.\n",
        "* 숫자의 경우에는 print (숫자)로 출력합니다.\n",
        "* 추후 배우겠으나 변수의 값을 출력할 경우에는 print (변수)로 출력합니다.\n",
        "* Python 2 문법에서는 괄호가 없어서 괄호 없이 인쇄를 해도 되기도 하나 괄호를 넣고 꼭 프린트문을 실행하도록 연습합니다.\n",
        "* 작은 따옴표 (' ')나 큰 따옴표 (\" \") 둘 모두 괜찮으나 둘을 섞여서  \n",
        "\t(' \") 또는 (\" ') 형태로 사용되지 않도록 주의합니다. \n",
        "* '#' 로 시작하는 라인은 코딩에 영향을 미치지 않으므로 주석이나 설명 등을 넣을 때 사용합니다. \n",
        "\n",
        "## 연습\n",
        "\n",
        "        print (\"Hello Python!\") \n",
        "        print (3)\n",
        "\n",
        "* 이 두 라인을 에디터에 넣고  Hello Python! 과 3, 이 두개를 출력해 봅니다.\n",
        "\n",
        "\n",
        "##주의\n",
        "* 워드 폰트에 따라 따옴표 (＂ ＂) 를 복사하여 Python 에디터에 붙여 넣으면 오류가 발생하기도 합니다. 이 경우 지우고 다시 입력해야 합니다. \n",
        "\n",
        "\n",
        "\n",
        "\n",
        "##코딩 부분\n"
      ]
    },
    {
      "cell_type": "code",
      "metadata": {
        "id": "sjUwRfV--FYP",
        "colab_type": "code",
        "outputId": "acea72d0-e2d0-4b3a-d5df-9032f117f993",
        "colab": {
          "base_uri": "https://localhost:8080/",
          "height": 54
        }
      },
      "source": [
        "# 두 문장을 출력해 봅니다.\n",
        "print ('Hello Python!') \n",
        "print (3)\n"
      ],
      "execution_count": 1,
      "outputs": [
        {
          "output_type": "stream",
          "text": [
            "Hello Python!\n",
            "3\n"
          ],
          "name": "stdout"
        }
      ]
    },
    {
      "cell_type": "markdown",
      "metadata": {
        "id": "mkQjXOLU_jwH",
        "colab_type": "text"
      },
      "source": [
        "####Video"
      ]
    },
    {
      "cell_type": "markdown",
      "metadata": {
        "id": "Zaos74a6-gbr",
        "colab_type": "text"
      },
      "source": [
        "[Lesson 2 - Lesson 8까지의 영상](https://youtu.be/zVIQuRShh9U)"
      ]
    },
    {
      "cell_type": "markdown",
      "metadata": {
        "id": "sZralaiP-lBo",
        "colab_type": "text"
      },
      "source": [
        "##추가 연습 \n",
        "\n",
        "* 프린트를 할 때 한 줄이 아니라 여러 줄의 문장을 프린트를 하는 경우가 있습니다.  주소 같은 경우가 대표적인 예일 것입니다. \n",
        "* 이때는 처음에 따옴표 3개를 넣어서 여러 줄이 시작한다는 것을 컴퓨터에게 알리고 마지막에 따옴표 3개를 넣어서 출력할 내용이 끝났다고 알리면 됩니다.\n",
        "* 아래 주소를 프린트 문을 사용하여 출력해 봅니다.\n",
        "\n",
        "        Hong Gildong\n",
        "        123 Ho, ABC Street,\n",
        "        Samsung-dong, Gangnam-gu\n",
        "        Seoul, Korea\n"
      ]
    },
    {
      "cell_type": "code",
      "metadata": {
        "id": "Fe8yL7co-w8k",
        "colab_type": "code",
        "outputId": "3ebf6a6c-919e-446d-a912-75f8ce038723",
        "colab": {
          "base_uri": "https://localhost:8080/",
          "height": 90
        }
      },
      "source": [
        "print (\"\"\"Hong Gildong\n",
        "123 Ho, ABC Street,\n",
        "Samsung-dong, Gangnam-gu\n",
        "Seoul, Korea\"\"\")\n"
      ],
      "execution_count": 2,
      "outputs": [
        {
          "output_type": "stream",
          "text": [
            "Hong Gildong\n",
            "123 Ho, ABC Street,\n",
            "Samsung-dong, Gangnam-gu\n",
            "Seoul, Korea\n"
          ],
          "name": "stdout"
        }
      ]
    },
    {
      "cell_type": "markdown",
      "metadata": {
        "id": "xwgsWeY3_TE6",
        "colab_type": "text"
      },
      "source": [
        "#Lesson 3     -     Method란\n",
        "\n",
        "\n",
        "##학습 내용\n",
        "* Method는 기본적으로 내장된 기능(함수)이라고 이해를 하면 됩니다. \n",
        "* input()이라는 입력을 위한 method를 우선 배워봅니다.\n",
        "\n",
        "\n",
        "##문법\n",
        "\n",
        "        변수 = input()          # 프롬프트가 깜빡 깜빡 나타남\n",
        "        변수 = input(“질문”)    # 질문 다음에 프롬프트가 깜빡 깜빡 나타남\n",
        "\n",
        "\n",
        " \n",
        "##설명\n",
        "* 프린트 문으로 출력을 할 수 있다면 그럼 입력은 어떻게 할지 궁금해집니다.  \n",
        "* ATM기기 앞에서 비밀번호를 입력하는 경우를 보겠습니다.\n",
        "* 비밀번호를 입력하라는 안내가 나오면 비밀번호 4자리를 입력해 보겠습니다.\n",
        "* 아래의 경우는 프린트문으로 질문을 출력하고 이어서 아래줄에 깜빡이는 프롬프트에 숫자를 입력하는 방법입니다.\n",
        "\n",
        "        print (\"Please enter your 4 digit code!\")\n",
        "        my_code = input() \n",
        "\n",
        "하지만 이 것을 한 줄로 할 수도 있습니다. 이경우 문장의 오른 쪽에 프롬프트가 깜빡입니다.\n",
        "\n",
        "        my_code = input(\"Please enter your 4 digit code!\") \n",
        "\n",
        "\n",
        "\n",
        "## 연습\n",
        "\n",
        "        print (\"Please enter your 4 digit code!\")\n",
        "        my_code = input() \n",
        "\n",
        "        my_code = input(“Please enter your 4 digit code!”) \n",
        "\n",
        "\n",
        "\n",
        "\n",
        "##주의\n",
        "* 위의 my_code 같은 것을 변수라 부릅니다. \n",
        "* 변수는 소문자로 쓰고 띄어쓰기 대신에 언더바_를 쓰며 다른 것과 이름이 겹치지 않게 써야 합니다.\n",
        "* 메소드는 함수이나 여기서는 함수와는 다르게 간주한다고 생각하면 됩니다.\n",
        "* 메소드는 이미 정의되어 내장되어 있는 함수 입니다.\n",
        "* 따라서 불러올 필요도 없고, 따로 정의할 필요가 없습니다.\n",
        "* 반면에 이 책에서 말하는 함수는 주로 내가 만드는 함수를 의미 합니다. \n",
        "\n",
        "\n",
        "\n",
        "##코딩 부분\n"
      ]
    },
    {
      "cell_type": "code",
      "metadata": {
        "id": "TjZ3KKhMAKKD",
        "colab_type": "code",
        "outputId": "30101e75-d4a4-4639-e558-ca205a6d51e7",
        "colab": {
          "base_uri": "https://localhost:8080/",
          "height": 72
        }
      },
      "source": [
        "print (\"Please enter your 4 digit code!\")\n",
        "my_code = input() \n",
        "\n",
        "my_code = input(\"Please enter your 4 digit code!\")"
      ],
      "execution_count": 3,
      "outputs": [
        {
          "output_type": "stream",
          "text": [
            "Please enter your 4 digit code!\n",
            "1234\n",
            "Please enter your 4 digit code!1234\n"
          ],
          "name": "stdout"
        }
      ]
    },
    {
      "cell_type": "markdown",
      "metadata": {
        "id": "OMWMshCSAryy",
        "colab_type": "text"
      },
      "source": [
        "##추가 연습 \n",
        "\n",
        "* 연습 내용\n",
        "* \"What is your name?\" 이란 문장을 프린트하여 이름을 물어보고\n",
        "* input() 메소드를 통하여 이름을 입력하면 \n",
        "* Thank you + 입력된 이름을 출력하는 것을 만들어 봅니다.\n",
        "\n",
        "예)\n",
        "\n",
        "        What is your name?\n",
        "        (입력) - 예) Gildong\n",
        "        Thank you, Gildong\n"
      ]
    },
    {
      "cell_type": "code",
      "metadata": {
        "id": "nzUssTpxA9CP",
        "colab_type": "code",
        "outputId": "ee53f85a-e16c-468c-8de4-839745393768",
        "colab": {
          "base_uri": "https://localhost:8080/",
          "height": 72
        }
      },
      "source": [
        "print (\"What is your name?\") \n",
        "your_name = input()\n",
        "print (\"Thank you, \" + your_name)"
      ],
      "execution_count": 4,
      "outputs": [
        {
          "output_type": "stream",
          "text": [
            "What is your name?\n",
            "길동\n",
            "Thank you, 길동\n"
          ],
          "name": "stdout"
        }
      ]
    },
    {
      "cell_type": "markdown",
      "metadata": {
        "id": "5CLpBXXYBghH",
        "colab_type": "text"
      },
      "source": [
        "* 다음은 input외에 쓰이는 메소드의 일부입니다.\n",
        "\n",
        "* abs(x) - 숫자의 절댓값을 돌려줍니다. "
      ]
    },
    {
      "cell_type": "code",
      "metadata": {
        "id": "DThBM3qlBh3f",
        "colab_type": "code",
        "outputId": "4e3fcd1c-2dcf-49fd-fd2a-89617162fa9c",
        "colab": {
          "base_uri": "https://localhost:8080/",
          "height": 35
        }
      },
      "source": [
        "print (abs(-3))"
      ],
      "execution_count": 0,
      "outputs": [
        {
          "output_type": "stream",
          "text": [
            "3\n"
          ],
          "name": "stdout"
        }
      ]
    },
    {
      "cell_type": "markdown",
      "metadata": {
        "id": "EexHz6MlB5Tb",
        "colab_type": "text"
      },
      "source": [
        "* all(iterable) - 모든 요소가 참이면 (또는 비어있으면) True 를 돌려줍니다"
      ]
    },
    {
      "cell_type": "code",
      "metadata": {
        "id": "kD7GcDRzB8Su",
        "colab_type": "code",
        "outputId": "3c6a7a47-c3ba-4595-c5d8-04ea6ac67cf8",
        "colab": {
          "base_uri": "https://localhost:8080/",
          "height": 35
        }
      },
      "source": [
        "a = [1, 3, 4, 5]\n",
        "print (all(a))"
      ],
      "execution_count": 0,
      "outputs": [
        {
          "output_type": "stream",
          "text": [
            "True\n"
          ],
          "name": "stdout"
        }
      ]
    },
    {
      "cell_type": "markdown",
      "metadata": {
        "id": "HqEgJgfACL2V",
        "colab_type": "text"
      },
      "source": [
        "* bin(x) - 정수를 \"0b\" 가 앞에 붙은 binary code로 변환합니다. "
      ]
    },
    {
      "cell_type": "code",
      "metadata": {
        "id": "OS_zsccYCNF_",
        "colab_type": "code",
        "outputId": "d34fa27b-4f64-47da-d734-2b49fe11ed28",
        "colab": {
          "base_uri": "https://localhost:8080/",
          "height": 35
        }
      },
      "source": [
        "a = bin(3)\n",
        "print (a)"
      ],
      "execution_count": 0,
      "outputs": [
        {
          "output_type": "stream",
          "text": [
            "0b11\n"
          ],
          "name": "stdout"
        }
      ]
    },
    {
      "cell_type": "markdown",
      "metadata": {
        "id": "UYIvvtmPCnaT",
        "colab_type": "text"
      },
      "source": [
        "* bool([x]) - 논리값, 즉 True 또는 False 중 하나를 돌려줍니다."
      ]
    },
    {
      "cell_type": "code",
      "metadata": {
        "id": "xy7fnBmLCos4",
        "colab_type": "code",
        "outputId": "c0cfe971-b0f7-408f-afd4-742f0a5e9397",
        "colab": {
          "base_uri": "https://localhost:8080/",
          "height": 35
        }
      },
      "source": [
        "bl = [0]\n",
        "print (bool(bl))"
      ],
      "execution_count": 0,
      "outputs": [
        {
          "output_type": "stream",
          "text": [
            "True\n"
          ],
          "name": "stdout"
        }
      ]
    },
    {
      "cell_type": "markdown",
      "metadata": {
        "id": "GHSRyZcvH0i-",
        "colab_type": "text"
      },
      "source": [
        "* chr(i) - 유니코드 코드 포인트가 정수 i 인 문자를 나타내는 문자열을 돌려줍니다. 예를 들어, chr(97) 은 문자열 'a' 를 돌려주고, chr(8364) 는 문자열 '€' 를 돌려줍니다. \n"
      ]
    },
    {
      "cell_type": "code",
      "metadata": {
        "id": "pIYeEKChH3jw",
        "colab_type": "code",
        "outputId": "4b03cfc9-19de-44ee-eba4-08d4e9a90bb2",
        "colab": {
          "base_uri": "https://localhost:8080/",
          "height": 35
        }
      },
      "source": [
        "print (chr(97) + chr(98) + chr(99))"
      ],
      "execution_count": 0,
      "outputs": [
        {
          "output_type": "stream",
          "text": [
            "abc\n"
          ],
          "name": "stdout"
        }
      ]
    },
    {
      "cell_type": "markdown",
      "metadata": {
        "id": "hMzQ2HcRZTeh",
        "colab_type": "text"
      },
      "source": [
        "# Lesson 4– Strings and Numbers\n",
        "\n",
        "\n",
        "##학습 내용\n",
        "* string 은 우리가 배울 첫 번째 유형의 데이터로 알파벳, 기호, 공백 등이 \n",
        "포함됩니다. 그리고 number 는 숫자형의 데이터입니다.\n",
        "\n",
        "\n",
        "\n",
        "##문법\n",
        "\n",
        "        \"string\"\n",
        "        3\n",
        "\n",
        "\n",
        " \n",
        "##설명\n",
        "* string 에는 알파벳, 기호, 공백 및 기타가 포함됩니다.\n",
        "* string 은 큰 따옴표 (\" \") 또는 작은 따옴표 (' ') 에 넣어서 표현을 합니다.\n",
        "* 예제와 같이 + 를 사용하여 string을 합할 수 있습니다.\n",
        "* number (숫자)는 우리가 두 번째로 배울 유형의 데이터 입니다.\n",
        "* 컴퓨터는 string과 number를 다르게 취급합니다.\n",
        "\n",
        "        예를 들어, 1 은 숫자 1 이지만 \"1\" 은 문자열 \"1\" 입니다.\n",
        "        1 + 1 = 2 이지만  \"1\" + \"1\" 은 \"11\" 입니다\n",
        "        따라서 2 * 3 은 6 이지만 ‘2’ * 3 은 \"222\" 입니다.\n",
        "\n",
        "\n",
        "\n",
        "## 연습\n",
        "\n",
        "* \"I love\" 와 \"my car\" 두 string 사이에 + 를 사용하여 둘을 합하십시오.\n",
        "* + 를 사용하여 두 개의 숫자 2 와 3 을 더하십시오.\n",
        "* + 를 사용하여 두 개의 string  \"2\" 와 \"3\" 을 합하십시오\n",
        "* 그리고 결과를 print 하여 봅니다.\n",
        "\n",
        "\n",
        "##주의\n",
        "* 단어와 단어를 연결할 때 공백(\" \")을 넣어 주는 것이 필요하기도 합니다.\n",
        "* print 할 때 string 과 number 를 + 를 사용하여 더할 수 없습니다.\n",
        "* 데이터의 형태가 다르기 때문입니다.\n",
        "\n",
        "\n",
        "\n",
        "\n",
        "\n",
        "##코딩 부분\n"
      ]
    },
    {
      "cell_type": "code",
      "metadata": {
        "id": "YDXPFWwXZVkM",
        "colab_type": "code",
        "outputId": "8acb8303-f306-423d-991c-27a23caeea9c",
        "colab": {
          "base_uri": "https://localhost:8080/",
          "height": 71
        }
      },
      "source": [
        "print (\"I love\" + \" \" + \"my car.\")\n",
        "\n",
        "print (2+3)\n",
        "\n",
        "print (\"2\" + \"3\") "
      ],
      "execution_count": 0,
      "outputs": [
        {
          "output_type": "stream",
          "text": [
            "I love my car.\n",
            "5\n",
            "23\n"
          ],
          "name": "stdout"
        }
      ]
    },
    {
      "cell_type": "markdown",
      "metadata": {
        "id": "EmbDL9WvZmCG",
        "colab_type": "text"
      },
      "source": [
        "##추가 연습 \n",
        "\n",
        "* I was born in 1999을 출력할 때  다음과 같이 출력할 수 없습니다\n",
        "\n",
        "        print  (\"I was born in \" + 1999)\n",
        "\n",
        "* 데이터의 종류가 상이하기 때문입니다.\n",
        "* 이 경우 1999를 str() method를 사용하여 스트링화 하면 데이터의 종류가 같아져서 프린트 할 수 있습니다.\n",
        "\n",
        "        a = \"I was born in \"\n",
        "        b= str(1999)\n",
        "        print (a + b)"
      ]
    },
    {
      "cell_type": "code",
      "metadata": {
        "id": "hftEcbUfZob_",
        "colab_type": "code",
        "outputId": "4504cce5-8af8-4afa-f147-3996ed8f45f3",
        "colab": {
          "base_uri": "https://localhost:8080/",
          "height": 35
        }
      },
      "source": [
        "a = \"I was born in \"\n",
        "b= str(1999)\n",
        "print (a + b)\n"
      ],
      "execution_count": 8,
      "outputs": [
        {
          "output_type": "stream",
          "text": [
            "I was born in 1999\n"
          ],
          "name": "stdout"
        }
      ]
    },
    {
      "cell_type": "markdown",
      "metadata": {
        "id": "OlR5MTP9d6Ji",
        "colab_type": "text"
      },
      "source": [
        "#Lesson 5     -   String Indexing\n",
        "\n",
        "\n",
        "##학습 내용\n",
        "* 이 과에서는 string 위치에 접근하는 방법을 배웁니다.\n",
        "* Indexing이란 표현을 씁니다.\n",
        "\n",
        "\n",
        "##문법\n",
        "\n",
        "         스트링변수 [위치]\n",
        "\n",
        " \n",
        "##설명\n",
        "* HYUNDAI란 단어에는 알파벳이 7자가 있습니다.\n",
        "* 첫 번째 위치는 1이 아닌 '0'으로 색인되므로 아래 7 개의 문자는 0, 1, 2, 3, 4, 5, 6 의 위치를 갖습니다\n",
        "\n",
        "        H   Y   U   N   D   A   I\n",
        "        0   1   2   3   4   5   6\n",
        "\n",
        "\n",
        "\n",
        "* name이란 변수에 스트링 값을 주고 출력을 print(name[0]) 하면 해당 string의 첫 알파벳이 나옵니다.\n",
        "* 따라서 HYUNDAI에서 ‘D’의 위치(5번째 위치)를 색인 하려면  [4]를 인덱싱 합니다.\n",
        "\n",
        "## 연습\n",
        "\n",
        "* CHEVROLET에서 3번(4번째)의 위치를 indexing 해봅니다.\n",
        "\n",
        "        maker = \"CHEVROLET\"\n",
        "        print (maker[3])\n",
        "\n",
        "\n",
        "\n",
        "\n",
        "##주의\n",
        "‘1’이 아닌\"0\"에서 시작한다는 것을 명심하세요.\n",
        "\n",
        "\n",
        "\n",
        "\n",
        "##코딩 부분"
      ]
    },
    {
      "cell_type": "code",
      "metadata": {
        "id": "yZw0KTx4d7kO",
        "colab_type": "code",
        "outputId": "c13e0f89-3fcf-41b3-b65a-a6370b8ebb79",
        "colab": {
          "base_uri": "https://localhost:8080/",
          "height": 35
        }
      },
      "source": [
        "maker = \"CHEVROLET\"\n",
        "print (maker[3])"
      ],
      "execution_count": 12,
      "outputs": [
        {
          "output_type": "stream",
          "text": [
            "V\n"
          ],
          "name": "stdout"
        }
      ]
    },
    {
      "cell_type": "markdown",
      "metadata": {
        "id": "X9XikBd0eFkO",
        "colab_type": "text"
      },
      "source": [
        "##추가 연습 \n",
        "\n",
        "* String인 \"Korea\" 는 알파벳 개수가 5개입니다.\n",
        "* 0번 부터 4번까지 인덱스가 주어질 수 있습니다.\n",
        "* 따라서 원하는 것이 r이라면\n",
        "\n",
        "      \"Korea\"[2] 라고 하면 r이 나오게 됩니다.\n"
      ]
    },
    {
      "cell_type": "code",
      "metadata": {
        "id": "0qXdkeg1eIf3",
        "colab_type": "code",
        "outputId": "a61ad0dd-e2eb-4e8a-8d9e-d6557ab6e231",
        "colab": {
          "base_uri": "https://localhost:8080/",
          "height": 35
        }
      },
      "source": [
        "country = \"Korea\"\n",
        "print (country[2])"
      ],
      "execution_count": 0,
      "outputs": [
        {
          "output_type": "stream",
          "text": [
            "r\n"
          ],
          "name": "stdout"
        }
      ]
    },
    {
      "cell_type": "markdown",
      "metadata": {
        "id": "aaUwKWliewsp",
        "colab_type": "text"
      },
      "source": [
        "#Lesson 6     -   String Methods\n",
        "\n",
        "\n",
        "\n",
        "##학습 내용\n",
        "* 세 가지 유형의 대표적인 string 메소드를 배워봅니다. \n",
        "\n",
        "        len()   lower()   upper() \n",
        "\n",
        "\n",
        "##문법\n",
        "\n",
        "         \tlen()  - string의 길이를 보여 줍니다.\n",
        "        \tlower() - string을 모두 소문자로 변환합니다.\n",
        "        \tupper() - string을 모두 대문자로 변환 합니다.\n",
        "\n",
        "\n",
        " \n",
        "##설명\n",
        "* import 나 새로 정의를 안 해도 쓸 수 있는 함수를 메소드라고 합니다.\n",
        "\n",
        "다음의 예를 보며 위의 메소드를 이해 하겠습니다.\n",
        "\n",
        "        maker란 변수에  'Mercedes'란 값을 줍니다.\n",
        "        maker = 'Mercedes'\n",
        "\n",
        "* 여기서 주어진 스트링을 길이를 구하려면 \n",
        "\n",
        "      len (maker)를 하면 됩니다. \n",
        "      그러면 8이 답으로 나옵니다.\n",
        "\n",
        "*숫자의 길이를 구할 수는 없습니다.\n",
        "* len(12345)는 에러를 발생합니다. \n",
        "* 긴 숫자는 긴 것이 아니라 큰 것이기 때문입니다.\n",
        "* 반면에 str() 메소드를 써서 len(str(12345))를 프린트하면 에러가 발생하지 않고 5가 나옵니다.\n",
        "\n",
        "\n",
        "## 연습\n",
        "* 다음을 해봅니다. \n",
        "\n",
        "\n",
        "        maker = \"CHEVROLET\"\n",
        "        print (len(maker))\n",
        "        print (len(\"Hong Gildong\")\n",
        "        a = 12345\n",
        "        print (len(str(a)))\n",
        "\n",
        "\n",
        "\n",
        "\n",
        "##주의\n",
        "* 빈칸도 길이에 들어 갑니다. \n",
        "\n",
        "\n",
        "\n",
        "\n",
        "##코딩 부분"
      ]
    },
    {
      "cell_type": "code",
      "metadata": {
        "id": "TxJfTNApeyTG",
        "colab_type": "code",
        "outputId": "b1f4079b-8ce6-464b-fc11-99111a94d8a6",
        "colab": {
          "base_uri": "https://localhost:8080/",
          "height": 72
        }
      },
      "source": [
        "maker = \"CHEVROLET\"\n",
        "print (len(maker))\n",
        "print (len(\"Hong Gildong\"))\n",
        "a = 12345\n",
        "print (len(str(a)))"
      ],
      "execution_count": 13,
      "outputs": [
        {
          "output_type": "stream",
          "text": [
            "9\n",
            "12\n",
            "5\n"
          ],
          "name": "stdout"
        }
      ]
    },
    {
      "cell_type": "markdown",
      "metadata": {
        "id": "3et-mpY7fAEQ",
        "colab_type": "text"
      },
      "source": [
        "##추가 연습 \n",
        "\n",
        "* 메소드 lower()와 upper()는 기존에 사용했던 str(123) 메소드와 달리 다음과 같이 표현하며 사용합니다.\n",
        "\n",
        "\n",
        "        maker.lower()\n",
        "        maker.upper()\n",
        "\n",
        "\n",
        "* lower()는 string을 모두 소문자로 만들어 주고 upper()는 string을 모두 대문자로 만들어 줍니다.\n",
        "* 이와 같이 표현하는 방법을 “Dot Notation”이라고 부릅니다.\n",
        "* 구체적인 내용은 함수를 배우면서 더욱 익숙해질 것입니다."
      ]
    },
    {
      "cell_type": "code",
      "metadata": {
        "id": "IaVGD6Q1fG3q",
        "colab_type": "code",
        "outputId": "e359b9e7-f781-41b4-f24c-2dd25d6403ef",
        "colab": {
          "base_uri": "https://localhost:8080/",
          "height": 53
        }
      },
      "source": [
        "maker = \"CHEVROLET\"\n",
        "print (maker.lower())\n",
        "print (maker.upper())"
      ],
      "execution_count": 0,
      "outputs": [
        {
          "output_type": "stream",
          "text": [
            "chevrolet\n",
            "CHEVROLET\n"
          ],
          "name": "stdout"
        }
      ]
    },
    {
      "cell_type": "markdown",
      "metadata": {
        "id": "MDbXVYfSjRme",
        "colab_type": "text"
      },
      "source": [
        "#Lesson 07    -    Number Methods\n",
        "\n",
        "\n",
        "##학습 내용\n",
        "* 두 가지 유형의 숫자 데이터가 있습니다 \n",
        "* integer(정수)와 float(실수) 및 그와 관련된 메소드를 보겠습니다.\n",
        "\n",
        "\n",
        "##문법\n",
        "\n",
        "        int(숫자)   # 정수로 표현된다\n",
        "        float(숫자) # 실수로 표현된다\n",
        "        str(숫자)   # 보이기는 숫자로 보이지만 문자로 인식된다.\n",
        "\n",
        "\n",
        "\n",
        " \n",
        "##설명\n",
        "* integer는 소수점 이하의 숫자를 나타낼 수 없습니다. \n",
        "* float은 소수점 이하의 숫자를 나타낼 수 있습니다. \n",
        " \n",
        "        int_sample = 1\n",
        "        int_test = 2\n",
        "        int_minus = -3\n",
        "        float_sample = 1.0\n",
        "        float_test = 2.\n",
        "        float_minus = -3.5\n",
        "\n",
        "* 그 외에, 숫자의 단위 수를 높여 0을 늘릴 때 e는 유용합니다.\n",
        "\n",
        "예를 들어 \n",
        "\n",
        "        float_e = 3.5e3는 3.5 X 1,000을 의미합니다.\n",
        "\n",
        "* %는 나머지를 나타냅니다.   3%10 = 1 \n",
        "\n",
        "\n",
        "\n",
        "## 연습\n",
        "\n",
        "\n",
        "* float 3.5를 int(3.5)로 하여 3이 나오는지 확인해 봅니다.\n",
        "* int 3을 float(3)으로 하여 3.0이 나오는지 확인해 봅니다.\n",
        "* int(3.5) + float(3)의 답이 얼마가 나오는지 확인해 봅니다.\n",
        "* str(3) + str(3.5)를 더해 봅니다.\n",
        "\n",
        "\n",
        "##주의\n",
        "* 참고로 Input() 메소드로 입력되는 number는 string으로 인식됩니다. \n",
        "* 따라서 입력된 숫자를 숫자로 사용하려면 int(입력된 숫자)로 바꾸어 주어야 합니다. \n",
        "\n",
        "* 아래의 예를 봅니다.\n",
        "\n",
        "        input_number = input()\n",
        "        my_number = int(input_number)\n",
        "        # 이렇게 바꾸면 my_number의 값이 string이 아니라 integer가 됨 \n",
        "        # 또는 처음부터 아래와 같이 integer로 인식하게 하는 것도 가능\n",
        "        a_number = int(input())\n",
        "\n",
        "\n",
        "\n",
        "\n",
        "##코딩 부분"
      ]
    },
    {
      "cell_type": "code",
      "metadata": {
        "id": "tZ5e6165jTDo",
        "colab_type": "code",
        "outputId": "215cf11f-892d-4062-efe6-97da67295945",
        "colab": {
          "base_uri": "https://localhost:8080/",
          "height": 89
        }
      },
      "source": [
        "test1 = int(3.5)\n",
        "test2 = float(3)\n",
        "test3 = test1 + test2\n",
        "test4 = str(3) +str(3.5)\n",
        "\n",
        "print (test1)\n",
        "print (test2)\n",
        "print (test3)\n",
        "print (test4)"
      ],
      "execution_count": 0,
      "outputs": [
        {
          "output_type": "stream",
          "text": [
            "3\n",
            "3.0\n",
            "6.0\n",
            "33.5\n"
          ],
          "name": "stdout"
        }
      ]
    },
    {
      "cell_type": "markdown",
      "metadata": {
        "id": "lJT9Uz1mjdyD",
        "colab_type": "text"
      },
      "source": [
        "##추가 연습 \n",
        "\n",
        "* 변수 gas_liter에 integer 5.5의 값을 줍니다. (구매할 휘발유의 리터량)\n",
        "* price_per_liter 변수를 만들고 3의 값을 줍니다. (휘발유 리터 당 3달러)\n",
        "* 변수 sum_price를 생성하고 구매할 gas의 총 가격을 계산하여 할당합니다. (총 구매 액수)\n",
        "* print 문을 사용하여 sum_price 변수의 integer값을 인쇄합니다.\n",
        "* 같은 값을 float 값으로 인쇄합니다.\n"
      ]
    },
    {
      "cell_type": "code",
      "metadata": {
        "id": "JfWKaSfUji-5",
        "colab_type": "code",
        "outputId": "4208ca92-3f2b-4183-cafd-9630f0d0c737",
        "colab": {
          "base_uri": "https://localhost:8080/",
          "height": 53
        }
      },
      "source": [
        "gas_liter = 5.5\n",
        "price_per_liter = 3\n",
        "sum_price = gas_liter * price_per_liter\n",
        "print (int(sum_price))\n",
        "print (float(sum_price))"
      ],
      "execution_count": 0,
      "outputs": [
        {
          "output_type": "stream",
          "text": [
            "16\n",
            "16.5\n"
          ],
          "name": "stdout"
        }
      ]
    },
    {
      "cell_type": "markdown",
      "metadata": {
        "id": "MVxS8t7Ljng4",
        "colab_type": "text"
      },
      "source": [
        "####Extra Practice\n",
        "\n",
        "\n",
        "(1) \n",
        "* 변수 apple_count 에 정수 10 을 대입하세요.\n",
        "* 변수 price_apple 를 만들고, 3000을 대입하세요.\n",
        "* 변수 sum_price 를 만들고, 구매 할 사과의 총 가격을 계산하여 대입하세요.\n",
        "* 변수 sum_price 를 print 문을 사용하여 출력하세요."
      ]
    },
    {
      "cell_type": "code",
      "metadata": {
        "id": "OPhzhaYPjq2x",
        "colab_type": "code",
        "outputId": "db7fa18c-34b1-4763-ea4d-59058a1db87d",
        "colab": {
          "base_uri": "https://localhost:8080/",
          "height": 35
        }
      },
      "source": [
        "apple_count=10\n",
        "price_apple = 3000\n",
        "sum_price = apple_count * price_apple\n",
        "print (sum_price)"
      ],
      "execution_count": 0,
      "outputs": [
        {
          "output_type": "stream",
          "text": [
            "30000\n"
          ],
          "name": "stdout"
        }
      ]
    },
    {
      "cell_type": "markdown",
      "metadata": {
        "id": "DW2H6G0CjutT",
        "colab_type": "text"
      },
      "source": [
        "2) \n",
        "* (1)의 결과는 정수로 나온다.\n",
        "* 하지만 사과를 반쪽을 살 수 있다고 가정해봅니다.\n",
        "* 변수 apple_count 에 실수 5.5를 대입하세요.\n",
        "* 변수 price_apple 를 만들고, 3000을 대입하세요.\n",
        "* 변수 sum_price 를 만들고, 구매 할 사과의 총 가격을 계산하여 대입하세요.\n",
        "* 변수 sum_price 를 print 문을 사용하여 출력하세요.\n"
      ]
    },
    {
      "cell_type": "code",
      "metadata": {
        "id": "J9loTgr3jyGF",
        "colab_type": "code",
        "outputId": "b104c383-b4bd-4de7-b2f9-e755b4eaffae",
        "colab": {
          "base_uri": "https://localhost:8080/",
          "height": 35
        }
      },
      "source": [
        "apple_count=5.5\n",
        "price_apple = 3000\n",
        "sum_price = apple_count * price_apple\n",
        "print (sum_price)"
      ],
      "execution_count": 0,
      "outputs": [
        {
          "output_type": "stream",
          "text": [
            "16500.0\n"
          ],
          "name": "stdout"
        }
      ]
    },
    {
      "cell_type": "markdown",
      "metadata": {
        "id": "3lYZpPyvj3Wr",
        "colab_type": "text"
      },
      "source": [
        "#Lesson 08    -    Boolean Operators\n",
        "\n",
        "\n",
        "##학습 내용\n",
        "* 데이터를 True 및 False로 표현해야 하는 경우가 있습니다.\n",
        "* 이는 string, numbers에 이어서 세번째로 배울 데이터 타입입니다.\n",
        "\n",
        "\n",
        "##문법\n",
        "\n",
        "         a >  b     a는 b보다 큼                   \n",
        "         a < b      a는 b보다 작음\n",
        "         a == b     a와 b은 같다                   \n",
        "         a != b    a와 b는 같지 않음\n",
        "         a <= b     a는 b보다 작거나 같음      \n",
        "         a >= b     a는 b보다 크거나 같음\n",
        "\n",
        "\n",
        " \n",
        "##설명\n",
        "* Boolean은 True / False로 나오나 숫자 값을 가집니다.\n",
        "* True 는 결과값이 참일 때 반환된다. (True의 값은 1입니다.)\n",
        "* False 는 결과값이 거짓일 때 반환된다. (False 값은 0입니다.)\n",
        "* 다음 연산자를 알아야합니다. (아래는 True가 되는 내용입니다.)\n",
        "\n",
        "    \t3 > 2       (3은 2보다 큼)\n",
        "    \t1 <2        (1이 2보다 작음)\n",
        "    \t1 == 1      (1과 1은 같다 )\n",
        "    \t1 ! = 2     (1과 2가 같지 않음)\n",
        "    \t2 <= 2      (2는 2보다 작거나 같음)\n",
        "    \t2 >= 2      (2는 2보다 크거나 같음)\n",
        "\n",
        "\n",
        "## 연습\n",
        "\n",
        "\n",
        "* 아래와 같이 정하여 각각의 연산자를 비교하고 그 값을 확인해 봅니다.\n",
        "\n",
        "        testnumber1 = 1\n",
        "        testnumber2 = 2\n",
        "        testnumber3 = 3\n",
        "\n",
        "\n",
        "\n",
        "##주의\n",
        "* 조건문에는 = 가 아니라 ==를 사용한다는 것을 기억하세요\n",
        "\n",
        "\n",
        "\n",
        "##코딩 부분"
      ]
    },
    {
      "cell_type": "code",
      "metadata": {
        "id": "kJsaEO0Hj89L",
        "colab_type": "code",
        "outputId": "29c819d3-4f51-4924-a44c-c3fa785d6f5b",
        "colab": {
          "base_uri": "https://localhost:8080/",
          "height": 126
        }
      },
      "source": [
        "testnumber1 = 1\n",
        "testnumber2 = 2\n",
        "testnumber3 = 3\n",
        "\n",
        "a = testnumber3 > 2\n",
        "b = testnumber1< 2 \n",
        "c = testnumber1 == 1 \n",
        "d = testnumber1 != 2\n",
        "e = testnumber2 <= 2 \n",
        "f = testnumber2 >= 2\n",
        "\n",
        "print (a)\n",
        "print (b)\n",
        "print (c)\n",
        "print (d)\n",
        "print (e)\n",
        "print (f)\n"
      ],
      "execution_count": 14,
      "outputs": [
        {
          "output_type": "stream",
          "text": [
            "True\n",
            "True\n",
            "True\n",
            "True\n",
            "True\n",
            "True\n"
          ],
          "name": "stdout"
        }
      ]
    },
    {
      "cell_type": "markdown",
      "metadata": {
        "id": "FSK051NqkMjc",
        "colab_type": "text"
      },
      "source": [
        "      #숫자를 바꾸어서 False가 되는 경우도 연습합니다."
      ]
    },
    {
      "cell_type": "markdown",
      "metadata": {
        "id": "CI9dekqUkPY0",
        "colab_type": "text"
      },
      "source": [
        "##추가 연습 \n",
        "\n",
        "* 아직 배우지 않은 것이지만 조건문의 맛의 잠깐 보겠습니다.\n",
        "* 아래를 실행을 해보면 이해가 갈 것입니다.\n",
        "\n",
        " \n",
        "        x = 5 \n",
        "\n",
        "        if x > 5:\n",
        "            print ( \"It is over the limit.\" )\n",
        "        else:\n",
        "            print ( \"It is under the limit.\" )\n",
        "\n",
        "\n",
        "* if-else는 Task 12에서 배우게 될 것이고 여기서는 불리안의 쓰임만 봅니다.\n",
        "\n",
        "\n",
        "        X = 6으로 고쳐서 다시 한 번 해봅니다.\n"
      ]
    },
    {
      "cell_type": "code",
      "metadata": {
        "id": "AGXLuJIkkazw",
        "colab_type": "code",
        "outputId": "e7ded5c0-97df-4e83-ea67-df703618c3b2",
        "colab": {
          "base_uri": "https://localhost:8080/",
          "height": 35
        }
      },
      "source": [
        "x = 5 \n",
        "if x > 5:\n",
        "   print (\"It is over the limit.\")\n",
        "else:\n",
        "   print (\"It is under the limit.\")"
      ],
      "execution_count": 0,
      "outputs": [
        {
          "output_type": "stream",
          "text": [
            "It is under the limit.\n"
          ],
          "name": "stdout"
        }
      ]
    },
    {
      "cell_type": "markdown",
      "metadata": {
        "id": "fYifUD0ZkhPO",
        "colab_type": "text"
      },
      "source": [
        "    # 6으로 고쳐 넣으면 아래와 같이 출력이 됩니다.\n",
        "    It is over the limit."
      ]
    },
    {
      "cell_type": "markdown",
      "metadata": {
        "id": "tk2sJhewlIdW",
        "colab_type": "text"
      },
      "source": [
        "#Lesson 09   -       Variables\n",
        "\n",
        "\n",
        "##학습 내용\n",
        "* 앞에서 우리는 변수(variable)를 접했습니다. \n",
        "* 수학에서는 Y = X + 2와 같은 식을 볼 수 있으며 Y와 X 값은 변하지만 2는 변하지 않습니다. 그래서 X,Y는 변수입니다. 파이썬에서의 변수의 쓰임새를 살펴보겠습니다.\n",
        "\n",
        "\n",
        "##문법\n",
        "\n",
        "        variable = \"string\"     # 문자형 변수\n",
        "        variable = 5            # 숫자형 변수\n",
        "        variable = input()      # 함수형 변수\n",
        "\n",
        "\n",
        " \n",
        "##설명\n",
        "* 수학에서는 Y = X + 2와 같은 것을 볼 수 있으며 Y와 X 값은 변하지만 2는 변하지 않습니다. 그래서 변수와 상수라는 표현을 씁니다.\n",
        "* 우리는 Y와 X를 변수라고 부릅니다.\n",
        "* 변수(variable)에는 값이 있습니다.\n",
        "* 이러한 값은 ＂string’, number (integer 또는 float) 또는 True / False 값 등이 있다고 배웠습니다.\n",
        "* 변수 = ‘string’과 변수 = 숫자 두 가지를 연습해 봅니다.\n",
        "\n",
        "\n",
        "## 연습\n",
        "\n",
        "\n",
        "\n",
        "* 문자형 변수의 조합을 살펴 보겠습니다. Peter가 차를 사려고 합니다. 결정한 것은 없는데 Josh가 새 차 및 중고차의 두 경우에 대비하여 3가지 답을 생각해 놓았는데 이를 섞어서 4가지 답을 만들어 봅니다.\n",
        "* 문자형 변수를 결합해 봅니다.\n",
        "\n",
        "\n",
        "        situation1 = \"It is a new car!\"   \n",
        "        situation2 = \"It is a used car.\"\n",
        "        comment1 = \"Too expensive!!\"\n",
        "        comment2 = \"It is a good deal!\"\n",
        "        comment3 = \"It can give you headaches!\"\n",
        "\n",
        "\n",
        "\n",
        "##코딩 부분"
      ]
    },
    {
      "cell_type": "code",
      "metadata": {
        "id": "QEjwPKFslT4t",
        "colab_type": "code",
        "outputId": "1f14ebfe-5077-4f44-afa9-bc4590e52574",
        "colab": {
          "base_uri": "https://localhost:8080/",
          "height": 90
        }
      },
      "source": [
        "situation1 = \"It is a new car!\"   \n",
        "situation2 = \"It is a used car.\"\n",
        "comment1 = \"Too expensive!!\"\n",
        "comment2 = \"It is a good deal!\"\n",
        "comment3 = \"It can give you headaches!\"\n",
        "\n",
        "\n",
        "answer1 = situation1 + \" \" + comment1\n",
        "answer2 = situation1 + \" \" + comment2\n",
        "answer3 = situation2 + \" \" + comment3\n",
        "answer4 = situation2 + \" \" + comment2\n",
        "\n",
        "print (answer1)\n",
        "print (answer2)\n",
        "print (answer3) \n",
        "print (answer4)\n"
      ],
      "execution_count": 15,
      "outputs": [
        {
          "output_type": "stream",
          "text": [
            "It is a new car! Too expensive!!\n",
            "It is a new car! It is a good deal!\n",
            "It is a used car. It can give you headaches!\n",
            "It is a used car. It is a good deal!\n"
          ],
          "name": "stdout"
        }
      ]
    },
    {
      "cell_type": "markdown",
      "metadata": {
        "id": "-gB8xVPZledM",
        "colab_type": "text"
      },
      "source": [
        "####Video\n",
        "[Lesson 9 - Lesson 17까지의 영상](https://youtu.be/zVIQuRShh9U)\n",
        "\n",
        "\n",
        "##추가 연습 \n",
        "\n",
        "* 스트링과 숫자를 합하는 연습을 간단히 해봅니다.\n",
        "* 아래 코드와 설명을 보고 이해를 한 번 해봅니다.\n",
        "\n",
        "\n",
        "        # 우리 강아지 이름은 코코예요\n",
        "        my_dog_name = ‘Coco’ \t\n",
        "        \n",
        "        #코코는 한 주에 4번 산책해요\n",
        "        walk_per_week = 4   \t\n",
        "        \n",
        "        # 한 번 산책 할 때 마다 5곳에 들려요\n",
        "        point_visit = 5  \t\t\t\t\n",
        "        \n",
        "        # 총 들려야 하는 곳은 130 곳이예요\n",
        "        points_to_visit = 130  \t\t\n",
        "        \n",
        "        # 몇 주 걸릴 것인가?\n",
        "        weeks_to_take = float(points_to_visit) / (walk_per_week * point_visit )  \t\n"
      ]
    },
    {
      "cell_type": "code",
      "metadata": {
        "id": "pV51dgekljOO",
        "colab_type": "code",
        "outputId": "47449af2-134b-447c-e4cc-6453dd09e620",
        "colab": {
          "base_uri": "https://localhost:8080/",
          "height": 35
        }
      },
      "source": [
        "my_dog_name = \"Coco\"\n",
        "walk_per_week = 4\n",
        "point_visit = 5\n",
        "points_to_visit = 130\n",
        "weeks_to_take = float(points_to_visit) / (walk_per_week * point_visit )\n",
        "statement = my_dog_name + \" needs \" + str(weeks_to_take) + \" weeks to visit those \" + str(points_to_visit) + \" places.\"\n",
        "print (statement)\n"
      ],
      "execution_count": 0,
      "outputs": [
        {
          "output_type": "stream",
          "text": [
            "Coco needs 6.5 weeks to visit those 130 places.\n"
          ],
          "name": "stdout"
        }
      ]
    },
    {
      "cell_type": "markdown",
      "metadata": {
        "id": "FpyzYgdtl5tv",
        "colab_type": "text"
      },
      "source": [
        "#Lesson 10    -    Updating Variables\n",
        "\n",
        "\n",
        "##학습 내용\n",
        "* 변수는 업데이트하여 변경할 수 있습니다. \n",
        "* 마지막으로 대입되는 것이 최종 값이 됩니다.\n",
        "\n",
        "\n",
        "##문법\n",
        "\n",
        "        x = 1\n",
        "        x = x + 1 \n",
        "        print (x)  # x = 2로 갱신된다.\n",
        "\n",
        " \n",
        "##설명\n",
        "* 변수는 업데이트하여 변경할 수 있습니다.\n",
        "* 예를 들어 x = 1이라 정의하였는데 아래에 x = x + 1이라 재 정의하면 x는 2가 됩니다.\n",
        "* 이와 같이 프로그램에서는 가장 아래 것 (또는 가장 최신 것)이 값을 갱신합니다.\n",
        "* 마찬가지로 기름통에 10리터가 있는데\n",
        "* 변수 = 남은 기름 양으로 한다면\n",
        "* 쓸 때 마다 그 값은 줄어드는 것이 계속 업데이트 되어져야 할 것입니다.\n",
        "* 변수는 숫자형 변수였다가 스트링형 변수로도 변할 수 있습니다.\n",
        "\n",
        "## 연습\n",
        "\n",
        "\n",
        "* 변수 gas_tank에 10의 값을 대입합니다. (가스 통에 10리터 있다고 가정)\n",
        "* remaining gasoline(사용 후 남은 양)을 인쇄합니다.\n",
        "* 변수 gas_used (사용된 휘발유)에 5를 대입합니다.\n",
        "* 변수 gas_tank에서 gas_used를 빼면 탱크에 남아있는 휘발유 값이 나오겠죠.\n",
        "* 남은 양을 인쇄합니다.\n",
        "\n",
        "\n",
        "\n",
        "##주의\n",
        "* 갱신된다는 것은 변수의 값이 바뀐다는 것을 의미합니다. \n",
        "\n",
        "\n",
        "\n",
        "##코딩 부분"
      ]
    },
    {
      "cell_type": "code",
      "metadata": {
        "id": "qIGbsYBil8rZ",
        "colab_type": "code",
        "outputId": "a36f5070-a746-44a0-fe19-e0afa2121b17",
        "colab": {
          "base_uri": "https://localhost:8080/",
          "height": 53
        }
      },
      "source": [
        "gas_tank = 10\n",
        "\n",
        "print ( \"remaining gasoline\" )\n",
        "\n",
        "gas_used = 5\n",
        "\n",
        "gas_tank = gas_tank - gas_used\n",
        "\n",
        "print (gas_tank)\n",
        "\n"
      ],
      "execution_count": 0,
      "outputs": [
        {
          "output_type": "stream",
          "text": [
            "remaining gasoline\n",
            "5\n"
          ],
          "name": "stdout"
        }
      ]
    },
    {
      "cell_type": "markdown",
      "metadata": {
        "id": "YkODoMs6mGRU",
        "colab_type": "text"
      },
      "source": [
        "##추가 연습 \n",
        "\n",
        "* 변수가 숫자였다가 스트링으로 업데이트 될 수도 있습니다.\n",
        "* 변수에 숫자 값을 줍니다.\n",
        "* 그리고 이를 프린트 합니다.\n",
        "* 같은 변수 이름에 스트링 값을 줍니다.\n",
        "* 이를 프린트 해 봅니다.\n"
      ]
    },
    {
      "cell_type": "code",
      "metadata": {
        "id": "ZDRMg5X8mLTI",
        "colab_type": "code",
        "outputId": "e88380e8-f511-47bf-8890-fc263760fbfb",
        "colab": {
          "base_uri": "https://localhost:8080/",
          "height": 53
        }
      },
      "source": [
        "my_var = 1\n",
        "print (my_var)\n",
        "my_var = \"Hello\"\n",
        "print (my_var)"
      ],
      "execution_count": 0,
      "outputs": [
        {
          "output_type": "stream",
          "text": [
            "1\n",
            "Hello\n"
          ],
          "name": "stdout"
        }
      ]
    },
    {
      "cell_type": "markdown",
      "metadata": {
        "id": "eWhHVBhJnQt9",
        "colab_type": "text"
      },
      "source": [
        "#TASK 11      - String Format\n",
        "\n",
        "\n",
        "##학습 내용\n",
        "* string과 number를 섞어서 출력할 때 우리는 숫자를 스트링화 시켜서 문장을 만들었습니다. \n",
        "* 이제 이를 삽입하여 쓸 수 있는 format 법을 배웁니다.\n",
        "\n",
        "\n",
        "##문법\n",
        "* 문장에 {}를 넣고 인수의 위치를 지정해준 후 .format()에 데이터를 넣습니다.\n",
        "\n",
        "        print  (\"I am {0}, and I love {1} \".format (\" Peter \",\" BMW\")\n",
        "        #  I am Peter, and I love BMW\n",
        "\n",
        "\n",
        " \n",
        "##설명\n",
        "* Python 3.x 버전에서는 string 메소드 format() 을 사용합니다.\n",
        "* {0}, {1}, {2}, {3}과 같은 인수의 위치를 제공합니다.\n",
        "* 연습을 하다 보면 Python 2.x 버전에서 유사하게 사용한 것을 보실 수 있는데, 이는 추가 연습에서 다시 한 번 보시겠습니다. \n",
        "\n",
        "\n",
        "## 연습\n",
        "\n",
        "\n",
        "* 아래와 같이 자신의 이름을 넣고 연습해 봅니다.\n",
        "\n",
        "\n",
        "        name = '홍길동'\n",
        "        age  = 23 \n",
        "        \n",
        "        print (\"제 이름은  {} 입니다.\".format(name))\n",
        "        print (\"저는  {}세 입니다.\".format(age))\n",
        "\n",
        "\n",
        "##주의\n",
        "* 위의 경우는 {}이 한 개이나 여러 개의 경우 중괄호 {} 안에 0,1 등으로 정해줘야 합니다.\n",
        "\n",
        "\n",
        "\n",
        "\n",
        "##코딩 부분"
      ]
    },
    {
      "cell_type": "code",
      "metadata": {
        "id": "6e4i_KK-nVlf",
        "colab_type": "code",
        "outputId": "2001031e-d116-4b18-b7c4-23c564a710f7",
        "colab": {
          "base_uri": "https://localhost:8080/",
          "height": 54
        }
      },
      "source": [
        "name = \"홍길동\"\n",
        "age  = 23 \n",
        "\n",
        "print (\"제 이름은  {} 입니다.\".format(name))\n",
        "print (\"저는  {}세 입니다.\" .format(age))"
      ],
      "execution_count": 16,
      "outputs": [
        {
          "output_type": "stream",
          "text": [
            "제 이름은  홍길동 입니다.\n",
            "저는  23세 입니다.\n"
          ],
          "name": "stdout"
        }
      ]
    },
    {
      "cell_type": "markdown",
      "metadata": {
        "id": "pEOcuS_poDCk",
        "colab_type": "text"
      },
      "source": [
        "##추가 연습 \n",
        "\n",
        "* 다른 방법으로 포매팅을 해보겠습니다.\n",
        "* 아직 배우지 않은 것이지만 리스트의 개념, 임포트의 개념, math를 import해서 max, min, mean의 개념을 사용해 봅니다.\n",
        "\n",
        "\t\t\t# 리스트 age\n",
        "\t\t\tage = [22, 35, 32, 7, 67, 34, 21]\n",
        "\t\t\t# math 란 모듈을 import 해옵니다.\n",
        "\t\t\timport math\n",
        "\t\t\t# 여기서 여기서 max (최대값 찾기) min (최소값 찾기) mean (평균 값 찾기) 메소드를 사용하여 이를 포매팅한 문장을 프린트 해봅니다. 두 방법으로 해봅니다.\n",
        "\t\t\t# 평균은 파이썬 기본이 아니라 numpy 함수라 numpy를 import 합니다.\n",
        "\t\t\timport numpy as np\n",
        "\n",
        "\t\t\t\n",
        "\t\t\tprint('Oldest person is',max(age),'years old.')\t\t\t\t\t\n",
        "\t\t\tprint('Youngest person is',min(age),'years old.')\t\t\t\t\t\n",
        "\t\t\tprint('Average age is', np.mean(age),'years old.')\n",
        "\n",
        "\t\t\tprint('Oldest person is {} years old.'.format(max(age)))\t\t\t\t\t\n",
        "\t\t\tprint('Youngest person is {} years old.'.format(min(age)))\t\t\t\t\t\n",
        "\t\t\tprint('Average age is {} years old.'.format(np.mean(age)))\n",
        "\n",
        "\n",
        "* 위와 같이 좀 더 추가적인 기능을 사용하려면 import해야 하는데 아래 추후 레슨에서 배우시도록 하고 여기서는 맛만 보았습니다."
      ]
    },
    {
      "cell_type": "code",
      "metadata": {
        "id": "M4uVLRWUoG3q",
        "colab_type": "code",
        "outputId": "cdbdc0f4-b733-467e-8d86-bc451d141d60",
        "colab": {
          "base_uri": "https://localhost:8080/",
          "height": 129
        }
      },
      "source": [
        "age = [22, 35, 32, 7, 67, 34, 21]\n",
        "import math\n",
        "import numpy as np\n",
        "\n",
        "print('Oldest person is',max(age),'years old.')\t\t\t\t\t\n",
        "print('Youngest person is',min(age),'years old.')\t\t\t\t\t\n",
        "print('Average age is', np.mean(age),'years old.')\n",
        "\n",
        "print('Oldest person is {} years old.'.format(max(age)))\t\t\t\t\t\n",
        "print('Youngest person is {} years old.'.format(min(age)))\t\t\t\t\t\n",
        "print('Average age is {} years old.'.format(np.mean(age)))\n"
      ],
      "execution_count": 0,
      "outputs": [
        {
          "output_type": "stream",
          "text": [
            "Oldest person is 67 years old.\n",
            "Youngest person is 7 years old.\n",
            "Average age is 31.142857142857142 years old.\n",
            "Oldest person is 67 years old.\n",
            "Youngest person is 7 years old.\n",
            "Average age is 31.142857142857142 years old.\n"
          ],
          "name": "stdout"
        }
      ]
    },
    {
      "cell_type": "markdown",
      "metadata": {
        "id": "XUagFjfgqjym",
        "colab_type": "text"
      },
      "source": [
        "#  Lesson 12    -    If문과 Else문\n",
        "\n",
        "\n",
        "\n",
        "##학습 내용\n",
        "* if 문은 조건이 옳다면 다음에 오는 들여 쓰기 한 코드에 따라 무언가를 하라고 지정하는 것입니다.\n",
        "* else문 if 조건이 일치하지 않을 때 다른 작업을 수행하라고 하는 문법입니다.\n",
        "\n",
        "\n",
        "##문법\n",
        "\n",
        "* if - else의 문법은 if문과 그에 종속된 body 그리고 else문과 그에 종속된 body로 구속되어 있다.\n",
        "\n",
        "        if condition:\n",
        "            body\n",
        "        else:\n",
        "            body\n",
        "\n",
        "\n",
        " \n",
        "##설명\n",
        "* if 문은 조건이 옳다면 다음에 오는 들여 쓰기 한 코드에 따라 무언가를 하라고 지정하는 것입니다.\n",
        "* else문은 if 조건이 일치하지 않을 때 다른 작업을 수행하라고 하는 문법입니다.\n",
        "* 예를 들어 자동차가 일정속도 이상을 달릴 경우(if) 경고를 주고\n",
        "* 아닌 경우 (else) 속도를 내라고 하는 명령을 프린트 할 수 있겠습니다.\n",
        "* 또는 그 반대나 다른 조건들을 만들 수도 있습니다.\n",
        "\n",
        "## 연습\n",
        "\n",
        "    \"How fast are you going?\"의 질문을 프린트 합니다.\n",
        "            (깜빡) --> 속도 입력\n",
        "    속도가 50 이하인 경우 \n",
        "            \"Go faster.\"를 프린트하고\n",
        "    아닌 경우 \n",
        "            \"Slow down.\"을 프린트 합니다.\n",
        "\n",
        "\n",
        "\n",
        "##주의\n",
        "* else문을 없앨 경우, else문이 없다고 if문이 프린트가 안되는 것은 아니나 그 경우 자기 조건에 맞지 않는 것은 프린트를 못 합니다.\n",
        "\n",
        "\n",
        "\n",
        "##코딩 부분"
      ]
    },
    {
      "cell_type": "code",
      "metadata": {
        "id": "U9apr6uVqn2W",
        "colab_type": "code",
        "colab": {
          "base_uri": "https://localhost:8080/",
          "height": 54
        },
        "outputId": "6ddeefee-36a8-4a39-a9c5-9241c2a5406f"
      },
      "source": [
        "my_speed = input(\"How fast are you going?\")\n",
        "int_speed = int(my_speed)\n",
        "\n",
        "if int_speed <= 50:\n",
        "   print (\"Go faster\")\n",
        "\n",
        "else:\n",
        "  print (\"Slow down.\")\n"
      ],
      "execution_count": 17,
      "outputs": [
        {
          "output_type": "stream",
          "text": [
            "How fast are you going?60\n",
            "Slow down.\n"
          ],
          "name": "stdout"
        }
      ]
    },
    {
      "cell_type": "markdown",
      "metadata": {
        "id": "Qa5rri64qzJi",
        "colab_type": "text"
      },
      "source": [
        "##추가 연습 \n",
        "\n",
        "* 운전을 하는데\n",
        "            앞에 신호등에 빨간 불이면  1을 입력 \n",
        "                     \"Stop the car.\"를 프린트하고\n",
        "            아닌 경우 2를 입력\n",
        "                     \"Go forward.\"을 프린트 합니다."
      ]
    },
    {
      "cell_type": "code",
      "metadata": {
        "id": "hhutqvZ3q4bE",
        "colab_type": "code",
        "outputId": "4ceb284b-6bd9-427b-f167-ca9e191a49c2",
        "colab": {
          "base_uri": "https://localhost:8080/",
          "height": 71
        }
      },
      "source": [
        "print (\"If the traffic light is red, enter 1. if the traffic light is blue or yellow, enter 2.\")\n",
        "t_code = int(input())\n",
        "\n",
        "if t_code == 1:\n",
        "  print (\"Stop the car.\")\n",
        "else :\n",
        "    print (\"Go forward.\")"
      ],
      "execution_count": 0,
      "outputs": [
        {
          "output_type": "stream",
          "text": [
            "If the traffic light is red, enter 1. if the traffic light is blue or yellow, enter 2.\n",
            "2\n",
            "Go forward.\n"
          ],
          "name": "stdout"
        }
      ]
    },
    {
      "cell_type": "markdown",
      "metadata": {
        "id": "WlQCLeqDtWE4",
        "colab_type": "text"
      },
      "source": [
        "#TASK 13    -    If문, Elif문 & Else문\n",
        "\n",
        "\n",
        "##학습 내용\n",
        "* if–else가 이 것 아니면 나머지 경우라면 if-elif-else는 다양한 옵션을 줍니다.  \n",
        "* elif은 여러 개가 가능하므로 다양한 조건을 표현할 수 있습니다.\n",
        "\n",
        "\n",
        "\n",
        "##문법\n",
        "\n",
        "* if문 - elif문 - else문은 아래와 같은 구조를 가집니다.\n",
        "\n",
        "            if condition:\n",
        "                body\n",
        "            elif condition:\n",
        "                body\n",
        "            else\n",
        "                body\n",
        "\n",
        "\n",
        " \n",
        "##설명\n",
        "* 앞 과에서 if-else 를 연습하였습니다.\n",
        "* 이 과에서는 같은 예제들을 if –elif—else로 해보겠습니다.\n",
        "* 신호등을 보고 운전하고 있다고 가정 해 보겠습니다.\n",
        "    \n",
        "    \tif 푸른색:\n",
        "       \t\tprint (\"지나가세요\")\n",
        "    \telif 빨간색:\n",
        "       \t\tprint (\"정지하세요.\")\n",
        "    \telse:\n",
        "      \t\tprint (\"서행하세요.\")\n",
        "\n",
        " \n",
        "\n",
        "## 연습\n",
        "* 앞 과에서 한 연습을 살짝 바꾸어 봅니다.\n",
        "\n",
        "      \"How fast are you going?\"의 질문을 프린트 합니다.\n",
        "      (깜빡) --> 속도 입력\n",
        "      속도가 50 이하인 경우   \"You can go faster.\"를 프린트하고\n",
        "      속도가 80이상인 경우 \"Slow down.\"을 프린트 합니다.\n",
        "      둘 다 아닌 경우 (50초과 80미만)는 \"Okay\"를 프린트합니다.\n",
        "\n",
        "\n",
        "##주의\n",
        "* elif은 하나 이상, 여러 개 사용이 가능 합니다.\n",
        "\n",
        "\n",
        "\n",
        "##코딩 부분"
      ]
    },
    {
      "cell_type": "code",
      "metadata": {
        "id": "rH_oGmzztb11",
        "colab_type": "code",
        "colab": {}
      },
      "source": [
        "my_speed = input(\"How fast are you going?\")\n",
        "int_speed = int(my_speed)\n",
        "\n",
        "if int_speed <= 50:\n",
        "   print (\"Go faster\")\n",
        "elif int_speed >= 80:\n",
        "   print (\"Slow down.\")\n",
        "else:\n",
        "  print (\"Okay.\")\n"
      ],
      "execution_count": 0,
      "outputs": []
    },
    {
      "cell_type": "markdown",
      "metadata": {
        "id": "eFgR7Dpzt-Se",
        "colab_type": "text"
      },
      "source": [
        "##추가 연습 \n",
        "\n",
        "* 앞 과에서는 신호등이 빨간 색이면 멈추고 아니면 간다는 연습을 했는데 이번엔 빨간색이면 멈추고, 노란색이면 속도를 줄이고, 아니면 (녹색) 앞으로 간다를 해보겠습니다. "
      ]
    },
    {
      "cell_type": "code",
      "metadata": {
        "id": "hbF21Prwt3D5",
        "colab_type": "code",
        "outputId": "2dd105c7-9ef9-447c-a824-170deb37601e",
        "colab": {
          "base_uri": "https://localhost:8080/",
          "height": 71
        }
      },
      "source": [
        "print (\"If the traffic light is red, enter 1, if the traffic light is yellow, enter 2, and if the traffic light is green, enter 3.\")\n",
        "t_code = int(input())\n",
        "\n",
        "if t_code == 1:\n",
        "  print (\"Stop the car.\")\n",
        "elif t_code == 2:\n",
        "  print (\"Slow down.\")\n",
        "else :\n",
        "    print (\"Go forward.\")"
      ],
      "execution_count": 0,
      "outputs": [
        {
          "output_type": "stream",
          "text": [
            "If the traffic light is red, enter 1, if the traffic light is yellow, enter 2, and if the traffic light is green, enter 3.\n",
            "2\n",
            "Slow down.\n"
          ],
          "name": "stdout"
        }
      ]
    },
    {
      "cell_type": "markdown",
      "metadata": {
        "id": "78Jgu7GlDO9b",
        "colab_type": "text"
      },
      "source": [
        "#  TASK 14       -      List \n",
        "\n",
        "\n",
        "\n",
        "##학습 내용\n",
        "* 리스트는 대괄호 ‘[ ]’로 표현되며 데이터를 하나의 변수로 관리할 때 사용됩니다. \n",
        "* 변경 가능하고, 중복도 가능하여 일반적인 목록으로 사용된다.  \n",
        "\n",
        "\n",
        "##문법\n",
        "* 리스트는 아래와 같은 구조를 가집니다.\n",
        "\n",
        "         my_list = [1, 2, 3, \"a\", \"b\", \"c\"]\n",
        "\n",
        " \n",
        "##설명\n",
        "* \"list\" 는 말 그대로 목록입니다.\n",
        "* 집합과 비슷한데 연속적으로 놓여있는 리스트의 아이템들을 포함합니다.\n",
        "* 대괄호 [Square Bracket]로 표현되며 데이터를 하나의 변수로 관리할 때 사용됩니다.\n",
        "* 리스트는 또한 다른 리스트를 자신의 아이템으로 가질 수 있습니다.\n",
        "\n",
        "  즉 리스트 안에 리스트가 올 수 있다는 것입니다.\n",
        "\n",
        "* 리스트의 아이템은 교체가 가능하여 교체가 안 되는 tupple과 비교되며, 아이템 중복이 가능하여 중복이 안 되는 set과 구별됩니다. \n",
        " \n",
        "\n",
        "## 연습\n",
        "* 1,2,3 의 단순한 숫자를 아이템으로 하는 리스트를 만들어 봅니다.\n",
        "\n",
        "        my_list1 = [1, 2, 3] \n",
        "\n",
        "\n",
        "* 그리고 string으로 된 아이템들을 만들어 봅니다.\n",
        "\n",
        "        my_list2 = [\"KIA\", \"Chevrolet\", \"Ford\"]\n",
        "\n",
        "* 이 들을 프린트 해 봅니다.\n",
        "\n",
        "\n",
        "##주의\n",
        "* 리스트는 리스트 안에 숫자, 문자를 같이 넣을 수 있고 다른 리스트를 넣을 수 있습니다.\n",
        "\n",
        "\n",
        "\n",
        "##코딩 부분"
      ]
    },
    {
      "cell_type": "code",
      "metadata": {
        "id": "pj2-IqRpDXPf",
        "colab_type": "code",
        "outputId": "cf865492-b7b0-4fd4-ef13-f528e8b82d57",
        "colab": {
          "base_uri": "https://localhost:8080/",
          "height": 53
        }
      },
      "source": [
        "my_list1 = [1, 2, 3]\n",
        "my_list2 = [\"KIA\", \"Chevrolet\", \"Ford\"]\n",
        "print (my_list1)\n",
        "print (my_list2)"
      ],
      "execution_count": 0,
      "outputs": [
        {
          "output_type": "stream",
          "text": [
            "[1, 2, 3]\n",
            "['KIA', 'Chevrolet', 'Ford']\n"
          ],
          "name": "stdout"
        }
      ]
    },
    {
      "cell_type": "markdown",
      "metadata": {
        "id": "gLMIJM_xDZoJ",
        "colab_type": "text"
      },
      "source": [
        "####Video\n",
        "[Lesson 14 - Lesson 27까지의 영상](https://youtu.be/zVIQuRShh9U)"
      ]
    },
    {
      "cell_type": "markdown",
      "metadata": {
        "id": "B4m62jXwDk1m",
        "colab_type": "text"
      },
      "source": [
        "##추가 연습 \n",
        "\n",
        "        my_list3 = [1, 2, 3, [\"KIA\", \"Chevrolet\", \"Ford\"]]\n",
        "\n",
        "\n",
        "* 이번에는 1,2,3에 이어서 4번째 아이템을 string으로 된 리스트를 아이템으로 둔 리스트를 봅니다.\n",
        "* 이 경우 리스트는 아이템을 4개로 표현할 지 6개로 표현할지 len()으로 검사 해봅니다.\n",
        "* 4번째 요소가 리스트로 표현될까? 한 번 살펴봅니다.\n"
      ]
    },
    {
      "cell_type": "code",
      "metadata": {
        "id": "eRYzuqpvDl4-",
        "colab_type": "code",
        "outputId": "fd93e97d-4809-4dba-a540-e0b170203958",
        "colab": {
          "base_uri": "https://localhost:8080/",
          "height": 71
        }
      },
      "source": [
        "my_list3 = [1, 2, 3, [\"KIA\", \"Chevrolet\", \"Ford\"] ]\n",
        "print (len(my_list3))\n",
        "print (my_list3[0])\n",
        "print (my_list3[3])\n",
        "\n"
      ],
      "execution_count": 0,
      "outputs": [
        {
          "output_type": "stream",
          "text": [
            "4\n",
            "1\n",
            "['KIA', 'Chevrolet', 'Ford']\n"
          ],
          "name": "stdout"
        }
      ]
    },
    {
      "cell_type": "markdown",
      "metadata": {
        "id": "pvS1Lh17DqwJ",
        "colab_type": "text"
      },
      "source": [
        "####Extra Practice\n",
        "\n",
        "(1)   슬라이스 인덱싱\n",
        "\n",
        "        my_list = [1,2,3,4,5]\n",
        "        print my_list[0:2] #첫째부터 셋째 이전까지 출력 (즉 [1] [2] 위치 출력)\n",
        "        print my_list[1:] # 둘째부터 끝까지 출력 (즉, [1] 위치부터 출력) \n",
        "        # 이를 응용하여, 잘라서 어디까지 만들 수 있나 봅니다.\n"
      ]
    },
    {
      "cell_type": "code",
      "metadata": {
        "id": "IvQKKE_dDuDF",
        "colab_type": "code",
        "outputId": "838b625b-12fa-498d-af99-243c8211c3b0",
        "colab": {
          "base_uri": "https://localhost:8080/",
          "height": 54
        }
      },
      "source": [
        "my_list = [1,2,3,4,5]\n",
        "print (my_list[0:2]) #첫째부터 3째 이전까지 출력\n",
        "print (my_list[1:]) # 둘째부터 끝까지 출력"
      ],
      "execution_count": 18,
      "outputs": [
        {
          "output_type": "stream",
          "text": [
            "[1, 2]\n",
            "[2, 3, 4, 5]\n"
          ],
          "name": "stdout"
        }
      ]
    },
    {
      "cell_type": "markdown",
      "metadata": {
        "id": "X453TLS5DyIs",
        "colab_type": "text"
      },
      "source": [
        "(2)   Replacing\n",
        "\n",
        "        my_list = [1,2,3,4,5]\n",
        "        my_list[1] = 6\n",
        "        print my_list\n",
        "        #여기서 둘째 위치가 6으로 바뀌는지 확인해 봅니다.\n"
      ]
    },
    {
      "cell_type": "code",
      "metadata": {
        "id": "9HUkk8KvDws7",
        "colab_type": "code",
        "outputId": "8de06d7d-f236-4d01-f979-cfeb44c35846",
        "colab": {
          "base_uri": "https://localhost:8080/",
          "height": 35
        }
      },
      "source": [
        "my_list = [1,2,3,4,5]\n",
        "my_list[1] = 6\n",
        "print (my_list)\n"
      ],
      "execution_count": 19,
      "outputs": [
        {
          "output_type": "stream",
          "text": [
            "[1, 6, 3, 4, 5]\n"
          ],
          "name": "stdout"
        }
      ]
    },
    {
      "cell_type": "markdown",
      "metadata": {
        "id": "_ZZvGEaaD7Ay",
        "colab_type": "text"
      },
      "source": [
        "(3)  Adding\n",
        "\n",
        "\n",
        "        # 리스트를 더해 봅니다.\n",
        "        my_list1 = [1,2,3,4,5]  \n",
        "        my_list2 = [6,7,8,9]\n",
        "        my_list = my_list1 + my_list2\n",
        "        print my_list\n"
      ]
    },
    {
      "cell_type": "code",
      "metadata": {
        "id": "3Gk61rZ5D9Sy",
        "colab_type": "code",
        "outputId": "4bb681be-9140-433a-effc-e0e43ac25aaa",
        "colab": {
          "base_uri": "https://localhost:8080/",
          "height": 35
        }
      },
      "source": [
        "my_list1 = [1,2,3,4,5]\n",
        "my_list2 = [6,7,8,9]\n",
        "my_list = my_list1 + my_list2\n",
        "print (my_list)"
      ],
      "execution_count": 0,
      "outputs": [
        {
          "output_type": "stream",
          "text": [
            "[1, 2, 3, 4, 5, 6, 7, 8, 9]\n"
          ],
          "name": "stdout"
        }
      ]
    },
    {
      "cell_type": "markdown",
      "metadata": {
        "id": "FOmOOOhlENAf",
        "colab_type": "text"
      },
      "source": [
        "(4) Multiplying"
      ]
    },
    {
      "cell_type": "code",
      "metadata": {
        "id": "DOrEcIdiEGsA",
        "colab_type": "code",
        "outputId": "d0a05c64-ff5c-4cf2-bd15-30388ccd758e",
        "colab": {
          "base_uri": "https://localhost:8080/",
          "height": 35
        }
      },
      "source": [
        "my_list1 = [1,2,3,4,5]\n",
        "my_list = my_list1 *2\n",
        "print (my_list)\n"
      ],
      "execution_count": 0,
      "outputs": [
        {
          "output_type": "stream",
          "text": [
            "[1, 2, 3, 4, 5, 1, 2, 3, 4, 5]\n"
          ],
          "name": "stdout"
        }
      ]
    },
    {
      "cell_type": "markdown",
      "metadata": {
        "id": "1BmDaSxdEWJO",
        "colab_type": "text"
      },
      "source": [
        "#TASK 15     -   List Methods \n",
        "\n",
        "\n",
        "##학습 내용\n",
        "* 리스트의 메소드 중 append(), count(), index(), insert(), pop(), extract()에  대해서 학습해 봅니다.\n",
        "\n",
        "##문법\n",
        "* 아래와 같은 메소드를 공부해 봅니다.\n",
        "\n",
        "        listname.append(item)  \n",
        "        listname.count(item)\n",
        "        listname.index(item)\n",
        "        listname.insert(위치, item)\n",
        "        listname.pop(위치)\n",
        "\n",
        "\n",
        " \n",
        "##설명\n",
        "* list.append()     # 리스트에 아이템을 추가한다. append를 하면 추가된 아이템이 끝에 추가된다.\n",
        "* list.count()      # 특정 아이템이 몇 개가 있는지를 알려준다.\n",
        "* list.index()      # 특정 아이템이 어느 위치에 있는지 알려준다.\n",
        "* list.insert()     # 리스트에 아이템을 넣어준다. insert를 3번째 위치에 했다면 insert된 아이템은 그 위치에 들어가고 본래 그 위치에 있던 아이템 및 그 뒤 아이템들은 뒤로 밀린다.\n",
        "* list.pop()        # 리스트의 특정 아이템을 보여주고 사라지게 한다.\n",
        "\n",
        "\n",
        "## 연습\n",
        "* 빈 리스트 my_list4를 만들어 봅니다.\n",
        "* 여기에 ＂Ford’ 를 append로 넣어 봅니다.\n",
        "* ‘Ford’ 가 리스트에 몇 개가 있는지 확인합니다.\n",
        "* ‘Ford’가 어디에 있는지 확인합니다.\n",
        "* 이어서 ＂BMW’를 리스트에 넣어 봅니다.\n",
        "* pop method를 사용하여 제일 앞에 있는 값이 보여지게 합니다.\n",
        "* 이어서 insert를 사용하여 ＂Chevrolet’ 을 두 번째 위치에 넣어봅니다.\n",
        "* my_list4를 출력해봅니다.\n",
        "\n",
        "\n",
        "\n",
        "##주의\n",
        "pop()을 사용하면 해당 아이템이 보여진 후 리스트내에서 삭제되므로 주의해야 합니다.\n",
        "\n",
        "\n",
        "\n",
        "\n",
        "##코딩 부분"
      ]
    },
    {
      "cell_type": "code",
      "metadata": {
        "id": "BmSu5zmGEaGa",
        "colab_type": "code",
        "colab": {
          "base_uri": "https://localhost:8080/",
          "height": 126
        },
        "outputId": "260e83f9-c464-4b60-d386-3865b7153f94"
      },
      "source": [
        "my_list4 = []\n",
        "my_list4.append(\"Ford\")\n",
        "print (my_list4)\n",
        "print (my_list4.count(\"Ford\"))\n",
        "print (my_list4.index(\"Ford\"))\n",
        "my_list4.append(\"BMW\")\n",
        "print (my_list4)\n",
        "\n",
        "print (my_list4.pop(0))\n",
        "my_list4.insert(1,\"Chevrolet\")\n",
        "print (my_list4)\n"
      ],
      "execution_count": 20,
      "outputs": [
        {
          "output_type": "stream",
          "text": [
            "['Ford']\n",
            "1\n",
            "0\n",
            "['Ford', 'BMW']\n",
            "Ford\n",
            "['BMW', 'Chevrolet']\n"
          ],
          "name": "stdout"
        }
      ]
    },
    {
      "cell_type": "markdown",
      "metadata": {
        "id": "mpMYxGvUEe8A",
        "colab_type": "text"
      },
      "source": [
        "\n",
        "##결과 콘솔\n",
        "\n",
        "        [\"Ford\"]            # 이를 통해서 빈 리스트에＂Ford’가 추가 되었음을 확인함 \n",
        "        1                   # 그래서 아이템이 한 개 임을 확인함\n",
        "        0                   # 이는 ＂ Ford’가 첫 위치에 있음을 확인함\n",
        "        [\"Ford\", \"BMW\"]     # 이는 ＂BMW’가 추가 되었음을 확인함\n",
        "        Ford                # 첫 아이템이 ＂Ford’ 나타나게 함\n",
        "        [\"BMW\", \"Chevrolet\"]# 이는 위에서 ＂Ford’가 pop 한 다음에 사라지고\n",
        "                            1의 위치 (2번째 위치에) 'Chevrolet'이 추가되고\n",
        "                            BMW는 두 번째 위치에서 ＂Ford’가 사라진 후 \n",
        "                            첫 위치로 갔음을 알게 해 준다."
      ]
    },
    {
      "cell_type": "markdown",
      "metadata": {
        "id": "Gr9-3yEiEqQY",
        "colab_type": "text"
      },
      "source": [
        "##추가 연습 \n",
        "\n",
        "* 정규 표현식\n",
        "* 정규 표현식(Regular Expressions)이란 복잡한 문자열을 처리할 때 사용하는 기법이다. 예를 들어 주민등록번호 991224 - 1234567 에서 뒤를 991224 -1****** 로 바꾼다든지 하는데 도움을 준다. \n",
        "* impore re 를 하여 도움을 받거나 pandas 등의 모듈을 import 해야 한다.\n",
        "* 아래 예제를 해본다.\n",
        "* 리스트 name = ['Mr. James','Ms. Johnson'. 'Dr. Hammels', 'Rev. Kim', 'Mr. Gray', 'Mrs. Daisy']에서 Mr. 같은 Salutation만 추출해 salute란 리스트로 만들어 봅니다. \n",
        "\n",
        "      name = ['Mr. James','Ms. Johnson'. 'Dr. Hammels', 'Rev. Kim', 'Mr. Gray', 'Mrs. Daisy']\n",
        "      salute = name.str.extract('([A-Za-z]+)\\.') \n",
        "\n",
        "* 위는 주어진 리스트에서 .으로 나눈 후 .의 앞 부분[0] (뒷 부분일 경우 [1])을 가지고 새로운 리스트를 만들라는 의미이다.\n",
        "* 추후 regex란 메소드를 가지고 만들 수도 있으나 이는 나중에 다시 배워 보기로 한다."
      ]
    },
    {
      "cell_type": "code",
      "metadata": {
        "id": "1xIlZI1UErz1",
        "colab_type": "code",
        "outputId": "5cfa34fc-12db-42f6-c591-77c310eccf24",
        "colab": {
          "base_uri": "https://localhost:8080/",
          "height": 36
        }
      },
      "source": [
        "name = ['Mr. James','Ms. Johnson', 'Dr. Hammels', 'Rev. Kim', 'Mr. Gray', 'Mrs. Daisy']\n",
        "salute = [x.split('.')[0] for x in name]\n",
        "print (salute)\n"
      ],
      "execution_count": 0,
      "outputs": [
        {
          "output_type": "stream",
          "text": [
            "['Mr', 'Ms', 'Dr', 'Rev', 'Mr', 'Mrs']\n"
          ],
          "name": "stdout"
        }
      ]
    },
    {
      "cell_type": "markdown",
      "metadata": {
        "id": "bB8NR36-EzZD",
        "colab_type": "text"
      },
      "source": [
        "####Extra Practice\n",
        "\n",
        "(1) append"
      ]
    },
    {
      "cell_type": "code",
      "metadata": {
        "id": "fayrQJb_E2bp",
        "colab_type": "code",
        "outputId": "ccea060e-153b-4bf9-d342-7d2a0b5349d6",
        "colab": {
          "base_uri": "https://localhost:8080/",
          "height": 35
        }
      },
      "source": [
        "list1 = [1,2,3,4]\n",
        "list1.append(\"lion\")\n",
        "print (list1)\n"
      ],
      "execution_count": 0,
      "outputs": [
        {
          "output_type": "stream",
          "text": [
            "[1, 2, 3, 4, 'lion']\n"
          ],
          "name": "stdout"
        }
      ]
    },
    {
      "cell_type": "markdown",
      "metadata": {
        "id": "MHHZ-Uk9E4eZ",
        "colab_type": "text"
      },
      "source": [
        "(2)  count\n"
      ]
    },
    {
      "cell_type": "code",
      "metadata": {
        "id": "9Uy_MrmjE6mQ",
        "colab_type": "code",
        "outputId": "4906630a-83bf-4b20-e8eb-75ae605f137c",
        "colab": {
          "base_uri": "https://localhost:8080/",
          "height": 35
        }
      },
      "source": [
        "list2 = [1,2,3,4,1,2,3,4]\n",
        "print (list2.count(2))"
      ],
      "execution_count": 0,
      "outputs": [
        {
          "output_type": "stream",
          "text": [
            "2\n"
          ],
          "name": "stdout"
        }
      ]
    },
    {
      "cell_type": "markdown",
      "metadata": {
        "id": "0ChhCfsOE8-x",
        "colab_type": "text"
      },
      "source": [
        "(3)  index"
      ]
    },
    {
      "cell_type": "code",
      "metadata": {
        "id": "u65QkTfpE_gR",
        "colab_type": "code",
        "outputId": "b5b045d7-57d8-4d22-c526-a5e7c776d449",
        "colab": {
          "base_uri": "https://localhost:8080/",
          "height": 35
        }
      },
      "source": [
        "\n",
        "list3 = [4,5,6,7,8,9]\n",
        "print (list3.index(7))"
      ],
      "execution_count": 0,
      "outputs": [
        {
          "output_type": "stream",
          "text": [
            "3\n"
          ],
          "name": "stdout"
        }
      ]
    },
    {
      "cell_type": "markdown",
      "metadata": {
        "id": "BLU72TZjFC2d",
        "colab_type": "text"
      },
      "source": [
        "(4) insert"
      ]
    },
    {
      "cell_type": "code",
      "metadata": {
        "id": "CbJ9KPvyFFbT",
        "colab_type": "code",
        "outputId": "a7ed4187-cedd-4d37-cad0-8c7cc6221136",
        "colab": {
          "base_uri": "https://localhost:8080/",
          "height": 35
        }
      },
      "source": [
        "list4 = [9,8,7,6,5,4]\n",
        "list4.insert(3, 100)\n",
        "print (list4)"
      ],
      "execution_count": 0,
      "outputs": [
        {
          "output_type": "stream",
          "text": [
            "[9, 8, 7, 100, 6, 5, 4]\n"
          ],
          "name": "stdout"
        }
      ]
    },
    {
      "cell_type": "markdown",
      "metadata": {
        "id": "g4jc1vE1FJiL",
        "colab_type": "text"
      },
      "source": [
        "(5)  pop"
      ]
    },
    {
      "cell_type": "code",
      "metadata": {
        "id": "apSvaXQTFMaP",
        "colab_type": "code",
        "outputId": "632b5530-a072-4cdb-c35a-353bdbc6ed2c",
        "colab": {
          "base_uri": "https://localhost:8080/",
          "height": 35
        }
      },
      "source": [
        "list5 = [3,4,5,6]\n",
        "list5.pop(1)\n",
        "print (list5)"
      ],
      "execution_count": 0,
      "outputs": [
        {
          "output_type": "stream",
          "text": [
            "[3, 5, 6]\n"
          ],
          "name": "stdout"
        }
      ]
    },
    {
      "cell_type": "markdown",
      "metadata": {
        "id": "DE3HTAFHFcj6",
        "colab_type": "text"
      },
      "source": [
        "#Lesson 16       -   Dictionary \n",
        "\n",
        "\n",
        "\n",
        "##학습 내용\n",
        "* \"list\"가 하나의 variable로 관리되는 목록이라면 \"dictionary\" 는 사전이나 명함에 좀 더 가깝다고 보면 되겠습니다. Dictionary는 대괄호{ } 로 표현됩니다. \n",
        "\n",
        "##문법\n",
        "* 딕쇼너리는 아래와 같은 구조를 가집니다.\n",
        "\n",
        "         mydict = {key: value, key: value, key; value}\n",
        "\n",
        "\n",
        " \n",
        "##설명\n",
        "* 아래의 예를 보면 이름, 전화번호, 회사명이 나와 있습니다. 이러한 것을 관리하는 목록이라 생각하면 됩니다. \n",
        "\n",
        "        Name : Joshua\n",
        "        Phone : 55512345678\n",
        "        Company: ai2learn\n",
        "\n",
        "* 여기서 \"Name\" 은 Key라 부르고 \"Joshua\" 는 value라 부릅니다.\n",
        "* 항목과 그에 대한 값이 있는 형태입니다.\n",
        "\n",
        "\n",
        "## 연습\n",
        "* bizcard란 이름의 빈 dictionary를 만들어 보겠습니다. \n",
        "\n",
        "        bizcard = {}\n",
        "\n",
        "\n",
        "* 그리고 아래와 같은 요소들을 넣어 봅니다.\n",
        "\n",
        "        bizcard['name'] = 'Joshua'\n",
        "        bizcard['phone'] = '55512345678'\n",
        "        bizcard['company'] = 'ai2learn'\n",
        "\n",
        "*이어서 bizcard를 출력하고 한 요소인 phone 만 출력합니다.\n",
        "\n",
        "\n",
        "\n",
        "##주의\n",
        "* Dictionary도 key나 value의 변동은 허용하나 key의 겹침은 허용 안됨\n",
        "\n",
        "\n",
        "\n",
        "\n",
        "##코딩 부분"
      ]
    },
    {
      "cell_type": "code",
      "metadata": {
        "id": "IOhlOMzBFgx1",
        "colab_type": "code",
        "outputId": "2e1ad6a1-61b4-464b-efd8-66447be90cdc",
        "colab": {
          "base_uri": "https://localhost:8080/",
          "height": 53
        }
      },
      "source": [
        "bizcard = {}\n",
        "bizcard[\"name\"] = \"Joshua\"\n",
        "bizcard[\"phone\"] = \"55512345678\"\n",
        "bizcard[\"company\"] = \"ai2learn\"\n",
        "\n",
        "print (bizcard)\n",
        "print (bizcard[\"phone\"])\n"
      ],
      "execution_count": 0,
      "outputs": [
        {
          "output_type": "stream",
          "text": [
            "{'name': 'Joshua', 'phone': '55512345678', 'company': 'ai2learn'}\n",
            "55512345678\n"
          ],
          "name": "stdout"
        }
      ]
    },
    {
      "cell_type": "markdown",
      "metadata": {
        "id": "ct6dOi6NIPQv",
        "colab_type": "text"
      },
      "source": [
        "##추가 연습 \n",
        "\n",
        "* 다른 이름을 key와 value를 넣어서 한 번 더 해봅니다.\n",
        "\n",
        "        이름 : Ironman\n",
        "        전화번호:  01012345678   \n",
        "        회사명 : Shields\n",
        "\n",
        "* 이제 해당 딕쇼너리에서 전화 번호를 찾아내 봅니다.\n"
      ]
    },
    {
      "cell_type": "code",
      "metadata": {
        "id": "zxRHZmUFIQd3",
        "colab_type": "code",
        "outputId": "ee073576-e888-405a-c9d0-c4b747ebdcd6",
        "colab": {
          "base_uri": "https://localhost:8080/",
          "height": 53
        }
      },
      "source": [
        "bizcard = {}\n",
        "bizcard['이름'] = 'Ironman'\n",
        "bizcard['전화번호'] = '012345678'\n",
        "bizcard['회사명'] = 'shields'\n",
        "\n",
        "print (bizcard)\n",
        "print (bizcard['전화번호'])"
      ],
      "execution_count": 0,
      "outputs": [
        {
          "output_type": "stream",
          "text": [
            "{'이름': 'Ironman', '전화번호': '012345678', '회사명': 'shields'}\n",
            "012345678\n"
          ],
          "name": "stdout"
        }
      ]
    },
    {
      "cell_type": "markdown",
      "metadata": {
        "id": "C8_feea7v3RN",
        "colab_type": "text"
      },
      "source": [
        "#Lesson 17     -   Dictionary Methods\n",
        "\n",
        "\n",
        "##학습 내용\n",
        "* Dictionary의 메소드 중 items(), keys(), values()에  대해서 학습해 봅니다.\n",
        "\n",
        "##문법\n",
        "* 다음과 같은 메소드를 공부해 봅니다.\n",
        "\n",
        "\t    dictionaryname.items() \n",
        "\t    dictionaryname.keys() \n",
        "\t    dictionaryname.values() \n",
        "\n",
        "\n",
        " \n",
        "##설명\n",
        "*   bizcard.items()         # 이 메써드는 dictionary 아이템들을 list 형식으로 변환해 준다.\n",
        "*   bizcard.keys()          # 이 메써드는 dictionary의 key를  list 형식으로 변환해 준다.\n",
        "*   bizcard.values()    # 이 메써드는 dictionary의 value를  list 형식으로 변환해 준다.\n",
        "\n",
        "\n",
        "## 연습\n",
        "* 배운 것을 아래 key와 value로 연습해봅니다\n",
        "* \n",
        "        model : \"Camaro\"\n",
        "        maker : \"Chevrolet\"\n",
        "        year: \"2020\"\n",
        "\n",
        "\n",
        "* item을 프린트 합니다.\n",
        "* key를 프린트 합니다.\n",
        "* value를 프린트 합니다.\n",
        "\n",
        "\n",
        "\n",
        "##주의\n",
        "* Key와 value값에서 스트링에 따옴표를 하는 것을 잊지 마세요.\n",
        "\n",
        "\n",
        "\n",
        "##코딩 부분\n"
      ]
    },
    {
      "cell_type": "code",
      "metadata": {
        "id": "FCiij-dyv7k5",
        "colab_type": "code",
        "outputId": "85e5616e-8297-4744-f5b6-39e25a28cd51",
        "colab": {
          "base_uri": "https://localhost:8080/",
          "height": 71
        }
      },
      "source": [
        "mydict = { 'model' : 'Camaro', 'maker': 'Chevrolet', 'year': 2020}\n",
        "\n",
        "print (mydict.items())\n",
        "print (mydict.keys()) \n",
        "print (mydict.values())\n"
      ],
      "execution_count": 0,
      "outputs": [
        {
          "output_type": "stream",
          "text": [
            "dict_items([('model', 'Camaro'), ('maker', 'Chevrolet'), ('year', 2020)])\n",
            "dict_keys(['model', 'maker', 'year'])\n",
            "dict_values(['Camaro', 'Chevrolet', 2020])\n"
          ],
          "name": "stdout"
        }
      ]
    },
    {
      "cell_type": "markdown",
      "metadata": {
        "id": "P8H4LQv2wcSZ",
        "colab_type": "text"
      },
      "source": [
        "##추가 연습 \n",
        "\n",
        "* 추가적으로 다음과 같은 메소드들이 있습니다 \n",
        "\n",
        "        clear()     # dictionary의 모든 요소들을 없앤다.\n",
        "        copy()      # dictionary의 복제된 값을 반환한다\n",
        "        get()       # 특정 key의 value값을 반환한다\n",
        "\n",
        "* 본 연습의 예를 보고 다음을 해봅니다. \n",
        "\n",
        "\n",
        "        mydict = { 'model' : 'Camaro', 'maker': 'Chevrolet', 'year': 2020}\n",
        "        newdict = mydict.copy()  \n",
        "        print (newdict)\n",
        "        print (mydict.get('model'))\n",
        "        print (mydict.clear())\n"
      ]
    },
    {
      "cell_type": "code",
      "metadata": {
        "id": "OykqPAM3wfc8",
        "colab_type": "code",
        "outputId": "1da9054f-dcd7-40c3-edd9-e70b6ac731b7",
        "colab": {
          "base_uri": "https://localhost:8080/",
          "height": 71
        }
      },
      "source": [
        "mydict = { 'model' : 'Camaro', 'maker': 'Chevrolet', 'year': 2020}\n",
        "newdict = mydict.copy()  \n",
        "print (newdict)\n",
        "print (mydict.get('model'))\n",
        "print (mydict.clear())"
      ],
      "execution_count": 0,
      "outputs": [
        {
          "output_type": "stream",
          "text": [
            "{'model': 'Camaro', 'maker': 'Chevrolet', 'year': 2020}\n",
            "Camaro\n",
            "None\n"
          ],
          "name": "stdout"
        }
      ]
    },
    {
      "cell_type": "markdown",
      "metadata": {
        "id": "T4gz5ORBxXYa",
        "colab_type": "text"
      },
      "source": [
        "#Lesson 18       -     Tupple\n",
        "\n",
        "\n",
        "##학습 내용\n",
        "* tupple이란 변경되지 않은 데이터의 집합으로 변경되지 못 한다는 특성 때문에 메소드가 별로 없습니다. tupple은 소괄호 ( )로 표현됩니다. \n",
        "\n",
        "\n",
        "##문법\n",
        "* 튜플은 아래와 같은 형태를 가집니다.\n",
        "\n",
        "         mytupple = (item1, item2, item 3)\n",
        "\n",
        "\n",
        " \n",
        "##설명\n",
        "* 그럼 왜 tupple을 사용할까요? 다음과 같은 이유 때문입니다.\n",
        "* tupple은 저장 공간을 적게 쓴다.\n",
        "* tupple은 우리가 우연하게 또는 실수로 데이터를 바꾸어서는 안 되는 곳에서 사용된다.\n",
        "* 더하여 합할 수 있고 곱하여 반복이 가능하다. \n",
        "\n",
        "        a = ('Chevrolet', 'KIA', 'Mercedes’)  \n",
        "        b = ('BMW’, 'Ford’)\n",
        "        c = a + b  \t    #  ('Chevrolet’, 'KIA’, 'Mercedes’, 'BMW’, 'Ford’)\n",
        "        d = b * 2   \t   #  d = ('BMW’, 'Ford’, ’BMW’, 'Ford’)\n",
        "\n",
        "\n",
        "## 연습\n",
        "\n",
        "* a = (1,2,3,4,5) 이고 b = (6,7,8,9) 이라고 할 때\n",
        "\n",
        "  a+b를 하여 합해 c로 놓습니다.\n",
        "\n",
        "  이어서 곱하기를 사용하여 ＂a’ 를 3번 반복해 d를 만들어봅니다.\n",
        "\n",
        "  이를 각각 프린트 해봅니다.\n",
        "\n",
        "* 이어서 Tupple의 아이템을 교체할 수 없다는 것을 확인해봅니다.\n",
        "\n",
        "      b[0] = 10을 해서 교체하려고 하면 에러가 발생합니다.\n",
        "       (물론 튜플에는 이런 메소드가 없습니다.)\n",
        "\n",
        "\n",
        "##주의\n",
        "* 튜플에 원소가 하나인 경우 integer로 오인할 수 있어 (5,) 식으로 표기함\n",
        " \n",
        "\n",
        "\n",
        "\n",
        "##코딩 부분\n"
      ]
    },
    {
      "cell_type": "code",
      "metadata": {
        "id": "fwFC3vrbxbCJ",
        "colab_type": "code",
        "outputId": "117947c7-a409-439c-c4cd-c115fe73c710",
        "colab": {
          "base_uri": "https://localhost:8080/",
          "height": 53
        }
      },
      "source": [
        "a = (1,2,3,4,5)\n",
        "b = (6,7,8,9)\n",
        "\n",
        "c = a+b\n",
        "print (c)\n",
        "\n",
        "d = a*3\n",
        "print (d)"
      ],
      "execution_count": 0,
      "outputs": [
        {
          "output_type": "stream",
          "text": [
            "(1, 2, 3, 4, 5, 6, 7, 8, 9)\n",
            "(1, 2, 3, 4, 5, 1, 2, 3, 4, 5, 1, 2, 3, 4, 5)\n"
          ],
          "name": "stdout"
        }
      ]
    },
    {
      "cell_type": "markdown",
      "metadata": {
        "id": "vHpUIAV_xe_t",
        "colab_type": "text"
      },
      "source": [
        "위에서 아래와 같은 것을 하면 에러가 발생/ 교체가 안 되기 때문\n",
        "b[0] = 10    # 에러가 발생\n",
        "\n",
        "####Video\n",
        "[Lesson 18 - Lesson 25까지의 영상](https://youtu.be/zVIQuRShh9U)\n",
        "\n"
      ]
    },
    {
      "cell_type": "markdown",
      "metadata": {
        "id": "W7tduPSLx3k0",
        "colab_type": "text"
      },
      "source": [
        "##추가 연습 \n",
        "\n",
        "* 인덱싱 및 자르기를 해봅니다. \n",
        "\n",
        "  \t    a = (‘Chevrolet’, ‘KIA’, ‘Mercedes’)  \n",
        "  \t    a0 = a[0] \t# 0의 위치에 ‘Chevrolet’ 이 있음을 알게 합니다.\n",
        "  \t    a1 = a[1:2]   # 1 위치 전에 자르고 2(즉 3번째) 이전에 자른다. \n",
        "  \t    a2 =a[:2] \t# 이는 2 (즉 3번째 위치) 이후 것은 모두 자른다.\n",
        "\n",
        "* 다음과 같은 method도 있습니다.\n",
        "\n",
        "        count()    # tupple에서 특정 value가 몇 번이나 나오는지 반환합니다. \n",
        "        index()    # tupple에서 특정 value가 어디에 있는지를 반환한다\n",
        "\n",
        "* 이를 연습해봅니다.\n"
      ]
    },
    {
      "cell_type": "code",
      "metadata": {
        "id": "px2NAfytx55P",
        "colab_type": "code",
        "outputId": "22df27fc-6c35-426b-fca8-988273444406",
        "colab": {
          "base_uri": "https://localhost:8080/",
          "height": 107
        }
      },
      "source": [
        "a = ('Chevrolet', 'KIA', 'Mercedes')  \n",
        "print (a[0]) \n",
        "print (a[1:2]) \n",
        "print (a[:2]) \n",
        "print (a.count('KIA'))\n",
        "print (a.index('Mercedes'))"
      ],
      "execution_count": 0,
      "outputs": [
        {
          "output_type": "stream",
          "text": [
            "Chevrolet\n",
            "('KIA',)\n",
            "('Chevrolet', 'KIA')\n",
            "1\n",
            "2\n"
          ],
          "name": "stdout"
        }
      ]
    },
    {
      "cell_type": "markdown",
      "metadata": {
        "id": "ulYo8YRhycH0",
        "colab_type": "text"
      },
      "source": [
        "##결과 콘솔\n",
        "\n",
        "        Chevrolet                 # 0의 위치에 무엇이 있나 확인\n",
        "        ('KIA',)                      # 1위치 전에 자르고 2위치부터 자르면 1만 남음 \n",
        "        ('Chevrolet', 'KIA')      # 2위치 이후 것은 자른다\n",
        "        1                              # KIA가 1번 나옴을 확인\n",
        "        2                              # Mercedes의 위치 확인"
      ]
    },
    {
      "cell_type": "markdown",
      "metadata": {
        "id": "mJ90oPbezUci",
        "colab_type": "text"
      },
      "source": [
        "#Lesson 19 – Set\n",
        "\n",
        "\n",
        "##학습 내용\n",
        "* Set은 dictionary처럼 { }으로 표현됩니다. set 은 아이템을 변경할 수 있으나 반복되는 아이템이 있으면 버립니다.\n",
        "\n",
        "\n",
        "##문법\n",
        "\n",
        "* Set 은 다음과 같은 형태를 취합니다.\n",
        "\n",
        "         myset = { 아이템1, 아이템2, 아이템3, 아이템4}\n",
        "\n",
        "\n",
        " \n",
        "##설명\n",
        "* 예를 들어 리스트에서 아래와 같이 ‘John’ 이 반복되어도 상관 없으나\n",
        "\n",
        "        mylist = [‘John’, ‘Tom, ‘John’, ‘Josh’, ‘Peter’]\n",
        "\n",
        "* 이를 set 으로 바꾸면 반복되는 ‘John’ 이 사라지고 \t\t\t\t\n",
        "\n",
        "        {‘John’, ‘Tom, ‘Josh’, ‘Peter’} 만 남게 됩니다.\n",
        "\n",
        "\n",
        "        myset = set(mylist) \n",
        "        # {‘John’, ‘Tom,  ‘Josh’, ‘Peter’}\n",
        "\n",
        "* Set 은 수학의 집합처럼, a, b 가 set 이라면 합집합 교집합 및 여집합을 만들 수도 있습니다.  \n",
        "\n",
        "        c = a.intersection(b)   \t# c = a & b 교집합\n",
        "        d = a.union(b)              # d = a | b 합집합\n",
        "        e = a.difference(b) \t\t# e = a - b  여집합\n",
        "\n",
        "## 연습\n",
        "\n",
        "* 아래와 같이 두 set 이 있을 때\n",
        "\n",
        "        a = {1,2,3,4,5} \n",
        "        b = {5,6,7,8,9}\n",
        "\n",
        "* 다음 set을 만들어서 프린트 해봅니다.\n",
        "\n",
        "        c = a.intersection(b)   \t# c = a & b 교집합\n",
        "        d = a.union(b)              # d = a | b 합집합\n",
        "        e = a.difference(b) \t\t# e = a - b  여집합\n",
        "\n",
        "\n",
        "\n",
        "##주의\n",
        "* Set 은 중복이 안되기 때문에 겹쳐지는 아이템이 없어짐을 주목합니다.\n",
        "\n",
        "\n",
        "\n",
        "##코딩 부분"
      ]
    },
    {
      "cell_type": "code",
      "metadata": {
        "id": "1B-0mYybzaGC",
        "colab_type": "code",
        "colab": {}
      },
      "source": [
        "a = {1,2,3,4,5} \n",
        "b = {5,6,7,8,9}\n",
        "c = a.intersection(b)   \n",
        "d = a.union(b)\n",
        "e = a.difference(b) \n",
        "\n",
        "print (c)\n",
        "print (d)\n",
        "print (e)"
      ],
      "execution_count": 0,
      "outputs": []
    },
    {
      "cell_type": "markdown",
      "metadata": {
        "id": "OzYziQeWzkfB",
        "colab_type": "text"
      },
      "source": [
        "    \n",
        "##추가 연습 \n",
        "\n",
        "* 메소드 ‘add’ 는 아이템 ‘하나’ 를 더 하게 해줍니다.\n",
        "\n",
        "\n",
        "        set이름.add(아이템)\n",
        "\n",
        "\n",
        "* 메소드 ‘update’ 는 ‘여러’ 개의 아이템을 더하게 해줍니다.\n",
        "\n",
        "\n",
        "        set이름.update(아이템1, 아이템2)\n",
        "\n",
        "\n",
        "* 메소드 ‘remove’ 는 하나를 제거 해줍니다.\n",
        "\n",
        "\n",
        "        set이름.add(아이템)\n",
        "\n",
        "* Set a 에게 아이템 {1,2,3,4,5} 을 주고 \n",
        "  \t\n",
        "6 을 add 하고\n",
        "\n",
        "7,8 을 update 하고\n",
        "\n",
        "5를 remove 하며 각 과정마다 a 를 프린트하여 확인해 봅니다.\n",
        "\n"
      ]
    },
    {
      "cell_type": "code",
      "metadata": {
        "id": "OKDIf8dYzrki",
        "colab_type": "code",
        "outputId": "6d888dda-60d0-45b0-eb45-08720da527c0",
        "colab": {
          "base_uri": "https://localhost:8080/",
          "height": 71
        }
      },
      "source": [
        "a = {1,2,3,4,5} \n",
        "\n",
        "a.add(6)\n",
        "print (a)\n",
        "\n",
        "a.update({7,8})\n",
        "print (a)\n",
        "\n",
        "a.remove(5)\n",
        "print (a)"
      ],
      "execution_count": 0,
      "outputs": [
        {
          "output_type": "stream",
          "text": [
            "{1, 2, 3, 4, 5, 6}\n",
            "{1, 2, 3, 4, 5, 6, 7, 8}\n",
            "{1, 2, 3, 4, 6, 7, 8}\n"
          ],
          "name": "stdout"
        }
      ]
    },
    {
      "cell_type": "markdown",
      "metadata": {
        "id": "3tzyvB9s0VXZ",
        "colab_type": "text"
      },
      "source": [
        "#Lesson 20 - Making Functions\n",
        "\n",
        "\n",
        "##학습 내용\n",
        "* 함수는 반복해서 재사용 할 수 있는 '수학적 공식' 같은 것이라 생각하면 됩니다. 그럼 함수를 한 번 만들어 보겠습니다. \n",
        "\n",
        "\n",
        "##문법\n",
        "\n",
        "            def 함수이름():         # 함수 선언\n",
        "\t\t        함수기능            # 함수 기능 주기\n",
        "        \n",
        "            함수이름                # 함수 호출\n",
        "\n",
        " \n",
        "##설명\n",
        "* ‘brake’란 함수를 만듭니다. 우리는 브레이크의 기능을 알고 있습니다. 밟으면 차가 선다는 기능이지요.  def 문으로 이 함수를 선언합니다.\n",
        "\n",
        "        def brake():     \n",
        "\n",
        "* 아직은 초보적인 기능 밖에 모르므로 print 문으로 기능을 만들어 봅니다.  \n",
        "\n",
        "        print (‘Hit the brake, then the brake will stop the car.’)\n",
        "\n",
        "* 그리고 마지막으로 함수를 call 하여 함수가 작동하도록 해야 합니다. \n",
        "\n",
        "        brake()     \n",
        "\n",
        "* 즉 함수를 선언하여 기능을 정의하고 외부에서 그 함수를 호출하는 방식입니다.\n",
        "\n",
        "\n",
        "\n",
        "## 연습\n",
        "\n",
        "* 비슷하게 하나를 더 해 봅니다.\n",
        "\n",
        "    \t# wiper란 function을 define하고 함수 기능을 준다.\t\n",
        "    \tdef wiper():\t\t\n",
        "    \t\tprint ('When it is rainy, it is useful.') \t\n",
        "    \t\n",
        "    \twiper()\t\t\t# 호출해 봅니다.\n",
        "\n",
        "\n",
        "\n",
        "##주의\n",
        "* def 함수이름():  에서 콜론을 빠트리지 않도록 주의합니다.\n",
        "\n",
        "\n",
        "\n",
        "##코딩 부분"
      ]
    },
    {
      "cell_type": "code",
      "metadata": {
        "id": "NbcZt_0M0ZB2",
        "colab_type": "code",
        "outputId": "38425db5-f814-4978-c4a7-ce1ca1400174",
        "colab": {
          "base_uri": "https://localhost:8080/",
          "height": 35
        }
      },
      "source": [
        "def wiper():\n",
        "    print ('When it is rainy, it is useful.')\n",
        "\n",
        "wiper()"
      ],
      "execution_count": 0,
      "outputs": [
        {
          "output_type": "stream",
          "text": [
            "When it is rainy, it is useful.\n"
          ],
          "name": "stdout"
        }
      ]
    },
    {
      "cell_type": "markdown",
      "metadata": {
        "id": "_WBMAr-A0i3N",
        "colab_type": "text"
      },
      "source": [
        "##추가 연습 \n",
        "\n",
        "* x의 세제곱을 구하는 함수를 만들어 보겠습니다.\n",
        "* 함수이름은  mycal()로 합니다.\n",
        "* x = 3이라고 정의하고\n",
        "* x의 세제곱을 출력하도록 함수를 만든  후\n",
        "* mycal()을 호출합니다.\n"
      ]
    },
    {
      "cell_type": "code",
      "metadata": {
        "id": "GafjqznX0l1g",
        "colab_type": "code",
        "outputId": "c5163736-ed64-494d-9ef1-813f3f61b41b",
        "colab": {
          "base_uri": "https://localhost:8080/",
          "height": 35
        }
      },
      "source": [
        "\n",
        "def mycal():\n",
        "\tx = 3\n",
        "\tprint (x**3)\n",
        "\n",
        "mycal()\n"
      ],
      "execution_count": 0,
      "outputs": [
        {
          "output_type": "stream",
          "text": [
            "27\n"
          ],
          "name": "stdout"
        }
      ]
    },
    {
      "cell_type": "markdown",
      "metadata": {
        "id": "Gc3G--ba1gpD",
        "colab_type": "text"
      },
      "source": [
        "#Lesson 21  -  Parameters and Arguments\n",
        "\n",
        "\n",
        "##학습 내용\n",
        "* Parameter(매개변수)는 변수로 function의 input 역할을 하는 것입니다. \n",
        "* 그리고 Argument는 파라미터의 값으로 함수에서 사용되는 입력되는 값을 의미합니다.\n",
        "\n",
        "\n",
        "##문법\n",
        "\n",
        "         def 함수이름(파라미터1, 파라미터2):    # 함수 선언\n",
        "            함수기능                           # 함수 기능 주기\n",
        "        \n",
        "        함수이름(아규먼트1, 아규먼트2)          # 함수 호출\n",
        "\n",
        "\n",
        " \n",
        "##설명\n",
        "* 수학의 함수에서 f(x) = 10x라고 정의했다고 가정하면, 여기서 x가 매개변수인 파라미터이고 x에 3을 넣어주면 답은 30이 되는데 여기서 3이 x의 값에 해당되는 아규먼트라고 이해를 하면 됩니다.  \n",
        "* 우리는 앞에서 ‘brake’라는 아주 간단한 함수를 만든 적 있습니다. 여기서는 * parameters & arguments를 사용하여 function ‘brake’ 를 다시 만들어 봅니다. \n",
        "* 우선 parameter를 함수 brake에 주어봅니다. \n",
        "\n",
        "        def brake(pedal,pad):\n",
        "\n",
        "* 그리고 pedal과 pad에 다음과 같은 아규먼트 값을 줍니다.\n",
        "\n",
        "\t\tpedal의 argument값은 \"Hit the brake,\"\n",
        "\t\tpad의 argument값은  \" then the brake will stop the car.\"\n",
        "\n",
        "\n",
        "## 연습\n",
        "* 앞의 brake함수를 완성해 보겠습니다.\n",
        "\n",
        "        # 파라미터를 주고 함수를 정의합니다.\n",
        "\t\t\n",
        "\t\tdef brake(pedal,pad):\n",
        "\t\t\tprint(pedal + pad)\n",
        "\n",
        "\t    # 아래에서 argument의 값을 주고 호출합니다.\n",
        "\t\t\n",
        "\t\tbrake(\"Hit the brake,\",\" then the brake will stop the car.\")\n",
        "\n",
        "\n",
        "##주의\n",
        "* 아규먼트의 개수가 파라미터와 일치해야 합니다.\n",
        "\n",
        "\n",
        "\n",
        "\n",
        "##코딩 부분\n"
      ]
    },
    {
      "cell_type": "code",
      "metadata": {
        "id": "TQi5-TU35gfi",
        "colab_type": "code",
        "outputId": "665ae3d3-8a1e-4963-c369-3e8da2784628",
        "colab": {
          "base_uri": "https://localhost:8080/",
          "height": 35
        }
      },
      "source": [
        "def brake(pedal,pad):\n",
        "\n",
        "   print (pedal + pad)\n",
        "\n",
        "brake(\"Hit the brake,\",\" then the brake will stop the car.\")"
      ],
      "execution_count": 0,
      "outputs": [
        {
          "output_type": "stream",
          "text": [
            "Hit the brake, then the brake will stop the car.\n"
          ],
          "name": "stdout"
        }
      ]
    },
    {
      "cell_type": "markdown",
      "metadata": {
        "id": "Mbsw5ETJ5sdX",
        "colab_type": "text"
      },
      "source": [
        "##추가 연습 \n",
        "\n",
        "* 함수 my_function3를 선언합니다\n",
        "* parameter로 (wish, country) 두 개를 부여합니다.\n",
        "* 두 개를 합하여 아래를 프린트하게 아규먼트를 부여합니다\n",
        "\n",
        "        I would like to go to Korea.\n",
        "        I would like to visit Spain.\n",
        "        I would like to live in Australia.\n",
        "\n"
      ]
    },
    {
      "cell_type": "code",
      "metadata": {
        "id": "Ddj3lcOB5ut4",
        "colab_type": "code",
        "outputId": "a011e06a-5fe6-45e4-9902-5fcef62250bf",
        "colab": {
          "base_uri": "https://localhost:8080/",
          "height": 71
        }
      },
      "source": [
        "def my_function3(wish, country):\n",
        "   \tprint (wish + country)\n",
        "\n",
        "my_function3(\"I would like to go to\", \" Korea.\")\n",
        "my_function3(\"I would like to visit\", \" Spain.\")\n",
        "my_function3(\"I would like to live in\", \" Australia.\")"
      ],
      "execution_count": 0,
      "outputs": [
        {
          "output_type": "stream",
          "text": [
            "I would like to go to Korea.\n",
            "I would like to visit Spain.\n",
            "I would like to live in Australia.\n"
          ],
          "name": "stdout"
        }
      ]
    },
    {
      "cell_type": "markdown",
      "metadata": {
        "id": "hZjL4sN_FLzc",
        "colab_type": "text"
      },
      "source": [
        "#Lesson 22  - Conditional Statements in Functions\n",
        "\n",
        "\n",
        "##학습 내용\n",
        "* 조건문이 들어가는 function을 만들어 보겠습니다. if – elif - else 문을 함수 안에 넣어 보겠습니다.\n",
        "\n",
        "\n",
        "##문법\n",
        "* 다음과 같은 형태로 함수 안에 조건문을 넣은 함수를 만들어 봅니다.\n",
        "\n",
        "        def 함수이름(parameters):\n",
        "\t\t    if condition:\n",
        "\t\t\t    return\n",
        "\t\t    elif condition:\n",
        "\t\t\t    return\n",
        "\t\t    else:\n",
        "\t\t\t    return\n",
        "      \t\n",
        "        함수이름(arguments)\n",
        "\n",
        "\n",
        " \n",
        "##설명\n",
        "* 함수 안에 기능을 넣을 때 조건문을 넣어서 만들 수 있습니다.\n",
        "* def 함수이름(): 과 끝에 호출 하는 중간에 일반적인 조건문과 같은 방법으로 조건문을 넣는다고 생각하면 됩니다.\n",
        "\n",
        "\n",
        "## 연습\n",
        "* 우선 if –else로 엑셀러레이터라는 함수를 만들어 봅니다. \n",
        "\n",
        "        Function : accelerator\n",
        "        Condition : speed 가 시속 80km 를 넘으면 \"Slow down!\" 을 출력합니다.\n",
        "        else; 그 외의 경우는 Go!를 출력한다\n",
        "\n",
        "\n",
        "##주의\n",
        "* return은 결과 값을 반환하는 것을 의미합니다.\n",
        "\n",
        "\n",
        "\n",
        "##코딩 부분"
      ]
    },
    {
      "cell_type": "code",
      "metadata": {
        "id": "dvo-ad4cFUDG",
        "colab_type": "code",
        "outputId": "6430ffcf-dc95-4832-d0b5-a630d10f2008",
        "colab": {
          "base_uri": "https://localhost:8080/",
          "height": 35
        }
      },
      "source": [
        "def accelerator(speed):\n",
        "\tif speed > 80:\n",
        "\t\tprint (\"Slow down!\")\n",
        "\telse:\n",
        "\t\tprint (\"Go!\")\n",
        "\n",
        "accelerator(85)"
      ],
      "execution_count": 0,
      "outputs": [
        {
          "output_type": "stream",
          "text": [
            "Slow down!\n"
          ],
          "name": "stdout"
        }
      ]
    },
    {
      "cell_type": "markdown",
      "metadata": {
        "id": "OKBg2RAUFdgN",
        "colab_type": "text"
      },
      "source": [
        "\n",
        "##추가 연습 \n",
        "\n",
        "* if - elif - else 로 만들어 봅니다.\n",
        "\n",
        "\t\tx = 5\n",
        "\t\ty = 10\n",
        "\t    이라고 하고\n",
        "\t\t함수 cal() 을 선언하고\n",
        "\t\t\tif x == y 면 print (‘They are the same.’)\n",
        "\t\t\telif x > y 이면 print (‘x is larger than y’)\n",
        "\t\t\telse: print (‘y is larger than x.’)\n",
        "\t\t로 하고 함수 cal() 을 호출함으로 끝나는 함수를 만들어 봅니다.\n",
        "\n"
      ]
    },
    {
      "cell_type": "code",
      "metadata": {
        "id": "bXzWpGCIFgMJ",
        "colab_type": "code",
        "outputId": "9a8098a8-7dcf-4ea1-c907-5d66c3f6cca6",
        "colab": {
          "base_uri": "https://localhost:8080/",
          "height": 35
        }
      },
      "source": [
        "x = 5\n",
        "y = 10\n",
        "\n",
        "def cal():\n",
        "\tif x == y:\n",
        "\t\tprint (\"They are the same.\")\n",
        "\telif x > y:\n",
        "\t\tprint (\"x is larger than y\")\n",
        "\telse:\n",
        "\t\tprint (\"y is larger than x.\")\n",
        "\n",
        "cal()"
      ],
      "execution_count": 0,
      "outputs": [
        {
          "output_type": "stream",
          "text": [
            "y is larger than x.\n"
          ],
          "name": "stdout"
        }
      ]
    },
    {
      "cell_type": "markdown",
      "metadata": {
        "id": "s3ynWpwZF2ON",
        "colab_type": "text"
      },
      "source": [
        "\n",
        "#Lesson 23 -  Importing Modules\n",
        "\n",
        "\n",
        "##학습 내용\n",
        "* import 는 이미 만들어진 모듈을 호출하여 사용할 수 있게 해주는 역할을 합니다. 우리는 함수에 대해 배웠습니다.  이미 만들어진 모듈을 호출하는 것을 배워봅니다.\n",
        "\n",
        "\n",
        "##문법\n",
        "* 다음과 random 이라는 모듈은 값을 무작위로 제공 할 수 있는 모듈입니다. random 내에서 정수를 임의로 선택하는 함수인 randint 를 가져오면 무작위로 정수 값을 얻을 수 있습니다.\n",
        "\n",
        "         from random import randint\n",
        "\n",
        "* 시간과 날짜와 관계된 프로그램을 수행하고 싶다면 최선의 방법은 datetime 모듈을 import 할 수 있습니다.\n",
        "\n",
        "\n",
        "         from datetime import datetime\n",
        "\n",
        "##설명\n",
        "* randint 는 특정 영역 안에 있는 정수를 임의로 선택하게 해줍니다. \n",
        "\n",
        "\n",
        "         toss = randint(0, 1) # 0과 1 둘 중 하나를 토스 값으로 줍니다.\n",
        "\n",
        "\n",
        "* datetime 은 현재시간의 값을 줍니다. \n",
        "\n",
        "\n",
        "        current_time = datetime.now()   \t# 현재 시간 값\n",
        "        c_year = current_time.year      \t# 현재 시간에서 연도 값\n",
        "        c_month = current_time.month  \t  # 현재 시간에서 월 값\n",
        "        c_day = current_time.day       \t # 현재 시간에서 일 값\n",
        "\n",
        "\n",
        "## 연습\n",
        "\n",
        "* 주사위를 던져 1에서 6 사이 임의로 나오는 값을 구해봅니다.\n",
        "* 변수 current_time = datetime.now() 를 만들어 봅니다.\n",
        "* 변수 c_year = current_time.year 를 만들어 봅니다.\n",
        "* 변수 c_month = current_time.month 를 만들어 봅니다.\n",
        "* 변수 c_day = current_time.day를 만들어 봅니다.\n",
        "* 이를 출력해봅니다.\n",
        "\n",
        "\n",
        "##주의\n",
        "* datetime 외에도 time 이란 아주 살짝 다른 모듈이 있습니다.\n",
        "\n",
        "\n",
        "\n",
        "\n",
        "##코딩 부분"
      ]
    },
    {
      "cell_type": "code",
      "metadata": {
        "id": "1wFkjMV6F3tG",
        "colab_type": "code",
        "outputId": "69c7c070-477b-4150-887b-6dedcbe16e09",
        "colab": {
          "base_uri": "https://localhost:8080/",
          "height": 89
        }
      },
      "source": [
        "from random import randint\n",
        "\n",
        "dice_toss = randint(1, 6)\n",
        "print (dice_toss)\n",
        "\n",
        "from datetime import datetime\n",
        "\n",
        "current_time = datetime.now()\n",
        "c_year = current_time.year \n",
        "c_month = current_time.month\n",
        "c_day = current_time.day\n",
        "print (c_year)\n",
        "print (c_month)\n",
        "print (c_day)\n"
      ],
      "execution_count": 0,
      "outputs": [
        {
          "output_type": "stream",
          "text": [
            "3\n",
            "2019\n",
            "12\n",
            "2\n"
          ],
          "name": "stdout"
        }
      ]
    },
    {
      "cell_type": "markdown",
      "metadata": {
        "id": "SMoOrApxGF9o",
        "colab_type": "text"
      },
      "source": [
        "  \n",
        "##추가 연습 \n",
        "\n",
        "* ‘math’ module 을 사용해 보겠습니다.\n",
        "* 우선 math module 을 import 해야 합니다\n",
        "* 다음 4개의 함수를 배워 봅니다: ceil, floor, max, min\n",
        "\n",
        "        ceil()      # '올림' 의 기능을 합니다. 주어진 숫자보다 같거나 더 큰 정수를 결과 값으로 받습니다.\n",
        "        floor()     # '내림' 의 기능을 합니다. 주어진 숫자보다 같거나 더 작은 정수를 결과 값으로 받습니다.\n",
        "        max()       # 주어진 숫자 중에서 가장 큰 값을 보여 줍니다. string 일 경우 알파벳에서 가장 늦은 순서의 알파벳을 보여 줍니다.\n",
        "        min()       # 주어진 숫자 중에서 가장 작은 값을 보여 줍니다. string 일 경우 알파벳에서 가장 빠른 순서의 알파벳을 보여 줍니다.\n"
      ]
    },
    {
      "cell_type": "code",
      "metadata": {
        "id": "XadIYFrHGEsE",
        "colab_type": "code",
        "outputId": "797b9d30-76ea-4606-d79c-4637be4e545c",
        "colab": {
          "base_uri": "https://localhost:8080/",
          "height": 125
        }
      },
      "source": [
        "import math               \n",
        "\n",
        "print (math.ceil(0.5))           \n",
        "print (math.floor(0.5))  \n",
        "print (max([1, 2, 3]))\n",
        "print (max('Chevrolet'))\n",
        "print (min([1, 2, 3]))\n",
        "print (min('Chevrolet'))"
      ],
      "execution_count": 0,
      "outputs": [
        {
          "output_type": "stream",
          "text": [
            "1\n",
            "0\n",
            "3\n",
            "v\n",
            "1\n",
            "C\n"
          ],
          "name": "stdout"
        }
      ]
    },
    {
      "cell_type": "markdown",
      "metadata": {
        "id": "4x3xk9lqOgPH",
        "colab_type": "text"
      },
      "source": [
        "#Lesson 24      -      For Loop\n",
        "\n",
        "\n",
        "##학습 내용\n",
        "* 파이썬에는 for loop 과 while loop이 있습니다. for는 어떤 법위내에서 한정된 루프를 돌릴 때 사용합니다. \n",
        "\n",
        "\n",
        "##문법\n",
        "* for 는 다음과 같은 형태를 취합니다.\n",
        "\n",
        "         for 변수 in 대상:\n",
        "\t\t        수행 내용\n",
        "\n",
        "\n",
        " \n",
        "##설명\n",
        "* 다음과 같이 리스트의 범위 내에서 숫자를 출력하도록 할 수 있습니다.\n",
        "\n",
        "        a=[1,2,3,4,5]\n",
        "\n",
        "        for var in a:\n",
        "            print (var) \t# 이 다섯 개 아이템들을 차례로 출력됩니다.\n",
        "\n",
        "* string 도 마찬가지로 할 수 있습니다.\n",
        "\n",
        "\n",
        "        b = [＂KIA＂, ＂BMW＂}\n",
        "\n",
        "        for s in b:\n",
        "\t\t    print (s)\n",
        "\n",
        "\n",
        "\n",
        "## 연습\n",
        "\n",
        "* 스트링＂car＂를 for i in range(5): 를 사용하여 다섯 번 출력해 봅니다. \n",
        "* 숫자 1 부터 10 까지 더해봅니다. \n",
        "* ‘KOREA’ 를 알파벳으로 하나씩 출력해 봅니다.\n",
        "\n",
        "\n",
        "\n",
        "##주의\n",
        "* range 를 쓸 때  range(2,5) 라고 하면 2 부터 4 (5가 아님) 가 적용됨\n",
        "* range(5)는 0,1,2,3,4 즉 다섯 번이 적용됨\n",
        "\n",
        "\n",
        "\n",
        "\n",
        "##코딩 부분"
      ]
    },
    {
      "cell_type": "code",
      "metadata": {
        "id": "fXJ78sFVOkXF",
        "colab_type": "code",
        "outputId": "18cb8303-a6c7-466c-9c0e-d2f7cc63e9d4",
        "colab": {
          "base_uri": "https://localhost:8080/",
          "height": 215
        }
      },
      "source": [
        "for i in range(5):\n",
        "\tprint ('car')\n",
        "\n",
        "total = 0\n",
        "n = 10      \n",
        "for i in range(1, n + 1): \n",
        "\ttotal += i     \n",
        "print (total)\n",
        "\n",
        "for character in 'KOREA':\n",
        "\tprint (character)\n"
      ],
      "execution_count": 0,
      "outputs": [
        {
          "output_type": "stream",
          "text": [
            "car\n",
            "car\n",
            "car\n",
            "car\n",
            "car\n",
            "55\n",
            "K\n",
            "O\n",
            "R\n",
            "E\n",
            "A\n"
          ],
          "name": "stdout"
        }
      ]
    },
    {
      "cell_type": "markdown",
      "metadata": {
        "id": "25Ym7LKIOrrw",
        "colab_type": "text"
      },
      "source": [
        "  \n",
        "    \n",
        "##추가 연습 \n",
        "\n",
        "* range 로 세 가지를 더 해 봅니다.\n",
        "\n",
        "(1) 2부터 4까지 숫자를 제곱과 세제곱을 만들어 출력합니다.\n",
        "\n",
        "    끝에 ‘That’s it’ 을 출력합니다\n",
        "\n",
        "(2) range에서 시작 값과 마지막 값 그리고 각 단계별로 더하거나 빼는 값을 넣는 아래 문법을 사용하여 10에서 0까지 레인지에서 3씩 빼 나가는 것을 해봅니다.\n",
        "\n",
        "        range(start_value, end_value, step)\n",
        "    \n",
        "(3) 마찬가지로 10에서 20까지 3 씩 더해 가는 것도 해봅니다.\n",
        "\n"
      ]
    },
    {
      "cell_type": "code",
      "metadata": {
        "id": "VbBwWnaaOutQ",
        "colab_type": "code",
        "outputId": "5c9fbecd-cc1a-4e04-a9a8-8d72bddb0ffa",
        "colab": {
          "base_uri": "https://localhost:8080/",
          "height": 233
        }
      },
      "source": [
        "for i in range(2, 5):\n",
        "\tprint (i**2, i**3)\n",
        "print (\"That's it\")\n",
        "\n",
        "for n in range(10, 0, -3):\n",
        "\tprint (n)\n",
        "\n",
        "for n in range(10, 20, 3):\n",
        "\tprint (n)"
      ],
      "execution_count": 0,
      "outputs": [
        {
          "output_type": "stream",
          "text": [
            "4 8\n",
            "9 27\n",
            "16 64\n",
            "That's it\n",
            "10\n",
            "7\n",
            "4\n",
            "1\n",
            "10\n",
            "13\n",
            "16\n",
            "19\n"
          ],
          "name": "stdout"
        }
      ]
    },
    {
      "cell_type": "markdown",
      "metadata": {
        "id": "RjY5PL1MPPL9",
        "colab_type": "text"
      },
      "source": [
        "#Lesson 25     While / While - Else Loop\n",
        "\n",
        "\n",
        "##학습 내용\n",
        "* \"while loop\" 은 조건이 False 가 될 때까지 반복할 때 쓰이는 루프입니다. \n",
        "\n",
        "\n",
        "##문법\n",
        "* while 은 다음과 같은 형태를 취합니다.\n",
        "\n",
        "         while condition:\n",
        "\t\t    body\n",
        "\n",
        "\n",
        " \n",
        "##설명\n",
        "* while 은 우리가 for 처럼 몇 회, 숫자 몇 까지 같이 명확하게 주어지는 것이 아니라 언제 끝날지 확실히 모를 때 또는 몇 번이나 반복할지 확실하지 않을 때 (조건이 될 때 까지) 주로 사용됩니다. \n",
        "* 예를 보겠습니다. 아래는 정수가 5이하일 때 세제곱을 프린트 하라고 하는 것입니다. (물론 여기서는 간단한 것이니 뻔히 몇 회 루프가 돌지 보입니다) \n",
        "\n",
        "        i = 1\n",
        "        while i <= 5:\n",
        "\t\t    print (i ** 3)\n",
        "\t\t    i += 1       \t\t# 이는 i = i + 1 과 같은 표현임 \n",
        "\n",
        "\n",
        "## 연습\n",
        "\n",
        "*앞의 예를 다른 숫자로 실행해 봅니다.\n",
        "\n",
        "\t\ti = 15 에서 시작하여\n",
        "\t\t1 > 0 보다 큰 조건에서 \n",
        "\t\t\ti 의 제곱을 출력해 봅니다.\n",
        "\t\t\t이어서 i 에서 2씩 빼 나갑니다.\n",
        "\n",
        "\n",
        "\n",
        "##주의\n",
        "* i -= 1 은 i = i – 1 과 같은 뜻입니다.\n",
        "\n",
        "\n",
        "\n",
        "\n",
        "##코딩 부분"
      ]
    },
    {
      "cell_type": "code",
      "metadata": {
        "id": "vZfcGrIqPShD",
        "colab_type": "code",
        "outputId": "7f3293a9-0496-4e52-c80a-9998cd4cd4bd",
        "colab": {
          "base_uri": "https://localhost:8080/",
          "height": 161
        }
      },
      "source": [
        "i = 15\n",
        "\n",
        "while i > 0:\n",
        "    print (i ** 2)\n",
        "    i -= 2"
      ],
      "execution_count": 0,
      "outputs": [
        {
          "output_type": "stream",
          "text": [
            "225\n",
            "169\n",
            "121\n",
            "81\n",
            "49\n",
            "25\n",
            "9\n",
            "1\n"
          ],
          "name": "stdout"
        }
      ]
    },
    {
      "cell_type": "markdown",
      "metadata": {
        "id": "_AGa06P6PfR_",
        "colab_type": "text"
      },
      "source": [
        "##추가 연습 \n",
        "\n",
        "* While-else\n",
        "\t\n",
        "이번에는 조건문의 else 를 끝에 추가해 문장을 하나 더 출력해 봅니다.\n",
        "\n",
        "        i = 1\n",
        "\n",
        "        while i <= 3:\n",
        "            print (i)\n",
        "            i += 1\n",
        "        else:\n",
        "            print (\"That's it\")\n",
        "\n",
        "* 이를 실제로 실행해 봅니다.\n"
      ]
    },
    {
      "cell_type": "code",
      "metadata": {
        "id": "DPtcoPQgPh-Q",
        "colab_type": "code",
        "outputId": "2b6c1ba6-7c5d-45c0-d4f4-9d7181a42bc7",
        "colab": {
          "base_uri": "https://localhost:8080/",
          "height": 89
        }
      },
      "source": [
        "i = 1\n",
        "\n",
        "while i <= 3:\n",
        "\tprint (i)\n",
        "\ti += 1\n",
        "else:\n",
        "    print (\"That's it.\")"
      ],
      "execution_count": 0,
      "outputs": [
        {
          "output_type": "stream",
          "text": [
            "1\n",
            "2\n",
            "3\n",
            "That's it.\n"
          ],
          "name": "stdout"
        }
      ]
    },
    {
      "cell_type": "markdown",
      "metadata": {
        "id": "AuB86DLwQYdi",
        "colab_type": "text"
      },
      "source": [
        "#Lesson 26    -   Break/Continue\n",
        "\n",
        "\n",
        "##학습 내용\n",
        "* for 나 while loop 에서 빠져나오려면 break 문을 사용합니다. loop 를 빠져나오지 않고 해당 조건만 건너뛰고 싶을 때는 continue 문을 사용합니다. \n",
        "\n",
        "\n",
        "##설명\n",
        "####break\n",
        "* break 문을 배워 봅니다. 이는 특정 조건이 맞을 때 루프를 중단하라고 명령하는 것입니다. (아래에서는 4가 되면 더 이상 루프를 돌리지 말라는 break 문을 넣어 본 것입니다.) \n",
        "\n",
        "         \ti = 1\n",
        "\n",
        "\t        while i <= 10:\n",
        "\t\t        print (i)\n",
        "\t\t        if i == 4:\n",
        "\t\t\t        break\n",
        "\t\t        i += 1\n",
        "\n",
        "####continue\n",
        "* continue 문을 배워 봅니다. 이는 현재 진행 중인 루프를 거부하고  마지막 조건을 계속 다시 위로 보내는 역할을 합니다.\n",
        "\n",
        "         \ti = 1\n",
        "\n",
        "\t        while i <= 5:\n",
        "\t\t        i += 1\n",
        "\t\t        if i == 4:\n",
        "\t\t\t        continue\n",
        "\t\n",
        "        \tprint (i)\n",
        "\n",
        "\n",
        "## 연습\n",
        "* 1에서 5까지 출력을 하는데 중간에 3이 오면 break 를 하게 해봅니다.\n",
        "* 1에서 5까지 출력을 하는데 중간에 3이 오면 continue 를 하게하여 뛰어 넘게 해봅니다.\n",
        "\n",
        "\n",
        "\n",
        "##주의\n",
        "* 어떤 범위까지 출력을 할 때 그 범위에 대한 정확한 설정이 중요합니다. \n",
        "\n",
        "\n",
        "\n",
        "\n",
        "##코딩 부분"
      ]
    },
    {
      "cell_type": "code",
      "metadata": {
        "id": "PntcLM_yQb8x",
        "colab_type": "code",
        "outputId": "4e673656-4c01-49f6-d00e-a1b8a65cb7a2",
        "colab": {
          "base_uri": "https://localhost:8080/",
          "height": 167
        }
      },
      "source": [
        "\n",
        "i = 0\n",
        "\n",
        "while i <= 5:\n",
        "\tprint (i)\n",
        "\tif i == 3:\n",
        "\t\tbreak\n",
        "\ti += 1\n",
        "\n",
        "i = 0\n",
        "\n",
        "while i <= 4:\n",
        "\ti += 1\n",
        "\tif i == 3:\n",
        "\t\tcontinue\n",
        "\tprint (i)"
      ],
      "execution_count": 0,
      "outputs": [
        {
          "output_type": "stream",
          "text": [
            "0\n",
            "1\n",
            "2\n",
            "3\n",
            "1\n",
            "2\n",
            "4\n",
            "5\n"
          ],
          "name": "stdout"
        }
      ]
    },
    {
      "cell_type": "markdown",
      "metadata": {
        "id": "vdzZeaGIl0De",
        "colab_type": "text"
      },
      "source": [
        "####Video\n",
        "[Lesson 26 - Lesson 31까지의 영상](https://youtu.be/zVIQuRShh9U)"
      ]
    },
    {
      "cell_type": "markdown",
      "metadata": {
        "id": "0RXE363pQzUS",
        "colab_type": "text"
      },
      "source": [
        "##추가 연습 \n",
        "\n",
        "(1) \t짝수 출력\n",
        "* 홀수를 건너 띄게 하여 짝수만 1 부터 10 사이에서 출력하게 해봅니다.\n",
        "* 이를 위해서는 나머지가 0 이 되지 않는 숫자는 continue 하게 만들어야 합니다.\n",
        "\n",
        "(2) \t홀수 출력\n",
        "* 마찬가지로 짝수를 건너 띄게 하여 홀수만 1 부터 10사 이에서 출력하게 해봅니다.\n",
        "* 이를 위해서는 나머지가 1이 되지 않는 숫자는 continue 하게 만들어야 합니다.\n",
        "\n"
      ]
    },
    {
      "cell_type": "code",
      "metadata": {
        "id": "B4SEqNi5Q2qm",
        "colab_type": "code",
        "outputId": "76688bb0-4ae5-4e66-ed84-d24a2791f286",
        "colab": {
          "base_uri": "https://localhost:8080/",
          "height": 197
        }
      },
      "source": [
        "for num in range(1, 11):\n",
        "\tif num % 2 == 0:\n",
        "\t\tprint (num)\n",
        "\tcontinue\n",
        "\n",
        "for num in range(1, 11):\n",
        "\tif num % 2 == 1:\n",
        "\t\tprint (num)\n",
        "\tcontinue"
      ],
      "execution_count": 0,
      "outputs": [
        {
          "output_type": "stream",
          "text": [
            "2\n",
            "4\n",
            "6\n",
            "8\n",
            "10\n",
            "1\n",
            "3\n",
            "5\n",
            "7\n",
            "9\n"
          ],
          "name": "stdout"
        }
      ]
    },
    {
      "cell_type": "markdown",
      "metadata": {
        "id": "tIfSqy0URwFS",
        "colab_type": "text"
      },
      "source": [
        "#TASK 27     -        File I/O\n",
        "\n",
        "\n",
        "##학습 내용\n",
        "* 에디터를 벗어난 파일을 다루기 위해 \"File I/O\" 를 학습하여야 합니다. 이는 추후 학습에서 꼭 필요한 과정으로 사무 자동화 등에 유용하게 쓰이는 부분의 기초적인 내용입니다. \n",
        "\n",
        "\n",
        "##문법\n",
        "* 3개의 아이템을 가진 test list 를 만들어 봅니다. 이어서 f(=file) 라는 variable 으로 test.txt 를 여는데 \"w\"(=writing) 모드로 엽니다. 이 경우 여러분이 보시는 main.py 우측에 test.txt 가 열림을 볼 수 있습니다. 이어서 close 를 하여 마무리 합니다. 이 과정이 리스트를 통해 파일을 만들고 이를 쓰기 모드에서 열어보았다가 닫는 과정입니다. \n",
        "\n",
        "        test_list = [\"KIA\", \"Porsche\", \"Maserati\"]\n",
        "        f = open(\"test.txt\", \"w\")\n",
        "        f.close()\n",
        "\n",
        "\n",
        " \n",
        "##설명\n",
        "* 하지만 아직 리스트에 있는 아이템이 test.txt 파일에 쓰여 진 것은 아닙니다. 따라서 for loop를 활용하여 리스트에 있는 string item들이 아래와 같은 방법을 통해 파일에 입력 되도록 합니다.\n",
        "\n",
        "        for value in test_list:\n",
        "\t\t    f.write(str(value))\n",
        "\n",
        "\n",
        "## 연습\n",
        "* 앞에 경우에서 리스트를 출력해보면 이 경우 알파벳 순서대로 \n",
        "\t\n",
        "        \"KIAMaseratiPorsche\" \n",
        "\t\n",
        "이런 형식으로 출력이 됩니다. \n",
        "\n",
        "빈공간이 없으므로 붙어서 나오게 되지요. \n",
        "\n",
        "\\n 을 넣어서 줄 바꾸기를 하여 세로로 나오도록 해봅니다.\n",
        "\n",
        "내용을 그냥 숫자 1,2,3,5,6 으로 된 리스트로 만들어 보겠습니다.\n",
        "\n",
        " \n",
        "\n",
        "##주의\n",
        "* \\n 을 넣어서 줄 바꾸기를 하여 세로로 나오도록 할 수 있습니다.\n",
        "\n",
        "\n",
        "\n",
        "##코딩 부분"
      ]
    },
    {
      "cell_type": "code",
      "metadata": {
        "id": "zGdiz8p2RxqY",
        "colab_type": "code",
        "outputId": "1fc6818d-3a23-4bb7-dc36-fdff8205f583",
        "colab": {
          "base_uri": "https://localhost:8080/",
          "height": 125
        }
      },
      "source": [
        "test_list = [ 1, 2, 3, 4, 5, 6]\n",
        "f = open(\"test_list.txt\", \"w\")\n",
        "\n",
        "for item in test_list:\n",
        "\tf.write(str(item) + \"\\n\")\n",
        "\tprint (str(item))\n",
        "\n",
        "f.close()"
      ],
      "execution_count": 0,
      "outputs": [
        {
          "output_type": "stream",
          "text": [
            "1\n",
            "2\n",
            "3\n",
            "4\n",
            "5\n",
            "6\n"
          ],
          "name": "stdout"
        }
      ]
    },
    {
      "cell_type": "markdown",
      "metadata": {
        "id": "Bq2NjiMjR8HR",
        "colab_type": "text"
      },
      "source": [
        "##추가 연습 \n",
        "\n",
        "* 이제 읽기를 해봅니다.\n",
        "* 파일 읽기는 \"r\" 모드에서 되며 우리의 입장에서는 제대로 읽었는지 알 수가 없으므로 이를 프린트 함으로 확인합니다.\n",
        "* 앞의 페이지와 같은 방법으로 파일을 만든 후 그 다음에 읽기를 해봅니다. \n",
        "* 그런데 쓰기 모드에서 새로운 쓰기 모드를 하면 앞의 리스트를 덮어 써 버립니다.\n",
        "* 그래서 앞에 것을 지우지 않게 추가만 할 경우 append 모드 \"a\" 로 씁니다.\n",
        "* 4를 “w” 모드로 쓰면 1,2,3 은 없어지고 4 만 남습니다.\n",
        "* 하지만 “a” 모드로 쓰면 1,2,3 에 4 가 더 해집니다.\n",
        "* 연습을 해봅니다.\n"
      ]
    },
    {
      "cell_type": "code",
      "metadata": {
        "id": "hkADBVkQR9gO",
        "colab_type": "code",
        "outputId": "db98a6bb-153b-402c-cbd4-6a8f28b668f5",
        "colab": {
          "base_uri": "https://localhost:8080/",
          "height": 35
        }
      },
      "source": [
        "test_list = [1,2,3]\n",
        "f = open(\"test_list.txt\",\"w\")\n",
        "\n",
        "for item in test_list:\n",
        "\tf.write(str(item) + \"\\n\")\n",
        "\n",
        "fr =  open(\"test_list.txt\",\"r\")\n",
        "print (fr.read())\n",
        "\n",
        "frp = open(\"test_list.txt\",\"a\")\n",
        "frp.write('4')\n",
        "\n",
        "frp.close()\n"
      ],
      "execution_count": 0,
      "outputs": [
        {
          "output_type": "stream",
          "text": [
            "\n"
          ],
          "name": "stdout"
        }
      ]
    },
    {
      "cell_type": "markdown",
      "metadata": {
        "id": "IpXMRd-eSSW4",
        "colab_type": "text"
      },
      "source": [
        "    # main.py에서는 1,2,3 만 보이나 test_list.txt 를 보면 1,2,3,4 가 나온다. "
      ]
    },
    {
      "cell_type": "markdown",
      "metadata": {
        "id": "iDZCLj-WS3sn",
        "colab_type": "text"
      },
      "source": [
        "###Extra Practice\n",
        "\n",
        "(1)  Colab에서 자기 PC에 있는 파일 불러 오기\n",
        "\n",
        "* PC에 있는 파일을 여기 작업 공간으로 불러온다."
      ]
    },
    {
      "cell_type": "code",
      "metadata": {
        "id": "D5qTCmFkS8FX",
        "colab_type": "code",
        "outputId": "e3cd5af9-4842-4bce-d5dc-9ee7fb726e11",
        "colab": {
          "resources": {
            "http://localhost:8080/nbextensions/google.colab/files.js": {
              "data": "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",
              "ok": true,
              "headers": [
                [
                  "content-type",
                  "application/javascript"
                ]
              ],
              "status": 200,
              "status_text": ""
            }
          },
          "base_uri": "https://localhost:8080/",
          "height": 43
        }
      },
      "source": [
        "from google.colab import files\n",
        "uploaded = files.upload()"
      ],
      "execution_count": 0,
      "outputs": [
        {
          "output_type": "display_data",
          "data": {
            "text/html": [
              "\n",
              "     <input type=\"file\" id=\"files-b91bc7f1-52f3-47ea-9b23-860e27547cb6\" name=\"files[]\" multiple disabled />\n",
              "     <output id=\"result-b91bc7f1-52f3-47ea-9b23-860e27547cb6\">\n",
              "      Upload widget is only available when the cell has been executed in the\n",
              "      current browser session. Please rerun this cell to enable.\n",
              "      </output>\n",
              "      <script src=\"/nbextensions/google.colab/files.js\"></script> "
            ],
            "text/plain": [
              "<IPython.core.display.HTML object>"
            ]
          },
          "metadata": {
            "tags": []
          }
        }
      ]
    },
    {
      "cell_type": "markdown",
      "metadata": {
        "id": "wMBoAdVPTxDg",
        "colab_type": "text"
      },
      "source": [
        "\n",
        "\n",
        "#Lesson 28    -    Making a Class \n",
        "\n",
        "\n",
        "##학습 내용\n",
        "* 함수, 변수, data 등을 포함한 큰 오브젝트 class가 있습니다. 한 번 클래스를 만들어 보겠습니다. 여기서 self 및 _init_의 개념도 공부합니다. 클래스는 다른 모듈들과 구분하기 위해 대문자로 표기합니다. \n",
        "\n",
        "\n",
        "##설명\n",
        "* 우선 빈 클래스를 만들어 봅니다.\n",
        "\n",
        "         class Car():\n",
        "\t\t    pass\n",
        "\n",
        "* 위의 클래스는 빈 클래스 입니다. 여기에 요소들을 붙여 봅니다.\n",
        "* 우선 클래스 \"Car\" 를 만들고 이 안에 object 들이 있음을 알립니다.\n",
        "* 그리고 initializer 라 불리우는 _init_을 넣습니다. \n",
        "* _init_ 은 initializer, 즉 초기에 뭔가 정해주는 성질을 가집니다.\n",
        "* 우리는 메소드를 만들 때  _init_() 을 사용하는데, 이 것의 첫 argument는  \"self\" 로 시작합니다.  \n",
        "\n",
        "\t    class Car(object): \n",
        "\t\t    def __init__(self):\n",
        "\n",
        "* 우리는 \"self\" 를 최초의 인자로 사용했습니다. 이는 다음에 오는 다른 argument 모두에게 \"self\" 를 부여하는 효과가 있습니다.  이는  마치 여기서 만들어지는 매소드는 이 클래스에 속한 것이라 선언하는 효과가 있습니다.\n",
        "\n",
        "-----\n",
        "\n",
        "* 우선 이해를 쉽게 하기 위해 _init_ 없이 클래스를 만들어 봅니다.\n",
        "\n",
        "    \tclass Car(): \n",
        "\t    \tdef brake():\n",
        "\t\t    \tprint (\"Hit the brake!\")\n",
        "\n",
        "\t\t    def pedal(self):\n",
        "\t\t\t    print (\"Stop the car!\")\n",
        "\n",
        "\n",
        "* 위의 경우를 보면 함수 brake() 에는 “self” 가 없습니다. \n",
        "* 위를 실행해 보면 f.brake() 는 에러가 발생하나 f.pedal() 은 “Stop the car!”를 프린트 합니다. 왜 그럴까요?  \n",
        "* 이는 brake가 아무런 argument 없이 시작되었는데 아래에서 아규먼트를 받기 때문입니다. 이는 자체적으로 “self” 를 통해서 이 클래스 내에서 쓰일 인자를 받아야 아래에서 이를 출력할 수 있다는 말입니다. (물론 self 말고 다른 (예를 들어 a 라는) 인자를 주어도 출력이 가능합니다. 하지만 self 를 주어야 그 다음에 올 인자들에게 self 를 부여할 수 있게 됩니다.) \n",
        "* 위의 경우에는 Hit the brake! 와 Stop the car! 를 출력합니다.\n",
        "\n",
        "\n",
        "    \tclass Car(): \n",
        "    \t\tdef brake(self):\n",
        "    \t\t\tprint (\"Hit the brake!\")\n",
        "\n",
        "    \t\tdef pedal(self):\n",
        "    \t\t\tprint (\"Stop the car!\")\n",
        "\n",
        "    \tf=Car()\n",
        "    \tf.brake()\n",
        "    \tf.pedal()\n",
        "\n",
        "\n",
        "## 연습\n",
        "\n",
        "* 이제 예로 차계부 Class 를 만들어 보겠습니다. \n",
        "\n",
        "(1) class Manager: 를 만듭니다. \n",
        "\n",
        "        class Manager():\n",
        "\n",
        "(2) def init(self, model, color, year, mileage) 로 정의 합니다.\n",
        "\n",
        "        def_init_(self, model, color, year, mileage):\n",
        "\n",
        "(3) 이어서 self 로 정의된 변수를 변수랑 연결해 줍니다. \n",
        "\n",
        "        self.model = model\n",
        "        self.color = color\n",
        "        self. year =  year\n",
        "        self.mileage = mileage\n",
        "\n",
        "(4) 이들을 출력할 수 있게 argument 를 줍니다.\n",
        "\n",
        "        mycar = Manager(\"Model: Camaro\", \"Color: Red\", \"Year: 2020\", \"Mileage: 12,345\")\n",
        "\n",
        "\n",
        "(5) 출력합니다.\n",
        "\n",
        "        print (mycar.model)\n",
        "        print (mycar.color)\n",
        "        print (mycar.year)\n",
        "        print (mycar.mileage)\n",
        "\n",
        "\n",
        "\n",
        "\n",
        "\n",
        "##코딩 부분"
      ]
    },
    {
      "cell_type": "code",
      "metadata": {
        "id": "mlC0RTUST0wk",
        "colab_type": "code",
        "outputId": "2e1ca28f-3a10-4458-ad53-121827e849ad",
        "colab": {
          "base_uri": "https://localhost:8080/",
          "height": 89
        }
      },
      "source": [
        "class Manager(object):\n",
        "    def __init__(self, model, color, year, mileage): \n",
        "       self.model = model\n",
        "       self.color = color\n",
        "       self.year = year\n",
        "       self.mileage = mileage\n",
        "\n",
        "mycar = Manager(\"Model: Camaro\", \"Color: Red\", \"Year: 2020\", \"Mileage: 12,345\")\n",
        "\n",
        "print (mycar.model)\n",
        "print (mycar.color)\n",
        "print (mycar.year)\n",
        "print (mycar.mileage)\n"
      ],
      "execution_count": 0,
      "outputs": [
        {
          "output_type": "stream",
          "text": [
            "Model: Camaro\n",
            "Color: Red\n",
            "Year: 2020\n",
            "Mileage: 12,345\n"
          ],
          "name": "stdout"
        }
      ]
    },
    {
      "cell_type": "markdown",
      "metadata": {
        "id": "XCPW42O4T4ii",
        "colab_type": "text"
      },
      "source": [
        "####Video\n",
        "[Lesson 28 - Lesson 38까지의 영상](https://youtu.be/zVIQuRShh9U)"
      ]
    },
    {
      "cell_type": "markdown",
      "metadata": {
        "id": "AlSMl4ciUOnC",
        "colab_type": "text"
      },
      "source": [
        "#Lesson 29      -      Instance \n",
        "\n",
        "\n",
        "\n",
        "##학습 내용\n",
        "* instance 는 클래스에 의해 생성되는 오브젝트로 각 인스턴스는 고유의 값을 가집니다. \n",
        "\n",
        "\n",
        "##문법\n",
        "* “Car” 가 당신의 클래스라면 “my_car” 는 고유의 instance 입니다.\n",
        "* “야구선수”가 당신의 클래스라면 “류현진”은 고유의 인스턴스가 될 것입니다.\n",
        "* 이와 같이, 인스턴스는 클래스에 의해 생성되는 오브젝트로 각 인스턴스는 고유의 값을 가집니다. \n",
        "\n",
        "\n",
        " \n",
        "##설명\n",
        "* 예를 들어 Car 라는 클래스를 만든다고 가정합니다.\n",
        "* name(self) 이라는 메소드를 만든 다음\n",
        "* 당신이 당신의 차에 ‘Bumblebee’ 란 이름을 주었다고 가정합니다\n",
        "* 당신 차의 이름을 출력하는 것을 이 클래스의 함수로 주었다면\n",
        "* 이 것이 인스턴스인 것입니다.\n",
        "\n",
        "\n",
        "## 연습\n",
        "* 연습을 만들어 봅니다.\n",
        "\n",
        "        class Car(object):\n",
        "\t\t    def __init__(self, name):\n",
        "\t\t\t    self.name = name\n",
        "\n",
        "\t    mycar = Car(\"Bumblebee\")\n",
        "    \tprint (mycar.name)\n",
        "\n",
        "\n",
        "\n",
        "##주의\n",
        "* 클래스가 붕어빵 틀이라면 인스턴스는 틀에서 나오는 붕어빵이라고 생각하시면 이해가 좀 더 쉬울 것입니다.\n",
        "\n",
        "\n",
        "\n",
        "##코딩 부분\n"
      ]
    },
    {
      "cell_type": "code",
      "metadata": {
        "id": "oONtHPJzUSdn",
        "colab_type": "code",
        "colab": {}
      },
      "source": [
        "\n",
        "class Car(object):\n",
        "\tdef __init__(self, name):\n",
        "\t\tself.name = name\n",
        "\n",
        "mycar = Car(\"Bumblebee\")\n",
        "print (mycar.name)"
      ],
      "execution_count": 0,
      "outputs": []
    },
    {
      "cell_type": "markdown",
      "metadata": {
        "id": "sr0qopBBUZ00",
        "colab_type": "text"
      },
      "source": [
        "##추가 연습 \n",
        "\n",
        "* 클래스 Car를 만듭니다.\n",
        "\n",
        "\t\tclass Car(object):\n",
        "\n",
        "모델, 컬러, 연도에 이름까지 차에 붙인다고 생각해 봅니다.\n",
        "\n",
        "\t\t\tdef __init__(self, model, color, year, name):\n",
        "\t\t\t\tself.model = model\n",
        "\t\t\t\tself.color = color\n",
        "\t\t\t\tself.year = year\n",
        "\t\t\t\tself.name = name\n",
        "\n",
        "제차 소개를 넣어 봅니다.\n",
        "\n",
        "\t\t\tdef about_mine(self):\n",
        "\t\t\t\treturn '제차는{}로 {}색 입니다. {}연도형으로 제가 이름을 {}라고  부르지요.'.format(self.model,self.color, self.year, self.name)\n",
        "\n",
        "인자를 넣고 출력을 해봅니다.\n",
        "\n",
        "    \t\tmycar = Car('Palisade', '붉은', '2020', '코코')\n",
        "    \t\tprint (mycar.about_mine()\n"
      ]
    },
    {
      "cell_type": "code",
      "metadata": {
        "id": "ybRtNg2dUdlN",
        "colab_type": "code",
        "outputId": "043faa70-e22e-41c1-8a2d-dea4d64aa1ed",
        "colab": {
          "base_uri": "https://localhost:8080/",
          "height": 35
        }
      },
      "source": [
        "class Car(object):\n",
        "\tdef __init__(self,model,color,year,name):\n",
        "\t\tself.model = model\n",
        "\t\tself.color = color\n",
        "\t\tself.year = year\n",
        "\t\tself.name = name\n",
        "\n",
        "\tdef about_mine(self):\n",
        "\t\tprint (\"제차는 {0}로  {1}색 입니다. {2}연도형으로 제가 이름을 {3}라고 부르지요.\".format(self.model, self.color, self.year, self.name))\n",
        "\n",
        "\n",
        "mycar = Car('Palisade', '붉은', '2020', '코코')\n",
        "mycar.about_mine()\n"
      ],
      "execution_count": 0,
      "outputs": [
        {
          "output_type": "stream",
          "text": [
            "제차는 Palisade로  붉은색 입니다. 2020연도형으로 제가 이름을 코코라고 부르지요.\n"
          ],
          "name": "stdout"
        }
      ]
    },
    {
      "cell_type": "markdown",
      "metadata": {
        "id": "BWcJinR9VcTu",
        "colab_type": "text"
      },
      "source": [
        "#Lesson 30  -   Creating and Accessing Methods \n",
        "\n",
        "\n",
        "##학습 내용\n",
        "* 이제는 클래스 내에 메소드를 만들고 이를 사용하는 법을 배워 봅니다. 메소드는 클래스 내에 내장된 함수 같은 것입니다. 우리가 클래스를 만들 때 메소드도 같이 만들고 이를 사용해 보겠습니다. \n",
        "\n",
        "\n",
        "##설명\n",
        "* 우선 Car 클래스를 만들어 봅니다.\n",
        "* self 로 maker, color, style 의 오브젝트를 만듭니다.\n",
        "* 브레이크 메소드는 다음을 프린트하는 기능을 가지도록 합니다.\n",
        "\n",
        "         This is a {maker} with a good brake.\n",
        "\n",
        "* 미러 메소드는 다음을 프린트하는 기능을 가지도록 합니다.\n",
        "\n",
        "        This is {style} style with no blind spot.\n",
        "\n",
        "\n",
        "* 와이퍼 메소드는 다음을 프린트하는 기능을 가지도록 합니다.\n",
        "\n",
        "        It is {color} and comes with an excellent wiper.\n",
        "\n",
        "\n",
        "* 아규먼트를 줍니다.\n",
        "\n",
        "        mine = Car(\"Chevy\", \"dark blue\", \"cool\")\n",
        "\n",
        "\n",
        "* 호출하여 메소드를 사용합니다.\n",
        "\n",
        "    \tmine.brake()\n",
        "    \tmine.mirror()\n",
        "    \tmine.wiper()\n",
        "\n",
        "\n",
        "## 연습\n",
        "\n",
        "* Car 클래스를 만든 후\n",
        "* brake method, mirror method, wiper method 를 만든 후 차례로 호출해 봅니다.\n",
        "\n",
        "\n",
        "\n",
        "##코딩 부분"
      ]
    },
    {
      "cell_type": "code",
      "metadata": {
        "id": "gKm8Ny_rVjRl",
        "colab_type": "code",
        "outputId": "1589f323-abaa-4597-a6d6-aa84baeaa581",
        "colab": {
          "base_uri": "https://localhost:8080/",
          "height": 71
        }
      },
      "source": [
        "class Car(object):\n",
        "\tdef __init__(self, maker, color, style):\n",
        "\t\tself.maker = maker\n",
        "\t\tself.color = color\n",
        "\t\tself.style = style\n",
        "\n",
        "\tdef brake(self):\n",
        "\t\tprint (\"This is a {} with a good brake.\".format(self.maker))\n",
        "\n",
        "\tdef mirror(self):\n",
        "\t\tprint (\"This is {} style with no blind spot.\".format(self.style))\n",
        "\n",
        "\tdef wiper(self):\n",
        "\t\tprint (\"It is {} and comes with an excellent wiper.\".format(self.color))\n",
        "\n",
        "\n",
        "mine = Car(\"Chevy\", \"dark blue\", \"cool\")\n",
        "\n",
        "mine.brake()\n",
        "mine.mirror()\n",
        "mine.wiper()\n"
      ],
      "execution_count": 0,
      "outputs": [
        {
          "output_type": "stream",
          "text": [
            "This is a Chevy with a good brake.\n",
            "This is cool style with no blind spot.\n",
            "It is dark blue and comes with an excellent wiper.\n"
          ],
          "name": "stdout"
        }
      ]
    },
    {
      "cell_type": "markdown",
      "metadata": {
        "id": "bXycjU4AYrCe",
        "colab_type": "text"
      },
      "source": [
        "##추가 연습 \n",
        "\n",
        "* 3대의 차가 있다고 상상해 봅니다. 이 3대는 Chevrolet 의 2019 Corvette, Ford 의 2020 Mustang, Jaguar 의 2019 XF 라고 가정해 봅니다. \n",
        "* 셋 다 빠르다고 가정하여 is_fast = True 로 공통으로 주고 \n",
        "* 이 차들의 현황을 프린트 할 수 있게 해봅니다. \n",
        "* 아규먼트는 다음과 같이 줍니다.\n",
        "\n",
        "    \tcorvette = Car(\"Chevrolet\", 2019)\n",
        "    \tmustang = Car(\"Ford\", 2020)\n",
        "    \txf= Car(\"Jaguar\", 2019)\n",
        "\n",
        "\n",
        "\n",
        "* 이를 프린트 해봅니다.\n",
        "\n",
        "    \tprint (corvette.maker, corvette.year, corvette.is_fast)\n",
        "    \tprint (mustang.maker, mustang.year, mustang.is_fast)\n",
        "    \tprint (xf.maker, xf.year, xf.is_fast)"
      ]
    },
    {
      "cell_type": "code",
      "metadata": {
        "id": "MC1HFdwpYwhN",
        "colab_type": "code",
        "outputId": "de2a0743-08e9-4b04-c8e7-153c29b713f8",
        "colab": {
          "base_uri": "https://localhost:8080/",
          "height": 71
        }
      },
      "source": [
        "class Car(object):\n",
        "\tis_fast = True \n",
        "\n",
        "\tdef __init__(self, maker, year):\n",
        "      \t\tself.maker = maker\n",
        "      \t\tself.year = year\n",
        "\n",
        "corvette = Car(\"Chevrolet\", 2019)\n",
        "mustang = Car(\"Ford\", 2020)\n",
        "xf = Car(\"Jaguar\",2019)\n",
        "\n",
        "print (corvette.maker, corvette.year, corvette.is_fast)\n",
        "print (mustang.maker, mustang.year, mustang.is_fast)\n",
        "print (xf.maker, xf.year, xf.is_fast)"
      ],
      "execution_count": 0,
      "outputs": [
        {
          "output_type": "stream",
          "text": [
            "Chevrolet 2019 True\n",
            "Ford 2020 True\n",
            "Jaguar 2019 True\n"
          ],
          "name": "stdout"
        }
      ]
    },
    {
      "cell_type": "markdown",
      "metadata": {
        "id": "WW0xTOOMbB-9",
        "colab_type": "text"
      },
      "source": [
        "#Lesson 31    -      Inheritance\n",
        "\n",
        "\n",
        "\n",
        "##학습 내용\n",
        "* 클래스 간의 상속(Inheritance)는 부모 클래스의 속성을 자식 클래스가 물려 받음을 의미합니다. 예를 들어 Car 라는 클래스가 있으면 \"Car Class\" 의 속성을 상속받는 자식 클래스인 Sedan, Truck 또는 SUV 와 같은 서브 클래스를 만들 수 있습니다. 해당 클래스에서 부모 클래스의 속성과 메소드를 사용할 수 있습니다.\n",
        "\n",
        "\n",
        "##설명\n",
        "* 아래의 예에서 간단히 어떻게 상속하는지를 보겠습니다. 자식 클래스를 만들 때 부모 클래스 이름을 괄호 안에 입력하면 됩니다.\n",
        "* 그러면 따로 만들지 않아도 자식 클래스에는 그 속성이 전달됩니다.\n",
        "\n",
        "    \tclass Car(object):       \n",
        "    \t\t\tbody\n",
        "    \tclass Truck(Car):\n",
        "\n",
        "\n",
        "* 클래스 \"Car\" 를 만듭니다.\n",
        "* Self로 \"Category\", \"maker\" 와 \"year\" 및 \"color\" 를 부모 클래스 \"Car\" 에 생성합니다.\n",
        "* 서브클래스 괄호 안에 Car 를 넣어 \"Truck(Car)\" 클래스를 생성합니다.\n",
        "* 서브 클래스에서 \"Car Class\" 의 메소드를 상속받았다고 가정하고 인자를 넣어서 프린트를 해봅니다.\n",
        "* 이 것이 에러를 발생하는지 상속을 하는지를 확인 합니다.\n",
        "\n",
        "\n",
        "\n",
        "##코딩 부분\n"
      ]
    },
    {
      "cell_type": "code",
      "metadata": {
        "id": "2NqO7LHtb0Pp",
        "colab_type": "code",
        "outputId": "f9656c30-8f1b-4863-b2f5-3e4192925419",
        "colab": {
          "base_uri": "https://localhost:8080/",
          "height": 89
        }
      },
      "source": [
        "class Car(object):\n",
        "\tdef __init__(self, category, maker, year, color):\n",
        "\t\tself.category = category\n",
        "\t\tself.maker = maker\n",
        "\t\tself.year = year\n",
        "\t\tself.color = color\n",
        "\n",
        "\tdef display_mycar(self):\n",
        "\t\tprint ('MyCar: {}'.format(self.category))\n",
        "\t\tprint ('Maker: {}'.format(self.maker))\n",
        "\t\tprint ('Year: {}'.format(self.year))\n",
        "\t\tprint ('Color: {}'.format(self.color))\n",
        "\n",
        "class Truck(Car):\n",
        "\tpass\n",
        "\n",
        "Truck_mine = Truck('Truck','Chevy', '2019', 'Red')\n",
        "Truck_mine.display_mycar()"
      ],
      "execution_count": 0,
      "outputs": [
        {
          "output_type": "stream",
          "text": [
            "MyCar: Truck\n",
            "Maker: Chevy\n",
            "Year: 2019\n",
            "Color: Red\n"
          ],
          "name": "stdout"
        }
      ]
    },
    {
      "cell_type": "markdown",
      "metadata": {
        "id": "_HBdNHcYb9-T",
        "colab_type": "text"
      },
      "source": [
        "##추가 연습 \n",
        "\n",
        "* 클래스 “Car” 를 만듭니다.\n",
        "* Self 로 “Category”, “maker” 와 “year” 및  “color” 를 부모 클래스 “Car” 에 생성합니다.\n",
        "* 서브클래스 괄호 안에 Car 를 넣어 “Ecar(Car)” 전기차클래스를 생성합니다.\n",
        "* 서브 클래스에서 Car Class 의 메소드를 상속받았다고 가정하고 인자를 넣어서 프린트를 해봅니다.\n",
        "* 이 것이 에러를 발생하는지 상속을 하는지를 확인 합니다.\n"
      ]
    },
    {
      "cell_type": "code",
      "metadata": {
        "id": "w0K6XK69cABt",
        "colab_type": "code",
        "outputId": "f35807e8-26d9-47cd-e6d7-7239d2231c95",
        "colab": {
          "base_uri": "https://localhost:8080/",
          "height": 89
        }
      },
      "source": [
        "class Car(object):\n",
        "\tdef __init__(self, category, maker, year, color):\n",
        "\t\tself.category = category\n",
        "\t\tself.maker = maker\n",
        "\t\tself.year = year\n",
        "\t\tself.color = color\n",
        "\n",
        "\tdef display_mycar(self):\n",
        "\t\tprint ('MyCar: {}'.format(self.category))\n",
        "\t\tprint ('Maker: {}'.format(self.maker))\n",
        "\t\tprint ('Year: {}'.format(self.year))\n",
        "\t\tprint ('Color: {}'.format(self.color))\n",
        "\n",
        "class Ecar(Car):\n",
        "\t\tpass\n",
        "\n",
        "kona_mine = Ecar('eCar','HYUNDAI', '2019', 'Red')\n",
        "kona_mine.display_mycar()"
      ],
      "execution_count": 0,
      "outputs": [
        {
          "output_type": "stream",
          "text": [
            "MyCar: eCar\n",
            "Maker: HYUNDAI\n",
            "Year: 2019\n",
            "Color: Red\n"
          ],
          "name": "stdout"
        }
      ]
    },
    {
      "cell_type": "markdown",
      "metadata": {
        "id": "Er_S01RvcMVz",
        "colab_type": "text"
      },
      "source": [
        " ##추가 연습 \n",
        "\n",
        "* 아래의 추가 적인 예를 보며 이해해 봅니다.\n"
      ]
    },
    {
      "cell_type": "code",
      "metadata": {
        "id": "5TQKERI2cPhd",
        "colab_type": "code",
        "outputId": "7bf4bf71-db79-451d-c6d4-d2c23cbc5907",
        "colab": {
          "base_uri": "https://localhost:8080/",
          "height": 53
        }
      },
      "source": [
        "class Car():\n",
        "\tdef __init__(self, engine, body):  \n",
        "\t\tself.engine = engine\n",
        "\t\tself.body = body\n",
        "\n",
        "mycar = Car(\"2 lister engine\", \"beautiful shape.\") \n",
        "print (\"My car has {0} with {1}\".format(mycar.engine, mycar.body))\n",
        "\n",
        "class Truck(Car):\n",
        "\tpass\n",
        "\n",
        "mytruck = Truck(\"5 liter engine\", \"tough body.\")\n",
        "print (\"My car has {0} with {1}\".format(mytruck.engine,mytruck.body))\n"
      ],
      "execution_count": 0,
      "outputs": [
        {
          "output_type": "stream",
          "text": [
            "My car has 2 lister engine with beautiful shape.\n",
            "My car has 5 liter engine with tough body.\n"
          ],
          "name": "stdout"
        }
      ]
    },
    {
      "cell_type": "markdown",
      "metadata": {
        "id": "9Kuffw9CcTT0",
        "colab_type": "text"
      },
      "source": [
        "##Lesson 32 - Overriding\n",
        "\n",
        "\n",
        "##학습 내용\n",
        "* Method overriding 은 부모 클래스의 메소드를 자식 클래스에서 다시 정의 하는 것입니다. 예를 들어 부모 클래스의 특징에서 특정 메소드가 특정한 기능을 하는데 자식 클래스에서는 다른 것은 다 같으나 이 것만은 달라야 할 때가 있습니다. 이런 때 overriding 이 필요합니다.\n",
        "\n",
        "\n",
        "##설명\n",
        "* 아래의 예에서 간단히 보겠습니다. \n",
        "* Car 라는 부모 클래스의 메소드 중 하나인 톨비를 자식 클래스 Truck에서 다시 다른 값으로 정의 하는 것을 해 봅니다.\n",
        "* 부모 클래스에서 메소드를 만들어서 세단의 톨비를 정해봅니다.\n",
        "\n",
        "    \tdef display_car(self):\n",
        "    \t\tprint (\"The toll for a sedan is {} dollars\". format(self.toll))\n",
        "\n",
        "\n",
        "* 자식 클래스에선 이를 뒤엎는 메소드를 만들어서 트럭의 톨비를 정해봅니다. \n",
        "\n",
        "    \tdef display_car(self):\n",
        "    \t\tprint (\"The toll for a truck is {} dollars\". format(self.toll))\n",
        "\n",
        "\n",
        "\n",
        "* 아규먼트에서 각 각 다른 톨비를 정하고 호출합니다.\n",
        "\n",
        "    \tpay_toll = Truck(\"3\")\n",
        "    \tpay_toll.display_car()\n",
        "    \tpay_toll = Car(\"2\")\n",
        "    \tpay_toll.display_car()\n",
        "\n",
        "\n",
        "\n",
        "*이제 단계별로 오버라이딩을 보겠습니다.\n",
        "\n",
        "## 연습 1\n",
        "* 아래에서는 Car 란 클래스를 만들고 gasoline 을 넣는다는 것으로 mother class 에 정해주고\n",
        "* sub class Ecar 에서는 전기차 이므로 electricity 를 넣는다는 것으로 오버라이딩 해보겠습니다.\n",
        "* 우선 mother class 만 있는 경우를 봅니다.\n",
        "\n",
        "##코딩 부분\n"
      ]
    },
    {
      "cell_type": "code",
      "metadata": {
        "id": "_uGRrM3Acc2d",
        "colab_type": "code",
        "outputId": "d69b2e82-e370-4475-b5b4-071999286f2d",
        "colab": {
          "base_uri": "https://localhost:8080/",
          "height": 35
        }
      },
      "source": [
        "class Car(object):\n",
        "\tdef __init__(self, category, fuel):\n",
        "\t\tself.category = category\n",
        "\t\tself.fuel = fuel\n",
        "\n",
        "\tdef display_mycar(self):\n",
        "\t\tprint (\"My car is {0} and it requires {1} for fuel.\". format(self.category,self.fuel))\n",
        "\n",
        "mysportscar = Car(\"an old car\",\"gasoline\")\n",
        "mysportscar.display_mycar()"
      ],
      "execution_count": 0,
      "outputs": [
        {
          "output_type": "stream",
          "text": [
            "My car is an old car and it requires gasoline for fuel.\n"
          ],
          "name": "stdout"
        }
      ]
    },
    {
      "cell_type": "markdown",
      "metadata": {
        "id": "4uampx2DcnQ8",
        "colab_type": "text"
      },
      "source": [
        "## 연습 2\n",
        "\n",
        "* 이어서 오버라이딩 하지 않고 inheritance 만 하는 경우를 보겠습니다\n",
        "\n",
        "\n",
        "\n",
        "\n",
        "##코딩 부분"
      ]
    },
    {
      "cell_type": "code",
      "metadata": {
        "id": "k3TGaKUycpsm",
        "colab_type": "code",
        "outputId": "3f9f74d5-70f2-4c67-9f1c-77ccedcb9685",
        "colab": {
          "base_uri": "https://localhost:8080/",
          "height": 53
        }
      },
      "source": [
        "class Car(object):\n",
        "\tdef __init__(self, category, fuel):\n",
        "\t\tself.category = category\n",
        "\t\tself.fuel = fuel\n",
        "\n",
        "\tdef display_mycar(self):\n",
        "\t\tprint (\"My car is {0} and it requires {1} for fuel.\". format(self.category,self.fuel))\n",
        "\n",
        "class Ecar(Car):\n",
        "\tpass\n",
        "\n",
        "myecar = Ecar(\"a new car\",\"electricity\") \n",
        "myecar.display_mycar()\n",
        "mysportscar = Car(\"an old car\", \"gasoline\")\n",
        "mysportscar.display_mycar()"
      ],
      "execution_count": 0,
      "outputs": [
        {
          "output_type": "stream",
          "text": [
            "My car is a new car and it requires electricity for fuel.\n",
            "My car is an old car and it requires gasoline for fuel.\n"
          ],
          "name": "stdout"
        }
      ]
    },
    {
      "cell_type": "markdown",
      "metadata": {
        "id": "SZizAmL0c0JI",
        "colab_type": "text"
      },
      "source": [
        "\n",
        "## 연습 3\n",
        "\n",
        "* 마지막으로 오버라이딩 해봅니다.\n",
        "\n",
        "\n",
        "\n",
        "\n",
        "\n",
        "##코딩 부분"
      ]
    },
    {
      "cell_type": "code",
      "metadata": {
        "id": "5s9nGnluc15j",
        "colab_type": "code",
        "outputId": "311e43b1-60ab-430e-897e-f6e5b70e830b",
        "colab": {
          "base_uri": "https://localhost:8080/",
          "height": 53
        }
      },
      "source": [
        "class Car(object):\n",
        "\tdef __init__(self, category, fuel):\n",
        "\t\tself.category = category\n",
        "\t\tself.fuel = fuel\n",
        "\n",
        "\tdef display_mycar(self):\n",
        "\t\tprint (\"My car is {0} and it requires {1} for fuel.\". format(self.category,self.fuel))\n",
        "\n",
        "class Ecar(Car):\n",
        "\tdef display_mycar(self):\n",
        "\t\tprint (\"My car does not require fuel. and it only requires {}.\". format(self.fuel))\n",
        "\n",
        "myecar = Ecar(\"a new car\",\"electricity\") \n",
        "myecar.display_mycar()\n",
        "mysportscar = Car(\"an old car\", \"gasoline\")\n",
        "mysportscar.display_mycar()"
      ],
      "execution_count": 0,
      "outputs": [
        {
          "output_type": "stream",
          "text": [
            "My car does not require fuel. and it only requires electricity.\n",
            "My car is an old car and it requires gasoline for fuel.\n"
          ],
          "name": "stdout"
        }
      ]
    },
    {
      "cell_type": "markdown",
      "metadata": {
        "id": "BVwuciPqmiNf",
        "colab_type": "text"
      },
      "source": [
        "####Video\n",
        "[Lesson 32 - Lesson 38까지의 영상](https://youtu.be/zVIQuRShh9U)"
      ]
    },
    {
      "cell_type": "markdown",
      "metadata": {
        "id": "wqNMxf7pdROl",
        "colab_type": "text"
      },
      "source": [
        "#Lesson 33 - Super\n",
        "\n",
        "\n",
        "##학습 내용\n",
        "* 자식 클래스에 있는 것을 다시 부모 클래스의 메소드로 재정의 하려면 뭐가 필요할까요? 이때 필요한 것이 “super” 입니다. “super” 라는 단어는 자식 틀래스 안에서 부모 클래스의 요소들을 불러옵니다. 우리는 이를 4단계에 걸쳐 보겠습니다.  super는 super(서브클래스명, self).마더클래스함수(파라미터) 형식으로 표현됩니다.\n",
        "\n",
        "\n",
        "\n",
        "## 연습 1\n",
        "* mother class 만 있는 것으로 하고 세단이 km당 200원의 기름을 소모하는 것을 만들어 보겠습니다. \n",
        "\n",
        "\n",
        "\n",
        "\n",
        "\n",
        "##코딩 부분"
      ]
    },
    {
      "cell_type": "code",
      "metadata": {
        "id": "Hq9N2y4BdU-Z",
        "colab_type": "code",
        "outputId": "d0d449f9-0db1-476b-f9ec-32c4f503058d",
        "colab": {
          "base_uri": "https://localhost:8080/",
          "height": 35
        }
      },
      "source": [
        "class Car(object):\n",
        "\tdef __init__(self, model):\n",
        "\t\tself.model = model\n",
        "\t\n",
        "\tdef calculate_mileage(self, km):\n",
        "\t\tself.km = km\n",
        "\t\treturn km * 200\n",
        "\n",
        "road = Car('Sonata')\n",
        "print (road.calculate_mileage(10))"
      ],
      "execution_count": 0,
      "outputs": [
        {
          "output_type": "stream",
          "text": [
            "2000\n"
          ],
          "name": "stdout"
        }
      ]
    },
    {
      "cell_type": "markdown",
      "metadata": {
        "id": "AdPn-edsdUFL",
        "colab_type": "text"
      },
      "source": [
        "\n",
        "##결과 콘솔\n",
        "\n",
        "        2000  \t\t# 당연히 10*200 = 2000이 나옵니다. "
      ]
    },
    {
      "cell_type": "markdown",
      "metadata": {
        "id": "MtWkETc3eFl3",
        "colab_type": "text"
      },
      "source": [
        "\n",
        "## 연습 2\n",
        "\n",
        "* 이제 서브 클래스인 트럭 클래스에서 트럭이 그냥 km 당 200원을 inheritance 하는 것을 보겠습니다. \n",
        "\n",
        "##코딩 부분\n"
      ]
    },
    {
      "cell_type": "code",
      "metadata": {
        "id": "n8EORKNReJzB",
        "colab_type": "code",
        "outputId": "f739ea7a-426b-4db9-8e13-9c9ce2414bd0",
        "colab": {
          "base_uri": "https://localhost:8080/",
          "height": 35
        }
      },
      "source": [
        "\n",
        "class Car(object):\n",
        "\tdef __init__(self, model):\n",
        "\t\tself.model = model\n",
        "\n",
        "\tdef calculate_mileage(self, km):\n",
        "\t\tself.km = km\n",
        "\t\treturn km * 200\n",
        "\n",
        "class Truck(Car):\n",
        "\tpass\n",
        "\n",
        "\n",
        "road = Truck('road')\n",
        "print (road.calculate_mileage(10))"
      ],
      "execution_count": 0,
      "outputs": [
        {
          "output_type": "stream",
          "text": [
            "2000\n"
          ],
          "name": "stdout"
        }
      ]
    },
    {
      "cell_type": "markdown",
      "metadata": {
        "id": "lCGzq67rePmJ",
        "colab_type": "text"
      },
      "source": [
        "##결과 콘솔\n",
        "\n",
        "         2000  \t\t# 상속했으니 당연히 다시 10*200 = 2000이 나옵니다. \n",
        "\n",
        "## 연습 3\n",
        "\n",
        "* 이제 오버라이딩하는 것을 해봅니다. (트럭은 km당 300원 든다) \n",
        "\n",
        "\n",
        "\n",
        "\n",
        "\n",
        "\n",
        "##코딩 부분\n",
        "\n"
      ]
    },
    {
      "cell_type": "code",
      "metadata": {
        "id": "_HQEboefeU-r",
        "colab_type": "code",
        "outputId": "a75c5693-c2b9-4a05-c913-fbe2c10492c8",
        "colab": {
          "base_uri": "https://localhost:8080/",
          "height": 35
        }
      },
      "source": [
        "class Car(object):\n",
        "\tdef __init__(self, model):\n",
        "\t\tself.model = model\n",
        "\n",
        "\tdef calculate_mileage(self, km):\n",
        "\t\tself.km = km\n",
        "\t\treturn km * 200\n",
        "\n",
        "class Truck(Car):\n",
        "\tdef calculate_mileage(self, km):\n",
        "\t\tself.km = km\n",
        "\t\treturn km * 300\n",
        "\n",
        "road = Truck('road')\n",
        "print (road.calculate_mileage(10))"
      ],
      "execution_count": 0,
      "outputs": [
        {
          "output_type": "stream",
          "text": [
            "3000\n"
          ],
          "name": "stdout"
        }
      ]
    },
    {
      "cell_type": "markdown",
      "metadata": {
        "id": "aerXmu91ejmv",
        "colab_type": "text"
      },
      "source": [
        "##결과 콘솔\n",
        "\n",
        "        3000  \t\t# 오버라이딩되어 10*300 = 3000이 나옵니다. \n",
        "\n",
        "\n",
        "\n",
        "\n",
        "## 연습 4\n",
        "\n",
        "* 마지막으로 super 를 사용하여 고속도로에서는 트럭도 200원만 드는 것으로 바꿉니다. highway.milage 란 함수를 정의 하는데 return 값을 (Truck 클래스의 self로 되어 있는) calculate.mileaage(km) 를 super 하여 서브 클래스의 공식 대신 마더 클래스의 공식으로 바꾸는 기능의 함수를 생성하는 형태로 합니다. \n",
        "\n",
        "\n",
        "\n",
        "\n",
        "\n",
        "\n",
        "##코딩 부분"
      ]
    },
    {
      "cell_type": "code",
      "metadata": {
        "id": "cU9esyQCemGi",
        "colab_type": "code",
        "outputId": "61498aa3-a7cc-4733-f80c-c94f3fed6662",
        "colab": {
          "base_uri": "https://localhost:8080/",
          "height": 35
        }
      },
      "source": [
        "class Car(object):\n",
        "\tdef __init__(self, model):\n",
        "\t\tself.model = model\n",
        "\n",
        "\tdef calculate_mileage(self, km):\n",
        "\t\tself.km = km\n",
        "\t\treturn km * 200\n",
        "\n",
        "class Truck(Car):\n",
        "\tdef calculate_mileage(self, km):\n",
        "\t\tself.km = km\n",
        "\t\treturn km * 300\n",
        "\n",
        "\tdef highway_mileage(self, km):\n",
        "\t\treturn super(Truck, self).calculate_mileage(km)\n",
        "\n",
        "highway = Truck('highway')\n",
        "print (highway.highway_mileage(10))\n"
      ],
      "execution_count": 0,
      "outputs": [
        {
          "output_type": "stream",
          "text": [
            "2000\n"
          ],
          "name": "stdout"
        }
      ]
    },
    {
      "cell_type": "markdown",
      "metadata": {
        "id": "hKxP-JsQerlh",
        "colab_type": "text"
      },
      "source": [
        "##결과 콘솔\n",
        "\n",
        "         2000  \t\t# super 로 인해 10*200 = 2000이 나옵니다. \n"
      ]
    },
    {
      "cell_type": "markdown",
      "metadata": {
        "id": "AazDbT8ae69q",
        "colab_type": "text"
      },
      "source": [
        "#Lesson 34      -      Lambda\n",
        "\n",
        "\n",
        "##학습 내용\n",
        "* 파이썬의 람다(lambda) 함수는 런타임에 생성해서 사용할 수 있는 익명 함수 입니다. 일반적인 함수와 같이 정의해두고 쓰는 것이 아니고 필요한 곳에서 간단한 기능을 즉시 사용하고 버릴 수 있는 함수입니다.\n",
        "\n",
        "\n",
        "\n",
        " \n",
        "##설명\n",
        "* 우리는 variable 과 function 의 차이를 압니다. 두개의 variable 을 사용하여 아래를 계산하면 답이 4가 나옵니다. \n",
        "\n",
        "      \ta = 2        \n",
        "      \tb = 2\n",
        "      \tprint (a ** b)\n",
        "\n",
        "\n",
        "*Function 으로 이를 만들면 (1) 정의하고 (2) 공식을 넣고 (3) 함수를 호출합니다. 그리고 역시 같은 답 4를 얻습니다. Variable 보다는 좀 복잡합니다. \n",
        "\n",
        "      \tdef sample(a,b):\n",
        "         \t\t print(a ** b)\n",
        "\n",
        "      \tsample(2,2)\n",
        "\n",
        "\n",
        "* 그런데 lambda function 을 사용하면 마치 variable 만 사용한 듯 하면서 function 으로 답을 구할 수 있어서 훨씬 간단합니다. \n",
        "\n",
        "      \ta = lambda x, y: x ** y\n",
        "      \tprint (a(2,2))\n",
        "\n",
        "\n",
        "* 그럼 람다로 다 하지 왜 귀찮게 function 을 만드느냐고 할 수도 있겠으나 lambda 는 임시로만 사용되는 한계가 있는 함수입니다.\n",
        " \n",
        "\n",
        "## 연습 1\n",
        "\n",
        "* x,y,z 를 더하는 람다함수를 만들고 거기에 1,2,3 의 값을 줍니다. \n",
        "* x,y,z 를 곱하는 람다함수를 만들고 거기에 1,2,3 의 값을 줍니다. \n",
        "* z = x + y 인데 x 에 10, y 에 20 을 넣고 계산해 봅니다. \n",
        "\n",
        "\n",
        "\n",
        "##코딩 부분"
      ]
    },
    {
      "cell_type": "code",
      "metadata": {
        "id": "27q8HvJJkI_p",
        "colab_type": "code",
        "outputId": "4de3ca54-7424-4bd6-8f20-330ad587ea66",
        "colab": {
          "base_uri": "https://localhost:8080/",
          "height": 71
        }
      },
      "source": [
        "sample1 = lambda x,y,z: x+y+z\n",
        "print (sample1(1,2,3))\n",
        "\n",
        "sample2 = lambda x,y,z: x*y*z\n",
        "print (sample2(1,2,3))\n",
        "\n",
        "z = (lambda x,y: x+y) (10,20) \n",
        "print (z)"
      ],
      "execution_count": 0,
      "outputs": [
        {
          "output_type": "stream",
          "text": [
            "6\n",
            "6\n",
            "30\n"
          ],
          "name": "stdout"
        }
      ]
    },
    {
      "cell_type": "markdown",
      "metadata": {
        "id": "g7eJ0-inkUfn",
        "colab_type": "text"
      },
      "source": [
        " ## 연습 2\n",
        "\n",
        "* y = x ** 3 에 x 에 7 을 대입하여 답을 구해보세요. \n",
        "* z = x3 + y3 인데 x 에 3, y 에 4 을 넣고 해보세요. \n",
        "* 위에 것을 print (z(3,4)) 로 해서 하고 윗 줄에서 (3,4) 를 빼 보세요. \n",
        "\n",
        "\n",
        "\n",
        "\n",
        "##코딩 부분"
      ]
    },
    {
      "cell_type": "code",
      "metadata": {
        "id": "6dkiv4CqkWkT",
        "colab_type": "code",
        "outputId": "3148f091-94df-44a6-a0e4-69d90da2068a",
        "colab": {
          "base_uri": "https://localhost:8080/",
          "height": 71
        }
      },
      "source": [
        "y = lambda x: x**3\n",
        "print (y(7))\n",
        "\n",
        "z = (lambda x,y: x**3+y**3) (3,4) \n",
        "print (z)\n",
        "\n",
        "z = (lambda x,y: x**3+y**3) \n",
        "print (z(3,4))\n"
      ],
      "execution_count": 0,
      "outputs": [
        {
          "output_type": "stream",
          "text": [
            "343\n",
            "91\n",
            "91\n"
          ],
          "name": "stdout"
        }
      ]
    },
    {
      "cell_type": "markdown",
      "metadata": {
        "id": "yQNaZ89PkiSV",
        "colab_type": "text"
      },
      "source": [
        "\n",
        "## 연습 3\n",
        "\n",
        "* 앞의 과에서 만들어 보았던  함수와 비교해 보겠습니다.\n",
        "* 조건문을 람다로 만들어 보겠습니다. 짝수와 홀수를 출력해 봅니다. \n",
        "\n",
        "\n",
        "\n",
        "##코딩 부분"
      ]
    },
    {
      "cell_type": "code",
      "metadata": {
        "id": "QZ9cbx4VkjsL",
        "colab_type": "code",
        "outputId": "c55726b9-d9f9-454a-cceb-3c6f13819914",
        "colab": {
          "base_uri": "https://localhost:8080/",
          "height": 125
        }
      },
      "source": [
        "# 앞 과에서 썼던 방법\n",
        "for num in range(1, 3):\n",
        "\tif num % 2 == 0:\n",
        "\t\tprint (num)\n",
        "\t\tcontinue\n",
        "for num in range(1, 3):\n",
        "\tif num % 2 == 1:\n",
        "\t\tprint (num)\n",
        "\t\tcontinue\n",
        "\n",
        "# 람다 (두 가지 방법)\n",
        "print ((lambda x, y: x if x % 2 == 0 else y)(1,2))\n",
        "print ((lambda x, y: x if x % 2 == 1 else y)(1,2))\n",
        "\n",
        "mylist = list(range(1, 3))\n",
        "print (list(filter(lambda n:n % 2 == 0 , mylist)))\n",
        "print (list(filter(lambda n:n % 2 == 1 , mylist)))\n"
      ],
      "execution_count": 0,
      "outputs": [
        {
          "output_type": "stream",
          "text": [
            "2\n",
            "1\n",
            "2\n",
            "1\n",
            "[2]\n",
            "[1]\n"
          ],
          "name": "stdout"
        }
      ]
    },
    {
      "cell_type": "markdown",
      "metadata": {
        "id": "tp7oNsXJk5zn",
        "colab_type": "text"
      },
      "source": [
        "#Lesson 35   -    Lambda & Functions\n",
        "\n",
        "\n",
        "##학습 내용\n",
        "* 앞 과에서 lambda function 에 대한 기본을 배웠습니다. 여기서는 이미 알려진 람다 관련 function 들을 간단히 배워보겠습니다. \n",
        "\n",
        "\n",
        "\n",
        "##설명\n",
        "\n",
        "(1) \tmap() function \n",
        "* map() function 과 함께 사용하면 람다 함수 사용의 장점을 명확하게 볼 수 있습니다.\n",
        "* map() function 은 두 개의 argument 를 필요로 합니다.\n",
        "* 예를 들어 0 부터 4 까지의 세제곱을 새로운 리스트로 만들고 싶다면 아래와 같이 한 줄로 쉽게 만들 수 있습니다. 결과는 [0,1,8,27,64] 로 표현됩니다.\n",
        "\n",
        "        list(map(lambda x: x ** 3, range(5)))\n",
        "\n",
        "\n",
        "(2) filter() function. \n",
        "* filter()는 원래 list에서 \"True\" 값으로 나온 아이템으로 새 list 를 작성합니다. \n",
        "* 아래의 예를 보면 추가 줄을 입력하지 않고 새로운 list[4] 를 얻을 수 있습니다. \n",
        "\n",
        "        list(filter(lambda x: 3<x < 5, range(6)))\n",
        "\n",
        "(3)\treduce() function\n",
        "* reduce() function 은 반복되는 프로세스를 줄입니다.\n",
        "* 예를 들어 1 부터 10 까지를 차례로 더하라고 하면 본래 loop 를 돌려 반복해야 하나 reduce 에서는 1,2,3,4,5,6,7,8, 9,10을 다 더하지 않고 1 에다 2 를 더하면 (쉽게 말해서 하나의 시범을 보이면) 나머지를 계속합니다.\n",
        "\n",
        "        print reduce(lambda x,y: x+y, [1,2,3,4,5,6,7,8,9,10])\n",
        "\n",
        "\n",
        "\n",
        "\n",
        "\n",
        "## 연습\n",
        "\n",
        "연습 1\n",
        "* map() function 을 사용하여 5 부터 9 까지의 정수의 제곱을 만드세요.\n",
        "\n",
        "연습 2\n",
        "* filter() function을  사용하여 0 부터 10 까지의 숫자 중 3 보다 작은 숫자의 리스트를 만드세요.\n",
        "\n",
        "연습 3\n",
        "* reduce() function 을 사용하여 3 부터 5 까지를 곱해 보세요   *reduce는 파이썬 3에서는 기본이 아니라 에러 발생 가능.\n",
        "\n",
        "       print (reduce(lambda x,y: x*y, [3,4,5]))\n",
        "\n",
        "\n",
        "##코딩 부분"
      ]
    },
    {
      "cell_type": "code",
      "metadata": {
        "id": "Hn_ilvuJk-GT",
        "colab_type": "code",
        "outputId": "f9c82d2a-12fa-4734-ffd8-7a9cdbae14af",
        "colab": {
          "base_uri": "https://localhost:8080/",
          "height": 55
        }
      },
      "source": [
        "print (list(map(lambda x: x ** 2, [5,6,7,8,9])))\n",
        "print (list(filter(lambda x: x < 3, [1,2,3,4,5,6,7,8,9])))\n"
      ],
      "execution_count": 0,
      "outputs": [
        {
          "output_type": "stream",
          "text": [
            "[25, 36, 49, 64, 81]\n",
            "[1, 2]\n"
          ],
          "name": "stdout"
        }
      ]
    },
    {
      "cell_type": "markdown",
      "metadata": {
        "id": "WI0pb6jAmW3Z",
        "colab_type": "text"
      },
      "source": [
        "\n",
        "\n",
        "##결과 콘솔\n",
        "\n",
        "        [25, 36, 49, 64, 81]\n",
        "        [0, 1, 2]\n",
        "        60"
      ]
    },
    {
      "cell_type": "markdown",
      "metadata": {
        "id": "3IcvFNKIm6Cr",
        "colab_type": "text"
      },
      "source": [
        "##추가 연습 \n",
        "\n",
        "* y = x ** 3 에 x 를 1 부터 5 사이 정수 모두를 대입하여 구해 보세요.\n",
        "\n",
        "\t\n",
        "* mylist =  [1, 2, 3]에서 \n",
        "\n",
        "\t2를 초과하는 숫자만 반환하게 filter 를 사용해 보세요.\n",
        "\t\n",
        "* mylist =  [-2, -1, 1, 2] 에서 \n",
        "\n",
        "\t양수만 반환하게 filter 를 사용해 보세요. \n"
      ]
    },
    {
      "cell_type": "code",
      "metadata": {
        "id": "0_gd4UPpm-wb",
        "colab_type": "code",
        "outputId": "75f21fbf-a556-46f8-ed82-a9b8d9b917ef",
        "colab": {
          "base_uri": "https://localhost:8080/",
          "height": 89
        }
      },
      "source": [
        "y = list(map(lambda x: x**3, (range(1,6))))\n",
        "print (y)\n",
        "\n",
        "mylist =  [1, 2, 3]\n",
        "print (list(filter(lambda x: x > 2, mylist)))\n",
        "\n",
        "mylist =  [-2, -1, 1, 2]\n",
        "print (list(filter(lambda x: x > 0, mylist)))\n"
      ],
      "execution_count": 0,
      "outputs": [
        {
          "output_type": "stream",
          "text": [
            "[1, 8, 27, 64, 125]\n",
            "<map object at 0x7fac097546d8>\n",
            "[3]\n",
            "[1, 2]\n"
          ],
          "name": "stdout"
        }
      ]
    },
    {
      "cell_type": "markdown",
      "metadata": {
        "id": "ik8vDaJZnUwA",
        "colab_type": "text"
      },
      "source": [
        "\n",
        "##결과 콘솔\n",
        "\n",
        "        [1, 8, 27, 64, 125]\n",
        "        [1, 8, 27]\n",
        "        [3]\n",
        "        [1,2]\n"
      ]
    },
    {
      "cell_type": "markdown",
      "metadata": {
        "id": "C0wIS4FmoI5j",
        "colab_type": "text"
      },
      "source": [
        "#Lesson 36   -    List Comprehension\n",
        "\n",
        "\n",
        "##학습 내용\n",
        "* List comprehension 또는 LC는 리스트를 쉽게 생성하게 해줍니다.\n",
        "기존 list 또는 반복 가능한 객체에서 새 list 를 만들 때 유용합니다. \n",
        "\n",
        "##문법\n",
        "* LC는 다음과 같이 표현 됩니다. \n",
        "\n",
        "\t\tnewlist = [공식 for 요소 in 입력Sequence]\n",
        " \n",
        "\n",
        "##설명\n",
        "\n",
        "* 숫자 list 에서 어떤 조건을 사용하여 새 목록을 만들 수 있습니다.\n",
        "* 다음과 같이 (5 까지 숫자에서 2 를 곱하여) 10 까지 숫자에서 짝수를 만들 수 있습니다. \n",
        "\n",
        "    \teven_ten = [x * 2 for x in range(6)]\n",
        "    \tprint (even_ten)\n",
        "\n",
        "\n",
        "\n",
        "* 답은 [0, 2, 4, 6, 8, 10] 로 나옵니다.\n",
        "* 마찬가지로 홀수도 만들 수 있습니다.\n",
        "\n",
        "    \todd_ten = [x*2+1 for x in range(5)]\n",
        "    \tprint (odd_ten)\n",
        "\n",
        "\n",
        "\n",
        "\n",
        "* 답은 [1, 3, 5, 7, 9] 로 나옵니다.\n",
        "\n",
        "\n",
        "## 연습\n",
        "\n",
        "\n",
        "* 아래 a,b 를 합하여 새로운 리스트를 만들어 봅니다.\n",
        "\n",
        "\tset “a” 에 “BMW” “FORD” “CHEVY” 를 넣고 \n",
        "\n",
        "\tset “b” 에 “2019” “2020”을 넣어 봅니다.\n",
        "\n",
        "\n",
        "\n",
        "##코딩 부분\n"
      ]
    },
    {
      "cell_type": "code",
      "metadata": {
        "id": "dgDlzy1coMwm",
        "colab_type": "code",
        "outputId": "0bef7a24-ec66-480e-bf6f-c3aefbe9595d",
        "colab": {
          "base_uri": "https://localhost:8080/",
          "height": 35
        }
      },
      "source": [
        "a = ['BMW' ,'FORD', 'CHEVY']\n",
        "b = [2019,2020]\n",
        "\n",
        "comb_car = [(c, y) for c in a for y in b]\n",
        "\n",
        "print (comb_car)"
      ],
      "execution_count": 0,
      "outputs": [
        {
          "output_type": "stream",
          "text": [
            "[('BMW', 2019), ('BMW', 2020), ('FORD', 2019), ('FORD', 2020), ('CHEVY', 2019), ('CHEVY', 2020)]\n"
          ],
          "name": "stdout"
        }
      ]
    },
    {
      "cell_type": "markdown",
      "metadata": {
        "id": "3ICBXX8Sq-h8",
        "colab_type": "text"
      },
      "source": [
        "##추가 연습 1\n",
        "\n",
        "* mylist = [1,2,3,\"a\",\"b\",4.0,5.0,True, False] 에서 newlist1 을 만들어 봅니다. newlist1 는 mylist 에서 integer 만 뽑아서 만듭니다. 이를 위해서 type() 이라는 메소드를 배워 봅니다.\n",
        "* 이는 데이터 타입이 이는 데이터 타입이 무엇인지를 파악하는 메소드 입니다. 같은 리스트에서 float 만 뽑아서 newlist2 를 만들어 봅니다.\n"
      ]
    },
    {
      "cell_type": "code",
      "metadata": {
        "id": "JDLkHmOkrErA",
        "colab_type": "code",
        "outputId": "4cc4f92c-a06a-4191-a444-c080d92480dd",
        "colab": {
          "base_uri": "https://localhost:8080/",
          "height": 53
        }
      },
      "source": [
        "mylist = [1,2,3,\"a\",\"b\",4.0,5.0,True, False]\n",
        "newlist1 = [i for i in mylist if type(i)==int]\n",
        "print (newlist1)\n",
        "\n",
        "mylist = [1,2,3,\"a\",\"b\",4.0,5.0,True, False]\n",
        "newlist2 = [i for i in mylist if type(i)==float]\n",
        "print (newlist2)"
      ],
      "execution_count": 0,
      "outputs": [
        {
          "output_type": "stream",
          "text": [
            "[1, 2, 3]\n",
            "[4.0, 5.0]\n"
          ],
          "name": "stdout"
        }
      ]
    },
    {
      "cell_type": "markdown",
      "metadata": {
        "id": "H_E6wCoFrf-_",
        "colab_type": "text"
      },
      "source": [
        "##추가 연습 2\n",
        "\n",
        "* 같은 리스트에서 string 만 뽑아서 newlist3 를 만들어 봅니다.\n",
        "* 같은 리스트에서 Boolean 만 뽑아서 newlist4 를 만들어 봅니다.\n"
      ]
    },
    {
      "cell_type": "code",
      "metadata": {
        "id": "MMt9ccvqrl7s",
        "colab_type": "code",
        "outputId": "3e8bf06a-da5e-438b-f8d4-8c952959b78e",
        "colab": {
          "base_uri": "https://localhost:8080/",
          "height": 53
        }
      },
      "source": [
        "mylist = [1,2,3,\"a\",\"b\",4.0,5.0,True, False]\n",
        "newlist3 = [i for i in mylist if type(i)==str]\n",
        "print (newlist3)\n",
        "\n",
        "mylist = [1,2,3,\"a\",\"b\",4.0,5.0,True, False]\n",
        "newlist4 = [i for i in mylist if type(i)==bool]\n",
        "print (newlist4)"
      ],
      "execution_count": 0,
      "outputs": [
        {
          "output_type": "stream",
          "text": [
            "['a', 'b']\n",
            "[True, False]\n"
          ],
          "name": "stdout"
        }
      ]
    },
    {
      "cell_type": "markdown",
      "metadata": {
        "id": "ZNYmaJGqs0fJ",
        "colab_type": "text"
      },
      "source": [
        "#Lesson 37 -   Dictionary Comprehension\n",
        "\n",
        "\n",
        "##학습 내용\n",
        "* Dictionary Comprehension, 또는 DC 는 인풋 시퀀스에 따라 새로운 \n",
        "dictionary 를 만들게 합니다. \n",
        "\n",
        "\n",
        "##문법\n",
        "* 다음과 같은 문법 형식을 가집니다.\n",
        "\n",
        "         newdict  = [key: value for key, value in input sequence]\n",
        "\n",
        "\n",
        " \n",
        "##설명\n",
        "* 출력식이 키/값 쌍이며 결과과 사전으로 표현된다는 점을 제외하면 Set Comprehension 과 매우 유사합니다.\n",
        "* 여기서는 추가로 zip 함수에 대해 간단히 배우겠습니다.\n",
        "* zip 함수는 둘 이상의 list 또는 string 을 사용하며 항목 수가 동일한 경우 결합시키는 것이 가능합니다.\n",
        "\n",
        "        new_dict = {key: value for key, value in zip(dict1, dict2)}\n",
        "\n",
        "\n",
        "## 연습\n",
        "\n",
        "* 두 개의 list 를 결합시키는데 하나의 요소는 key 다른 리스트의 요소는 value 로 만들어 봅니다. \n",
        "\n",
        "        cars = ['BMW', 'FORD', 'CHEVY', 'KIA']\n",
        "    \tyears = [2019, 2020, 2018, 2019]\n",
        "    \t# 아래에서는 input sequence 를 zip 함수로 만들어서 사용해 \n",
        "    \t봅니다.\n",
        "    \tyear_dict = {key: value for key, value in zip(cars, years)}\n",
        "\n",
        "\n",
        "##주의\n",
        "* zip 함수는 두 딕쇼너리의 항목 수가 동일한 경우에만 결합시키는 것이 가능합니다.\n",
        "\n",
        "\n",
        "\n",
        "##코딩 부분"
      ]
    },
    {
      "cell_type": "code",
      "metadata": {
        "id": "0VQ81XZ9s4nw",
        "colab_type": "code",
        "outputId": "9c6e0e98-69d3-42f8-91d1-da7ea96abbfd",
        "colab": {
          "base_uri": "https://localhost:8080/",
          "height": 35
        }
      },
      "source": [
        "cars = ['BMW', 'FORD', 'CHEVY', 'KIA']\n",
        "years = [2019, 2020, 2018, 2019]\n",
        "\n",
        "year_dict = {key: value for key, value in zip(cars, years)}\n",
        "\n",
        "print (year_dict)\n"
      ],
      "execution_count": 0,
      "outputs": [
        {
          "output_type": "stream",
          "text": [
            "{'BMW': 2019, 'FORD': 2020, 'CHEVY': 2018, 'KIA': 2019}\n"
          ],
          "name": "stdout"
        }
      ]
    },
    {
      "cell_type": "markdown",
      "metadata": {
        "id": "N95tqSYGtNVN",
        "colab_type": "text"
      },
      "source": [
        "##추가 연습 \n",
        "\n",
        "* 농구선수와 포지션을 합한 딕쇼너리를 만들어 봅니다.\n",
        "* players 리스트는 ['Curry', 'Harden', 'James', 'Davis', 'Jokic']이고\n",
        "* 이들을 position 별로 연결해 봅니다. (포인트가드(PG), 슈팅가드(SG), 스몰포워드(SF), 파워포워드(PF), 센터(C))\n",
        "* 포지션 리스트는 positions = ['PG', 'SG', 'SF', 'PF', 'C'] 입니다.\n",
        "\n",
        "\n",
        "    \tplayers = ['Curry', 'Harden', 'James', 'Davis', 'Jokic']\n",
        "    \tpositions =   ['PG', 'SG', 'SF', 'PF', 'C'] \n",
        "    \tmydict1 = {key: value for key, value in zip(players,positions)}\n",
        "    \tprint (mydict1)\n",
        "\n",
        "* 야구 투수들의 승패와 방어율을 나타내 봅니다..\n",
        "* pitchers 리스트는 ['Kim', 'Lee', 'Park', 'Choi'] 이고 \n",
        "* kim은 13승 3패 1.99 lee는 15승 4패 2.05 park 16승 8패 2.65 choi 18승 11패 2.45의 기록을 가지고 있습니다.\n",
        "* 이를 하나의 dictionary 로 나타내 봅니다.\n",
        "\n"
      ]
    },
    {
      "cell_type": "code",
      "metadata": {
        "id": "s2fneWaCtR-Q",
        "colab_type": "code",
        "outputId": "1cbf0f32-7056-44f3-a32e-32cbbef17908",
        "colab": {
          "base_uri": "https://localhost:8080/",
          "height": 53
        }
      },
      "source": [
        "players = ['Curry', 'Harden', 'James', 'Davis', 'Jokic']\n",
        "positions =   ['PG', 'SG', 'SF', 'PF', 'C'] \n",
        "\n",
        "mydict1 = {key: value for key, value in zip(players,positions)}\n",
        "print (mydict1)\n",
        "\n",
        "pitchers = ['Kim', 'Lee', 'Park', 'Choi']\n",
        "kim = [13,3,1.99]\n",
        "lee = [15,4,2.05]\n",
        "park = [16,8,2.65]\n",
        "choi = [18,11,2.45]\n",
        "\n",
        "mydict2 = {key: value for key, value in zip(pitchers, [kim,lee,park,choi])}\n",
        "print (mydict2)"
      ],
      "execution_count": 0,
      "outputs": [
        {
          "output_type": "stream",
          "text": [
            "{'Curry': 'PG', 'Harden': 'SG', 'James': 'SF', 'Davis': 'PF', 'Jokic': 'C'}\n",
            "{'Kim': [13, 3, 1.99], 'Lee': [15, 4, 2.05], 'Park': [16, 8, 2.65], 'Choi': [18, 11, 2.45]}\n"
          ],
          "name": "stdout"
        }
      ]
    },
    {
      "cell_type": "markdown",
      "metadata": {
        "id": "5LOH2zIutgGx",
        "colab_type": "text"
      },
      "source": [
        "####Extra Practice\n",
        "\n",
        "(1) 학생들의 국어, 영어, 수학 점수를 넣어봅니다.\n",
        "\n",
        "\t\tstudents = ['Kim', 'Lee', 'Park', 'Choi']\n",
        "\t\tkim = ['국어 92', '영어 78', '수학 88']\n",
        "\t\tlee = ['국어 89', '영어 88', '수학 72']\n",
        "\t\tpark = ['국어 72', '영어 98', '수학 78']\n",
        "\t\tchoi = ['국어 82', '영어 87', '수학 91']"
      ]
    },
    {
      "cell_type": "code",
      "metadata": {
        "id": "1TpFZzfZtfSD",
        "colab_type": "code",
        "outputId": "a5f835c1-8d81-4f3a-952f-b107feff0841",
        "colab": {
          "base_uri": "https://localhost:8080/",
          "height": 55
        }
      },
      "source": [
        "students = ['Kim', 'Lee', 'Park', 'Choi']\n",
        "kim = ['국어 92', '영어 78', '수학 88']\n",
        "lee = ['국어 89', '영어 88', '수학 72']\n",
        "park = ['국어 72', '영어 98', '수학 78']\n",
        "choi = ['국어 82', '영어 87', '수학 91']\n",
        "mydict3 = {key: value for key, value in zip(students, [kim,lee,park,choi])}\n",
        "print (mydict3)"
      ],
      "execution_count": 0,
      "outputs": [
        {
          "output_type": "stream",
          "text": [
            "{'Kim': ['국어 92', '영어 78', '수학 88'], 'Lee': ['국어 89', '영어 88', '수학 72'], 'Park': ['국어 72', '영어 98', '수학 78'], 'Choi': ['국어 82', '영어 87', '수학 91']}\n"
          ],
          "name": "stdout"
        }
      ]
    },
    {
      "cell_type": "markdown",
      "metadata": {
        "id": "aeT39PDjtwac",
        "colab_type": "text"
      },
      "source": [
        "#TASK 38 - Other Useful Imports\n",
        "\n",
        "\n",
        "##학습 내용\n",
        "* 파이썬 표준 라이브러리는 다양한 모듈을 제공해줍니다.이 중 몇 몇을 보겠습니다.\n",
        "\n",
        "\n",
        "## 내용\n",
        "\n",
        "####import math\n",
        "- 우리는 앞에서 이미 math를 사용한 바 있습니다.\n",
        "- 다양한 수학 모듈을 사용할 수 있습니다.\n",
        "- https://docs.python.org/3/library/math.html\n",
        "\n",
        "####import random\n",
        "- 역시 앞에서 연습했습니다. \n",
        "- 임의 숫자를 수거나, 임의로 선택하게 하는 등의 모듈을 제공합니다.\n",
        "- https://docs.python.org/3/library/random.html\n",
        "\n",
        "####import datetime\n",
        "- 날짜와 시간을 다루는 모듈을 제공합니다.\n",
        "- https://docs.python.org/3/library/datetime.html\n",
        "\n",
        "####import re\n",
        "- Regular expression 관련 모듈을 제공합니다.\n",
        "- 파일의 열에서 특정 표현을 추출하거나 할 때 유용하게 쓰입니다.\n",
        "- https://docs.python.org/3/library/re.html\n",
        "- https://docs.python.org/3/howto/regex.html#regex-howto\n",
        "\n",
        "####import statistics\n",
        "* 평균 등의 통계적 모듈을 제공합니다.\n",
        "- https://docs.python.org/3/library/statistics.html\n",
        "\n",
        "####import warnings\t\t\t\n",
        "* warning을 필터링하고 통제하는 모듈을 제공합니다.\n",
        "* warnings.filterwarnings('ignore')\n",
        "* 위의 표현을 통해서 경고를 무시하도록 하는 기능을 합니다.\n",
        "- https://docs.python.org/3/library/warnings.html\n",
        "\n",
        "####import csv\n",
        "* csv 파일을 읽고, 쓰고 하는 모듈을 제공합니다.\n",
        "- https://docs.python.org/3/library/csv.html\n",
        "\n",
        "####import numpy as np \t\n",
        "* NumPy는 행렬이나 일반적으로 대규모 다차원 배열을 쉽게 처리 할 수 있도록 지원하는 파이썬의 라이브러리이다. \n",
        "* NumPy는 데이터 구조 외에도 수치 계산을 위해 효율적으로 구현된 기능을 제공한다.\t\n",
        "\n",
        "####import pandas as pd\t\t\t\n",
        "* pandas는 데이터 조작 및 분석을 위한 라이브러리입니다. \n",
        "* 숫자 테이블 및 시계열 조작을위한 데이터 구조 및 조작을 제공합니다\n",
        "\n",
        "####import matplotlib.pyplot as plt\t\t\t\n",
        "* Matplotlib은 파이썬에서 매트랩과 유사한 그래프 표시를 가능케 하는 라이브러리다\n",
        "* 우리는 많은 경우 pyplot을 통하여 그래프를 생성한다\n",
        "\n",
        "####import seaborn as sns\t\t\n",
        "* Seaborn은 matplotlib에 기반한 Python 데이터 시각화 라이브러리입니다. \n",
        "* 매력적이고 유익한 통계 그래픽을 그리기위한 고급 인터페이스를 제공합니다.\n",
        "\n",
        "\n",
        "\n",
        "\n",
        "##코딩 부분"
      ]
    },
    {
      "cell_type": "code",
      "metadata": {
        "id": "eri7PMDlVtYG",
        "colab_type": "code",
        "colab": {}
      },
      "source": [
        "import math\n",
        "\n",
        "import random\n",
        "\n",
        "import datetime\n",
        "\n",
        "import re\n",
        "\n",
        "import statistics\n",
        "\n",
        "import warnings\n",
        "warnings.filterwarnings('ignore')\n",
        "\n",
        "import csv\n",
        "\n",
        "import numpy as np\n",
        "\n",
        "import pandas as pd\n",
        "\n",
        "import matplotlib.pyplot as plt\n",
        "\n",
        "import seaborn as sns"
      ],
      "execution_count": 0,
      "outputs": []
    },
    {
      "cell_type": "markdown",
      "metadata": {
        "id": "kSXB_8RjLdLv",
        "colab_type": "text"
      },
      "source": [
        "#PART3 - NumPy 기본 이해 (20분)"
      ]
    },
    {
      "cell_type": "markdown",
      "metadata": {
        "id": "YpYr3XE1Ucie",
        "colab_type": "text"
      },
      "source": [
        "# Lesson 39 - Array 만들기\n",
        "\n",
        "#### NumPy : Numpy는 Python의 과학 컴퓨팅을 위한 핵심 라이브러리입니다. 고성능 다차원 배열 객체와 이러한 배열 작업을위한 도구를 제공합니다. 우리가 NumPy를 겉으로 눈에 띄게 많이 쓰는 것은 아니나 실제로 우리가 앞으로 쓸 도구가 NumPy 기반 위에서 움직이는 것이기 때문에 이에 대한 기본적인 이해는 필수라 할 수 있겠습니다.\n",
        "\n",
        "####Arrays (배열)\n",
        "* 우린 수학에서 행렬을 배웠을 것입니다.\n",
        "* 여기서는 수학의 행렬과 다르게 배열(array)을 1차원 이상의 변수를 말한다 \n",
        "*  1차원 리스트를 다차원으로 빠르게 쓴다고 생각하면 됩니다.\n",
        "* 우리가 리스트를 쓸 때 바이너리 코드로 상당히 긴 것을 사용하는데 Numpy는 적게 써서 자원을 아껴 준다고 생각하면 됩니다. \n",
        "* 또한 메모리의 배열 적인 면에서도 더 빠르게 할 수 있는 요소를 가지고 있는데 이 것은 여기서 이야기 하지 않도록 합니다.\n",
        "* 일단 예를 보면서 이해해 봅니다.\n",
        "\n",
        "####Video\n",
        "[NumPy 영상](https://youtu.be/zVIQuRShh9U)\n",
        "\n",
        "####import\n",
        "*우선 numpy를 import 합니다."
      ]
    },
    {
      "cell_type": "code",
      "metadata": {
        "id": "RpL9-qHDU2_k",
        "colab_type": "code",
        "colab": {}
      },
      "source": [
        "import numpy as np"
      ],
      "execution_count": 0,
      "outputs": []
    },
    {
      "cell_type": "markdown",
      "metadata": {
        "id": "l0WFJ7IIU7oc",
        "colab_type": "text"
      },
      "source": [
        "##학습 내용\n",
        "* NumPy를 배우는 것은 Array를 배우는 것과 거의 같다고 생각하면 됩니다.\n",
        "* 우선 import를 하고, 1차원 array를 만들어 봅니다. \n",
        "\n",
        "\n",
        "##문법\n",
        "\n",
        "        import numpy as np\n",
        "        myarray = np.array([item1, item2.....])\n",
        "\n",
        "\n",
        "\n",
        "## 연습\n",
        "\n",
        "        import numpy as np\n",
        "        myarray = np.array([item1, item2.....])\n",
        "        print (myarray)\n",
        "\n",
        "* 에디터에 넣고 출력해 봅니다.\n",
        "\n",
        "\n",
        "##주의\n",
        "* array는 수학의 행렬과 비슷하나 살짝 다른 점이 있다는 것을 염두에 두세요. 나중에 배웁니다.\n",
        "\n",
        "\n",
        "\n",
        "##코딩 부분"
      ]
    },
    {
      "cell_type": "code",
      "metadata": {
        "id": "Xz8ebC_EVBlZ",
        "colab_type": "code",
        "colab": {}
      },
      "source": [
        "import numpy as np\n",
        "myarray = np.array([1,2,3])\n",
        "print (myarray)"
      ],
      "execution_count": 0,
      "outputs": []
    },
    {
      "cell_type": "markdown",
      "metadata": {
        "id": "dKy54NVbVSz3",
        "colab_type": "text"
      },
      "source": [
        "##학습 내용\n",
        "* 2X3 array를 연습해 보겠습니다.\n",
        "* 1차원이 \n",
        "\n",
        "        1\t2\t3\n",
        "\n",
        "이었다면\n",
        "\n",
        "2차원이란\n",
        "\n",
        "    \t1\t2\t3\n",
        "    \t4\t5\t6\n",
        "\n",
        "같은 모양을 말합니다\n",
        "\n",
        "* 위의 경우 2 X 3 행렬인 것입니다. \n",
        "\n",
        "##문법\n",
        "\n",
        "        import numpy as np\n",
        "        myarray = np.array([[item11, item12.....], [item21, item22....]])\n",
        "\n",
        "\n",
        "\n",
        "## 연습\n",
        "\n",
        "        import numpy as np\n",
        "        myarray = np.array([[item11, item12.....], [item21, item22....]])\n",
        "        print (myarray)\n",
        "\n",
        "* 에디터에 넣고 출력해 봅니다.\n",
        "\n",
        "\n",
        "##주의\n",
        "* [ [] ] 두 겹임을 기억하세요\n",
        "\n",
        "\n",
        "\n",
        "##코딩 부분"
      ]
    },
    {
      "cell_type": "code",
      "metadata": {
        "id": "TUsVyOdrVUeN",
        "colab_type": "code",
        "colab": {}
      },
      "source": [
        "import numpy as np\n",
        "myarray = np.array([[1,2,3], [4,5,6]])\n",
        "print (myarray)"
      ],
      "execution_count": 0,
      "outputs": []
    },
    {
      "cell_type": "markdown",
      "metadata": {
        "id": "P14-UKUuVcSO",
        "colab_type": "text"
      },
      "source": [
        "##학습 내용\n",
        "* 3차원 array를 연습해 보겠습니다.\n",
        "* 이는 2차원을 겹으로 만드는 것으로 만듭니다.\n",
        "\n",
        "##문법\n",
        "\n",
        "        import numpy as np\n",
        "        myarray = np.array([[item111, item112.....], [item121, item122....]], [item211, item112.....], [item221, item122....]]])\n",
        "\n",
        "\n",
        "\n",
        "## 연습\n",
        "\n",
        "        import numpy as np\n",
        "        myarray = np.array([[item111, item112.....], [item121, item122....]], [item211, item112.....], [item221, item122....]]])\n",
        "        print (myarray)\n",
        "\n",
        "* 에디터에 넣고 출력해 봅니다.\n",
        "\n",
        "\n",
        "##주의\n",
        "* [ [[]] ] 세 겹임을 기억하세요\n",
        "\n",
        "\n",
        "\n",
        "##코딩 부분"
      ]
    },
    {
      "cell_type": "code",
      "metadata": {
        "id": "hTLBqT5VVhGm",
        "colab_type": "code",
        "colab": {
          "base_uri": "https://localhost:8080/",
          "height": 108
        },
        "outputId": "f19d236a-892d-4eaa-8548-06bc8d9777c1"
      },
      "source": [
        "import numpy as np\n",
        "var = np.array([[[1,2,3], [4,5,6]], [[1,2,3],[4,5,6]]])\n",
        "print (var)"
      ],
      "execution_count": 21,
      "outputs": [
        {
          "output_type": "stream",
          "text": [
            "[[[1 2 3]\n",
            "  [4 5 6]]\n",
            "\n",
            " [[1 2 3]\n",
            "  [4 5 6]]]\n"
          ],
          "name": "stdout"
        }
      ]
    },
    {
      "cell_type": "markdown",
      "metadata": {
        "id": "RukzGSOaZra3",
        "colab_type": "text"
      },
      "source": [
        "##Lesson 40 - Checking  Data Type, Dimension, Size, & Shape\n",
        "\n",
        "##학습 내용\n",
        "* dtype은 어떤 종류의 데이터인지 (integer인지 float인지 등)을 알려 줍니다.\n",
        "* 일반적으로 float이 더 많은 메모리를 잡아 먹고, integer도 가능하면 메모리를 덜 쓰도록 해야지 결과가 빠르게 나오기 때문에 이는 중요합니다.\n",
        "\n",
        "\n",
        "\n",
        "##문법\n",
        "\n",
        "\tvariable.dtype\n",
        "\t\n",
        "\n",
        "\n",
        "\n",
        "## 연습\n",
        "\n",
        "\timport numpy as np\n",
        "\tmyarray = np.array([int1, int2.....])\n",
        "\tprint (myarray.dtype)\n",
        "\t\n",
        " \n",
        "\timport numpy as np\n",
        "\tmyarray = np.array([float1, float2.....] ) \n",
        "\tprint (myarray.dtype)\n",
        "\n",
        "\n",
        "\n",
        "* 에디터에 넣고 출력해 봅니다.\n",
        "\n",
        "\n",
        "* 개별 int32인지 int16인지 등의 사이즈 지정도 가능\n",
        "\n",
        "\n",
        "##코딩 부분"
      ]
    },
    {
      "cell_type": "code",
      "metadata": {
        "id": "1xPHnW_2aP_Y",
        "colab_type": "code",
        "colab": {}
      },
      "source": [
        "import numpy as np\n",
        "myarray = np.array([1,2,3])\n",
        "print (myarray.dtype)\n",
        "\n",
        "myarray = np.array([1.0,2.0,3.0])\n",
        "print (myarray.dtype)"
      ],
      "execution_count": 0,
      "outputs": []
    },
    {
      "cell_type": "markdown",
      "metadata": {
        "id": "xdfJmLb_aYv9",
        "colab_type": "text"
      },
      "source": [
        "##학습 내용\n",
        "* 자신의 array가 몇 차원인지 확인해 봅니다.\n",
        "\n",
        "\n",
        "##문법\n",
        "\n",
        "        variable.ndim\n",
        "\n",
        "\n",
        "\n",
        "\n",
        "## 연습\n",
        "\n",
        "        import numpy as np\n",
        "        var = np.array([[item111, item112.....], [item121, item122....]], [item211, item112.....], [item221, item122....]]])\n",
        "    \tprint (var.ndim) \t# n-dimension 확인/ 주피터 노트북 등을 쓰면 굳이 프린트 하지 않아도 되나 여기서는 프린트해서 확인\n",
        "\n",
        "\n",
        "* 에디터에 넣고 출력해 봅니다.\n",
        "\n",
        "\n",
        "##코딩 부분"
      ]
    },
    {
      "cell_type": "code",
      "metadata": {
        "id": "2zmeZtL5afTe",
        "colab_type": "code",
        "colab": {}
      },
      "source": [
        "import numpy as np\n",
        "myarray = np.array([[[1,2,3], [4,5,6]], [[1,2,3],[4,5,6]]])\n",
        "print (myarray.ndim)\n",
        "\n",
        "\n",
        "myarray = np.array([[[1,2,3], [4,5,6], [7,8,9]]])\n",
        "print (myarray.ndim)"
      ],
      "execution_count": 0,
      "outputs": []
    },
    {
      "cell_type": "markdown",
      "metadata": {
        "id": "UjLxMlifasUi",
        "colab_type": "text"
      },
      "source": [
        "\n",
        "##학습 내용\n",
        "* Shape은 자신의 행렬이 몇 X 몇 행렬인지를 보여 줍니다.\n",
        "\n",
        "\n",
        "##문법\n",
        "\n",
        "\t        variable.shape\n",
        "\n",
        "\n",
        "\n",
        "## 연습\n",
        "\n",
        "        import numpy as np\n",
        "        myarray = np.array([[item111, item112.....], [item121, item122....]], [item211, item112.....], [item221, item122....]]])\n",
        "        print (myarray.shape)\n",
        "\n",
        "* 에디터에 넣고 출력해 봅니다.\n",
        "\n",
        "\n",
        "\n",
        "##코딩 부분"
      ]
    },
    {
      "cell_type": "code",
      "metadata": {
        "id": "hsIQrTTGazo_",
        "colab_type": "code",
        "colab": {
          "base_uri": "https://localhost:8080/",
          "height": 72
        },
        "outputId": "64493998-4bb8-4112-e8bd-d67e364a4d3f"
      },
      "source": [
        "import numpy as np\n",
        "myarray = np.array([[[1,2,3], [4,5,6]], [[1,2,3],[4,5,6]]])\n",
        "print (myarray.shape)\n",
        "\n",
        "\n",
        "myarray = np.array([[[1,2,3], [4,5,6], [7,8,9]]])\n",
        "print (myarray.shape)\n",
        "\n",
        "myarray = np.array([[1,2,3], [4,5,6]])\n",
        "print (myarray.shape)"
      ],
      "execution_count": 4,
      "outputs": [
        {
          "output_type": "stream",
          "text": [
            "(2, 2, 3)\n",
            "(1, 3, 3)\n",
            "(2, 3)\n"
          ],
          "name": "stdout"
        }
      ]
    },
    {
      "cell_type": "markdown",
      "metadata": {
        "id": "FynUFsdDtPlN",
        "colab_type": "text"
      },
      "source": [
        "\n",
        "##학습 내용\n",
        "* Size 는 얼마나 많은 메모리를 NumPy가 차지 하는지를 알려 줍니다.\n",
        "* 주피터 노트북에서는 약간 다르게 할 수 있음 \n",
        "\n",
        "\n",
        "\n",
        "##문법\n",
        "\n",
        "\n",
        "        variable.size\n",
        "\n",
        "\n",
        "\n",
        "\n",
        "## 연습\n",
        "\n",
        "        import numpy as np\n",
        "        myarray = np.array([[item111, item112.....], [item121, item122....]], [item211, item112.....], [item221, item122....]]])\n",
        "        print (myarray.size)\n",
        "\n",
        "* 에디터에 넣고 출력해 봅니다.\n",
        "\n",
        "\n",
        "##주의\n",
        "* 주피터 노트북에서는 개별 item size도 확인 가능\n",
        "\n",
        "\n",
        "##코딩 부분"
      ]
    },
    {
      "cell_type": "code",
      "metadata": {
        "id": "d8PvLX-ltWmg",
        "colab_type": "code",
        "colab": {}
      },
      "source": [
        "import numpy as np\n",
        "myarray = np.array([[[1,2,3], [4,5,6]], [[1,2,3],[4,5,6]]])\n",
        "print (myarray.size)"
      ],
      "execution_count": 0,
      "outputs": []
    },
    {
      "cell_type": "markdown",
      "metadata": {
        "id": "i57U8qO_tZXq",
        "colab_type": "text"
      },
      "source": [
        "##Lesson 41 -\tIndexing Items"
      ]
    },
    {
      "cell_type": "markdown",
      "metadata": {
        "id": "1DoFXBqwtmSK",
        "colab_type": "text"
      },
      "source": [
        "##학습 내용\n",
        "* 1차원 Array에서 아이템을 인덱싱 합니다.\n",
        "* 리스트와 별 다름이 없습니다.\n",
        "* 아시다시피 위치는 0,1,2,3,4,.....순서로 갑니다 \n",
        "\n",
        "##문법\n",
        "\n",
        "\tvariable[위치]\n",
        "\t\n",
        "\n",
        "\n",
        "\n",
        "## 연습\n",
        "\n",
        "\timport numpy as np\n",
        "\tmyarray = np.array([1,2,3,4,5])\n",
        "\tprint (myarray[2])\n",
        "\t\n",
        "\n",
        "##주의\n",
        "* myarray[2]이므로 3번째 아이템이 출력이 되어야 합니다.\n",
        "\n",
        "\n",
        "\n",
        "##코딩 부분"
      ]
    },
    {
      "cell_type": "code",
      "metadata": {
        "id": "JR5X_QWEtped",
        "colab_type": "code",
        "colab": {}
      },
      "source": [
        "import numpy as np\n",
        "myarray = np.array([1,2,3,4,5])\n",
        "print (myarray[2])"
      ],
      "execution_count": 0,
      "outputs": []
    },
    {
      "cell_type": "markdown",
      "metadata": {
        "id": "2wmvzgp-tvoj",
        "colab_type": "text"
      },
      "source": [
        "\n",
        "##학습 내용\n",
        "* 2차원 Array에서 아이템을 인덱싱 합니다.\n",
        "* 행과 열의 위치를 인덱싱합니다. 예를 들어 2행의 3열이면 [1,2]로 인덱싱합니다.\n",
        "\n",
        "##문법\n",
        "\n",
        "\tvariable[행위치, 열위치]\n",
        "\t\n",
        "\n",
        "## 연습\n",
        "\n",
        "\timport numpy as np\n",
        "\tmyarray = np.array([[1,2,3,4,5], [6,7,8,9,10]])\n",
        "\tprint (myarray[1,2])\n",
        "\t\n",
        "\n",
        "##주의\n",
        "* myarray[1,2]이므로 2행 3번째 아이템 8이 출력이 되어야 합니다.\n",
        "\n",
        "\n",
        "\n",
        "##코딩 부분"
      ]
    },
    {
      "cell_type": "code",
      "metadata": {
        "id": "rPEArMTwtxSM",
        "colab_type": "code",
        "outputId": "f7210d0e-d5b3-4916-adc2-2ddc96bfb5aa",
        "colab": {
          "base_uri": "https://localhost:8080/",
          "height": 36
        }
      },
      "source": [
        "import numpy as np\n",
        "myarray = np.array([[1,2,3,4,5], [6,7,8,9,10]])\n",
        "print (myarray[1,2])"
      ],
      "execution_count": 0,
      "outputs": [
        {
          "output_type": "stream",
          "text": [
            "8\n"
          ],
          "name": "stdout"
        }
      ]
    },
    {
      "cell_type": "markdown",
      "metadata": {
        "id": "nnO_uVx5t7AQ",
        "colab_type": "text"
      },
      "source": [
        "##학습 내용\n",
        "* 3X3 Array에서 아이템을 인덱싱 합니다.\n",
        "* 행과 열의 위치를 인덱싱합니다. 예를 들어 2번째 2행의 3열이면 [0,1,2]로 인덱싱합니다.\n",
        "\n",
        "##문법\n",
        "\n",
        "\tvariable[행위치, 열위치]\n",
        "\t\n",
        "\n",
        "## 연습\n",
        "\n",
        "\timport numpy as np\n",
        "\tmyarray = np.array([[[1,2,3,4,5], [6,7,8,9,10], [11,12,13,14,15]]])\n",
        "\tprint (myarray[0,2,3])\n",
        "\t\n",
        "\n",
        "##주의\n",
        "* myarray[0,2,3]이므로 3행 4번째 아이템 14가 출력이 되어야 합니다.\n",
        "* 주피터 노트북에서는 약간 다르게 할 수 있음 (slicing)\n",
        "\n",
        "\n",
        "##코딩 부분\n"
      ]
    },
    {
      "cell_type": "code",
      "metadata": {
        "id": "Ij-kloT5t_n8",
        "colab_type": "code",
        "outputId": "44ff67cc-88eb-4281-e308-cb643155e19c",
        "colab": {
          "base_uri": "https://localhost:8080/",
          "height": 36
        }
      },
      "source": [
        "import numpy as np\n",
        "\n",
        "myarray = np.array([[[1,2,3,4,5], [6,7,8,9,10], [11,12,13,14,15]]])\n",
        "print (myarray[0,2,3])"
      ],
      "execution_count": 0,
      "outputs": [
        {
          "output_type": "stream",
          "text": [
            "14\n"
          ],
          "name": "stdout"
        }
      ]
    },
    {
      "cell_type": "markdown",
      "metadata": {
        "id": "9cJckVSouEdy",
        "colab_type": "text"
      },
      "source": [
        "#### 1X3\n",
        "\n",
        "    POSITION        0   1   2   \n",
        "    ITEM            1   2   3   \n",
        "\n",
        "#### 2X3\n",
        "\n",
        "    POSITION        0,0 0,1 0,2 \n",
        "    ITEM            1   2   3   \n",
        "    POSITION        1,0 1,1 1,2 \n",
        "    ITEM            6   7   8   \n",
        "    \n",
        "#### 3X3\n",
        "\n",
        "    POSITION        0,0,0   0,0,1  0,0,2   \n",
        "    ITEM            1       2       3      \n",
        "    POSITION        0,1,0   0,1,1  0,1,2  \n",
        "    ITEM            6       7       8     \n",
        "    POSITION        0,2,0   0,2,1  0,2,2  \n",
        "    ITEM            11      12      13     \n",
        "\n",
        "\n",
        "#### 2X3X3\n",
        "\n",
        "    POSITION        0,0,0   0,0,1  0,0,2   \n",
        "    ITEM            1       2       3      \n",
        "    POSITION        0,1,0   0,1,1  0,1,2  \n",
        "    ITEM            4       5       6     \n",
        "    POSITION        0,2,0   0,2,1  0,2,2  \n",
        "    ITEM            7       8       9    \n",
        "\n",
        "                                          POSITION        1,0,0   1,0,1  1,0,2  \n",
        "                                           ITEM            11      12     13    \n",
        "                                          POSITION        1,1,0   1,1,1  1,1,2  \n",
        "                                           ITEM            14      15     16    \n",
        "                                          POSITION        1,2,0   1,2,1  1,2,2  \n",
        "                                           ITEM            17      18     19   "
      ]
    },
    {
      "cell_type": "markdown",
      "metadata": {
        "id": "WwqQ7v7yvsyg",
        "colab_type": "text"
      },
      "source": [
        "##Lesson 42 -\tReplacing Items\n",
        "\n",
        "\n",
        "##학습 내용\n",
        "* Array에서 특정 아이템을 변경합니다.\n",
        "\n",
        "\n",
        "##문법\n",
        "\n",
        "\tvariable[본래위치] = 바꿀내용\n",
        "\t\n",
        "\n",
        "## 연습\n",
        "\n",
        "\tmyarray = np.array([[1,2,3,4,5], [6,7,8,9,10]])\n",
        "\tmyarray[1,1] = 100\n",
        "\n",
        "\n",
        "\n",
        "##코딩 부분"
      ]
    },
    {
      "cell_type": "code",
      "metadata": {
        "id": "e0neLe5Ov6Zn",
        "colab_type": "code",
        "colab": {
          "base_uri": "https://localhost:8080/",
          "height": 54
        },
        "outputId": "2a9bc95a-0a80-4085-b92a-f7d5e1233387"
      },
      "source": [
        "import numpy as np\n",
        "\n",
        "myarray = np.array([[1,2,3,4,5], [6,7,8,9,10]])\n",
        "myarray[1,1] = 100\n",
        "print (myarray)"
      ],
      "execution_count": 8,
      "outputs": [
        {
          "output_type": "stream",
          "text": [
            "[[  1   2   3   4   5]\n",
            " [  6 100   8   9  10]]\n"
          ],
          "name": "stdout"
        }
      ]
    },
    {
      "cell_type": "markdown",
      "metadata": {
        "id": "eturjMSLwEtW",
        "colab_type": "text"
      },
      "source": [
        "##Lesson 43 -\tCreating Arrays with 0s, 1s , & Others\n",
        "\n",
        "\n",
        "##학습 내용\n",
        "* 모두 0으로된 1로된 또는 다른 숫자로 된 Array를 만들어 본다.\n",
        "\n",
        "\n",
        "##문법\n",
        "\n",
        "\tnp.zeros(shape)\n",
        "\tnp.ones(shape)\n",
        "\tnp.full( (shape), 통일된 아이템)\n",
        "\n",
        "## 연습\n",
        "\n",
        "\t# 0 3개로 된 array\n",
        "\t np.zeros(3)\n",
        "\t# 1 2X3개로 된 array\n",
        "\t np.oness([2,3])\n",
        "\t# 5 3X3 개로 된 array\n",
        "\t np.full([3,3], 5)\n",
        "\n",
        "\n",
        "##코딩 부분"
      ]
    },
    {
      "cell_type": "code",
      "metadata": {
        "id": "5GAdZrckwO9-",
        "colab_type": "code",
        "colab": {}
      },
      "source": [
        "import numpy as np\n",
        "print (np.zeros(3))\n",
        "print (np.zeros([2,3]))\n",
        "print (np.zeros([3,3]))\n",
        "\n",
        "print (np.ones(3))\n",
        "print (np.ones([2,3]))\n",
        "print (np.ones([3,3]))\n",
        "\n",
        "print (np.full(3, 5))\n",
        "print (np.full([2,3], 5))\n",
        "print (np.full([3,3], 5))\n"
      ],
      "execution_count": 0,
      "outputs": []
    },
    {
      "cell_type": "markdown",
      "metadata": {
        "id": "Jn6V-ywDwUC4",
        "colab_type": "text"
      },
      "source": [
        "##Lesson 44 - Creating Arrays with Random Numbers\n",
        "\n",
        "\n",
        "##학습 내용\n",
        "* 랜덤 인테저나 플롯으로 된 array를 생성해 본다.\n",
        "\n",
        "\n",
        "##문법\n",
        "\n",
        "\tnp.random.rand(shape)\t        #float\n",
        "\tnp.random.randint(shape)\t     #integer\n",
        "\n",
        "## 연습\n",
        "\n",
        "\t# 3X3 random float\n",
        "\t np.random.rand(3,3)\n",
        "\t# 3X3 random integer\n",
        "\t np.random.randint(최소숫자, 최대숫자-1, size =(3,3))\n",
        "\n",
        "##주의\n",
        "* 이 부분은 아래 에디터로는 되지 않아서 주피터 노트북에서 다음과 같이 한다\n",
        "\n",
        "##코딩 부분"
      ]
    },
    {
      "cell_type": "code",
      "metadata": {
        "id": "uQqAmD9pxaHi",
        "colab_type": "code",
        "colab": {}
      },
      "source": [
        "np.random.rand(3,3)"
      ],
      "execution_count": 0,
      "outputs": []
    },
    {
      "cell_type": "markdown",
      "metadata": {
        "id": "3KT29UFOxnsx",
        "colab_type": "text"
      },
      "source": [
        "* Random Integer Arrays"
      ]
    },
    {
      "cell_type": "code",
      "metadata": {
        "id": "qKn52uG-xoor",
        "colab_type": "code",
        "outputId": "c06f13bb-1319-4c10-f730-f46505485aec",
        "colab": {
          "base_uri": "https://localhost:8080/",
          "height": 73
        }
      },
      "source": [
        "np.random.randint(1,9, size=(3,3))"
      ],
      "execution_count": 0,
      "outputs": [
        {
          "output_type": "execute_result",
          "data": {
            "text/plain": [
              "array([[1, 6, 5],\n",
              "       [8, 6, 1],\n",
              "       [6, 2, 5]])"
            ]
          },
          "metadata": {
            "tags": []
          },
          "execution_count": 34
        }
      ]
    },
    {
      "cell_type": "markdown",
      "metadata": {
        "id": "1Ow0rHX3x0Vq",
        "colab_type": "text"
      },
      "source": [
        "##Lesson 45,\tMethods for Creating Arrays\n",
        "\n",
        "\n",
        "##학습 내용\n",
        "* Identity Matrix 를 배웁니다.\n",
        "* 반복하는 Matrix를 만들어 봅니다.\n",
        "\n",
        "##문법\n",
        "\n",
        "\tnp.identity(행렬사이즈) # 예를 들어 3이다 하면 3X3 행렬에 대각선으로 1,1,1 이 있는 매트릭스를 만듭니다.\n",
        "\n",
        "## 연습\n",
        "\n",
        "\tnp.identity(3)\n",
        "\tnp.repeat(var, 차원)\n",
        "\t\n",
        "##주의\n",
        "* 아이덴티티 매트릭스는 행과 열의 숫자가 항상 같습니다. 2X2, 3X3, 4X4\n",
        "\n",
        "##코딩 부분"
      ]
    },
    {
      "cell_type": "code",
      "metadata": {
        "id": "jfjgpyhoysqv",
        "colab_type": "code",
        "colab": {}
      },
      "source": [
        "import numpy as np\n",
        "print (np.identity(3))"
      ],
      "execution_count": 0,
      "outputs": []
    },
    {
      "cell_type": "code",
      "metadata": {
        "id": "zvDERXWxytgA",
        "colab_type": "code",
        "colab": {}
      },
      "source": [
        "myarray = np.array([[1,2,3]])\n",
        "rep = np.repeat(myarray,3, axis=0)\n",
        "print (rep)"
      ],
      "execution_count": 0,
      "outputs": []
    },
    {
      "cell_type": "markdown",
      "metadata": {
        "id": "CrGGlQx1zLE1",
        "colab_type": "text"
      },
      "source": [
        "\n",
        "##학습 내용\n",
        "* np.copy() 메소드를 배웁니다.\n",
        "* np.eye() 메소드를 배웁니다  (identity matrix와 같음) \n",
        "* np.empty() 메소드를 배웁니다.\n",
        "* np.like() 메소드를 배웁니다.\n",
        "* np.linspace() 메소들르 배웁니다.\n",
        "\n",
        "\n",
        "##문법\n",
        "\n",
        "\tmyarray.copy()\n",
        "\tnp.eye(행렬수)\n",
        "\tnp.empty(행,렬)\n",
        "\t\n",
        "\tnp.zeros_like\t# 기존 array의 차원을 본 뜬 0 행렬을 만듭니다.\n",
        "\tnp.ones_like\t# 기존 array의 차원을 본 뜬 1 행렬을 만듭니다.\n",
        "\t\n",
        "\tnp.linspace(시작, 끝, 나누기갯수)\t#시작부터 끝까지 사이를 나누기 갯수만큼 균등하게 나누어 줍니다.\t\t\n",
        "\n",
        "\n",
        "## 연습\n",
        "\n",
        "\ta = np.array([1,2,3])\n",
        "\tb = a.copy()\n",
        "\tprint (b)\n",
        "\n",
        "##주의\n",
        "* 일부는 주피터노트북에서 연습해 보겠습니다.\n",
        "\n",
        "##코딩 부분"
      ]
    },
    {
      "cell_type": "code",
      "metadata": {
        "id": "-KDgk-V1zObB",
        "colab_type": "code",
        "outputId": "2a55695a-3bcc-46bc-f7f4-43e635975a4e",
        "colab": {
          "base_uri": "https://localhost:8080/",
          "height": 288
        }
      },
      "source": [
        "import numpy as np\n",
        "\n",
        "\n",
        "a = np.array([[1,2,3],[1,2,30]])\n",
        "b = a.copy()\n",
        "print (b)\n",
        "\n",
        "print (np.empty(3,3))\n",
        "\n",
        "print (np.linspace(0,10,4))\n"
      ],
      "execution_count": 0,
      "outputs": [
        {
          "output_type": "stream",
          "text": [
            "[[ 1  2  3]\n",
            " [ 1  2 30]]\n"
          ],
          "name": "stdout"
        },
        {
          "output_type": "error",
          "ename": "TypeError",
          "evalue": "ignored",
          "traceback": [
            "\u001b[0;31m---------------------------------------------------------------------------\u001b[0m",
            "\u001b[0;31mTypeError\u001b[0m                                 Traceback (most recent call last)",
            "\u001b[0;32m<ipython-input-35-888c5c767ee2>\u001b[0m in \u001b[0;36m<module>\u001b[0;34m()\u001b[0m\n\u001b[1;32m      6\u001b[0m \u001b[0mprint\u001b[0m \u001b[0;34m(\u001b[0m\u001b[0mb\u001b[0m\u001b[0;34m)\u001b[0m\u001b[0;34m\u001b[0m\u001b[0;34m\u001b[0m\u001b[0m\n\u001b[1;32m      7\u001b[0m \u001b[0;34m\u001b[0m\u001b[0m\n\u001b[0;32m----> 8\u001b[0;31m \u001b[0mprint\u001b[0m \u001b[0;34m(\u001b[0m\u001b[0mnp\u001b[0m\u001b[0;34m.\u001b[0m\u001b[0mempty\u001b[0m\u001b[0;34m(\u001b[0m\u001b[0;36m3\u001b[0m\u001b[0;34m,\u001b[0m\u001b[0;36m3\u001b[0m\u001b[0;34m)\u001b[0m\u001b[0;34m)\u001b[0m\u001b[0;34m\u001b[0m\u001b[0;34m\u001b[0m\u001b[0m\n\u001b[0m\u001b[1;32m      9\u001b[0m \u001b[0;34m\u001b[0m\u001b[0m\n\u001b[1;32m     10\u001b[0m \u001b[0mprint\u001b[0m \u001b[0;34m(\u001b[0m\u001b[0mnp\u001b[0m\u001b[0;34m.\u001b[0m\u001b[0mlinspace\u001b[0m\u001b[0;34m(\u001b[0m\u001b[0;36m0\u001b[0m\u001b[0;34m,\u001b[0m\u001b[0;36m10\u001b[0m\u001b[0;34m,\u001b[0m\u001b[0;36m4\u001b[0m\u001b[0;34m)\u001b[0m\u001b[0;34m)\u001b[0m\u001b[0;34m\u001b[0m\u001b[0;34m\u001b[0m\u001b[0m\n",
            "\u001b[0;31mTypeError\u001b[0m: data type not understood"
          ]
        }
      ]
    },
    {
      "cell_type": "markdown",
      "metadata": {
        "id": "MolzLXnGzZ_D",
        "colab_type": "text"
      },
      "source": [
        "###내용\n",
        "\n",
        "* np.eye() 메소드를 배웁니다  (identity matrix와 같음) \n",
        "* np.zeros_like\t# 기존 array의 차원을 본 뜬 0 행렬을 만듭니다.\n",
        "* np.ones_like\t# 기존 array의 차원을 본 뜬 1 행렬을 만듭니다.\n",
        "* np.arrange(시작점, 끝점, 단계)\t# 예를 들어 0, 5, 1이라면 0부터 4까지 1씩 올라가면서 array 생성"
      ]
    },
    {
      "cell_type": "code",
      "metadata": {
        "id": "nuCPAsVCzbL2",
        "colab_type": "code",
        "colab": {}
      },
      "source": [
        "a = np.eye(3)\n",
        "print (a)\n",
        "        \n",
        "print (np.zeros_like(a))\n",
        "print (np.ones_like(a))\n",
        "print (np.arrange(0, 10, 2))"
      ],
      "execution_count": 0,
      "outputs": []
    },
    {
      "cell_type": "markdown",
      "metadata": {
        "id": "XK00WryXLbsG",
        "colab_type": "text"
      },
      "source": [
        "\t##Lesson 46 -\tBasic Arithmetics\n",
        "\t\n",
        "  \n",
        "  \n",
        "  \n",
        "  \n",
        "  \n",
        "  \n",
        " "
      ]
    },
    {
      "cell_type": "markdown",
      "metadata": {
        "id": "t122LWvHL8J3",
        "colab_type": "text"
      },
      "source": [
        "\n",
        "##학습 내용\n",
        "* 기본적인 수학 학습을 해봅니다.\n",
        "* 요소별로 더하기 빼기 곱하기 등이 가능합니다.\n",
        "* 두 개의 array를 더해 주고 뺄 수 있습니다.\n",
        "* 각 array의 삼각함수 값도 구할 수 있다. \n",
        "\n",
        "##문법\n",
        "\n",
        "    a = np.array([1,2,3])\n",
        "    a + 2 = [3,4,5]\n",
        "    a * 2 = [2,4,6]\n",
        "    a - 2 = [-1,0,1]\n",
        "    a / 2 = [0.5. 1., 1.5]\n",
        "    a % 2 = [1, 0, 1]\n",
        "\n",
        "    b = np.array([4,5,6,])\n",
        "    a + b = [5. 7. 9]\n",
        "    a - b = [-3,-3, -3]\n",
        "\n",
        "    np.cos(a) = [ 0.54030231 -0.41614684 -0.9899925 ]\n",
        "    np.sin(a) = [0.84147098 0.90929743 0.14112001]\n",
        "\n",
        "\n",
        "\n",
        "## 연습\n",
        "\n",
        "    a = np.array([1,2,3])\n",
        "    print (a)\n",
        "    print (a + 2) \n",
        "    print (a * 2)\n",
        "    print (a - 2)\n",
        "    print (a / 2) \n",
        "    print (a % 2)\n",
        "\n",
        "    b = np.array([4,5,6,])\n",
        "    print (a + b)\n",
        "    print (a - b)\n",
        "\n",
        "    print (np.cos(a))\n",
        "    print (np.sin(a))\n",
        "\n",
        "\n",
        "\n",
        "##코딩 부분"
      ]
    },
    {
      "cell_type": "code",
      "metadata": {
        "id": "57zAdYX1SSxT",
        "colab_type": "code",
        "colab": {
          "base_uri": "https://localhost:8080/",
          "height": 199
        },
        "outputId": "328c695a-224d-4c72-f77f-62e5be5e1c79"
      },
      "source": [
        "import numpy as np\n",
        "a = np.array([1,2,3])\n",
        "print (a)\n",
        "print (a + 2) \n",
        "print (a * 2)\n",
        "print (a - 2)\n",
        "print (a / 2) \n",
        "print (a % 2)\n",
        "\n",
        "b = np.array([4,5,6,])\n",
        "print (a + b)\n",
        "print (a - b)\n",
        "\n",
        "print (np.cos(a))\n",
        "print (np.sin(a))"
      ],
      "execution_count": 5,
      "outputs": [
        {
          "output_type": "stream",
          "text": [
            "[1 2 3]\n",
            "[3 4 5]\n",
            "[2 4 6]\n",
            "[-1  0  1]\n",
            "[0.5 1.  1.5]\n",
            "[1 0 1]\n",
            "[5 7 9]\n",
            "[-3 -3 -3]\n",
            "[ 0.54030231 -0.41614684 -0.9899925 ]\n",
            "[0.84147098 0.90929743 0.14112001]\n"
          ],
          "name": "stdout"
        }
      ]
    },
    {
      "cell_type": "markdown",
      "metadata": {
        "id": "F6lt8GelimVm",
        "colab_type": "text"
      },
      "source": [
        "##학습 내용\n",
        "* 행렬의 기초적인 내용을 해보겠습니다.\n",
        "\n",
        "\n",
        "## 연습\n",
        "\n",
        "*행렬 myarray1이 다음과 같고\n",
        "\n",
        "    1.1.1\n",
        "    1.1,1\n",
        "\n",
        "* 행렬 myarray가 다음과 같다면\n",
        "\n",
        "    3,3\n",
        "    3,3\n",
        "    3,3\n",
        "\n",
        "* my array1 X my array 2 행렬을 곱하면 ㄱ 자 모양으로 하죠\n",
        "* 따라서 첫 번째 것의 열수와 두번째 것의 행수가 같아야 합니다.\n",
        "* myarray1 * myarray2 하면 에러가 발생합니다.\n",
        "* matrix multiplication method를 써서 np.matmul(myarray1,myarray2)로 하면 곱해 집니다. \n",
        "\n",
        "\n",
        "\n",
        "  \n",
        "\n",
        "\n",
        "##코딩 부분"
      ]
    },
    {
      "cell_type": "code",
      "metadata": {
        "id": "y3Rxmtt4Jx8F",
        "colab_type": "code",
        "colab": {
          "base_uri": "https://localhost:8080/",
          "height": 145
        },
        "outputId": "6d03e36e-4b00-4407-b8e7-37fd85b0a9a6"
      },
      "source": [
        "import numpy as np\n",
        "myarray1 =np.ones((2,3))\n",
        "print (myarray1)\n",
        "\n",
        "myarray2 = np.full((3,2),3)\n",
        "print (myarray2)\n",
        "\n",
        "np.matmul(myarray1,myarray2)"
      ],
      "execution_count": 8,
      "outputs": [
        {
          "output_type": "stream",
          "text": [
            "[[1. 1. 1.]\n",
            " [1. 1. 1.]]\n",
            "[[3 3]\n",
            " [3 3]\n",
            " [3 3]]\n"
          ],
          "name": "stdout"
        },
        {
          "output_type": "execute_result",
          "data": {
            "text/plain": [
              "array([[9., 9.],\n",
              "       [9., 9.]])"
            ]
          },
          "metadata": {
            "tags": []
          },
          "execution_count": 8
        }
      ]
    },
    {
      "cell_type": "markdown",
      "metadata": {
        "id": "m10J1PinLq5n",
        "colab_type": "text"
      },
      "source": [
        "## Lesson 47,\tMethods for Statistics\n",
        "\n",
        "\n",
        "##학습 내용\n",
        "* 평균, 최소, 최대 값 등을 찾는 메소드를 배워 봅니다.\n",
        "\n",
        "##문법\n",
        "\n",
        "\t# 최소값\n",
        "\tnp.min(어레이변수명)\n",
        "\t# 최대값\n",
        "\tnp.max(어레이변수명)\n",
        "\t# 평균값\n",
        "\tnp.mean(어레이변수명)\n",
        "\t# 참조로 axis = 0는 x축만 있는 것, axis=1 은 x,y축 axis=2는 x,y,z축 \n",
        "\n",
        "\n",
        "## 연습\n",
        "\n",
        "\timport random\n",
        "\tmyarray = np.random.rand(3,3)\n",
        "\tprint (myarray)\n",
        "\n",
        "\tprint (np.min(myarray, axis = 0))   # 각 열 별로 가장 작은 숫자들로 된 어레이 만듬\n",
        "\tprint (np.max(myarray, axis = 0))   # 각 열 별로  가장 큰 숫자들로 된 어레이 만듬\n",
        "\tprint (np.mean(myarray, axis = 0))  # 각 열별 평균 값으로 된 어레이 만듬\n",
        "\n",
        "*axis를 빼면 하나의 최소, 최대, 평균 값을 냄\n",
        "\n",
        "\tprint (np.min(myarray)) \n",
        "\tprint (np.max(myarray)) \n",
        "\tprint (np.mean(myarray))\n",
        "\n",
        "* sum을 하면 전체 요소의 합이 나옵니다. \n",
        "* 또한 axix를 넣어주면 열 당 합이 나옵니다.\n",
        "\n",
        "##코딩 부분"
      ]
    },
    {
      "cell_type": "code",
      "metadata": {
        "id": "7O7u6lf0SrWK",
        "colab_type": "code",
        "colab": {
          "base_uri": "https://localhost:8080/",
          "height": 217
        },
        "outputId": "4c941e33-96a6-4332-a037-6c35e2cb8608"
      },
      "source": [
        "import random\n",
        "myarray = np.random.rand(3,3)\n",
        "print (myarray)\n",
        "\n",
        "print (np.min(myarray, axis = 0)) \n",
        "print (np.max(myarray, axis = 0)) \n",
        "print (np.mean(myarray, axis = 0)) \n",
        "\n",
        "print (np.min(myarray)) \n",
        "print (np.max(myarray)) \n",
        "print (np.mean(myarray)) \n",
        "\n",
        "print (np.sum(myarray))\n",
        "print (np.sum(myarray, axis =0))"
      ],
      "execution_count": 32,
      "outputs": [
        {
          "output_type": "stream",
          "text": [
            "[[0.68306577 0.94462707 0.0588831 ]\n",
            " [0.97987172 0.67566824 0.44680154]\n",
            " [0.36737345 0.14534275 0.67323941]]\n",
            "[0.36737345 0.14534275 0.0588831 ]\n",
            "[0.97987172 0.94462707 0.67323941]\n",
            "[0.67677031 0.58854602 0.39297468]\n",
            "0.058883096209843\n",
            "0.9798717180723114\n",
            "0.5527636717626894\n",
            "4.9748730458642045\n",
            "[2.03031094 1.76563806 1.17892404]\n"
          ],
          "name": "stdout"
        }
      ]
    },
    {
      "cell_type": "markdown",
      "metadata": {
        "id": "b3Zy-QAnVKCN",
        "colab_type": "text"
      },
      "source": [
        "##\tLesson 48,\tReorganizing Arrays\n",
        "\n",
        "##학습 내용\n",
        "* reshapey() 메소드를 배웁니다.\n",
        "\n",
        "##문법\n",
        "\n",
        "\t어레이변수명.reshape(새로운 모양)\n",
        "\n",
        "\n",
        "## 연습\n",
        "\n",
        "    a = np.array([[1,2,3],[4,5,6]]) # 2X3 array\n",
        "    print (a)\n",
        "\n",
        "    b = a.reshape((3,2))  # 3X2로 변경\n",
        "    print (b)\n",
        "\n",
        "\n",
        "##코딩 부분"
      ]
    },
    {
      "cell_type": "code",
      "metadata": {
        "id": "aQKoIpZBcQsl",
        "colab_type": "code",
        "colab": {
          "base_uri": "https://localhost:8080/",
          "height": 108
        },
        "outputId": "e17d825e-372d-4a09-af27-b484ed8e6f0c"
      },
      "source": [
        "a = np.array([[1,2,3],[4,5,6]]) # 2X3 array\n",
        "print (a)\n",
        "\n",
        "b = a.reshape((3,2)) \n",
        "print (b)\n"
      ],
      "execution_count": 37,
      "outputs": [
        {
          "output_type": "stream",
          "text": [
            "[[1 2 3]\n",
            " [4 5 6]]\n",
            "[[1 2]\n",
            " [3 4]\n",
            " [5 6]]\n"
          ],
          "name": "stdout"
        }
      ]
    },
    {
      "cell_type": "markdown",
      "metadata": {
        "id": "exLlUpSYZLo5",
        "colab_type": "text"
      },
      "source": [
        "##\tLesson 49,\tStacking\n",
        "\n",
        "##학습 내용\n",
        "* np.vstack() 메소드를 배웁니다.\n",
        "* 이는 기존의 어레이 위에 다른 어레이를 vertically 올려서 합하는 메소드입니다.\n",
        "* np.hstack() 메소드를 배웁니다.\n",
        "* 이는 기존의 어레이 위에 다른 어레이를 horizontally 올려서 합하는 메소드입니다.\n",
        "\n",
        "\n",
        "##문법\n",
        "\n",
        "\tnp.vstack(순서)\n",
        "  np.hstack(순서)\n",
        "\n",
        "\n",
        "## 연습\n",
        "\n",
        "    a = np.array([1,2,3])\n",
        "    b = np.array([4,5,6])\n",
        "    c = np.array([7,8,9])\n",
        "\n",
        "    np.vstack([a,b,c])\n",
        "    np.hstack([a,b,c])\n",
        "\n",
        "##코딩 부분"
      ]
    },
    {
      "cell_type": "code",
      "metadata": {
        "id": "RA5oUBjId-JW",
        "colab_type": "code",
        "colab": {
          "base_uri": "https://localhost:8080/",
          "height": 72
        },
        "outputId": "6dac2df2-0e30-4156-a694-c04ed084ebd2"
      },
      "source": [
        "a = np.array([1,2,3])\n",
        "b = np.array([4,5,6])\n",
        "c = np.array([7,8,9])\n",
        "\n",
        "np.vstack([a,b,c])"
      ],
      "execution_count": 42,
      "outputs": [
        {
          "output_type": "execute_result",
          "data": {
            "text/plain": [
              "array([[1, 2, 3],\n",
              "       [4, 5, 6],\n",
              "       [7, 8, 9]])"
            ]
          },
          "metadata": {
            "tags": []
          },
          "execution_count": 42
        }
      ]
    },
    {
      "cell_type": "code",
      "metadata": {
        "id": "qrlT1xWheidI",
        "colab_type": "code",
        "colab": {
          "base_uri": "https://localhost:8080/",
          "height": 35
        },
        "outputId": "2893a883-ee6d-4d65-8140-0ddccee8d2eb"
      },
      "source": [
        "a = np.array([1,2,3])\n",
        "b = np.array([4,5,6])\n",
        "c = np.array([7,8,9])\n",
        "\n",
        "np.hstack([a,b,c])"
      ],
      "execution_count": 43,
      "outputs": [
        {
          "output_type": "execute_result",
          "data": {
            "text/plain": [
              "array([1, 2, 3, 4, 5, 6, 7, 8, 9])"
            ]
          },
          "metadata": {
            "tags": []
          },
          "execution_count": 43
        }
      ]
    },
    {
      "cell_type": "markdown",
      "metadata": {
        "id": "mJUBpApoeqw4",
        "colab_type": "text"
      },
      "source": [
        "* 순서를 바꾸어도 됩니다."
      ]
    },
    {
      "cell_type": "code",
      "metadata": {
        "id": "wwoGkSWAevv8",
        "colab_type": "code",
        "colab": {
          "base_uri": "https://localhost:8080/",
          "height": 72
        },
        "outputId": "665b5b52-c67a-4ed3-9b79-5478ef09e618"
      },
      "source": [
        "a = np.array([1,2,3])\n",
        "b = np.array([4,5,6])\n",
        "c = np.array([7,8,9])\n",
        "\n",
        "np.vstack([b,a,c])"
      ],
      "execution_count": 44,
      "outputs": [
        {
          "output_type": "execute_result",
          "data": {
            "text/plain": [
              "array([[4, 5, 6],\n",
              "       [1, 2, 3],\n",
              "       [7, 8, 9]])"
            ]
          },
          "metadata": {
            "tags": []
          },
          "execution_count": 44
        }
      ]
    },
    {
      "cell_type": "code",
      "metadata": {
        "id": "F4dr_T7qev8Z",
        "colab_type": "code",
        "colab": {
          "base_uri": "https://localhost:8080/",
          "height": 35
        },
        "outputId": "242243eb-c34c-4273-8ab3-87528194c1fa"
      },
      "source": [
        "a = np.array([1,2,3])\n",
        "b = np.array([4,5,6])\n",
        "c = np.array([7,8,9])\n",
        "\n",
        "np.hstack([c,a,b])"
      ],
      "execution_count": 45,
      "outputs": [
        {
          "output_type": "execute_result",
          "data": {
            "text/plain": [
              "array([7, 8, 9, 1, 2, 3, 4, 5, 6])"
            ]
          },
          "metadata": {
            "tags": []
          },
          "execution_count": 45
        }
      ]
    },
    {
      "cell_type": "markdown",
      "metadata": {
        "id": "jRgX3FJte_-0",
        "colab_type": "text"
      },
      "source": [
        "* 반복해서 쌓아도 됩니다."
      ]
    },
    {
      "cell_type": "code",
      "metadata": {
        "id": "pzYsMDPpfFp0",
        "colab_type": "code",
        "colab": {
          "base_uri": "https://localhost:8080/",
          "height": 72
        },
        "outputId": "ab35d4a0-43fc-4e6f-bc37-fd6347bb16b1"
      },
      "source": [
        "a = np.array([1,2,3])\n",
        "b = np.array([4,5,6])\n",
        "c = np.array([7,8,9])\n",
        "\n",
        "np.vstack([a,a,a])"
      ],
      "execution_count": 46,
      "outputs": [
        {
          "output_type": "execute_result",
          "data": {
            "text/plain": [
              "array([[1, 2, 3],\n",
              "       [1, 2, 3],\n",
              "       [1, 2, 3]])"
            ]
          },
          "metadata": {
            "tags": []
          },
          "execution_count": 46
        }
      ]
    },
    {
      "cell_type": "code",
      "metadata": {
        "id": "wSBfG3fyfF3-",
        "colab_type": "code",
        "colab": {
          "base_uri": "https://localhost:8080/",
          "height": 35
        },
        "outputId": "13902afd-eae9-4c57-8d02-6e670083ec96"
      },
      "source": [
        "a = np.array([1,2,3])\n",
        "b = np.array([4,5,6])\n",
        "c = np.array([7,8,9])\n",
        "\n",
        "np.hstack([a,a,a,b,b,c])"
      ],
      "execution_count": 47,
      "outputs": [
        {
          "output_type": "execute_result",
          "data": {
            "text/plain": [
              "array([1, 2, 3, 1, 2, 3, 1, 2, 3, 4, 5, 6, 4, 5, 6, 7, 8, 9])"
            ]
          },
          "metadata": {
            "tags": []
          },
          "execution_count": 47
        }
      ]
    },
    {
      "cell_type": "markdown",
      "metadata": {
        "id": "pzATZM21ZNke",
        "colab_type": "text"
      },
      "source": [
        "##\tLesson 50 - \tMethods for Handling Data\t\n",
        "\n",
        "##학습 내용\n",
        "* 파일에 있는 데이터를 읽어와서 array를 생성하는 방법을 배웁니다.\n",
        "\n",
        "##문법\n",
        "\n",
        "\tnp.genfromtxt('samplenp.txt', delimiter = ',')\n",
        "\n",
        "\n",
        "## 연습\n",
        "\n",
        "\t제가 메모장에\n",
        "    1,2,3,4,5\n",
        "    6,7,8,9,10\n",
        "    11,12,13,14,15\n",
        "  라고 입력하여 파일을 만들어 놓았습니다.\n",
        "  이를 임포트하고 읽어와서 어레이로 만듭니다.\n",
        "\n",
        "\n",
        "##코딩 부분"
      ]
    },
    {
      "cell_type": "code",
      "metadata": {
        "id": "4u5dgr__hmCh",
        "colab_type": "code",
        "colab": {
          "resources": {
            "http://localhost:8080/nbextensions/google.colab/files.js": {
              "data": "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",
              "ok": true,
              "headers": [
                [
                  "content-type",
                  "application/javascript"
                ]
              ],
              "status": 200,
              "status_text": ""
            }
          },
          "base_uri": "https://localhost:8080/",
          "height": 133
        },
        "outputId": "a9b6475d-cf79-4388-d5cd-0967fd63f264"
      },
      "source": [
        "#colab으로 import\n",
        "from google.colab import files\n",
        "uploaded = files.upload()\n",
        "\n",
        "# 읽어 오기\n",
        "a = np.genfromtxt('samplenp.txt', delimiter = ',')\n",
        "print (a)"
      ],
      "execution_count": 50,
      "outputs": [
        {
          "output_type": "display_data",
          "data": {
            "text/html": [
              "\n",
              "     <input type=\"file\" id=\"files-baca48e3-cffa-4ea6-8856-807e0c83208d\" name=\"files[]\" multiple disabled />\n",
              "     <output id=\"result-baca48e3-cffa-4ea6-8856-807e0c83208d\">\n",
              "      Upload widget is only available when the cell has been executed in the\n",
              "      current browser session. Please rerun this cell to enable.\n",
              "      </output>\n",
              "      <script src=\"/nbextensions/google.colab/files.js\"></script> "
            ],
            "text/plain": [
              "<IPython.core.display.HTML object>"
            ]
          },
          "metadata": {
            "tags": []
          }
        },
        {
          "output_type": "stream",
          "text": [
            "Saving samplenp.txt to samplenp (1).txt\n",
            "[[ 1.  2.  3.  4.  5.]\n",
            " [ 6.  7.  8.  9. 10.]\n",
            " [11. 12. 13. 14. 15.]]\n"
          ],
          "name": "stdout"
        }
      ]
    },
    {
      "cell_type": "markdown",
      "metadata": {
        "id": "cKV7mpani_gm",
        "colab_type": "text"
      },
      "source": [
        "\n",
        "##학습 내용\n",
        "* 앞에서 불러온 파일에서 인덱싱을 합니다.\n",
        "\n",
        "##문법\n",
        "\n",
        "\tnp.any(조건)   - 조건이 충족하면 True 아니면 False, axis를 추가하면 전체적으로 True, False 반환\n",
        "\n",
        "\n",
        "\n",
        "## 연습\n",
        "\n",
        "\tnp.any(a>5)\n",
        "\n",
        "\n",
        "##코딩 부분"
      ]
    },
    {
      "cell_type": "code",
      "metadata": {
        "id": "E0fAqyy4j4Z_",
        "colab_type": "code",
        "colab": {
          "base_uri": "https://localhost:8080/",
          "height": 35
        },
        "outputId": "29f7869e-eb67-41d4-d277-a68033d17539"
      },
      "source": [
        "np.any(a>5)\n"
      ],
      "execution_count": 53,
      "outputs": [
        {
          "output_type": "execute_result",
          "data": {
            "text/plain": [
              "True"
            ]
          },
          "metadata": {
            "tags": []
          },
          "execution_count": 53
        }
      ]
    },
    {
      "cell_type": "code",
      "metadata": {
        "id": "XK8MEo2TkK_w",
        "colab_type": "code",
        "colab": {
          "base_uri": "https://localhost:8080/",
          "height": 35
        },
        "outputId": "8ba0ec8a-4eeb-457e-ceaa-cb49ede26f3c"
      },
      "source": [
        "np.any(a>20)"
      ],
      "execution_count": 54,
      "outputs": [
        {
          "output_type": "execute_result",
          "data": {
            "text/plain": [
              "False"
            ]
          },
          "metadata": {
            "tags": []
          },
          "execution_count": 54
        }
      ]
    },
    {
      "cell_type": "code",
      "metadata": {
        "id": "P_otqGPUkXfU",
        "colab_type": "code",
        "colab": {
          "base_uri": "https://localhost:8080/",
          "height": 35
        },
        "outputId": "efb3fef0-02c2-4e77-e713-6cd669a9efc3"
      },
      "source": [
        "np.any(a>5, axis =0)  #첫 줄에 대한 아이템별 True/False"
      ],
      "execution_count": 57,
      "outputs": [
        {
          "output_type": "execute_result",
          "data": {
            "text/plain": [
              "array([ True,  True,  True,  True,  True])"
            ]
          },
          "metadata": {
            "tags": []
          },
          "execution_count": 57
        }
      ]
    },
    {
      "cell_type": "code",
      "metadata": {
        "id": "jI3YF9gzk_qt",
        "colab_type": "code",
        "colab": {
          "base_uri": "https://localhost:8080/",
          "height": 35
        },
        "outputId": "545edc52-92ce-46ad-d01d-446aa1fbe37e"
      },
      "source": [
        "np.any(a>5, axis =1)  # 각 행별 True/False"
      ],
      "execution_count": 58,
      "outputs": [
        {
          "output_type": "execute_result",
          "data": {
            "text/plain": [
              "array([False,  True,  True])"
            ]
          },
          "metadata": {
            "tags": []
          },
          "execution_count": 58
        }
      ]
    },
    {
      "cell_type": "markdown",
      "metadata": {
        "id": "9fmM0IfolxVl",
        "colab_type": "text"
      },
      "source": [
        ""
      ]
    },
    {
      "cell_type": "markdown",
      "metadata": {
        "id": "heuOKBgis3vy",
        "colab_type": "text"
      },
      "source": [
        "#Part 4 Matplotlib\n",
        "* Matplotlib는 Python 2D 플로팅 라이브러리입니다. Matplotlib은 Python 스크립트, Python 및 IPython 쉘, Jupyter 노트북 등에서 사용할 수 있습니다.\n"
      ]
    },
    {
      "cell_type": "markdown",
      "metadata": {
        "id": "aP_rH6QCtEIH",
        "colab_type": "text"
      },
      "source": [
        "## Lesson 51 - import하기\n",
        "\n",
        "####matplotlib.pyplotlib을 plt로써 임포트 합니다\n",
        "\n",
        "* %matplotlib inline은 그래프를 보기 위한 명령어라 생각하시면 됩니다. "
      ]
    },
    {
      "cell_type": "code",
      "metadata": {
        "id": "sbXP4Y0xtLSS",
        "colab_type": "code",
        "colab": {}
      },
      "source": [
        "import numpy as np\n",
        "import matplotlib.pyplot as plt\n",
        "%matplotlib inline"
      ],
      "execution_count": 0,
      "outputs": []
    },
    {
      "cell_type": "markdown",
      "metadata": {
        "id": "xqP8cM7ctRsi",
        "colab_type": "text"
      },
      "source": [
        "## Lesson 52 - 데이터 넣기\n",
        "\n",
        "\n",
        "####여기서는 대단한 것을 할 것이 아니라 원리만 배우니까 간단한 것으로 해 보겠습니다.\n",
        "\n",
        "* 기간을 2015, 2016, 2017, 2018, 2019로 하고\n",
        "* 배추 값이  4000, 4200, 3800, 3700, 4100 이었다고 가정해서 넣습니다.\n",
        "* 무우 값이  같은 기간에 2300, 2400, 2200, 2300, 2400 이었다고 하고 만들어 보겠습니다.\n",
        "* 이를 리스트로 만들어 보죠"
      ]
    },
    {
      "cell_type": "code",
      "metadata": {
        "id": "fbY50zyjtZxG",
        "colab_type": "code",
        "colab": {}
      },
      "source": [
        "baechu = [4000, 4200, 3800, 3700, 4100]\n",
        "moo = [2300, 2400, 2200, 2300, 2400]\n",
        "year = [2015, 2016, 2017, 2018, 2019]"
      ],
      "execution_count": 0,
      "outputs": []
    },
    {
      "cell_type": "markdown",
      "metadata": {
        "id": "a70dUUS5tjAk",
        "colab_type": "text"
      },
      "source": [
        "##Lesson 53 - 축 만들고 라벨 넣기\n",
        "\n",
        "####우선 양 축을 만들어 보죠"
      ]
    },
    {
      "cell_type": "code",
      "metadata": {
        "id": "FGA6cMOltg1X",
        "colab_type": "code",
        "colab": {
          "base_uri": "https://localhost:8080/",
          "height": 301
        },
        "outputId": "ea1e1d77-f4b5-4955-8dc5-9b32f960902b"
      },
      "source": [
        "plt.xlabel('Year')\n",
        "plt.ylabel('Price')\n",
        "plt.show"
      ],
      "execution_count": 61,
      "outputs": [
        {
          "output_type": "execute_result",
          "data": {
            "text/plain": [
              "<function matplotlib.pyplot.show>"
            ]
          },
          "metadata": {
            "tags": []
          },
          "execution_count": 61
        },
        {
          "output_type": "display_data",
          "data": {
            "image/png": "[encoded data removed]",
            "text/plain": [
              "<Figure size 432x288 with 1 Axes>"
            ]
          },
          "metadata": {
            "tags": []
          }
        }
      ]
    },
    {
      "cell_type": "markdown",
      "metadata": {
        "id": "r60QkkJptsVQ",
        "colab_type": "text"
      },
      "source": [
        "####축이 0부터 1까지네요. 확장해 보도록 하겠습니다.\n",
        "* x축은 2014부터 2020까지\n",
        "* y축은 0원부터 5천원까지로 만들어 보겠습니다."
      ]
    },
    {
      "cell_type": "code",
      "metadata": {
        "id": "k8TgrT0Etg6l",
        "colab_type": "code",
        "colab": {
          "base_uri": "https://localhost:8080/",
          "height": 301
        },
        "outputId": "d2d9a023-82d2-49b6-a315-cb135d9f6a17"
      },
      "source": [
        "plt.xlabel('Year')\n",
        "plt.ylabel('Price')\n",
        "plt.xlim(2014,2020)\n",
        "plt.ylim(0,5000)\n",
        "plt.show"
      ],
      "execution_count": 62,
      "outputs": [
        {
          "output_type": "execute_result",
          "data": {
            "text/plain": [
              "<function matplotlib.pyplot.show>"
            ]
          },
          "metadata": {
            "tags": []
          },
          "execution_count": 62
        },
        {
          "output_type": "display_data",
          "data": {
            "image/png": "[encoded data removed]",
            "text/plain": [
              "<Figure size 432x288 with 1 Axes>"
            ]
          },
          "metadata": {
            "tags": []
          }
        }
      ]
    },
    {
      "cell_type": "markdown",
      "metadata": {
        "id": "4dPw9XSNt1c5",
        "colab_type": "text"
      },
      "source": [
        "## Lesson 54 - Line Plot 만들기\n",
        "\n",
        "*배추 무우 값을 넣어서 출력해 봅니다.\n",
        "\n",
        "####플롯 출력"
      ]
    },
    {
      "cell_type": "code",
      "metadata": {
        "id": "WVwKawjat5nR",
        "colab_type": "code",
        "colab": {
          "base_uri": "https://localhost:8080/",
          "height": 301
        },
        "outputId": "f40953ef-c060-4c45-9f23-f52a32d127e4"
      },
      "source": [
        "plt.xlabel('Year')\n",
        "plt.ylabel('Price')\n",
        "plt.xlim(2014,2020)\n",
        "plt.ylim(0,5000)\n",
        "baechu = [4000, 4200, 3800, 3700, 4100]\n",
        "moo = [2300, 2400, 2200, 2300, 2400]\n",
        "year = [2015, 2016, 2017, 2018, 2019]\n",
        "plt.plot(year,baechu)\n",
        "plt.plot(year,moo)\n",
        "plt.show"
      ],
      "execution_count": 63,
      "outputs": [
        {
          "output_type": "execute_result",
          "data": {
            "text/plain": [
              "<function matplotlib.pyplot.show>"
            ]
          },
          "metadata": {
            "tags": []
          },
          "execution_count": 63
        },
        {
          "output_type": "display_data",
          "data": {
            "image/png": "[encoded data removed]",
            "text/plain": [
              "<Figure size 432x288 with 1 Axes>"
            ]
          },
          "metadata": {
            "tags": []
          }
        }
      ]
    },
    {
      "cell_type": "markdown",
      "metadata": {
        "id": "Que-_IfDt_ln",
        "colab_type": "text"
      },
      "source": [
        "## Lesson 55 - Scattered Chart 만들기\n",
        "\n",
        "#### 라인차트를 해보았으니 scattered chart로 만들어 보겠습니다.\n",
        "\n",
        "* plot 대신에 scatter를 넣습니다.\n",
        "\n",
        "\t\tplt.scatter(year,baechu)\n",
        "\t\tplt.scatter(year,moo)\n",
        "\t\tplt.show"
      ]
    },
    {
      "cell_type": "code",
      "metadata": {
        "id": "wk3W8o_RuOTD",
        "colab_type": "code",
        "colab": {
          "base_uri": "https://localhost:8080/",
          "height": 301
        },
        "outputId": "eee34c35-f5f0-4ff0-e2af-caebca838a4b"
      },
      "source": [
        "import matplotlib.pyplot as plt\n",
        "\n",
        "plt.xlabel('Year')\n",
        "plt.ylabel('Price')\n",
        "plt.xlim(2014,2020)\n",
        "plt.ylim(0,5000)\n",
        "baechu = [4000, 4200, 3800, 3700, 4100]\n",
        "moo = [2300, 2400, 2200, 2300, 2400]\n",
        "year = [2015, 2016, 2017, 2018, 2019]\n",
        "plt.scatter(year,baechu)\n",
        "plt.scatter(year,moo)\n",
        "plt.show"
      ],
      "execution_count": 64,
      "outputs": [
        {
          "output_type": "execute_result",
          "data": {
            "text/plain": [
              "<function matplotlib.pyplot.show>"
            ]
          },
          "metadata": {
            "tags": []
          },
          "execution_count": 64
        },
        {
          "output_type": "display_data",
          "data": {
            "image/png": "[encoded data removed]",
            "text/plain": [
              "<Figure size 432x288 with 1 Axes>"
            ]
          },
          "metadata": {
            "tags": []
          }
        }
      ]
    },
    {
      "cell_type": "markdown",
      "metadata": {
        "id": "jrtRAeoXuSPE",
        "colab_type": "text"
      },
      "source": [
        "## Lesson 56 - 색깔 바꾸기\n",
        "\n",
        "####plot인 상태에서 색깔을 바꾸어 봅니다.\n",
        "\n",
        "* 'b', 'g', 'r', 'c', 'm', 'y', 'k', 'w'으로 컬러를 바꾸어 봅니다.\n",
        "* 이 이외에도 숫자로 지정할 수도 있으나 여기서는 간단히 위에 목록에 있는 것으로만 해봅니다.\n",
        "* 플롯을 하나로 뭉친 후 컬러를 줍니다.\n",
        "\n",
        "\t\tplt.plot(year,baechu, 'r', year, moo, 'g')\n",
        "\n",
        "* 배추는 red, 무우는 green으로 plot color가 변합니다.\n",
        "* 추가적인 컬러 정보는 여기서 확인하세요 \n",
        "[컬러정보](https://matplotlib.org/3.1.1/tutorials/colors/colors.html)\n",
        "\n",
        "        plt.xlabel('Year')\n",
        "        plt.ylabel('Price')\n",
        "        plt.xlim(2014,2020)\n",
        "        plt.ylim(0,5000)\n",
        "        baechu = [4000, 4200, 3800, 3700, 4100]\n",
        "        moo = [2300, 2400, 2200, 2300, 2400]\n",
        "        year = [2015, 2016, 2017, 2018, 2019]\n",
        "        plt.plot(year,baechu, 'r', year, moo, 'g')\n",
        "        plt.show"
      ]
    },
    {
      "cell_type": "code",
      "metadata": {
        "id": "VelAGUUIufAw",
        "colab_type": "code",
        "colab": {
          "base_uri": "https://localhost:8080/",
          "height": 301
        },
        "outputId": "0da25ea3-05e6-4f5a-9e0d-037ab30554ab"
      },
      "source": [
        "import matplotlib.pyplot as plt\n",
        "\n",
        "plt.xlabel('Year')\n",
        "plt.ylabel('Price')\n",
        "plt.xlim(2014,2020)\n",
        "plt.ylim(0,5000)\n",
        "baechu = [4000, 4200, 3800, 3700, 4100]\n",
        "moo = [2300, 2400, 2200, 2300, 2400]\n",
        "year = [2015, 2016, 2017, 2018, 2019]\n",
        "plt.plot(year,baechu, 'r', year, moo, 'g')\n",
        "plt.show"
      ],
      "execution_count": 65,
      "outputs": [
        {
          "output_type": "execute_result",
          "data": {
            "text/plain": [
              "<function matplotlib.pyplot.show>"
            ]
          },
          "metadata": {
            "tags": []
          },
          "execution_count": 65
        },
        {
          "output_type": "display_data",
          "data": {
            "image/png": "[encoded data removed]",
            "text/plain": [
              "<Figure size 432x288 with 1 Axes>"
            ]
          },
          "metadata": {
            "tags": []
          }
        }
      ]
    },
    {
      "cell_type": "markdown",
      "metadata": {
        "id": "ZQ6nv0kMumww",
        "colab_type": "text"
      },
      "source": [
        "## Lesson 57 - 라인 두께 바꾸기\n",
        "\n",
        "####이제 그래프의 라인의 두께를 설정해 줍니다\n",
        "\n",
        "* linewidth = 5.0 이런 식을 우측에 넣어 봅니다.\n",
        "\n",
        "\t\tplt.plot(year,baechu, 'r', year, moo, 'g', linewidth = 5.0)\n",
        "\n",
        "\n",
        "\n",
        "\n",
        "        plt.xlabel('Year')\n",
        "        plt.ylabel('Price')\n",
        "        plt.xlim(2014,2020)\n",
        "        plt.ylim(0,5000)\n",
        "        baechu = [4000, 4200, 3800, 3700, 4100]\n",
        "        moo = [2300, 2400, 2200, 2300, 2400]\n",
        "        year = [2015, 2016, 2017, 2018, 2019]\n",
        "        plt.plot(year,baechu, 'r', year, moo, 'g', linewidth = 5.0)\n",
        "        plt.show\n"
      ]
    },
    {
      "cell_type": "code",
      "metadata": {
        "id": "aKWBdu0nus5i",
        "colab_type": "code",
        "colab": {
          "base_uri": "https://localhost:8080/",
          "height": 301
        },
        "outputId": "0fb67530-2b9b-4574-9c67-9387f32a8af9"
      },
      "source": [
        "import matplotlib.pyplot as plt\n",
        "\n",
        "plt.xlabel('Year')\n",
        "plt.ylabel('Price')\n",
        "plt.xlim(2014,2020)\n",
        "plt.ylim(0,5000)\n",
        "baechu = [4000, 4200, 3800, 3700, 4100]\n",
        "moo = [2300, 2400, 2200, 2300, 2400]\n",
        "year = [2015, 2016, 2017, 2018, 2019]\n",
        "plt.plot(year,baechu, 'r', year, moo, 'g', linewidth = 5.0)\n",
        "plt.show"
      ],
      "execution_count": 66,
      "outputs": [
        {
          "output_type": "execute_result",
          "data": {
            "text/plain": [
              "<function matplotlib.pyplot.show>"
            ]
          },
          "metadata": {
            "tags": []
          },
          "execution_count": 66
        },
        {
          "output_type": "display_data",
          "data": {
            "image/png": "[encoded data removed]",
            "text/plain": [
              "<Figure size 432x288 with 1 Axes>"
            ]
          },
          "metadata": {
            "tags": []
          }
        }
      ]
    },
    {
      "cell_type": "markdown",
      "metadata": {
        "id": "bjUs8CBbuw-M",
        "colab_type": "text"
      },
      "source": [
        "## Lesson 58 - 라인 스타일 바꾸기\n",
        "\n",
        "####이제 그래프의 라인의 스타일을 설정해 줍니다\n",
        "\n",
        "* linestyles = ['-', '--', '-.', ':']\n",
        "\n",
        "\t\tplt.plot(year,baechu, 'r', year, moo, 'g', linewidth = 5.0, linestyle = '--')\n",
        "\n",
        "* 추가적인 스타일 정보는 여기서 확인하세요  \n",
        "[Line Style](https://matplotlib.org/gallery/lines_bars_and_markers/line_styles_reference.html)\n",
        "\n",
        "\n",
        "\n",
        "\n",
        "        plt.xlabel('Year')\n",
        "        plt.ylabel('Price')\n",
        "        plt.xlim(2014,2020)\n",
        "        plt.ylim(0,5000)\n",
        "        baechu = [4000, 4200, 3800, 3700, 4100]\n",
        "        moo = [2300, 2400, 2200, 2300, 2400]\n",
        "        year = [2015, 2016, 2017, 2018, 2019]\n",
        "        plt.plot(year,baechu, 'r', year, moo, 'g', linewidth = 5.0, linestyle = '--')\n",
        "        plt.show\n"
      ]
    },
    {
      "cell_type": "code",
      "metadata": {
        "id": "foNMb1VWwFHz",
        "colab_type": "code",
        "colab": {
          "base_uri": "https://localhost:8080/",
          "height": 301
        },
        "outputId": "3688f542-a38d-49d9-d9dd-ebc00323aaa8"
      },
      "source": [
        "import matplotlib.pyplot as plt\n",
        "\n",
        "plt.xlabel('Year')\n",
        "plt.ylabel('Price')\n",
        "plt.xlim(2014,2020)\n",
        "plt.ylim(0,5000)\n",
        "baechu = [4000, 4200, 3800, 3700, 4100]\n",
        "moo = [2300, 2400, 2200, 2300, 2400]\n",
        "year = [2015, 2016, 2017, 2018, 2019]\n",
        "plt.plot(year,baechu, 'r', year, moo, 'g', linewidth = 5.0, linestyle = '--')\n",
        "plt.show"
      ],
      "execution_count": 67,
      "outputs": [
        {
          "output_type": "execute_result",
          "data": {
            "text/plain": [
              "<function matplotlib.pyplot.show>"
            ]
          },
          "metadata": {
            "tags": []
          },
          "execution_count": 67
        },
        {
          "output_type": "display_data",
          "data": {
            "image/png": "[encoded data removed]",
            "text/plain": [
              "<Figure size 432x288 with 1 Axes>"
            ]
          },
          "metadata": {
            "tags": []
          }
        }
      ]
    },
    {
      "cell_type": "markdown",
      "metadata": {
        "id": "7VoH9bm4wHcS",
        "colab_type": "text"
      },
      "source": [
        "## Lesson 59 -  Subplot 만들어 보기\n",
        "\n",
        "* Matplotlib에서 \n",
        "figure는 그림을 그리는 캔바스라 생각하시고 \n",
        "plt.subplot은 이를 구분해서 나누는 것이라 생각하시면 됩니다.\n",
        "plt.subplots(1,2,figsize=(12,6))이라고 되어 있다면\n",
        "아래 서브 플롯을 1행 2열, 즉 2개 그리는 것이고 전체 사이즈는 12인치 * 6인치라고 생각하시면 됩니다. \n",
        "3X3으로 9개를 그린다면 위의 1,2 대신 3,3,을 넣으면 되겠지요\n",
        "\n",
        "* figure안에 axes로 그림 그리는 공간을 만들고 \n",
        "axix (축)에 y와 x축을 넣으면 됩니다.\n",
        "\n",
        "* subplot의 문법을 보겠습니다.\n",
        "\n",
        "      axes = plt.subplots(행수, 열수, figsize=(너비인치, 높이인치))"
      ]
    },
    {
      "cell_type": "code",
      "metadata": {
        "id": "TizX0uGTwWCt",
        "colab_type": "code",
        "colab": {
          "base_uri": "https://localhost:8080/",
          "height": 378
        },
        "outputId": "756d981c-c10f-4148-aae0-844e389f2ff5"
      },
      "source": [
        "axes = plt.subplots(1,2, figsize=(12,6))"
      ],
      "execution_count": 68,
      "outputs": [
        {
          "output_type": "display_data",
          "data": {
            "image/png": "[encoded data removed]",
            "text/plain": [
              "<Figure size 864x432 with 2 Axes>"
            ]
          },
          "metadata": {
            "tags": []
          }
        }
      ]
    },
    {
      "cell_type": "markdown",
      "metadata": {
        "id": "Hy5RFDfpwbo_",
        "colab_type": "text"
      },
      "source": [
        "* 위와 같이 가로 2열, 세로 1행인 서브 플롯이 만들어졌다.\n",
        "* 2 X 2 로 만들어 보자"
      ]
    },
    {
      "cell_type": "code",
      "metadata": {
        "id": "zCGchFfZwe3g",
        "colab_type": "code",
        "colab": {
          "base_uri": "https://localhost:8080/",
          "height": 378
        },
        "outputId": "d7778038-0eb4-4879-e388-89258b463181"
      },
      "source": [
        "ax = plt.subplots(2,2, figsize=(12,6))"
      ],
      "execution_count": 69,
      "outputs": [
        {
          "output_type": "display_data",
          "data": {
            "image/png": "[encoded data removed]",
            "text/plain": [
              "<Figure size 864x432 with 4 Axes>"
            ]
          },
          "metadata": {
            "tags": []
          }
        }
      ]
    },
    {
      "cell_type": "markdown",
      "metadata": {
        "id": "ZsugwewJwjQa",
        "colab_type": "text"
      },
      "source": [
        "* 위와 같이 4개가 생성되어 있음을 볼 수 있습니다.\n",
        "\n",
        "*인덱싱 위치는\n",
        "\n",
        "      0,0      0,1\n",
        "      \n",
        "      1,0      1,1 \n",
        "\n",
        "라는 것을 아실 수 있을 것입니다.\n",
        "\n",
        "*아래와 같이 subplot을 생성할 수도 있습니다."
      ]
    },
    {
      "cell_type": "code",
      "metadata": {
        "id": "siWcmW80wmRq",
        "colab_type": "code",
        "colab": {
          "base_uri": "https://localhost:8080/",
          "height": 378
        },
        "outputId": "49af2788-f322-48c8-c54b-e1a0c6dc2ecf"
      },
      "source": [
        "fig1 = plt.figure(1, figsize=(12,6))\n",
        "sub1 = fig1.add_subplot(121)    # 121은 1행 2열의 1번째를 나타내며\n",
        "sub2 = fig1.add_subplot(122)    # 122는 1행 2열의 2번째를 나타낸다."
      ],
      "execution_count": 70,
      "outputs": [
        {
          "output_type": "display_data",
          "data": {
            "image/png": "[encoded data removed]",
            "text/plain": [
              "<Figure size 864x432 with 2 Axes>"
            ]
          },
          "metadata": {
            "tags": []
          }
        }
      ]
    },
    {
      "cell_type": "markdown",
      "metadata": {
        "id": "5B8oFX3IwqiW",
        "colab_type": "text"
      },
      "source": [
        "* 여기에 내용을 넣어 본다."
      ]
    },
    {
      "cell_type": "code",
      "metadata": {
        "id": "s8awWzpqwr0k",
        "colab_type": "code",
        "colab": {
          "base_uri": "https://localhost:8080/",
          "height": 392
        },
        "outputId": "a69c49d1-03ba-4e07-b6c4-6049c465b9c9"
      },
      "source": [
        "fig1 = plt.figure(1, figsize=(12,6))\n",
        "sub1 = fig1.add_subplot(121)    \n",
        "sub2 = fig1.add_subplot(122)   \n",
        "\n",
        "sub1.plot(year, baechu)\n",
        "sub2.plot(year,moo)"
      ],
      "execution_count": 71,
      "outputs": [
        {
          "output_type": "execute_result",
          "data": {
            "text/plain": [
              "[<matplotlib.lines.Line2D at 0x7fabb1b4f6a0>]"
            ]
          },
          "metadata": {
            "tags": []
          },
          "execution_count": 71
        },
        {
          "output_type": "display_data",
          "data": {
            "image/png": "[encoded data removed]",
            "text/plain": [
              "<Figure size 864x432 with 2 Axes>"
            ]
          },
          "metadata": {
            "tags": []
          }
        }
      ]
    },
    {
      "cell_type": "markdown",
      "metadata": {
        "id": "_l1fD9Xxw17_",
        "colab_type": "text"
      },
      "source": [
        "* x축 연도 모양이 다르니 다시 손을 보겠습니다.\n",
        "* Tick 을 찾고 포맷하는데 필요 모듈을 임포트 합니다."
      ]
    },
    {
      "cell_type": "code",
      "metadata": {
        "id": "ml4LK5Mew3QH",
        "colab_type": "code",
        "colab": {}
      },
      "source": [
        "from matplotlib.ticker import MaxNLocator"
      ],
      "execution_count": 0,
      "outputs": []
    },
    {
      "cell_type": "code",
      "metadata": {
        "id": "65pPJA7xw8dY",
        "colab_type": "code",
        "colab": {
          "base_uri": "https://localhost:8080/",
          "height": 374
        },
        "outputId": "e25f0ff7-4718-4723-df2f-f53c83249ed9"
      },
      "source": [
        "fig1 = plt.figure(1, figsize=(12,6))\n",
        "\n",
        "\n",
        "sub1 = fig1.add_subplot(121)    \n",
        "sub2 = fig1.add_subplot(122)   \n",
        "\n",
        "sub1.plot(year, baechu)\n",
        "sub1.xaxis.set_major_locator(MaxNLocator(integer=True))\n",
        "\n",
        "\n",
        "sub2.plot(year,moo)\n",
        "sub2.xaxis.set_major_locator(MaxNLocator(integer=True))\n"
      ],
      "execution_count": 73,
      "outputs": [
        {
          "output_type": "display_data",
          "data": {
            "image/png": "[encoded data removed]",
            "text/plain": [
              "<Figure size 864x432 with 2 Axes>"
            ]
          },
          "metadata": {
            "tags": []
          }
        }
      ]
    },
    {
      "cell_type": "markdown",
      "metadata": {
        "id": "4Rgz0C5exBOp",
        "colab_type": "text"
      },
      "source": [
        "* 그래도 가장 많이 쓰이는 방법은 다음과 같습니다.\n",
        "\n",
        "figure이름 (일반적으로 f 정도만 씀), axes(일반적으로 ax 정도만 씀) = plt.subplots(행수, 열수, figsize = (가로인치, 세로인치)\n",
        "\n",
        "* 아래 예를 보시지요\n",
        "\n"
      ]
    },
    {
      "cell_type": "code",
      "metadata": {
        "id": "kpPBMcO1xE2Z",
        "colab_type": "code",
        "colab": {
          "base_uri": "https://localhost:8080/",
          "height": 378
        },
        "outputId": "688bc2cb-667c-42b7-a304-beee40fc662c"
      },
      "source": [
        "f,ax=plt.subplots(1,2,figsize=(12,6)) "
      ],
      "execution_count": 74,
      "outputs": [
        {
          "output_type": "display_data",
          "data": {
            "image/png": "[encoded data removed]",
            "text/plain": [
              "<Figure size 864x432 with 2 Axes>"
            ]
          },
          "metadata": {
            "tags": []
          }
        }
      ]
    },
    {
      "cell_type": "markdown",
      "metadata": {
        "id": "9Zd5JcNYxJuL",
        "colab_type": "text"
      },
      "source": [
        "## Lesson 60 - Subplot에 Title 넣기 등\n",
        "\n",
        "* 아래와 같이 서브플롯에 타이틀, x,y라벨, x,y 수치를 넣고 본 수치를 넣는다."
      ]
    },
    {
      "cell_type": "code",
      "metadata": {
        "id": "cX6DpwR7xQSq",
        "colab_type": "code",
        "colab": {
          "base_uri": "https://localhost:8080/",
          "height": 422
        },
        "outputId": "6b9faab5-0f82-442e-dadd-3140aa07725d"
      },
      "source": [
        "f,ax=plt.subplots(1,2,figsize=(12,6)) \n",
        "ax[0].set_title('Baechu Price')\n",
        "ax[1].set_title('Moo Price')\n",
        "\n",
        "ax[0].set_ylabel('Price') \n",
        "ax[0].set_xlabel('Year') \n",
        "\n",
        "ax[1].set_ylabel('Price') \n",
        "ax[1].set_xlabel('Year')\n",
        "\n",
        "ax[0].set_xlim(2014,2020) \n",
        "ax[0].set_ylim(0,5000) \n",
        "\n",
        "ax[1].set_xlim(2014,2020) \n",
        "ax[1].set_ylim(0,5000) \n",
        "\n",
        "ax[0].scatter(year, baechu) \n",
        "ax[1].scatter(year, moo) "
      ],
      "execution_count": 75,
      "outputs": [
        {
          "output_type": "execute_result",
          "data": {
            "text/plain": [
              "<matplotlib.collections.PathCollection at 0x7fabb18fc908>"
            ]
          },
          "metadata": {
            "tags": []
          },
          "execution_count": 75
        },
        {
          "output_type": "display_data",
          "data": {
            "image/png": "[encoded data removed]",
            "text/plain": [
              "<Figure size 864x432 with 2 Axes>"
            ]
          },
          "metadata": {
            "tags": []
          }
        }
      ]
    },
    {
      "cell_type": "markdown",
      "metadata": {
        "id": "6pvMmTJ7c4jv",
        "colab_type": "text"
      },
      "source": [
        "# Part 5 -  Seaborn 기본 연습 \n",
        "\n",
        "## Lesson 61 - Import하기\n",
        "\n",
        "* Seaborn은 matplotlib를 기반으로 하는 Python visualization Library이며, matplotlib보다 간단하면서 상당히 멋진 통계 데이터 비쥬얼라이제이션 도구입니다.\n",
        "\n",
        "* 우선 import하면서 시작합니다.\n",
        "\n",
        "* Part 6에 나오는 pandas 는 seaborn과 거의 같이 다룬다고 생각하면 되니, 아직 안 배운 pandas 문법이 불쑥 불쑥 나오는 것을 이해 하시기 바랍니다."
      ]
    },
    {
      "cell_type": "code",
      "metadata": {
        "id": "iXZtdXNKdx4a",
        "colab_type": "code",
        "colab": {}
      },
      "source": [
        ""
      ],
      "execution_count": 0,
      "outputs": []
    },
    {
      "cell_type": "markdown",
      "metadata": {
        "id": "sdWpSSIGejjG",
        "colab_type": "text"
      },
      "source": [
        "# Part 7 - Pandas 기본 연습하기"
      ]
    },
    {
      "cell_type": "markdown",
      "metadata": {
        "id": "G8GDAGCrevEs",
        "colab_type": "text"
      },
      "source": [
        "# Part 8 - Scikit-learn 기본 이해 "
      ]
    },
    {
      "cell_type": "markdown",
      "metadata": {
        "id": "ImUy6zeZe39N",
        "colab_type": "text"
      },
      "source": [
        "# Part 9 - Kaggle Titanic 입문"
      ]
    }
  ]
}